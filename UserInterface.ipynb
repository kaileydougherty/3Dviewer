{
 "cells": [
  {
   "cell_type": "markdown",
   "metadata": {},
   "source": [
    "## Borehole Seismic Events - Plotly Tool Development\n",
    "Author: Kailey Dougherty<br>\n",
    "Date created: 19-JAN-2025<br>\n",
    "Date last modified: 29-JUL-2025<br>"
   ]
  },
  {
   "cell_type": "code",
   "execution_count": 60,
   "metadata": {},
   "outputs": [
    {
     "name": "stdout",
     "output_type": "stream",
     "text": [
      "The autoreload extension is already loaded. To reload it, use:\n",
      "  %reload_ext autoreload\n"
     ]
    }
   ],
   "source": [
    "%load_ext autoreload\n",
    "%autoreload 2\n",
    "from MSView import MSPlot\n",
    "from WellView import WellPlot\n",
    "from DASView import DASPlot\n",
    "from VisualizeModel import DataViewer"
   ]
  },
  {
   "cell_type": "code",
   "execution_count": 61,
   "metadata": {},
   "outputs": [
    {
     "name": "stdout",
     "output_type": "stream",
     "text": [
      "Success!\n"
     ]
    }
   ],
   "source": [
    "# MS\n",
    "\n",
    "# Allow the user to input the relative file path for their dataset.\n",
    "MS_filepath = 'data\\\\Borehole_Seismic_Aniso_Events_4H_AllStages_AllEvents_06112019_processed.csv'\n",
    "\n",
    "MSViewer = MSPlot()\n",
    "\n",
    "# Call the method to parse the file.\n",
    "MSViewer.load_csv(MS_filepath)\n",
    "\n",
    "# Set visualization attributes.\n",
    "MSViewer.set_start_time('2019-04-12 04:28:31.161')\n",
    "MSViewer.set_end_time('2019-04-15 5:03:58')\n",
    "MSViewer.set_sizeby('Brune Magnitude')\n",
    "MSViewer.set_colorby('Stage')\n",
    "MSViewer.set_colorscale('Viridis')\n",
    "MSViewer.set_colorbar_range(None)\n",
    "\n",
    "# Create the visualization.\n",
    "MSplot = MSViewer.create_plot()"
   ]
  },
  {
   "cell_type": "code",
   "execution_count": 62,
   "metadata": {},
   "outputs": [
    {
     "name": "stdout",
     "output_type": "stream",
     "text": [
      "Success!\n",
      "transformed_B1H x: 953446.7211349576 to 953979.353510232\n",
      "transformed_B1H y: 848743.981398447 to 856332.3812961797\n",
      "transformed_B1H z: -2877.870016633711 to 8666.084257642051\n",
      "transformed_B2H x: 953818.3581340052 to 954427.5881340052\n",
      "transformed_B2H y: 848405.745181012 to 856133.895181012\n",
      "transformed_B2H z: -3114.8680914563097 to 8547.67190854369\n",
      "transformed_B3H x: 953528.1581340051 to 953846.9381340052\n",
      "transformed_B3H y: 848286.115181012 to 856124.345181012\n",
      "transformed_B3H z: -3114.8680914563097 to 8714.64190854369\n",
      "transformed_B4H x: 952869.7781340051 to 953822.6381340052\n",
      "transformed_B4H y: 848277.625181012 to 856123.395181012\n",
      "transformed_B4H z: -3114.8680914563097 to 8494.14190854369\n"
     ]
    }
   ],
   "source": [
    "# Well trajectories\n",
    "\n",
    "# Allow the user to input the relative file path for their dataset.\n",
    "well_filepath1 = 'data\\\\transformed_B1H.csv'\n",
    "well_filepath2 = 'data\\\\transformed_B2H.csv'\n",
    "well_filepath3 = 'data\\\\transformed_B3H.csv'\n",
    "well_filepath4 = 'data\\\\transformed_B4H.csv'\n",
    "\n",
    "well_filepaths = [well_filepath1, well_filepath2, well_filepath3, well_filepath4]\n",
    "\n",
    "WellViewer = WellPlot()\n",
    "\n",
    "# Call the method to parse the file.\n",
    "WellViewer.load_csv(welltraj_files=well_filepaths)\n",
    "\n",
    "# Set attributes for visualization.\n",
    "WellViewer.set_colors(['red', 'blue', 'green', 'black'])\n",
    "\n",
    "# Create the visualization.\n",
    "well_plot = WellViewer.create_plot()"
   ]
  },
  {
   "cell_type": "code",
   "execution_count": 63,
   "metadata": {},
   "outputs": [
    {
     "name": "stdout",
     "output_type": "stream",
     "text": [
      "Success!\n",
      "Well trajectory distance range: 0 to 87946.3 ft\n",
      "DAS x range: 952898.0153683503 to 953621.9397423011\n",
      "DAS y range: 848639.0457680777 to 856112.7150772689\n",
      "DAS z range: 160.4823281453906 to 8468.14799340696\n",
      "Warning: Signal length (399642222) doesn't match coordinate length (4794)\n",
      "Warning: Signal length (399642222) doesn't match coordinate length (4794)\n"
     ]
    }
   ],
   "source": [
    "# DAS\n",
    "\n",
    "# Allow the user to input the relative file path for their dataset.\n",
    "DAS_filepath = 'data\\\\HFTS2_LFDAS_data\\\\B4_B3_0.1Hz.h5'\n",
    "\n",
    "# Input the local path to JIN_pylib.\n",
    "package_path = '.'\n",
    "\n",
    "DASViewer = DASPlot()\n",
    "\n",
    "# Call the method to load the file.\n",
    "DASViewer.load_h5(pylib=package_path, filepath=DAS_filepath)\n",
    "\n",
    "# Set attributes for visualization.\n",
    "DASViewer.color_scale = 'RdBu'\n",
    "DASViewer.colorbar_range = (-1000, 1000)\n",
    "\n",
    "# Create the visualization with depth offset\n",
    "DASplot = DASViewer.create_plot(well_traj=well_filepath4)\n",
    "DASwaterfall = DASViewer.create_waterfall(starttime='2019-04-15 00:00:00', endtime='2019-04-17 00:00:00')  # FIX make only on callback or set default"
   ]
  },
  {
   "cell_type": "code",
   "execution_count": 68,
   "metadata": {},
   "outputs": [
    {
     "name": "stdout",
     "output_type": "stream",
     "text": [
      "Dash app started\n",
      "Data availability check:\n",
      "  - Microseismic: True\n",
      "  - Wells: True\n",
      "  - DAS viewer: True\n",
      "  - DAS viewer type: <class 'DASView.DASPlot'>\n",
      "DAS time range: 0.0 to 835334.45 (83363 time steps)\n",
      "Registering DAS callbacks for 83363 time steps\n",
      "Data min time: 2019-04-12 04:28:31.161\n",
      "Data max time: 2019-04-21 01:18:26.751\n",
      "Dash app running at http://127.0.0.1:8050\n"
     ]
    },
    {
     "data": {
      "text/html": [
       "\n",
       "        <iframe\n",
       "            width=\"100%\"\n",
       "            height=\"650\"\n",
       "            src=\"http://127.0.0.1:8050/\"\n",
       "            frameborder=\"0\"\n",
       "            allowfullscreen\n",
       "            \n",
       "        ></iframe>\n",
       "        "
      ],
      "text/plain": [
       "<IPython.lib.display.IFrame at 0x2245f5f6dd0>"
      ]
     },
     "metadata": {},
     "output_type": "display_data"
    },
    {
     "name": "stdout",
     "output_type": "stream",
     "text": [
      "DAS time output callback triggered with index: 0\n",
      "DAS SLIDER CALLBACK TRIGGERED - DAS time index: 0\n",
      "Dash callback triggered\n",
      "DAS callback triggered with index: 0\n",
      "DAS time slider moved to index 0, center time value: 0.0\n",
      "Creating waterfall for time range: 0.00 to 86401.69\n",
      "Index range: 0 to 8639 (center: 0)\n",
      "Slider start_time: 2019-04-12 04:28:31.161000\n",
      "Slider end_time: 2019-04-15 04:40:58.565000\n",
      "Updating DAS 3D plot for time index: 0\n",
      "Well trajectory distance range: 0 to 87946.3 ft\n",
      "DAS x range: 952898.0153683503 to 953621.9397423011\n",
      "DAS y range: 848639.0457680777 to 856112.7150772689\n",
      "DAS z range: 160.4823281453906 to 8468.14799340696\n",
      "Using DAS time slice at index 0\n",
      "DAS x range: 952898.0153683503 to 953621.9397423011\n",
      "DAS y range: 848639.0457680777 to 856112.7150772689\n",
      "DAS z range: 160.4823281453906 to 8468.14799340696\n",
      "Using DAS time slice at index 0\n",
      "DAS time output callback triggered with index: 0\n",
      "DAS SLIDER CALLBACK TRIGGERED - DAS time index: 0\n",
      "Dash callback triggered\n",
      "DAS callback triggered with index: 0\n",
      "DAS time slider moved to index 0, center time value: 0.0\n",
      "Creating waterfall for time range: 0.00 to 86401.69\n",
      "Index range: 0 to 8639 (center: 0)\n",
      "Slider start_time: 2019-04-12 04:28:31.161000\n",
      "Slider end_time: 2019-04-15 04:40:58.565000\n",
      "DAS SLIDER CALLBACK TRIGGERED - DAS time index: 0\n",
      "Dash callback triggered\n",
      "DAS time output callback triggered with index: 0\n",
      "DAS SLIDER CALLBACK TRIGGERED - DAS time index: 0\n",
      "Dash callback triggered\n",
      "DAS callback triggered with index: 0\n",
      "DAS time slider moved to index 0, center time value: 0.0\n",
      "Creating waterfall for time range: 0.00 to 86401.69\n",
      "Index range: 0 to 8639 (center: 0)\n",
      "Slider start_time: 2019-04-12 04:28:31.161000\n",
      "Slider end_time: 2019-04-15 04:40:58.565000\n",
      "DAS SLIDER CALLBACK TRIGGERED - DAS time index: 0\n",
      "Dash callback triggered\n",
      "Updating DAS 3D plot for time index: 0\n",
      "Slider start_time: 2019-04-12 04:28:31.161000\n",
      "Slider end_time: 2019-04-15 04:40:58.565000\n",
      "Well trajectory distance range: 0 to 87946.3 ft\n",
      "DAS x range: 952898.0153683503 to 953621.9397423011\n",
      "DAS y range: 848639.0457680777 to 856112.7150772689\n",
      "DAS z range: 160.4823281453906 to 8468.14799340696\n",
      "Using DAS time slice at index 0\n",
      "Updating DAS 3D plot for time index: 0\n",
      "Updating DAS 3D plot for time index: 0\n",
      "Slider start_time: 2019-04-12 04:28:31.161000\n",
      "Slider end_time: 2019-04-15 04:40:58.565000\n",
      "Well trajectory distance range: 0 to 87946.3 ft\n",
      "DAS x range: 952898.0153683503 to 953621.9397423011\n",
      "DAS y range: 848639.0457680777 to 856112.7150772689\n",
      "DAS z range: 160.4823281453906 to 8468.14799340696\n",
      "Using DAS time slice at index 0\n",
      "Updating DAS 3D plot for time index: 0\n",
      "Well trajectory distance range: 0 to 87946.3 ft\n",
      "DAS x range: 952898.0153683503 to 953621.9397423011\n",
      "DAS y range: 848639.0457680777 to 856112.7150772689\n",
      "DAS z range: 160.4823281453906 to 8468.14799340696\n",
      "Using DAS time slice at index 0\n",
      "Well trajectory distance range: 0 to 87946.3 ft\n",
      "DAS x range: 952898.0153683503 to 953621.9397423011\n",
      "DAS y range: 848639.0457680777 to 856112.7150772689\n",
      "DAS z range: 160.4823281453906 to 8468.14799340696\n",
      "Using DAS time slice at index 0\n"
     ]
    }
   ],
   "source": [
    "# Run Dash app\n",
    "\n",
    "viewer = DataViewer(\n",
    "    MS_obj=MSViewer, \n",
    "    well_objs=well_plot, \n",
    "    DAS_obj=DASplot, \n",
    "    DAS_image=DASwaterfall, \n",
    "    DAS_viewer=DASViewer, \n",
    "    well_trajectory_path=well_filepath4)\n",
    "\n",
    "# viewer = DataViewer(well_objs=well_plot)\n",
    "\n",
    "# Set title for visualization.\n",
    "viewer.set_title('2019 Data Seismic and Well Trajectory Viewer')\n",
    "\n",
    "viewer.run_dash_app()"
   ]
  },
  {
   "cell_type": "code",
   "execution_count": null,
   "metadata": {},
   "outputs": [],
   "source": []
  }
 ],
 "metadata": {
  "kernelspec": {
   "display_name": "env",
   "language": "python",
   "name": "python3"
  },
  "language_info": {
   "codemirror_mode": {
    "name": "ipython",
    "version": 3
   },
   "file_extension": ".py",
   "mimetype": "text/x-python",
   "name": "python",
   "nbconvert_exporter": "python",
   "pygments_lexer": "ipython3",
   "version": "3.13.1"
  }
 },
 "nbformat": 4,
 "nbformat_minor": 2
}
