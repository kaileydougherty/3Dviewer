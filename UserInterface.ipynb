{
 "cells": [
  {
   "cell_type": "markdown",
   "metadata": {},
   "source": [
    "## Borehole Seismic Events - Plotly Tool Development\n",
    "Author: Kailey Dougherty<br>\n",
    "Date created: 19-JAN-2025<br>\n",
    "Date last modified: 21-JUL-2025<br>"
   ]
  },
  {
   "cell_type": "code",
   "execution_count": 1,
   "metadata": {},
   "outputs": [],
   "source": [
    "%load_ext autoreload\n",
    "%autoreload 2\n",
    "from MSView import MSPlot\n",
    "from WellView import WellPlot\n",
    "from DASView import DASPlot\n",
    "from VisualizeModel import DataViewer"
   ]
  },
  {
   "cell_type": "code",
   "execution_count": 2,
   "metadata": {},
   "outputs": [
    {
     "name": "stdout",
     "output_type": "stream",
     "text": [
      "Success!\n"
     ]
    }
   ],
   "source": [
    "# MS\n",
    "\n",
    "# Allow the user to input the relative file path for their dataset.\n",
    "MS_filepath = 'data\\\\Borehole_Seismic_Aniso_Events_4H_AllStages_AllEvents_06112019_processed.csv'\n",
    "\n",
    "MSViewer = MSPlot()\n",
    "\n",
    "# Call the method to parse the file.\n",
    "MSViewer.load_csv(MS_filepath)\n",
    "\n",
    "# Set visualization attributes.\n",
    "MSViewer.set_start_time('2019-04-12 04:28:31.161')\n",
    "MSViewer.set_end_time('2019-04-15 5:03:58')\n",
    "MSViewer.set_sizeby('Brune Magnitude')\n",
    "MSViewer.set_colorby('Stage')\n",
    "MSViewer.set_colorscale('Viridis')\n",
    "MSViewer.set_colorbar_range(None)\n",
    "\n",
    "# Create the visualization.\n",
    "MSplot = MSViewer.create_plot()"
   ]
  },
  {
   "cell_type": "code",
   "execution_count": 3,
   "metadata": {},
   "outputs": [
    {
     "name": "stdout",
     "output_type": "stream",
     "text": [
      "Success!\n"
     ]
    }
   ],
   "source": [
    "# Well trajectories\n",
    "\n",
    "# Allow the user to input the relative file path for their dataset.\n",
    "well_filepath1 = 'data\\\\transformed_B1H.csv'\n",
    "well_filepath2 = 'data\\\\transformed_B2H.csv'\n",
    "well_filepath3 = 'data\\\\transformed_B3H.csv'\n",
    "well_filepath4 = 'data\\\\transformed_B4H.csv'\n",
    "\n",
    "well_filepaths = [well_filepath1, well_filepath2, well_filepath3, well_filepath4]\n",
    "\n",
    "WellViewer = WellPlot()\n",
    "\n",
    "# Call the method to parse the file.\n",
    "WellViewer.load_csv(welltraj_files=well_filepaths)\n",
    "\n",
    "# Set attributes for visualization.\n",
    "WellViewer.set_colors(['red', 'blue', 'green', 'black'])\n",
    "\n",
    "# Create the visualization.\n",
    "well_plot = WellViewer.create_plot()"
   ]
  },
  {
   "cell_type": "code",
   "execution_count": 4,
   "metadata": {},
   "outputs": [
    {
     "name": "stdout",
     "output_type": "stream",
     "text": [
      "Success!\n"
     ]
    }
   ],
   "source": [
    "# DAS\n",
    "\n",
    "# Allow the user to input the relative file path for their dataset.\n",
    "DAS_filepath = 'data\\\\HFTS2_LFDAS_data\\\\B4_B3_0.1Hz.h5'\n",
    "\n",
    "# Input the local path to JIN_pylib.\n",
    "package_path = '.'\n",
    "\n",
    "DASViewer = DASPlot()\n",
    "\n",
    "# Call the method to load the file.\n",
    "DASViewer.load_h5(pylib=package_path, filepath=DAS_filepath)\n",
    "\n",
    "# Set attributes for visualization.\n",
    "\n",
    "# Create the visualization.\n",
    "#DASplot = DASViewer.create_plot()\n",
    "DASwaterfall = DASViewer.create_waterfall(starttime='2019-04-15 00:00:00', endtime='2019-04-17 00:00:00')  # make only on callback or set default"
   ]
  },
  {
   "cell_type": "code",
   "execution_count": null,
   "metadata": {},
   "outputs": [
    {
     "name": "stdout",
     "output_type": "stream",
     "text": [
      "Dash app started\n",
      "Data min time: 2019-04-12 04:28:31.161\n",
      "Data max time: 2019-04-21 01:18:26.751\n",
      "Dash app running at http://127.0.0.1:8050\n"
     ]
    },
    {
     "data": {
      "text/html": [
       "\n",
       "        <iframe\n",
       "            width=\"100%\"\n",
       "            height=\"650\"\n",
       "            src=\"http://127.0.0.1:8050/\"\n",
       "            frameborder=\"0\"\n",
       "            allowfullscreen\n",
       "            \n",
       "        ></iframe>\n",
       "        "
      ],
      "text/plain": [
       "<IPython.lib.display.IFrame at 0x24afdb5f620>"
      ]
     },
     "metadata": {},
     "output_type": "display_data"
    },
    {
     "name": "stdout",
     "output_type": "stream",
     "text": [
      "Dash callback triggered\n",
      "Slider start_time: 2019-04-12 04:28:31.161000\n",
      "Slider end_time: 2019-04-15 04:40:58.565000\n"
     ]
    },
    {
     "name": "stderr",
     "output_type": "stream",
     "text": [
      "c:\\Users\\Kailey\\OneDrive - Colorado School of Mines\\work\\research\\3DViewer\\DOUGHERTY_3DViewer2025\\3Dviewer\\VisualizeModel.py:390: FutureWarning:\n",
      "\n",
      "'any' with datetime64 dtypes is deprecated and will raise in a future version. Use (obj != pd.Timestamp(0)).any() instead.\n",
      "\n"
     ]
    },
    {
     "name": "stdout",
     "output_type": "stream",
     "text": [
      "Dash callback triggered\n",
      "Slider start_time: 2019-04-12 04:28:31.161000\n",
      "Slider end_time: 2019-04-15 04:40:58.565000\n"
     ]
    },
    {
     "name": "stderr",
     "output_type": "stream",
     "text": [
      "c:\\Users\\Kailey\\OneDrive - Colorado School of Mines\\work\\research\\3DViewer\\DOUGHERTY_3DViewer2025\\3Dviewer\\VisualizeModel.py:390: FutureWarning:\n",
      "\n",
      "'any' with datetime64 dtypes is deprecated and will raise in a future version. Use (obj != pd.Timestamp(0)).any() instead.\n",
      "\n"
     ]
    }
   ],
   "source": [
    "# Run Dash app\n",
    "\n",
    "viewer = DataViewer(MS_obj=MSViewer, well_objs=well_plot, DAS_image=DASwaterfall)\n",
    "\n",
    "# Set title for visualization.\n",
    "viewer.set_title('2019 Data Seismic and Well Trajectory Viewer')\n",
    "\n",
    "viewer.run_dash_app()"
   ]
  },
  {
   "cell_type": "code",
   "execution_count": null,
   "metadata": {},
   "outputs": [],
   "source": []
  }
 ],
 "metadata": {
  "kernelspec": {
   "display_name": "env",
   "language": "python",
   "name": "python3"
  },
  "language_info": {
   "codemirror_mode": {
    "name": "ipython",
    "version": 3
   },
   "file_extension": ".py",
   "mimetype": "text/x-python",
   "name": "python",
   "nbconvert_exporter": "python",
   "pygments_lexer": "ipython3",
   "version": "3.13.1"
  }
 },
 "nbformat": 4,
 "nbformat_minor": 2
}
