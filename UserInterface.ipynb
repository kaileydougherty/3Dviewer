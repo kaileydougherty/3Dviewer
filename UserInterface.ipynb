{
 "cells": [
  {
   "cell_type": "markdown",
   "metadata": {},
   "source": [
    "## Borehole Seismic Events - Plotly Tool Development\n",
    "Author: Kailey Dougherty<br>\n",
    "Date created: 19-JAN-2025<br>\n",
    "Date last modified: 14-JUL-2025<br>"
   ]
  },
  {
   "cell_type": "code",
   "execution_count": 10,
   "metadata": {},
   "outputs": [
    {
     "name": "stdout",
     "output_type": "stream",
     "text": [
      "The autoreload extension is already loaded. To reload it, use:\n",
      "  %reload_ext autoreload\n"
     ]
    }
   ],
   "source": [
    "%load_ext autoreload\n",
    "%autoreload 2\n",
    "from MSView import MSPlot\n",
    "from WellView import WellPlot\n",
    "from VisualizeModel import DataViewer"
   ]
  },
  {
   "cell_type": "code",
   "execution_count": 11,
   "metadata": {},
   "outputs": [
    {
     "name": "stdout",
     "output_type": "stream",
     "text": [
      "Success!\n"
     ]
    }
   ],
   "source": [
    "# MS\n",
    "\n",
    "# Allow the user to input the relative file path for their dataset.\n",
    "MS_filepath = 'data\\\\Borehole_Seismic_Aniso_Events_4H_AllStages_AllEvents_06112019_processed.csv'\n",
    "\n",
    "MSViewer = MSPlot()\n",
    "\n",
    "# Call the method to parse the file.\n",
    "MSViewer.load_csv(MS_filepath)\n",
    "\n",
    "# Set visualization attributes.\n",
    "MSViewer.set_start_time('2019-04-12 04:28:31.161')\n",
    "MSViewer.set_end_time('2019-04-15 5:03:58')\n",
    "MSViewer.set_sizeby('Brune Magnitude')\n",
    "MSViewer.set_colorby('Stage')\n",
    "MSViewer.set_colorscale('Viridis')\n",
    "MSViewer.set_colorbar_range(None)\n",
    "\n",
    "# Create the visualization.\n",
    "MSplot = MSViewer.create_plot()"
   ]
  },
  {
   "cell_type": "code",
   "execution_count": 12,
   "metadata": {},
   "outputs": [
    {
     "name": "stdout",
     "output_type": "stream",
     "text": [
      "Success!\n"
     ]
    }
   ],
   "source": [
    "# Well trajectories\n",
    "\n",
    "# Allow the user to input the relative file path for their dataset.\n",
    "well_filepath1 = 'data\\\\transformed_B1H.csv'\n",
    "well_filepath2 = 'data\\\\transformed_B2H.csv'\n",
    "well_filepath3 = 'data\\\\transformed_B3H.csv'\n",
    "well_filepath4 = 'data\\\\transformed_B4H.csv'\n",
    "\n",
    "well_filepaths = [well_filepath1, well_filepath2, well_filepath3, well_filepath4]\n",
    "\n",
    "WellViewer = WellPlot()\n",
    "\n",
    "# Call the method to parse the file.\n",
    "WellViewer.load_csv(welltraj_files=well_filepaths)\n",
    "\n",
    "# Set attributes for visualization.\n",
    "WellViewer.set_colors(['red', 'blue', 'green', 'black'])\n",
    "\n",
    "# Create the visualization.\n",
    "well_plot = WellViewer.create_plot()"
   ]
  },
  {
   "cell_type": "code",
   "execution_count": null,
   "metadata": {},
   "outputs": [
    {
     "name": "stdout",
     "output_type": "stream",
     "text": [
      "Dash app started\n",
      "Data min time: 2019-04-12 04:28:31.161\n",
      "Data max time: 2019-04-21 01:18:26.751\n",
      "Dash app running at http://127.0.0.1:8050\n"
     ]
    },
    {
     "data": {
      "text/html": [
       "\n",
       "        <iframe\n",
       "            width=\"100%\"\n",
       "            height=\"650\"\n",
       "            src=\"http://127.0.0.1:8050/\"\n",
       "            frameborder=\"0\"\n",
       "            allowfullscreen\n",
       "            \n",
       "        ></iframe>\n",
       "        "
      ],
      "text/plain": [
       "<IPython.lib.display.IFrame at 0x2777d9d7ce0>"
      ]
     },
     "metadata": {},
     "output_type": "display_data"
    },
    {
     "name": "stdout",
     "output_type": "stream",
     "text": [
      "Dash callback triggered\n",
      "Slider start_time: 2019-04-12 04:28:31.161000\n",
      "Slider end_time: 2019-04-15 04:40:58.565000\n"
     ]
    },
    {
     "name": "stderr",
     "output_type": "stream",
     "text": [
      "c:\\Users\\Kailey\\OneDrive - Colorado School of Mines\\work\\research\\3DViewer\\DOUGHERTY_3DViewer2025\\3Dviewer\\VisualizeModel.py:350: FutureWarning:\n",
      "\n",
      "'any' with datetime64 dtypes is deprecated and will raise in a future version. Use (obj != pd.Timestamp(0)).any() instead.\n",
      "\n"
     ]
    },
    {
     "name": "stdout",
     "output_type": "stream",
     "text": [
      "Dash callback triggered\n",
      "Slider start_time: 2019-04-12 04:28:31.161000\n",
      "Slider end_time: 2019-04-15 04:40:58.565000\n"
     ]
    },
    {
     "name": "stderr",
     "output_type": "stream",
     "text": [
      "c:\\Users\\Kailey\\OneDrive - Colorado School of Mines\\work\\research\\3DViewer\\DOUGHERTY_3DViewer2025\\3Dviewer\\VisualizeModel.py:350: FutureWarning:\n",
      "\n",
      "'any' with datetime64 dtypes is deprecated and will raise in a future version. Use (obj != pd.Timestamp(0)).any() instead.\n",
      "\n"
     ]
    }
   ],
   "source": [
    "# Run Dash app\n",
    "\n",
    "viewer = DataViewer(MS_obj=MSViewer, well_objs=well_plot)\n",
    "\n",
    "# Set title for visualization.\n",
    "viewer.set_title('2019 Data Seismic and Well Trajectory Viewer')\n",
    "\n",
    "viewer.run_dash_app()"
   ]
  },
  {
   "cell_type": "code",
   "execution_count": null,
   "metadata": {},
   "outputs": [],
   "source": []
  }
 ],
 "metadata": {
  "kernelspec": {
   "display_name": "env",
   "language": "python",
   "name": "python3"
  },
  "language_info": {
   "codemirror_mode": {
    "name": "ipython",
    "version": 3
   },
   "file_extension": ".py",
   "mimetype": "text/x-python",
   "name": "python",
   "nbconvert_exporter": "python",
   "pygments_lexer": "ipython3",
   "version": "3.13.1"
  }
 },
 "nbformat": 4,
 "nbformat_minor": 2
}
