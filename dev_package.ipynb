{
 "cells": [
  {
   "cell_type": "markdown",
   "metadata": {},
   "source": [
    "## Borehole Seismic Events - Plotly Tool Development\n",
    "Author: Kailey Dougherty<br>\n",
    "Date created: 19-JAN-2025<br>\n",
    "Date last modified: 29-JAN-2025<br>"
   ]
  },
  {
   "cell_type": "code",
   "execution_count": 1,
   "metadata": {},
   "outputs": [],
   "source": [
    "%load_ext autoreload\n",
    "%autoreload 2\n",
    "from MSView import MSViewer"
   ]
  },
  {
   "cell_type": "markdown",
   "metadata": {},
   "source": [
    "Input your relative file path to load and parse the given dataset."
   ]
  },
  {
   "cell_type": "code",
   "execution_count": 2,
   "metadata": {},
   "outputs": [
    {
     "name": "stderr",
     "output_type": "stream",
     "text": [
      "<>:3: SyntaxWarning: invalid escape sequence '\\B'\n",
      "<>:3: SyntaxWarning: invalid escape sequence '\\B'\n",
      "C:\\Users\\Kailey\\AppData\\Local\\Temp\\ipykernel_6356\\1754300278.py:3: SyntaxWarning: invalid escape sequence '\\B'\n",
      "  file_path = 'data\\Borehole_Seismic_Aniso_Events_4H_AllStages_AllEvents_06112019.csv'\n"
     ]
    },
    {
     "name": "stdout",
     "output_type": "stream",
     "text": [
      "Success!\n"
     ]
    },
    {
     "data": {
      "application/vnd.plotly.v1+json": {
       "config": {
        "plotlyServerURL": "https://plot.ly"
       },
       "data": [
        {
         "marker": {
          "color": [
           -2.7719,
           -2.7308,
           -2.6466,
           -2.6511,
           -2.5596,
           -2.3474,
           -2.2195,
           -2.0328,
           -2.3894,
           -2.0987,
           -2.467,
           -2.3244,
           -1.9739,
           -2.0747,
           -2.474,
           -2.7391,
           -2.2053,
           -2.5615,
           -2.3553,
           -2.5949,
           -2.5984,
           -2.7145,
           -2.5445,
           -1.8073,
           -2.2061,
           -2.296,
           -2.42,
           -2.459,
           -1.6189,
           -2.087,
           -2.698,
           -2.4125,
           -2.6312,
           -2.1208,
           -2.0672,
           -2.5322,
           -2.606,
           -2.1187,
           -2.0576,
           -2.0245,
           -1.7866,
           -2.2947,
           -2.8024,
           -2.2432,
           -2.5326,
           -2.5809,
           -2.3437,
           -2.5831,
           -2.5445,
           -2.6313,
           -2.4916,
           -2.4035,
           -2.6585,
           -2.0779,
           -2.9802,
           -2.1464,
           -2.7189,
           -2.4955,
           -2.1677,
           -2.5079,
           -2.3273,
           -2.7968,
           -2.6497,
           -2.4884,
           -2.5161,
           -2.7598,
           -2.5439,
           -2.7712,
           -1.9996,
           -2.7811,
           -2.1164,
           -2.6019,
           -2.3101,
           -2.6462,
           -2.4965,
           -2.3673,
           -2.5692,
           -2.577,
           -2.6671,
           -2.765,
           -2.7661,
           -2.3933,
           -2.524,
           -2.3499,
           -2.4742,
           -2.6142,
           -2.9217,
           -2.5754,
           -2.5828,
           -2.5695,
           -2.7654,
           -2.7085,
           -2.8764,
           -2.8152,
           -2.4675,
           -2.6218,
           -2.7827,
           -2.7549,
           -2.4369,
           -2.59,
           -2.5434
          ],
          "colorbar": {
           "title": {
            "text": "Brune Magnitude"
           }
          },
          "colorscale": [
           [
            0,
            "#440154"
           ],
           [
            0.1111111111111111,
            "#482878"
           ],
           [
            0.2222222222222222,
            "#3e4989"
           ],
           [
            0.3333333333333333,
            "#31688e"
           ],
           [
            0.4444444444444444,
            "#26828e"
           ],
           [
            0.5555555555555556,
            "#1f9e89"
           ],
           [
            0.6666666666666666,
            "#35b779"
           ],
           [
            0.7777777777777778,
            "#6ece58"
           ],
           [
            0.8888888888888888,
            "#b5de2b"
           ],
           [
            1,
            "#fde725"
           ]
          ],
          "size": [
           277.19,
           273.08,
           264.65999999999997,
           265.11,
           255.96,
           234.73999999999998,
           221.95,
           203.28,
           238.94000000000003,
           209.87,
           246.70000000000002,
           232.43999999999997,
           197.39,
           207.47,
           247.40000000000003,
           273.91,
           220.52999999999997,
           256.15000000000003,
           235.53000000000003,
           259.49,
           259.84,
           271.45,
           254.45000000000002,
           180.73,
           220.61,
           229.6,
           242,
           245.9,
           161.89,
           208.70000000000002,
           269.8,
           241.25,
           263.12,
           212.08,
           206.72000000000003,
           253.22,
           260.59999999999997,
           211.87,
           205.76,
           202.45000000000002,
           178.66,
           229.47000000000003,
           280.24,
           224.32,
           253.26,
           258.09000000000003,
           234.37,
           258.31,
           254.45000000000002,
           263.13,
           249.16,
           240.35000000000002,
           265.85,
           207.79000000000002,
           298.02,
           214.64,
           271.89,
           249.54999999999998,
           216.76999999999998,
           250.79,
           232.73000000000002,
           279.68,
           264.97,
           248.84,
           251.60999999999999,
           275.97999999999996,
           254.39,
           277.12,
           199.96,
           278.11,
           211.64000000000001,
           260.19,
           231.01,
           264.62,
           249.65,
           236.73000000000002,
           256.92,
           257.7,
           266.71,
           276.5,
           276.60999999999996,
           239.32999999999998,
           252.4,
           234.98999999999998,
           247.42000000000002,
           261.41999999999996,
           292.17,
           257.54,
           258.28000000000003,
           256.95,
           276.54,
           270.84999999999997,
           287.64,
           281.52,
           246.74999999999997,
           262.18,
           278.27000000000004,
           275.49,
           243.69,
           259,
           254.34
          ],
          "sizemode": "diameter",
          "sizeref": 25
         },
         "mode": "markers",
         "text": [
          "File: HFTS2_20190412_042831_040<br>Stage: 1<br>Magnitude: -2.77",
          "File: HFTS2_20190412_042832_040<br>Stage: 1<br>Magnitude: -2.73",
          "File: HFTS2_20190412_042833_040<br>Stage: 1<br>Magnitude: -2.65",
          "File: HFTS2_20190412_042835_040<br>Stage: 1<br>Magnitude: -2.65",
          "File: HFTS2_20190412_043437_040<br>Stage: 1<br>Magnitude: -2.56",
          "File: HFTS2_20190412_043802_040<br>Stage: 1<br>Magnitude: -2.35",
          "File: HFTS2_20190412_043803_040<br>Stage: 1<br>Magnitude: -2.22",
          "File: HFTS2_20190412_044156_040<br>Stage: 1<br>Magnitude: -2.03",
          "File: HFTS2_20190412_044403_040<br>Stage: 1<br>Magnitude: -2.39",
          "File: HFTS2_20190412_044404_040<br>Stage: 1<br>Magnitude: -2.10",
          "File: HFTS2_20190412_044435_040_Merged<br>Stage: 1<br>Magnitude: -2.47",
          "File: HFTS2_20190412_044506_040<br>Stage: 1<br>Magnitude: -2.32",
          "File: HFTS2_20190412_044516_040<br>Stage: 1<br>Magnitude: -1.97",
          "File: HFTS2_20190412_044521_040<br>Stage: 1<br>Magnitude: -2.07",
          "File: HFTS2_20190412_044522_040<br>Stage: 1<br>Magnitude: -2.47",
          "File: HFTS2_20190412_044526_040<br>Stage: 1<br>Magnitude: -2.74",
          "File: HFTS2_20190412_044540_040<br>Stage: 1<br>Magnitude: -2.21",
          "File: HFTS2_20190412_044542_040<br>Stage: 1<br>Magnitude: -2.56",
          "File: HFTS2_20190412_044543_040<br>Stage: 1<br>Magnitude: -2.36",
          "File: HFTS2_20190412_044544_040<br>Stage: 1<br>Magnitude: -2.59",
          "File: HFTS2_20190412_044545_040<br>Stage: 1<br>Magnitude: -2.60",
          "File: HFTS2_20190412_044605_040<br>Stage: 1<br>Magnitude: -2.71",
          "File: HFTS2_20190412_044619_040<br>Stage: 1<br>Magnitude: -2.54",
          "File: HFTS2_20190412_044620_040<br>Stage: 1<br>Magnitude: -1.81",
          "File: HFTS2_20190412_044623_040<br>Stage: 1<br>Magnitude: -2.21",
          "File: HFTS2_20190412_044643_040<br>Stage: 1<br>Magnitude: -2.30",
          "File: HFTS2_20190412_044647_040<br>Stage: 1<br>Magnitude: -2.42",
          "File: HFTS2_20190412_044651_040<br>Stage: 1<br>Magnitude: -2.46",
          "File: HFTS2_20190412_044659_040_Merged<br>Stage: 1<br>Magnitude: -1.62",
          "File: HFTS2_20190412_044707_040<br>Stage: 1<br>Magnitude: -2.09",
          "File: HFTS2_20190412_044731_040<br>Stage: 1<br>Magnitude: -2.70",
          "File: HFTS2_20190412_044737_040<br>Stage: 1<br>Magnitude: -2.41",
          "File: HFTS2_20190412_044741_040<br>Stage: 1<br>Magnitude: -2.63",
          "File: HFTS2_20190412_044757_040<br>Stage: 1<br>Magnitude: -2.12",
          "File: HFTS2_20190412_044759_040<br>Stage: 1<br>Magnitude: -2.07",
          "File: HFTS2_20190412_044800_040<br>Stage: 1<br>Magnitude: -2.53",
          "File: HFTS2_20190412_044803_040<br>Stage: 1<br>Magnitude: -2.61",
          "File: HFTS2_20190412_044816_040<br>Stage: 1<br>Magnitude: -2.12",
          "File: HFTS2_20190412_044822_040<br>Stage: 1<br>Magnitude: -2.06",
          "File: HFTS2_20190412_044824_040<br>Stage: 1<br>Magnitude: -2.02",
          "File: HFTS2_20190412_044829_040<br>Stage: 1<br>Magnitude: -1.79",
          "File: HFTS2_20190412_044833_040<br>Stage: 1<br>Magnitude: -2.29",
          "File: HFTS2_20190412_044841_040<br>Stage: 1<br>Magnitude: -2.80",
          "File: HFTS2_20190412_044842_040<br>Stage: 1<br>Magnitude: -2.24",
          "File: HFTS2_20190412_044903_040<br>Stage: 1<br>Magnitude: -2.53",
          "File: HFTS2_20190412_044914_040<br>Stage: 1<br>Magnitude: -2.58",
          "File: HFTS2_20190412_044945_040<br>Stage: 1<br>Magnitude: -2.34",
          "File: HFTS2_20190412_044957_040<br>Stage: 1<br>Magnitude: -2.58",
          "File: HFTS2_20190412_045027_040<br>Stage: 1<br>Magnitude: -2.54",
          "File: HFTS2_20190412_045029_040<br>Stage: 1<br>Magnitude: -2.63",
          "File: HFTS2_20190412_045035_040<br>Stage: 1<br>Magnitude: -2.49",
          "File: HFTS2_20190412_045126_040<br>Stage: 1<br>Magnitude: -2.40",
          "File: HFTS2_20190412_045127_040<br>Stage: 1<br>Magnitude: -2.66",
          "File: HFTS2_20190412_045157_040<br>Stage: 1<br>Magnitude: -2.08",
          "File: HFTS2_20190412_045254_040<br>Stage: 1<br>Magnitude: -2.98",
          "File: HFTS2_20190412_045333_040<br>Stage: 1<br>Magnitude: -2.15",
          "File: HFTS2_20190412_045344_040<br>Stage: 1<br>Magnitude: -2.72",
          "File: HFTS2_20190412_045434_040<br>Stage: 1<br>Magnitude: -2.50",
          "File: HFTS2_20190412_045451_040<br>Stage: 1<br>Magnitude: -2.17",
          "File: HFTS2_20190412_045457_040<br>Stage: 1<br>Magnitude: -2.51",
          "File: HFTS2_20190412_045523_040<br>Stage: 1<br>Magnitude: -2.33",
          "File: HFTS2_20190412_045526_040<br>Stage: 1<br>Magnitude: -2.80",
          "File: HFTS2_20190412_045528_040<br>Stage: 1<br>Magnitude: -2.65",
          "File: HFTS2_20190412_045530_040<br>Stage: 1<br>Magnitude: -2.49",
          "File: HFTS2_20190412_045535_040<br>Stage: 1<br>Magnitude: -2.52",
          "File: HFTS2_20190412_045537_040<br>Stage: 1<br>Magnitude: -2.76",
          "File: HFTS2_20190412_045550_040<br>Stage: 1<br>Magnitude: -2.54",
          "File: HFTS2_20190412_045558_040<br>Stage: 1<br>Magnitude: -2.77",
          "File: HFTS2_20190412_045602_040<br>Stage: 1<br>Magnitude: -2.00",
          "File: HFTS2_20190412_045604_040<br>Stage: 1<br>Magnitude: -2.78",
          "File: HFTS2_20190412_045608_040<br>Stage: 1<br>Magnitude: -2.12",
          "File: HFTS2_20190412_045611_040<br>Stage: 1<br>Magnitude: -2.60",
          "File: HFTS2_20190412_045620_040<br>Stage: 1<br>Magnitude: -2.31",
          "File: HFTS2_20190412_045630_040<br>Stage: 1<br>Magnitude: -2.65",
          "File: HFTS2_20190412_045644_040<br>Stage: 1<br>Magnitude: -2.50",
          "File: HFTS2_20190412_045716_040<br>Stage: 1<br>Magnitude: -2.37",
          "File: HFTS2_20190412_045727_040<br>Stage: 1<br>Magnitude: -2.57",
          "File: HFTS2_20190412_045809_040<br>Stage: 1<br>Magnitude: -2.58",
          "File: HFTS2_20190412_045818_040<br>Stage: 1<br>Magnitude: -2.67",
          "File: HFTS2_20190412_045840_040<br>Stage: 1<br>Magnitude: -2.77",
          "File: HFTS2_20190412_045938_040<br>Stage: 1<br>Magnitude: -2.77",
          "File: HFTS2_20190412_045943_040<br>Stage: 1<br>Magnitude: -2.39",
          "File: HFTS2_20190412_045952_040<br>Stage: 1<br>Magnitude: -2.52",
          "File: HFTS2_20190412_050004_040<br>Stage: 1<br>Magnitude: -2.35",
          "File: HFTS2_20190412_050011_040<br>Stage: 1<br>Magnitude: -2.47",
          "File: HFTS2_20190412_050036_040<br>Stage: 1<br>Magnitude: -2.61",
          "File: HFTS2_20190412_050053_040<br>Stage: 1<br>Magnitude: -2.92",
          "File: HFTS2_20190412_050100_040<br>Stage: 1<br>Magnitude: -2.58",
          "File: HFTS2_20190412_050127_040<br>Stage: 1<br>Magnitude: -2.58",
          "File: HFTS2_20190412_050128_040<br>Stage: 1<br>Magnitude: -2.57",
          "File: HFTS2_20190412_050133_040<br>Stage: 1<br>Magnitude: -2.77",
          "File: HFTS2_20190412_050147_040<br>Stage: 1<br>Magnitude: -2.71",
          "File: HFTS2_20190412_050202_040<br>Stage: 1<br>Magnitude: -2.88",
          "File: HFTS2_20190412_050221_040<br>Stage: 1<br>Magnitude: -2.82",
          "File: HFTS2_20190412_050315_040<br>Stage: 1<br>Magnitude: -2.47",
          "File: HFTS2_20190412_050325_040<br>Stage: 1<br>Magnitude: -2.62",
          "File: HFTS2_20190412_050358_040<br>Stage: 1<br>Magnitude: -2.78",
          "File: HFTS2_20190412_050425_040<br>Stage: 1<br>Magnitude: -2.75",
          "File: HFTS2_20190412_050456_040<br>Stage: 1<br>Magnitude: -2.44",
          "File: HFTS2_20190412_050534_040<br>Stage: 1<br>Magnitude: -2.59",
          "File: HFTS2_20190412_050607_040<br>Stage: 1<br>Magnitude: -2.54"
         ],
         "type": "scatter3d",
         "x": [
          953895.1595,
          954022.483,
          954029.1651,
          953977.7921,
          954015.3426,
          954066.926,
          953996.1696,
          954181.5855,
          954017.4662,
          954341.8864,
          954112.6412,
          954775.9561,
          954756.3059,
          953992.4991,
          954024.7536,
          954065.1874,
          954033.2164,
          954017.9573,
          954049.3478,
          954000.2531,
          954076.9383,
          954208.316,
          954053.2724,
          954257.5318,
          954034.147,
          954080.2836,
          955200.8877,
          954195.0036,
          954165.5569,
          953868.4759,
          953963.2893,
          954060.5741,
          954263.1692,
          954198.7209,
          953940.0186,
          954077.5653,
          954030.8802,
          954565.8225,
          954695.1096,
          954408.3552,
          955252.3578,
          955367.832,
          954017.9088,
          954177.3138,
          954052.5758,
          954033.7554,
          954147.2466,
          954132.7709,
          954135.3389,
          954049.5549,
          954146.5942,
          954180.4498,
          954126.9278,
          953940.9135,
          954383.9403,
          954183.396,
          954152.7593,
          954200.9,
          954224.7538,
          954201.1147,
          954377.4042,
          954067.9804,
          954345.5954,
          954144.703,
          955224.1867,
          954081.6401,
          953915.2609,
          954040.8225,
          954359.2726,
          954016.8471,
          954161.6297,
          954426.0815,
          954268.8247,
          954139.1213,
          954132.5695,
          954311.4396,
          954248.5109,
          954167.4026,
          954052.4468,
          953996.9934,
          955347.9417,
          954457.5986,
          955333.4831,
          954572.8094,
          955390.3217,
          954227.5472,
          953945.1323,
          954202.8525,
          954403.6093,
          954026.8871,
          955411.1915,
          954315.0614,
          954080.6485,
          954247.0267,
          955074.8124,
          954006.2354,
          954589.3258,
          953976.7584,
          955210.8602,
          954374.3026,
          954418.9454
         ],
         "y": [
          849066.2294,
          849107.6809,
          849209.8184,
          849158.4203,
          849142.0644,
          849117.0278,
          849153.6269,
          849085.9865,
          849149.5522,
          849368.048,
          849132.4154,
          848816.7912,
          848869.554,
          849031.6463,
          849109.8901,
          849128.587,
          849117.7573,
          849076.3863,
          849110.4132,
          849221.5562,
          849146.9513,
          849055.3766,
          849233.2832,
          849050.3108,
          849104.4741,
          849068.0694,
          849178.5335,
          849006.6742,
          849066.508,
          849101.9188,
          849096.5982,
          849201.2306,
          849383.59,
          849064.2112,
          849082.0436,
          849152.6858,
          849105.5597,
          849162.2244,
          848975.7994,
          849132.4995,
          849299.9582,
          849143.0657,
          849107.6854,
          849192.7852,
          849120.873,
          849125.1579,
          849172.2815,
          849099.3178,
          849194.0432,
          849111.3395,
          849134.5758,
          849128.7871,
          849116.9123,
          849129.5888,
          849348.9254,
          849124.2631,
          849168.8862,
          849191.7102,
          849195.9433,
          849248.3858,
          849095.8679,
          849165.3256,
          849243.0738,
          849142.7325,
          849168.1913,
          849262.0033,
          849100.3623,
          849090.6561,
          849265.5323,
          849091.1356,
          849167.6663,
          849332.0602,
          849258.617,
          849203.977,
          849175.4278,
          849168.6424,
          849259.0084,
          849196.5615,
          849161.3672,
          849210.5677,
          849182.842,
          849251.1984,
          849335.6312,
          849189.8236,
          849190.6783,
          849219.9099,
          849166.262,
          849161.7017,
          849266.2121,
          849151.9055,
          849100.0909,
          849342.4975,
          849249.2048,
          849299.7673,
          849225.5164,
          849198.0134,
          849218.5462,
          849218.1286,
          849175.782,
          849255.9767,
          849182.8134
         ],
         "z": [
          8647.9311,
          8458.5467,
          8538.9941,
          8667.6131,
          8382.5008,
          8360.2172,
          8590.3552,
          8678.9348,
          8677.6884,
          8697.3702,
          8363.3492,
          8179.0871,
          8074.385,
          8455.8316,
          8477.2278,
          8558.5002,
          8445.4257,
          8542.2511,
          8369.1372,
          8687.4997,
          8504.1458,
          8268.4257,
          8798.3023,
          8216.6558,
          8525.2777,
          8414.4511,
          8542.7784,
          8274.5205,
          8903.7508,
          8481.3897,
          8569.3521,
          8593.7843,
          8594.7867,
          8255.2047,
          8550.6055,
          8537.2001,
          8436.5347,
          8034.4346,
          8162.6708,
          8198.0734,
          8466.6626,
          8676.7961,
          8456.127,
          8444.6037,
          8494.7536,
          8553.542,
          8715.3094,
          8505.7154,
          8749.0811,
          8363.8605,
          8638.1773,
          8360.0673,
          8500.8234,
          8158.7841,
          8666.9257,
          8351.6327,
          8746.6353,
          8486.0733,
          8614.3051,
          8441.8143,
          8348.9937,
          8100.8839,
          8746.6279,
          8670.7552,
          8582.0352,
          8325.4664,
          8587.8686,
          8368.3515,
          8550.1006,
          8104.4198,
          8725.0205,
          8683.741,
          8707.4497,
          8679.5909,
          8623.4109,
          8352.1219,
          8403.9545,
          8557.5776,
          8316.4558,
          8814.4902,
          8315.1742,
          8749.0558,
          8448.4732,
          8140.3504,
          8785.5943,
          8153.3193,
          8521.3409,
          8596.9147,
          8658.8246,
          8387.1215,
          8813.4162,
          8747.6875,
          8579.9587,
          8443.2596,
          8645.0591,
          8424.1454,
          8395.0987,
          8775.6284,
          8776.1673,
          8638.3989,
          8777.6914
         ]
        }
       ],
       "frames": [
        {
         "data": [
          {
           "marker": {
            "cmax": -1.6189,
            "cmin": -2.9802,
            "color": [
             -2.7719
            ],
            "colorscale": [
             [
              0,
              "#440154"
             ],
             [
              0.1111111111111111,
              "#482878"
             ],
             [
              0.2222222222222222,
              "#3e4989"
             ],
             [
              0.3333333333333333,
              "#31688e"
             ],
             [
              0.4444444444444444,
              "#26828e"
             ],
             [
              0.5555555555555556,
              "#1f9e89"
             ],
             [
              0.6666666666666666,
              "#35b779"
             ],
             [
              0.7777777777777778,
              "#6ece58"
             ],
             [
              0.8888888888888888,
              "#b5de2b"
             ],
             [
              1,
              "#fde725"
             ]
            ],
            "size": [
             277.19
            ],
            "sizemode": "diameter",
            "sizeref": 25
           },
           "mode": "markers",
           "text": [
            "File: HFTS2_20190412_042831_040<br>Magnitude: -2.77",
            "File: HFTS2_20190412_042832_040<br>Magnitude: -2.73",
            "File: HFTS2_20190412_042833_040<br>Magnitude: -2.65",
            "File: HFTS2_20190412_042835_040<br>Magnitude: -2.65",
            "File: HFTS2_20190412_043437_040<br>Magnitude: -2.56",
            "File: HFTS2_20190412_043802_040<br>Magnitude: -2.35",
            "File: HFTS2_20190412_043803_040<br>Magnitude: -2.22",
            "File: HFTS2_20190412_044156_040<br>Magnitude: -2.03",
            "File: HFTS2_20190412_044403_040<br>Magnitude: -2.39",
            "File: HFTS2_20190412_044404_040<br>Magnitude: -2.10",
            "File: HFTS2_20190412_044435_040_Merged<br>Magnitude: -2.47",
            "File: HFTS2_20190412_044506_040<br>Magnitude: -2.32",
            "File: HFTS2_20190412_044516_040<br>Magnitude: -1.97",
            "File: HFTS2_20190412_044521_040<br>Magnitude: -2.07",
            "File: HFTS2_20190412_044522_040<br>Magnitude: -2.47",
            "File: HFTS2_20190412_044526_040<br>Magnitude: -2.74",
            "File: HFTS2_20190412_044540_040<br>Magnitude: -2.21",
            "File: HFTS2_20190412_044542_040<br>Magnitude: -2.56",
            "File: HFTS2_20190412_044543_040<br>Magnitude: -2.36",
            "File: HFTS2_20190412_044544_040<br>Magnitude: -2.59",
            "File: HFTS2_20190412_044545_040<br>Magnitude: -2.60",
            "File: HFTS2_20190412_044605_040<br>Magnitude: -2.71",
            "File: HFTS2_20190412_044619_040<br>Magnitude: -2.54",
            "File: HFTS2_20190412_044620_040<br>Magnitude: -1.81",
            "File: HFTS2_20190412_044623_040<br>Magnitude: -2.21",
            "File: HFTS2_20190412_044643_040<br>Magnitude: -2.30",
            "File: HFTS2_20190412_044647_040<br>Magnitude: -2.42",
            "File: HFTS2_20190412_044651_040<br>Magnitude: -2.46",
            "File: HFTS2_20190412_044659_040_Merged<br>Magnitude: -1.62",
            "File: HFTS2_20190412_044707_040<br>Magnitude: -2.09",
            "File: HFTS2_20190412_044731_040<br>Magnitude: -2.70",
            "File: HFTS2_20190412_044737_040<br>Magnitude: -2.41",
            "File: HFTS2_20190412_044741_040<br>Magnitude: -2.63",
            "File: HFTS2_20190412_044757_040<br>Magnitude: -2.12",
            "File: HFTS2_20190412_044759_040<br>Magnitude: -2.07",
            "File: HFTS2_20190412_044800_040<br>Magnitude: -2.53",
            "File: HFTS2_20190412_044803_040<br>Magnitude: -2.61",
            "File: HFTS2_20190412_044816_040<br>Magnitude: -2.12",
            "File: HFTS2_20190412_044822_040<br>Magnitude: -2.06",
            "File: HFTS2_20190412_044824_040<br>Magnitude: -2.02",
            "File: HFTS2_20190412_044829_040<br>Magnitude: -1.79",
            "File: HFTS2_20190412_044833_040<br>Magnitude: -2.29",
            "File: HFTS2_20190412_044841_040<br>Magnitude: -2.80",
            "File: HFTS2_20190412_044842_040<br>Magnitude: -2.24",
            "File: HFTS2_20190412_044903_040<br>Magnitude: -2.53",
            "File: HFTS2_20190412_044914_040<br>Magnitude: -2.58",
            "File: HFTS2_20190412_044945_040<br>Magnitude: -2.34",
            "File: HFTS2_20190412_044957_040<br>Magnitude: -2.58",
            "File: HFTS2_20190412_045027_040<br>Magnitude: -2.54",
            "File: HFTS2_20190412_045029_040<br>Magnitude: -2.63",
            "File: HFTS2_20190412_045035_040<br>Magnitude: -2.49",
            "File: HFTS2_20190412_045126_040<br>Magnitude: -2.40",
            "File: HFTS2_20190412_045127_040<br>Magnitude: -2.66",
            "File: HFTS2_20190412_045157_040<br>Magnitude: -2.08",
            "File: HFTS2_20190412_045254_040<br>Magnitude: -2.98",
            "File: HFTS2_20190412_045333_040<br>Magnitude: -2.15",
            "File: HFTS2_20190412_045344_040<br>Magnitude: -2.72",
            "File: HFTS2_20190412_045434_040<br>Magnitude: -2.50",
            "File: HFTS2_20190412_045451_040<br>Magnitude: -2.17",
            "File: HFTS2_20190412_045457_040<br>Magnitude: -2.51",
            "File: HFTS2_20190412_045523_040<br>Magnitude: -2.33",
            "File: HFTS2_20190412_045526_040<br>Magnitude: -2.80",
            "File: HFTS2_20190412_045528_040<br>Magnitude: -2.65",
            "File: HFTS2_20190412_045530_040<br>Magnitude: -2.49",
            "File: HFTS2_20190412_045535_040<br>Magnitude: -2.52",
            "File: HFTS2_20190412_045537_040<br>Magnitude: -2.76",
            "File: HFTS2_20190412_045550_040<br>Magnitude: -2.54",
            "File: HFTS2_20190412_045558_040<br>Magnitude: -2.77",
            "File: HFTS2_20190412_045602_040<br>Magnitude: -2.00",
            "File: HFTS2_20190412_045604_040<br>Magnitude: -2.78",
            "File: HFTS2_20190412_045608_040<br>Magnitude: -2.12",
            "File: HFTS2_20190412_045611_040<br>Magnitude: -2.60",
            "File: HFTS2_20190412_045620_040<br>Magnitude: -2.31",
            "File: HFTS2_20190412_045630_040<br>Magnitude: -2.65",
            "File: HFTS2_20190412_045644_040<br>Magnitude: -2.50",
            "File: HFTS2_20190412_045716_040<br>Magnitude: -2.37",
            "File: HFTS2_20190412_045727_040<br>Magnitude: -2.57",
            "File: HFTS2_20190412_045809_040<br>Magnitude: -2.58",
            "File: HFTS2_20190412_045818_040<br>Magnitude: -2.67",
            "File: HFTS2_20190412_045840_040<br>Magnitude: -2.77",
            "File: HFTS2_20190412_045938_040<br>Magnitude: -2.77",
            "File: HFTS2_20190412_045943_040<br>Magnitude: -2.39",
            "File: HFTS2_20190412_045952_040<br>Magnitude: -2.52",
            "File: HFTS2_20190412_050004_040<br>Magnitude: -2.35",
            "File: HFTS2_20190412_050011_040<br>Magnitude: -2.47",
            "File: HFTS2_20190412_050036_040<br>Magnitude: -2.61",
            "File: HFTS2_20190412_050053_040<br>Magnitude: -2.92",
            "File: HFTS2_20190412_050100_040<br>Magnitude: -2.58",
            "File: HFTS2_20190412_050127_040<br>Magnitude: -2.58",
            "File: HFTS2_20190412_050128_040<br>Magnitude: -2.57",
            "File: HFTS2_20190412_050133_040<br>Magnitude: -2.77",
            "File: HFTS2_20190412_050147_040<br>Magnitude: -2.71",
            "File: HFTS2_20190412_050202_040<br>Magnitude: -2.88",
            "File: HFTS2_20190412_050221_040<br>Magnitude: -2.82",
            "File: HFTS2_20190412_050315_040<br>Magnitude: -2.47",
            "File: HFTS2_20190412_050325_040<br>Magnitude: -2.62",
            "File: HFTS2_20190412_050358_040<br>Magnitude: -2.78",
            "File: HFTS2_20190412_050425_040<br>Magnitude: -2.75",
            "File: HFTS2_20190412_050456_040<br>Magnitude: -2.44",
            "File: HFTS2_20190412_050534_040<br>Magnitude: -2.59",
            "File: HFTS2_20190412_050607_040<br>Magnitude: -2.54"
           ],
           "type": "scatter3d",
           "x": [
            953895.1595
           ],
           "y": [
            849066.2294
           ],
           "z": [
            8647.9311
           ]
          }
         ],
         "name": "2019-04-12 04:28:31.161000"
        },
        {
         "data": [
          {
           "marker": {
            "cmax": -1.6189,
            "cmin": -2.9802,
            "color": [
             -2.7308
            ],
            "colorscale": [
             [
              0,
              "#440154"
             ],
             [
              0.1111111111111111,
              "#482878"
             ],
             [
              0.2222222222222222,
              "#3e4989"
             ],
             [
              0.3333333333333333,
              "#31688e"
             ],
             [
              0.4444444444444444,
              "#26828e"
             ],
             [
              0.5555555555555556,
              "#1f9e89"
             ],
             [
              0.6666666666666666,
              "#35b779"
             ],
             [
              0.7777777777777778,
              "#6ece58"
             ],
             [
              0.8888888888888888,
              "#b5de2b"
             ],
             [
              1,
              "#fde725"
             ]
            ],
            "size": [
             273.08
            ],
            "sizemode": "diameter",
            "sizeref": 25
           },
           "mode": "markers",
           "text": [
            "File: HFTS2_20190412_042831_040<br>Magnitude: -2.77",
            "File: HFTS2_20190412_042832_040<br>Magnitude: -2.73",
            "File: HFTS2_20190412_042833_040<br>Magnitude: -2.65",
            "File: HFTS2_20190412_042835_040<br>Magnitude: -2.65",
            "File: HFTS2_20190412_043437_040<br>Magnitude: -2.56",
            "File: HFTS2_20190412_043802_040<br>Magnitude: -2.35",
            "File: HFTS2_20190412_043803_040<br>Magnitude: -2.22",
            "File: HFTS2_20190412_044156_040<br>Magnitude: -2.03",
            "File: HFTS2_20190412_044403_040<br>Magnitude: -2.39",
            "File: HFTS2_20190412_044404_040<br>Magnitude: -2.10",
            "File: HFTS2_20190412_044435_040_Merged<br>Magnitude: -2.47",
            "File: HFTS2_20190412_044506_040<br>Magnitude: -2.32",
            "File: HFTS2_20190412_044516_040<br>Magnitude: -1.97",
            "File: HFTS2_20190412_044521_040<br>Magnitude: -2.07",
            "File: HFTS2_20190412_044522_040<br>Magnitude: -2.47",
            "File: HFTS2_20190412_044526_040<br>Magnitude: -2.74",
            "File: HFTS2_20190412_044540_040<br>Magnitude: -2.21",
            "File: HFTS2_20190412_044542_040<br>Magnitude: -2.56",
            "File: HFTS2_20190412_044543_040<br>Magnitude: -2.36",
            "File: HFTS2_20190412_044544_040<br>Magnitude: -2.59",
            "File: HFTS2_20190412_044545_040<br>Magnitude: -2.60",
            "File: HFTS2_20190412_044605_040<br>Magnitude: -2.71",
            "File: HFTS2_20190412_044619_040<br>Magnitude: -2.54",
            "File: HFTS2_20190412_044620_040<br>Magnitude: -1.81",
            "File: HFTS2_20190412_044623_040<br>Magnitude: -2.21",
            "File: HFTS2_20190412_044643_040<br>Magnitude: -2.30",
            "File: HFTS2_20190412_044647_040<br>Magnitude: -2.42",
            "File: HFTS2_20190412_044651_040<br>Magnitude: -2.46",
            "File: HFTS2_20190412_044659_040_Merged<br>Magnitude: -1.62",
            "File: HFTS2_20190412_044707_040<br>Magnitude: -2.09",
            "File: HFTS2_20190412_044731_040<br>Magnitude: -2.70",
            "File: HFTS2_20190412_044737_040<br>Magnitude: -2.41",
            "File: HFTS2_20190412_044741_040<br>Magnitude: -2.63",
            "File: HFTS2_20190412_044757_040<br>Magnitude: -2.12",
            "File: HFTS2_20190412_044759_040<br>Magnitude: -2.07",
            "File: HFTS2_20190412_044800_040<br>Magnitude: -2.53",
            "File: HFTS2_20190412_044803_040<br>Magnitude: -2.61",
            "File: HFTS2_20190412_044816_040<br>Magnitude: -2.12",
            "File: HFTS2_20190412_044822_040<br>Magnitude: -2.06",
            "File: HFTS2_20190412_044824_040<br>Magnitude: -2.02",
            "File: HFTS2_20190412_044829_040<br>Magnitude: -1.79",
            "File: HFTS2_20190412_044833_040<br>Magnitude: -2.29",
            "File: HFTS2_20190412_044841_040<br>Magnitude: -2.80",
            "File: HFTS2_20190412_044842_040<br>Magnitude: -2.24",
            "File: HFTS2_20190412_044903_040<br>Magnitude: -2.53",
            "File: HFTS2_20190412_044914_040<br>Magnitude: -2.58",
            "File: HFTS2_20190412_044945_040<br>Magnitude: -2.34",
            "File: HFTS2_20190412_044957_040<br>Magnitude: -2.58",
            "File: HFTS2_20190412_045027_040<br>Magnitude: -2.54",
            "File: HFTS2_20190412_045029_040<br>Magnitude: -2.63",
            "File: HFTS2_20190412_045035_040<br>Magnitude: -2.49",
            "File: HFTS2_20190412_045126_040<br>Magnitude: -2.40",
            "File: HFTS2_20190412_045127_040<br>Magnitude: -2.66",
            "File: HFTS2_20190412_045157_040<br>Magnitude: -2.08",
            "File: HFTS2_20190412_045254_040<br>Magnitude: -2.98",
            "File: HFTS2_20190412_045333_040<br>Magnitude: -2.15",
            "File: HFTS2_20190412_045344_040<br>Magnitude: -2.72",
            "File: HFTS2_20190412_045434_040<br>Magnitude: -2.50",
            "File: HFTS2_20190412_045451_040<br>Magnitude: -2.17",
            "File: HFTS2_20190412_045457_040<br>Magnitude: -2.51",
            "File: HFTS2_20190412_045523_040<br>Magnitude: -2.33",
            "File: HFTS2_20190412_045526_040<br>Magnitude: -2.80",
            "File: HFTS2_20190412_045528_040<br>Magnitude: -2.65",
            "File: HFTS2_20190412_045530_040<br>Magnitude: -2.49",
            "File: HFTS2_20190412_045535_040<br>Magnitude: -2.52",
            "File: HFTS2_20190412_045537_040<br>Magnitude: -2.76",
            "File: HFTS2_20190412_045550_040<br>Magnitude: -2.54",
            "File: HFTS2_20190412_045558_040<br>Magnitude: -2.77",
            "File: HFTS2_20190412_045602_040<br>Magnitude: -2.00",
            "File: HFTS2_20190412_045604_040<br>Magnitude: -2.78",
            "File: HFTS2_20190412_045608_040<br>Magnitude: -2.12",
            "File: HFTS2_20190412_045611_040<br>Magnitude: -2.60",
            "File: HFTS2_20190412_045620_040<br>Magnitude: -2.31",
            "File: HFTS2_20190412_045630_040<br>Magnitude: -2.65",
            "File: HFTS2_20190412_045644_040<br>Magnitude: -2.50",
            "File: HFTS2_20190412_045716_040<br>Magnitude: -2.37",
            "File: HFTS2_20190412_045727_040<br>Magnitude: -2.57",
            "File: HFTS2_20190412_045809_040<br>Magnitude: -2.58",
            "File: HFTS2_20190412_045818_040<br>Magnitude: -2.67",
            "File: HFTS2_20190412_045840_040<br>Magnitude: -2.77",
            "File: HFTS2_20190412_045938_040<br>Magnitude: -2.77",
            "File: HFTS2_20190412_045943_040<br>Magnitude: -2.39",
            "File: HFTS2_20190412_045952_040<br>Magnitude: -2.52",
            "File: HFTS2_20190412_050004_040<br>Magnitude: -2.35",
            "File: HFTS2_20190412_050011_040<br>Magnitude: -2.47",
            "File: HFTS2_20190412_050036_040<br>Magnitude: -2.61",
            "File: HFTS2_20190412_050053_040<br>Magnitude: -2.92",
            "File: HFTS2_20190412_050100_040<br>Magnitude: -2.58",
            "File: HFTS2_20190412_050127_040<br>Magnitude: -2.58",
            "File: HFTS2_20190412_050128_040<br>Magnitude: -2.57",
            "File: HFTS2_20190412_050133_040<br>Magnitude: -2.77",
            "File: HFTS2_20190412_050147_040<br>Magnitude: -2.71",
            "File: HFTS2_20190412_050202_040<br>Magnitude: -2.88",
            "File: HFTS2_20190412_050221_040<br>Magnitude: -2.82",
            "File: HFTS2_20190412_050315_040<br>Magnitude: -2.47",
            "File: HFTS2_20190412_050325_040<br>Magnitude: -2.62",
            "File: HFTS2_20190412_050358_040<br>Magnitude: -2.78",
            "File: HFTS2_20190412_050425_040<br>Magnitude: -2.75",
            "File: HFTS2_20190412_050456_040<br>Magnitude: -2.44",
            "File: HFTS2_20190412_050534_040<br>Magnitude: -2.59",
            "File: HFTS2_20190412_050607_040<br>Magnitude: -2.54"
           ],
           "type": "scatter3d",
           "x": [
            954022.483
           ],
           "y": [
            849107.6809
           ],
           "z": [
            8458.5467
           ]
          }
         ],
         "name": "2019-04-12 04:28:32.615000"
        },
        {
         "data": [
          {
           "marker": {
            "cmax": -1.6189,
            "cmin": -2.9802,
            "color": [
             -2.6466
            ],
            "colorscale": [
             [
              0,
              "#440154"
             ],
             [
              0.1111111111111111,
              "#482878"
             ],
             [
              0.2222222222222222,
              "#3e4989"
             ],
             [
              0.3333333333333333,
              "#31688e"
             ],
             [
              0.4444444444444444,
              "#26828e"
             ],
             [
              0.5555555555555556,
              "#1f9e89"
             ],
             [
              0.6666666666666666,
              "#35b779"
             ],
             [
              0.7777777777777778,
              "#6ece58"
             ],
             [
              0.8888888888888888,
              "#b5de2b"
             ],
             [
              1,
              "#fde725"
             ]
            ],
            "size": [
             264.65999999999997
            ],
            "sizemode": "diameter",
            "sizeref": 25
           },
           "mode": "markers",
           "text": [
            "File: HFTS2_20190412_042831_040<br>Magnitude: -2.77",
            "File: HFTS2_20190412_042832_040<br>Magnitude: -2.73",
            "File: HFTS2_20190412_042833_040<br>Magnitude: -2.65",
            "File: HFTS2_20190412_042835_040<br>Magnitude: -2.65",
            "File: HFTS2_20190412_043437_040<br>Magnitude: -2.56",
            "File: HFTS2_20190412_043802_040<br>Magnitude: -2.35",
            "File: HFTS2_20190412_043803_040<br>Magnitude: -2.22",
            "File: HFTS2_20190412_044156_040<br>Magnitude: -2.03",
            "File: HFTS2_20190412_044403_040<br>Magnitude: -2.39",
            "File: HFTS2_20190412_044404_040<br>Magnitude: -2.10",
            "File: HFTS2_20190412_044435_040_Merged<br>Magnitude: -2.47",
            "File: HFTS2_20190412_044506_040<br>Magnitude: -2.32",
            "File: HFTS2_20190412_044516_040<br>Magnitude: -1.97",
            "File: HFTS2_20190412_044521_040<br>Magnitude: -2.07",
            "File: HFTS2_20190412_044522_040<br>Magnitude: -2.47",
            "File: HFTS2_20190412_044526_040<br>Magnitude: -2.74",
            "File: HFTS2_20190412_044540_040<br>Magnitude: -2.21",
            "File: HFTS2_20190412_044542_040<br>Magnitude: -2.56",
            "File: HFTS2_20190412_044543_040<br>Magnitude: -2.36",
            "File: HFTS2_20190412_044544_040<br>Magnitude: -2.59",
            "File: HFTS2_20190412_044545_040<br>Magnitude: -2.60",
            "File: HFTS2_20190412_044605_040<br>Magnitude: -2.71",
            "File: HFTS2_20190412_044619_040<br>Magnitude: -2.54",
            "File: HFTS2_20190412_044620_040<br>Magnitude: -1.81",
            "File: HFTS2_20190412_044623_040<br>Magnitude: -2.21",
            "File: HFTS2_20190412_044643_040<br>Magnitude: -2.30",
            "File: HFTS2_20190412_044647_040<br>Magnitude: -2.42",
            "File: HFTS2_20190412_044651_040<br>Magnitude: -2.46",
            "File: HFTS2_20190412_044659_040_Merged<br>Magnitude: -1.62",
            "File: HFTS2_20190412_044707_040<br>Magnitude: -2.09",
            "File: HFTS2_20190412_044731_040<br>Magnitude: -2.70",
            "File: HFTS2_20190412_044737_040<br>Magnitude: -2.41",
            "File: HFTS2_20190412_044741_040<br>Magnitude: -2.63",
            "File: HFTS2_20190412_044757_040<br>Magnitude: -2.12",
            "File: HFTS2_20190412_044759_040<br>Magnitude: -2.07",
            "File: HFTS2_20190412_044800_040<br>Magnitude: -2.53",
            "File: HFTS2_20190412_044803_040<br>Magnitude: -2.61",
            "File: HFTS2_20190412_044816_040<br>Magnitude: -2.12",
            "File: HFTS2_20190412_044822_040<br>Magnitude: -2.06",
            "File: HFTS2_20190412_044824_040<br>Magnitude: -2.02",
            "File: HFTS2_20190412_044829_040<br>Magnitude: -1.79",
            "File: HFTS2_20190412_044833_040<br>Magnitude: -2.29",
            "File: HFTS2_20190412_044841_040<br>Magnitude: -2.80",
            "File: HFTS2_20190412_044842_040<br>Magnitude: -2.24",
            "File: HFTS2_20190412_044903_040<br>Magnitude: -2.53",
            "File: HFTS2_20190412_044914_040<br>Magnitude: -2.58",
            "File: HFTS2_20190412_044945_040<br>Magnitude: -2.34",
            "File: HFTS2_20190412_044957_040<br>Magnitude: -2.58",
            "File: HFTS2_20190412_045027_040<br>Magnitude: -2.54",
            "File: HFTS2_20190412_045029_040<br>Magnitude: -2.63",
            "File: HFTS2_20190412_045035_040<br>Magnitude: -2.49",
            "File: HFTS2_20190412_045126_040<br>Magnitude: -2.40",
            "File: HFTS2_20190412_045127_040<br>Magnitude: -2.66",
            "File: HFTS2_20190412_045157_040<br>Magnitude: -2.08",
            "File: HFTS2_20190412_045254_040<br>Magnitude: -2.98",
            "File: HFTS2_20190412_045333_040<br>Magnitude: -2.15",
            "File: HFTS2_20190412_045344_040<br>Magnitude: -2.72",
            "File: HFTS2_20190412_045434_040<br>Magnitude: -2.50",
            "File: HFTS2_20190412_045451_040<br>Magnitude: -2.17",
            "File: HFTS2_20190412_045457_040<br>Magnitude: -2.51",
            "File: HFTS2_20190412_045523_040<br>Magnitude: -2.33",
            "File: HFTS2_20190412_045526_040<br>Magnitude: -2.80",
            "File: HFTS2_20190412_045528_040<br>Magnitude: -2.65",
            "File: HFTS2_20190412_045530_040<br>Magnitude: -2.49",
            "File: HFTS2_20190412_045535_040<br>Magnitude: -2.52",
            "File: HFTS2_20190412_045537_040<br>Magnitude: -2.76",
            "File: HFTS2_20190412_045550_040<br>Magnitude: -2.54",
            "File: HFTS2_20190412_045558_040<br>Magnitude: -2.77",
            "File: HFTS2_20190412_045602_040<br>Magnitude: -2.00",
            "File: HFTS2_20190412_045604_040<br>Magnitude: -2.78",
            "File: HFTS2_20190412_045608_040<br>Magnitude: -2.12",
            "File: HFTS2_20190412_045611_040<br>Magnitude: -2.60",
            "File: HFTS2_20190412_045620_040<br>Magnitude: -2.31",
            "File: HFTS2_20190412_045630_040<br>Magnitude: -2.65",
            "File: HFTS2_20190412_045644_040<br>Magnitude: -2.50",
            "File: HFTS2_20190412_045716_040<br>Magnitude: -2.37",
            "File: HFTS2_20190412_045727_040<br>Magnitude: -2.57",
            "File: HFTS2_20190412_045809_040<br>Magnitude: -2.58",
            "File: HFTS2_20190412_045818_040<br>Magnitude: -2.67",
            "File: HFTS2_20190412_045840_040<br>Magnitude: -2.77",
            "File: HFTS2_20190412_045938_040<br>Magnitude: -2.77",
            "File: HFTS2_20190412_045943_040<br>Magnitude: -2.39",
            "File: HFTS2_20190412_045952_040<br>Magnitude: -2.52",
            "File: HFTS2_20190412_050004_040<br>Magnitude: -2.35",
            "File: HFTS2_20190412_050011_040<br>Magnitude: -2.47",
            "File: HFTS2_20190412_050036_040<br>Magnitude: -2.61",
            "File: HFTS2_20190412_050053_040<br>Magnitude: -2.92",
            "File: HFTS2_20190412_050100_040<br>Magnitude: -2.58",
            "File: HFTS2_20190412_050127_040<br>Magnitude: -2.58",
            "File: HFTS2_20190412_050128_040<br>Magnitude: -2.57",
            "File: HFTS2_20190412_050133_040<br>Magnitude: -2.77",
            "File: HFTS2_20190412_050147_040<br>Magnitude: -2.71",
            "File: HFTS2_20190412_050202_040<br>Magnitude: -2.88",
            "File: HFTS2_20190412_050221_040<br>Magnitude: -2.82",
            "File: HFTS2_20190412_050315_040<br>Magnitude: -2.47",
            "File: HFTS2_20190412_050325_040<br>Magnitude: -2.62",
            "File: HFTS2_20190412_050358_040<br>Magnitude: -2.78",
            "File: HFTS2_20190412_050425_040<br>Magnitude: -2.75",
            "File: HFTS2_20190412_050456_040<br>Magnitude: -2.44",
            "File: HFTS2_20190412_050534_040<br>Magnitude: -2.59",
            "File: HFTS2_20190412_050607_040<br>Magnitude: -2.54"
           ],
           "type": "scatter3d",
           "x": [
            954029.1651
           ],
           "y": [
            849209.8184
           ],
           "z": [
            8538.9941
           ]
          }
         ],
         "name": "2019-04-12 04:28:33.696000"
        },
        {
         "data": [
          {
           "marker": {
            "cmax": -1.6189,
            "cmin": -2.9802,
            "color": [
             -2.6511
            ],
            "colorscale": [
             [
              0,
              "#440154"
             ],
             [
              0.1111111111111111,
              "#482878"
             ],
             [
              0.2222222222222222,
              "#3e4989"
             ],
             [
              0.3333333333333333,
              "#31688e"
             ],
             [
              0.4444444444444444,
              "#26828e"
             ],
             [
              0.5555555555555556,
              "#1f9e89"
             ],
             [
              0.6666666666666666,
              "#35b779"
             ],
             [
              0.7777777777777778,
              "#6ece58"
             ],
             [
              0.8888888888888888,
              "#b5de2b"
             ],
             [
              1,
              "#fde725"
             ]
            ],
            "size": [
             265.11
            ],
            "sizemode": "diameter",
            "sizeref": 25
           },
           "mode": "markers",
           "text": [
            "File: HFTS2_20190412_042831_040<br>Magnitude: -2.77",
            "File: HFTS2_20190412_042832_040<br>Magnitude: -2.73",
            "File: HFTS2_20190412_042833_040<br>Magnitude: -2.65",
            "File: HFTS2_20190412_042835_040<br>Magnitude: -2.65",
            "File: HFTS2_20190412_043437_040<br>Magnitude: -2.56",
            "File: HFTS2_20190412_043802_040<br>Magnitude: -2.35",
            "File: HFTS2_20190412_043803_040<br>Magnitude: -2.22",
            "File: HFTS2_20190412_044156_040<br>Magnitude: -2.03",
            "File: HFTS2_20190412_044403_040<br>Magnitude: -2.39",
            "File: HFTS2_20190412_044404_040<br>Magnitude: -2.10",
            "File: HFTS2_20190412_044435_040_Merged<br>Magnitude: -2.47",
            "File: HFTS2_20190412_044506_040<br>Magnitude: -2.32",
            "File: HFTS2_20190412_044516_040<br>Magnitude: -1.97",
            "File: HFTS2_20190412_044521_040<br>Magnitude: -2.07",
            "File: HFTS2_20190412_044522_040<br>Magnitude: -2.47",
            "File: HFTS2_20190412_044526_040<br>Magnitude: -2.74",
            "File: HFTS2_20190412_044540_040<br>Magnitude: -2.21",
            "File: HFTS2_20190412_044542_040<br>Magnitude: -2.56",
            "File: HFTS2_20190412_044543_040<br>Magnitude: -2.36",
            "File: HFTS2_20190412_044544_040<br>Magnitude: -2.59",
            "File: HFTS2_20190412_044545_040<br>Magnitude: -2.60",
            "File: HFTS2_20190412_044605_040<br>Magnitude: -2.71",
            "File: HFTS2_20190412_044619_040<br>Magnitude: -2.54",
            "File: HFTS2_20190412_044620_040<br>Magnitude: -1.81",
            "File: HFTS2_20190412_044623_040<br>Magnitude: -2.21",
            "File: HFTS2_20190412_044643_040<br>Magnitude: -2.30",
            "File: HFTS2_20190412_044647_040<br>Magnitude: -2.42",
            "File: HFTS2_20190412_044651_040<br>Magnitude: -2.46",
            "File: HFTS2_20190412_044659_040_Merged<br>Magnitude: -1.62",
            "File: HFTS2_20190412_044707_040<br>Magnitude: -2.09",
            "File: HFTS2_20190412_044731_040<br>Magnitude: -2.70",
            "File: HFTS2_20190412_044737_040<br>Magnitude: -2.41",
            "File: HFTS2_20190412_044741_040<br>Magnitude: -2.63",
            "File: HFTS2_20190412_044757_040<br>Magnitude: -2.12",
            "File: HFTS2_20190412_044759_040<br>Magnitude: -2.07",
            "File: HFTS2_20190412_044800_040<br>Magnitude: -2.53",
            "File: HFTS2_20190412_044803_040<br>Magnitude: -2.61",
            "File: HFTS2_20190412_044816_040<br>Magnitude: -2.12",
            "File: HFTS2_20190412_044822_040<br>Magnitude: -2.06",
            "File: HFTS2_20190412_044824_040<br>Magnitude: -2.02",
            "File: HFTS2_20190412_044829_040<br>Magnitude: -1.79",
            "File: HFTS2_20190412_044833_040<br>Magnitude: -2.29",
            "File: HFTS2_20190412_044841_040<br>Magnitude: -2.80",
            "File: HFTS2_20190412_044842_040<br>Magnitude: -2.24",
            "File: HFTS2_20190412_044903_040<br>Magnitude: -2.53",
            "File: HFTS2_20190412_044914_040<br>Magnitude: -2.58",
            "File: HFTS2_20190412_044945_040<br>Magnitude: -2.34",
            "File: HFTS2_20190412_044957_040<br>Magnitude: -2.58",
            "File: HFTS2_20190412_045027_040<br>Magnitude: -2.54",
            "File: HFTS2_20190412_045029_040<br>Magnitude: -2.63",
            "File: HFTS2_20190412_045035_040<br>Magnitude: -2.49",
            "File: HFTS2_20190412_045126_040<br>Magnitude: -2.40",
            "File: HFTS2_20190412_045127_040<br>Magnitude: -2.66",
            "File: HFTS2_20190412_045157_040<br>Magnitude: -2.08",
            "File: HFTS2_20190412_045254_040<br>Magnitude: -2.98",
            "File: HFTS2_20190412_045333_040<br>Magnitude: -2.15",
            "File: HFTS2_20190412_045344_040<br>Magnitude: -2.72",
            "File: HFTS2_20190412_045434_040<br>Magnitude: -2.50",
            "File: HFTS2_20190412_045451_040<br>Magnitude: -2.17",
            "File: HFTS2_20190412_045457_040<br>Magnitude: -2.51",
            "File: HFTS2_20190412_045523_040<br>Magnitude: -2.33",
            "File: HFTS2_20190412_045526_040<br>Magnitude: -2.80",
            "File: HFTS2_20190412_045528_040<br>Magnitude: -2.65",
            "File: HFTS2_20190412_045530_040<br>Magnitude: -2.49",
            "File: HFTS2_20190412_045535_040<br>Magnitude: -2.52",
            "File: HFTS2_20190412_045537_040<br>Magnitude: -2.76",
            "File: HFTS2_20190412_045550_040<br>Magnitude: -2.54",
            "File: HFTS2_20190412_045558_040<br>Magnitude: -2.77",
            "File: HFTS2_20190412_045602_040<br>Magnitude: -2.00",
            "File: HFTS2_20190412_045604_040<br>Magnitude: -2.78",
            "File: HFTS2_20190412_045608_040<br>Magnitude: -2.12",
            "File: HFTS2_20190412_045611_040<br>Magnitude: -2.60",
            "File: HFTS2_20190412_045620_040<br>Magnitude: -2.31",
            "File: HFTS2_20190412_045630_040<br>Magnitude: -2.65",
            "File: HFTS2_20190412_045644_040<br>Magnitude: -2.50",
            "File: HFTS2_20190412_045716_040<br>Magnitude: -2.37",
            "File: HFTS2_20190412_045727_040<br>Magnitude: -2.57",
            "File: HFTS2_20190412_045809_040<br>Magnitude: -2.58",
            "File: HFTS2_20190412_045818_040<br>Magnitude: -2.67",
            "File: HFTS2_20190412_045840_040<br>Magnitude: -2.77",
            "File: HFTS2_20190412_045938_040<br>Magnitude: -2.77",
            "File: HFTS2_20190412_045943_040<br>Magnitude: -2.39",
            "File: HFTS2_20190412_045952_040<br>Magnitude: -2.52",
            "File: HFTS2_20190412_050004_040<br>Magnitude: -2.35",
            "File: HFTS2_20190412_050011_040<br>Magnitude: -2.47",
            "File: HFTS2_20190412_050036_040<br>Magnitude: -2.61",
            "File: HFTS2_20190412_050053_040<br>Magnitude: -2.92",
            "File: HFTS2_20190412_050100_040<br>Magnitude: -2.58",
            "File: HFTS2_20190412_050127_040<br>Magnitude: -2.58",
            "File: HFTS2_20190412_050128_040<br>Magnitude: -2.57",
            "File: HFTS2_20190412_050133_040<br>Magnitude: -2.77",
            "File: HFTS2_20190412_050147_040<br>Magnitude: -2.71",
            "File: HFTS2_20190412_050202_040<br>Magnitude: -2.88",
            "File: HFTS2_20190412_050221_040<br>Magnitude: -2.82",
            "File: HFTS2_20190412_050315_040<br>Magnitude: -2.47",
            "File: HFTS2_20190412_050325_040<br>Magnitude: -2.62",
            "File: HFTS2_20190412_050358_040<br>Magnitude: -2.78",
            "File: HFTS2_20190412_050425_040<br>Magnitude: -2.75",
            "File: HFTS2_20190412_050456_040<br>Magnitude: -2.44",
            "File: HFTS2_20190412_050534_040<br>Magnitude: -2.59",
            "File: HFTS2_20190412_050607_040<br>Magnitude: -2.54"
           ],
           "type": "scatter3d",
           "x": [
            953977.7921
           ],
           "y": [
            849158.4203
           ],
           "z": [
            8667.6131
           ]
          }
         ],
         "name": "2019-04-12 04:28:35.409000"
        },
        {
         "data": [
          {
           "marker": {
            "cmax": -1.6189,
            "cmin": -2.9802,
            "color": [
             -2.5596
            ],
            "colorscale": [
             [
              0,
              "#440154"
             ],
             [
              0.1111111111111111,
              "#482878"
             ],
             [
              0.2222222222222222,
              "#3e4989"
             ],
             [
              0.3333333333333333,
              "#31688e"
             ],
             [
              0.4444444444444444,
              "#26828e"
             ],
             [
              0.5555555555555556,
              "#1f9e89"
             ],
             [
              0.6666666666666666,
              "#35b779"
             ],
             [
              0.7777777777777778,
              "#6ece58"
             ],
             [
              0.8888888888888888,
              "#b5de2b"
             ],
             [
              1,
              "#fde725"
             ]
            ],
            "size": [
             255.96
            ],
            "sizemode": "diameter",
            "sizeref": 25
           },
           "mode": "markers",
           "text": [
            "File: HFTS2_20190412_042831_040<br>Magnitude: -2.77",
            "File: HFTS2_20190412_042832_040<br>Magnitude: -2.73",
            "File: HFTS2_20190412_042833_040<br>Magnitude: -2.65",
            "File: HFTS2_20190412_042835_040<br>Magnitude: -2.65",
            "File: HFTS2_20190412_043437_040<br>Magnitude: -2.56",
            "File: HFTS2_20190412_043802_040<br>Magnitude: -2.35",
            "File: HFTS2_20190412_043803_040<br>Magnitude: -2.22",
            "File: HFTS2_20190412_044156_040<br>Magnitude: -2.03",
            "File: HFTS2_20190412_044403_040<br>Magnitude: -2.39",
            "File: HFTS2_20190412_044404_040<br>Magnitude: -2.10",
            "File: HFTS2_20190412_044435_040_Merged<br>Magnitude: -2.47",
            "File: HFTS2_20190412_044506_040<br>Magnitude: -2.32",
            "File: HFTS2_20190412_044516_040<br>Magnitude: -1.97",
            "File: HFTS2_20190412_044521_040<br>Magnitude: -2.07",
            "File: HFTS2_20190412_044522_040<br>Magnitude: -2.47",
            "File: HFTS2_20190412_044526_040<br>Magnitude: -2.74",
            "File: HFTS2_20190412_044540_040<br>Magnitude: -2.21",
            "File: HFTS2_20190412_044542_040<br>Magnitude: -2.56",
            "File: HFTS2_20190412_044543_040<br>Magnitude: -2.36",
            "File: HFTS2_20190412_044544_040<br>Magnitude: -2.59",
            "File: HFTS2_20190412_044545_040<br>Magnitude: -2.60",
            "File: HFTS2_20190412_044605_040<br>Magnitude: -2.71",
            "File: HFTS2_20190412_044619_040<br>Magnitude: -2.54",
            "File: HFTS2_20190412_044620_040<br>Magnitude: -1.81",
            "File: HFTS2_20190412_044623_040<br>Magnitude: -2.21",
            "File: HFTS2_20190412_044643_040<br>Magnitude: -2.30",
            "File: HFTS2_20190412_044647_040<br>Magnitude: -2.42",
            "File: HFTS2_20190412_044651_040<br>Magnitude: -2.46",
            "File: HFTS2_20190412_044659_040_Merged<br>Magnitude: -1.62",
            "File: HFTS2_20190412_044707_040<br>Magnitude: -2.09",
            "File: HFTS2_20190412_044731_040<br>Magnitude: -2.70",
            "File: HFTS2_20190412_044737_040<br>Magnitude: -2.41",
            "File: HFTS2_20190412_044741_040<br>Magnitude: -2.63",
            "File: HFTS2_20190412_044757_040<br>Magnitude: -2.12",
            "File: HFTS2_20190412_044759_040<br>Magnitude: -2.07",
            "File: HFTS2_20190412_044800_040<br>Magnitude: -2.53",
            "File: HFTS2_20190412_044803_040<br>Magnitude: -2.61",
            "File: HFTS2_20190412_044816_040<br>Magnitude: -2.12",
            "File: HFTS2_20190412_044822_040<br>Magnitude: -2.06",
            "File: HFTS2_20190412_044824_040<br>Magnitude: -2.02",
            "File: HFTS2_20190412_044829_040<br>Magnitude: -1.79",
            "File: HFTS2_20190412_044833_040<br>Magnitude: -2.29",
            "File: HFTS2_20190412_044841_040<br>Magnitude: -2.80",
            "File: HFTS2_20190412_044842_040<br>Magnitude: -2.24",
            "File: HFTS2_20190412_044903_040<br>Magnitude: -2.53",
            "File: HFTS2_20190412_044914_040<br>Magnitude: -2.58",
            "File: HFTS2_20190412_044945_040<br>Magnitude: -2.34",
            "File: HFTS2_20190412_044957_040<br>Magnitude: -2.58",
            "File: HFTS2_20190412_045027_040<br>Magnitude: -2.54",
            "File: HFTS2_20190412_045029_040<br>Magnitude: -2.63",
            "File: HFTS2_20190412_045035_040<br>Magnitude: -2.49",
            "File: HFTS2_20190412_045126_040<br>Magnitude: -2.40",
            "File: HFTS2_20190412_045127_040<br>Magnitude: -2.66",
            "File: HFTS2_20190412_045157_040<br>Magnitude: -2.08",
            "File: HFTS2_20190412_045254_040<br>Magnitude: -2.98",
            "File: HFTS2_20190412_045333_040<br>Magnitude: -2.15",
            "File: HFTS2_20190412_045344_040<br>Magnitude: -2.72",
            "File: HFTS2_20190412_045434_040<br>Magnitude: -2.50",
            "File: HFTS2_20190412_045451_040<br>Magnitude: -2.17",
            "File: HFTS2_20190412_045457_040<br>Magnitude: -2.51",
            "File: HFTS2_20190412_045523_040<br>Magnitude: -2.33",
            "File: HFTS2_20190412_045526_040<br>Magnitude: -2.80",
            "File: HFTS2_20190412_045528_040<br>Magnitude: -2.65",
            "File: HFTS2_20190412_045530_040<br>Magnitude: -2.49",
            "File: HFTS2_20190412_045535_040<br>Magnitude: -2.52",
            "File: HFTS2_20190412_045537_040<br>Magnitude: -2.76",
            "File: HFTS2_20190412_045550_040<br>Magnitude: -2.54",
            "File: HFTS2_20190412_045558_040<br>Magnitude: -2.77",
            "File: HFTS2_20190412_045602_040<br>Magnitude: -2.00",
            "File: HFTS2_20190412_045604_040<br>Magnitude: -2.78",
            "File: HFTS2_20190412_045608_040<br>Magnitude: -2.12",
            "File: HFTS2_20190412_045611_040<br>Magnitude: -2.60",
            "File: HFTS2_20190412_045620_040<br>Magnitude: -2.31",
            "File: HFTS2_20190412_045630_040<br>Magnitude: -2.65",
            "File: HFTS2_20190412_045644_040<br>Magnitude: -2.50",
            "File: HFTS2_20190412_045716_040<br>Magnitude: -2.37",
            "File: HFTS2_20190412_045727_040<br>Magnitude: -2.57",
            "File: HFTS2_20190412_045809_040<br>Magnitude: -2.58",
            "File: HFTS2_20190412_045818_040<br>Magnitude: -2.67",
            "File: HFTS2_20190412_045840_040<br>Magnitude: -2.77",
            "File: HFTS2_20190412_045938_040<br>Magnitude: -2.77",
            "File: HFTS2_20190412_045943_040<br>Magnitude: -2.39",
            "File: HFTS2_20190412_045952_040<br>Magnitude: -2.52",
            "File: HFTS2_20190412_050004_040<br>Magnitude: -2.35",
            "File: HFTS2_20190412_050011_040<br>Magnitude: -2.47",
            "File: HFTS2_20190412_050036_040<br>Magnitude: -2.61",
            "File: HFTS2_20190412_050053_040<br>Magnitude: -2.92",
            "File: HFTS2_20190412_050100_040<br>Magnitude: -2.58",
            "File: HFTS2_20190412_050127_040<br>Magnitude: -2.58",
            "File: HFTS2_20190412_050128_040<br>Magnitude: -2.57",
            "File: HFTS2_20190412_050133_040<br>Magnitude: -2.77",
            "File: HFTS2_20190412_050147_040<br>Magnitude: -2.71",
            "File: HFTS2_20190412_050202_040<br>Magnitude: -2.88",
            "File: HFTS2_20190412_050221_040<br>Magnitude: -2.82",
            "File: HFTS2_20190412_050315_040<br>Magnitude: -2.47",
            "File: HFTS2_20190412_050325_040<br>Magnitude: -2.62",
            "File: HFTS2_20190412_050358_040<br>Magnitude: -2.78",
            "File: HFTS2_20190412_050425_040<br>Magnitude: -2.75",
            "File: HFTS2_20190412_050456_040<br>Magnitude: -2.44",
            "File: HFTS2_20190412_050534_040<br>Magnitude: -2.59",
            "File: HFTS2_20190412_050607_040<br>Magnitude: -2.54"
           ],
           "type": "scatter3d",
           "x": [
            954015.3426
           ],
           "y": [
            849142.0644
           ],
           "z": [
            8382.5008
           ]
          }
         ],
         "name": "2019-04-12 04:34:37.717000"
        },
        {
         "data": [
          {
           "marker": {
            "cmax": -1.6189,
            "cmin": -2.9802,
            "color": [
             -2.3474
            ],
            "colorscale": [
             [
              0,
              "#440154"
             ],
             [
              0.1111111111111111,
              "#482878"
             ],
             [
              0.2222222222222222,
              "#3e4989"
             ],
             [
              0.3333333333333333,
              "#31688e"
             ],
             [
              0.4444444444444444,
              "#26828e"
             ],
             [
              0.5555555555555556,
              "#1f9e89"
             ],
             [
              0.6666666666666666,
              "#35b779"
             ],
             [
              0.7777777777777778,
              "#6ece58"
             ],
             [
              0.8888888888888888,
              "#b5de2b"
             ],
             [
              1,
              "#fde725"
             ]
            ],
            "size": [
             234.73999999999998
            ],
            "sizemode": "diameter",
            "sizeref": 25
           },
           "mode": "markers",
           "text": [
            "File: HFTS2_20190412_042831_040<br>Magnitude: -2.77",
            "File: HFTS2_20190412_042832_040<br>Magnitude: -2.73",
            "File: HFTS2_20190412_042833_040<br>Magnitude: -2.65",
            "File: HFTS2_20190412_042835_040<br>Magnitude: -2.65",
            "File: HFTS2_20190412_043437_040<br>Magnitude: -2.56",
            "File: HFTS2_20190412_043802_040<br>Magnitude: -2.35",
            "File: HFTS2_20190412_043803_040<br>Magnitude: -2.22",
            "File: HFTS2_20190412_044156_040<br>Magnitude: -2.03",
            "File: HFTS2_20190412_044403_040<br>Magnitude: -2.39",
            "File: HFTS2_20190412_044404_040<br>Magnitude: -2.10",
            "File: HFTS2_20190412_044435_040_Merged<br>Magnitude: -2.47",
            "File: HFTS2_20190412_044506_040<br>Magnitude: -2.32",
            "File: HFTS2_20190412_044516_040<br>Magnitude: -1.97",
            "File: HFTS2_20190412_044521_040<br>Magnitude: -2.07",
            "File: HFTS2_20190412_044522_040<br>Magnitude: -2.47",
            "File: HFTS2_20190412_044526_040<br>Magnitude: -2.74",
            "File: HFTS2_20190412_044540_040<br>Magnitude: -2.21",
            "File: HFTS2_20190412_044542_040<br>Magnitude: -2.56",
            "File: HFTS2_20190412_044543_040<br>Magnitude: -2.36",
            "File: HFTS2_20190412_044544_040<br>Magnitude: -2.59",
            "File: HFTS2_20190412_044545_040<br>Magnitude: -2.60",
            "File: HFTS2_20190412_044605_040<br>Magnitude: -2.71",
            "File: HFTS2_20190412_044619_040<br>Magnitude: -2.54",
            "File: HFTS2_20190412_044620_040<br>Magnitude: -1.81",
            "File: HFTS2_20190412_044623_040<br>Magnitude: -2.21",
            "File: HFTS2_20190412_044643_040<br>Magnitude: -2.30",
            "File: HFTS2_20190412_044647_040<br>Magnitude: -2.42",
            "File: HFTS2_20190412_044651_040<br>Magnitude: -2.46",
            "File: HFTS2_20190412_044659_040_Merged<br>Magnitude: -1.62",
            "File: HFTS2_20190412_044707_040<br>Magnitude: -2.09",
            "File: HFTS2_20190412_044731_040<br>Magnitude: -2.70",
            "File: HFTS2_20190412_044737_040<br>Magnitude: -2.41",
            "File: HFTS2_20190412_044741_040<br>Magnitude: -2.63",
            "File: HFTS2_20190412_044757_040<br>Magnitude: -2.12",
            "File: HFTS2_20190412_044759_040<br>Magnitude: -2.07",
            "File: HFTS2_20190412_044800_040<br>Magnitude: -2.53",
            "File: HFTS2_20190412_044803_040<br>Magnitude: -2.61",
            "File: HFTS2_20190412_044816_040<br>Magnitude: -2.12",
            "File: HFTS2_20190412_044822_040<br>Magnitude: -2.06",
            "File: HFTS2_20190412_044824_040<br>Magnitude: -2.02",
            "File: HFTS2_20190412_044829_040<br>Magnitude: -1.79",
            "File: HFTS2_20190412_044833_040<br>Magnitude: -2.29",
            "File: HFTS2_20190412_044841_040<br>Magnitude: -2.80",
            "File: HFTS2_20190412_044842_040<br>Magnitude: -2.24",
            "File: HFTS2_20190412_044903_040<br>Magnitude: -2.53",
            "File: HFTS2_20190412_044914_040<br>Magnitude: -2.58",
            "File: HFTS2_20190412_044945_040<br>Magnitude: -2.34",
            "File: HFTS2_20190412_044957_040<br>Magnitude: -2.58",
            "File: HFTS2_20190412_045027_040<br>Magnitude: -2.54",
            "File: HFTS2_20190412_045029_040<br>Magnitude: -2.63",
            "File: HFTS2_20190412_045035_040<br>Magnitude: -2.49",
            "File: HFTS2_20190412_045126_040<br>Magnitude: -2.40",
            "File: HFTS2_20190412_045127_040<br>Magnitude: -2.66",
            "File: HFTS2_20190412_045157_040<br>Magnitude: -2.08",
            "File: HFTS2_20190412_045254_040<br>Magnitude: -2.98",
            "File: HFTS2_20190412_045333_040<br>Magnitude: -2.15",
            "File: HFTS2_20190412_045344_040<br>Magnitude: -2.72",
            "File: HFTS2_20190412_045434_040<br>Magnitude: -2.50",
            "File: HFTS2_20190412_045451_040<br>Magnitude: -2.17",
            "File: HFTS2_20190412_045457_040<br>Magnitude: -2.51",
            "File: HFTS2_20190412_045523_040<br>Magnitude: -2.33",
            "File: HFTS2_20190412_045526_040<br>Magnitude: -2.80",
            "File: HFTS2_20190412_045528_040<br>Magnitude: -2.65",
            "File: HFTS2_20190412_045530_040<br>Magnitude: -2.49",
            "File: HFTS2_20190412_045535_040<br>Magnitude: -2.52",
            "File: HFTS2_20190412_045537_040<br>Magnitude: -2.76",
            "File: HFTS2_20190412_045550_040<br>Magnitude: -2.54",
            "File: HFTS2_20190412_045558_040<br>Magnitude: -2.77",
            "File: HFTS2_20190412_045602_040<br>Magnitude: -2.00",
            "File: HFTS2_20190412_045604_040<br>Magnitude: -2.78",
            "File: HFTS2_20190412_045608_040<br>Magnitude: -2.12",
            "File: HFTS2_20190412_045611_040<br>Magnitude: -2.60",
            "File: HFTS2_20190412_045620_040<br>Magnitude: -2.31",
            "File: HFTS2_20190412_045630_040<br>Magnitude: -2.65",
            "File: HFTS2_20190412_045644_040<br>Magnitude: -2.50",
            "File: HFTS2_20190412_045716_040<br>Magnitude: -2.37",
            "File: HFTS2_20190412_045727_040<br>Magnitude: -2.57",
            "File: HFTS2_20190412_045809_040<br>Magnitude: -2.58",
            "File: HFTS2_20190412_045818_040<br>Magnitude: -2.67",
            "File: HFTS2_20190412_045840_040<br>Magnitude: -2.77",
            "File: HFTS2_20190412_045938_040<br>Magnitude: -2.77",
            "File: HFTS2_20190412_045943_040<br>Magnitude: -2.39",
            "File: HFTS2_20190412_045952_040<br>Magnitude: -2.52",
            "File: HFTS2_20190412_050004_040<br>Magnitude: -2.35",
            "File: HFTS2_20190412_050011_040<br>Magnitude: -2.47",
            "File: HFTS2_20190412_050036_040<br>Magnitude: -2.61",
            "File: HFTS2_20190412_050053_040<br>Magnitude: -2.92",
            "File: HFTS2_20190412_050100_040<br>Magnitude: -2.58",
            "File: HFTS2_20190412_050127_040<br>Magnitude: -2.58",
            "File: HFTS2_20190412_050128_040<br>Magnitude: -2.57",
            "File: HFTS2_20190412_050133_040<br>Magnitude: -2.77",
            "File: HFTS2_20190412_050147_040<br>Magnitude: -2.71",
            "File: HFTS2_20190412_050202_040<br>Magnitude: -2.88",
            "File: HFTS2_20190412_050221_040<br>Magnitude: -2.82",
            "File: HFTS2_20190412_050315_040<br>Magnitude: -2.47",
            "File: HFTS2_20190412_050325_040<br>Magnitude: -2.62",
            "File: HFTS2_20190412_050358_040<br>Magnitude: -2.78",
            "File: HFTS2_20190412_050425_040<br>Magnitude: -2.75",
            "File: HFTS2_20190412_050456_040<br>Magnitude: -2.44",
            "File: HFTS2_20190412_050534_040<br>Magnitude: -2.59",
            "File: HFTS2_20190412_050607_040<br>Magnitude: -2.54"
           ],
           "type": "scatter3d",
           "x": [
            954066.926
           ],
           "y": [
            849117.0278
           ],
           "z": [
            8360.2172
           ]
          }
         ],
         "name": "2019-04-12 04:38:02.313000"
        },
        {
         "data": [
          {
           "marker": {
            "cmax": -1.6189,
            "cmin": -2.9802,
            "color": [
             -2.2195
            ],
            "colorscale": [
             [
              0,
              "#440154"
             ],
             [
              0.1111111111111111,
              "#482878"
             ],
             [
              0.2222222222222222,
              "#3e4989"
             ],
             [
              0.3333333333333333,
              "#31688e"
             ],
             [
              0.4444444444444444,
              "#26828e"
             ],
             [
              0.5555555555555556,
              "#1f9e89"
             ],
             [
              0.6666666666666666,
              "#35b779"
             ],
             [
              0.7777777777777778,
              "#6ece58"
             ],
             [
              0.8888888888888888,
              "#b5de2b"
             ],
             [
              1,
              "#fde725"
             ]
            ],
            "size": [
             221.95
            ],
            "sizemode": "diameter",
            "sizeref": 25
           },
           "mode": "markers",
           "text": [
            "File: HFTS2_20190412_042831_040<br>Magnitude: -2.77",
            "File: HFTS2_20190412_042832_040<br>Magnitude: -2.73",
            "File: HFTS2_20190412_042833_040<br>Magnitude: -2.65",
            "File: HFTS2_20190412_042835_040<br>Magnitude: -2.65",
            "File: HFTS2_20190412_043437_040<br>Magnitude: -2.56",
            "File: HFTS2_20190412_043802_040<br>Magnitude: -2.35",
            "File: HFTS2_20190412_043803_040<br>Magnitude: -2.22",
            "File: HFTS2_20190412_044156_040<br>Magnitude: -2.03",
            "File: HFTS2_20190412_044403_040<br>Magnitude: -2.39",
            "File: HFTS2_20190412_044404_040<br>Magnitude: -2.10",
            "File: HFTS2_20190412_044435_040_Merged<br>Magnitude: -2.47",
            "File: HFTS2_20190412_044506_040<br>Magnitude: -2.32",
            "File: HFTS2_20190412_044516_040<br>Magnitude: -1.97",
            "File: HFTS2_20190412_044521_040<br>Magnitude: -2.07",
            "File: HFTS2_20190412_044522_040<br>Magnitude: -2.47",
            "File: HFTS2_20190412_044526_040<br>Magnitude: -2.74",
            "File: HFTS2_20190412_044540_040<br>Magnitude: -2.21",
            "File: HFTS2_20190412_044542_040<br>Magnitude: -2.56",
            "File: HFTS2_20190412_044543_040<br>Magnitude: -2.36",
            "File: HFTS2_20190412_044544_040<br>Magnitude: -2.59",
            "File: HFTS2_20190412_044545_040<br>Magnitude: -2.60",
            "File: HFTS2_20190412_044605_040<br>Magnitude: -2.71",
            "File: HFTS2_20190412_044619_040<br>Magnitude: -2.54",
            "File: HFTS2_20190412_044620_040<br>Magnitude: -1.81",
            "File: HFTS2_20190412_044623_040<br>Magnitude: -2.21",
            "File: HFTS2_20190412_044643_040<br>Magnitude: -2.30",
            "File: HFTS2_20190412_044647_040<br>Magnitude: -2.42",
            "File: HFTS2_20190412_044651_040<br>Magnitude: -2.46",
            "File: HFTS2_20190412_044659_040_Merged<br>Magnitude: -1.62",
            "File: HFTS2_20190412_044707_040<br>Magnitude: -2.09",
            "File: HFTS2_20190412_044731_040<br>Magnitude: -2.70",
            "File: HFTS2_20190412_044737_040<br>Magnitude: -2.41",
            "File: HFTS2_20190412_044741_040<br>Magnitude: -2.63",
            "File: HFTS2_20190412_044757_040<br>Magnitude: -2.12",
            "File: HFTS2_20190412_044759_040<br>Magnitude: -2.07",
            "File: HFTS2_20190412_044800_040<br>Magnitude: -2.53",
            "File: HFTS2_20190412_044803_040<br>Magnitude: -2.61",
            "File: HFTS2_20190412_044816_040<br>Magnitude: -2.12",
            "File: HFTS2_20190412_044822_040<br>Magnitude: -2.06",
            "File: HFTS2_20190412_044824_040<br>Magnitude: -2.02",
            "File: HFTS2_20190412_044829_040<br>Magnitude: -1.79",
            "File: HFTS2_20190412_044833_040<br>Magnitude: -2.29",
            "File: HFTS2_20190412_044841_040<br>Magnitude: -2.80",
            "File: HFTS2_20190412_044842_040<br>Magnitude: -2.24",
            "File: HFTS2_20190412_044903_040<br>Magnitude: -2.53",
            "File: HFTS2_20190412_044914_040<br>Magnitude: -2.58",
            "File: HFTS2_20190412_044945_040<br>Magnitude: -2.34",
            "File: HFTS2_20190412_044957_040<br>Magnitude: -2.58",
            "File: HFTS2_20190412_045027_040<br>Magnitude: -2.54",
            "File: HFTS2_20190412_045029_040<br>Magnitude: -2.63",
            "File: HFTS2_20190412_045035_040<br>Magnitude: -2.49",
            "File: HFTS2_20190412_045126_040<br>Magnitude: -2.40",
            "File: HFTS2_20190412_045127_040<br>Magnitude: -2.66",
            "File: HFTS2_20190412_045157_040<br>Magnitude: -2.08",
            "File: HFTS2_20190412_045254_040<br>Magnitude: -2.98",
            "File: HFTS2_20190412_045333_040<br>Magnitude: -2.15",
            "File: HFTS2_20190412_045344_040<br>Magnitude: -2.72",
            "File: HFTS2_20190412_045434_040<br>Magnitude: -2.50",
            "File: HFTS2_20190412_045451_040<br>Magnitude: -2.17",
            "File: HFTS2_20190412_045457_040<br>Magnitude: -2.51",
            "File: HFTS2_20190412_045523_040<br>Magnitude: -2.33",
            "File: HFTS2_20190412_045526_040<br>Magnitude: -2.80",
            "File: HFTS2_20190412_045528_040<br>Magnitude: -2.65",
            "File: HFTS2_20190412_045530_040<br>Magnitude: -2.49",
            "File: HFTS2_20190412_045535_040<br>Magnitude: -2.52",
            "File: HFTS2_20190412_045537_040<br>Magnitude: -2.76",
            "File: HFTS2_20190412_045550_040<br>Magnitude: -2.54",
            "File: HFTS2_20190412_045558_040<br>Magnitude: -2.77",
            "File: HFTS2_20190412_045602_040<br>Magnitude: -2.00",
            "File: HFTS2_20190412_045604_040<br>Magnitude: -2.78",
            "File: HFTS2_20190412_045608_040<br>Magnitude: -2.12",
            "File: HFTS2_20190412_045611_040<br>Magnitude: -2.60",
            "File: HFTS2_20190412_045620_040<br>Magnitude: -2.31",
            "File: HFTS2_20190412_045630_040<br>Magnitude: -2.65",
            "File: HFTS2_20190412_045644_040<br>Magnitude: -2.50",
            "File: HFTS2_20190412_045716_040<br>Magnitude: -2.37",
            "File: HFTS2_20190412_045727_040<br>Magnitude: -2.57",
            "File: HFTS2_20190412_045809_040<br>Magnitude: -2.58",
            "File: HFTS2_20190412_045818_040<br>Magnitude: -2.67",
            "File: HFTS2_20190412_045840_040<br>Magnitude: -2.77",
            "File: HFTS2_20190412_045938_040<br>Magnitude: -2.77",
            "File: HFTS2_20190412_045943_040<br>Magnitude: -2.39",
            "File: HFTS2_20190412_045952_040<br>Magnitude: -2.52",
            "File: HFTS2_20190412_050004_040<br>Magnitude: -2.35",
            "File: HFTS2_20190412_050011_040<br>Magnitude: -2.47",
            "File: HFTS2_20190412_050036_040<br>Magnitude: -2.61",
            "File: HFTS2_20190412_050053_040<br>Magnitude: -2.92",
            "File: HFTS2_20190412_050100_040<br>Magnitude: -2.58",
            "File: HFTS2_20190412_050127_040<br>Magnitude: -2.58",
            "File: HFTS2_20190412_050128_040<br>Magnitude: -2.57",
            "File: HFTS2_20190412_050133_040<br>Magnitude: -2.77",
            "File: HFTS2_20190412_050147_040<br>Magnitude: -2.71",
            "File: HFTS2_20190412_050202_040<br>Magnitude: -2.88",
            "File: HFTS2_20190412_050221_040<br>Magnitude: -2.82",
            "File: HFTS2_20190412_050315_040<br>Magnitude: -2.47",
            "File: HFTS2_20190412_050325_040<br>Magnitude: -2.62",
            "File: HFTS2_20190412_050358_040<br>Magnitude: -2.78",
            "File: HFTS2_20190412_050425_040<br>Magnitude: -2.75",
            "File: HFTS2_20190412_050456_040<br>Magnitude: -2.44",
            "File: HFTS2_20190412_050534_040<br>Magnitude: -2.59",
            "File: HFTS2_20190412_050607_040<br>Magnitude: -2.54"
           ],
           "type": "scatter3d",
           "x": [
            953996.1696
           ],
           "y": [
            849153.6269
           ],
           "z": [
            8590.3552
           ]
          }
         ],
         "name": "2019-04-12 04:38:03.200000"
        },
        {
         "data": [
          {
           "marker": {
            "cmax": -1.6189,
            "cmin": -2.9802,
            "color": [
             -2.0328
            ],
            "colorscale": [
             [
              0,
              "#440154"
             ],
             [
              0.1111111111111111,
              "#482878"
             ],
             [
              0.2222222222222222,
              "#3e4989"
             ],
             [
              0.3333333333333333,
              "#31688e"
             ],
             [
              0.4444444444444444,
              "#26828e"
             ],
             [
              0.5555555555555556,
              "#1f9e89"
             ],
             [
              0.6666666666666666,
              "#35b779"
             ],
             [
              0.7777777777777778,
              "#6ece58"
             ],
             [
              0.8888888888888888,
              "#b5de2b"
             ],
             [
              1,
              "#fde725"
             ]
            ],
            "size": [
             203.28
            ],
            "sizemode": "diameter",
            "sizeref": 25
           },
           "mode": "markers",
           "text": [
            "File: HFTS2_20190412_042831_040<br>Magnitude: -2.77",
            "File: HFTS2_20190412_042832_040<br>Magnitude: -2.73",
            "File: HFTS2_20190412_042833_040<br>Magnitude: -2.65",
            "File: HFTS2_20190412_042835_040<br>Magnitude: -2.65",
            "File: HFTS2_20190412_043437_040<br>Magnitude: -2.56",
            "File: HFTS2_20190412_043802_040<br>Magnitude: -2.35",
            "File: HFTS2_20190412_043803_040<br>Magnitude: -2.22",
            "File: HFTS2_20190412_044156_040<br>Magnitude: -2.03",
            "File: HFTS2_20190412_044403_040<br>Magnitude: -2.39",
            "File: HFTS2_20190412_044404_040<br>Magnitude: -2.10",
            "File: HFTS2_20190412_044435_040_Merged<br>Magnitude: -2.47",
            "File: HFTS2_20190412_044506_040<br>Magnitude: -2.32",
            "File: HFTS2_20190412_044516_040<br>Magnitude: -1.97",
            "File: HFTS2_20190412_044521_040<br>Magnitude: -2.07",
            "File: HFTS2_20190412_044522_040<br>Magnitude: -2.47",
            "File: HFTS2_20190412_044526_040<br>Magnitude: -2.74",
            "File: HFTS2_20190412_044540_040<br>Magnitude: -2.21",
            "File: HFTS2_20190412_044542_040<br>Magnitude: -2.56",
            "File: HFTS2_20190412_044543_040<br>Magnitude: -2.36",
            "File: HFTS2_20190412_044544_040<br>Magnitude: -2.59",
            "File: HFTS2_20190412_044545_040<br>Magnitude: -2.60",
            "File: HFTS2_20190412_044605_040<br>Magnitude: -2.71",
            "File: HFTS2_20190412_044619_040<br>Magnitude: -2.54",
            "File: HFTS2_20190412_044620_040<br>Magnitude: -1.81",
            "File: HFTS2_20190412_044623_040<br>Magnitude: -2.21",
            "File: HFTS2_20190412_044643_040<br>Magnitude: -2.30",
            "File: HFTS2_20190412_044647_040<br>Magnitude: -2.42",
            "File: HFTS2_20190412_044651_040<br>Magnitude: -2.46",
            "File: HFTS2_20190412_044659_040_Merged<br>Magnitude: -1.62",
            "File: HFTS2_20190412_044707_040<br>Magnitude: -2.09",
            "File: HFTS2_20190412_044731_040<br>Magnitude: -2.70",
            "File: HFTS2_20190412_044737_040<br>Magnitude: -2.41",
            "File: HFTS2_20190412_044741_040<br>Magnitude: -2.63",
            "File: HFTS2_20190412_044757_040<br>Magnitude: -2.12",
            "File: HFTS2_20190412_044759_040<br>Magnitude: -2.07",
            "File: HFTS2_20190412_044800_040<br>Magnitude: -2.53",
            "File: HFTS2_20190412_044803_040<br>Magnitude: -2.61",
            "File: HFTS2_20190412_044816_040<br>Magnitude: -2.12",
            "File: HFTS2_20190412_044822_040<br>Magnitude: -2.06",
            "File: HFTS2_20190412_044824_040<br>Magnitude: -2.02",
            "File: HFTS2_20190412_044829_040<br>Magnitude: -1.79",
            "File: HFTS2_20190412_044833_040<br>Magnitude: -2.29",
            "File: HFTS2_20190412_044841_040<br>Magnitude: -2.80",
            "File: HFTS2_20190412_044842_040<br>Magnitude: -2.24",
            "File: HFTS2_20190412_044903_040<br>Magnitude: -2.53",
            "File: HFTS2_20190412_044914_040<br>Magnitude: -2.58",
            "File: HFTS2_20190412_044945_040<br>Magnitude: -2.34",
            "File: HFTS2_20190412_044957_040<br>Magnitude: -2.58",
            "File: HFTS2_20190412_045027_040<br>Magnitude: -2.54",
            "File: HFTS2_20190412_045029_040<br>Magnitude: -2.63",
            "File: HFTS2_20190412_045035_040<br>Magnitude: -2.49",
            "File: HFTS2_20190412_045126_040<br>Magnitude: -2.40",
            "File: HFTS2_20190412_045127_040<br>Magnitude: -2.66",
            "File: HFTS2_20190412_045157_040<br>Magnitude: -2.08",
            "File: HFTS2_20190412_045254_040<br>Magnitude: -2.98",
            "File: HFTS2_20190412_045333_040<br>Magnitude: -2.15",
            "File: HFTS2_20190412_045344_040<br>Magnitude: -2.72",
            "File: HFTS2_20190412_045434_040<br>Magnitude: -2.50",
            "File: HFTS2_20190412_045451_040<br>Magnitude: -2.17",
            "File: HFTS2_20190412_045457_040<br>Magnitude: -2.51",
            "File: HFTS2_20190412_045523_040<br>Magnitude: -2.33",
            "File: HFTS2_20190412_045526_040<br>Magnitude: -2.80",
            "File: HFTS2_20190412_045528_040<br>Magnitude: -2.65",
            "File: HFTS2_20190412_045530_040<br>Magnitude: -2.49",
            "File: HFTS2_20190412_045535_040<br>Magnitude: -2.52",
            "File: HFTS2_20190412_045537_040<br>Magnitude: -2.76",
            "File: HFTS2_20190412_045550_040<br>Magnitude: -2.54",
            "File: HFTS2_20190412_045558_040<br>Magnitude: -2.77",
            "File: HFTS2_20190412_045602_040<br>Magnitude: -2.00",
            "File: HFTS2_20190412_045604_040<br>Magnitude: -2.78",
            "File: HFTS2_20190412_045608_040<br>Magnitude: -2.12",
            "File: HFTS2_20190412_045611_040<br>Magnitude: -2.60",
            "File: HFTS2_20190412_045620_040<br>Magnitude: -2.31",
            "File: HFTS2_20190412_045630_040<br>Magnitude: -2.65",
            "File: HFTS2_20190412_045644_040<br>Magnitude: -2.50",
            "File: HFTS2_20190412_045716_040<br>Magnitude: -2.37",
            "File: HFTS2_20190412_045727_040<br>Magnitude: -2.57",
            "File: HFTS2_20190412_045809_040<br>Magnitude: -2.58",
            "File: HFTS2_20190412_045818_040<br>Magnitude: -2.67",
            "File: HFTS2_20190412_045840_040<br>Magnitude: -2.77",
            "File: HFTS2_20190412_045938_040<br>Magnitude: -2.77",
            "File: HFTS2_20190412_045943_040<br>Magnitude: -2.39",
            "File: HFTS2_20190412_045952_040<br>Magnitude: -2.52",
            "File: HFTS2_20190412_050004_040<br>Magnitude: -2.35",
            "File: HFTS2_20190412_050011_040<br>Magnitude: -2.47",
            "File: HFTS2_20190412_050036_040<br>Magnitude: -2.61",
            "File: HFTS2_20190412_050053_040<br>Magnitude: -2.92",
            "File: HFTS2_20190412_050100_040<br>Magnitude: -2.58",
            "File: HFTS2_20190412_050127_040<br>Magnitude: -2.58",
            "File: HFTS2_20190412_050128_040<br>Magnitude: -2.57",
            "File: HFTS2_20190412_050133_040<br>Magnitude: -2.77",
            "File: HFTS2_20190412_050147_040<br>Magnitude: -2.71",
            "File: HFTS2_20190412_050202_040<br>Magnitude: -2.88",
            "File: HFTS2_20190412_050221_040<br>Magnitude: -2.82",
            "File: HFTS2_20190412_050315_040<br>Magnitude: -2.47",
            "File: HFTS2_20190412_050325_040<br>Magnitude: -2.62",
            "File: HFTS2_20190412_050358_040<br>Magnitude: -2.78",
            "File: HFTS2_20190412_050425_040<br>Magnitude: -2.75",
            "File: HFTS2_20190412_050456_040<br>Magnitude: -2.44",
            "File: HFTS2_20190412_050534_040<br>Magnitude: -2.59",
            "File: HFTS2_20190412_050607_040<br>Magnitude: -2.54"
           ],
           "type": "scatter3d",
           "x": [
            954181.5855
           ],
           "y": [
            849085.9865
           ],
           "z": [
            8678.9348
           ]
          }
         ],
         "name": "2019-04-12 04:41:56.351000"
        },
        {
         "data": [
          {
           "marker": {
            "cmax": -1.6189,
            "cmin": -2.9802,
            "color": [
             -2.3894
            ],
            "colorscale": [
             [
              0,
              "#440154"
             ],
             [
              0.1111111111111111,
              "#482878"
             ],
             [
              0.2222222222222222,
              "#3e4989"
             ],
             [
              0.3333333333333333,
              "#31688e"
             ],
             [
              0.4444444444444444,
              "#26828e"
             ],
             [
              0.5555555555555556,
              "#1f9e89"
             ],
             [
              0.6666666666666666,
              "#35b779"
             ],
             [
              0.7777777777777778,
              "#6ece58"
             ],
             [
              0.8888888888888888,
              "#b5de2b"
             ],
             [
              1,
              "#fde725"
             ]
            ],
            "size": [
             238.94000000000003
            ],
            "sizemode": "diameter",
            "sizeref": 25
           },
           "mode": "markers",
           "text": [
            "File: HFTS2_20190412_042831_040<br>Magnitude: -2.77",
            "File: HFTS2_20190412_042832_040<br>Magnitude: -2.73",
            "File: HFTS2_20190412_042833_040<br>Magnitude: -2.65",
            "File: HFTS2_20190412_042835_040<br>Magnitude: -2.65",
            "File: HFTS2_20190412_043437_040<br>Magnitude: -2.56",
            "File: HFTS2_20190412_043802_040<br>Magnitude: -2.35",
            "File: HFTS2_20190412_043803_040<br>Magnitude: -2.22",
            "File: HFTS2_20190412_044156_040<br>Magnitude: -2.03",
            "File: HFTS2_20190412_044403_040<br>Magnitude: -2.39",
            "File: HFTS2_20190412_044404_040<br>Magnitude: -2.10",
            "File: HFTS2_20190412_044435_040_Merged<br>Magnitude: -2.47",
            "File: HFTS2_20190412_044506_040<br>Magnitude: -2.32",
            "File: HFTS2_20190412_044516_040<br>Magnitude: -1.97",
            "File: HFTS2_20190412_044521_040<br>Magnitude: -2.07",
            "File: HFTS2_20190412_044522_040<br>Magnitude: -2.47",
            "File: HFTS2_20190412_044526_040<br>Magnitude: -2.74",
            "File: HFTS2_20190412_044540_040<br>Magnitude: -2.21",
            "File: HFTS2_20190412_044542_040<br>Magnitude: -2.56",
            "File: HFTS2_20190412_044543_040<br>Magnitude: -2.36",
            "File: HFTS2_20190412_044544_040<br>Magnitude: -2.59",
            "File: HFTS2_20190412_044545_040<br>Magnitude: -2.60",
            "File: HFTS2_20190412_044605_040<br>Magnitude: -2.71",
            "File: HFTS2_20190412_044619_040<br>Magnitude: -2.54",
            "File: HFTS2_20190412_044620_040<br>Magnitude: -1.81",
            "File: HFTS2_20190412_044623_040<br>Magnitude: -2.21",
            "File: HFTS2_20190412_044643_040<br>Magnitude: -2.30",
            "File: HFTS2_20190412_044647_040<br>Magnitude: -2.42",
            "File: HFTS2_20190412_044651_040<br>Magnitude: -2.46",
            "File: HFTS2_20190412_044659_040_Merged<br>Magnitude: -1.62",
            "File: HFTS2_20190412_044707_040<br>Magnitude: -2.09",
            "File: HFTS2_20190412_044731_040<br>Magnitude: -2.70",
            "File: HFTS2_20190412_044737_040<br>Magnitude: -2.41",
            "File: HFTS2_20190412_044741_040<br>Magnitude: -2.63",
            "File: HFTS2_20190412_044757_040<br>Magnitude: -2.12",
            "File: HFTS2_20190412_044759_040<br>Magnitude: -2.07",
            "File: HFTS2_20190412_044800_040<br>Magnitude: -2.53",
            "File: HFTS2_20190412_044803_040<br>Magnitude: -2.61",
            "File: HFTS2_20190412_044816_040<br>Magnitude: -2.12",
            "File: HFTS2_20190412_044822_040<br>Magnitude: -2.06",
            "File: HFTS2_20190412_044824_040<br>Magnitude: -2.02",
            "File: HFTS2_20190412_044829_040<br>Magnitude: -1.79",
            "File: HFTS2_20190412_044833_040<br>Magnitude: -2.29",
            "File: HFTS2_20190412_044841_040<br>Magnitude: -2.80",
            "File: HFTS2_20190412_044842_040<br>Magnitude: -2.24",
            "File: HFTS2_20190412_044903_040<br>Magnitude: -2.53",
            "File: HFTS2_20190412_044914_040<br>Magnitude: -2.58",
            "File: HFTS2_20190412_044945_040<br>Magnitude: -2.34",
            "File: HFTS2_20190412_044957_040<br>Magnitude: -2.58",
            "File: HFTS2_20190412_045027_040<br>Magnitude: -2.54",
            "File: HFTS2_20190412_045029_040<br>Magnitude: -2.63",
            "File: HFTS2_20190412_045035_040<br>Magnitude: -2.49",
            "File: HFTS2_20190412_045126_040<br>Magnitude: -2.40",
            "File: HFTS2_20190412_045127_040<br>Magnitude: -2.66",
            "File: HFTS2_20190412_045157_040<br>Magnitude: -2.08",
            "File: HFTS2_20190412_045254_040<br>Magnitude: -2.98",
            "File: HFTS2_20190412_045333_040<br>Magnitude: -2.15",
            "File: HFTS2_20190412_045344_040<br>Magnitude: -2.72",
            "File: HFTS2_20190412_045434_040<br>Magnitude: -2.50",
            "File: HFTS2_20190412_045451_040<br>Magnitude: -2.17",
            "File: HFTS2_20190412_045457_040<br>Magnitude: -2.51",
            "File: HFTS2_20190412_045523_040<br>Magnitude: -2.33",
            "File: HFTS2_20190412_045526_040<br>Magnitude: -2.80",
            "File: HFTS2_20190412_045528_040<br>Magnitude: -2.65",
            "File: HFTS2_20190412_045530_040<br>Magnitude: -2.49",
            "File: HFTS2_20190412_045535_040<br>Magnitude: -2.52",
            "File: HFTS2_20190412_045537_040<br>Magnitude: -2.76",
            "File: HFTS2_20190412_045550_040<br>Magnitude: -2.54",
            "File: HFTS2_20190412_045558_040<br>Magnitude: -2.77",
            "File: HFTS2_20190412_045602_040<br>Magnitude: -2.00",
            "File: HFTS2_20190412_045604_040<br>Magnitude: -2.78",
            "File: HFTS2_20190412_045608_040<br>Magnitude: -2.12",
            "File: HFTS2_20190412_045611_040<br>Magnitude: -2.60",
            "File: HFTS2_20190412_045620_040<br>Magnitude: -2.31",
            "File: HFTS2_20190412_045630_040<br>Magnitude: -2.65",
            "File: HFTS2_20190412_045644_040<br>Magnitude: -2.50",
            "File: HFTS2_20190412_045716_040<br>Magnitude: -2.37",
            "File: HFTS2_20190412_045727_040<br>Magnitude: -2.57",
            "File: HFTS2_20190412_045809_040<br>Magnitude: -2.58",
            "File: HFTS2_20190412_045818_040<br>Magnitude: -2.67",
            "File: HFTS2_20190412_045840_040<br>Magnitude: -2.77",
            "File: HFTS2_20190412_045938_040<br>Magnitude: -2.77",
            "File: HFTS2_20190412_045943_040<br>Magnitude: -2.39",
            "File: HFTS2_20190412_045952_040<br>Magnitude: -2.52",
            "File: HFTS2_20190412_050004_040<br>Magnitude: -2.35",
            "File: HFTS2_20190412_050011_040<br>Magnitude: -2.47",
            "File: HFTS2_20190412_050036_040<br>Magnitude: -2.61",
            "File: HFTS2_20190412_050053_040<br>Magnitude: -2.92",
            "File: HFTS2_20190412_050100_040<br>Magnitude: -2.58",
            "File: HFTS2_20190412_050127_040<br>Magnitude: -2.58",
            "File: HFTS2_20190412_050128_040<br>Magnitude: -2.57",
            "File: HFTS2_20190412_050133_040<br>Magnitude: -2.77",
            "File: HFTS2_20190412_050147_040<br>Magnitude: -2.71",
            "File: HFTS2_20190412_050202_040<br>Magnitude: -2.88",
            "File: HFTS2_20190412_050221_040<br>Magnitude: -2.82",
            "File: HFTS2_20190412_050315_040<br>Magnitude: -2.47",
            "File: HFTS2_20190412_050325_040<br>Magnitude: -2.62",
            "File: HFTS2_20190412_050358_040<br>Magnitude: -2.78",
            "File: HFTS2_20190412_050425_040<br>Magnitude: -2.75",
            "File: HFTS2_20190412_050456_040<br>Magnitude: -2.44",
            "File: HFTS2_20190412_050534_040<br>Magnitude: -2.59",
            "File: HFTS2_20190412_050607_040<br>Magnitude: -2.54"
           ],
           "type": "scatter3d",
           "x": [
            954017.4662
           ],
           "y": [
            849149.5522
           ],
           "z": [
            8677.6884
           ]
          }
         ],
         "name": "2019-04-12 04:44:03.797000"
        },
        {
         "data": [
          {
           "marker": {
            "cmax": -1.6189,
            "cmin": -2.9802,
            "color": [
             -2.0987
            ],
            "colorscale": [
             [
              0,
              "#440154"
             ],
             [
              0.1111111111111111,
              "#482878"
             ],
             [
              0.2222222222222222,
              "#3e4989"
             ],
             [
              0.3333333333333333,
              "#31688e"
             ],
             [
              0.4444444444444444,
              "#26828e"
             ],
             [
              0.5555555555555556,
              "#1f9e89"
             ],
             [
              0.6666666666666666,
              "#35b779"
             ],
             [
              0.7777777777777778,
              "#6ece58"
             ],
             [
              0.8888888888888888,
              "#b5de2b"
             ],
             [
              1,
              "#fde725"
             ]
            ],
            "size": [
             209.87
            ],
            "sizemode": "diameter",
            "sizeref": 25
           },
           "mode": "markers",
           "text": [
            "File: HFTS2_20190412_042831_040<br>Magnitude: -2.77",
            "File: HFTS2_20190412_042832_040<br>Magnitude: -2.73",
            "File: HFTS2_20190412_042833_040<br>Magnitude: -2.65",
            "File: HFTS2_20190412_042835_040<br>Magnitude: -2.65",
            "File: HFTS2_20190412_043437_040<br>Magnitude: -2.56",
            "File: HFTS2_20190412_043802_040<br>Magnitude: -2.35",
            "File: HFTS2_20190412_043803_040<br>Magnitude: -2.22",
            "File: HFTS2_20190412_044156_040<br>Magnitude: -2.03",
            "File: HFTS2_20190412_044403_040<br>Magnitude: -2.39",
            "File: HFTS2_20190412_044404_040<br>Magnitude: -2.10",
            "File: HFTS2_20190412_044435_040_Merged<br>Magnitude: -2.47",
            "File: HFTS2_20190412_044506_040<br>Magnitude: -2.32",
            "File: HFTS2_20190412_044516_040<br>Magnitude: -1.97",
            "File: HFTS2_20190412_044521_040<br>Magnitude: -2.07",
            "File: HFTS2_20190412_044522_040<br>Magnitude: -2.47",
            "File: HFTS2_20190412_044526_040<br>Magnitude: -2.74",
            "File: HFTS2_20190412_044540_040<br>Magnitude: -2.21",
            "File: HFTS2_20190412_044542_040<br>Magnitude: -2.56",
            "File: HFTS2_20190412_044543_040<br>Magnitude: -2.36",
            "File: HFTS2_20190412_044544_040<br>Magnitude: -2.59",
            "File: HFTS2_20190412_044545_040<br>Magnitude: -2.60",
            "File: HFTS2_20190412_044605_040<br>Magnitude: -2.71",
            "File: HFTS2_20190412_044619_040<br>Magnitude: -2.54",
            "File: HFTS2_20190412_044620_040<br>Magnitude: -1.81",
            "File: HFTS2_20190412_044623_040<br>Magnitude: -2.21",
            "File: HFTS2_20190412_044643_040<br>Magnitude: -2.30",
            "File: HFTS2_20190412_044647_040<br>Magnitude: -2.42",
            "File: HFTS2_20190412_044651_040<br>Magnitude: -2.46",
            "File: HFTS2_20190412_044659_040_Merged<br>Magnitude: -1.62",
            "File: HFTS2_20190412_044707_040<br>Magnitude: -2.09",
            "File: HFTS2_20190412_044731_040<br>Magnitude: -2.70",
            "File: HFTS2_20190412_044737_040<br>Magnitude: -2.41",
            "File: HFTS2_20190412_044741_040<br>Magnitude: -2.63",
            "File: HFTS2_20190412_044757_040<br>Magnitude: -2.12",
            "File: HFTS2_20190412_044759_040<br>Magnitude: -2.07",
            "File: HFTS2_20190412_044800_040<br>Magnitude: -2.53",
            "File: HFTS2_20190412_044803_040<br>Magnitude: -2.61",
            "File: HFTS2_20190412_044816_040<br>Magnitude: -2.12",
            "File: HFTS2_20190412_044822_040<br>Magnitude: -2.06",
            "File: HFTS2_20190412_044824_040<br>Magnitude: -2.02",
            "File: HFTS2_20190412_044829_040<br>Magnitude: -1.79",
            "File: HFTS2_20190412_044833_040<br>Magnitude: -2.29",
            "File: HFTS2_20190412_044841_040<br>Magnitude: -2.80",
            "File: HFTS2_20190412_044842_040<br>Magnitude: -2.24",
            "File: HFTS2_20190412_044903_040<br>Magnitude: -2.53",
            "File: HFTS2_20190412_044914_040<br>Magnitude: -2.58",
            "File: HFTS2_20190412_044945_040<br>Magnitude: -2.34",
            "File: HFTS2_20190412_044957_040<br>Magnitude: -2.58",
            "File: HFTS2_20190412_045027_040<br>Magnitude: -2.54",
            "File: HFTS2_20190412_045029_040<br>Magnitude: -2.63",
            "File: HFTS2_20190412_045035_040<br>Magnitude: -2.49",
            "File: HFTS2_20190412_045126_040<br>Magnitude: -2.40",
            "File: HFTS2_20190412_045127_040<br>Magnitude: -2.66",
            "File: HFTS2_20190412_045157_040<br>Magnitude: -2.08",
            "File: HFTS2_20190412_045254_040<br>Magnitude: -2.98",
            "File: HFTS2_20190412_045333_040<br>Magnitude: -2.15",
            "File: HFTS2_20190412_045344_040<br>Magnitude: -2.72",
            "File: HFTS2_20190412_045434_040<br>Magnitude: -2.50",
            "File: HFTS2_20190412_045451_040<br>Magnitude: -2.17",
            "File: HFTS2_20190412_045457_040<br>Magnitude: -2.51",
            "File: HFTS2_20190412_045523_040<br>Magnitude: -2.33",
            "File: HFTS2_20190412_045526_040<br>Magnitude: -2.80",
            "File: HFTS2_20190412_045528_040<br>Magnitude: -2.65",
            "File: HFTS2_20190412_045530_040<br>Magnitude: -2.49",
            "File: HFTS2_20190412_045535_040<br>Magnitude: -2.52",
            "File: HFTS2_20190412_045537_040<br>Magnitude: -2.76",
            "File: HFTS2_20190412_045550_040<br>Magnitude: -2.54",
            "File: HFTS2_20190412_045558_040<br>Magnitude: -2.77",
            "File: HFTS2_20190412_045602_040<br>Magnitude: -2.00",
            "File: HFTS2_20190412_045604_040<br>Magnitude: -2.78",
            "File: HFTS2_20190412_045608_040<br>Magnitude: -2.12",
            "File: HFTS2_20190412_045611_040<br>Magnitude: -2.60",
            "File: HFTS2_20190412_045620_040<br>Magnitude: -2.31",
            "File: HFTS2_20190412_045630_040<br>Magnitude: -2.65",
            "File: HFTS2_20190412_045644_040<br>Magnitude: -2.50",
            "File: HFTS2_20190412_045716_040<br>Magnitude: -2.37",
            "File: HFTS2_20190412_045727_040<br>Magnitude: -2.57",
            "File: HFTS2_20190412_045809_040<br>Magnitude: -2.58",
            "File: HFTS2_20190412_045818_040<br>Magnitude: -2.67",
            "File: HFTS2_20190412_045840_040<br>Magnitude: -2.77",
            "File: HFTS2_20190412_045938_040<br>Magnitude: -2.77",
            "File: HFTS2_20190412_045943_040<br>Magnitude: -2.39",
            "File: HFTS2_20190412_045952_040<br>Magnitude: -2.52",
            "File: HFTS2_20190412_050004_040<br>Magnitude: -2.35",
            "File: HFTS2_20190412_050011_040<br>Magnitude: -2.47",
            "File: HFTS2_20190412_050036_040<br>Magnitude: -2.61",
            "File: HFTS2_20190412_050053_040<br>Magnitude: -2.92",
            "File: HFTS2_20190412_050100_040<br>Magnitude: -2.58",
            "File: HFTS2_20190412_050127_040<br>Magnitude: -2.58",
            "File: HFTS2_20190412_050128_040<br>Magnitude: -2.57",
            "File: HFTS2_20190412_050133_040<br>Magnitude: -2.77",
            "File: HFTS2_20190412_050147_040<br>Magnitude: -2.71",
            "File: HFTS2_20190412_050202_040<br>Magnitude: -2.88",
            "File: HFTS2_20190412_050221_040<br>Magnitude: -2.82",
            "File: HFTS2_20190412_050315_040<br>Magnitude: -2.47",
            "File: HFTS2_20190412_050325_040<br>Magnitude: -2.62",
            "File: HFTS2_20190412_050358_040<br>Magnitude: -2.78",
            "File: HFTS2_20190412_050425_040<br>Magnitude: -2.75",
            "File: HFTS2_20190412_050456_040<br>Magnitude: -2.44",
            "File: HFTS2_20190412_050534_040<br>Magnitude: -2.59",
            "File: HFTS2_20190412_050607_040<br>Magnitude: -2.54"
           ],
           "type": "scatter3d",
           "x": [
            954341.8864
           ],
           "y": [
            849368.048
           ],
           "z": [
            8697.3702
           ]
          }
         ],
         "name": "2019-04-12 04:44:04.199000"
        },
        {
         "data": [
          {
           "marker": {
            "cmax": -1.6189,
            "cmin": -2.9802,
            "color": [
             -2.467
            ],
            "colorscale": [
             [
              0,
              "#440154"
             ],
             [
              0.1111111111111111,
              "#482878"
             ],
             [
              0.2222222222222222,
              "#3e4989"
             ],
             [
              0.3333333333333333,
              "#31688e"
             ],
             [
              0.4444444444444444,
              "#26828e"
             ],
             [
              0.5555555555555556,
              "#1f9e89"
             ],
             [
              0.6666666666666666,
              "#35b779"
             ],
             [
              0.7777777777777778,
              "#6ece58"
             ],
             [
              0.8888888888888888,
              "#b5de2b"
             ],
             [
              1,
              "#fde725"
             ]
            ],
            "size": [
             246.70000000000002
            ],
            "sizemode": "diameter",
            "sizeref": 25
           },
           "mode": "markers",
           "text": [
            "File: HFTS2_20190412_042831_040<br>Magnitude: -2.77",
            "File: HFTS2_20190412_042832_040<br>Magnitude: -2.73",
            "File: HFTS2_20190412_042833_040<br>Magnitude: -2.65",
            "File: HFTS2_20190412_042835_040<br>Magnitude: -2.65",
            "File: HFTS2_20190412_043437_040<br>Magnitude: -2.56",
            "File: HFTS2_20190412_043802_040<br>Magnitude: -2.35",
            "File: HFTS2_20190412_043803_040<br>Magnitude: -2.22",
            "File: HFTS2_20190412_044156_040<br>Magnitude: -2.03",
            "File: HFTS2_20190412_044403_040<br>Magnitude: -2.39",
            "File: HFTS2_20190412_044404_040<br>Magnitude: -2.10",
            "File: HFTS2_20190412_044435_040_Merged<br>Magnitude: -2.47",
            "File: HFTS2_20190412_044506_040<br>Magnitude: -2.32",
            "File: HFTS2_20190412_044516_040<br>Magnitude: -1.97",
            "File: HFTS2_20190412_044521_040<br>Magnitude: -2.07",
            "File: HFTS2_20190412_044522_040<br>Magnitude: -2.47",
            "File: HFTS2_20190412_044526_040<br>Magnitude: -2.74",
            "File: HFTS2_20190412_044540_040<br>Magnitude: -2.21",
            "File: HFTS2_20190412_044542_040<br>Magnitude: -2.56",
            "File: HFTS2_20190412_044543_040<br>Magnitude: -2.36",
            "File: HFTS2_20190412_044544_040<br>Magnitude: -2.59",
            "File: HFTS2_20190412_044545_040<br>Magnitude: -2.60",
            "File: HFTS2_20190412_044605_040<br>Magnitude: -2.71",
            "File: HFTS2_20190412_044619_040<br>Magnitude: -2.54",
            "File: HFTS2_20190412_044620_040<br>Magnitude: -1.81",
            "File: HFTS2_20190412_044623_040<br>Magnitude: -2.21",
            "File: HFTS2_20190412_044643_040<br>Magnitude: -2.30",
            "File: HFTS2_20190412_044647_040<br>Magnitude: -2.42",
            "File: HFTS2_20190412_044651_040<br>Magnitude: -2.46",
            "File: HFTS2_20190412_044659_040_Merged<br>Magnitude: -1.62",
            "File: HFTS2_20190412_044707_040<br>Magnitude: -2.09",
            "File: HFTS2_20190412_044731_040<br>Magnitude: -2.70",
            "File: HFTS2_20190412_044737_040<br>Magnitude: -2.41",
            "File: HFTS2_20190412_044741_040<br>Magnitude: -2.63",
            "File: HFTS2_20190412_044757_040<br>Magnitude: -2.12",
            "File: HFTS2_20190412_044759_040<br>Magnitude: -2.07",
            "File: HFTS2_20190412_044800_040<br>Magnitude: -2.53",
            "File: HFTS2_20190412_044803_040<br>Magnitude: -2.61",
            "File: HFTS2_20190412_044816_040<br>Magnitude: -2.12",
            "File: HFTS2_20190412_044822_040<br>Magnitude: -2.06",
            "File: HFTS2_20190412_044824_040<br>Magnitude: -2.02",
            "File: HFTS2_20190412_044829_040<br>Magnitude: -1.79",
            "File: HFTS2_20190412_044833_040<br>Magnitude: -2.29",
            "File: HFTS2_20190412_044841_040<br>Magnitude: -2.80",
            "File: HFTS2_20190412_044842_040<br>Magnitude: -2.24",
            "File: HFTS2_20190412_044903_040<br>Magnitude: -2.53",
            "File: HFTS2_20190412_044914_040<br>Magnitude: -2.58",
            "File: HFTS2_20190412_044945_040<br>Magnitude: -2.34",
            "File: HFTS2_20190412_044957_040<br>Magnitude: -2.58",
            "File: HFTS2_20190412_045027_040<br>Magnitude: -2.54",
            "File: HFTS2_20190412_045029_040<br>Magnitude: -2.63",
            "File: HFTS2_20190412_045035_040<br>Magnitude: -2.49",
            "File: HFTS2_20190412_045126_040<br>Magnitude: -2.40",
            "File: HFTS2_20190412_045127_040<br>Magnitude: -2.66",
            "File: HFTS2_20190412_045157_040<br>Magnitude: -2.08",
            "File: HFTS2_20190412_045254_040<br>Magnitude: -2.98",
            "File: HFTS2_20190412_045333_040<br>Magnitude: -2.15",
            "File: HFTS2_20190412_045344_040<br>Magnitude: -2.72",
            "File: HFTS2_20190412_045434_040<br>Magnitude: -2.50",
            "File: HFTS2_20190412_045451_040<br>Magnitude: -2.17",
            "File: HFTS2_20190412_045457_040<br>Magnitude: -2.51",
            "File: HFTS2_20190412_045523_040<br>Magnitude: -2.33",
            "File: HFTS2_20190412_045526_040<br>Magnitude: -2.80",
            "File: HFTS2_20190412_045528_040<br>Magnitude: -2.65",
            "File: HFTS2_20190412_045530_040<br>Magnitude: -2.49",
            "File: HFTS2_20190412_045535_040<br>Magnitude: -2.52",
            "File: HFTS2_20190412_045537_040<br>Magnitude: -2.76",
            "File: HFTS2_20190412_045550_040<br>Magnitude: -2.54",
            "File: HFTS2_20190412_045558_040<br>Magnitude: -2.77",
            "File: HFTS2_20190412_045602_040<br>Magnitude: -2.00",
            "File: HFTS2_20190412_045604_040<br>Magnitude: -2.78",
            "File: HFTS2_20190412_045608_040<br>Magnitude: -2.12",
            "File: HFTS2_20190412_045611_040<br>Magnitude: -2.60",
            "File: HFTS2_20190412_045620_040<br>Magnitude: -2.31",
            "File: HFTS2_20190412_045630_040<br>Magnitude: -2.65",
            "File: HFTS2_20190412_045644_040<br>Magnitude: -2.50",
            "File: HFTS2_20190412_045716_040<br>Magnitude: -2.37",
            "File: HFTS2_20190412_045727_040<br>Magnitude: -2.57",
            "File: HFTS2_20190412_045809_040<br>Magnitude: -2.58",
            "File: HFTS2_20190412_045818_040<br>Magnitude: -2.67",
            "File: HFTS2_20190412_045840_040<br>Magnitude: -2.77",
            "File: HFTS2_20190412_045938_040<br>Magnitude: -2.77",
            "File: HFTS2_20190412_045943_040<br>Magnitude: -2.39",
            "File: HFTS2_20190412_045952_040<br>Magnitude: -2.52",
            "File: HFTS2_20190412_050004_040<br>Magnitude: -2.35",
            "File: HFTS2_20190412_050011_040<br>Magnitude: -2.47",
            "File: HFTS2_20190412_050036_040<br>Magnitude: -2.61",
            "File: HFTS2_20190412_050053_040<br>Magnitude: -2.92",
            "File: HFTS2_20190412_050100_040<br>Magnitude: -2.58",
            "File: HFTS2_20190412_050127_040<br>Magnitude: -2.58",
            "File: HFTS2_20190412_050128_040<br>Magnitude: -2.57",
            "File: HFTS2_20190412_050133_040<br>Magnitude: -2.77",
            "File: HFTS2_20190412_050147_040<br>Magnitude: -2.71",
            "File: HFTS2_20190412_050202_040<br>Magnitude: -2.88",
            "File: HFTS2_20190412_050221_040<br>Magnitude: -2.82",
            "File: HFTS2_20190412_050315_040<br>Magnitude: -2.47",
            "File: HFTS2_20190412_050325_040<br>Magnitude: -2.62",
            "File: HFTS2_20190412_050358_040<br>Magnitude: -2.78",
            "File: HFTS2_20190412_050425_040<br>Magnitude: -2.75",
            "File: HFTS2_20190412_050456_040<br>Magnitude: -2.44",
            "File: HFTS2_20190412_050534_040<br>Magnitude: -2.59",
            "File: HFTS2_20190412_050607_040<br>Magnitude: -2.54"
           ],
           "type": "scatter3d",
           "x": [
            954112.6412
           ],
           "y": [
            849132.4154
           ],
           "z": [
            8363.3492
           ]
          }
         ],
         "name": "2019-04-12 04:44:35.917000"
        },
        {
         "data": [
          {
           "marker": {
            "cmax": -1.6189,
            "cmin": -2.9802,
            "color": [
             -2.3244
            ],
            "colorscale": [
             [
              0,
              "#440154"
             ],
             [
              0.1111111111111111,
              "#482878"
             ],
             [
              0.2222222222222222,
              "#3e4989"
             ],
             [
              0.3333333333333333,
              "#31688e"
             ],
             [
              0.4444444444444444,
              "#26828e"
             ],
             [
              0.5555555555555556,
              "#1f9e89"
             ],
             [
              0.6666666666666666,
              "#35b779"
             ],
             [
              0.7777777777777778,
              "#6ece58"
             ],
             [
              0.8888888888888888,
              "#b5de2b"
             ],
             [
              1,
              "#fde725"
             ]
            ],
            "size": [
             232.43999999999997
            ],
            "sizemode": "diameter",
            "sizeref": 25
           },
           "mode": "markers",
           "text": [
            "File: HFTS2_20190412_042831_040<br>Magnitude: -2.77",
            "File: HFTS2_20190412_042832_040<br>Magnitude: -2.73",
            "File: HFTS2_20190412_042833_040<br>Magnitude: -2.65",
            "File: HFTS2_20190412_042835_040<br>Magnitude: -2.65",
            "File: HFTS2_20190412_043437_040<br>Magnitude: -2.56",
            "File: HFTS2_20190412_043802_040<br>Magnitude: -2.35",
            "File: HFTS2_20190412_043803_040<br>Magnitude: -2.22",
            "File: HFTS2_20190412_044156_040<br>Magnitude: -2.03",
            "File: HFTS2_20190412_044403_040<br>Magnitude: -2.39",
            "File: HFTS2_20190412_044404_040<br>Magnitude: -2.10",
            "File: HFTS2_20190412_044435_040_Merged<br>Magnitude: -2.47",
            "File: HFTS2_20190412_044506_040<br>Magnitude: -2.32",
            "File: HFTS2_20190412_044516_040<br>Magnitude: -1.97",
            "File: HFTS2_20190412_044521_040<br>Magnitude: -2.07",
            "File: HFTS2_20190412_044522_040<br>Magnitude: -2.47",
            "File: HFTS2_20190412_044526_040<br>Magnitude: -2.74",
            "File: HFTS2_20190412_044540_040<br>Magnitude: -2.21",
            "File: HFTS2_20190412_044542_040<br>Magnitude: -2.56",
            "File: HFTS2_20190412_044543_040<br>Magnitude: -2.36",
            "File: HFTS2_20190412_044544_040<br>Magnitude: -2.59",
            "File: HFTS2_20190412_044545_040<br>Magnitude: -2.60",
            "File: HFTS2_20190412_044605_040<br>Magnitude: -2.71",
            "File: HFTS2_20190412_044619_040<br>Magnitude: -2.54",
            "File: HFTS2_20190412_044620_040<br>Magnitude: -1.81",
            "File: HFTS2_20190412_044623_040<br>Magnitude: -2.21",
            "File: HFTS2_20190412_044643_040<br>Magnitude: -2.30",
            "File: HFTS2_20190412_044647_040<br>Magnitude: -2.42",
            "File: HFTS2_20190412_044651_040<br>Magnitude: -2.46",
            "File: HFTS2_20190412_044659_040_Merged<br>Magnitude: -1.62",
            "File: HFTS2_20190412_044707_040<br>Magnitude: -2.09",
            "File: HFTS2_20190412_044731_040<br>Magnitude: -2.70",
            "File: HFTS2_20190412_044737_040<br>Magnitude: -2.41",
            "File: HFTS2_20190412_044741_040<br>Magnitude: -2.63",
            "File: HFTS2_20190412_044757_040<br>Magnitude: -2.12",
            "File: HFTS2_20190412_044759_040<br>Magnitude: -2.07",
            "File: HFTS2_20190412_044800_040<br>Magnitude: -2.53",
            "File: HFTS2_20190412_044803_040<br>Magnitude: -2.61",
            "File: HFTS2_20190412_044816_040<br>Magnitude: -2.12",
            "File: HFTS2_20190412_044822_040<br>Magnitude: -2.06",
            "File: HFTS2_20190412_044824_040<br>Magnitude: -2.02",
            "File: HFTS2_20190412_044829_040<br>Magnitude: -1.79",
            "File: HFTS2_20190412_044833_040<br>Magnitude: -2.29",
            "File: HFTS2_20190412_044841_040<br>Magnitude: -2.80",
            "File: HFTS2_20190412_044842_040<br>Magnitude: -2.24",
            "File: HFTS2_20190412_044903_040<br>Magnitude: -2.53",
            "File: HFTS2_20190412_044914_040<br>Magnitude: -2.58",
            "File: HFTS2_20190412_044945_040<br>Magnitude: -2.34",
            "File: HFTS2_20190412_044957_040<br>Magnitude: -2.58",
            "File: HFTS2_20190412_045027_040<br>Magnitude: -2.54",
            "File: HFTS2_20190412_045029_040<br>Magnitude: -2.63",
            "File: HFTS2_20190412_045035_040<br>Magnitude: -2.49",
            "File: HFTS2_20190412_045126_040<br>Magnitude: -2.40",
            "File: HFTS2_20190412_045127_040<br>Magnitude: -2.66",
            "File: HFTS2_20190412_045157_040<br>Magnitude: -2.08",
            "File: HFTS2_20190412_045254_040<br>Magnitude: -2.98",
            "File: HFTS2_20190412_045333_040<br>Magnitude: -2.15",
            "File: HFTS2_20190412_045344_040<br>Magnitude: -2.72",
            "File: HFTS2_20190412_045434_040<br>Magnitude: -2.50",
            "File: HFTS2_20190412_045451_040<br>Magnitude: -2.17",
            "File: HFTS2_20190412_045457_040<br>Magnitude: -2.51",
            "File: HFTS2_20190412_045523_040<br>Magnitude: -2.33",
            "File: HFTS2_20190412_045526_040<br>Magnitude: -2.80",
            "File: HFTS2_20190412_045528_040<br>Magnitude: -2.65",
            "File: HFTS2_20190412_045530_040<br>Magnitude: -2.49",
            "File: HFTS2_20190412_045535_040<br>Magnitude: -2.52",
            "File: HFTS2_20190412_045537_040<br>Magnitude: -2.76",
            "File: HFTS2_20190412_045550_040<br>Magnitude: -2.54",
            "File: HFTS2_20190412_045558_040<br>Magnitude: -2.77",
            "File: HFTS2_20190412_045602_040<br>Magnitude: -2.00",
            "File: HFTS2_20190412_045604_040<br>Magnitude: -2.78",
            "File: HFTS2_20190412_045608_040<br>Magnitude: -2.12",
            "File: HFTS2_20190412_045611_040<br>Magnitude: -2.60",
            "File: HFTS2_20190412_045620_040<br>Magnitude: -2.31",
            "File: HFTS2_20190412_045630_040<br>Magnitude: -2.65",
            "File: HFTS2_20190412_045644_040<br>Magnitude: -2.50",
            "File: HFTS2_20190412_045716_040<br>Magnitude: -2.37",
            "File: HFTS2_20190412_045727_040<br>Magnitude: -2.57",
            "File: HFTS2_20190412_045809_040<br>Magnitude: -2.58",
            "File: HFTS2_20190412_045818_040<br>Magnitude: -2.67",
            "File: HFTS2_20190412_045840_040<br>Magnitude: -2.77",
            "File: HFTS2_20190412_045938_040<br>Magnitude: -2.77",
            "File: HFTS2_20190412_045943_040<br>Magnitude: -2.39",
            "File: HFTS2_20190412_045952_040<br>Magnitude: -2.52",
            "File: HFTS2_20190412_050004_040<br>Magnitude: -2.35",
            "File: HFTS2_20190412_050011_040<br>Magnitude: -2.47",
            "File: HFTS2_20190412_050036_040<br>Magnitude: -2.61",
            "File: HFTS2_20190412_050053_040<br>Magnitude: -2.92",
            "File: HFTS2_20190412_050100_040<br>Magnitude: -2.58",
            "File: HFTS2_20190412_050127_040<br>Magnitude: -2.58",
            "File: HFTS2_20190412_050128_040<br>Magnitude: -2.57",
            "File: HFTS2_20190412_050133_040<br>Magnitude: -2.77",
            "File: HFTS2_20190412_050147_040<br>Magnitude: -2.71",
            "File: HFTS2_20190412_050202_040<br>Magnitude: -2.88",
            "File: HFTS2_20190412_050221_040<br>Magnitude: -2.82",
            "File: HFTS2_20190412_050315_040<br>Magnitude: -2.47",
            "File: HFTS2_20190412_050325_040<br>Magnitude: -2.62",
            "File: HFTS2_20190412_050358_040<br>Magnitude: -2.78",
            "File: HFTS2_20190412_050425_040<br>Magnitude: -2.75",
            "File: HFTS2_20190412_050456_040<br>Magnitude: -2.44",
            "File: HFTS2_20190412_050534_040<br>Magnitude: -2.59",
            "File: HFTS2_20190412_050607_040<br>Magnitude: -2.54"
           ],
           "type": "scatter3d",
           "x": [
            954775.9561
           ],
           "y": [
            848816.7912
           ],
           "z": [
            8179.0871
           ]
          }
         ],
         "name": "2019-04-12 04:45:06.255000"
        },
        {
         "data": [
          {
           "marker": {
            "cmax": -1.6189,
            "cmin": -2.9802,
            "color": [
             -1.9739
            ],
            "colorscale": [
             [
              0,
              "#440154"
             ],
             [
              0.1111111111111111,
              "#482878"
             ],
             [
              0.2222222222222222,
              "#3e4989"
             ],
             [
              0.3333333333333333,
              "#31688e"
             ],
             [
              0.4444444444444444,
              "#26828e"
             ],
             [
              0.5555555555555556,
              "#1f9e89"
             ],
             [
              0.6666666666666666,
              "#35b779"
             ],
             [
              0.7777777777777778,
              "#6ece58"
             ],
             [
              0.8888888888888888,
              "#b5de2b"
             ],
             [
              1,
              "#fde725"
             ]
            ],
            "size": [
             197.39
            ],
            "sizemode": "diameter",
            "sizeref": 25
           },
           "mode": "markers",
           "text": [
            "File: HFTS2_20190412_042831_040<br>Magnitude: -2.77",
            "File: HFTS2_20190412_042832_040<br>Magnitude: -2.73",
            "File: HFTS2_20190412_042833_040<br>Magnitude: -2.65",
            "File: HFTS2_20190412_042835_040<br>Magnitude: -2.65",
            "File: HFTS2_20190412_043437_040<br>Magnitude: -2.56",
            "File: HFTS2_20190412_043802_040<br>Magnitude: -2.35",
            "File: HFTS2_20190412_043803_040<br>Magnitude: -2.22",
            "File: HFTS2_20190412_044156_040<br>Magnitude: -2.03",
            "File: HFTS2_20190412_044403_040<br>Magnitude: -2.39",
            "File: HFTS2_20190412_044404_040<br>Magnitude: -2.10",
            "File: HFTS2_20190412_044435_040_Merged<br>Magnitude: -2.47",
            "File: HFTS2_20190412_044506_040<br>Magnitude: -2.32",
            "File: HFTS2_20190412_044516_040<br>Magnitude: -1.97",
            "File: HFTS2_20190412_044521_040<br>Magnitude: -2.07",
            "File: HFTS2_20190412_044522_040<br>Magnitude: -2.47",
            "File: HFTS2_20190412_044526_040<br>Magnitude: -2.74",
            "File: HFTS2_20190412_044540_040<br>Magnitude: -2.21",
            "File: HFTS2_20190412_044542_040<br>Magnitude: -2.56",
            "File: HFTS2_20190412_044543_040<br>Magnitude: -2.36",
            "File: HFTS2_20190412_044544_040<br>Magnitude: -2.59",
            "File: HFTS2_20190412_044545_040<br>Magnitude: -2.60",
            "File: HFTS2_20190412_044605_040<br>Magnitude: -2.71",
            "File: HFTS2_20190412_044619_040<br>Magnitude: -2.54",
            "File: HFTS2_20190412_044620_040<br>Magnitude: -1.81",
            "File: HFTS2_20190412_044623_040<br>Magnitude: -2.21",
            "File: HFTS2_20190412_044643_040<br>Magnitude: -2.30",
            "File: HFTS2_20190412_044647_040<br>Magnitude: -2.42",
            "File: HFTS2_20190412_044651_040<br>Magnitude: -2.46",
            "File: HFTS2_20190412_044659_040_Merged<br>Magnitude: -1.62",
            "File: HFTS2_20190412_044707_040<br>Magnitude: -2.09",
            "File: HFTS2_20190412_044731_040<br>Magnitude: -2.70",
            "File: HFTS2_20190412_044737_040<br>Magnitude: -2.41",
            "File: HFTS2_20190412_044741_040<br>Magnitude: -2.63",
            "File: HFTS2_20190412_044757_040<br>Magnitude: -2.12",
            "File: HFTS2_20190412_044759_040<br>Magnitude: -2.07",
            "File: HFTS2_20190412_044800_040<br>Magnitude: -2.53",
            "File: HFTS2_20190412_044803_040<br>Magnitude: -2.61",
            "File: HFTS2_20190412_044816_040<br>Magnitude: -2.12",
            "File: HFTS2_20190412_044822_040<br>Magnitude: -2.06",
            "File: HFTS2_20190412_044824_040<br>Magnitude: -2.02",
            "File: HFTS2_20190412_044829_040<br>Magnitude: -1.79",
            "File: HFTS2_20190412_044833_040<br>Magnitude: -2.29",
            "File: HFTS2_20190412_044841_040<br>Magnitude: -2.80",
            "File: HFTS2_20190412_044842_040<br>Magnitude: -2.24",
            "File: HFTS2_20190412_044903_040<br>Magnitude: -2.53",
            "File: HFTS2_20190412_044914_040<br>Magnitude: -2.58",
            "File: HFTS2_20190412_044945_040<br>Magnitude: -2.34",
            "File: HFTS2_20190412_044957_040<br>Magnitude: -2.58",
            "File: HFTS2_20190412_045027_040<br>Magnitude: -2.54",
            "File: HFTS2_20190412_045029_040<br>Magnitude: -2.63",
            "File: HFTS2_20190412_045035_040<br>Magnitude: -2.49",
            "File: HFTS2_20190412_045126_040<br>Magnitude: -2.40",
            "File: HFTS2_20190412_045127_040<br>Magnitude: -2.66",
            "File: HFTS2_20190412_045157_040<br>Magnitude: -2.08",
            "File: HFTS2_20190412_045254_040<br>Magnitude: -2.98",
            "File: HFTS2_20190412_045333_040<br>Magnitude: -2.15",
            "File: HFTS2_20190412_045344_040<br>Magnitude: -2.72",
            "File: HFTS2_20190412_045434_040<br>Magnitude: -2.50",
            "File: HFTS2_20190412_045451_040<br>Magnitude: -2.17",
            "File: HFTS2_20190412_045457_040<br>Magnitude: -2.51",
            "File: HFTS2_20190412_045523_040<br>Magnitude: -2.33",
            "File: HFTS2_20190412_045526_040<br>Magnitude: -2.80",
            "File: HFTS2_20190412_045528_040<br>Magnitude: -2.65",
            "File: HFTS2_20190412_045530_040<br>Magnitude: -2.49",
            "File: HFTS2_20190412_045535_040<br>Magnitude: -2.52",
            "File: HFTS2_20190412_045537_040<br>Magnitude: -2.76",
            "File: HFTS2_20190412_045550_040<br>Magnitude: -2.54",
            "File: HFTS2_20190412_045558_040<br>Magnitude: -2.77",
            "File: HFTS2_20190412_045602_040<br>Magnitude: -2.00",
            "File: HFTS2_20190412_045604_040<br>Magnitude: -2.78",
            "File: HFTS2_20190412_045608_040<br>Magnitude: -2.12",
            "File: HFTS2_20190412_045611_040<br>Magnitude: -2.60",
            "File: HFTS2_20190412_045620_040<br>Magnitude: -2.31",
            "File: HFTS2_20190412_045630_040<br>Magnitude: -2.65",
            "File: HFTS2_20190412_045644_040<br>Magnitude: -2.50",
            "File: HFTS2_20190412_045716_040<br>Magnitude: -2.37",
            "File: HFTS2_20190412_045727_040<br>Magnitude: -2.57",
            "File: HFTS2_20190412_045809_040<br>Magnitude: -2.58",
            "File: HFTS2_20190412_045818_040<br>Magnitude: -2.67",
            "File: HFTS2_20190412_045840_040<br>Magnitude: -2.77",
            "File: HFTS2_20190412_045938_040<br>Magnitude: -2.77",
            "File: HFTS2_20190412_045943_040<br>Magnitude: -2.39",
            "File: HFTS2_20190412_045952_040<br>Magnitude: -2.52",
            "File: HFTS2_20190412_050004_040<br>Magnitude: -2.35",
            "File: HFTS2_20190412_050011_040<br>Magnitude: -2.47",
            "File: HFTS2_20190412_050036_040<br>Magnitude: -2.61",
            "File: HFTS2_20190412_050053_040<br>Magnitude: -2.92",
            "File: HFTS2_20190412_050100_040<br>Magnitude: -2.58",
            "File: HFTS2_20190412_050127_040<br>Magnitude: -2.58",
            "File: HFTS2_20190412_050128_040<br>Magnitude: -2.57",
            "File: HFTS2_20190412_050133_040<br>Magnitude: -2.77",
            "File: HFTS2_20190412_050147_040<br>Magnitude: -2.71",
            "File: HFTS2_20190412_050202_040<br>Magnitude: -2.88",
            "File: HFTS2_20190412_050221_040<br>Magnitude: -2.82",
            "File: HFTS2_20190412_050315_040<br>Magnitude: -2.47",
            "File: HFTS2_20190412_050325_040<br>Magnitude: -2.62",
            "File: HFTS2_20190412_050358_040<br>Magnitude: -2.78",
            "File: HFTS2_20190412_050425_040<br>Magnitude: -2.75",
            "File: HFTS2_20190412_050456_040<br>Magnitude: -2.44",
            "File: HFTS2_20190412_050534_040<br>Magnitude: -2.59",
            "File: HFTS2_20190412_050607_040<br>Magnitude: -2.54"
           ],
           "type": "scatter3d",
           "x": [
            954756.3059
           ],
           "y": [
            848869.554
           ],
           "z": [
            8074.385
           ]
          }
         ],
         "name": "2019-04-12 04:45:16.003000"
        },
        {
         "data": [
          {
           "marker": {
            "cmax": -1.6189,
            "cmin": -2.9802,
            "color": [
             -2.0747
            ],
            "colorscale": [
             [
              0,
              "#440154"
             ],
             [
              0.1111111111111111,
              "#482878"
             ],
             [
              0.2222222222222222,
              "#3e4989"
             ],
             [
              0.3333333333333333,
              "#31688e"
             ],
             [
              0.4444444444444444,
              "#26828e"
             ],
             [
              0.5555555555555556,
              "#1f9e89"
             ],
             [
              0.6666666666666666,
              "#35b779"
             ],
             [
              0.7777777777777778,
              "#6ece58"
             ],
             [
              0.8888888888888888,
              "#b5de2b"
             ],
             [
              1,
              "#fde725"
             ]
            ],
            "size": [
             207.47
            ],
            "sizemode": "diameter",
            "sizeref": 25
           },
           "mode": "markers",
           "text": [
            "File: HFTS2_20190412_042831_040<br>Magnitude: -2.77",
            "File: HFTS2_20190412_042832_040<br>Magnitude: -2.73",
            "File: HFTS2_20190412_042833_040<br>Magnitude: -2.65",
            "File: HFTS2_20190412_042835_040<br>Magnitude: -2.65",
            "File: HFTS2_20190412_043437_040<br>Magnitude: -2.56",
            "File: HFTS2_20190412_043802_040<br>Magnitude: -2.35",
            "File: HFTS2_20190412_043803_040<br>Magnitude: -2.22",
            "File: HFTS2_20190412_044156_040<br>Magnitude: -2.03",
            "File: HFTS2_20190412_044403_040<br>Magnitude: -2.39",
            "File: HFTS2_20190412_044404_040<br>Magnitude: -2.10",
            "File: HFTS2_20190412_044435_040_Merged<br>Magnitude: -2.47",
            "File: HFTS2_20190412_044506_040<br>Magnitude: -2.32",
            "File: HFTS2_20190412_044516_040<br>Magnitude: -1.97",
            "File: HFTS2_20190412_044521_040<br>Magnitude: -2.07",
            "File: HFTS2_20190412_044522_040<br>Magnitude: -2.47",
            "File: HFTS2_20190412_044526_040<br>Magnitude: -2.74",
            "File: HFTS2_20190412_044540_040<br>Magnitude: -2.21",
            "File: HFTS2_20190412_044542_040<br>Magnitude: -2.56",
            "File: HFTS2_20190412_044543_040<br>Magnitude: -2.36",
            "File: HFTS2_20190412_044544_040<br>Magnitude: -2.59",
            "File: HFTS2_20190412_044545_040<br>Magnitude: -2.60",
            "File: HFTS2_20190412_044605_040<br>Magnitude: -2.71",
            "File: HFTS2_20190412_044619_040<br>Magnitude: -2.54",
            "File: HFTS2_20190412_044620_040<br>Magnitude: -1.81",
            "File: HFTS2_20190412_044623_040<br>Magnitude: -2.21",
            "File: HFTS2_20190412_044643_040<br>Magnitude: -2.30",
            "File: HFTS2_20190412_044647_040<br>Magnitude: -2.42",
            "File: HFTS2_20190412_044651_040<br>Magnitude: -2.46",
            "File: HFTS2_20190412_044659_040_Merged<br>Magnitude: -1.62",
            "File: HFTS2_20190412_044707_040<br>Magnitude: -2.09",
            "File: HFTS2_20190412_044731_040<br>Magnitude: -2.70",
            "File: HFTS2_20190412_044737_040<br>Magnitude: -2.41",
            "File: HFTS2_20190412_044741_040<br>Magnitude: -2.63",
            "File: HFTS2_20190412_044757_040<br>Magnitude: -2.12",
            "File: HFTS2_20190412_044759_040<br>Magnitude: -2.07",
            "File: HFTS2_20190412_044800_040<br>Magnitude: -2.53",
            "File: HFTS2_20190412_044803_040<br>Magnitude: -2.61",
            "File: HFTS2_20190412_044816_040<br>Magnitude: -2.12",
            "File: HFTS2_20190412_044822_040<br>Magnitude: -2.06",
            "File: HFTS2_20190412_044824_040<br>Magnitude: -2.02",
            "File: HFTS2_20190412_044829_040<br>Magnitude: -1.79",
            "File: HFTS2_20190412_044833_040<br>Magnitude: -2.29",
            "File: HFTS2_20190412_044841_040<br>Magnitude: -2.80",
            "File: HFTS2_20190412_044842_040<br>Magnitude: -2.24",
            "File: HFTS2_20190412_044903_040<br>Magnitude: -2.53",
            "File: HFTS2_20190412_044914_040<br>Magnitude: -2.58",
            "File: HFTS2_20190412_044945_040<br>Magnitude: -2.34",
            "File: HFTS2_20190412_044957_040<br>Magnitude: -2.58",
            "File: HFTS2_20190412_045027_040<br>Magnitude: -2.54",
            "File: HFTS2_20190412_045029_040<br>Magnitude: -2.63",
            "File: HFTS2_20190412_045035_040<br>Magnitude: -2.49",
            "File: HFTS2_20190412_045126_040<br>Magnitude: -2.40",
            "File: HFTS2_20190412_045127_040<br>Magnitude: -2.66",
            "File: HFTS2_20190412_045157_040<br>Magnitude: -2.08",
            "File: HFTS2_20190412_045254_040<br>Magnitude: -2.98",
            "File: HFTS2_20190412_045333_040<br>Magnitude: -2.15",
            "File: HFTS2_20190412_045344_040<br>Magnitude: -2.72",
            "File: HFTS2_20190412_045434_040<br>Magnitude: -2.50",
            "File: HFTS2_20190412_045451_040<br>Magnitude: -2.17",
            "File: HFTS2_20190412_045457_040<br>Magnitude: -2.51",
            "File: HFTS2_20190412_045523_040<br>Magnitude: -2.33",
            "File: HFTS2_20190412_045526_040<br>Magnitude: -2.80",
            "File: HFTS2_20190412_045528_040<br>Magnitude: -2.65",
            "File: HFTS2_20190412_045530_040<br>Magnitude: -2.49",
            "File: HFTS2_20190412_045535_040<br>Magnitude: -2.52",
            "File: HFTS2_20190412_045537_040<br>Magnitude: -2.76",
            "File: HFTS2_20190412_045550_040<br>Magnitude: -2.54",
            "File: HFTS2_20190412_045558_040<br>Magnitude: -2.77",
            "File: HFTS2_20190412_045602_040<br>Magnitude: -2.00",
            "File: HFTS2_20190412_045604_040<br>Magnitude: -2.78",
            "File: HFTS2_20190412_045608_040<br>Magnitude: -2.12",
            "File: HFTS2_20190412_045611_040<br>Magnitude: -2.60",
            "File: HFTS2_20190412_045620_040<br>Magnitude: -2.31",
            "File: HFTS2_20190412_045630_040<br>Magnitude: -2.65",
            "File: HFTS2_20190412_045644_040<br>Magnitude: -2.50",
            "File: HFTS2_20190412_045716_040<br>Magnitude: -2.37",
            "File: HFTS2_20190412_045727_040<br>Magnitude: -2.57",
            "File: HFTS2_20190412_045809_040<br>Magnitude: -2.58",
            "File: HFTS2_20190412_045818_040<br>Magnitude: -2.67",
            "File: HFTS2_20190412_045840_040<br>Magnitude: -2.77",
            "File: HFTS2_20190412_045938_040<br>Magnitude: -2.77",
            "File: HFTS2_20190412_045943_040<br>Magnitude: -2.39",
            "File: HFTS2_20190412_045952_040<br>Magnitude: -2.52",
            "File: HFTS2_20190412_050004_040<br>Magnitude: -2.35",
            "File: HFTS2_20190412_050011_040<br>Magnitude: -2.47",
            "File: HFTS2_20190412_050036_040<br>Magnitude: -2.61",
            "File: HFTS2_20190412_050053_040<br>Magnitude: -2.92",
            "File: HFTS2_20190412_050100_040<br>Magnitude: -2.58",
            "File: HFTS2_20190412_050127_040<br>Magnitude: -2.58",
            "File: HFTS2_20190412_050128_040<br>Magnitude: -2.57",
            "File: HFTS2_20190412_050133_040<br>Magnitude: -2.77",
            "File: HFTS2_20190412_050147_040<br>Magnitude: -2.71",
            "File: HFTS2_20190412_050202_040<br>Magnitude: -2.88",
            "File: HFTS2_20190412_050221_040<br>Magnitude: -2.82",
            "File: HFTS2_20190412_050315_040<br>Magnitude: -2.47",
            "File: HFTS2_20190412_050325_040<br>Magnitude: -2.62",
            "File: HFTS2_20190412_050358_040<br>Magnitude: -2.78",
            "File: HFTS2_20190412_050425_040<br>Magnitude: -2.75",
            "File: HFTS2_20190412_050456_040<br>Magnitude: -2.44",
            "File: HFTS2_20190412_050534_040<br>Magnitude: -2.59",
            "File: HFTS2_20190412_050607_040<br>Magnitude: -2.54"
           ],
           "type": "scatter3d",
           "x": [
            953992.4991
           ],
           "y": [
            849031.6463
           ],
           "z": [
            8455.8316
           ]
          }
         ],
         "name": "2019-04-12 04:45:21.466000"
        },
        {
         "data": [
          {
           "marker": {
            "cmax": -1.6189,
            "cmin": -2.9802,
            "color": [
             -2.474
            ],
            "colorscale": [
             [
              0,
              "#440154"
             ],
             [
              0.1111111111111111,
              "#482878"
             ],
             [
              0.2222222222222222,
              "#3e4989"
             ],
             [
              0.3333333333333333,
              "#31688e"
             ],
             [
              0.4444444444444444,
              "#26828e"
             ],
             [
              0.5555555555555556,
              "#1f9e89"
             ],
             [
              0.6666666666666666,
              "#35b779"
             ],
             [
              0.7777777777777778,
              "#6ece58"
             ],
             [
              0.8888888888888888,
              "#b5de2b"
             ],
             [
              1,
              "#fde725"
             ]
            ],
            "size": [
             247.40000000000003
            ],
            "sizemode": "diameter",
            "sizeref": 25
           },
           "mode": "markers",
           "text": [
            "File: HFTS2_20190412_042831_040<br>Magnitude: -2.77",
            "File: HFTS2_20190412_042832_040<br>Magnitude: -2.73",
            "File: HFTS2_20190412_042833_040<br>Magnitude: -2.65",
            "File: HFTS2_20190412_042835_040<br>Magnitude: -2.65",
            "File: HFTS2_20190412_043437_040<br>Magnitude: -2.56",
            "File: HFTS2_20190412_043802_040<br>Magnitude: -2.35",
            "File: HFTS2_20190412_043803_040<br>Magnitude: -2.22",
            "File: HFTS2_20190412_044156_040<br>Magnitude: -2.03",
            "File: HFTS2_20190412_044403_040<br>Magnitude: -2.39",
            "File: HFTS2_20190412_044404_040<br>Magnitude: -2.10",
            "File: HFTS2_20190412_044435_040_Merged<br>Magnitude: -2.47",
            "File: HFTS2_20190412_044506_040<br>Magnitude: -2.32",
            "File: HFTS2_20190412_044516_040<br>Magnitude: -1.97",
            "File: HFTS2_20190412_044521_040<br>Magnitude: -2.07",
            "File: HFTS2_20190412_044522_040<br>Magnitude: -2.47",
            "File: HFTS2_20190412_044526_040<br>Magnitude: -2.74",
            "File: HFTS2_20190412_044540_040<br>Magnitude: -2.21",
            "File: HFTS2_20190412_044542_040<br>Magnitude: -2.56",
            "File: HFTS2_20190412_044543_040<br>Magnitude: -2.36",
            "File: HFTS2_20190412_044544_040<br>Magnitude: -2.59",
            "File: HFTS2_20190412_044545_040<br>Magnitude: -2.60",
            "File: HFTS2_20190412_044605_040<br>Magnitude: -2.71",
            "File: HFTS2_20190412_044619_040<br>Magnitude: -2.54",
            "File: HFTS2_20190412_044620_040<br>Magnitude: -1.81",
            "File: HFTS2_20190412_044623_040<br>Magnitude: -2.21",
            "File: HFTS2_20190412_044643_040<br>Magnitude: -2.30",
            "File: HFTS2_20190412_044647_040<br>Magnitude: -2.42",
            "File: HFTS2_20190412_044651_040<br>Magnitude: -2.46",
            "File: HFTS2_20190412_044659_040_Merged<br>Magnitude: -1.62",
            "File: HFTS2_20190412_044707_040<br>Magnitude: -2.09",
            "File: HFTS2_20190412_044731_040<br>Magnitude: -2.70",
            "File: HFTS2_20190412_044737_040<br>Magnitude: -2.41",
            "File: HFTS2_20190412_044741_040<br>Magnitude: -2.63",
            "File: HFTS2_20190412_044757_040<br>Magnitude: -2.12",
            "File: HFTS2_20190412_044759_040<br>Magnitude: -2.07",
            "File: HFTS2_20190412_044800_040<br>Magnitude: -2.53",
            "File: HFTS2_20190412_044803_040<br>Magnitude: -2.61",
            "File: HFTS2_20190412_044816_040<br>Magnitude: -2.12",
            "File: HFTS2_20190412_044822_040<br>Magnitude: -2.06",
            "File: HFTS2_20190412_044824_040<br>Magnitude: -2.02",
            "File: HFTS2_20190412_044829_040<br>Magnitude: -1.79",
            "File: HFTS2_20190412_044833_040<br>Magnitude: -2.29",
            "File: HFTS2_20190412_044841_040<br>Magnitude: -2.80",
            "File: HFTS2_20190412_044842_040<br>Magnitude: -2.24",
            "File: HFTS2_20190412_044903_040<br>Magnitude: -2.53",
            "File: HFTS2_20190412_044914_040<br>Magnitude: -2.58",
            "File: HFTS2_20190412_044945_040<br>Magnitude: -2.34",
            "File: HFTS2_20190412_044957_040<br>Magnitude: -2.58",
            "File: HFTS2_20190412_045027_040<br>Magnitude: -2.54",
            "File: HFTS2_20190412_045029_040<br>Magnitude: -2.63",
            "File: HFTS2_20190412_045035_040<br>Magnitude: -2.49",
            "File: HFTS2_20190412_045126_040<br>Magnitude: -2.40",
            "File: HFTS2_20190412_045127_040<br>Magnitude: -2.66",
            "File: HFTS2_20190412_045157_040<br>Magnitude: -2.08",
            "File: HFTS2_20190412_045254_040<br>Magnitude: -2.98",
            "File: HFTS2_20190412_045333_040<br>Magnitude: -2.15",
            "File: HFTS2_20190412_045344_040<br>Magnitude: -2.72",
            "File: HFTS2_20190412_045434_040<br>Magnitude: -2.50",
            "File: HFTS2_20190412_045451_040<br>Magnitude: -2.17",
            "File: HFTS2_20190412_045457_040<br>Magnitude: -2.51",
            "File: HFTS2_20190412_045523_040<br>Magnitude: -2.33",
            "File: HFTS2_20190412_045526_040<br>Magnitude: -2.80",
            "File: HFTS2_20190412_045528_040<br>Magnitude: -2.65",
            "File: HFTS2_20190412_045530_040<br>Magnitude: -2.49",
            "File: HFTS2_20190412_045535_040<br>Magnitude: -2.52",
            "File: HFTS2_20190412_045537_040<br>Magnitude: -2.76",
            "File: HFTS2_20190412_045550_040<br>Magnitude: -2.54",
            "File: HFTS2_20190412_045558_040<br>Magnitude: -2.77",
            "File: HFTS2_20190412_045602_040<br>Magnitude: -2.00",
            "File: HFTS2_20190412_045604_040<br>Magnitude: -2.78",
            "File: HFTS2_20190412_045608_040<br>Magnitude: -2.12",
            "File: HFTS2_20190412_045611_040<br>Magnitude: -2.60",
            "File: HFTS2_20190412_045620_040<br>Magnitude: -2.31",
            "File: HFTS2_20190412_045630_040<br>Magnitude: -2.65",
            "File: HFTS2_20190412_045644_040<br>Magnitude: -2.50",
            "File: HFTS2_20190412_045716_040<br>Magnitude: -2.37",
            "File: HFTS2_20190412_045727_040<br>Magnitude: -2.57",
            "File: HFTS2_20190412_045809_040<br>Magnitude: -2.58",
            "File: HFTS2_20190412_045818_040<br>Magnitude: -2.67",
            "File: HFTS2_20190412_045840_040<br>Magnitude: -2.77",
            "File: HFTS2_20190412_045938_040<br>Magnitude: -2.77",
            "File: HFTS2_20190412_045943_040<br>Magnitude: -2.39",
            "File: HFTS2_20190412_045952_040<br>Magnitude: -2.52",
            "File: HFTS2_20190412_050004_040<br>Magnitude: -2.35",
            "File: HFTS2_20190412_050011_040<br>Magnitude: -2.47",
            "File: HFTS2_20190412_050036_040<br>Magnitude: -2.61",
            "File: HFTS2_20190412_050053_040<br>Magnitude: -2.92",
            "File: HFTS2_20190412_050100_040<br>Magnitude: -2.58",
            "File: HFTS2_20190412_050127_040<br>Magnitude: -2.58",
            "File: HFTS2_20190412_050128_040<br>Magnitude: -2.57",
            "File: HFTS2_20190412_050133_040<br>Magnitude: -2.77",
            "File: HFTS2_20190412_050147_040<br>Magnitude: -2.71",
            "File: HFTS2_20190412_050202_040<br>Magnitude: -2.88",
            "File: HFTS2_20190412_050221_040<br>Magnitude: -2.82",
            "File: HFTS2_20190412_050315_040<br>Magnitude: -2.47",
            "File: HFTS2_20190412_050325_040<br>Magnitude: -2.62",
            "File: HFTS2_20190412_050358_040<br>Magnitude: -2.78",
            "File: HFTS2_20190412_050425_040<br>Magnitude: -2.75",
            "File: HFTS2_20190412_050456_040<br>Magnitude: -2.44",
            "File: HFTS2_20190412_050534_040<br>Magnitude: -2.59",
            "File: HFTS2_20190412_050607_040<br>Magnitude: -2.54"
           ],
           "type": "scatter3d",
           "x": [
            954024.7536
           ],
           "y": [
            849109.8901
           ],
           "z": [
            8477.2278
           ]
          }
         ],
         "name": "2019-04-12 04:45:22.695000"
        },
        {
         "data": [
          {
           "marker": {
            "cmax": -1.6189,
            "cmin": -2.9802,
            "color": [
             -2.7391
            ],
            "colorscale": [
             [
              0,
              "#440154"
             ],
             [
              0.1111111111111111,
              "#482878"
             ],
             [
              0.2222222222222222,
              "#3e4989"
             ],
             [
              0.3333333333333333,
              "#31688e"
             ],
             [
              0.4444444444444444,
              "#26828e"
             ],
             [
              0.5555555555555556,
              "#1f9e89"
             ],
             [
              0.6666666666666666,
              "#35b779"
             ],
             [
              0.7777777777777778,
              "#6ece58"
             ],
             [
              0.8888888888888888,
              "#b5de2b"
             ],
             [
              1,
              "#fde725"
             ]
            ],
            "size": [
             273.91
            ],
            "sizemode": "diameter",
            "sizeref": 25
           },
           "mode": "markers",
           "text": [
            "File: HFTS2_20190412_042831_040<br>Magnitude: -2.77",
            "File: HFTS2_20190412_042832_040<br>Magnitude: -2.73",
            "File: HFTS2_20190412_042833_040<br>Magnitude: -2.65",
            "File: HFTS2_20190412_042835_040<br>Magnitude: -2.65",
            "File: HFTS2_20190412_043437_040<br>Magnitude: -2.56",
            "File: HFTS2_20190412_043802_040<br>Magnitude: -2.35",
            "File: HFTS2_20190412_043803_040<br>Magnitude: -2.22",
            "File: HFTS2_20190412_044156_040<br>Magnitude: -2.03",
            "File: HFTS2_20190412_044403_040<br>Magnitude: -2.39",
            "File: HFTS2_20190412_044404_040<br>Magnitude: -2.10",
            "File: HFTS2_20190412_044435_040_Merged<br>Magnitude: -2.47",
            "File: HFTS2_20190412_044506_040<br>Magnitude: -2.32",
            "File: HFTS2_20190412_044516_040<br>Magnitude: -1.97",
            "File: HFTS2_20190412_044521_040<br>Magnitude: -2.07",
            "File: HFTS2_20190412_044522_040<br>Magnitude: -2.47",
            "File: HFTS2_20190412_044526_040<br>Magnitude: -2.74",
            "File: HFTS2_20190412_044540_040<br>Magnitude: -2.21",
            "File: HFTS2_20190412_044542_040<br>Magnitude: -2.56",
            "File: HFTS2_20190412_044543_040<br>Magnitude: -2.36",
            "File: HFTS2_20190412_044544_040<br>Magnitude: -2.59",
            "File: HFTS2_20190412_044545_040<br>Magnitude: -2.60",
            "File: HFTS2_20190412_044605_040<br>Magnitude: -2.71",
            "File: HFTS2_20190412_044619_040<br>Magnitude: -2.54",
            "File: HFTS2_20190412_044620_040<br>Magnitude: -1.81",
            "File: HFTS2_20190412_044623_040<br>Magnitude: -2.21",
            "File: HFTS2_20190412_044643_040<br>Magnitude: -2.30",
            "File: HFTS2_20190412_044647_040<br>Magnitude: -2.42",
            "File: HFTS2_20190412_044651_040<br>Magnitude: -2.46",
            "File: HFTS2_20190412_044659_040_Merged<br>Magnitude: -1.62",
            "File: HFTS2_20190412_044707_040<br>Magnitude: -2.09",
            "File: HFTS2_20190412_044731_040<br>Magnitude: -2.70",
            "File: HFTS2_20190412_044737_040<br>Magnitude: -2.41",
            "File: HFTS2_20190412_044741_040<br>Magnitude: -2.63",
            "File: HFTS2_20190412_044757_040<br>Magnitude: -2.12",
            "File: HFTS2_20190412_044759_040<br>Magnitude: -2.07",
            "File: HFTS2_20190412_044800_040<br>Magnitude: -2.53",
            "File: HFTS2_20190412_044803_040<br>Magnitude: -2.61",
            "File: HFTS2_20190412_044816_040<br>Magnitude: -2.12",
            "File: HFTS2_20190412_044822_040<br>Magnitude: -2.06",
            "File: HFTS2_20190412_044824_040<br>Magnitude: -2.02",
            "File: HFTS2_20190412_044829_040<br>Magnitude: -1.79",
            "File: HFTS2_20190412_044833_040<br>Magnitude: -2.29",
            "File: HFTS2_20190412_044841_040<br>Magnitude: -2.80",
            "File: HFTS2_20190412_044842_040<br>Magnitude: -2.24",
            "File: HFTS2_20190412_044903_040<br>Magnitude: -2.53",
            "File: HFTS2_20190412_044914_040<br>Magnitude: -2.58",
            "File: HFTS2_20190412_044945_040<br>Magnitude: -2.34",
            "File: HFTS2_20190412_044957_040<br>Magnitude: -2.58",
            "File: HFTS2_20190412_045027_040<br>Magnitude: -2.54",
            "File: HFTS2_20190412_045029_040<br>Magnitude: -2.63",
            "File: HFTS2_20190412_045035_040<br>Magnitude: -2.49",
            "File: HFTS2_20190412_045126_040<br>Magnitude: -2.40",
            "File: HFTS2_20190412_045127_040<br>Magnitude: -2.66",
            "File: HFTS2_20190412_045157_040<br>Magnitude: -2.08",
            "File: HFTS2_20190412_045254_040<br>Magnitude: -2.98",
            "File: HFTS2_20190412_045333_040<br>Magnitude: -2.15",
            "File: HFTS2_20190412_045344_040<br>Magnitude: -2.72",
            "File: HFTS2_20190412_045434_040<br>Magnitude: -2.50",
            "File: HFTS2_20190412_045451_040<br>Magnitude: -2.17",
            "File: HFTS2_20190412_045457_040<br>Magnitude: -2.51",
            "File: HFTS2_20190412_045523_040<br>Magnitude: -2.33",
            "File: HFTS2_20190412_045526_040<br>Magnitude: -2.80",
            "File: HFTS2_20190412_045528_040<br>Magnitude: -2.65",
            "File: HFTS2_20190412_045530_040<br>Magnitude: -2.49",
            "File: HFTS2_20190412_045535_040<br>Magnitude: -2.52",
            "File: HFTS2_20190412_045537_040<br>Magnitude: -2.76",
            "File: HFTS2_20190412_045550_040<br>Magnitude: -2.54",
            "File: HFTS2_20190412_045558_040<br>Magnitude: -2.77",
            "File: HFTS2_20190412_045602_040<br>Magnitude: -2.00",
            "File: HFTS2_20190412_045604_040<br>Magnitude: -2.78",
            "File: HFTS2_20190412_045608_040<br>Magnitude: -2.12",
            "File: HFTS2_20190412_045611_040<br>Magnitude: -2.60",
            "File: HFTS2_20190412_045620_040<br>Magnitude: -2.31",
            "File: HFTS2_20190412_045630_040<br>Magnitude: -2.65",
            "File: HFTS2_20190412_045644_040<br>Magnitude: -2.50",
            "File: HFTS2_20190412_045716_040<br>Magnitude: -2.37",
            "File: HFTS2_20190412_045727_040<br>Magnitude: -2.57",
            "File: HFTS2_20190412_045809_040<br>Magnitude: -2.58",
            "File: HFTS2_20190412_045818_040<br>Magnitude: -2.67",
            "File: HFTS2_20190412_045840_040<br>Magnitude: -2.77",
            "File: HFTS2_20190412_045938_040<br>Magnitude: -2.77",
            "File: HFTS2_20190412_045943_040<br>Magnitude: -2.39",
            "File: HFTS2_20190412_045952_040<br>Magnitude: -2.52",
            "File: HFTS2_20190412_050004_040<br>Magnitude: -2.35",
            "File: HFTS2_20190412_050011_040<br>Magnitude: -2.47",
            "File: HFTS2_20190412_050036_040<br>Magnitude: -2.61",
            "File: HFTS2_20190412_050053_040<br>Magnitude: -2.92",
            "File: HFTS2_20190412_050100_040<br>Magnitude: -2.58",
            "File: HFTS2_20190412_050127_040<br>Magnitude: -2.58",
            "File: HFTS2_20190412_050128_040<br>Magnitude: -2.57",
            "File: HFTS2_20190412_050133_040<br>Magnitude: -2.77",
            "File: HFTS2_20190412_050147_040<br>Magnitude: -2.71",
            "File: HFTS2_20190412_050202_040<br>Magnitude: -2.88",
            "File: HFTS2_20190412_050221_040<br>Magnitude: -2.82",
            "File: HFTS2_20190412_050315_040<br>Magnitude: -2.47",
            "File: HFTS2_20190412_050325_040<br>Magnitude: -2.62",
            "File: HFTS2_20190412_050358_040<br>Magnitude: -2.78",
            "File: HFTS2_20190412_050425_040<br>Magnitude: -2.75",
            "File: HFTS2_20190412_050456_040<br>Magnitude: -2.44",
            "File: HFTS2_20190412_050534_040<br>Magnitude: -2.59",
            "File: HFTS2_20190412_050607_040<br>Magnitude: -2.54"
           ],
           "type": "scatter3d",
           "x": [
            954065.1874
           ],
           "y": [
            849128.587
           ],
           "z": [
            8558.5002
           ]
          }
         ],
         "name": "2019-04-12 04:45:26.233000"
        },
        {
         "data": [
          {
           "marker": {
            "cmax": -1.6189,
            "cmin": -2.9802,
            "color": [
             -2.2053
            ],
            "colorscale": [
             [
              0,
              "#440154"
             ],
             [
              0.1111111111111111,
              "#482878"
             ],
             [
              0.2222222222222222,
              "#3e4989"
             ],
             [
              0.3333333333333333,
              "#31688e"
             ],
             [
              0.4444444444444444,
              "#26828e"
             ],
             [
              0.5555555555555556,
              "#1f9e89"
             ],
             [
              0.6666666666666666,
              "#35b779"
             ],
             [
              0.7777777777777778,
              "#6ece58"
             ],
             [
              0.8888888888888888,
              "#b5de2b"
             ],
             [
              1,
              "#fde725"
             ]
            ],
            "size": [
             220.52999999999997
            ],
            "sizemode": "diameter",
            "sizeref": 25
           },
           "mode": "markers",
           "text": [
            "File: HFTS2_20190412_042831_040<br>Magnitude: -2.77",
            "File: HFTS2_20190412_042832_040<br>Magnitude: -2.73",
            "File: HFTS2_20190412_042833_040<br>Magnitude: -2.65",
            "File: HFTS2_20190412_042835_040<br>Magnitude: -2.65",
            "File: HFTS2_20190412_043437_040<br>Magnitude: -2.56",
            "File: HFTS2_20190412_043802_040<br>Magnitude: -2.35",
            "File: HFTS2_20190412_043803_040<br>Magnitude: -2.22",
            "File: HFTS2_20190412_044156_040<br>Magnitude: -2.03",
            "File: HFTS2_20190412_044403_040<br>Magnitude: -2.39",
            "File: HFTS2_20190412_044404_040<br>Magnitude: -2.10",
            "File: HFTS2_20190412_044435_040_Merged<br>Magnitude: -2.47",
            "File: HFTS2_20190412_044506_040<br>Magnitude: -2.32",
            "File: HFTS2_20190412_044516_040<br>Magnitude: -1.97",
            "File: HFTS2_20190412_044521_040<br>Magnitude: -2.07",
            "File: HFTS2_20190412_044522_040<br>Magnitude: -2.47",
            "File: HFTS2_20190412_044526_040<br>Magnitude: -2.74",
            "File: HFTS2_20190412_044540_040<br>Magnitude: -2.21",
            "File: HFTS2_20190412_044542_040<br>Magnitude: -2.56",
            "File: HFTS2_20190412_044543_040<br>Magnitude: -2.36",
            "File: HFTS2_20190412_044544_040<br>Magnitude: -2.59",
            "File: HFTS2_20190412_044545_040<br>Magnitude: -2.60",
            "File: HFTS2_20190412_044605_040<br>Magnitude: -2.71",
            "File: HFTS2_20190412_044619_040<br>Magnitude: -2.54",
            "File: HFTS2_20190412_044620_040<br>Magnitude: -1.81",
            "File: HFTS2_20190412_044623_040<br>Magnitude: -2.21",
            "File: HFTS2_20190412_044643_040<br>Magnitude: -2.30",
            "File: HFTS2_20190412_044647_040<br>Magnitude: -2.42",
            "File: HFTS2_20190412_044651_040<br>Magnitude: -2.46",
            "File: HFTS2_20190412_044659_040_Merged<br>Magnitude: -1.62",
            "File: HFTS2_20190412_044707_040<br>Magnitude: -2.09",
            "File: HFTS2_20190412_044731_040<br>Magnitude: -2.70",
            "File: HFTS2_20190412_044737_040<br>Magnitude: -2.41",
            "File: HFTS2_20190412_044741_040<br>Magnitude: -2.63",
            "File: HFTS2_20190412_044757_040<br>Magnitude: -2.12",
            "File: HFTS2_20190412_044759_040<br>Magnitude: -2.07",
            "File: HFTS2_20190412_044800_040<br>Magnitude: -2.53",
            "File: HFTS2_20190412_044803_040<br>Magnitude: -2.61",
            "File: HFTS2_20190412_044816_040<br>Magnitude: -2.12",
            "File: HFTS2_20190412_044822_040<br>Magnitude: -2.06",
            "File: HFTS2_20190412_044824_040<br>Magnitude: -2.02",
            "File: HFTS2_20190412_044829_040<br>Magnitude: -1.79",
            "File: HFTS2_20190412_044833_040<br>Magnitude: -2.29",
            "File: HFTS2_20190412_044841_040<br>Magnitude: -2.80",
            "File: HFTS2_20190412_044842_040<br>Magnitude: -2.24",
            "File: HFTS2_20190412_044903_040<br>Magnitude: -2.53",
            "File: HFTS2_20190412_044914_040<br>Magnitude: -2.58",
            "File: HFTS2_20190412_044945_040<br>Magnitude: -2.34",
            "File: HFTS2_20190412_044957_040<br>Magnitude: -2.58",
            "File: HFTS2_20190412_045027_040<br>Magnitude: -2.54",
            "File: HFTS2_20190412_045029_040<br>Magnitude: -2.63",
            "File: HFTS2_20190412_045035_040<br>Magnitude: -2.49",
            "File: HFTS2_20190412_045126_040<br>Magnitude: -2.40",
            "File: HFTS2_20190412_045127_040<br>Magnitude: -2.66",
            "File: HFTS2_20190412_045157_040<br>Magnitude: -2.08",
            "File: HFTS2_20190412_045254_040<br>Magnitude: -2.98",
            "File: HFTS2_20190412_045333_040<br>Magnitude: -2.15",
            "File: HFTS2_20190412_045344_040<br>Magnitude: -2.72",
            "File: HFTS2_20190412_045434_040<br>Magnitude: -2.50",
            "File: HFTS2_20190412_045451_040<br>Magnitude: -2.17",
            "File: HFTS2_20190412_045457_040<br>Magnitude: -2.51",
            "File: HFTS2_20190412_045523_040<br>Magnitude: -2.33",
            "File: HFTS2_20190412_045526_040<br>Magnitude: -2.80",
            "File: HFTS2_20190412_045528_040<br>Magnitude: -2.65",
            "File: HFTS2_20190412_045530_040<br>Magnitude: -2.49",
            "File: HFTS2_20190412_045535_040<br>Magnitude: -2.52",
            "File: HFTS2_20190412_045537_040<br>Magnitude: -2.76",
            "File: HFTS2_20190412_045550_040<br>Magnitude: -2.54",
            "File: HFTS2_20190412_045558_040<br>Magnitude: -2.77",
            "File: HFTS2_20190412_045602_040<br>Magnitude: -2.00",
            "File: HFTS2_20190412_045604_040<br>Magnitude: -2.78",
            "File: HFTS2_20190412_045608_040<br>Magnitude: -2.12",
            "File: HFTS2_20190412_045611_040<br>Magnitude: -2.60",
            "File: HFTS2_20190412_045620_040<br>Magnitude: -2.31",
            "File: HFTS2_20190412_045630_040<br>Magnitude: -2.65",
            "File: HFTS2_20190412_045644_040<br>Magnitude: -2.50",
            "File: HFTS2_20190412_045716_040<br>Magnitude: -2.37",
            "File: HFTS2_20190412_045727_040<br>Magnitude: -2.57",
            "File: HFTS2_20190412_045809_040<br>Magnitude: -2.58",
            "File: HFTS2_20190412_045818_040<br>Magnitude: -2.67",
            "File: HFTS2_20190412_045840_040<br>Magnitude: -2.77",
            "File: HFTS2_20190412_045938_040<br>Magnitude: -2.77",
            "File: HFTS2_20190412_045943_040<br>Magnitude: -2.39",
            "File: HFTS2_20190412_045952_040<br>Magnitude: -2.52",
            "File: HFTS2_20190412_050004_040<br>Magnitude: -2.35",
            "File: HFTS2_20190412_050011_040<br>Magnitude: -2.47",
            "File: HFTS2_20190412_050036_040<br>Magnitude: -2.61",
            "File: HFTS2_20190412_050053_040<br>Magnitude: -2.92",
            "File: HFTS2_20190412_050100_040<br>Magnitude: -2.58",
            "File: HFTS2_20190412_050127_040<br>Magnitude: -2.58",
            "File: HFTS2_20190412_050128_040<br>Magnitude: -2.57",
            "File: HFTS2_20190412_050133_040<br>Magnitude: -2.77",
            "File: HFTS2_20190412_050147_040<br>Magnitude: -2.71",
            "File: HFTS2_20190412_050202_040<br>Magnitude: -2.88",
            "File: HFTS2_20190412_050221_040<br>Magnitude: -2.82",
            "File: HFTS2_20190412_050315_040<br>Magnitude: -2.47",
            "File: HFTS2_20190412_050325_040<br>Magnitude: -2.62",
            "File: HFTS2_20190412_050358_040<br>Magnitude: -2.78",
            "File: HFTS2_20190412_050425_040<br>Magnitude: -2.75",
            "File: HFTS2_20190412_050456_040<br>Magnitude: -2.44",
            "File: HFTS2_20190412_050534_040<br>Magnitude: -2.59",
            "File: HFTS2_20190412_050607_040<br>Magnitude: -2.54"
           ],
           "type": "scatter3d",
           "x": [
            954033.2164
           ],
           "y": [
            849117.7573
           ],
           "z": [
            8445.4257
           ]
          }
         ],
         "name": "2019-04-12 04:45:40.018000"
        },
        {
         "data": [
          {
           "marker": {
            "cmax": -1.6189,
            "cmin": -2.9802,
            "color": [
             -2.5615
            ],
            "colorscale": [
             [
              0,
              "#440154"
             ],
             [
              0.1111111111111111,
              "#482878"
             ],
             [
              0.2222222222222222,
              "#3e4989"
             ],
             [
              0.3333333333333333,
              "#31688e"
             ],
             [
              0.4444444444444444,
              "#26828e"
             ],
             [
              0.5555555555555556,
              "#1f9e89"
             ],
             [
              0.6666666666666666,
              "#35b779"
             ],
             [
              0.7777777777777778,
              "#6ece58"
             ],
             [
              0.8888888888888888,
              "#b5de2b"
             ],
             [
              1,
              "#fde725"
             ]
            ],
            "size": [
             256.15000000000003
            ],
            "sizemode": "diameter",
            "sizeref": 25
           },
           "mode": "markers",
           "text": [
            "File: HFTS2_20190412_042831_040<br>Magnitude: -2.77",
            "File: HFTS2_20190412_042832_040<br>Magnitude: -2.73",
            "File: HFTS2_20190412_042833_040<br>Magnitude: -2.65",
            "File: HFTS2_20190412_042835_040<br>Magnitude: -2.65",
            "File: HFTS2_20190412_043437_040<br>Magnitude: -2.56",
            "File: HFTS2_20190412_043802_040<br>Magnitude: -2.35",
            "File: HFTS2_20190412_043803_040<br>Magnitude: -2.22",
            "File: HFTS2_20190412_044156_040<br>Magnitude: -2.03",
            "File: HFTS2_20190412_044403_040<br>Magnitude: -2.39",
            "File: HFTS2_20190412_044404_040<br>Magnitude: -2.10",
            "File: HFTS2_20190412_044435_040_Merged<br>Magnitude: -2.47",
            "File: HFTS2_20190412_044506_040<br>Magnitude: -2.32",
            "File: HFTS2_20190412_044516_040<br>Magnitude: -1.97",
            "File: HFTS2_20190412_044521_040<br>Magnitude: -2.07",
            "File: HFTS2_20190412_044522_040<br>Magnitude: -2.47",
            "File: HFTS2_20190412_044526_040<br>Magnitude: -2.74",
            "File: HFTS2_20190412_044540_040<br>Magnitude: -2.21",
            "File: HFTS2_20190412_044542_040<br>Magnitude: -2.56",
            "File: HFTS2_20190412_044543_040<br>Magnitude: -2.36",
            "File: HFTS2_20190412_044544_040<br>Magnitude: -2.59",
            "File: HFTS2_20190412_044545_040<br>Magnitude: -2.60",
            "File: HFTS2_20190412_044605_040<br>Magnitude: -2.71",
            "File: HFTS2_20190412_044619_040<br>Magnitude: -2.54",
            "File: HFTS2_20190412_044620_040<br>Magnitude: -1.81",
            "File: HFTS2_20190412_044623_040<br>Magnitude: -2.21",
            "File: HFTS2_20190412_044643_040<br>Magnitude: -2.30",
            "File: HFTS2_20190412_044647_040<br>Magnitude: -2.42",
            "File: HFTS2_20190412_044651_040<br>Magnitude: -2.46",
            "File: HFTS2_20190412_044659_040_Merged<br>Magnitude: -1.62",
            "File: HFTS2_20190412_044707_040<br>Magnitude: -2.09",
            "File: HFTS2_20190412_044731_040<br>Magnitude: -2.70",
            "File: HFTS2_20190412_044737_040<br>Magnitude: -2.41",
            "File: HFTS2_20190412_044741_040<br>Magnitude: -2.63",
            "File: HFTS2_20190412_044757_040<br>Magnitude: -2.12",
            "File: HFTS2_20190412_044759_040<br>Magnitude: -2.07",
            "File: HFTS2_20190412_044800_040<br>Magnitude: -2.53",
            "File: HFTS2_20190412_044803_040<br>Magnitude: -2.61",
            "File: HFTS2_20190412_044816_040<br>Magnitude: -2.12",
            "File: HFTS2_20190412_044822_040<br>Magnitude: -2.06",
            "File: HFTS2_20190412_044824_040<br>Magnitude: -2.02",
            "File: HFTS2_20190412_044829_040<br>Magnitude: -1.79",
            "File: HFTS2_20190412_044833_040<br>Magnitude: -2.29",
            "File: HFTS2_20190412_044841_040<br>Magnitude: -2.80",
            "File: HFTS2_20190412_044842_040<br>Magnitude: -2.24",
            "File: HFTS2_20190412_044903_040<br>Magnitude: -2.53",
            "File: HFTS2_20190412_044914_040<br>Magnitude: -2.58",
            "File: HFTS2_20190412_044945_040<br>Magnitude: -2.34",
            "File: HFTS2_20190412_044957_040<br>Magnitude: -2.58",
            "File: HFTS2_20190412_045027_040<br>Magnitude: -2.54",
            "File: HFTS2_20190412_045029_040<br>Magnitude: -2.63",
            "File: HFTS2_20190412_045035_040<br>Magnitude: -2.49",
            "File: HFTS2_20190412_045126_040<br>Magnitude: -2.40",
            "File: HFTS2_20190412_045127_040<br>Magnitude: -2.66",
            "File: HFTS2_20190412_045157_040<br>Magnitude: -2.08",
            "File: HFTS2_20190412_045254_040<br>Magnitude: -2.98",
            "File: HFTS2_20190412_045333_040<br>Magnitude: -2.15",
            "File: HFTS2_20190412_045344_040<br>Magnitude: -2.72",
            "File: HFTS2_20190412_045434_040<br>Magnitude: -2.50",
            "File: HFTS2_20190412_045451_040<br>Magnitude: -2.17",
            "File: HFTS2_20190412_045457_040<br>Magnitude: -2.51",
            "File: HFTS2_20190412_045523_040<br>Magnitude: -2.33",
            "File: HFTS2_20190412_045526_040<br>Magnitude: -2.80",
            "File: HFTS2_20190412_045528_040<br>Magnitude: -2.65",
            "File: HFTS2_20190412_045530_040<br>Magnitude: -2.49",
            "File: HFTS2_20190412_045535_040<br>Magnitude: -2.52",
            "File: HFTS2_20190412_045537_040<br>Magnitude: -2.76",
            "File: HFTS2_20190412_045550_040<br>Magnitude: -2.54",
            "File: HFTS2_20190412_045558_040<br>Magnitude: -2.77",
            "File: HFTS2_20190412_045602_040<br>Magnitude: -2.00",
            "File: HFTS2_20190412_045604_040<br>Magnitude: -2.78",
            "File: HFTS2_20190412_045608_040<br>Magnitude: -2.12",
            "File: HFTS2_20190412_045611_040<br>Magnitude: -2.60",
            "File: HFTS2_20190412_045620_040<br>Magnitude: -2.31",
            "File: HFTS2_20190412_045630_040<br>Magnitude: -2.65",
            "File: HFTS2_20190412_045644_040<br>Magnitude: -2.50",
            "File: HFTS2_20190412_045716_040<br>Magnitude: -2.37",
            "File: HFTS2_20190412_045727_040<br>Magnitude: -2.57",
            "File: HFTS2_20190412_045809_040<br>Magnitude: -2.58",
            "File: HFTS2_20190412_045818_040<br>Magnitude: -2.67",
            "File: HFTS2_20190412_045840_040<br>Magnitude: -2.77",
            "File: HFTS2_20190412_045938_040<br>Magnitude: -2.77",
            "File: HFTS2_20190412_045943_040<br>Magnitude: -2.39",
            "File: HFTS2_20190412_045952_040<br>Magnitude: -2.52",
            "File: HFTS2_20190412_050004_040<br>Magnitude: -2.35",
            "File: HFTS2_20190412_050011_040<br>Magnitude: -2.47",
            "File: HFTS2_20190412_050036_040<br>Magnitude: -2.61",
            "File: HFTS2_20190412_050053_040<br>Magnitude: -2.92",
            "File: HFTS2_20190412_050100_040<br>Magnitude: -2.58",
            "File: HFTS2_20190412_050127_040<br>Magnitude: -2.58",
            "File: HFTS2_20190412_050128_040<br>Magnitude: -2.57",
            "File: HFTS2_20190412_050133_040<br>Magnitude: -2.77",
            "File: HFTS2_20190412_050147_040<br>Magnitude: -2.71",
            "File: HFTS2_20190412_050202_040<br>Magnitude: -2.88",
            "File: HFTS2_20190412_050221_040<br>Magnitude: -2.82",
            "File: HFTS2_20190412_050315_040<br>Magnitude: -2.47",
            "File: HFTS2_20190412_050325_040<br>Magnitude: -2.62",
            "File: HFTS2_20190412_050358_040<br>Magnitude: -2.78",
            "File: HFTS2_20190412_050425_040<br>Magnitude: -2.75",
            "File: HFTS2_20190412_050456_040<br>Magnitude: -2.44",
            "File: HFTS2_20190412_050534_040<br>Magnitude: -2.59",
            "File: HFTS2_20190412_050607_040<br>Magnitude: -2.54"
           ],
           "type": "scatter3d",
           "x": [
            954017.9573
           ],
           "y": [
            849076.3863
           ],
           "z": [
            8542.2511
           ]
          }
         ],
         "name": "2019-04-12 04:45:41.994000"
        },
        {
         "data": [
          {
           "marker": {
            "cmax": -1.6189,
            "cmin": -2.9802,
            "color": [
             -2.3553
            ],
            "colorscale": [
             [
              0,
              "#440154"
             ],
             [
              0.1111111111111111,
              "#482878"
             ],
             [
              0.2222222222222222,
              "#3e4989"
             ],
             [
              0.3333333333333333,
              "#31688e"
             ],
             [
              0.4444444444444444,
              "#26828e"
             ],
             [
              0.5555555555555556,
              "#1f9e89"
             ],
             [
              0.6666666666666666,
              "#35b779"
             ],
             [
              0.7777777777777778,
              "#6ece58"
             ],
             [
              0.8888888888888888,
              "#b5de2b"
             ],
             [
              1,
              "#fde725"
             ]
            ],
            "size": [
             235.53000000000003
            ],
            "sizemode": "diameter",
            "sizeref": 25
           },
           "mode": "markers",
           "text": [
            "File: HFTS2_20190412_042831_040<br>Magnitude: -2.77",
            "File: HFTS2_20190412_042832_040<br>Magnitude: -2.73",
            "File: HFTS2_20190412_042833_040<br>Magnitude: -2.65",
            "File: HFTS2_20190412_042835_040<br>Magnitude: -2.65",
            "File: HFTS2_20190412_043437_040<br>Magnitude: -2.56",
            "File: HFTS2_20190412_043802_040<br>Magnitude: -2.35",
            "File: HFTS2_20190412_043803_040<br>Magnitude: -2.22",
            "File: HFTS2_20190412_044156_040<br>Magnitude: -2.03",
            "File: HFTS2_20190412_044403_040<br>Magnitude: -2.39",
            "File: HFTS2_20190412_044404_040<br>Magnitude: -2.10",
            "File: HFTS2_20190412_044435_040_Merged<br>Magnitude: -2.47",
            "File: HFTS2_20190412_044506_040<br>Magnitude: -2.32",
            "File: HFTS2_20190412_044516_040<br>Magnitude: -1.97",
            "File: HFTS2_20190412_044521_040<br>Magnitude: -2.07",
            "File: HFTS2_20190412_044522_040<br>Magnitude: -2.47",
            "File: HFTS2_20190412_044526_040<br>Magnitude: -2.74",
            "File: HFTS2_20190412_044540_040<br>Magnitude: -2.21",
            "File: HFTS2_20190412_044542_040<br>Magnitude: -2.56",
            "File: HFTS2_20190412_044543_040<br>Magnitude: -2.36",
            "File: HFTS2_20190412_044544_040<br>Magnitude: -2.59",
            "File: HFTS2_20190412_044545_040<br>Magnitude: -2.60",
            "File: HFTS2_20190412_044605_040<br>Magnitude: -2.71",
            "File: HFTS2_20190412_044619_040<br>Magnitude: -2.54",
            "File: HFTS2_20190412_044620_040<br>Magnitude: -1.81",
            "File: HFTS2_20190412_044623_040<br>Magnitude: -2.21",
            "File: HFTS2_20190412_044643_040<br>Magnitude: -2.30",
            "File: HFTS2_20190412_044647_040<br>Magnitude: -2.42",
            "File: HFTS2_20190412_044651_040<br>Magnitude: -2.46",
            "File: HFTS2_20190412_044659_040_Merged<br>Magnitude: -1.62",
            "File: HFTS2_20190412_044707_040<br>Magnitude: -2.09",
            "File: HFTS2_20190412_044731_040<br>Magnitude: -2.70",
            "File: HFTS2_20190412_044737_040<br>Magnitude: -2.41",
            "File: HFTS2_20190412_044741_040<br>Magnitude: -2.63",
            "File: HFTS2_20190412_044757_040<br>Magnitude: -2.12",
            "File: HFTS2_20190412_044759_040<br>Magnitude: -2.07",
            "File: HFTS2_20190412_044800_040<br>Magnitude: -2.53",
            "File: HFTS2_20190412_044803_040<br>Magnitude: -2.61",
            "File: HFTS2_20190412_044816_040<br>Magnitude: -2.12",
            "File: HFTS2_20190412_044822_040<br>Magnitude: -2.06",
            "File: HFTS2_20190412_044824_040<br>Magnitude: -2.02",
            "File: HFTS2_20190412_044829_040<br>Magnitude: -1.79",
            "File: HFTS2_20190412_044833_040<br>Magnitude: -2.29",
            "File: HFTS2_20190412_044841_040<br>Magnitude: -2.80",
            "File: HFTS2_20190412_044842_040<br>Magnitude: -2.24",
            "File: HFTS2_20190412_044903_040<br>Magnitude: -2.53",
            "File: HFTS2_20190412_044914_040<br>Magnitude: -2.58",
            "File: HFTS2_20190412_044945_040<br>Magnitude: -2.34",
            "File: HFTS2_20190412_044957_040<br>Magnitude: -2.58",
            "File: HFTS2_20190412_045027_040<br>Magnitude: -2.54",
            "File: HFTS2_20190412_045029_040<br>Magnitude: -2.63",
            "File: HFTS2_20190412_045035_040<br>Magnitude: -2.49",
            "File: HFTS2_20190412_045126_040<br>Magnitude: -2.40",
            "File: HFTS2_20190412_045127_040<br>Magnitude: -2.66",
            "File: HFTS2_20190412_045157_040<br>Magnitude: -2.08",
            "File: HFTS2_20190412_045254_040<br>Magnitude: -2.98",
            "File: HFTS2_20190412_045333_040<br>Magnitude: -2.15",
            "File: HFTS2_20190412_045344_040<br>Magnitude: -2.72",
            "File: HFTS2_20190412_045434_040<br>Magnitude: -2.50",
            "File: HFTS2_20190412_045451_040<br>Magnitude: -2.17",
            "File: HFTS2_20190412_045457_040<br>Magnitude: -2.51",
            "File: HFTS2_20190412_045523_040<br>Magnitude: -2.33",
            "File: HFTS2_20190412_045526_040<br>Magnitude: -2.80",
            "File: HFTS2_20190412_045528_040<br>Magnitude: -2.65",
            "File: HFTS2_20190412_045530_040<br>Magnitude: -2.49",
            "File: HFTS2_20190412_045535_040<br>Magnitude: -2.52",
            "File: HFTS2_20190412_045537_040<br>Magnitude: -2.76",
            "File: HFTS2_20190412_045550_040<br>Magnitude: -2.54",
            "File: HFTS2_20190412_045558_040<br>Magnitude: -2.77",
            "File: HFTS2_20190412_045602_040<br>Magnitude: -2.00",
            "File: HFTS2_20190412_045604_040<br>Magnitude: -2.78",
            "File: HFTS2_20190412_045608_040<br>Magnitude: -2.12",
            "File: HFTS2_20190412_045611_040<br>Magnitude: -2.60",
            "File: HFTS2_20190412_045620_040<br>Magnitude: -2.31",
            "File: HFTS2_20190412_045630_040<br>Magnitude: -2.65",
            "File: HFTS2_20190412_045644_040<br>Magnitude: -2.50",
            "File: HFTS2_20190412_045716_040<br>Magnitude: -2.37",
            "File: HFTS2_20190412_045727_040<br>Magnitude: -2.57",
            "File: HFTS2_20190412_045809_040<br>Magnitude: -2.58",
            "File: HFTS2_20190412_045818_040<br>Magnitude: -2.67",
            "File: HFTS2_20190412_045840_040<br>Magnitude: -2.77",
            "File: HFTS2_20190412_045938_040<br>Magnitude: -2.77",
            "File: HFTS2_20190412_045943_040<br>Magnitude: -2.39",
            "File: HFTS2_20190412_045952_040<br>Magnitude: -2.52",
            "File: HFTS2_20190412_050004_040<br>Magnitude: -2.35",
            "File: HFTS2_20190412_050011_040<br>Magnitude: -2.47",
            "File: HFTS2_20190412_050036_040<br>Magnitude: -2.61",
            "File: HFTS2_20190412_050053_040<br>Magnitude: -2.92",
            "File: HFTS2_20190412_050100_040<br>Magnitude: -2.58",
            "File: HFTS2_20190412_050127_040<br>Magnitude: -2.58",
            "File: HFTS2_20190412_050128_040<br>Magnitude: -2.57",
            "File: HFTS2_20190412_050133_040<br>Magnitude: -2.77",
            "File: HFTS2_20190412_050147_040<br>Magnitude: -2.71",
            "File: HFTS2_20190412_050202_040<br>Magnitude: -2.88",
            "File: HFTS2_20190412_050221_040<br>Magnitude: -2.82",
            "File: HFTS2_20190412_050315_040<br>Magnitude: -2.47",
            "File: HFTS2_20190412_050325_040<br>Magnitude: -2.62",
            "File: HFTS2_20190412_050358_040<br>Magnitude: -2.78",
            "File: HFTS2_20190412_050425_040<br>Magnitude: -2.75",
            "File: HFTS2_20190412_050456_040<br>Magnitude: -2.44",
            "File: HFTS2_20190412_050534_040<br>Magnitude: -2.59",
            "File: HFTS2_20190412_050607_040<br>Magnitude: -2.54"
           ],
           "type": "scatter3d",
           "x": [
            954049.3478
           ],
           "y": [
            849110.4132
           ],
           "z": [
            8369.1372
           ]
          }
         ],
         "name": "2019-04-12 04:45:43.657000"
        },
        {
         "data": [
          {
           "marker": {
            "cmax": -1.6189,
            "cmin": -2.9802,
            "color": [
             -2.5949
            ],
            "colorscale": [
             [
              0,
              "#440154"
             ],
             [
              0.1111111111111111,
              "#482878"
             ],
             [
              0.2222222222222222,
              "#3e4989"
             ],
             [
              0.3333333333333333,
              "#31688e"
             ],
             [
              0.4444444444444444,
              "#26828e"
             ],
             [
              0.5555555555555556,
              "#1f9e89"
             ],
             [
              0.6666666666666666,
              "#35b779"
             ],
             [
              0.7777777777777778,
              "#6ece58"
             ],
             [
              0.8888888888888888,
              "#b5de2b"
             ],
             [
              1,
              "#fde725"
             ]
            ],
            "size": [
             259.49
            ],
            "sizemode": "diameter",
            "sizeref": 25
           },
           "mode": "markers",
           "text": [
            "File: HFTS2_20190412_042831_040<br>Magnitude: -2.77",
            "File: HFTS2_20190412_042832_040<br>Magnitude: -2.73",
            "File: HFTS2_20190412_042833_040<br>Magnitude: -2.65",
            "File: HFTS2_20190412_042835_040<br>Magnitude: -2.65",
            "File: HFTS2_20190412_043437_040<br>Magnitude: -2.56",
            "File: HFTS2_20190412_043802_040<br>Magnitude: -2.35",
            "File: HFTS2_20190412_043803_040<br>Magnitude: -2.22",
            "File: HFTS2_20190412_044156_040<br>Magnitude: -2.03",
            "File: HFTS2_20190412_044403_040<br>Magnitude: -2.39",
            "File: HFTS2_20190412_044404_040<br>Magnitude: -2.10",
            "File: HFTS2_20190412_044435_040_Merged<br>Magnitude: -2.47",
            "File: HFTS2_20190412_044506_040<br>Magnitude: -2.32",
            "File: HFTS2_20190412_044516_040<br>Magnitude: -1.97",
            "File: HFTS2_20190412_044521_040<br>Magnitude: -2.07",
            "File: HFTS2_20190412_044522_040<br>Magnitude: -2.47",
            "File: HFTS2_20190412_044526_040<br>Magnitude: -2.74",
            "File: HFTS2_20190412_044540_040<br>Magnitude: -2.21",
            "File: HFTS2_20190412_044542_040<br>Magnitude: -2.56",
            "File: HFTS2_20190412_044543_040<br>Magnitude: -2.36",
            "File: HFTS2_20190412_044544_040<br>Magnitude: -2.59",
            "File: HFTS2_20190412_044545_040<br>Magnitude: -2.60",
            "File: HFTS2_20190412_044605_040<br>Magnitude: -2.71",
            "File: HFTS2_20190412_044619_040<br>Magnitude: -2.54",
            "File: HFTS2_20190412_044620_040<br>Magnitude: -1.81",
            "File: HFTS2_20190412_044623_040<br>Magnitude: -2.21",
            "File: HFTS2_20190412_044643_040<br>Magnitude: -2.30",
            "File: HFTS2_20190412_044647_040<br>Magnitude: -2.42",
            "File: HFTS2_20190412_044651_040<br>Magnitude: -2.46",
            "File: HFTS2_20190412_044659_040_Merged<br>Magnitude: -1.62",
            "File: HFTS2_20190412_044707_040<br>Magnitude: -2.09",
            "File: HFTS2_20190412_044731_040<br>Magnitude: -2.70",
            "File: HFTS2_20190412_044737_040<br>Magnitude: -2.41",
            "File: HFTS2_20190412_044741_040<br>Magnitude: -2.63",
            "File: HFTS2_20190412_044757_040<br>Magnitude: -2.12",
            "File: HFTS2_20190412_044759_040<br>Magnitude: -2.07",
            "File: HFTS2_20190412_044800_040<br>Magnitude: -2.53",
            "File: HFTS2_20190412_044803_040<br>Magnitude: -2.61",
            "File: HFTS2_20190412_044816_040<br>Magnitude: -2.12",
            "File: HFTS2_20190412_044822_040<br>Magnitude: -2.06",
            "File: HFTS2_20190412_044824_040<br>Magnitude: -2.02",
            "File: HFTS2_20190412_044829_040<br>Magnitude: -1.79",
            "File: HFTS2_20190412_044833_040<br>Magnitude: -2.29",
            "File: HFTS2_20190412_044841_040<br>Magnitude: -2.80",
            "File: HFTS2_20190412_044842_040<br>Magnitude: -2.24",
            "File: HFTS2_20190412_044903_040<br>Magnitude: -2.53",
            "File: HFTS2_20190412_044914_040<br>Magnitude: -2.58",
            "File: HFTS2_20190412_044945_040<br>Magnitude: -2.34",
            "File: HFTS2_20190412_044957_040<br>Magnitude: -2.58",
            "File: HFTS2_20190412_045027_040<br>Magnitude: -2.54",
            "File: HFTS2_20190412_045029_040<br>Magnitude: -2.63",
            "File: HFTS2_20190412_045035_040<br>Magnitude: -2.49",
            "File: HFTS2_20190412_045126_040<br>Magnitude: -2.40",
            "File: HFTS2_20190412_045127_040<br>Magnitude: -2.66",
            "File: HFTS2_20190412_045157_040<br>Magnitude: -2.08",
            "File: HFTS2_20190412_045254_040<br>Magnitude: -2.98",
            "File: HFTS2_20190412_045333_040<br>Magnitude: -2.15",
            "File: HFTS2_20190412_045344_040<br>Magnitude: -2.72",
            "File: HFTS2_20190412_045434_040<br>Magnitude: -2.50",
            "File: HFTS2_20190412_045451_040<br>Magnitude: -2.17",
            "File: HFTS2_20190412_045457_040<br>Magnitude: -2.51",
            "File: HFTS2_20190412_045523_040<br>Magnitude: -2.33",
            "File: HFTS2_20190412_045526_040<br>Magnitude: -2.80",
            "File: HFTS2_20190412_045528_040<br>Magnitude: -2.65",
            "File: HFTS2_20190412_045530_040<br>Magnitude: -2.49",
            "File: HFTS2_20190412_045535_040<br>Magnitude: -2.52",
            "File: HFTS2_20190412_045537_040<br>Magnitude: -2.76",
            "File: HFTS2_20190412_045550_040<br>Magnitude: -2.54",
            "File: HFTS2_20190412_045558_040<br>Magnitude: -2.77",
            "File: HFTS2_20190412_045602_040<br>Magnitude: -2.00",
            "File: HFTS2_20190412_045604_040<br>Magnitude: -2.78",
            "File: HFTS2_20190412_045608_040<br>Magnitude: -2.12",
            "File: HFTS2_20190412_045611_040<br>Magnitude: -2.60",
            "File: HFTS2_20190412_045620_040<br>Magnitude: -2.31",
            "File: HFTS2_20190412_045630_040<br>Magnitude: -2.65",
            "File: HFTS2_20190412_045644_040<br>Magnitude: -2.50",
            "File: HFTS2_20190412_045716_040<br>Magnitude: -2.37",
            "File: HFTS2_20190412_045727_040<br>Magnitude: -2.57",
            "File: HFTS2_20190412_045809_040<br>Magnitude: -2.58",
            "File: HFTS2_20190412_045818_040<br>Magnitude: -2.67",
            "File: HFTS2_20190412_045840_040<br>Magnitude: -2.77",
            "File: HFTS2_20190412_045938_040<br>Magnitude: -2.77",
            "File: HFTS2_20190412_045943_040<br>Magnitude: -2.39",
            "File: HFTS2_20190412_045952_040<br>Magnitude: -2.52",
            "File: HFTS2_20190412_050004_040<br>Magnitude: -2.35",
            "File: HFTS2_20190412_050011_040<br>Magnitude: -2.47",
            "File: HFTS2_20190412_050036_040<br>Magnitude: -2.61",
            "File: HFTS2_20190412_050053_040<br>Magnitude: -2.92",
            "File: HFTS2_20190412_050100_040<br>Magnitude: -2.58",
            "File: HFTS2_20190412_050127_040<br>Magnitude: -2.58",
            "File: HFTS2_20190412_050128_040<br>Magnitude: -2.57",
            "File: HFTS2_20190412_050133_040<br>Magnitude: -2.77",
            "File: HFTS2_20190412_050147_040<br>Magnitude: -2.71",
            "File: HFTS2_20190412_050202_040<br>Magnitude: -2.88",
            "File: HFTS2_20190412_050221_040<br>Magnitude: -2.82",
            "File: HFTS2_20190412_050315_040<br>Magnitude: -2.47",
            "File: HFTS2_20190412_050325_040<br>Magnitude: -2.62",
            "File: HFTS2_20190412_050358_040<br>Magnitude: -2.78",
            "File: HFTS2_20190412_050425_040<br>Magnitude: -2.75",
            "File: HFTS2_20190412_050456_040<br>Magnitude: -2.44",
            "File: HFTS2_20190412_050534_040<br>Magnitude: -2.59",
            "File: HFTS2_20190412_050607_040<br>Magnitude: -2.54"
           ],
           "type": "scatter3d",
           "x": [
            954000.2531
           ],
           "y": [
            849221.5562
           ],
           "z": [
            8687.4997
           ]
          }
         ],
         "name": "2019-04-12 04:45:44.561000"
        },
        {
         "data": [
          {
           "marker": {
            "cmax": -1.6189,
            "cmin": -2.9802,
            "color": [
             -2.5984
            ],
            "colorscale": [
             [
              0,
              "#440154"
             ],
             [
              0.1111111111111111,
              "#482878"
             ],
             [
              0.2222222222222222,
              "#3e4989"
             ],
             [
              0.3333333333333333,
              "#31688e"
             ],
             [
              0.4444444444444444,
              "#26828e"
             ],
             [
              0.5555555555555556,
              "#1f9e89"
             ],
             [
              0.6666666666666666,
              "#35b779"
             ],
             [
              0.7777777777777778,
              "#6ece58"
             ],
             [
              0.8888888888888888,
              "#b5de2b"
             ],
             [
              1,
              "#fde725"
             ]
            ],
            "size": [
             259.84
            ],
            "sizemode": "diameter",
            "sizeref": 25
           },
           "mode": "markers",
           "text": [
            "File: HFTS2_20190412_042831_040<br>Magnitude: -2.77",
            "File: HFTS2_20190412_042832_040<br>Magnitude: -2.73",
            "File: HFTS2_20190412_042833_040<br>Magnitude: -2.65",
            "File: HFTS2_20190412_042835_040<br>Magnitude: -2.65",
            "File: HFTS2_20190412_043437_040<br>Magnitude: -2.56",
            "File: HFTS2_20190412_043802_040<br>Magnitude: -2.35",
            "File: HFTS2_20190412_043803_040<br>Magnitude: -2.22",
            "File: HFTS2_20190412_044156_040<br>Magnitude: -2.03",
            "File: HFTS2_20190412_044403_040<br>Magnitude: -2.39",
            "File: HFTS2_20190412_044404_040<br>Magnitude: -2.10",
            "File: HFTS2_20190412_044435_040_Merged<br>Magnitude: -2.47",
            "File: HFTS2_20190412_044506_040<br>Magnitude: -2.32",
            "File: HFTS2_20190412_044516_040<br>Magnitude: -1.97",
            "File: HFTS2_20190412_044521_040<br>Magnitude: -2.07",
            "File: HFTS2_20190412_044522_040<br>Magnitude: -2.47",
            "File: HFTS2_20190412_044526_040<br>Magnitude: -2.74",
            "File: HFTS2_20190412_044540_040<br>Magnitude: -2.21",
            "File: HFTS2_20190412_044542_040<br>Magnitude: -2.56",
            "File: HFTS2_20190412_044543_040<br>Magnitude: -2.36",
            "File: HFTS2_20190412_044544_040<br>Magnitude: -2.59",
            "File: HFTS2_20190412_044545_040<br>Magnitude: -2.60",
            "File: HFTS2_20190412_044605_040<br>Magnitude: -2.71",
            "File: HFTS2_20190412_044619_040<br>Magnitude: -2.54",
            "File: HFTS2_20190412_044620_040<br>Magnitude: -1.81",
            "File: HFTS2_20190412_044623_040<br>Magnitude: -2.21",
            "File: HFTS2_20190412_044643_040<br>Magnitude: -2.30",
            "File: HFTS2_20190412_044647_040<br>Magnitude: -2.42",
            "File: HFTS2_20190412_044651_040<br>Magnitude: -2.46",
            "File: HFTS2_20190412_044659_040_Merged<br>Magnitude: -1.62",
            "File: HFTS2_20190412_044707_040<br>Magnitude: -2.09",
            "File: HFTS2_20190412_044731_040<br>Magnitude: -2.70",
            "File: HFTS2_20190412_044737_040<br>Magnitude: -2.41",
            "File: HFTS2_20190412_044741_040<br>Magnitude: -2.63",
            "File: HFTS2_20190412_044757_040<br>Magnitude: -2.12",
            "File: HFTS2_20190412_044759_040<br>Magnitude: -2.07",
            "File: HFTS2_20190412_044800_040<br>Magnitude: -2.53",
            "File: HFTS2_20190412_044803_040<br>Magnitude: -2.61",
            "File: HFTS2_20190412_044816_040<br>Magnitude: -2.12",
            "File: HFTS2_20190412_044822_040<br>Magnitude: -2.06",
            "File: HFTS2_20190412_044824_040<br>Magnitude: -2.02",
            "File: HFTS2_20190412_044829_040<br>Magnitude: -1.79",
            "File: HFTS2_20190412_044833_040<br>Magnitude: -2.29",
            "File: HFTS2_20190412_044841_040<br>Magnitude: -2.80",
            "File: HFTS2_20190412_044842_040<br>Magnitude: -2.24",
            "File: HFTS2_20190412_044903_040<br>Magnitude: -2.53",
            "File: HFTS2_20190412_044914_040<br>Magnitude: -2.58",
            "File: HFTS2_20190412_044945_040<br>Magnitude: -2.34",
            "File: HFTS2_20190412_044957_040<br>Magnitude: -2.58",
            "File: HFTS2_20190412_045027_040<br>Magnitude: -2.54",
            "File: HFTS2_20190412_045029_040<br>Magnitude: -2.63",
            "File: HFTS2_20190412_045035_040<br>Magnitude: -2.49",
            "File: HFTS2_20190412_045126_040<br>Magnitude: -2.40",
            "File: HFTS2_20190412_045127_040<br>Magnitude: -2.66",
            "File: HFTS2_20190412_045157_040<br>Magnitude: -2.08",
            "File: HFTS2_20190412_045254_040<br>Magnitude: -2.98",
            "File: HFTS2_20190412_045333_040<br>Magnitude: -2.15",
            "File: HFTS2_20190412_045344_040<br>Magnitude: -2.72",
            "File: HFTS2_20190412_045434_040<br>Magnitude: -2.50",
            "File: HFTS2_20190412_045451_040<br>Magnitude: -2.17",
            "File: HFTS2_20190412_045457_040<br>Magnitude: -2.51",
            "File: HFTS2_20190412_045523_040<br>Magnitude: -2.33",
            "File: HFTS2_20190412_045526_040<br>Magnitude: -2.80",
            "File: HFTS2_20190412_045528_040<br>Magnitude: -2.65",
            "File: HFTS2_20190412_045530_040<br>Magnitude: -2.49",
            "File: HFTS2_20190412_045535_040<br>Magnitude: -2.52",
            "File: HFTS2_20190412_045537_040<br>Magnitude: -2.76",
            "File: HFTS2_20190412_045550_040<br>Magnitude: -2.54",
            "File: HFTS2_20190412_045558_040<br>Magnitude: -2.77",
            "File: HFTS2_20190412_045602_040<br>Magnitude: -2.00",
            "File: HFTS2_20190412_045604_040<br>Magnitude: -2.78",
            "File: HFTS2_20190412_045608_040<br>Magnitude: -2.12",
            "File: HFTS2_20190412_045611_040<br>Magnitude: -2.60",
            "File: HFTS2_20190412_045620_040<br>Magnitude: -2.31",
            "File: HFTS2_20190412_045630_040<br>Magnitude: -2.65",
            "File: HFTS2_20190412_045644_040<br>Magnitude: -2.50",
            "File: HFTS2_20190412_045716_040<br>Magnitude: -2.37",
            "File: HFTS2_20190412_045727_040<br>Magnitude: -2.57",
            "File: HFTS2_20190412_045809_040<br>Magnitude: -2.58",
            "File: HFTS2_20190412_045818_040<br>Magnitude: -2.67",
            "File: HFTS2_20190412_045840_040<br>Magnitude: -2.77",
            "File: HFTS2_20190412_045938_040<br>Magnitude: -2.77",
            "File: HFTS2_20190412_045943_040<br>Magnitude: -2.39",
            "File: HFTS2_20190412_045952_040<br>Magnitude: -2.52",
            "File: HFTS2_20190412_050004_040<br>Magnitude: -2.35",
            "File: HFTS2_20190412_050011_040<br>Magnitude: -2.47",
            "File: HFTS2_20190412_050036_040<br>Magnitude: -2.61",
            "File: HFTS2_20190412_050053_040<br>Magnitude: -2.92",
            "File: HFTS2_20190412_050100_040<br>Magnitude: -2.58",
            "File: HFTS2_20190412_050127_040<br>Magnitude: -2.58",
            "File: HFTS2_20190412_050128_040<br>Magnitude: -2.57",
            "File: HFTS2_20190412_050133_040<br>Magnitude: -2.77",
            "File: HFTS2_20190412_050147_040<br>Magnitude: -2.71",
            "File: HFTS2_20190412_050202_040<br>Magnitude: -2.88",
            "File: HFTS2_20190412_050221_040<br>Magnitude: -2.82",
            "File: HFTS2_20190412_050315_040<br>Magnitude: -2.47",
            "File: HFTS2_20190412_050325_040<br>Magnitude: -2.62",
            "File: HFTS2_20190412_050358_040<br>Magnitude: -2.78",
            "File: HFTS2_20190412_050425_040<br>Magnitude: -2.75",
            "File: HFTS2_20190412_050456_040<br>Magnitude: -2.44",
            "File: HFTS2_20190412_050534_040<br>Magnitude: -2.59",
            "File: HFTS2_20190412_050607_040<br>Magnitude: -2.54"
           ],
           "type": "scatter3d",
           "x": [
            954076.9383
           ],
           "y": [
            849146.9513
           ],
           "z": [
            8504.1458
           ]
          }
         ],
         "name": "2019-04-12 04:45:45.239000"
        },
        {
         "data": [
          {
           "marker": {
            "cmax": -1.6189,
            "cmin": -2.9802,
            "color": [
             -2.7145
            ],
            "colorscale": [
             [
              0,
              "#440154"
             ],
             [
              0.1111111111111111,
              "#482878"
             ],
             [
              0.2222222222222222,
              "#3e4989"
             ],
             [
              0.3333333333333333,
              "#31688e"
             ],
             [
              0.4444444444444444,
              "#26828e"
             ],
             [
              0.5555555555555556,
              "#1f9e89"
             ],
             [
              0.6666666666666666,
              "#35b779"
             ],
             [
              0.7777777777777778,
              "#6ece58"
             ],
             [
              0.8888888888888888,
              "#b5de2b"
             ],
             [
              1,
              "#fde725"
             ]
            ],
            "size": [
             271.45
            ],
            "sizemode": "diameter",
            "sizeref": 25
           },
           "mode": "markers",
           "text": [
            "File: HFTS2_20190412_042831_040<br>Magnitude: -2.77",
            "File: HFTS2_20190412_042832_040<br>Magnitude: -2.73",
            "File: HFTS2_20190412_042833_040<br>Magnitude: -2.65",
            "File: HFTS2_20190412_042835_040<br>Magnitude: -2.65",
            "File: HFTS2_20190412_043437_040<br>Magnitude: -2.56",
            "File: HFTS2_20190412_043802_040<br>Magnitude: -2.35",
            "File: HFTS2_20190412_043803_040<br>Magnitude: -2.22",
            "File: HFTS2_20190412_044156_040<br>Magnitude: -2.03",
            "File: HFTS2_20190412_044403_040<br>Magnitude: -2.39",
            "File: HFTS2_20190412_044404_040<br>Magnitude: -2.10",
            "File: HFTS2_20190412_044435_040_Merged<br>Magnitude: -2.47",
            "File: HFTS2_20190412_044506_040<br>Magnitude: -2.32",
            "File: HFTS2_20190412_044516_040<br>Magnitude: -1.97",
            "File: HFTS2_20190412_044521_040<br>Magnitude: -2.07",
            "File: HFTS2_20190412_044522_040<br>Magnitude: -2.47",
            "File: HFTS2_20190412_044526_040<br>Magnitude: -2.74",
            "File: HFTS2_20190412_044540_040<br>Magnitude: -2.21",
            "File: HFTS2_20190412_044542_040<br>Magnitude: -2.56",
            "File: HFTS2_20190412_044543_040<br>Magnitude: -2.36",
            "File: HFTS2_20190412_044544_040<br>Magnitude: -2.59",
            "File: HFTS2_20190412_044545_040<br>Magnitude: -2.60",
            "File: HFTS2_20190412_044605_040<br>Magnitude: -2.71",
            "File: HFTS2_20190412_044619_040<br>Magnitude: -2.54",
            "File: HFTS2_20190412_044620_040<br>Magnitude: -1.81",
            "File: HFTS2_20190412_044623_040<br>Magnitude: -2.21",
            "File: HFTS2_20190412_044643_040<br>Magnitude: -2.30",
            "File: HFTS2_20190412_044647_040<br>Magnitude: -2.42",
            "File: HFTS2_20190412_044651_040<br>Magnitude: -2.46",
            "File: HFTS2_20190412_044659_040_Merged<br>Magnitude: -1.62",
            "File: HFTS2_20190412_044707_040<br>Magnitude: -2.09",
            "File: HFTS2_20190412_044731_040<br>Magnitude: -2.70",
            "File: HFTS2_20190412_044737_040<br>Magnitude: -2.41",
            "File: HFTS2_20190412_044741_040<br>Magnitude: -2.63",
            "File: HFTS2_20190412_044757_040<br>Magnitude: -2.12",
            "File: HFTS2_20190412_044759_040<br>Magnitude: -2.07",
            "File: HFTS2_20190412_044800_040<br>Magnitude: -2.53",
            "File: HFTS2_20190412_044803_040<br>Magnitude: -2.61",
            "File: HFTS2_20190412_044816_040<br>Magnitude: -2.12",
            "File: HFTS2_20190412_044822_040<br>Magnitude: -2.06",
            "File: HFTS2_20190412_044824_040<br>Magnitude: -2.02",
            "File: HFTS2_20190412_044829_040<br>Magnitude: -1.79",
            "File: HFTS2_20190412_044833_040<br>Magnitude: -2.29",
            "File: HFTS2_20190412_044841_040<br>Magnitude: -2.80",
            "File: HFTS2_20190412_044842_040<br>Magnitude: -2.24",
            "File: HFTS2_20190412_044903_040<br>Magnitude: -2.53",
            "File: HFTS2_20190412_044914_040<br>Magnitude: -2.58",
            "File: HFTS2_20190412_044945_040<br>Magnitude: -2.34",
            "File: HFTS2_20190412_044957_040<br>Magnitude: -2.58",
            "File: HFTS2_20190412_045027_040<br>Magnitude: -2.54",
            "File: HFTS2_20190412_045029_040<br>Magnitude: -2.63",
            "File: HFTS2_20190412_045035_040<br>Magnitude: -2.49",
            "File: HFTS2_20190412_045126_040<br>Magnitude: -2.40",
            "File: HFTS2_20190412_045127_040<br>Magnitude: -2.66",
            "File: HFTS2_20190412_045157_040<br>Magnitude: -2.08",
            "File: HFTS2_20190412_045254_040<br>Magnitude: -2.98",
            "File: HFTS2_20190412_045333_040<br>Magnitude: -2.15",
            "File: HFTS2_20190412_045344_040<br>Magnitude: -2.72",
            "File: HFTS2_20190412_045434_040<br>Magnitude: -2.50",
            "File: HFTS2_20190412_045451_040<br>Magnitude: -2.17",
            "File: HFTS2_20190412_045457_040<br>Magnitude: -2.51",
            "File: HFTS2_20190412_045523_040<br>Magnitude: -2.33",
            "File: HFTS2_20190412_045526_040<br>Magnitude: -2.80",
            "File: HFTS2_20190412_045528_040<br>Magnitude: -2.65",
            "File: HFTS2_20190412_045530_040<br>Magnitude: -2.49",
            "File: HFTS2_20190412_045535_040<br>Magnitude: -2.52",
            "File: HFTS2_20190412_045537_040<br>Magnitude: -2.76",
            "File: HFTS2_20190412_045550_040<br>Magnitude: -2.54",
            "File: HFTS2_20190412_045558_040<br>Magnitude: -2.77",
            "File: HFTS2_20190412_045602_040<br>Magnitude: -2.00",
            "File: HFTS2_20190412_045604_040<br>Magnitude: -2.78",
            "File: HFTS2_20190412_045608_040<br>Magnitude: -2.12",
            "File: HFTS2_20190412_045611_040<br>Magnitude: -2.60",
            "File: HFTS2_20190412_045620_040<br>Magnitude: -2.31",
            "File: HFTS2_20190412_045630_040<br>Magnitude: -2.65",
            "File: HFTS2_20190412_045644_040<br>Magnitude: -2.50",
            "File: HFTS2_20190412_045716_040<br>Magnitude: -2.37",
            "File: HFTS2_20190412_045727_040<br>Magnitude: -2.57",
            "File: HFTS2_20190412_045809_040<br>Magnitude: -2.58",
            "File: HFTS2_20190412_045818_040<br>Magnitude: -2.67",
            "File: HFTS2_20190412_045840_040<br>Magnitude: -2.77",
            "File: HFTS2_20190412_045938_040<br>Magnitude: -2.77",
            "File: HFTS2_20190412_045943_040<br>Magnitude: -2.39",
            "File: HFTS2_20190412_045952_040<br>Magnitude: -2.52",
            "File: HFTS2_20190412_050004_040<br>Magnitude: -2.35",
            "File: HFTS2_20190412_050011_040<br>Magnitude: -2.47",
            "File: HFTS2_20190412_050036_040<br>Magnitude: -2.61",
            "File: HFTS2_20190412_050053_040<br>Magnitude: -2.92",
            "File: HFTS2_20190412_050100_040<br>Magnitude: -2.58",
            "File: HFTS2_20190412_050127_040<br>Magnitude: -2.58",
            "File: HFTS2_20190412_050128_040<br>Magnitude: -2.57",
            "File: HFTS2_20190412_050133_040<br>Magnitude: -2.77",
            "File: HFTS2_20190412_050147_040<br>Magnitude: -2.71",
            "File: HFTS2_20190412_050202_040<br>Magnitude: -2.88",
            "File: HFTS2_20190412_050221_040<br>Magnitude: -2.82",
            "File: HFTS2_20190412_050315_040<br>Magnitude: -2.47",
            "File: HFTS2_20190412_050325_040<br>Magnitude: -2.62",
            "File: HFTS2_20190412_050358_040<br>Magnitude: -2.78",
            "File: HFTS2_20190412_050425_040<br>Magnitude: -2.75",
            "File: HFTS2_20190412_050456_040<br>Magnitude: -2.44",
            "File: HFTS2_20190412_050534_040<br>Magnitude: -2.59",
            "File: HFTS2_20190412_050607_040<br>Magnitude: -2.54"
           ],
           "type": "scatter3d",
           "x": [
            954208.316
           ],
           "y": [
            849055.3766
           ],
           "z": [
            8268.4257
           ]
          }
         ],
         "name": "2019-04-12 04:46:05.590000"
        },
        {
         "data": [
          {
           "marker": {
            "cmax": -1.6189,
            "cmin": -2.9802,
            "color": [
             -2.5445
            ],
            "colorscale": [
             [
              0,
              "#440154"
             ],
             [
              0.1111111111111111,
              "#482878"
             ],
             [
              0.2222222222222222,
              "#3e4989"
             ],
             [
              0.3333333333333333,
              "#31688e"
             ],
             [
              0.4444444444444444,
              "#26828e"
             ],
             [
              0.5555555555555556,
              "#1f9e89"
             ],
             [
              0.6666666666666666,
              "#35b779"
             ],
             [
              0.7777777777777778,
              "#6ece58"
             ],
             [
              0.8888888888888888,
              "#b5de2b"
             ],
             [
              1,
              "#fde725"
             ]
            ],
            "size": [
             254.45000000000002
            ],
            "sizemode": "diameter",
            "sizeref": 25
           },
           "mode": "markers",
           "text": [
            "File: HFTS2_20190412_042831_040<br>Magnitude: -2.77",
            "File: HFTS2_20190412_042832_040<br>Magnitude: -2.73",
            "File: HFTS2_20190412_042833_040<br>Magnitude: -2.65",
            "File: HFTS2_20190412_042835_040<br>Magnitude: -2.65",
            "File: HFTS2_20190412_043437_040<br>Magnitude: -2.56",
            "File: HFTS2_20190412_043802_040<br>Magnitude: -2.35",
            "File: HFTS2_20190412_043803_040<br>Magnitude: -2.22",
            "File: HFTS2_20190412_044156_040<br>Magnitude: -2.03",
            "File: HFTS2_20190412_044403_040<br>Magnitude: -2.39",
            "File: HFTS2_20190412_044404_040<br>Magnitude: -2.10",
            "File: HFTS2_20190412_044435_040_Merged<br>Magnitude: -2.47",
            "File: HFTS2_20190412_044506_040<br>Magnitude: -2.32",
            "File: HFTS2_20190412_044516_040<br>Magnitude: -1.97",
            "File: HFTS2_20190412_044521_040<br>Magnitude: -2.07",
            "File: HFTS2_20190412_044522_040<br>Magnitude: -2.47",
            "File: HFTS2_20190412_044526_040<br>Magnitude: -2.74",
            "File: HFTS2_20190412_044540_040<br>Magnitude: -2.21",
            "File: HFTS2_20190412_044542_040<br>Magnitude: -2.56",
            "File: HFTS2_20190412_044543_040<br>Magnitude: -2.36",
            "File: HFTS2_20190412_044544_040<br>Magnitude: -2.59",
            "File: HFTS2_20190412_044545_040<br>Magnitude: -2.60",
            "File: HFTS2_20190412_044605_040<br>Magnitude: -2.71",
            "File: HFTS2_20190412_044619_040<br>Magnitude: -2.54",
            "File: HFTS2_20190412_044620_040<br>Magnitude: -1.81",
            "File: HFTS2_20190412_044623_040<br>Magnitude: -2.21",
            "File: HFTS2_20190412_044643_040<br>Magnitude: -2.30",
            "File: HFTS2_20190412_044647_040<br>Magnitude: -2.42",
            "File: HFTS2_20190412_044651_040<br>Magnitude: -2.46",
            "File: HFTS2_20190412_044659_040_Merged<br>Magnitude: -1.62",
            "File: HFTS2_20190412_044707_040<br>Magnitude: -2.09",
            "File: HFTS2_20190412_044731_040<br>Magnitude: -2.70",
            "File: HFTS2_20190412_044737_040<br>Magnitude: -2.41",
            "File: HFTS2_20190412_044741_040<br>Magnitude: -2.63",
            "File: HFTS2_20190412_044757_040<br>Magnitude: -2.12",
            "File: HFTS2_20190412_044759_040<br>Magnitude: -2.07",
            "File: HFTS2_20190412_044800_040<br>Magnitude: -2.53",
            "File: HFTS2_20190412_044803_040<br>Magnitude: -2.61",
            "File: HFTS2_20190412_044816_040<br>Magnitude: -2.12",
            "File: HFTS2_20190412_044822_040<br>Magnitude: -2.06",
            "File: HFTS2_20190412_044824_040<br>Magnitude: -2.02",
            "File: HFTS2_20190412_044829_040<br>Magnitude: -1.79",
            "File: HFTS2_20190412_044833_040<br>Magnitude: -2.29",
            "File: HFTS2_20190412_044841_040<br>Magnitude: -2.80",
            "File: HFTS2_20190412_044842_040<br>Magnitude: -2.24",
            "File: HFTS2_20190412_044903_040<br>Magnitude: -2.53",
            "File: HFTS2_20190412_044914_040<br>Magnitude: -2.58",
            "File: HFTS2_20190412_044945_040<br>Magnitude: -2.34",
            "File: HFTS2_20190412_044957_040<br>Magnitude: -2.58",
            "File: HFTS2_20190412_045027_040<br>Magnitude: -2.54",
            "File: HFTS2_20190412_045029_040<br>Magnitude: -2.63",
            "File: HFTS2_20190412_045035_040<br>Magnitude: -2.49",
            "File: HFTS2_20190412_045126_040<br>Magnitude: -2.40",
            "File: HFTS2_20190412_045127_040<br>Magnitude: -2.66",
            "File: HFTS2_20190412_045157_040<br>Magnitude: -2.08",
            "File: HFTS2_20190412_045254_040<br>Magnitude: -2.98",
            "File: HFTS2_20190412_045333_040<br>Magnitude: -2.15",
            "File: HFTS2_20190412_045344_040<br>Magnitude: -2.72",
            "File: HFTS2_20190412_045434_040<br>Magnitude: -2.50",
            "File: HFTS2_20190412_045451_040<br>Magnitude: -2.17",
            "File: HFTS2_20190412_045457_040<br>Magnitude: -2.51",
            "File: HFTS2_20190412_045523_040<br>Magnitude: -2.33",
            "File: HFTS2_20190412_045526_040<br>Magnitude: -2.80",
            "File: HFTS2_20190412_045528_040<br>Magnitude: -2.65",
            "File: HFTS2_20190412_045530_040<br>Magnitude: -2.49",
            "File: HFTS2_20190412_045535_040<br>Magnitude: -2.52",
            "File: HFTS2_20190412_045537_040<br>Magnitude: -2.76",
            "File: HFTS2_20190412_045550_040<br>Magnitude: -2.54",
            "File: HFTS2_20190412_045558_040<br>Magnitude: -2.77",
            "File: HFTS2_20190412_045602_040<br>Magnitude: -2.00",
            "File: HFTS2_20190412_045604_040<br>Magnitude: -2.78",
            "File: HFTS2_20190412_045608_040<br>Magnitude: -2.12",
            "File: HFTS2_20190412_045611_040<br>Magnitude: -2.60",
            "File: HFTS2_20190412_045620_040<br>Magnitude: -2.31",
            "File: HFTS2_20190412_045630_040<br>Magnitude: -2.65",
            "File: HFTS2_20190412_045644_040<br>Magnitude: -2.50",
            "File: HFTS2_20190412_045716_040<br>Magnitude: -2.37",
            "File: HFTS2_20190412_045727_040<br>Magnitude: -2.57",
            "File: HFTS2_20190412_045809_040<br>Magnitude: -2.58",
            "File: HFTS2_20190412_045818_040<br>Magnitude: -2.67",
            "File: HFTS2_20190412_045840_040<br>Magnitude: -2.77",
            "File: HFTS2_20190412_045938_040<br>Magnitude: -2.77",
            "File: HFTS2_20190412_045943_040<br>Magnitude: -2.39",
            "File: HFTS2_20190412_045952_040<br>Magnitude: -2.52",
            "File: HFTS2_20190412_050004_040<br>Magnitude: -2.35",
            "File: HFTS2_20190412_050011_040<br>Magnitude: -2.47",
            "File: HFTS2_20190412_050036_040<br>Magnitude: -2.61",
            "File: HFTS2_20190412_050053_040<br>Magnitude: -2.92",
            "File: HFTS2_20190412_050100_040<br>Magnitude: -2.58",
            "File: HFTS2_20190412_050127_040<br>Magnitude: -2.58",
            "File: HFTS2_20190412_050128_040<br>Magnitude: -2.57",
            "File: HFTS2_20190412_050133_040<br>Magnitude: -2.77",
            "File: HFTS2_20190412_050147_040<br>Magnitude: -2.71",
            "File: HFTS2_20190412_050202_040<br>Magnitude: -2.88",
            "File: HFTS2_20190412_050221_040<br>Magnitude: -2.82",
            "File: HFTS2_20190412_050315_040<br>Magnitude: -2.47",
            "File: HFTS2_20190412_050325_040<br>Magnitude: -2.62",
            "File: HFTS2_20190412_050358_040<br>Magnitude: -2.78",
            "File: HFTS2_20190412_050425_040<br>Magnitude: -2.75",
            "File: HFTS2_20190412_050456_040<br>Magnitude: -2.44",
            "File: HFTS2_20190412_050534_040<br>Magnitude: -2.59",
            "File: HFTS2_20190412_050607_040<br>Magnitude: -2.54"
           ],
           "type": "scatter3d",
           "x": [
            954053.2724
           ],
           "y": [
            849233.2832
           ],
           "z": [
            8798.3023
           ]
          }
         ],
         "name": "2019-04-12 04:46:19.644000"
        },
        {
         "data": [
          {
           "marker": {
            "cmax": -1.6189,
            "cmin": -2.9802,
            "color": [
             -1.8073
            ],
            "colorscale": [
             [
              0,
              "#440154"
             ],
             [
              0.1111111111111111,
              "#482878"
             ],
             [
              0.2222222222222222,
              "#3e4989"
             ],
             [
              0.3333333333333333,
              "#31688e"
             ],
             [
              0.4444444444444444,
              "#26828e"
             ],
             [
              0.5555555555555556,
              "#1f9e89"
             ],
             [
              0.6666666666666666,
              "#35b779"
             ],
             [
              0.7777777777777778,
              "#6ece58"
             ],
             [
              0.8888888888888888,
              "#b5de2b"
             ],
             [
              1,
              "#fde725"
             ]
            ],
            "size": [
             180.73
            ],
            "sizemode": "diameter",
            "sizeref": 25
           },
           "mode": "markers",
           "text": [
            "File: HFTS2_20190412_042831_040<br>Magnitude: -2.77",
            "File: HFTS2_20190412_042832_040<br>Magnitude: -2.73",
            "File: HFTS2_20190412_042833_040<br>Magnitude: -2.65",
            "File: HFTS2_20190412_042835_040<br>Magnitude: -2.65",
            "File: HFTS2_20190412_043437_040<br>Magnitude: -2.56",
            "File: HFTS2_20190412_043802_040<br>Magnitude: -2.35",
            "File: HFTS2_20190412_043803_040<br>Magnitude: -2.22",
            "File: HFTS2_20190412_044156_040<br>Magnitude: -2.03",
            "File: HFTS2_20190412_044403_040<br>Magnitude: -2.39",
            "File: HFTS2_20190412_044404_040<br>Magnitude: -2.10",
            "File: HFTS2_20190412_044435_040_Merged<br>Magnitude: -2.47",
            "File: HFTS2_20190412_044506_040<br>Magnitude: -2.32",
            "File: HFTS2_20190412_044516_040<br>Magnitude: -1.97",
            "File: HFTS2_20190412_044521_040<br>Magnitude: -2.07",
            "File: HFTS2_20190412_044522_040<br>Magnitude: -2.47",
            "File: HFTS2_20190412_044526_040<br>Magnitude: -2.74",
            "File: HFTS2_20190412_044540_040<br>Magnitude: -2.21",
            "File: HFTS2_20190412_044542_040<br>Magnitude: -2.56",
            "File: HFTS2_20190412_044543_040<br>Magnitude: -2.36",
            "File: HFTS2_20190412_044544_040<br>Magnitude: -2.59",
            "File: HFTS2_20190412_044545_040<br>Magnitude: -2.60",
            "File: HFTS2_20190412_044605_040<br>Magnitude: -2.71",
            "File: HFTS2_20190412_044619_040<br>Magnitude: -2.54",
            "File: HFTS2_20190412_044620_040<br>Magnitude: -1.81",
            "File: HFTS2_20190412_044623_040<br>Magnitude: -2.21",
            "File: HFTS2_20190412_044643_040<br>Magnitude: -2.30",
            "File: HFTS2_20190412_044647_040<br>Magnitude: -2.42",
            "File: HFTS2_20190412_044651_040<br>Magnitude: -2.46",
            "File: HFTS2_20190412_044659_040_Merged<br>Magnitude: -1.62",
            "File: HFTS2_20190412_044707_040<br>Magnitude: -2.09",
            "File: HFTS2_20190412_044731_040<br>Magnitude: -2.70",
            "File: HFTS2_20190412_044737_040<br>Magnitude: -2.41",
            "File: HFTS2_20190412_044741_040<br>Magnitude: -2.63",
            "File: HFTS2_20190412_044757_040<br>Magnitude: -2.12",
            "File: HFTS2_20190412_044759_040<br>Magnitude: -2.07",
            "File: HFTS2_20190412_044800_040<br>Magnitude: -2.53",
            "File: HFTS2_20190412_044803_040<br>Magnitude: -2.61",
            "File: HFTS2_20190412_044816_040<br>Magnitude: -2.12",
            "File: HFTS2_20190412_044822_040<br>Magnitude: -2.06",
            "File: HFTS2_20190412_044824_040<br>Magnitude: -2.02",
            "File: HFTS2_20190412_044829_040<br>Magnitude: -1.79",
            "File: HFTS2_20190412_044833_040<br>Magnitude: -2.29",
            "File: HFTS2_20190412_044841_040<br>Magnitude: -2.80",
            "File: HFTS2_20190412_044842_040<br>Magnitude: -2.24",
            "File: HFTS2_20190412_044903_040<br>Magnitude: -2.53",
            "File: HFTS2_20190412_044914_040<br>Magnitude: -2.58",
            "File: HFTS2_20190412_044945_040<br>Magnitude: -2.34",
            "File: HFTS2_20190412_044957_040<br>Magnitude: -2.58",
            "File: HFTS2_20190412_045027_040<br>Magnitude: -2.54",
            "File: HFTS2_20190412_045029_040<br>Magnitude: -2.63",
            "File: HFTS2_20190412_045035_040<br>Magnitude: -2.49",
            "File: HFTS2_20190412_045126_040<br>Magnitude: -2.40",
            "File: HFTS2_20190412_045127_040<br>Magnitude: -2.66",
            "File: HFTS2_20190412_045157_040<br>Magnitude: -2.08",
            "File: HFTS2_20190412_045254_040<br>Magnitude: -2.98",
            "File: HFTS2_20190412_045333_040<br>Magnitude: -2.15",
            "File: HFTS2_20190412_045344_040<br>Magnitude: -2.72",
            "File: HFTS2_20190412_045434_040<br>Magnitude: -2.50",
            "File: HFTS2_20190412_045451_040<br>Magnitude: -2.17",
            "File: HFTS2_20190412_045457_040<br>Magnitude: -2.51",
            "File: HFTS2_20190412_045523_040<br>Magnitude: -2.33",
            "File: HFTS2_20190412_045526_040<br>Magnitude: -2.80",
            "File: HFTS2_20190412_045528_040<br>Magnitude: -2.65",
            "File: HFTS2_20190412_045530_040<br>Magnitude: -2.49",
            "File: HFTS2_20190412_045535_040<br>Magnitude: -2.52",
            "File: HFTS2_20190412_045537_040<br>Magnitude: -2.76",
            "File: HFTS2_20190412_045550_040<br>Magnitude: -2.54",
            "File: HFTS2_20190412_045558_040<br>Magnitude: -2.77",
            "File: HFTS2_20190412_045602_040<br>Magnitude: -2.00",
            "File: HFTS2_20190412_045604_040<br>Magnitude: -2.78",
            "File: HFTS2_20190412_045608_040<br>Magnitude: -2.12",
            "File: HFTS2_20190412_045611_040<br>Magnitude: -2.60",
            "File: HFTS2_20190412_045620_040<br>Magnitude: -2.31",
            "File: HFTS2_20190412_045630_040<br>Magnitude: -2.65",
            "File: HFTS2_20190412_045644_040<br>Magnitude: -2.50",
            "File: HFTS2_20190412_045716_040<br>Magnitude: -2.37",
            "File: HFTS2_20190412_045727_040<br>Magnitude: -2.57",
            "File: HFTS2_20190412_045809_040<br>Magnitude: -2.58",
            "File: HFTS2_20190412_045818_040<br>Magnitude: -2.67",
            "File: HFTS2_20190412_045840_040<br>Magnitude: -2.77",
            "File: HFTS2_20190412_045938_040<br>Magnitude: -2.77",
            "File: HFTS2_20190412_045943_040<br>Magnitude: -2.39",
            "File: HFTS2_20190412_045952_040<br>Magnitude: -2.52",
            "File: HFTS2_20190412_050004_040<br>Magnitude: -2.35",
            "File: HFTS2_20190412_050011_040<br>Magnitude: -2.47",
            "File: HFTS2_20190412_050036_040<br>Magnitude: -2.61",
            "File: HFTS2_20190412_050053_040<br>Magnitude: -2.92",
            "File: HFTS2_20190412_050100_040<br>Magnitude: -2.58",
            "File: HFTS2_20190412_050127_040<br>Magnitude: -2.58",
            "File: HFTS2_20190412_050128_040<br>Magnitude: -2.57",
            "File: HFTS2_20190412_050133_040<br>Magnitude: -2.77",
            "File: HFTS2_20190412_050147_040<br>Magnitude: -2.71",
            "File: HFTS2_20190412_050202_040<br>Magnitude: -2.88",
            "File: HFTS2_20190412_050221_040<br>Magnitude: -2.82",
            "File: HFTS2_20190412_050315_040<br>Magnitude: -2.47",
            "File: HFTS2_20190412_050325_040<br>Magnitude: -2.62",
            "File: HFTS2_20190412_050358_040<br>Magnitude: -2.78",
            "File: HFTS2_20190412_050425_040<br>Magnitude: -2.75",
            "File: HFTS2_20190412_050456_040<br>Magnitude: -2.44",
            "File: HFTS2_20190412_050534_040<br>Magnitude: -2.59",
            "File: HFTS2_20190412_050607_040<br>Magnitude: -2.54"
           ],
           "type": "scatter3d",
           "x": [
            954257.5318
           ],
           "y": [
            849050.3108
           ],
           "z": [
            8216.6558
           ]
          }
         ],
         "name": "2019-04-12 04:46:20.914000"
        },
        {
         "data": [
          {
           "marker": {
            "cmax": -1.6189,
            "cmin": -2.9802,
            "color": [
             -2.2061
            ],
            "colorscale": [
             [
              0,
              "#440154"
             ],
             [
              0.1111111111111111,
              "#482878"
             ],
             [
              0.2222222222222222,
              "#3e4989"
             ],
             [
              0.3333333333333333,
              "#31688e"
             ],
             [
              0.4444444444444444,
              "#26828e"
             ],
             [
              0.5555555555555556,
              "#1f9e89"
             ],
             [
              0.6666666666666666,
              "#35b779"
             ],
             [
              0.7777777777777778,
              "#6ece58"
             ],
             [
              0.8888888888888888,
              "#b5de2b"
             ],
             [
              1,
              "#fde725"
             ]
            ],
            "size": [
             220.61
            ],
            "sizemode": "diameter",
            "sizeref": 25
           },
           "mode": "markers",
           "text": [
            "File: HFTS2_20190412_042831_040<br>Magnitude: -2.77",
            "File: HFTS2_20190412_042832_040<br>Magnitude: -2.73",
            "File: HFTS2_20190412_042833_040<br>Magnitude: -2.65",
            "File: HFTS2_20190412_042835_040<br>Magnitude: -2.65",
            "File: HFTS2_20190412_043437_040<br>Magnitude: -2.56",
            "File: HFTS2_20190412_043802_040<br>Magnitude: -2.35",
            "File: HFTS2_20190412_043803_040<br>Magnitude: -2.22",
            "File: HFTS2_20190412_044156_040<br>Magnitude: -2.03",
            "File: HFTS2_20190412_044403_040<br>Magnitude: -2.39",
            "File: HFTS2_20190412_044404_040<br>Magnitude: -2.10",
            "File: HFTS2_20190412_044435_040_Merged<br>Magnitude: -2.47",
            "File: HFTS2_20190412_044506_040<br>Magnitude: -2.32",
            "File: HFTS2_20190412_044516_040<br>Magnitude: -1.97",
            "File: HFTS2_20190412_044521_040<br>Magnitude: -2.07",
            "File: HFTS2_20190412_044522_040<br>Magnitude: -2.47",
            "File: HFTS2_20190412_044526_040<br>Magnitude: -2.74",
            "File: HFTS2_20190412_044540_040<br>Magnitude: -2.21",
            "File: HFTS2_20190412_044542_040<br>Magnitude: -2.56",
            "File: HFTS2_20190412_044543_040<br>Magnitude: -2.36",
            "File: HFTS2_20190412_044544_040<br>Magnitude: -2.59",
            "File: HFTS2_20190412_044545_040<br>Magnitude: -2.60",
            "File: HFTS2_20190412_044605_040<br>Magnitude: -2.71",
            "File: HFTS2_20190412_044619_040<br>Magnitude: -2.54",
            "File: HFTS2_20190412_044620_040<br>Magnitude: -1.81",
            "File: HFTS2_20190412_044623_040<br>Magnitude: -2.21",
            "File: HFTS2_20190412_044643_040<br>Magnitude: -2.30",
            "File: HFTS2_20190412_044647_040<br>Magnitude: -2.42",
            "File: HFTS2_20190412_044651_040<br>Magnitude: -2.46",
            "File: HFTS2_20190412_044659_040_Merged<br>Magnitude: -1.62",
            "File: HFTS2_20190412_044707_040<br>Magnitude: -2.09",
            "File: HFTS2_20190412_044731_040<br>Magnitude: -2.70",
            "File: HFTS2_20190412_044737_040<br>Magnitude: -2.41",
            "File: HFTS2_20190412_044741_040<br>Magnitude: -2.63",
            "File: HFTS2_20190412_044757_040<br>Magnitude: -2.12",
            "File: HFTS2_20190412_044759_040<br>Magnitude: -2.07",
            "File: HFTS2_20190412_044800_040<br>Magnitude: -2.53",
            "File: HFTS2_20190412_044803_040<br>Magnitude: -2.61",
            "File: HFTS2_20190412_044816_040<br>Magnitude: -2.12",
            "File: HFTS2_20190412_044822_040<br>Magnitude: -2.06",
            "File: HFTS2_20190412_044824_040<br>Magnitude: -2.02",
            "File: HFTS2_20190412_044829_040<br>Magnitude: -1.79",
            "File: HFTS2_20190412_044833_040<br>Magnitude: -2.29",
            "File: HFTS2_20190412_044841_040<br>Magnitude: -2.80",
            "File: HFTS2_20190412_044842_040<br>Magnitude: -2.24",
            "File: HFTS2_20190412_044903_040<br>Magnitude: -2.53",
            "File: HFTS2_20190412_044914_040<br>Magnitude: -2.58",
            "File: HFTS2_20190412_044945_040<br>Magnitude: -2.34",
            "File: HFTS2_20190412_044957_040<br>Magnitude: -2.58",
            "File: HFTS2_20190412_045027_040<br>Magnitude: -2.54",
            "File: HFTS2_20190412_045029_040<br>Magnitude: -2.63",
            "File: HFTS2_20190412_045035_040<br>Magnitude: -2.49",
            "File: HFTS2_20190412_045126_040<br>Magnitude: -2.40",
            "File: HFTS2_20190412_045127_040<br>Magnitude: -2.66",
            "File: HFTS2_20190412_045157_040<br>Magnitude: -2.08",
            "File: HFTS2_20190412_045254_040<br>Magnitude: -2.98",
            "File: HFTS2_20190412_045333_040<br>Magnitude: -2.15",
            "File: HFTS2_20190412_045344_040<br>Magnitude: -2.72",
            "File: HFTS2_20190412_045434_040<br>Magnitude: -2.50",
            "File: HFTS2_20190412_045451_040<br>Magnitude: -2.17",
            "File: HFTS2_20190412_045457_040<br>Magnitude: -2.51",
            "File: HFTS2_20190412_045523_040<br>Magnitude: -2.33",
            "File: HFTS2_20190412_045526_040<br>Magnitude: -2.80",
            "File: HFTS2_20190412_045528_040<br>Magnitude: -2.65",
            "File: HFTS2_20190412_045530_040<br>Magnitude: -2.49",
            "File: HFTS2_20190412_045535_040<br>Magnitude: -2.52",
            "File: HFTS2_20190412_045537_040<br>Magnitude: -2.76",
            "File: HFTS2_20190412_045550_040<br>Magnitude: -2.54",
            "File: HFTS2_20190412_045558_040<br>Magnitude: -2.77",
            "File: HFTS2_20190412_045602_040<br>Magnitude: -2.00",
            "File: HFTS2_20190412_045604_040<br>Magnitude: -2.78",
            "File: HFTS2_20190412_045608_040<br>Magnitude: -2.12",
            "File: HFTS2_20190412_045611_040<br>Magnitude: -2.60",
            "File: HFTS2_20190412_045620_040<br>Magnitude: -2.31",
            "File: HFTS2_20190412_045630_040<br>Magnitude: -2.65",
            "File: HFTS2_20190412_045644_040<br>Magnitude: -2.50",
            "File: HFTS2_20190412_045716_040<br>Magnitude: -2.37",
            "File: HFTS2_20190412_045727_040<br>Magnitude: -2.57",
            "File: HFTS2_20190412_045809_040<br>Magnitude: -2.58",
            "File: HFTS2_20190412_045818_040<br>Magnitude: -2.67",
            "File: HFTS2_20190412_045840_040<br>Magnitude: -2.77",
            "File: HFTS2_20190412_045938_040<br>Magnitude: -2.77",
            "File: HFTS2_20190412_045943_040<br>Magnitude: -2.39",
            "File: HFTS2_20190412_045952_040<br>Magnitude: -2.52",
            "File: HFTS2_20190412_050004_040<br>Magnitude: -2.35",
            "File: HFTS2_20190412_050011_040<br>Magnitude: -2.47",
            "File: HFTS2_20190412_050036_040<br>Magnitude: -2.61",
            "File: HFTS2_20190412_050053_040<br>Magnitude: -2.92",
            "File: HFTS2_20190412_050100_040<br>Magnitude: -2.58",
            "File: HFTS2_20190412_050127_040<br>Magnitude: -2.58",
            "File: HFTS2_20190412_050128_040<br>Magnitude: -2.57",
            "File: HFTS2_20190412_050133_040<br>Magnitude: -2.77",
            "File: HFTS2_20190412_050147_040<br>Magnitude: -2.71",
            "File: HFTS2_20190412_050202_040<br>Magnitude: -2.88",
            "File: HFTS2_20190412_050221_040<br>Magnitude: -2.82",
            "File: HFTS2_20190412_050315_040<br>Magnitude: -2.47",
            "File: HFTS2_20190412_050325_040<br>Magnitude: -2.62",
            "File: HFTS2_20190412_050358_040<br>Magnitude: -2.78",
            "File: HFTS2_20190412_050425_040<br>Magnitude: -2.75",
            "File: HFTS2_20190412_050456_040<br>Magnitude: -2.44",
            "File: HFTS2_20190412_050534_040<br>Magnitude: -2.59",
            "File: HFTS2_20190412_050607_040<br>Magnitude: -2.54"
           ],
           "type": "scatter3d",
           "x": [
            954034.147
           ],
           "y": [
            849104.4741
           ],
           "z": [
            8525.2777
           ]
          }
         ],
         "name": "2019-04-12 04:46:23.030000"
        },
        {
         "data": [
          {
           "marker": {
            "cmax": -1.6189,
            "cmin": -2.9802,
            "color": [
             -2.296
            ],
            "colorscale": [
             [
              0,
              "#440154"
             ],
             [
              0.1111111111111111,
              "#482878"
             ],
             [
              0.2222222222222222,
              "#3e4989"
             ],
             [
              0.3333333333333333,
              "#31688e"
             ],
             [
              0.4444444444444444,
              "#26828e"
             ],
             [
              0.5555555555555556,
              "#1f9e89"
             ],
             [
              0.6666666666666666,
              "#35b779"
             ],
             [
              0.7777777777777778,
              "#6ece58"
             ],
             [
              0.8888888888888888,
              "#b5de2b"
             ],
             [
              1,
              "#fde725"
             ]
            ],
            "size": [
             229.6
            ],
            "sizemode": "diameter",
            "sizeref": 25
           },
           "mode": "markers",
           "text": [
            "File: HFTS2_20190412_042831_040<br>Magnitude: -2.77",
            "File: HFTS2_20190412_042832_040<br>Magnitude: -2.73",
            "File: HFTS2_20190412_042833_040<br>Magnitude: -2.65",
            "File: HFTS2_20190412_042835_040<br>Magnitude: -2.65",
            "File: HFTS2_20190412_043437_040<br>Magnitude: -2.56",
            "File: HFTS2_20190412_043802_040<br>Magnitude: -2.35",
            "File: HFTS2_20190412_043803_040<br>Magnitude: -2.22",
            "File: HFTS2_20190412_044156_040<br>Magnitude: -2.03",
            "File: HFTS2_20190412_044403_040<br>Magnitude: -2.39",
            "File: HFTS2_20190412_044404_040<br>Magnitude: -2.10",
            "File: HFTS2_20190412_044435_040_Merged<br>Magnitude: -2.47",
            "File: HFTS2_20190412_044506_040<br>Magnitude: -2.32",
            "File: HFTS2_20190412_044516_040<br>Magnitude: -1.97",
            "File: HFTS2_20190412_044521_040<br>Magnitude: -2.07",
            "File: HFTS2_20190412_044522_040<br>Magnitude: -2.47",
            "File: HFTS2_20190412_044526_040<br>Magnitude: -2.74",
            "File: HFTS2_20190412_044540_040<br>Magnitude: -2.21",
            "File: HFTS2_20190412_044542_040<br>Magnitude: -2.56",
            "File: HFTS2_20190412_044543_040<br>Magnitude: -2.36",
            "File: HFTS2_20190412_044544_040<br>Magnitude: -2.59",
            "File: HFTS2_20190412_044545_040<br>Magnitude: -2.60",
            "File: HFTS2_20190412_044605_040<br>Magnitude: -2.71",
            "File: HFTS2_20190412_044619_040<br>Magnitude: -2.54",
            "File: HFTS2_20190412_044620_040<br>Magnitude: -1.81",
            "File: HFTS2_20190412_044623_040<br>Magnitude: -2.21",
            "File: HFTS2_20190412_044643_040<br>Magnitude: -2.30",
            "File: HFTS2_20190412_044647_040<br>Magnitude: -2.42",
            "File: HFTS2_20190412_044651_040<br>Magnitude: -2.46",
            "File: HFTS2_20190412_044659_040_Merged<br>Magnitude: -1.62",
            "File: HFTS2_20190412_044707_040<br>Magnitude: -2.09",
            "File: HFTS2_20190412_044731_040<br>Magnitude: -2.70",
            "File: HFTS2_20190412_044737_040<br>Magnitude: -2.41",
            "File: HFTS2_20190412_044741_040<br>Magnitude: -2.63",
            "File: HFTS2_20190412_044757_040<br>Magnitude: -2.12",
            "File: HFTS2_20190412_044759_040<br>Magnitude: -2.07",
            "File: HFTS2_20190412_044800_040<br>Magnitude: -2.53",
            "File: HFTS2_20190412_044803_040<br>Magnitude: -2.61",
            "File: HFTS2_20190412_044816_040<br>Magnitude: -2.12",
            "File: HFTS2_20190412_044822_040<br>Magnitude: -2.06",
            "File: HFTS2_20190412_044824_040<br>Magnitude: -2.02",
            "File: HFTS2_20190412_044829_040<br>Magnitude: -1.79",
            "File: HFTS2_20190412_044833_040<br>Magnitude: -2.29",
            "File: HFTS2_20190412_044841_040<br>Magnitude: -2.80",
            "File: HFTS2_20190412_044842_040<br>Magnitude: -2.24",
            "File: HFTS2_20190412_044903_040<br>Magnitude: -2.53",
            "File: HFTS2_20190412_044914_040<br>Magnitude: -2.58",
            "File: HFTS2_20190412_044945_040<br>Magnitude: -2.34",
            "File: HFTS2_20190412_044957_040<br>Magnitude: -2.58",
            "File: HFTS2_20190412_045027_040<br>Magnitude: -2.54",
            "File: HFTS2_20190412_045029_040<br>Magnitude: -2.63",
            "File: HFTS2_20190412_045035_040<br>Magnitude: -2.49",
            "File: HFTS2_20190412_045126_040<br>Magnitude: -2.40",
            "File: HFTS2_20190412_045127_040<br>Magnitude: -2.66",
            "File: HFTS2_20190412_045157_040<br>Magnitude: -2.08",
            "File: HFTS2_20190412_045254_040<br>Magnitude: -2.98",
            "File: HFTS2_20190412_045333_040<br>Magnitude: -2.15",
            "File: HFTS2_20190412_045344_040<br>Magnitude: -2.72",
            "File: HFTS2_20190412_045434_040<br>Magnitude: -2.50",
            "File: HFTS2_20190412_045451_040<br>Magnitude: -2.17",
            "File: HFTS2_20190412_045457_040<br>Magnitude: -2.51",
            "File: HFTS2_20190412_045523_040<br>Magnitude: -2.33",
            "File: HFTS2_20190412_045526_040<br>Magnitude: -2.80",
            "File: HFTS2_20190412_045528_040<br>Magnitude: -2.65",
            "File: HFTS2_20190412_045530_040<br>Magnitude: -2.49",
            "File: HFTS2_20190412_045535_040<br>Magnitude: -2.52",
            "File: HFTS2_20190412_045537_040<br>Magnitude: -2.76",
            "File: HFTS2_20190412_045550_040<br>Magnitude: -2.54",
            "File: HFTS2_20190412_045558_040<br>Magnitude: -2.77",
            "File: HFTS2_20190412_045602_040<br>Magnitude: -2.00",
            "File: HFTS2_20190412_045604_040<br>Magnitude: -2.78",
            "File: HFTS2_20190412_045608_040<br>Magnitude: -2.12",
            "File: HFTS2_20190412_045611_040<br>Magnitude: -2.60",
            "File: HFTS2_20190412_045620_040<br>Magnitude: -2.31",
            "File: HFTS2_20190412_045630_040<br>Magnitude: -2.65",
            "File: HFTS2_20190412_045644_040<br>Magnitude: -2.50",
            "File: HFTS2_20190412_045716_040<br>Magnitude: -2.37",
            "File: HFTS2_20190412_045727_040<br>Magnitude: -2.57",
            "File: HFTS2_20190412_045809_040<br>Magnitude: -2.58",
            "File: HFTS2_20190412_045818_040<br>Magnitude: -2.67",
            "File: HFTS2_20190412_045840_040<br>Magnitude: -2.77",
            "File: HFTS2_20190412_045938_040<br>Magnitude: -2.77",
            "File: HFTS2_20190412_045943_040<br>Magnitude: -2.39",
            "File: HFTS2_20190412_045952_040<br>Magnitude: -2.52",
            "File: HFTS2_20190412_050004_040<br>Magnitude: -2.35",
            "File: HFTS2_20190412_050011_040<br>Magnitude: -2.47",
            "File: HFTS2_20190412_050036_040<br>Magnitude: -2.61",
            "File: HFTS2_20190412_050053_040<br>Magnitude: -2.92",
            "File: HFTS2_20190412_050100_040<br>Magnitude: -2.58",
            "File: HFTS2_20190412_050127_040<br>Magnitude: -2.58",
            "File: HFTS2_20190412_050128_040<br>Magnitude: -2.57",
            "File: HFTS2_20190412_050133_040<br>Magnitude: -2.77",
            "File: HFTS2_20190412_050147_040<br>Magnitude: -2.71",
            "File: HFTS2_20190412_050202_040<br>Magnitude: -2.88",
            "File: HFTS2_20190412_050221_040<br>Magnitude: -2.82",
            "File: HFTS2_20190412_050315_040<br>Magnitude: -2.47",
            "File: HFTS2_20190412_050325_040<br>Magnitude: -2.62",
            "File: HFTS2_20190412_050358_040<br>Magnitude: -2.78",
            "File: HFTS2_20190412_050425_040<br>Magnitude: -2.75",
            "File: HFTS2_20190412_050456_040<br>Magnitude: -2.44",
            "File: HFTS2_20190412_050534_040<br>Magnitude: -2.59",
            "File: HFTS2_20190412_050607_040<br>Magnitude: -2.54"
           ],
           "type": "scatter3d",
           "x": [
            954080.2836
           ],
           "y": [
            849068.0694
           ],
           "z": [
            8414.4511
           ]
          }
         ],
         "name": "2019-04-12 04:46:43.808000"
        },
        {
         "data": [
          {
           "marker": {
            "cmax": -1.6189,
            "cmin": -2.9802,
            "color": [
             -2.42
            ],
            "colorscale": [
             [
              0,
              "#440154"
             ],
             [
              0.1111111111111111,
              "#482878"
             ],
             [
              0.2222222222222222,
              "#3e4989"
             ],
             [
              0.3333333333333333,
              "#31688e"
             ],
             [
              0.4444444444444444,
              "#26828e"
             ],
             [
              0.5555555555555556,
              "#1f9e89"
             ],
             [
              0.6666666666666666,
              "#35b779"
             ],
             [
              0.7777777777777778,
              "#6ece58"
             ],
             [
              0.8888888888888888,
              "#b5de2b"
             ],
             [
              1,
              "#fde725"
             ]
            ],
            "size": [
             242
            ],
            "sizemode": "diameter",
            "sizeref": 25
           },
           "mode": "markers",
           "text": [
            "File: HFTS2_20190412_042831_040<br>Magnitude: -2.77",
            "File: HFTS2_20190412_042832_040<br>Magnitude: -2.73",
            "File: HFTS2_20190412_042833_040<br>Magnitude: -2.65",
            "File: HFTS2_20190412_042835_040<br>Magnitude: -2.65",
            "File: HFTS2_20190412_043437_040<br>Magnitude: -2.56",
            "File: HFTS2_20190412_043802_040<br>Magnitude: -2.35",
            "File: HFTS2_20190412_043803_040<br>Magnitude: -2.22",
            "File: HFTS2_20190412_044156_040<br>Magnitude: -2.03",
            "File: HFTS2_20190412_044403_040<br>Magnitude: -2.39",
            "File: HFTS2_20190412_044404_040<br>Magnitude: -2.10",
            "File: HFTS2_20190412_044435_040_Merged<br>Magnitude: -2.47",
            "File: HFTS2_20190412_044506_040<br>Magnitude: -2.32",
            "File: HFTS2_20190412_044516_040<br>Magnitude: -1.97",
            "File: HFTS2_20190412_044521_040<br>Magnitude: -2.07",
            "File: HFTS2_20190412_044522_040<br>Magnitude: -2.47",
            "File: HFTS2_20190412_044526_040<br>Magnitude: -2.74",
            "File: HFTS2_20190412_044540_040<br>Magnitude: -2.21",
            "File: HFTS2_20190412_044542_040<br>Magnitude: -2.56",
            "File: HFTS2_20190412_044543_040<br>Magnitude: -2.36",
            "File: HFTS2_20190412_044544_040<br>Magnitude: -2.59",
            "File: HFTS2_20190412_044545_040<br>Magnitude: -2.60",
            "File: HFTS2_20190412_044605_040<br>Magnitude: -2.71",
            "File: HFTS2_20190412_044619_040<br>Magnitude: -2.54",
            "File: HFTS2_20190412_044620_040<br>Magnitude: -1.81",
            "File: HFTS2_20190412_044623_040<br>Magnitude: -2.21",
            "File: HFTS2_20190412_044643_040<br>Magnitude: -2.30",
            "File: HFTS2_20190412_044647_040<br>Magnitude: -2.42",
            "File: HFTS2_20190412_044651_040<br>Magnitude: -2.46",
            "File: HFTS2_20190412_044659_040_Merged<br>Magnitude: -1.62",
            "File: HFTS2_20190412_044707_040<br>Magnitude: -2.09",
            "File: HFTS2_20190412_044731_040<br>Magnitude: -2.70",
            "File: HFTS2_20190412_044737_040<br>Magnitude: -2.41",
            "File: HFTS2_20190412_044741_040<br>Magnitude: -2.63",
            "File: HFTS2_20190412_044757_040<br>Magnitude: -2.12",
            "File: HFTS2_20190412_044759_040<br>Magnitude: -2.07",
            "File: HFTS2_20190412_044800_040<br>Magnitude: -2.53",
            "File: HFTS2_20190412_044803_040<br>Magnitude: -2.61",
            "File: HFTS2_20190412_044816_040<br>Magnitude: -2.12",
            "File: HFTS2_20190412_044822_040<br>Magnitude: -2.06",
            "File: HFTS2_20190412_044824_040<br>Magnitude: -2.02",
            "File: HFTS2_20190412_044829_040<br>Magnitude: -1.79",
            "File: HFTS2_20190412_044833_040<br>Magnitude: -2.29",
            "File: HFTS2_20190412_044841_040<br>Magnitude: -2.80",
            "File: HFTS2_20190412_044842_040<br>Magnitude: -2.24",
            "File: HFTS2_20190412_044903_040<br>Magnitude: -2.53",
            "File: HFTS2_20190412_044914_040<br>Magnitude: -2.58",
            "File: HFTS2_20190412_044945_040<br>Magnitude: -2.34",
            "File: HFTS2_20190412_044957_040<br>Magnitude: -2.58",
            "File: HFTS2_20190412_045027_040<br>Magnitude: -2.54",
            "File: HFTS2_20190412_045029_040<br>Magnitude: -2.63",
            "File: HFTS2_20190412_045035_040<br>Magnitude: -2.49",
            "File: HFTS2_20190412_045126_040<br>Magnitude: -2.40",
            "File: HFTS2_20190412_045127_040<br>Magnitude: -2.66",
            "File: HFTS2_20190412_045157_040<br>Magnitude: -2.08",
            "File: HFTS2_20190412_045254_040<br>Magnitude: -2.98",
            "File: HFTS2_20190412_045333_040<br>Magnitude: -2.15",
            "File: HFTS2_20190412_045344_040<br>Magnitude: -2.72",
            "File: HFTS2_20190412_045434_040<br>Magnitude: -2.50",
            "File: HFTS2_20190412_045451_040<br>Magnitude: -2.17",
            "File: HFTS2_20190412_045457_040<br>Magnitude: -2.51",
            "File: HFTS2_20190412_045523_040<br>Magnitude: -2.33",
            "File: HFTS2_20190412_045526_040<br>Magnitude: -2.80",
            "File: HFTS2_20190412_045528_040<br>Magnitude: -2.65",
            "File: HFTS2_20190412_045530_040<br>Magnitude: -2.49",
            "File: HFTS2_20190412_045535_040<br>Magnitude: -2.52",
            "File: HFTS2_20190412_045537_040<br>Magnitude: -2.76",
            "File: HFTS2_20190412_045550_040<br>Magnitude: -2.54",
            "File: HFTS2_20190412_045558_040<br>Magnitude: -2.77",
            "File: HFTS2_20190412_045602_040<br>Magnitude: -2.00",
            "File: HFTS2_20190412_045604_040<br>Magnitude: -2.78",
            "File: HFTS2_20190412_045608_040<br>Magnitude: -2.12",
            "File: HFTS2_20190412_045611_040<br>Magnitude: -2.60",
            "File: HFTS2_20190412_045620_040<br>Magnitude: -2.31",
            "File: HFTS2_20190412_045630_040<br>Magnitude: -2.65",
            "File: HFTS2_20190412_045644_040<br>Magnitude: -2.50",
            "File: HFTS2_20190412_045716_040<br>Magnitude: -2.37",
            "File: HFTS2_20190412_045727_040<br>Magnitude: -2.57",
            "File: HFTS2_20190412_045809_040<br>Magnitude: -2.58",
            "File: HFTS2_20190412_045818_040<br>Magnitude: -2.67",
            "File: HFTS2_20190412_045840_040<br>Magnitude: -2.77",
            "File: HFTS2_20190412_045938_040<br>Magnitude: -2.77",
            "File: HFTS2_20190412_045943_040<br>Magnitude: -2.39",
            "File: HFTS2_20190412_045952_040<br>Magnitude: -2.52",
            "File: HFTS2_20190412_050004_040<br>Magnitude: -2.35",
            "File: HFTS2_20190412_050011_040<br>Magnitude: -2.47",
            "File: HFTS2_20190412_050036_040<br>Magnitude: -2.61",
            "File: HFTS2_20190412_050053_040<br>Magnitude: -2.92",
            "File: HFTS2_20190412_050100_040<br>Magnitude: -2.58",
            "File: HFTS2_20190412_050127_040<br>Magnitude: -2.58",
            "File: HFTS2_20190412_050128_040<br>Magnitude: -2.57",
            "File: HFTS2_20190412_050133_040<br>Magnitude: -2.77",
            "File: HFTS2_20190412_050147_040<br>Magnitude: -2.71",
            "File: HFTS2_20190412_050202_040<br>Magnitude: -2.88",
            "File: HFTS2_20190412_050221_040<br>Magnitude: -2.82",
            "File: HFTS2_20190412_050315_040<br>Magnitude: -2.47",
            "File: HFTS2_20190412_050325_040<br>Magnitude: -2.62",
            "File: HFTS2_20190412_050358_040<br>Magnitude: -2.78",
            "File: HFTS2_20190412_050425_040<br>Magnitude: -2.75",
            "File: HFTS2_20190412_050456_040<br>Magnitude: -2.44",
            "File: HFTS2_20190412_050534_040<br>Magnitude: -2.59",
            "File: HFTS2_20190412_050607_040<br>Magnitude: -2.54"
           ],
           "type": "scatter3d",
           "x": [
            955200.8877
           ],
           "y": [
            849178.5335
           ],
           "z": [
            8542.7784
           ]
          }
         ],
         "name": "2019-04-12 04:46:47.432000"
        },
        {
         "data": [
          {
           "marker": {
            "cmax": -1.6189,
            "cmin": -2.9802,
            "color": [
             -2.459
            ],
            "colorscale": [
             [
              0,
              "#440154"
             ],
             [
              0.1111111111111111,
              "#482878"
             ],
             [
              0.2222222222222222,
              "#3e4989"
             ],
             [
              0.3333333333333333,
              "#31688e"
             ],
             [
              0.4444444444444444,
              "#26828e"
             ],
             [
              0.5555555555555556,
              "#1f9e89"
             ],
             [
              0.6666666666666666,
              "#35b779"
             ],
             [
              0.7777777777777778,
              "#6ece58"
             ],
             [
              0.8888888888888888,
              "#b5de2b"
             ],
             [
              1,
              "#fde725"
             ]
            ],
            "size": [
             245.9
            ],
            "sizemode": "diameter",
            "sizeref": 25
           },
           "mode": "markers",
           "text": [
            "File: HFTS2_20190412_042831_040<br>Magnitude: -2.77",
            "File: HFTS2_20190412_042832_040<br>Magnitude: -2.73",
            "File: HFTS2_20190412_042833_040<br>Magnitude: -2.65",
            "File: HFTS2_20190412_042835_040<br>Magnitude: -2.65",
            "File: HFTS2_20190412_043437_040<br>Magnitude: -2.56",
            "File: HFTS2_20190412_043802_040<br>Magnitude: -2.35",
            "File: HFTS2_20190412_043803_040<br>Magnitude: -2.22",
            "File: HFTS2_20190412_044156_040<br>Magnitude: -2.03",
            "File: HFTS2_20190412_044403_040<br>Magnitude: -2.39",
            "File: HFTS2_20190412_044404_040<br>Magnitude: -2.10",
            "File: HFTS2_20190412_044435_040_Merged<br>Magnitude: -2.47",
            "File: HFTS2_20190412_044506_040<br>Magnitude: -2.32",
            "File: HFTS2_20190412_044516_040<br>Magnitude: -1.97",
            "File: HFTS2_20190412_044521_040<br>Magnitude: -2.07",
            "File: HFTS2_20190412_044522_040<br>Magnitude: -2.47",
            "File: HFTS2_20190412_044526_040<br>Magnitude: -2.74",
            "File: HFTS2_20190412_044540_040<br>Magnitude: -2.21",
            "File: HFTS2_20190412_044542_040<br>Magnitude: -2.56",
            "File: HFTS2_20190412_044543_040<br>Magnitude: -2.36",
            "File: HFTS2_20190412_044544_040<br>Magnitude: -2.59",
            "File: HFTS2_20190412_044545_040<br>Magnitude: -2.60",
            "File: HFTS2_20190412_044605_040<br>Magnitude: -2.71",
            "File: HFTS2_20190412_044619_040<br>Magnitude: -2.54",
            "File: HFTS2_20190412_044620_040<br>Magnitude: -1.81",
            "File: HFTS2_20190412_044623_040<br>Magnitude: -2.21",
            "File: HFTS2_20190412_044643_040<br>Magnitude: -2.30",
            "File: HFTS2_20190412_044647_040<br>Magnitude: -2.42",
            "File: HFTS2_20190412_044651_040<br>Magnitude: -2.46",
            "File: HFTS2_20190412_044659_040_Merged<br>Magnitude: -1.62",
            "File: HFTS2_20190412_044707_040<br>Magnitude: -2.09",
            "File: HFTS2_20190412_044731_040<br>Magnitude: -2.70",
            "File: HFTS2_20190412_044737_040<br>Magnitude: -2.41",
            "File: HFTS2_20190412_044741_040<br>Magnitude: -2.63",
            "File: HFTS2_20190412_044757_040<br>Magnitude: -2.12",
            "File: HFTS2_20190412_044759_040<br>Magnitude: -2.07",
            "File: HFTS2_20190412_044800_040<br>Magnitude: -2.53",
            "File: HFTS2_20190412_044803_040<br>Magnitude: -2.61",
            "File: HFTS2_20190412_044816_040<br>Magnitude: -2.12",
            "File: HFTS2_20190412_044822_040<br>Magnitude: -2.06",
            "File: HFTS2_20190412_044824_040<br>Magnitude: -2.02",
            "File: HFTS2_20190412_044829_040<br>Magnitude: -1.79",
            "File: HFTS2_20190412_044833_040<br>Magnitude: -2.29",
            "File: HFTS2_20190412_044841_040<br>Magnitude: -2.80",
            "File: HFTS2_20190412_044842_040<br>Magnitude: -2.24",
            "File: HFTS2_20190412_044903_040<br>Magnitude: -2.53",
            "File: HFTS2_20190412_044914_040<br>Magnitude: -2.58",
            "File: HFTS2_20190412_044945_040<br>Magnitude: -2.34",
            "File: HFTS2_20190412_044957_040<br>Magnitude: -2.58",
            "File: HFTS2_20190412_045027_040<br>Magnitude: -2.54",
            "File: HFTS2_20190412_045029_040<br>Magnitude: -2.63",
            "File: HFTS2_20190412_045035_040<br>Magnitude: -2.49",
            "File: HFTS2_20190412_045126_040<br>Magnitude: -2.40",
            "File: HFTS2_20190412_045127_040<br>Magnitude: -2.66",
            "File: HFTS2_20190412_045157_040<br>Magnitude: -2.08",
            "File: HFTS2_20190412_045254_040<br>Magnitude: -2.98",
            "File: HFTS2_20190412_045333_040<br>Magnitude: -2.15",
            "File: HFTS2_20190412_045344_040<br>Magnitude: -2.72",
            "File: HFTS2_20190412_045434_040<br>Magnitude: -2.50",
            "File: HFTS2_20190412_045451_040<br>Magnitude: -2.17",
            "File: HFTS2_20190412_045457_040<br>Magnitude: -2.51",
            "File: HFTS2_20190412_045523_040<br>Magnitude: -2.33",
            "File: HFTS2_20190412_045526_040<br>Magnitude: -2.80",
            "File: HFTS2_20190412_045528_040<br>Magnitude: -2.65",
            "File: HFTS2_20190412_045530_040<br>Magnitude: -2.49",
            "File: HFTS2_20190412_045535_040<br>Magnitude: -2.52",
            "File: HFTS2_20190412_045537_040<br>Magnitude: -2.76",
            "File: HFTS2_20190412_045550_040<br>Magnitude: -2.54",
            "File: HFTS2_20190412_045558_040<br>Magnitude: -2.77",
            "File: HFTS2_20190412_045602_040<br>Magnitude: -2.00",
            "File: HFTS2_20190412_045604_040<br>Magnitude: -2.78",
            "File: HFTS2_20190412_045608_040<br>Magnitude: -2.12",
            "File: HFTS2_20190412_045611_040<br>Magnitude: -2.60",
            "File: HFTS2_20190412_045620_040<br>Magnitude: -2.31",
            "File: HFTS2_20190412_045630_040<br>Magnitude: -2.65",
            "File: HFTS2_20190412_045644_040<br>Magnitude: -2.50",
            "File: HFTS2_20190412_045716_040<br>Magnitude: -2.37",
            "File: HFTS2_20190412_045727_040<br>Magnitude: -2.57",
            "File: HFTS2_20190412_045809_040<br>Magnitude: -2.58",
            "File: HFTS2_20190412_045818_040<br>Magnitude: -2.67",
            "File: HFTS2_20190412_045840_040<br>Magnitude: -2.77",
            "File: HFTS2_20190412_045938_040<br>Magnitude: -2.77",
            "File: HFTS2_20190412_045943_040<br>Magnitude: -2.39",
            "File: HFTS2_20190412_045952_040<br>Magnitude: -2.52",
            "File: HFTS2_20190412_050004_040<br>Magnitude: -2.35",
            "File: HFTS2_20190412_050011_040<br>Magnitude: -2.47",
            "File: HFTS2_20190412_050036_040<br>Magnitude: -2.61",
            "File: HFTS2_20190412_050053_040<br>Magnitude: -2.92",
            "File: HFTS2_20190412_050100_040<br>Magnitude: -2.58",
            "File: HFTS2_20190412_050127_040<br>Magnitude: -2.58",
            "File: HFTS2_20190412_050128_040<br>Magnitude: -2.57",
            "File: HFTS2_20190412_050133_040<br>Magnitude: -2.77",
            "File: HFTS2_20190412_050147_040<br>Magnitude: -2.71",
            "File: HFTS2_20190412_050202_040<br>Magnitude: -2.88",
            "File: HFTS2_20190412_050221_040<br>Magnitude: -2.82",
            "File: HFTS2_20190412_050315_040<br>Magnitude: -2.47",
            "File: HFTS2_20190412_050325_040<br>Magnitude: -2.62",
            "File: HFTS2_20190412_050358_040<br>Magnitude: -2.78",
            "File: HFTS2_20190412_050425_040<br>Magnitude: -2.75",
            "File: HFTS2_20190412_050456_040<br>Magnitude: -2.44",
            "File: HFTS2_20190412_050534_040<br>Magnitude: -2.59",
            "File: HFTS2_20190412_050607_040<br>Magnitude: -2.54"
           ],
           "type": "scatter3d",
           "x": [
            954195.0036
           ],
           "y": [
            849006.6742
           ],
           "z": [
            8274.5205
           ]
          }
         ],
         "name": "2019-04-12 04:46:51.445000"
        },
        {
         "data": [
          {
           "marker": {
            "cmax": -1.6189,
            "cmin": -2.9802,
            "color": [
             -1.6189
            ],
            "colorscale": [
             [
              0,
              "#440154"
             ],
             [
              0.1111111111111111,
              "#482878"
             ],
             [
              0.2222222222222222,
              "#3e4989"
             ],
             [
              0.3333333333333333,
              "#31688e"
             ],
             [
              0.4444444444444444,
              "#26828e"
             ],
             [
              0.5555555555555556,
              "#1f9e89"
             ],
             [
              0.6666666666666666,
              "#35b779"
             ],
             [
              0.7777777777777778,
              "#6ece58"
             ],
             [
              0.8888888888888888,
              "#b5de2b"
             ],
             [
              1,
              "#fde725"
             ]
            ],
            "size": [
             161.89
            ],
            "sizemode": "diameter",
            "sizeref": 25
           },
           "mode": "markers",
           "text": [
            "File: HFTS2_20190412_042831_040<br>Magnitude: -2.77",
            "File: HFTS2_20190412_042832_040<br>Magnitude: -2.73",
            "File: HFTS2_20190412_042833_040<br>Magnitude: -2.65",
            "File: HFTS2_20190412_042835_040<br>Magnitude: -2.65",
            "File: HFTS2_20190412_043437_040<br>Magnitude: -2.56",
            "File: HFTS2_20190412_043802_040<br>Magnitude: -2.35",
            "File: HFTS2_20190412_043803_040<br>Magnitude: -2.22",
            "File: HFTS2_20190412_044156_040<br>Magnitude: -2.03",
            "File: HFTS2_20190412_044403_040<br>Magnitude: -2.39",
            "File: HFTS2_20190412_044404_040<br>Magnitude: -2.10",
            "File: HFTS2_20190412_044435_040_Merged<br>Magnitude: -2.47",
            "File: HFTS2_20190412_044506_040<br>Magnitude: -2.32",
            "File: HFTS2_20190412_044516_040<br>Magnitude: -1.97",
            "File: HFTS2_20190412_044521_040<br>Magnitude: -2.07",
            "File: HFTS2_20190412_044522_040<br>Magnitude: -2.47",
            "File: HFTS2_20190412_044526_040<br>Magnitude: -2.74",
            "File: HFTS2_20190412_044540_040<br>Magnitude: -2.21",
            "File: HFTS2_20190412_044542_040<br>Magnitude: -2.56",
            "File: HFTS2_20190412_044543_040<br>Magnitude: -2.36",
            "File: HFTS2_20190412_044544_040<br>Magnitude: -2.59",
            "File: HFTS2_20190412_044545_040<br>Magnitude: -2.60",
            "File: HFTS2_20190412_044605_040<br>Magnitude: -2.71",
            "File: HFTS2_20190412_044619_040<br>Magnitude: -2.54",
            "File: HFTS2_20190412_044620_040<br>Magnitude: -1.81",
            "File: HFTS2_20190412_044623_040<br>Magnitude: -2.21",
            "File: HFTS2_20190412_044643_040<br>Magnitude: -2.30",
            "File: HFTS2_20190412_044647_040<br>Magnitude: -2.42",
            "File: HFTS2_20190412_044651_040<br>Magnitude: -2.46",
            "File: HFTS2_20190412_044659_040_Merged<br>Magnitude: -1.62",
            "File: HFTS2_20190412_044707_040<br>Magnitude: -2.09",
            "File: HFTS2_20190412_044731_040<br>Magnitude: -2.70",
            "File: HFTS2_20190412_044737_040<br>Magnitude: -2.41",
            "File: HFTS2_20190412_044741_040<br>Magnitude: -2.63",
            "File: HFTS2_20190412_044757_040<br>Magnitude: -2.12",
            "File: HFTS2_20190412_044759_040<br>Magnitude: -2.07",
            "File: HFTS2_20190412_044800_040<br>Magnitude: -2.53",
            "File: HFTS2_20190412_044803_040<br>Magnitude: -2.61",
            "File: HFTS2_20190412_044816_040<br>Magnitude: -2.12",
            "File: HFTS2_20190412_044822_040<br>Magnitude: -2.06",
            "File: HFTS2_20190412_044824_040<br>Magnitude: -2.02",
            "File: HFTS2_20190412_044829_040<br>Magnitude: -1.79",
            "File: HFTS2_20190412_044833_040<br>Magnitude: -2.29",
            "File: HFTS2_20190412_044841_040<br>Magnitude: -2.80",
            "File: HFTS2_20190412_044842_040<br>Magnitude: -2.24",
            "File: HFTS2_20190412_044903_040<br>Magnitude: -2.53",
            "File: HFTS2_20190412_044914_040<br>Magnitude: -2.58",
            "File: HFTS2_20190412_044945_040<br>Magnitude: -2.34",
            "File: HFTS2_20190412_044957_040<br>Magnitude: -2.58",
            "File: HFTS2_20190412_045027_040<br>Magnitude: -2.54",
            "File: HFTS2_20190412_045029_040<br>Magnitude: -2.63",
            "File: HFTS2_20190412_045035_040<br>Magnitude: -2.49",
            "File: HFTS2_20190412_045126_040<br>Magnitude: -2.40",
            "File: HFTS2_20190412_045127_040<br>Magnitude: -2.66",
            "File: HFTS2_20190412_045157_040<br>Magnitude: -2.08",
            "File: HFTS2_20190412_045254_040<br>Magnitude: -2.98",
            "File: HFTS2_20190412_045333_040<br>Magnitude: -2.15",
            "File: HFTS2_20190412_045344_040<br>Magnitude: -2.72",
            "File: HFTS2_20190412_045434_040<br>Magnitude: -2.50",
            "File: HFTS2_20190412_045451_040<br>Magnitude: -2.17",
            "File: HFTS2_20190412_045457_040<br>Magnitude: -2.51",
            "File: HFTS2_20190412_045523_040<br>Magnitude: -2.33",
            "File: HFTS2_20190412_045526_040<br>Magnitude: -2.80",
            "File: HFTS2_20190412_045528_040<br>Magnitude: -2.65",
            "File: HFTS2_20190412_045530_040<br>Magnitude: -2.49",
            "File: HFTS2_20190412_045535_040<br>Magnitude: -2.52",
            "File: HFTS2_20190412_045537_040<br>Magnitude: -2.76",
            "File: HFTS2_20190412_045550_040<br>Magnitude: -2.54",
            "File: HFTS2_20190412_045558_040<br>Magnitude: -2.77",
            "File: HFTS2_20190412_045602_040<br>Magnitude: -2.00",
            "File: HFTS2_20190412_045604_040<br>Magnitude: -2.78",
            "File: HFTS2_20190412_045608_040<br>Magnitude: -2.12",
            "File: HFTS2_20190412_045611_040<br>Magnitude: -2.60",
            "File: HFTS2_20190412_045620_040<br>Magnitude: -2.31",
            "File: HFTS2_20190412_045630_040<br>Magnitude: -2.65",
            "File: HFTS2_20190412_045644_040<br>Magnitude: -2.50",
            "File: HFTS2_20190412_045716_040<br>Magnitude: -2.37",
            "File: HFTS2_20190412_045727_040<br>Magnitude: -2.57",
            "File: HFTS2_20190412_045809_040<br>Magnitude: -2.58",
            "File: HFTS2_20190412_045818_040<br>Magnitude: -2.67",
            "File: HFTS2_20190412_045840_040<br>Magnitude: -2.77",
            "File: HFTS2_20190412_045938_040<br>Magnitude: -2.77",
            "File: HFTS2_20190412_045943_040<br>Magnitude: -2.39",
            "File: HFTS2_20190412_045952_040<br>Magnitude: -2.52",
            "File: HFTS2_20190412_050004_040<br>Magnitude: -2.35",
            "File: HFTS2_20190412_050011_040<br>Magnitude: -2.47",
            "File: HFTS2_20190412_050036_040<br>Magnitude: -2.61",
            "File: HFTS2_20190412_050053_040<br>Magnitude: -2.92",
            "File: HFTS2_20190412_050100_040<br>Magnitude: -2.58",
            "File: HFTS2_20190412_050127_040<br>Magnitude: -2.58",
            "File: HFTS2_20190412_050128_040<br>Magnitude: -2.57",
            "File: HFTS2_20190412_050133_040<br>Magnitude: -2.77",
            "File: HFTS2_20190412_050147_040<br>Magnitude: -2.71",
            "File: HFTS2_20190412_050202_040<br>Magnitude: -2.88",
            "File: HFTS2_20190412_050221_040<br>Magnitude: -2.82",
            "File: HFTS2_20190412_050315_040<br>Magnitude: -2.47",
            "File: HFTS2_20190412_050325_040<br>Magnitude: -2.62",
            "File: HFTS2_20190412_050358_040<br>Magnitude: -2.78",
            "File: HFTS2_20190412_050425_040<br>Magnitude: -2.75",
            "File: HFTS2_20190412_050456_040<br>Magnitude: -2.44",
            "File: HFTS2_20190412_050534_040<br>Magnitude: -2.59",
            "File: HFTS2_20190412_050607_040<br>Magnitude: -2.54"
           ],
           "type": "scatter3d",
           "x": [
            954165.5569
           ],
           "y": [
            849066.508
           ],
           "z": [
            8903.7508
           ]
          }
         ],
         "name": "2019-04-12 04:46:59.933000"
        },
        {
         "data": [
          {
           "marker": {
            "cmax": -1.6189,
            "cmin": -2.9802,
            "color": [
             -2.087
            ],
            "colorscale": [
             [
              0,
              "#440154"
             ],
             [
              0.1111111111111111,
              "#482878"
             ],
             [
              0.2222222222222222,
              "#3e4989"
             ],
             [
              0.3333333333333333,
              "#31688e"
             ],
             [
              0.4444444444444444,
              "#26828e"
             ],
             [
              0.5555555555555556,
              "#1f9e89"
             ],
             [
              0.6666666666666666,
              "#35b779"
             ],
             [
              0.7777777777777778,
              "#6ece58"
             ],
             [
              0.8888888888888888,
              "#b5de2b"
             ],
             [
              1,
              "#fde725"
             ]
            ],
            "size": [
             208.70000000000002
            ],
            "sizemode": "diameter",
            "sizeref": 25
           },
           "mode": "markers",
           "text": [
            "File: HFTS2_20190412_042831_040<br>Magnitude: -2.77",
            "File: HFTS2_20190412_042832_040<br>Magnitude: -2.73",
            "File: HFTS2_20190412_042833_040<br>Magnitude: -2.65",
            "File: HFTS2_20190412_042835_040<br>Magnitude: -2.65",
            "File: HFTS2_20190412_043437_040<br>Magnitude: -2.56",
            "File: HFTS2_20190412_043802_040<br>Magnitude: -2.35",
            "File: HFTS2_20190412_043803_040<br>Magnitude: -2.22",
            "File: HFTS2_20190412_044156_040<br>Magnitude: -2.03",
            "File: HFTS2_20190412_044403_040<br>Magnitude: -2.39",
            "File: HFTS2_20190412_044404_040<br>Magnitude: -2.10",
            "File: HFTS2_20190412_044435_040_Merged<br>Magnitude: -2.47",
            "File: HFTS2_20190412_044506_040<br>Magnitude: -2.32",
            "File: HFTS2_20190412_044516_040<br>Magnitude: -1.97",
            "File: HFTS2_20190412_044521_040<br>Magnitude: -2.07",
            "File: HFTS2_20190412_044522_040<br>Magnitude: -2.47",
            "File: HFTS2_20190412_044526_040<br>Magnitude: -2.74",
            "File: HFTS2_20190412_044540_040<br>Magnitude: -2.21",
            "File: HFTS2_20190412_044542_040<br>Magnitude: -2.56",
            "File: HFTS2_20190412_044543_040<br>Magnitude: -2.36",
            "File: HFTS2_20190412_044544_040<br>Magnitude: -2.59",
            "File: HFTS2_20190412_044545_040<br>Magnitude: -2.60",
            "File: HFTS2_20190412_044605_040<br>Magnitude: -2.71",
            "File: HFTS2_20190412_044619_040<br>Magnitude: -2.54",
            "File: HFTS2_20190412_044620_040<br>Magnitude: -1.81",
            "File: HFTS2_20190412_044623_040<br>Magnitude: -2.21",
            "File: HFTS2_20190412_044643_040<br>Magnitude: -2.30",
            "File: HFTS2_20190412_044647_040<br>Magnitude: -2.42",
            "File: HFTS2_20190412_044651_040<br>Magnitude: -2.46",
            "File: HFTS2_20190412_044659_040_Merged<br>Magnitude: -1.62",
            "File: HFTS2_20190412_044707_040<br>Magnitude: -2.09",
            "File: HFTS2_20190412_044731_040<br>Magnitude: -2.70",
            "File: HFTS2_20190412_044737_040<br>Magnitude: -2.41",
            "File: HFTS2_20190412_044741_040<br>Magnitude: -2.63",
            "File: HFTS2_20190412_044757_040<br>Magnitude: -2.12",
            "File: HFTS2_20190412_044759_040<br>Magnitude: -2.07",
            "File: HFTS2_20190412_044800_040<br>Magnitude: -2.53",
            "File: HFTS2_20190412_044803_040<br>Magnitude: -2.61",
            "File: HFTS2_20190412_044816_040<br>Magnitude: -2.12",
            "File: HFTS2_20190412_044822_040<br>Magnitude: -2.06",
            "File: HFTS2_20190412_044824_040<br>Magnitude: -2.02",
            "File: HFTS2_20190412_044829_040<br>Magnitude: -1.79",
            "File: HFTS2_20190412_044833_040<br>Magnitude: -2.29",
            "File: HFTS2_20190412_044841_040<br>Magnitude: -2.80",
            "File: HFTS2_20190412_044842_040<br>Magnitude: -2.24",
            "File: HFTS2_20190412_044903_040<br>Magnitude: -2.53",
            "File: HFTS2_20190412_044914_040<br>Magnitude: -2.58",
            "File: HFTS2_20190412_044945_040<br>Magnitude: -2.34",
            "File: HFTS2_20190412_044957_040<br>Magnitude: -2.58",
            "File: HFTS2_20190412_045027_040<br>Magnitude: -2.54",
            "File: HFTS2_20190412_045029_040<br>Magnitude: -2.63",
            "File: HFTS2_20190412_045035_040<br>Magnitude: -2.49",
            "File: HFTS2_20190412_045126_040<br>Magnitude: -2.40",
            "File: HFTS2_20190412_045127_040<br>Magnitude: -2.66",
            "File: HFTS2_20190412_045157_040<br>Magnitude: -2.08",
            "File: HFTS2_20190412_045254_040<br>Magnitude: -2.98",
            "File: HFTS2_20190412_045333_040<br>Magnitude: -2.15",
            "File: HFTS2_20190412_045344_040<br>Magnitude: -2.72",
            "File: HFTS2_20190412_045434_040<br>Magnitude: -2.50",
            "File: HFTS2_20190412_045451_040<br>Magnitude: -2.17",
            "File: HFTS2_20190412_045457_040<br>Magnitude: -2.51",
            "File: HFTS2_20190412_045523_040<br>Magnitude: -2.33",
            "File: HFTS2_20190412_045526_040<br>Magnitude: -2.80",
            "File: HFTS2_20190412_045528_040<br>Magnitude: -2.65",
            "File: HFTS2_20190412_045530_040<br>Magnitude: -2.49",
            "File: HFTS2_20190412_045535_040<br>Magnitude: -2.52",
            "File: HFTS2_20190412_045537_040<br>Magnitude: -2.76",
            "File: HFTS2_20190412_045550_040<br>Magnitude: -2.54",
            "File: HFTS2_20190412_045558_040<br>Magnitude: -2.77",
            "File: HFTS2_20190412_045602_040<br>Magnitude: -2.00",
            "File: HFTS2_20190412_045604_040<br>Magnitude: -2.78",
            "File: HFTS2_20190412_045608_040<br>Magnitude: -2.12",
            "File: HFTS2_20190412_045611_040<br>Magnitude: -2.60",
            "File: HFTS2_20190412_045620_040<br>Magnitude: -2.31",
            "File: HFTS2_20190412_045630_040<br>Magnitude: -2.65",
            "File: HFTS2_20190412_045644_040<br>Magnitude: -2.50",
            "File: HFTS2_20190412_045716_040<br>Magnitude: -2.37",
            "File: HFTS2_20190412_045727_040<br>Magnitude: -2.57",
            "File: HFTS2_20190412_045809_040<br>Magnitude: -2.58",
            "File: HFTS2_20190412_045818_040<br>Magnitude: -2.67",
            "File: HFTS2_20190412_045840_040<br>Magnitude: -2.77",
            "File: HFTS2_20190412_045938_040<br>Magnitude: -2.77",
            "File: HFTS2_20190412_045943_040<br>Magnitude: -2.39",
            "File: HFTS2_20190412_045952_040<br>Magnitude: -2.52",
            "File: HFTS2_20190412_050004_040<br>Magnitude: -2.35",
            "File: HFTS2_20190412_050011_040<br>Magnitude: -2.47",
            "File: HFTS2_20190412_050036_040<br>Magnitude: -2.61",
            "File: HFTS2_20190412_050053_040<br>Magnitude: -2.92",
            "File: HFTS2_20190412_050100_040<br>Magnitude: -2.58",
            "File: HFTS2_20190412_050127_040<br>Magnitude: -2.58",
            "File: HFTS2_20190412_050128_040<br>Magnitude: -2.57",
            "File: HFTS2_20190412_050133_040<br>Magnitude: -2.77",
            "File: HFTS2_20190412_050147_040<br>Magnitude: -2.71",
            "File: HFTS2_20190412_050202_040<br>Magnitude: -2.88",
            "File: HFTS2_20190412_050221_040<br>Magnitude: -2.82",
            "File: HFTS2_20190412_050315_040<br>Magnitude: -2.47",
            "File: HFTS2_20190412_050325_040<br>Magnitude: -2.62",
            "File: HFTS2_20190412_050358_040<br>Magnitude: -2.78",
            "File: HFTS2_20190412_050425_040<br>Magnitude: -2.75",
            "File: HFTS2_20190412_050456_040<br>Magnitude: -2.44",
            "File: HFTS2_20190412_050534_040<br>Magnitude: -2.59",
            "File: HFTS2_20190412_050607_040<br>Magnitude: -2.54"
           ],
           "type": "scatter3d",
           "x": [
            953868.4759
           ],
           "y": [
            849101.9188
           ],
           "z": [
            8481.3897
           ]
          }
         ],
         "name": "2019-04-12 04:47:07.108000"
        },
        {
         "data": [
          {
           "marker": {
            "cmax": -1.6189,
            "cmin": -2.9802,
            "color": [
             -2.698
            ],
            "colorscale": [
             [
              0,
              "#440154"
             ],
             [
              0.1111111111111111,
              "#482878"
             ],
             [
              0.2222222222222222,
              "#3e4989"
             ],
             [
              0.3333333333333333,
              "#31688e"
             ],
             [
              0.4444444444444444,
              "#26828e"
             ],
             [
              0.5555555555555556,
              "#1f9e89"
             ],
             [
              0.6666666666666666,
              "#35b779"
             ],
             [
              0.7777777777777778,
              "#6ece58"
             ],
             [
              0.8888888888888888,
              "#b5de2b"
             ],
             [
              1,
              "#fde725"
             ]
            ],
            "size": [
             269.8
            ],
            "sizemode": "diameter",
            "sizeref": 25
           },
           "mode": "markers",
           "text": [
            "File: HFTS2_20190412_042831_040<br>Magnitude: -2.77",
            "File: HFTS2_20190412_042832_040<br>Magnitude: -2.73",
            "File: HFTS2_20190412_042833_040<br>Magnitude: -2.65",
            "File: HFTS2_20190412_042835_040<br>Magnitude: -2.65",
            "File: HFTS2_20190412_043437_040<br>Magnitude: -2.56",
            "File: HFTS2_20190412_043802_040<br>Magnitude: -2.35",
            "File: HFTS2_20190412_043803_040<br>Magnitude: -2.22",
            "File: HFTS2_20190412_044156_040<br>Magnitude: -2.03",
            "File: HFTS2_20190412_044403_040<br>Magnitude: -2.39",
            "File: HFTS2_20190412_044404_040<br>Magnitude: -2.10",
            "File: HFTS2_20190412_044435_040_Merged<br>Magnitude: -2.47",
            "File: HFTS2_20190412_044506_040<br>Magnitude: -2.32",
            "File: HFTS2_20190412_044516_040<br>Magnitude: -1.97",
            "File: HFTS2_20190412_044521_040<br>Magnitude: -2.07",
            "File: HFTS2_20190412_044522_040<br>Magnitude: -2.47",
            "File: HFTS2_20190412_044526_040<br>Magnitude: -2.74",
            "File: HFTS2_20190412_044540_040<br>Magnitude: -2.21",
            "File: HFTS2_20190412_044542_040<br>Magnitude: -2.56",
            "File: HFTS2_20190412_044543_040<br>Magnitude: -2.36",
            "File: HFTS2_20190412_044544_040<br>Magnitude: -2.59",
            "File: HFTS2_20190412_044545_040<br>Magnitude: -2.60",
            "File: HFTS2_20190412_044605_040<br>Magnitude: -2.71",
            "File: HFTS2_20190412_044619_040<br>Magnitude: -2.54",
            "File: HFTS2_20190412_044620_040<br>Magnitude: -1.81",
            "File: HFTS2_20190412_044623_040<br>Magnitude: -2.21",
            "File: HFTS2_20190412_044643_040<br>Magnitude: -2.30",
            "File: HFTS2_20190412_044647_040<br>Magnitude: -2.42",
            "File: HFTS2_20190412_044651_040<br>Magnitude: -2.46",
            "File: HFTS2_20190412_044659_040_Merged<br>Magnitude: -1.62",
            "File: HFTS2_20190412_044707_040<br>Magnitude: -2.09",
            "File: HFTS2_20190412_044731_040<br>Magnitude: -2.70",
            "File: HFTS2_20190412_044737_040<br>Magnitude: -2.41",
            "File: HFTS2_20190412_044741_040<br>Magnitude: -2.63",
            "File: HFTS2_20190412_044757_040<br>Magnitude: -2.12",
            "File: HFTS2_20190412_044759_040<br>Magnitude: -2.07",
            "File: HFTS2_20190412_044800_040<br>Magnitude: -2.53",
            "File: HFTS2_20190412_044803_040<br>Magnitude: -2.61",
            "File: HFTS2_20190412_044816_040<br>Magnitude: -2.12",
            "File: HFTS2_20190412_044822_040<br>Magnitude: -2.06",
            "File: HFTS2_20190412_044824_040<br>Magnitude: -2.02",
            "File: HFTS2_20190412_044829_040<br>Magnitude: -1.79",
            "File: HFTS2_20190412_044833_040<br>Magnitude: -2.29",
            "File: HFTS2_20190412_044841_040<br>Magnitude: -2.80",
            "File: HFTS2_20190412_044842_040<br>Magnitude: -2.24",
            "File: HFTS2_20190412_044903_040<br>Magnitude: -2.53",
            "File: HFTS2_20190412_044914_040<br>Magnitude: -2.58",
            "File: HFTS2_20190412_044945_040<br>Magnitude: -2.34",
            "File: HFTS2_20190412_044957_040<br>Magnitude: -2.58",
            "File: HFTS2_20190412_045027_040<br>Magnitude: -2.54",
            "File: HFTS2_20190412_045029_040<br>Magnitude: -2.63",
            "File: HFTS2_20190412_045035_040<br>Magnitude: -2.49",
            "File: HFTS2_20190412_045126_040<br>Magnitude: -2.40",
            "File: HFTS2_20190412_045127_040<br>Magnitude: -2.66",
            "File: HFTS2_20190412_045157_040<br>Magnitude: -2.08",
            "File: HFTS2_20190412_045254_040<br>Magnitude: -2.98",
            "File: HFTS2_20190412_045333_040<br>Magnitude: -2.15",
            "File: HFTS2_20190412_045344_040<br>Magnitude: -2.72",
            "File: HFTS2_20190412_045434_040<br>Magnitude: -2.50",
            "File: HFTS2_20190412_045451_040<br>Magnitude: -2.17",
            "File: HFTS2_20190412_045457_040<br>Magnitude: -2.51",
            "File: HFTS2_20190412_045523_040<br>Magnitude: -2.33",
            "File: HFTS2_20190412_045526_040<br>Magnitude: -2.80",
            "File: HFTS2_20190412_045528_040<br>Magnitude: -2.65",
            "File: HFTS2_20190412_045530_040<br>Magnitude: -2.49",
            "File: HFTS2_20190412_045535_040<br>Magnitude: -2.52",
            "File: HFTS2_20190412_045537_040<br>Magnitude: -2.76",
            "File: HFTS2_20190412_045550_040<br>Magnitude: -2.54",
            "File: HFTS2_20190412_045558_040<br>Magnitude: -2.77",
            "File: HFTS2_20190412_045602_040<br>Magnitude: -2.00",
            "File: HFTS2_20190412_045604_040<br>Magnitude: -2.78",
            "File: HFTS2_20190412_045608_040<br>Magnitude: -2.12",
            "File: HFTS2_20190412_045611_040<br>Magnitude: -2.60",
            "File: HFTS2_20190412_045620_040<br>Magnitude: -2.31",
            "File: HFTS2_20190412_045630_040<br>Magnitude: -2.65",
            "File: HFTS2_20190412_045644_040<br>Magnitude: -2.50",
            "File: HFTS2_20190412_045716_040<br>Magnitude: -2.37",
            "File: HFTS2_20190412_045727_040<br>Magnitude: -2.57",
            "File: HFTS2_20190412_045809_040<br>Magnitude: -2.58",
            "File: HFTS2_20190412_045818_040<br>Magnitude: -2.67",
            "File: HFTS2_20190412_045840_040<br>Magnitude: -2.77",
            "File: HFTS2_20190412_045938_040<br>Magnitude: -2.77",
            "File: HFTS2_20190412_045943_040<br>Magnitude: -2.39",
            "File: HFTS2_20190412_045952_040<br>Magnitude: -2.52",
            "File: HFTS2_20190412_050004_040<br>Magnitude: -2.35",
            "File: HFTS2_20190412_050011_040<br>Magnitude: -2.47",
            "File: HFTS2_20190412_050036_040<br>Magnitude: -2.61",
            "File: HFTS2_20190412_050053_040<br>Magnitude: -2.92",
            "File: HFTS2_20190412_050100_040<br>Magnitude: -2.58",
            "File: HFTS2_20190412_050127_040<br>Magnitude: -2.58",
            "File: HFTS2_20190412_050128_040<br>Magnitude: -2.57",
            "File: HFTS2_20190412_050133_040<br>Magnitude: -2.77",
            "File: HFTS2_20190412_050147_040<br>Magnitude: -2.71",
            "File: HFTS2_20190412_050202_040<br>Magnitude: -2.88",
            "File: HFTS2_20190412_050221_040<br>Magnitude: -2.82",
            "File: HFTS2_20190412_050315_040<br>Magnitude: -2.47",
            "File: HFTS2_20190412_050325_040<br>Magnitude: -2.62",
            "File: HFTS2_20190412_050358_040<br>Magnitude: -2.78",
            "File: HFTS2_20190412_050425_040<br>Magnitude: -2.75",
            "File: HFTS2_20190412_050456_040<br>Magnitude: -2.44",
            "File: HFTS2_20190412_050534_040<br>Magnitude: -2.59",
            "File: HFTS2_20190412_050607_040<br>Magnitude: -2.54"
           ],
           "type": "scatter3d",
           "x": [
            953963.2893
           ],
           "y": [
            849096.5982
           ],
           "z": [
            8569.3521
           ]
          }
         ],
         "name": "2019-04-12 04:47:31.004000"
        },
        {
         "data": [
          {
           "marker": {
            "cmax": -1.6189,
            "cmin": -2.9802,
            "color": [
             -2.4125
            ],
            "colorscale": [
             [
              0,
              "#440154"
             ],
             [
              0.1111111111111111,
              "#482878"
             ],
             [
              0.2222222222222222,
              "#3e4989"
             ],
             [
              0.3333333333333333,
              "#31688e"
             ],
             [
              0.4444444444444444,
              "#26828e"
             ],
             [
              0.5555555555555556,
              "#1f9e89"
             ],
             [
              0.6666666666666666,
              "#35b779"
             ],
             [
              0.7777777777777778,
              "#6ece58"
             ],
             [
              0.8888888888888888,
              "#b5de2b"
             ],
             [
              1,
              "#fde725"
             ]
            ],
            "size": [
             241.25
            ],
            "sizemode": "diameter",
            "sizeref": 25
           },
           "mode": "markers",
           "text": [
            "File: HFTS2_20190412_042831_040<br>Magnitude: -2.77",
            "File: HFTS2_20190412_042832_040<br>Magnitude: -2.73",
            "File: HFTS2_20190412_042833_040<br>Magnitude: -2.65",
            "File: HFTS2_20190412_042835_040<br>Magnitude: -2.65",
            "File: HFTS2_20190412_043437_040<br>Magnitude: -2.56",
            "File: HFTS2_20190412_043802_040<br>Magnitude: -2.35",
            "File: HFTS2_20190412_043803_040<br>Magnitude: -2.22",
            "File: HFTS2_20190412_044156_040<br>Magnitude: -2.03",
            "File: HFTS2_20190412_044403_040<br>Magnitude: -2.39",
            "File: HFTS2_20190412_044404_040<br>Magnitude: -2.10",
            "File: HFTS2_20190412_044435_040_Merged<br>Magnitude: -2.47",
            "File: HFTS2_20190412_044506_040<br>Magnitude: -2.32",
            "File: HFTS2_20190412_044516_040<br>Magnitude: -1.97",
            "File: HFTS2_20190412_044521_040<br>Magnitude: -2.07",
            "File: HFTS2_20190412_044522_040<br>Magnitude: -2.47",
            "File: HFTS2_20190412_044526_040<br>Magnitude: -2.74",
            "File: HFTS2_20190412_044540_040<br>Magnitude: -2.21",
            "File: HFTS2_20190412_044542_040<br>Magnitude: -2.56",
            "File: HFTS2_20190412_044543_040<br>Magnitude: -2.36",
            "File: HFTS2_20190412_044544_040<br>Magnitude: -2.59",
            "File: HFTS2_20190412_044545_040<br>Magnitude: -2.60",
            "File: HFTS2_20190412_044605_040<br>Magnitude: -2.71",
            "File: HFTS2_20190412_044619_040<br>Magnitude: -2.54",
            "File: HFTS2_20190412_044620_040<br>Magnitude: -1.81",
            "File: HFTS2_20190412_044623_040<br>Magnitude: -2.21",
            "File: HFTS2_20190412_044643_040<br>Magnitude: -2.30",
            "File: HFTS2_20190412_044647_040<br>Magnitude: -2.42",
            "File: HFTS2_20190412_044651_040<br>Magnitude: -2.46",
            "File: HFTS2_20190412_044659_040_Merged<br>Magnitude: -1.62",
            "File: HFTS2_20190412_044707_040<br>Magnitude: -2.09",
            "File: HFTS2_20190412_044731_040<br>Magnitude: -2.70",
            "File: HFTS2_20190412_044737_040<br>Magnitude: -2.41",
            "File: HFTS2_20190412_044741_040<br>Magnitude: -2.63",
            "File: HFTS2_20190412_044757_040<br>Magnitude: -2.12",
            "File: HFTS2_20190412_044759_040<br>Magnitude: -2.07",
            "File: HFTS2_20190412_044800_040<br>Magnitude: -2.53",
            "File: HFTS2_20190412_044803_040<br>Magnitude: -2.61",
            "File: HFTS2_20190412_044816_040<br>Magnitude: -2.12",
            "File: HFTS2_20190412_044822_040<br>Magnitude: -2.06",
            "File: HFTS2_20190412_044824_040<br>Magnitude: -2.02",
            "File: HFTS2_20190412_044829_040<br>Magnitude: -1.79",
            "File: HFTS2_20190412_044833_040<br>Magnitude: -2.29",
            "File: HFTS2_20190412_044841_040<br>Magnitude: -2.80",
            "File: HFTS2_20190412_044842_040<br>Magnitude: -2.24",
            "File: HFTS2_20190412_044903_040<br>Magnitude: -2.53",
            "File: HFTS2_20190412_044914_040<br>Magnitude: -2.58",
            "File: HFTS2_20190412_044945_040<br>Magnitude: -2.34",
            "File: HFTS2_20190412_044957_040<br>Magnitude: -2.58",
            "File: HFTS2_20190412_045027_040<br>Magnitude: -2.54",
            "File: HFTS2_20190412_045029_040<br>Magnitude: -2.63",
            "File: HFTS2_20190412_045035_040<br>Magnitude: -2.49",
            "File: HFTS2_20190412_045126_040<br>Magnitude: -2.40",
            "File: HFTS2_20190412_045127_040<br>Magnitude: -2.66",
            "File: HFTS2_20190412_045157_040<br>Magnitude: -2.08",
            "File: HFTS2_20190412_045254_040<br>Magnitude: -2.98",
            "File: HFTS2_20190412_045333_040<br>Magnitude: -2.15",
            "File: HFTS2_20190412_045344_040<br>Magnitude: -2.72",
            "File: HFTS2_20190412_045434_040<br>Magnitude: -2.50",
            "File: HFTS2_20190412_045451_040<br>Magnitude: -2.17",
            "File: HFTS2_20190412_045457_040<br>Magnitude: -2.51",
            "File: HFTS2_20190412_045523_040<br>Magnitude: -2.33",
            "File: HFTS2_20190412_045526_040<br>Magnitude: -2.80",
            "File: HFTS2_20190412_045528_040<br>Magnitude: -2.65",
            "File: HFTS2_20190412_045530_040<br>Magnitude: -2.49",
            "File: HFTS2_20190412_045535_040<br>Magnitude: -2.52",
            "File: HFTS2_20190412_045537_040<br>Magnitude: -2.76",
            "File: HFTS2_20190412_045550_040<br>Magnitude: -2.54",
            "File: HFTS2_20190412_045558_040<br>Magnitude: -2.77",
            "File: HFTS2_20190412_045602_040<br>Magnitude: -2.00",
            "File: HFTS2_20190412_045604_040<br>Magnitude: -2.78",
            "File: HFTS2_20190412_045608_040<br>Magnitude: -2.12",
            "File: HFTS2_20190412_045611_040<br>Magnitude: -2.60",
            "File: HFTS2_20190412_045620_040<br>Magnitude: -2.31",
            "File: HFTS2_20190412_045630_040<br>Magnitude: -2.65",
            "File: HFTS2_20190412_045644_040<br>Magnitude: -2.50",
            "File: HFTS2_20190412_045716_040<br>Magnitude: -2.37",
            "File: HFTS2_20190412_045727_040<br>Magnitude: -2.57",
            "File: HFTS2_20190412_045809_040<br>Magnitude: -2.58",
            "File: HFTS2_20190412_045818_040<br>Magnitude: -2.67",
            "File: HFTS2_20190412_045840_040<br>Magnitude: -2.77",
            "File: HFTS2_20190412_045938_040<br>Magnitude: -2.77",
            "File: HFTS2_20190412_045943_040<br>Magnitude: -2.39",
            "File: HFTS2_20190412_045952_040<br>Magnitude: -2.52",
            "File: HFTS2_20190412_050004_040<br>Magnitude: -2.35",
            "File: HFTS2_20190412_050011_040<br>Magnitude: -2.47",
            "File: HFTS2_20190412_050036_040<br>Magnitude: -2.61",
            "File: HFTS2_20190412_050053_040<br>Magnitude: -2.92",
            "File: HFTS2_20190412_050100_040<br>Magnitude: -2.58",
            "File: HFTS2_20190412_050127_040<br>Magnitude: -2.58",
            "File: HFTS2_20190412_050128_040<br>Magnitude: -2.57",
            "File: HFTS2_20190412_050133_040<br>Magnitude: -2.77",
            "File: HFTS2_20190412_050147_040<br>Magnitude: -2.71",
            "File: HFTS2_20190412_050202_040<br>Magnitude: -2.88",
            "File: HFTS2_20190412_050221_040<br>Magnitude: -2.82",
            "File: HFTS2_20190412_050315_040<br>Magnitude: -2.47",
            "File: HFTS2_20190412_050325_040<br>Magnitude: -2.62",
            "File: HFTS2_20190412_050358_040<br>Magnitude: -2.78",
            "File: HFTS2_20190412_050425_040<br>Magnitude: -2.75",
            "File: HFTS2_20190412_050456_040<br>Magnitude: -2.44",
            "File: HFTS2_20190412_050534_040<br>Magnitude: -2.59",
            "File: HFTS2_20190412_050607_040<br>Magnitude: -2.54"
           ],
           "type": "scatter3d",
           "x": [
            954060.5741
           ],
           "y": [
            849201.2306
           ],
           "z": [
            8593.7843
           ]
          }
         ],
         "name": "2019-04-12 04:47:37.422000"
        },
        {
         "data": [
          {
           "marker": {
            "cmax": -1.6189,
            "cmin": -2.9802,
            "color": [
             -2.6312
            ],
            "colorscale": [
             [
              0,
              "#440154"
             ],
             [
              0.1111111111111111,
              "#482878"
             ],
             [
              0.2222222222222222,
              "#3e4989"
             ],
             [
              0.3333333333333333,
              "#31688e"
             ],
             [
              0.4444444444444444,
              "#26828e"
             ],
             [
              0.5555555555555556,
              "#1f9e89"
             ],
             [
              0.6666666666666666,
              "#35b779"
             ],
             [
              0.7777777777777778,
              "#6ece58"
             ],
             [
              0.8888888888888888,
              "#b5de2b"
             ],
             [
              1,
              "#fde725"
             ]
            ],
            "size": [
             263.12
            ],
            "sizemode": "diameter",
            "sizeref": 25
           },
           "mode": "markers",
           "text": [
            "File: HFTS2_20190412_042831_040<br>Magnitude: -2.77",
            "File: HFTS2_20190412_042832_040<br>Magnitude: -2.73",
            "File: HFTS2_20190412_042833_040<br>Magnitude: -2.65",
            "File: HFTS2_20190412_042835_040<br>Magnitude: -2.65",
            "File: HFTS2_20190412_043437_040<br>Magnitude: -2.56",
            "File: HFTS2_20190412_043802_040<br>Magnitude: -2.35",
            "File: HFTS2_20190412_043803_040<br>Magnitude: -2.22",
            "File: HFTS2_20190412_044156_040<br>Magnitude: -2.03",
            "File: HFTS2_20190412_044403_040<br>Magnitude: -2.39",
            "File: HFTS2_20190412_044404_040<br>Magnitude: -2.10",
            "File: HFTS2_20190412_044435_040_Merged<br>Magnitude: -2.47",
            "File: HFTS2_20190412_044506_040<br>Magnitude: -2.32",
            "File: HFTS2_20190412_044516_040<br>Magnitude: -1.97",
            "File: HFTS2_20190412_044521_040<br>Magnitude: -2.07",
            "File: HFTS2_20190412_044522_040<br>Magnitude: -2.47",
            "File: HFTS2_20190412_044526_040<br>Magnitude: -2.74",
            "File: HFTS2_20190412_044540_040<br>Magnitude: -2.21",
            "File: HFTS2_20190412_044542_040<br>Magnitude: -2.56",
            "File: HFTS2_20190412_044543_040<br>Magnitude: -2.36",
            "File: HFTS2_20190412_044544_040<br>Magnitude: -2.59",
            "File: HFTS2_20190412_044545_040<br>Magnitude: -2.60",
            "File: HFTS2_20190412_044605_040<br>Magnitude: -2.71",
            "File: HFTS2_20190412_044619_040<br>Magnitude: -2.54",
            "File: HFTS2_20190412_044620_040<br>Magnitude: -1.81",
            "File: HFTS2_20190412_044623_040<br>Magnitude: -2.21",
            "File: HFTS2_20190412_044643_040<br>Magnitude: -2.30",
            "File: HFTS2_20190412_044647_040<br>Magnitude: -2.42",
            "File: HFTS2_20190412_044651_040<br>Magnitude: -2.46",
            "File: HFTS2_20190412_044659_040_Merged<br>Magnitude: -1.62",
            "File: HFTS2_20190412_044707_040<br>Magnitude: -2.09",
            "File: HFTS2_20190412_044731_040<br>Magnitude: -2.70",
            "File: HFTS2_20190412_044737_040<br>Magnitude: -2.41",
            "File: HFTS2_20190412_044741_040<br>Magnitude: -2.63",
            "File: HFTS2_20190412_044757_040<br>Magnitude: -2.12",
            "File: HFTS2_20190412_044759_040<br>Magnitude: -2.07",
            "File: HFTS2_20190412_044800_040<br>Magnitude: -2.53",
            "File: HFTS2_20190412_044803_040<br>Magnitude: -2.61",
            "File: HFTS2_20190412_044816_040<br>Magnitude: -2.12",
            "File: HFTS2_20190412_044822_040<br>Magnitude: -2.06",
            "File: HFTS2_20190412_044824_040<br>Magnitude: -2.02",
            "File: HFTS2_20190412_044829_040<br>Magnitude: -1.79",
            "File: HFTS2_20190412_044833_040<br>Magnitude: -2.29",
            "File: HFTS2_20190412_044841_040<br>Magnitude: -2.80",
            "File: HFTS2_20190412_044842_040<br>Magnitude: -2.24",
            "File: HFTS2_20190412_044903_040<br>Magnitude: -2.53",
            "File: HFTS2_20190412_044914_040<br>Magnitude: -2.58",
            "File: HFTS2_20190412_044945_040<br>Magnitude: -2.34",
            "File: HFTS2_20190412_044957_040<br>Magnitude: -2.58",
            "File: HFTS2_20190412_045027_040<br>Magnitude: -2.54",
            "File: HFTS2_20190412_045029_040<br>Magnitude: -2.63",
            "File: HFTS2_20190412_045035_040<br>Magnitude: -2.49",
            "File: HFTS2_20190412_045126_040<br>Magnitude: -2.40",
            "File: HFTS2_20190412_045127_040<br>Magnitude: -2.66",
            "File: HFTS2_20190412_045157_040<br>Magnitude: -2.08",
            "File: HFTS2_20190412_045254_040<br>Magnitude: -2.98",
            "File: HFTS2_20190412_045333_040<br>Magnitude: -2.15",
            "File: HFTS2_20190412_045344_040<br>Magnitude: -2.72",
            "File: HFTS2_20190412_045434_040<br>Magnitude: -2.50",
            "File: HFTS2_20190412_045451_040<br>Magnitude: -2.17",
            "File: HFTS2_20190412_045457_040<br>Magnitude: -2.51",
            "File: HFTS2_20190412_045523_040<br>Magnitude: -2.33",
            "File: HFTS2_20190412_045526_040<br>Magnitude: -2.80",
            "File: HFTS2_20190412_045528_040<br>Magnitude: -2.65",
            "File: HFTS2_20190412_045530_040<br>Magnitude: -2.49",
            "File: HFTS2_20190412_045535_040<br>Magnitude: -2.52",
            "File: HFTS2_20190412_045537_040<br>Magnitude: -2.76",
            "File: HFTS2_20190412_045550_040<br>Magnitude: -2.54",
            "File: HFTS2_20190412_045558_040<br>Magnitude: -2.77",
            "File: HFTS2_20190412_045602_040<br>Magnitude: -2.00",
            "File: HFTS2_20190412_045604_040<br>Magnitude: -2.78",
            "File: HFTS2_20190412_045608_040<br>Magnitude: -2.12",
            "File: HFTS2_20190412_045611_040<br>Magnitude: -2.60",
            "File: HFTS2_20190412_045620_040<br>Magnitude: -2.31",
            "File: HFTS2_20190412_045630_040<br>Magnitude: -2.65",
            "File: HFTS2_20190412_045644_040<br>Magnitude: -2.50",
            "File: HFTS2_20190412_045716_040<br>Magnitude: -2.37",
            "File: HFTS2_20190412_045727_040<br>Magnitude: -2.57",
            "File: HFTS2_20190412_045809_040<br>Magnitude: -2.58",
            "File: HFTS2_20190412_045818_040<br>Magnitude: -2.67",
            "File: HFTS2_20190412_045840_040<br>Magnitude: -2.77",
            "File: HFTS2_20190412_045938_040<br>Magnitude: -2.77",
            "File: HFTS2_20190412_045943_040<br>Magnitude: -2.39",
            "File: HFTS2_20190412_045952_040<br>Magnitude: -2.52",
            "File: HFTS2_20190412_050004_040<br>Magnitude: -2.35",
            "File: HFTS2_20190412_050011_040<br>Magnitude: -2.47",
            "File: HFTS2_20190412_050036_040<br>Magnitude: -2.61",
            "File: HFTS2_20190412_050053_040<br>Magnitude: -2.92",
            "File: HFTS2_20190412_050100_040<br>Magnitude: -2.58",
            "File: HFTS2_20190412_050127_040<br>Magnitude: -2.58",
            "File: HFTS2_20190412_050128_040<br>Magnitude: -2.57",
            "File: HFTS2_20190412_050133_040<br>Magnitude: -2.77",
            "File: HFTS2_20190412_050147_040<br>Magnitude: -2.71",
            "File: HFTS2_20190412_050202_040<br>Magnitude: -2.88",
            "File: HFTS2_20190412_050221_040<br>Magnitude: -2.82",
            "File: HFTS2_20190412_050315_040<br>Magnitude: -2.47",
            "File: HFTS2_20190412_050325_040<br>Magnitude: -2.62",
            "File: HFTS2_20190412_050358_040<br>Magnitude: -2.78",
            "File: HFTS2_20190412_050425_040<br>Magnitude: -2.75",
            "File: HFTS2_20190412_050456_040<br>Magnitude: -2.44",
            "File: HFTS2_20190412_050534_040<br>Magnitude: -2.59",
            "File: HFTS2_20190412_050607_040<br>Magnitude: -2.54"
           ],
           "type": "scatter3d",
           "x": [
            954263.1692
           ],
           "y": [
            849383.59
           ],
           "z": [
            8594.7867
           ]
          }
         ],
         "name": "2019-04-12 04:47:41.743000"
        },
        {
         "data": [
          {
           "marker": {
            "cmax": -1.6189,
            "cmin": -2.9802,
            "color": [
             -2.1208
            ],
            "colorscale": [
             [
              0,
              "#440154"
             ],
             [
              0.1111111111111111,
              "#482878"
             ],
             [
              0.2222222222222222,
              "#3e4989"
             ],
             [
              0.3333333333333333,
              "#31688e"
             ],
             [
              0.4444444444444444,
              "#26828e"
             ],
             [
              0.5555555555555556,
              "#1f9e89"
             ],
             [
              0.6666666666666666,
              "#35b779"
             ],
             [
              0.7777777777777778,
              "#6ece58"
             ],
             [
              0.8888888888888888,
              "#b5de2b"
             ],
             [
              1,
              "#fde725"
             ]
            ],
            "size": [
             212.08
            ],
            "sizemode": "diameter",
            "sizeref": 25
           },
           "mode": "markers",
           "text": [
            "File: HFTS2_20190412_042831_040<br>Magnitude: -2.77",
            "File: HFTS2_20190412_042832_040<br>Magnitude: -2.73",
            "File: HFTS2_20190412_042833_040<br>Magnitude: -2.65",
            "File: HFTS2_20190412_042835_040<br>Magnitude: -2.65",
            "File: HFTS2_20190412_043437_040<br>Magnitude: -2.56",
            "File: HFTS2_20190412_043802_040<br>Magnitude: -2.35",
            "File: HFTS2_20190412_043803_040<br>Magnitude: -2.22",
            "File: HFTS2_20190412_044156_040<br>Magnitude: -2.03",
            "File: HFTS2_20190412_044403_040<br>Magnitude: -2.39",
            "File: HFTS2_20190412_044404_040<br>Magnitude: -2.10",
            "File: HFTS2_20190412_044435_040_Merged<br>Magnitude: -2.47",
            "File: HFTS2_20190412_044506_040<br>Magnitude: -2.32",
            "File: HFTS2_20190412_044516_040<br>Magnitude: -1.97",
            "File: HFTS2_20190412_044521_040<br>Magnitude: -2.07",
            "File: HFTS2_20190412_044522_040<br>Magnitude: -2.47",
            "File: HFTS2_20190412_044526_040<br>Magnitude: -2.74",
            "File: HFTS2_20190412_044540_040<br>Magnitude: -2.21",
            "File: HFTS2_20190412_044542_040<br>Magnitude: -2.56",
            "File: HFTS2_20190412_044543_040<br>Magnitude: -2.36",
            "File: HFTS2_20190412_044544_040<br>Magnitude: -2.59",
            "File: HFTS2_20190412_044545_040<br>Magnitude: -2.60",
            "File: HFTS2_20190412_044605_040<br>Magnitude: -2.71",
            "File: HFTS2_20190412_044619_040<br>Magnitude: -2.54",
            "File: HFTS2_20190412_044620_040<br>Magnitude: -1.81",
            "File: HFTS2_20190412_044623_040<br>Magnitude: -2.21",
            "File: HFTS2_20190412_044643_040<br>Magnitude: -2.30",
            "File: HFTS2_20190412_044647_040<br>Magnitude: -2.42",
            "File: HFTS2_20190412_044651_040<br>Magnitude: -2.46",
            "File: HFTS2_20190412_044659_040_Merged<br>Magnitude: -1.62",
            "File: HFTS2_20190412_044707_040<br>Magnitude: -2.09",
            "File: HFTS2_20190412_044731_040<br>Magnitude: -2.70",
            "File: HFTS2_20190412_044737_040<br>Magnitude: -2.41",
            "File: HFTS2_20190412_044741_040<br>Magnitude: -2.63",
            "File: HFTS2_20190412_044757_040<br>Magnitude: -2.12",
            "File: HFTS2_20190412_044759_040<br>Magnitude: -2.07",
            "File: HFTS2_20190412_044800_040<br>Magnitude: -2.53",
            "File: HFTS2_20190412_044803_040<br>Magnitude: -2.61",
            "File: HFTS2_20190412_044816_040<br>Magnitude: -2.12",
            "File: HFTS2_20190412_044822_040<br>Magnitude: -2.06",
            "File: HFTS2_20190412_044824_040<br>Magnitude: -2.02",
            "File: HFTS2_20190412_044829_040<br>Magnitude: -1.79",
            "File: HFTS2_20190412_044833_040<br>Magnitude: -2.29",
            "File: HFTS2_20190412_044841_040<br>Magnitude: -2.80",
            "File: HFTS2_20190412_044842_040<br>Magnitude: -2.24",
            "File: HFTS2_20190412_044903_040<br>Magnitude: -2.53",
            "File: HFTS2_20190412_044914_040<br>Magnitude: -2.58",
            "File: HFTS2_20190412_044945_040<br>Magnitude: -2.34",
            "File: HFTS2_20190412_044957_040<br>Magnitude: -2.58",
            "File: HFTS2_20190412_045027_040<br>Magnitude: -2.54",
            "File: HFTS2_20190412_045029_040<br>Magnitude: -2.63",
            "File: HFTS2_20190412_045035_040<br>Magnitude: -2.49",
            "File: HFTS2_20190412_045126_040<br>Magnitude: -2.40",
            "File: HFTS2_20190412_045127_040<br>Magnitude: -2.66",
            "File: HFTS2_20190412_045157_040<br>Magnitude: -2.08",
            "File: HFTS2_20190412_045254_040<br>Magnitude: -2.98",
            "File: HFTS2_20190412_045333_040<br>Magnitude: -2.15",
            "File: HFTS2_20190412_045344_040<br>Magnitude: -2.72",
            "File: HFTS2_20190412_045434_040<br>Magnitude: -2.50",
            "File: HFTS2_20190412_045451_040<br>Magnitude: -2.17",
            "File: HFTS2_20190412_045457_040<br>Magnitude: -2.51",
            "File: HFTS2_20190412_045523_040<br>Magnitude: -2.33",
            "File: HFTS2_20190412_045526_040<br>Magnitude: -2.80",
            "File: HFTS2_20190412_045528_040<br>Magnitude: -2.65",
            "File: HFTS2_20190412_045530_040<br>Magnitude: -2.49",
            "File: HFTS2_20190412_045535_040<br>Magnitude: -2.52",
            "File: HFTS2_20190412_045537_040<br>Magnitude: -2.76",
            "File: HFTS2_20190412_045550_040<br>Magnitude: -2.54",
            "File: HFTS2_20190412_045558_040<br>Magnitude: -2.77",
            "File: HFTS2_20190412_045602_040<br>Magnitude: -2.00",
            "File: HFTS2_20190412_045604_040<br>Magnitude: -2.78",
            "File: HFTS2_20190412_045608_040<br>Magnitude: -2.12",
            "File: HFTS2_20190412_045611_040<br>Magnitude: -2.60",
            "File: HFTS2_20190412_045620_040<br>Magnitude: -2.31",
            "File: HFTS2_20190412_045630_040<br>Magnitude: -2.65",
            "File: HFTS2_20190412_045644_040<br>Magnitude: -2.50",
            "File: HFTS2_20190412_045716_040<br>Magnitude: -2.37",
            "File: HFTS2_20190412_045727_040<br>Magnitude: -2.57",
            "File: HFTS2_20190412_045809_040<br>Magnitude: -2.58",
            "File: HFTS2_20190412_045818_040<br>Magnitude: -2.67",
            "File: HFTS2_20190412_045840_040<br>Magnitude: -2.77",
            "File: HFTS2_20190412_045938_040<br>Magnitude: -2.77",
            "File: HFTS2_20190412_045943_040<br>Magnitude: -2.39",
            "File: HFTS2_20190412_045952_040<br>Magnitude: -2.52",
            "File: HFTS2_20190412_050004_040<br>Magnitude: -2.35",
            "File: HFTS2_20190412_050011_040<br>Magnitude: -2.47",
            "File: HFTS2_20190412_050036_040<br>Magnitude: -2.61",
            "File: HFTS2_20190412_050053_040<br>Magnitude: -2.92",
            "File: HFTS2_20190412_050100_040<br>Magnitude: -2.58",
            "File: HFTS2_20190412_050127_040<br>Magnitude: -2.58",
            "File: HFTS2_20190412_050128_040<br>Magnitude: -2.57",
            "File: HFTS2_20190412_050133_040<br>Magnitude: -2.77",
            "File: HFTS2_20190412_050147_040<br>Magnitude: -2.71",
            "File: HFTS2_20190412_050202_040<br>Magnitude: -2.88",
            "File: HFTS2_20190412_050221_040<br>Magnitude: -2.82",
            "File: HFTS2_20190412_050315_040<br>Magnitude: -2.47",
            "File: HFTS2_20190412_050325_040<br>Magnitude: -2.62",
            "File: HFTS2_20190412_050358_040<br>Magnitude: -2.78",
            "File: HFTS2_20190412_050425_040<br>Magnitude: -2.75",
            "File: HFTS2_20190412_050456_040<br>Magnitude: -2.44",
            "File: HFTS2_20190412_050534_040<br>Magnitude: -2.59",
            "File: HFTS2_20190412_050607_040<br>Magnitude: -2.54"
           ],
           "type": "scatter3d",
           "x": [
            954198.7209
           ],
           "y": [
            849064.2112
           ],
           "z": [
            8255.2047
           ]
          }
         ],
         "name": "2019-04-12 04:47:57.424000"
        },
        {
         "data": [
          {
           "marker": {
            "cmax": -1.6189,
            "cmin": -2.9802,
            "color": [
             -2.0672
            ],
            "colorscale": [
             [
              0,
              "#440154"
             ],
             [
              0.1111111111111111,
              "#482878"
             ],
             [
              0.2222222222222222,
              "#3e4989"
             ],
             [
              0.3333333333333333,
              "#31688e"
             ],
             [
              0.4444444444444444,
              "#26828e"
             ],
             [
              0.5555555555555556,
              "#1f9e89"
             ],
             [
              0.6666666666666666,
              "#35b779"
             ],
             [
              0.7777777777777778,
              "#6ece58"
             ],
             [
              0.8888888888888888,
              "#b5de2b"
             ],
             [
              1,
              "#fde725"
             ]
            ],
            "size": [
             206.72000000000003
            ],
            "sizemode": "diameter",
            "sizeref": 25
           },
           "mode": "markers",
           "text": [
            "File: HFTS2_20190412_042831_040<br>Magnitude: -2.77",
            "File: HFTS2_20190412_042832_040<br>Magnitude: -2.73",
            "File: HFTS2_20190412_042833_040<br>Magnitude: -2.65",
            "File: HFTS2_20190412_042835_040<br>Magnitude: -2.65",
            "File: HFTS2_20190412_043437_040<br>Magnitude: -2.56",
            "File: HFTS2_20190412_043802_040<br>Magnitude: -2.35",
            "File: HFTS2_20190412_043803_040<br>Magnitude: -2.22",
            "File: HFTS2_20190412_044156_040<br>Magnitude: -2.03",
            "File: HFTS2_20190412_044403_040<br>Magnitude: -2.39",
            "File: HFTS2_20190412_044404_040<br>Magnitude: -2.10",
            "File: HFTS2_20190412_044435_040_Merged<br>Magnitude: -2.47",
            "File: HFTS2_20190412_044506_040<br>Magnitude: -2.32",
            "File: HFTS2_20190412_044516_040<br>Magnitude: -1.97",
            "File: HFTS2_20190412_044521_040<br>Magnitude: -2.07",
            "File: HFTS2_20190412_044522_040<br>Magnitude: -2.47",
            "File: HFTS2_20190412_044526_040<br>Magnitude: -2.74",
            "File: HFTS2_20190412_044540_040<br>Magnitude: -2.21",
            "File: HFTS2_20190412_044542_040<br>Magnitude: -2.56",
            "File: HFTS2_20190412_044543_040<br>Magnitude: -2.36",
            "File: HFTS2_20190412_044544_040<br>Magnitude: -2.59",
            "File: HFTS2_20190412_044545_040<br>Magnitude: -2.60",
            "File: HFTS2_20190412_044605_040<br>Magnitude: -2.71",
            "File: HFTS2_20190412_044619_040<br>Magnitude: -2.54",
            "File: HFTS2_20190412_044620_040<br>Magnitude: -1.81",
            "File: HFTS2_20190412_044623_040<br>Magnitude: -2.21",
            "File: HFTS2_20190412_044643_040<br>Magnitude: -2.30",
            "File: HFTS2_20190412_044647_040<br>Magnitude: -2.42",
            "File: HFTS2_20190412_044651_040<br>Magnitude: -2.46",
            "File: HFTS2_20190412_044659_040_Merged<br>Magnitude: -1.62",
            "File: HFTS2_20190412_044707_040<br>Magnitude: -2.09",
            "File: HFTS2_20190412_044731_040<br>Magnitude: -2.70",
            "File: HFTS2_20190412_044737_040<br>Magnitude: -2.41",
            "File: HFTS2_20190412_044741_040<br>Magnitude: -2.63",
            "File: HFTS2_20190412_044757_040<br>Magnitude: -2.12",
            "File: HFTS2_20190412_044759_040<br>Magnitude: -2.07",
            "File: HFTS2_20190412_044800_040<br>Magnitude: -2.53",
            "File: HFTS2_20190412_044803_040<br>Magnitude: -2.61",
            "File: HFTS2_20190412_044816_040<br>Magnitude: -2.12",
            "File: HFTS2_20190412_044822_040<br>Magnitude: -2.06",
            "File: HFTS2_20190412_044824_040<br>Magnitude: -2.02",
            "File: HFTS2_20190412_044829_040<br>Magnitude: -1.79",
            "File: HFTS2_20190412_044833_040<br>Magnitude: -2.29",
            "File: HFTS2_20190412_044841_040<br>Magnitude: -2.80",
            "File: HFTS2_20190412_044842_040<br>Magnitude: -2.24",
            "File: HFTS2_20190412_044903_040<br>Magnitude: -2.53",
            "File: HFTS2_20190412_044914_040<br>Magnitude: -2.58",
            "File: HFTS2_20190412_044945_040<br>Magnitude: -2.34",
            "File: HFTS2_20190412_044957_040<br>Magnitude: -2.58",
            "File: HFTS2_20190412_045027_040<br>Magnitude: -2.54",
            "File: HFTS2_20190412_045029_040<br>Magnitude: -2.63",
            "File: HFTS2_20190412_045035_040<br>Magnitude: -2.49",
            "File: HFTS2_20190412_045126_040<br>Magnitude: -2.40",
            "File: HFTS2_20190412_045127_040<br>Magnitude: -2.66",
            "File: HFTS2_20190412_045157_040<br>Magnitude: -2.08",
            "File: HFTS2_20190412_045254_040<br>Magnitude: -2.98",
            "File: HFTS2_20190412_045333_040<br>Magnitude: -2.15",
            "File: HFTS2_20190412_045344_040<br>Magnitude: -2.72",
            "File: HFTS2_20190412_045434_040<br>Magnitude: -2.50",
            "File: HFTS2_20190412_045451_040<br>Magnitude: -2.17",
            "File: HFTS2_20190412_045457_040<br>Magnitude: -2.51",
            "File: HFTS2_20190412_045523_040<br>Magnitude: -2.33",
            "File: HFTS2_20190412_045526_040<br>Magnitude: -2.80",
            "File: HFTS2_20190412_045528_040<br>Magnitude: -2.65",
            "File: HFTS2_20190412_045530_040<br>Magnitude: -2.49",
            "File: HFTS2_20190412_045535_040<br>Magnitude: -2.52",
            "File: HFTS2_20190412_045537_040<br>Magnitude: -2.76",
            "File: HFTS2_20190412_045550_040<br>Magnitude: -2.54",
            "File: HFTS2_20190412_045558_040<br>Magnitude: -2.77",
            "File: HFTS2_20190412_045602_040<br>Magnitude: -2.00",
            "File: HFTS2_20190412_045604_040<br>Magnitude: -2.78",
            "File: HFTS2_20190412_045608_040<br>Magnitude: -2.12",
            "File: HFTS2_20190412_045611_040<br>Magnitude: -2.60",
            "File: HFTS2_20190412_045620_040<br>Magnitude: -2.31",
            "File: HFTS2_20190412_045630_040<br>Magnitude: -2.65",
            "File: HFTS2_20190412_045644_040<br>Magnitude: -2.50",
            "File: HFTS2_20190412_045716_040<br>Magnitude: -2.37",
            "File: HFTS2_20190412_045727_040<br>Magnitude: -2.57",
            "File: HFTS2_20190412_045809_040<br>Magnitude: -2.58",
            "File: HFTS2_20190412_045818_040<br>Magnitude: -2.67",
            "File: HFTS2_20190412_045840_040<br>Magnitude: -2.77",
            "File: HFTS2_20190412_045938_040<br>Magnitude: -2.77",
            "File: HFTS2_20190412_045943_040<br>Magnitude: -2.39",
            "File: HFTS2_20190412_045952_040<br>Magnitude: -2.52",
            "File: HFTS2_20190412_050004_040<br>Magnitude: -2.35",
            "File: HFTS2_20190412_050011_040<br>Magnitude: -2.47",
            "File: HFTS2_20190412_050036_040<br>Magnitude: -2.61",
            "File: HFTS2_20190412_050053_040<br>Magnitude: -2.92",
            "File: HFTS2_20190412_050100_040<br>Magnitude: -2.58",
            "File: HFTS2_20190412_050127_040<br>Magnitude: -2.58",
            "File: HFTS2_20190412_050128_040<br>Magnitude: -2.57",
            "File: HFTS2_20190412_050133_040<br>Magnitude: -2.77",
            "File: HFTS2_20190412_050147_040<br>Magnitude: -2.71",
            "File: HFTS2_20190412_050202_040<br>Magnitude: -2.88",
            "File: HFTS2_20190412_050221_040<br>Magnitude: -2.82",
            "File: HFTS2_20190412_050315_040<br>Magnitude: -2.47",
            "File: HFTS2_20190412_050325_040<br>Magnitude: -2.62",
            "File: HFTS2_20190412_050358_040<br>Magnitude: -2.78",
            "File: HFTS2_20190412_050425_040<br>Magnitude: -2.75",
            "File: HFTS2_20190412_050456_040<br>Magnitude: -2.44",
            "File: HFTS2_20190412_050534_040<br>Magnitude: -2.59",
            "File: HFTS2_20190412_050607_040<br>Magnitude: -2.54"
           ],
           "type": "scatter3d",
           "x": [
            953940.0186
           ],
           "y": [
            849082.0436
           ],
           "z": [
            8550.6055
           ]
          }
         ],
         "name": "2019-04-12 04:47:59.428000"
        },
        {
         "data": [
          {
           "marker": {
            "cmax": -1.6189,
            "cmin": -2.9802,
            "color": [
             -2.5322
            ],
            "colorscale": [
             [
              0,
              "#440154"
             ],
             [
              0.1111111111111111,
              "#482878"
             ],
             [
              0.2222222222222222,
              "#3e4989"
             ],
             [
              0.3333333333333333,
              "#31688e"
             ],
             [
              0.4444444444444444,
              "#26828e"
             ],
             [
              0.5555555555555556,
              "#1f9e89"
             ],
             [
              0.6666666666666666,
              "#35b779"
             ],
             [
              0.7777777777777778,
              "#6ece58"
             ],
             [
              0.8888888888888888,
              "#b5de2b"
             ],
             [
              1,
              "#fde725"
             ]
            ],
            "size": [
             253.22
            ],
            "sizemode": "diameter",
            "sizeref": 25
           },
           "mode": "markers",
           "text": [
            "File: HFTS2_20190412_042831_040<br>Magnitude: -2.77",
            "File: HFTS2_20190412_042832_040<br>Magnitude: -2.73",
            "File: HFTS2_20190412_042833_040<br>Magnitude: -2.65",
            "File: HFTS2_20190412_042835_040<br>Magnitude: -2.65",
            "File: HFTS2_20190412_043437_040<br>Magnitude: -2.56",
            "File: HFTS2_20190412_043802_040<br>Magnitude: -2.35",
            "File: HFTS2_20190412_043803_040<br>Magnitude: -2.22",
            "File: HFTS2_20190412_044156_040<br>Magnitude: -2.03",
            "File: HFTS2_20190412_044403_040<br>Magnitude: -2.39",
            "File: HFTS2_20190412_044404_040<br>Magnitude: -2.10",
            "File: HFTS2_20190412_044435_040_Merged<br>Magnitude: -2.47",
            "File: HFTS2_20190412_044506_040<br>Magnitude: -2.32",
            "File: HFTS2_20190412_044516_040<br>Magnitude: -1.97",
            "File: HFTS2_20190412_044521_040<br>Magnitude: -2.07",
            "File: HFTS2_20190412_044522_040<br>Magnitude: -2.47",
            "File: HFTS2_20190412_044526_040<br>Magnitude: -2.74",
            "File: HFTS2_20190412_044540_040<br>Magnitude: -2.21",
            "File: HFTS2_20190412_044542_040<br>Magnitude: -2.56",
            "File: HFTS2_20190412_044543_040<br>Magnitude: -2.36",
            "File: HFTS2_20190412_044544_040<br>Magnitude: -2.59",
            "File: HFTS2_20190412_044545_040<br>Magnitude: -2.60",
            "File: HFTS2_20190412_044605_040<br>Magnitude: -2.71",
            "File: HFTS2_20190412_044619_040<br>Magnitude: -2.54",
            "File: HFTS2_20190412_044620_040<br>Magnitude: -1.81",
            "File: HFTS2_20190412_044623_040<br>Magnitude: -2.21",
            "File: HFTS2_20190412_044643_040<br>Magnitude: -2.30",
            "File: HFTS2_20190412_044647_040<br>Magnitude: -2.42",
            "File: HFTS2_20190412_044651_040<br>Magnitude: -2.46",
            "File: HFTS2_20190412_044659_040_Merged<br>Magnitude: -1.62",
            "File: HFTS2_20190412_044707_040<br>Magnitude: -2.09",
            "File: HFTS2_20190412_044731_040<br>Magnitude: -2.70",
            "File: HFTS2_20190412_044737_040<br>Magnitude: -2.41",
            "File: HFTS2_20190412_044741_040<br>Magnitude: -2.63",
            "File: HFTS2_20190412_044757_040<br>Magnitude: -2.12",
            "File: HFTS2_20190412_044759_040<br>Magnitude: -2.07",
            "File: HFTS2_20190412_044800_040<br>Magnitude: -2.53",
            "File: HFTS2_20190412_044803_040<br>Magnitude: -2.61",
            "File: HFTS2_20190412_044816_040<br>Magnitude: -2.12",
            "File: HFTS2_20190412_044822_040<br>Magnitude: -2.06",
            "File: HFTS2_20190412_044824_040<br>Magnitude: -2.02",
            "File: HFTS2_20190412_044829_040<br>Magnitude: -1.79",
            "File: HFTS2_20190412_044833_040<br>Magnitude: -2.29",
            "File: HFTS2_20190412_044841_040<br>Magnitude: -2.80",
            "File: HFTS2_20190412_044842_040<br>Magnitude: -2.24",
            "File: HFTS2_20190412_044903_040<br>Magnitude: -2.53",
            "File: HFTS2_20190412_044914_040<br>Magnitude: -2.58",
            "File: HFTS2_20190412_044945_040<br>Magnitude: -2.34",
            "File: HFTS2_20190412_044957_040<br>Magnitude: -2.58",
            "File: HFTS2_20190412_045027_040<br>Magnitude: -2.54",
            "File: HFTS2_20190412_045029_040<br>Magnitude: -2.63",
            "File: HFTS2_20190412_045035_040<br>Magnitude: -2.49",
            "File: HFTS2_20190412_045126_040<br>Magnitude: -2.40",
            "File: HFTS2_20190412_045127_040<br>Magnitude: -2.66",
            "File: HFTS2_20190412_045157_040<br>Magnitude: -2.08",
            "File: HFTS2_20190412_045254_040<br>Magnitude: -2.98",
            "File: HFTS2_20190412_045333_040<br>Magnitude: -2.15",
            "File: HFTS2_20190412_045344_040<br>Magnitude: -2.72",
            "File: HFTS2_20190412_045434_040<br>Magnitude: -2.50",
            "File: HFTS2_20190412_045451_040<br>Magnitude: -2.17",
            "File: HFTS2_20190412_045457_040<br>Magnitude: -2.51",
            "File: HFTS2_20190412_045523_040<br>Magnitude: -2.33",
            "File: HFTS2_20190412_045526_040<br>Magnitude: -2.80",
            "File: HFTS2_20190412_045528_040<br>Magnitude: -2.65",
            "File: HFTS2_20190412_045530_040<br>Magnitude: -2.49",
            "File: HFTS2_20190412_045535_040<br>Magnitude: -2.52",
            "File: HFTS2_20190412_045537_040<br>Magnitude: -2.76",
            "File: HFTS2_20190412_045550_040<br>Magnitude: -2.54",
            "File: HFTS2_20190412_045558_040<br>Magnitude: -2.77",
            "File: HFTS2_20190412_045602_040<br>Magnitude: -2.00",
            "File: HFTS2_20190412_045604_040<br>Magnitude: -2.78",
            "File: HFTS2_20190412_045608_040<br>Magnitude: -2.12",
            "File: HFTS2_20190412_045611_040<br>Magnitude: -2.60",
            "File: HFTS2_20190412_045620_040<br>Magnitude: -2.31",
            "File: HFTS2_20190412_045630_040<br>Magnitude: -2.65",
            "File: HFTS2_20190412_045644_040<br>Magnitude: -2.50",
            "File: HFTS2_20190412_045716_040<br>Magnitude: -2.37",
            "File: HFTS2_20190412_045727_040<br>Magnitude: -2.57",
            "File: HFTS2_20190412_045809_040<br>Magnitude: -2.58",
            "File: HFTS2_20190412_045818_040<br>Magnitude: -2.67",
            "File: HFTS2_20190412_045840_040<br>Magnitude: -2.77",
            "File: HFTS2_20190412_045938_040<br>Magnitude: -2.77",
            "File: HFTS2_20190412_045943_040<br>Magnitude: -2.39",
            "File: HFTS2_20190412_045952_040<br>Magnitude: -2.52",
            "File: HFTS2_20190412_050004_040<br>Magnitude: -2.35",
            "File: HFTS2_20190412_050011_040<br>Magnitude: -2.47",
            "File: HFTS2_20190412_050036_040<br>Magnitude: -2.61",
            "File: HFTS2_20190412_050053_040<br>Magnitude: -2.92",
            "File: HFTS2_20190412_050100_040<br>Magnitude: -2.58",
            "File: HFTS2_20190412_050127_040<br>Magnitude: -2.58",
            "File: HFTS2_20190412_050128_040<br>Magnitude: -2.57",
            "File: HFTS2_20190412_050133_040<br>Magnitude: -2.77",
            "File: HFTS2_20190412_050147_040<br>Magnitude: -2.71",
            "File: HFTS2_20190412_050202_040<br>Magnitude: -2.88",
            "File: HFTS2_20190412_050221_040<br>Magnitude: -2.82",
            "File: HFTS2_20190412_050315_040<br>Magnitude: -2.47",
            "File: HFTS2_20190412_050325_040<br>Magnitude: -2.62",
            "File: HFTS2_20190412_050358_040<br>Magnitude: -2.78",
            "File: HFTS2_20190412_050425_040<br>Magnitude: -2.75",
            "File: HFTS2_20190412_050456_040<br>Magnitude: -2.44",
            "File: HFTS2_20190412_050534_040<br>Magnitude: -2.59",
            "File: HFTS2_20190412_050607_040<br>Magnitude: -2.54"
           ],
           "type": "scatter3d",
           "x": [
            954077.5653
           ],
           "y": [
            849152.6858
           ],
           "z": [
            8537.2001
           ]
          }
         ],
         "name": "2019-04-12 04:48:00.266000"
        },
        {
         "data": [
          {
           "marker": {
            "cmax": -1.6189,
            "cmin": -2.9802,
            "color": [
             -2.606
            ],
            "colorscale": [
             [
              0,
              "#440154"
             ],
             [
              0.1111111111111111,
              "#482878"
             ],
             [
              0.2222222222222222,
              "#3e4989"
             ],
             [
              0.3333333333333333,
              "#31688e"
             ],
             [
              0.4444444444444444,
              "#26828e"
             ],
             [
              0.5555555555555556,
              "#1f9e89"
             ],
             [
              0.6666666666666666,
              "#35b779"
             ],
             [
              0.7777777777777778,
              "#6ece58"
             ],
             [
              0.8888888888888888,
              "#b5de2b"
             ],
             [
              1,
              "#fde725"
             ]
            ],
            "size": [
             260.59999999999997
            ],
            "sizemode": "diameter",
            "sizeref": 25
           },
           "mode": "markers",
           "text": [
            "File: HFTS2_20190412_042831_040<br>Magnitude: -2.77",
            "File: HFTS2_20190412_042832_040<br>Magnitude: -2.73",
            "File: HFTS2_20190412_042833_040<br>Magnitude: -2.65",
            "File: HFTS2_20190412_042835_040<br>Magnitude: -2.65",
            "File: HFTS2_20190412_043437_040<br>Magnitude: -2.56",
            "File: HFTS2_20190412_043802_040<br>Magnitude: -2.35",
            "File: HFTS2_20190412_043803_040<br>Magnitude: -2.22",
            "File: HFTS2_20190412_044156_040<br>Magnitude: -2.03",
            "File: HFTS2_20190412_044403_040<br>Magnitude: -2.39",
            "File: HFTS2_20190412_044404_040<br>Magnitude: -2.10",
            "File: HFTS2_20190412_044435_040_Merged<br>Magnitude: -2.47",
            "File: HFTS2_20190412_044506_040<br>Magnitude: -2.32",
            "File: HFTS2_20190412_044516_040<br>Magnitude: -1.97",
            "File: HFTS2_20190412_044521_040<br>Magnitude: -2.07",
            "File: HFTS2_20190412_044522_040<br>Magnitude: -2.47",
            "File: HFTS2_20190412_044526_040<br>Magnitude: -2.74",
            "File: HFTS2_20190412_044540_040<br>Magnitude: -2.21",
            "File: HFTS2_20190412_044542_040<br>Magnitude: -2.56",
            "File: HFTS2_20190412_044543_040<br>Magnitude: -2.36",
            "File: HFTS2_20190412_044544_040<br>Magnitude: -2.59",
            "File: HFTS2_20190412_044545_040<br>Magnitude: -2.60",
            "File: HFTS2_20190412_044605_040<br>Magnitude: -2.71",
            "File: HFTS2_20190412_044619_040<br>Magnitude: -2.54",
            "File: HFTS2_20190412_044620_040<br>Magnitude: -1.81",
            "File: HFTS2_20190412_044623_040<br>Magnitude: -2.21",
            "File: HFTS2_20190412_044643_040<br>Magnitude: -2.30",
            "File: HFTS2_20190412_044647_040<br>Magnitude: -2.42",
            "File: HFTS2_20190412_044651_040<br>Magnitude: -2.46",
            "File: HFTS2_20190412_044659_040_Merged<br>Magnitude: -1.62",
            "File: HFTS2_20190412_044707_040<br>Magnitude: -2.09",
            "File: HFTS2_20190412_044731_040<br>Magnitude: -2.70",
            "File: HFTS2_20190412_044737_040<br>Magnitude: -2.41",
            "File: HFTS2_20190412_044741_040<br>Magnitude: -2.63",
            "File: HFTS2_20190412_044757_040<br>Magnitude: -2.12",
            "File: HFTS2_20190412_044759_040<br>Magnitude: -2.07",
            "File: HFTS2_20190412_044800_040<br>Magnitude: -2.53",
            "File: HFTS2_20190412_044803_040<br>Magnitude: -2.61",
            "File: HFTS2_20190412_044816_040<br>Magnitude: -2.12",
            "File: HFTS2_20190412_044822_040<br>Magnitude: -2.06",
            "File: HFTS2_20190412_044824_040<br>Magnitude: -2.02",
            "File: HFTS2_20190412_044829_040<br>Magnitude: -1.79",
            "File: HFTS2_20190412_044833_040<br>Magnitude: -2.29",
            "File: HFTS2_20190412_044841_040<br>Magnitude: -2.80",
            "File: HFTS2_20190412_044842_040<br>Magnitude: -2.24",
            "File: HFTS2_20190412_044903_040<br>Magnitude: -2.53",
            "File: HFTS2_20190412_044914_040<br>Magnitude: -2.58",
            "File: HFTS2_20190412_044945_040<br>Magnitude: -2.34",
            "File: HFTS2_20190412_044957_040<br>Magnitude: -2.58",
            "File: HFTS2_20190412_045027_040<br>Magnitude: -2.54",
            "File: HFTS2_20190412_045029_040<br>Magnitude: -2.63",
            "File: HFTS2_20190412_045035_040<br>Magnitude: -2.49",
            "File: HFTS2_20190412_045126_040<br>Magnitude: -2.40",
            "File: HFTS2_20190412_045127_040<br>Magnitude: -2.66",
            "File: HFTS2_20190412_045157_040<br>Magnitude: -2.08",
            "File: HFTS2_20190412_045254_040<br>Magnitude: -2.98",
            "File: HFTS2_20190412_045333_040<br>Magnitude: -2.15",
            "File: HFTS2_20190412_045344_040<br>Magnitude: -2.72",
            "File: HFTS2_20190412_045434_040<br>Magnitude: -2.50",
            "File: HFTS2_20190412_045451_040<br>Magnitude: -2.17",
            "File: HFTS2_20190412_045457_040<br>Magnitude: -2.51",
            "File: HFTS2_20190412_045523_040<br>Magnitude: -2.33",
            "File: HFTS2_20190412_045526_040<br>Magnitude: -2.80",
            "File: HFTS2_20190412_045528_040<br>Magnitude: -2.65",
            "File: HFTS2_20190412_045530_040<br>Magnitude: -2.49",
            "File: HFTS2_20190412_045535_040<br>Magnitude: -2.52",
            "File: HFTS2_20190412_045537_040<br>Magnitude: -2.76",
            "File: HFTS2_20190412_045550_040<br>Magnitude: -2.54",
            "File: HFTS2_20190412_045558_040<br>Magnitude: -2.77",
            "File: HFTS2_20190412_045602_040<br>Magnitude: -2.00",
            "File: HFTS2_20190412_045604_040<br>Magnitude: -2.78",
            "File: HFTS2_20190412_045608_040<br>Magnitude: -2.12",
            "File: HFTS2_20190412_045611_040<br>Magnitude: -2.60",
            "File: HFTS2_20190412_045620_040<br>Magnitude: -2.31",
            "File: HFTS2_20190412_045630_040<br>Magnitude: -2.65",
            "File: HFTS2_20190412_045644_040<br>Magnitude: -2.50",
            "File: HFTS2_20190412_045716_040<br>Magnitude: -2.37",
            "File: HFTS2_20190412_045727_040<br>Magnitude: -2.57",
            "File: HFTS2_20190412_045809_040<br>Magnitude: -2.58",
            "File: HFTS2_20190412_045818_040<br>Magnitude: -2.67",
            "File: HFTS2_20190412_045840_040<br>Magnitude: -2.77",
            "File: HFTS2_20190412_045938_040<br>Magnitude: -2.77",
            "File: HFTS2_20190412_045943_040<br>Magnitude: -2.39",
            "File: HFTS2_20190412_045952_040<br>Magnitude: -2.52",
            "File: HFTS2_20190412_050004_040<br>Magnitude: -2.35",
            "File: HFTS2_20190412_050011_040<br>Magnitude: -2.47",
            "File: HFTS2_20190412_050036_040<br>Magnitude: -2.61",
            "File: HFTS2_20190412_050053_040<br>Magnitude: -2.92",
            "File: HFTS2_20190412_050100_040<br>Magnitude: -2.58",
            "File: HFTS2_20190412_050127_040<br>Magnitude: -2.58",
            "File: HFTS2_20190412_050128_040<br>Magnitude: -2.57",
            "File: HFTS2_20190412_050133_040<br>Magnitude: -2.77",
            "File: HFTS2_20190412_050147_040<br>Magnitude: -2.71",
            "File: HFTS2_20190412_050202_040<br>Magnitude: -2.88",
            "File: HFTS2_20190412_050221_040<br>Magnitude: -2.82",
            "File: HFTS2_20190412_050315_040<br>Magnitude: -2.47",
            "File: HFTS2_20190412_050325_040<br>Magnitude: -2.62",
            "File: HFTS2_20190412_050358_040<br>Magnitude: -2.78",
            "File: HFTS2_20190412_050425_040<br>Magnitude: -2.75",
            "File: HFTS2_20190412_050456_040<br>Magnitude: -2.44",
            "File: HFTS2_20190412_050534_040<br>Magnitude: -2.59",
            "File: HFTS2_20190412_050607_040<br>Magnitude: -2.54"
           ],
           "type": "scatter3d",
           "x": [
            954030.8802
           ],
           "y": [
            849105.5597
           ],
           "z": [
            8436.5347
           ]
          }
         ],
         "name": "2019-04-12 04:48:03.460000"
        },
        {
         "data": [
          {
           "marker": {
            "cmax": -1.6189,
            "cmin": -2.9802,
            "color": [
             -2.1187
            ],
            "colorscale": [
             [
              0,
              "#440154"
             ],
             [
              0.1111111111111111,
              "#482878"
             ],
             [
              0.2222222222222222,
              "#3e4989"
             ],
             [
              0.3333333333333333,
              "#31688e"
             ],
             [
              0.4444444444444444,
              "#26828e"
             ],
             [
              0.5555555555555556,
              "#1f9e89"
             ],
             [
              0.6666666666666666,
              "#35b779"
             ],
             [
              0.7777777777777778,
              "#6ece58"
             ],
             [
              0.8888888888888888,
              "#b5de2b"
             ],
             [
              1,
              "#fde725"
             ]
            ],
            "size": [
             211.87
            ],
            "sizemode": "diameter",
            "sizeref": 25
           },
           "mode": "markers",
           "text": [
            "File: HFTS2_20190412_042831_040<br>Magnitude: -2.77",
            "File: HFTS2_20190412_042832_040<br>Magnitude: -2.73",
            "File: HFTS2_20190412_042833_040<br>Magnitude: -2.65",
            "File: HFTS2_20190412_042835_040<br>Magnitude: -2.65",
            "File: HFTS2_20190412_043437_040<br>Magnitude: -2.56",
            "File: HFTS2_20190412_043802_040<br>Magnitude: -2.35",
            "File: HFTS2_20190412_043803_040<br>Magnitude: -2.22",
            "File: HFTS2_20190412_044156_040<br>Magnitude: -2.03",
            "File: HFTS2_20190412_044403_040<br>Magnitude: -2.39",
            "File: HFTS2_20190412_044404_040<br>Magnitude: -2.10",
            "File: HFTS2_20190412_044435_040_Merged<br>Magnitude: -2.47",
            "File: HFTS2_20190412_044506_040<br>Magnitude: -2.32",
            "File: HFTS2_20190412_044516_040<br>Magnitude: -1.97",
            "File: HFTS2_20190412_044521_040<br>Magnitude: -2.07",
            "File: HFTS2_20190412_044522_040<br>Magnitude: -2.47",
            "File: HFTS2_20190412_044526_040<br>Magnitude: -2.74",
            "File: HFTS2_20190412_044540_040<br>Magnitude: -2.21",
            "File: HFTS2_20190412_044542_040<br>Magnitude: -2.56",
            "File: HFTS2_20190412_044543_040<br>Magnitude: -2.36",
            "File: HFTS2_20190412_044544_040<br>Magnitude: -2.59",
            "File: HFTS2_20190412_044545_040<br>Magnitude: -2.60",
            "File: HFTS2_20190412_044605_040<br>Magnitude: -2.71",
            "File: HFTS2_20190412_044619_040<br>Magnitude: -2.54",
            "File: HFTS2_20190412_044620_040<br>Magnitude: -1.81",
            "File: HFTS2_20190412_044623_040<br>Magnitude: -2.21",
            "File: HFTS2_20190412_044643_040<br>Magnitude: -2.30",
            "File: HFTS2_20190412_044647_040<br>Magnitude: -2.42",
            "File: HFTS2_20190412_044651_040<br>Magnitude: -2.46",
            "File: HFTS2_20190412_044659_040_Merged<br>Magnitude: -1.62",
            "File: HFTS2_20190412_044707_040<br>Magnitude: -2.09",
            "File: HFTS2_20190412_044731_040<br>Magnitude: -2.70",
            "File: HFTS2_20190412_044737_040<br>Magnitude: -2.41",
            "File: HFTS2_20190412_044741_040<br>Magnitude: -2.63",
            "File: HFTS2_20190412_044757_040<br>Magnitude: -2.12",
            "File: HFTS2_20190412_044759_040<br>Magnitude: -2.07",
            "File: HFTS2_20190412_044800_040<br>Magnitude: -2.53",
            "File: HFTS2_20190412_044803_040<br>Magnitude: -2.61",
            "File: HFTS2_20190412_044816_040<br>Magnitude: -2.12",
            "File: HFTS2_20190412_044822_040<br>Magnitude: -2.06",
            "File: HFTS2_20190412_044824_040<br>Magnitude: -2.02",
            "File: HFTS2_20190412_044829_040<br>Magnitude: -1.79",
            "File: HFTS2_20190412_044833_040<br>Magnitude: -2.29",
            "File: HFTS2_20190412_044841_040<br>Magnitude: -2.80",
            "File: HFTS2_20190412_044842_040<br>Magnitude: -2.24",
            "File: HFTS2_20190412_044903_040<br>Magnitude: -2.53",
            "File: HFTS2_20190412_044914_040<br>Magnitude: -2.58",
            "File: HFTS2_20190412_044945_040<br>Magnitude: -2.34",
            "File: HFTS2_20190412_044957_040<br>Magnitude: -2.58",
            "File: HFTS2_20190412_045027_040<br>Magnitude: -2.54",
            "File: HFTS2_20190412_045029_040<br>Magnitude: -2.63",
            "File: HFTS2_20190412_045035_040<br>Magnitude: -2.49",
            "File: HFTS2_20190412_045126_040<br>Magnitude: -2.40",
            "File: HFTS2_20190412_045127_040<br>Magnitude: -2.66",
            "File: HFTS2_20190412_045157_040<br>Magnitude: -2.08",
            "File: HFTS2_20190412_045254_040<br>Magnitude: -2.98",
            "File: HFTS2_20190412_045333_040<br>Magnitude: -2.15",
            "File: HFTS2_20190412_045344_040<br>Magnitude: -2.72",
            "File: HFTS2_20190412_045434_040<br>Magnitude: -2.50",
            "File: HFTS2_20190412_045451_040<br>Magnitude: -2.17",
            "File: HFTS2_20190412_045457_040<br>Magnitude: -2.51",
            "File: HFTS2_20190412_045523_040<br>Magnitude: -2.33",
            "File: HFTS2_20190412_045526_040<br>Magnitude: -2.80",
            "File: HFTS2_20190412_045528_040<br>Magnitude: -2.65",
            "File: HFTS2_20190412_045530_040<br>Magnitude: -2.49",
            "File: HFTS2_20190412_045535_040<br>Magnitude: -2.52",
            "File: HFTS2_20190412_045537_040<br>Magnitude: -2.76",
            "File: HFTS2_20190412_045550_040<br>Magnitude: -2.54",
            "File: HFTS2_20190412_045558_040<br>Magnitude: -2.77",
            "File: HFTS2_20190412_045602_040<br>Magnitude: -2.00",
            "File: HFTS2_20190412_045604_040<br>Magnitude: -2.78",
            "File: HFTS2_20190412_045608_040<br>Magnitude: -2.12",
            "File: HFTS2_20190412_045611_040<br>Magnitude: -2.60",
            "File: HFTS2_20190412_045620_040<br>Magnitude: -2.31",
            "File: HFTS2_20190412_045630_040<br>Magnitude: -2.65",
            "File: HFTS2_20190412_045644_040<br>Magnitude: -2.50",
            "File: HFTS2_20190412_045716_040<br>Magnitude: -2.37",
            "File: HFTS2_20190412_045727_040<br>Magnitude: -2.57",
            "File: HFTS2_20190412_045809_040<br>Magnitude: -2.58",
            "File: HFTS2_20190412_045818_040<br>Magnitude: -2.67",
            "File: HFTS2_20190412_045840_040<br>Magnitude: -2.77",
            "File: HFTS2_20190412_045938_040<br>Magnitude: -2.77",
            "File: HFTS2_20190412_045943_040<br>Magnitude: -2.39",
            "File: HFTS2_20190412_045952_040<br>Magnitude: -2.52",
            "File: HFTS2_20190412_050004_040<br>Magnitude: -2.35",
            "File: HFTS2_20190412_050011_040<br>Magnitude: -2.47",
            "File: HFTS2_20190412_050036_040<br>Magnitude: -2.61",
            "File: HFTS2_20190412_050053_040<br>Magnitude: -2.92",
            "File: HFTS2_20190412_050100_040<br>Magnitude: -2.58",
            "File: HFTS2_20190412_050127_040<br>Magnitude: -2.58",
            "File: HFTS2_20190412_050128_040<br>Magnitude: -2.57",
            "File: HFTS2_20190412_050133_040<br>Magnitude: -2.77",
            "File: HFTS2_20190412_050147_040<br>Magnitude: -2.71",
            "File: HFTS2_20190412_050202_040<br>Magnitude: -2.88",
            "File: HFTS2_20190412_050221_040<br>Magnitude: -2.82",
            "File: HFTS2_20190412_050315_040<br>Magnitude: -2.47",
            "File: HFTS2_20190412_050325_040<br>Magnitude: -2.62",
            "File: HFTS2_20190412_050358_040<br>Magnitude: -2.78",
            "File: HFTS2_20190412_050425_040<br>Magnitude: -2.75",
            "File: HFTS2_20190412_050456_040<br>Magnitude: -2.44",
            "File: HFTS2_20190412_050534_040<br>Magnitude: -2.59",
            "File: HFTS2_20190412_050607_040<br>Magnitude: -2.54"
           ],
           "type": "scatter3d",
           "x": [
            954565.8225
           ],
           "y": [
            849162.2244
           ],
           "z": [
            8034.4346
           ]
          }
         ],
         "name": "2019-04-12 04:48:16.529000"
        },
        {
         "data": [
          {
           "marker": {
            "cmax": -1.6189,
            "cmin": -2.9802,
            "color": [
             -2.0576
            ],
            "colorscale": [
             [
              0,
              "#440154"
             ],
             [
              0.1111111111111111,
              "#482878"
             ],
             [
              0.2222222222222222,
              "#3e4989"
             ],
             [
              0.3333333333333333,
              "#31688e"
             ],
             [
              0.4444444444444444,
              "#26828e"
             ],
             [
              0.5555555555555556,
              "#1f9e89"
             ],
             [
              0.6666666666666666,
              "#35b779"
             ],
             [
              0.7777777777777778,
              "#6ece58"
             ],
             [
              0.8888888888888888,
              "#b5de2b"
             ],
             [
              1,
              "#fde725"
             ]
            ],
            "size": [
             205.76
            ],
            "sizemode": "diameter",
            "sizeref": 25
           },
           "mode": "markers",
           "text": [
            "File: HFTS2_20190412_042831_040<br>Magnitude: -2.77",
            "File: HFTS2_20190412_042832_040<br>Magnitude: -2.73",
            "File: HFTS2_20190412_042833_040<br>Magnitude: -2.65",
            "File: HFTS2_20190412_042835_040<br>Magnitude: -2.65",
            "File: HFTS2_20190412_043437_040<br>Magnitude: -2.56",
            "File: HFTS2_20190412_043802_040<br>Magnitude: -2.35",
            "File: HFTS2_20190412_043803_040<br>Magnitude: -2.22",
            "File: HFTS2_20190412_044156_040<br>Magnitude: -2.03",
            "File: HFTS2_20190412_044403_040<br>Magnitude: -2.39",
            "File: HFTS2_20190412_044404_040<br>Magnitude: -2.10",
            "File: HFTS2_20190412_044435_040_Merged<br>Magnitude: -2.47",
            "File: HFTS2_20190412_044506_040<br>Magnitude: -2.32",
            "File: HFTS2_20190412_044516_040<br>Magnitude: -1.97",
            "File: HFTS2_20190412_044521_040<br>Magnitude: -2.07",
            "File: HFTS2_20190412_044522_040<br>Magnitude: -2.47",
            "File: HFTS2_20190412_044526_040<br>Magnitude: -2.74",
            "File: HFTS2_20190412_044540_040<br>Magnitude: -2.21",
            "File: HFTS2_20190412_044542_040<br>Magnitude: -2.56",
            "File: HFTS2_20190412_044543_040<br>Magnitude: -2.36",
            "File: HFTS2_20190412_044544_040<br>Magnitude: -2.59",
            "File: HFTS2_20190412_044545_040<br>Magnitude: -2.60",
            "File: HFTS2_20190412_044605_040<br>Magnitude: -2.71",
            "File: HFTS2_20190412_044619_040<br>Magnitude: -2.54",
            "File: HFTS2_20190412_044620_040<br>Magnitude: -1.81",
            "File: HFTS2_20190412_044623_040<br>Magnitude: -2.21",
            "File: HFTS2_20190412_044643_040<br>Magnitude: -2.30",
            "File: HFTS2_20190412_044647_040<br>Magnitude: -2.42",
            "File: HFTS2_20190412_044651_040<br>Magnitude: -2.46",
            "File: HFTS2_20190412_044659_040_Merged<br>Magnitude: -1.62",
            "File: HFTS2_20190412_044707_040<br>Magnitude: -2.09",
            "File: HFTS2_20190412_044731_040<br>Magnitude: -2.70",
            "File: HFTS2_20190412_044737_040<br>Magnitude: -2.41",
            "File: HFTS2_20190412_044741_040<br>Magnitude: -2.63",
            "File: HFTS2_20190412_044757_040<br>Magnitude: -2.12",
            "File: HFTS2_20190412_044759_040<br>Magnitude: -2.07",
            "File: HFTS2_20190412_044800_040<br>Magnitude: -2.53",
            "File: HFTS2_20190412_044803_040<br>Magnitude: -2.61",
            "File: HFTS2_20190412_044816_040<br>Magnitude: -2.12",
            "File: HFTS2_20190412_044822_040<br>Magnitude: -2.06",
            "File: HFTS2_20190412_044824_040<br>Magnitude: -2.02",
            "File: HFTS2_20190412_044829_040<br>Magnitude: -1.79",
            "File: HFTS2_20190412_044833_040<br>Magnitude: -2.29",
            "File: HFTS2_20190412_044841_040<br>Magnitude: -2.80",
            "File: HFTS2_20190412_044842_040<br>Magnitude: -2.24",
            "File: HFTS2_20190412_044903_040<br>Magnitude: -2.53",
            "File: HFTS2_20190412_044914_040<br>Magnitude: -2.58",
            "File: HFTS2_20190412_044945_040<br>Magnitude: -2.34",
            "File: HFTS2_20190412_044957_040<br>Magnitude: -2.58",
            "File: HFTS2_20190412_045027_040<br>Magnitude: -2.54",
            "File: HFTS2_20190412_045029_040<br>Magnitude: -2.63",
            "File: HFTS2_20190412_045035_040<br>Magnitude: -2.49",
            "File: HFTS2_20190412_045126_040<br>Magnitude: -2.40",
            "File: HFTS2_20190412_045127_040<br>Magnitude: -2.66",
            "File: HFTS2_20190412_045157_040<br>Magnitude: -2.08",
            "File: HFTS2_20190412_045254_040<br>Magnitude: -2.98",
            "File: HFTS2_20190412_045333_040<br>Magnitude: -2.15",
            "File: HFTS2_20190412_045344_040<br>Magnitude: -2.72",
            "File: HFTS2_20190412_045434_040<br>Magnitude: -2.50",
            "File: HFTS2_20190412_045451_040<br>Magnitude: -2.17",
            "File: HFTS2_20190412_045457_040<br>Magnitude: -2.51",
            "File: HFTS2_20190412_045523_040<br>Magnitude: -2.33",
            "File: HFTS2_20190412_045526_040<br>Magnitude: -2.80",
            "File: HFTS2_20190412_045528_040<br>Magnitude: -2.65",
            "File: HFTS2_20190412_045530_040<br>Magnitude: -2.49",
            "File: HFTS2_20190412_045535_040<br>Magnitude: -2.52",
            "File: HFTS2_20190412_045537_040<br>Magnitude: -2.76",
            "File: HFTS2_20190412_045550_040<br>Magnitude: -2.54",
            "File: HFTS2_20190412_045558_040<br>Magnitude: -2.77",
            "File: HFTS2_20190412_045602_040<br>Magnitude: -2.00",
            "File: HFTS2_20190412_045604_040<br>Magnitude: -2.78",
            "File: HFTS2_20190412_045608_040<br>Magnitude: -2.12",
            "File: HFTS2_20190412_045611_040<br>Magnitude: -2.60",
            "File: HFTS2_20190412_045620_040<br>Magnitude: -2.31",
            "File: HFTS2_20190412_045630_040<br>Magnitude: -2.65",
            "File: HFTS2_20190412_045644_040<br>Magnitude: -2.50",
            "File: HFTS2_20190412_045716_040<br>Magnitude: -2.37",
            "File: HFTS2_20190412_045727_040<br>Magnitude: -2.57",
            "File: HFTS2_20190412_045809_040<br>Magnitude: -2.58",
            "File: HFTS2_20190412_045818_040<br>Magnitude: -2.67",
            "File: HFTS2_20190412_045840_040<br>Magnitude: -2.77",
            "File: HFTS2_20190412_045938_040<br>Magnitude: -2.77",
            "File: HFTS2_20190412_045943_040<br>Magnitude: -2.39",
            "File: HFTS2_20190412_045952_040<br>Magnitude: -2.52",
            "File: HFTS2_20190412_050004_040<br>Magnitude: -2.35",
            "File: HFTS2_20190412_050011_040<br>Magnitude: -2.47",
            "File: HFTS2_20190412_050036_040<br>Magnitude: -2.61",
            "File: HFTS2_20190412_050053_040<br>Magnitude: -2.92",
            "File: HFTS2_20190412_050100_040<br>Magnitude: -2.58",
            "File: HFTS2_20190412_050127_040<br>Magnitude: -2.58",
            "File: HFTS2_20190412_050128_040<br>Magnitude: -2.57",
            "File: HFTS2_20190412_050133_040<br>Magnitude: -2.77",
            "File: HFTS2_20190412_050147_040<br>Magnitude: -2.71",
            "File: HFTS2_20190412_050202_040<br>Magnitude: -2.88",
            "File: HFTS2_20190412_050221_040<br>Magnitude: -2.82",
            "File: HFTS2_20190412_050315_040<br>Magnitude: -2.47",
            "File: HFTS2_20190412_050325_040<br>Magnitude: -2.62",
            "File: HFTS2_20190412_050358_040<br>Magnitude: -2.78",
            "File: HFTS2_20190412_050425_040<br>Magnitude: -2.75",
            "File: HFTS2_20190412_050456_040<br>Magnitude: -2.44",
            "File: HFTS2_20190412_050534_040<br>Magnitude: -2.59",
            "File: HFTS2_20190412_050607_040<br>Magnitude: -2.54"
           ],
           "type": "scatter3d",
           "x": [
            954695.1096
           ],
           "y": [
            848975.7994
           ],
           "z": [
            8162.6708
           ]
          }
         ],
         "name": "2019-04-12 04:48:22.711000"
        },
        {
         "data": [
          {
           "marker": {
            "cmax": -1.6189,
            "cmin": -2.9802,
            "color": [
             -2.0245
            ],
            "colorscale": [
             [
              0,
              "#440154"
             ],
             [
              0.1111111111111111,
              "#482878"
             ],
             [
              0.2222222222222222,
              "#3e4989"
             ],
             [
              0.3333333333333333,
              "#31688e"
             ],
             [
              0.4444444444444444,
              "#26828e"
             ],
             [
              0.5555555555555556,
              "#1f9e89"
             ],
             [
              0.6666666666666666,
              "#35b779"
             ],
             [
              0.7777777777777778,
              "#6ece58"
             ],
             [
              0.8888888888888888,
              "#b5de2b"
             ],
             [
              1,
              "#fde725"
             ]
            ],
            "size": [
             202.45000000000002
            ],
            "sizemode": "diameter",
            "sizeref": 25
           },
           "mode": "markers",
           "text": [
            "File: HFTS2_20190412_042831_040<br>Magnitude: -2.77",
            "File: HFTS2_20190412_042832_040<br>Magnitude: -2.73",
            "File: HFTS2_20190412_042833_040<br>Magnitude: -2.65",
            "File: HFTS2_20190412_042835_040<br>Magnitude: -2.65",
            "File: HFTS2_20190412_043437_040<br>Magnitude: -2.56",
            "File: HFTS2_20190412_043802_040<br>Magnitude: -2.35",
            "File: HFTS2_20190412_043803_040<br>Magnitude: -2.22",
            "File: HFTS2_20190412_044156_040<br>Magnitude: -2.03",
            "File: HFTS2_20190412_044403_040<br>Magnitude: -2.39",
            "File: HFTS2_20190412_044404_040<br>Magnitude: -2.10",
            "File: HFTS2_20190412_044435_040_Merged<br>Magnitude: -2.47",
            "File: HFTS2_20190412_044506_040<br>Magnitude: -2.32",
            "File: HFTS2_20190412_044516_040<br>Magnitude: -1.97",
            "File: HFTS2_20190412_044521_040<br>Magnitude: -2.07",
            "File: HFTS2_20190412_044522_040<br>Magnitude: -2.47",
            "File: HFTS2_20190412_044526_040<br>Magnitude: -2.74",
            "File: HFTS2_20190412_044540_040<br>Magnitude: -2.21",
            "File: HFTS2_20190412_044542_040<br>Magnitude: -2.56",
            "File: HFTS2_20190412_044543_040<br>Magnitude: -2.36",
            "File: HFTS2_20190412_044544_040<br>Magnitude: -2.59",
            "File: HFTS2_20190412_044545_040<br>Magnitude: -2.60",
            "File: HFTS2_20190412_044605_040<br>Magnitude: -2.71",
            "File: HFTS2_20190412_044619_040<br>Magnitude: -2.54",
            "File: HFTS2_20190412_044620_040<br>Magnitude: -1.81",
            "File: HFTS2_20190412_044623_040<br>Magnitude: -2.21",
            "File: HFTS2_20190412_044643_040<br>Magnitude: -2.30",
            "File: HFTS2_20190412_044647_040<br>Magnitude: -2.42",
            "File: HFTS2_20190412_044651_040<br>Magnitude: -2.46",
            "File: HFTS2_20190412_044659_040_Merged<br>Magnitude: -1.62",
            "File: HFTS2_20190412_044707_040<br>Magnitude: -2.09",
            "File: HFTS2_20190412_044731_040<br>Magnitude: -2.70",
            "File: HFTS2_20190412_044737_040<br>Magnitude: -2.41",
            "File: HFTS2_20190412_044741_040<br>Magnitude: -2.63",
            "File: HFTS2_20190412_044757_040<br>Magnitude: -2.12",
            "File: HFTS2_20190412_044759_040<br>Magnitude: -2.07",
            "File: HFTS2_20190412_044800_040<br>Magnitude: -2.53",
            "File: HFTS2_20190412_044803_040<br>Magnitude: -2.61",
            "File: HFTS2_20190412_044816_040<br>Magnitude: -2.12",
            "File: HFTS2_20190412_044822_040<br>Magnitude: -2.06",
            "File: HFTS2_20190412_044824_040<br>Magnitude: -2.02",
            "File: HFTS2_20190412_044829_040<br>Magnitude: -1.79",
            "File: HFTS2_20190412_044833_040<br>Magnitude: -2.29",
            "File: HFTS2_20190412_044841_040<br>Magnitude: -2.80",
            "File: HFTS2_20190412_044842_040<br>Magnitude: -2.24",
            "File: HFTS2_20190412_044903_040<br>Magnitude: -2.53",
            "File: HFTS2_20190412_044914_040<br>Magnitude: -2.58",
            "File: HFTS2_20190412_044945_040<br>Magnitude: -2.34",
            "File: HFTS2_20190412_044957_040<br>Magnitude: -2.58",
            "File: HFTS2_20190412_045027_040<br>Magnitude: -2.54",
            "File: HFTS2_20190412_045029_040<br>Magnitude: -2.63",
            "File: HFTS2_20190412_045035_040<br>Magnitude: -2.49",
            "File: HFTS2_20190412_045126_040<br>Magnitude: -2.40",
            "File: HFTS2_20190412_045127_040<br>Magnitude: -2.66",
            "File: HFTS2_20190412_045157_040<br>Magnitude: -2.08",
            "File: HFTS2_20190412_045254_040<br>Magnitude: -2.98",
            "File: HFTS2_20190412_045333_040<br>Magnitude: -2.15",
            "File: HFTS2_20190412_045344_040<br>Magnitude: -2.72",
            "File: HFTS2_20190412_045434_040<br>Magnitude: -2.50",
            "File: HFTS2_20190412_045451_040<br>Magnitude: -2.17",
            "File: HFTS2_20190412_045457_040<br>Magnitude: -2.51",
            "File: HFTS2_20190412_045523_040<br>Magnitude: -2.33",
            "File: HFTS2_20190412_045526_040<br>Magnitude: -2.80",
            "File: HFTS2_20190412_045528_040<br>Magnitude: -2.65",
            "File: HFTS2_20190412_045530_040<br>Magnitude: -2.49",
            "File: HFTS2_20190412_045535_040<br>Magnitude: -2.52",
            "File: HFTS2_20190412_045537_040<br>Magnitude: -2.76",
            "File: HFTS2_20190412_045550_040<br>Magnitude: -2.54",
            "File: HFTS2_20190412_045558_040<br>Magnitude: -2.77",
            "File: HFTS2_20190412_045602_040<br>Magnitude: -2.00",
            "File: HFTS2_20190412_045604_040<br>Magnitude: -2.78",
            "File: HFTS2_20190412_045608_040<br>Magnitude: -2.12",
            "File: HFTS2_20190412_045611_040<br>Magnitude: -2.60",
            "File: HFTS2_20190412_045620_040<br>Magnitude: -2.31",
            "File: HFTS2_20190412_045630_040<br>Magnitude: -2.65",
            "File: HFTS2_20190412_045644_040<br>Magnitude: -2.50",
            "File: HFTS2_20190412_045716_040<br>Magnitude: -2.37",
            "File: HFTS2_20190412_045727_040<br>Magnitude: -2.57",
            "File: HFTS2_20190412_045809_040<br>Magnitude: -2.58",
            "File: HFTS2_20190412_045818_040<br>Magnitude: -2.67",
            "File: HFTS2_20190412_045840_040<br>Magnitude: -2.77",
            "File: HFTS2_20190412_045938_040<br>Magnitude: -2.77",
            "File: HFTS2_20190412_045943_040<br>Magnitude: -2.39",
            "File: HFTS2_20190412_045952_040<br>Magnitude: -2.52",
            "File: HFTS2_20190412_050004_040<br>Magnitude: -2.35",
            "File: HFTS2_20190412_050011_040<br>Magnitude: -2.47",
            "File: HFTS2_20190412_050036_040<br>Magnitude: -2.61",
            "File: HFTS2_20190412_050053_040<br>Magnitude: -2.92",
            "File: HFTS2_20190412_050100_040<br>Magnitude: -2.58",
            "File: HFTS2_20190412_050127_040<br>Magnitude: -2.58",
            "File: HFTS2_20190412_050128_040<br>Magnitude: -2.57",
            "File: HFTS2_20190412_050133_040<br>Magnitude: -2.77",
            "File: HFTS2_20190412_050147_040<br>Magnitude: -2.71",
            "File: HFTS2_20190412_050202_040<br>Magnitude: -2.88",
            "File: HFTS2_20190412_050221_040<br>Magnitude: -2.82",
            "File: HFTS2_20190412_050315_040<br>Magnitude: -2.47",
            "File: HFTS2_20190412_050325_040<br>Magnitude: -2.62",
            "File: HFTS2_20190412_050358_040<br>Magnitude: -2.78",
            "File: HFTS2_20190412_050425_040<br>Magnitude: -2.75",
            "File: HFTS2_20190412_050456_040<br>Magnitude: -2.44",
            "File: HFTS2_20190412_050534_040<br>Magnitude: -2.59",
            "File: HFTS2_20190412_050607_040<br>Magnitude: -2.54"
           ],
           "type": "scatter3d",
           "x": [
            954408.3552
           ],
           "y": [
            849132.4995
           ],
           "z": [
            8198.0734
           ]
          }
         ],
         "name": "2019-04-12 04:48:24.579000"
        },
        {
         "data": [
          {
           "marker": {
            "cmax": -1.6189,
            "cmin": -2.9802,
            "color": [
             -1.7866
            ],
            "colorscale": [
             [
              0,
              "#440154"
             ],
             [
              0.1111111111111111,
              "#482878"
             ],
             [
              0.2222222222222222,
              "#3e4989"
             ],
             [
              0.3333333333333333,
              "#31688e"
             ],
             [
              0.4444444444444444,
              "#26828e"
             ],
             [
              0.5555555555555556,
              "#1f9e89"
             ],
             [
              0.6666666666666666,
              "#35b779"
             ],
             [
              0.7777777777777778,
              "#6ece58"
             ],
             [
              0.8888888888888888,
              "#b5de2b"
             ],
             [
              1,
              "#fde725"
             ]
            ],
            "size": [
             178.66
            ],
            "sizemode": "diameter",
            "sizeref": 25
           },
           "mode": "markers",
           "text": [
            "File: HFTS2_20190412_042831_040<br>Magnitude: -2.77",
            "File: HFTS2_20190412_042832_040<br>Magnitude: -2.73",
            "File: HFTS2_20190412_042833_040<br>Magnitude: -2.65",
            "File: HFTS2_20190412_042835_040<br>Magnitude: -2.65",
            "File: HFTS2_20190412_043437_040<br>Magnitude: -2.56",
            "File: HFTS2_20190412_043802_040<br>Magnitude: -2.35",
            "File: HFTS2_20190412_043803_040<br>Magnitude: -2.22",
            "File: HFTS2_20190412_044156_040<br>Magnitude: -2.03",
            "File: HFTS2_20190412_044403_040<br>Magnitude: -2.39",
            "File: HFTS2_20190412_044404_040<br>Magnitude: -2.10",
            "File: HFTS2_20190412_044435_040_Merged<br>Magnitude: -2.47",
            "File: HFTS2_20190412_044506_040<br>Magnitude: -2.32",
            "File: HFTS2_20190412_044516_040<br>Magnitude: -1.97",
            "File: HFTS2_20190412_044521_040<br>Magnitude: -2.07",
            "File: HFTS2_20190412_044522_040<br>Magnitude: -2.47",
            "File: HFTS2_20190412_044526_040<br>Magnitude: -2.74",
            "File: HFTS2_20190412_044540_040<br>Magnitude: -2.21",
            "File: HFTS2_20190412_044542_040<br>Magnitude: -2.56",
            "File: HFTS2_20190412_044543_040<br>Magnitude: -2.36",
            "File: HFTS2_20190412_044544_040<br>Magnitude: -2.59",
            "File: HFTS2_20190412_044545_040<br>Magnitude: -2.60",
            "File: HFTS2_20190412_044605_040<br>Magnitude: -2.71",
            "File: HFTS2_20190412_044619_040<br>Magnitude: -2.54",
            "File: HFTS2_20190412_044620_040<br>Magnitude: -1.81",
            "File: HFTS2_20190412_044623_040<br>Magnitude: -2.21",
            "File: HFTS2_20190412_044643_040<br>Magnitude: -2.30",
            "File: HFTS2_20190412_044647_040<br>Magnitude: -2.42",
            "File: HFTS2_20190412_044651_040<br>Magnitude: -2.46",
            "File: HFTS2_20190412_044659_040_Merged<br>Magnitude: -1.62",
            "File: HFTS2_20190412_044707_040<br>Magnitude: -2.09",
            "File: HFTS2_20190412_044731_040<br>Magnitude: -2.70",
            "File: HFTS2_20190412_044737_040<br>Magnitude: -2.41",
            "File: HFTS2_20190412_044741_040<br>Magnitude: -2.63",
            "File: HFTS2_20190412_044757_040<br>Magnitude: -2.12",
            "File: HFTS2_20190412_044759_040<br>Magnitude: -2.07",
            "File: HFTS2_20190412_044800_040<br>Magnitude: -2.53",
            "File: HFTS2_20190412_044803_040<br>Magnitude: -2.61",
            "File: HFTS2_20190412_044816_040<br>Magnitude: -2.12",
            "File: HFTS2_20190412_044822_040<br>Magnitude: -2.06",
            "File: HFTS2_20190412_044824_040<br>Magnitude: -2.02",
            "File: HFTS2_20190412_044829_040<br>Magnitude: -1.79",
            "File: HFTS2_20190412_044833_040<br>Magnitude: -2.29",
            "File: HFTS2_20190412_044841_040<br>Magnitude: -2.80",
            "File: HFTS2_20190412_044842_040<br>Magnitude: -2.24",
            "File: HFTS2_20190412_044903_040<br>Magnitude: -2.53",
            "File: HFTS2_20190412_044914_040<br>Magnitude: -2.58",
            "File: HFTS2_20190412_044945_040<br>Magnitude: -2.34",
            "File: HFTS2_20190412_044957_040<br>Magnitude: -2.58",
            "File: HFTS2_20190412_045027_040<br>Magnitude: -2.54",
            "File: HFTS2_20190412_045029_040<br>Magnitude: -2.63",
            "File: HFTS2_20190412_045035_040<br>Magnitude: -2.49",
            "File: HFTS2_20190412_045126_040<br>Magnitude: -2.40",
            "File: HFTS2_20190412_045127_040<br>Magnitude: -2.66",
            "File: HFTS2_20190412_045157_040<br>Magnitude: -2.08",
            "File: HFTS2_20190412_045254_040<br>Magnitude: -2.98",
            "File: HFTS2_20190412_045333_040<br>Magnitude: -2.15",
            "File: HFTS2_20190412_045344_040<br>Magnitude: -2.72",
            "File: HFTS2_20190412_045434_040<br>Magnitude: -2.50",
            "File: HFTS2_20190412_045451_040<br>Magnitude: -2.17",
            "File: HFTS2_20190412_045457_040<br>Magnitude: -2.51",
            "File: HFTS2_20190412_045523_040<br>Magnitude: -2.33",
            "File: HFTS2_20190412_045526_040<br>Magnitude: -2.80",
            "File: HFTS2_20190412_045528_040<br>Magnitude: -2.65",
            "File: HFTS2_20190412_045530_040<br>Magnitude: -2.49",
            "File: HFTS2_20190412_045535_040<br>Magnitude: -2.52",
            "File: HFTS2_20190412_045537_040<br>Magnitude: -2.76",
            "File: HFTS2_20190412_045550_040<br>Magnitude: -2.54",
            "File: HFTS2_20190412_045558_040<br>Magnitude: -2.77",
            "File: HFTS2_20190412_045602_040<br>Magnitude: -2.00",
            "File: HFTS2_20190412_045604_040<br>Magnitude: -2.78",
            "File: HFTS2_20190412_045608_040<br>Magnitude: -2.12",
            "File: HFTS2_20190412_045611_040<br>Magnitude: -2.60",
            "File: HFTS2_20190412_045620_040<br>Magnitude: -2.31",
            "File: HFTS2_20190412_045630_040<br>Magnitude: -2.65",
            "File: HFTS2_20190412_045644_040<br>Magnitude: -2.50",
            "File: HFTS2_20190412_045716_040<br>Magnitude: -2.37",
            "File: HFTS2_20190412_045727_040<br>Magnitude: -2.57",
            "File: HFTS2_20190412_045809_040<br>Magnitude: -2.58",
            "File: HFTS2_20190412_045818_040<br>Magnitude: -2.67",
            "File: HFTS2_20190412_045840_040<br>Magnitude: -2.77",
            "File: HFTS2_20190412_045938_040<br>Magnitude: -2.77",
            "File: HFTS2_20190412_045943_040<br>Magnitude: -2.39",
            "File: HFTS2_20190412_045952_040<br>Magnitude: -2.52",
            "File: HFTS2_20190412_050004_040<br>Magnitude: -2.35",
            "File: HFTS2_20190412_050011_040<br>Magnitude: -2.47",
            "File: HFTS2_20190412_050036_040<br>Magnitude: -2.61",
            "File: HFTS2_20190412_050053_040<br>Magnitude: -2.92",
            "File: HFTS2_20190412_050100_040<br>Magnitude: -2.58",
            "File: HFTS2_20190412_050127_040<br>Magnitude: -2.58",
            "File: HFTS2_20190412_050128_040<br>Magnitude: -2.57",
            "File: HFTS2_20190412_050133_040<br>Magnitude: -2.77",
            "File: HFTS2_20190412_050147_040<br>Magnitude: -2.71",
            "File: HFTS2_20190412_050202_040<br>Magnitude: -2.88",
            "File: HFTS2_20190412_050221_040<br>Magnitude: -2.82",
            "File: HFTS2_20190412_050315_040<br>Magnitude: -2.47",
            "File: HFTS2_20190412_050325_040<br>Magnitude: -2.62",
            "File: HFTS2_20190412_050358_040<br>Magnitude: -2.78",
            "File: HFTS2_20190412_050425_040<br>Magnitude: -2.75",
            "File: HFTS2_20190412_050456_040<br>Magnitude: -2.44",
            "File: HFTS2_20190412_050534_040<br>Magnitude: -2.59",
            "File: HFTS2_20190412_050607_040<br>Magnitude: -2.54"
           ],
           "type": "scatter3d",
           "x": [
            955252.3578
           ],
           "y": [
            849299.9582
           ],
           "z": [
            8466.6626
           ]
          }
         ],
         "name": "2019-04-12 04:48:29.504000"
        },
        {
         "data": [
          {
           "marker": {
            "cmax": -1.6189,
            "cmin": -2.9802,
            "color": [
             -2.2947
            ],
            "colorscale": [
             [
              0,
              "#440154"
             ],
             [
              0.1111111111111111,
              "#482878"
             ],
             [
              0.2222222222222222,
              "#3e4989"
             ],
             [
              0.3333333333333333,
              "#31688e"
             ],
             [
              0.4444444444444444,
              "#26828e"
             ],
             [
              0.5555555555555556,
              "#1f9e89"
             ],
             [
              0.6666666666666666,
              "#35b779"
             ],
             [
              0.7777777777777778,
              "#6ece58"
             ],
             [
              0.8888888888888888,
              "#b5de2b"
             ],
             [
              1,
              "#fde725"
             ]
            ],
            "size": [
             229.47000000000003
            ],
            "sizemode": "diameter",
            "sizeref": 25
           },
           "mode": "markers",
           "text": [
            "File: HFTS2_20190412_042831_040<br>Magnitude: -2.77",
            "File: HFTS2_20190412_042832_040<br>Magnitude: -2.73",
            "File: HFTS2_20190412_042833_040<br>Magnitude: -2.65",
            "File: HFTS2_20190412_042835_040<br>Magnitude: -2.65",
            "File: HFTS2_20190412_043437_040<br>Magnitude: -2.56",
            "File: HFTS2_20190412_043802_040<br>Magnitude: -2.35",
            "File: HFTS2_20190412_043803_040<br>Magnitude: -2.22",
            "File: HFTS2_20190412_044156_040<br>Magnitude: -2.03",
            "File: HFTS2_20190412_044403_040<br>Magnitude: -2.39",
            "File: HFTS2_20190412_044404_040<br>Magnitude: -2.10",
            "File: HFTS2_20190412_044435_040_Merged<br>Magnitude: -2.47",
            "File: HFTS2_20190412_044506_040<br>Magnitude: -2.32",
            "File: HFTS2_20190412_044516_040<br>Magnitude: -1.97",
            "File: HFTS2_20190412_044521_040<br>Magnitude: -2.07",
            "File: HFTS2_20190412_044522_040<br>Magnitude: -2.47",
            "File: HFTS2_20190412_044526_040<br>Magnitude: -2.74",
            "File: HFTS2_20190412_044540_040<br>Magnitude: -2.21",
            "File: HFTS2_20190412_044542_040<br>Magnitude: -2.56",
            "File: HFTS2_20190412_044543_040<br>Magnitude: -2.36",
            "File: HFTS2_20190412_044544_040<br>Magnitude: -2.59",
            "File: HFTS2_20190412_044545_040<br>Magnitude: -2.60",
            "File: HFTS2_20190412_044605_040<br>Magnitude: -2.71",
            "File: HFTS2_20190412_044619_040<br>Magnitude: -2.54",
            "File: HFTS2_20190412_044620_040<br>Magnitude: -1.81",
            "File: HFTS2_20190412_044623_040<br>Magnitude: -2.21",
            "File: HFTS2_20190412_044643_040<br>Magnitude: -2.30",
            "File: HFTS2_20190412_044647_040<br>Magnitude: -2.42",
            "File: HFTS2_20190412_044651_040<br>Magnitude: -2.46",
            "File: HFTS2_20190412_044659_040_Merged<br>Magnitude: -1.62",
            "File: HFTS2_20190412_044707_040<br>Magnitude: -2.09",
            "File: HFTS2_20190412_044731_040<br>Magnitude: -2.70",
            "File: HFTS2_20190412_044737_040<br>Magnitude: -2.41",
            "File: HFTS2_20190412_044741_040<br>Magnitude: -2.63",
            "File: HFTS2_20190412_044757_040<br>Magnitude: -2.12",
            "File: HFTS2_20190412_044759_040<br>Magnitude: -2.07",
            "File: HFTS2_20190412_044800_040<br>Magnitude: -2.53",
            "File: HFTS2_20190412_044803_040<br>Magnitude: -2.61",
            "File: HFTS2_20190412_044816_040<br>Magnitude: -2.12",
            "File: HFTS2_20190412_044822_040<br>Magnitude: -2.06",
            "File: HFTS2_20190412_044824_040<br>Magnitude: -2.02",
            "File: HFTS2_20190412_044829_040<br>Magnitude: -1.79",
            "File: HFTS2_20190412_044833_040<br>Magnitude: -2.29",
            "File: HFTS2_20190412_044841_040<br>Magnitude: -2.80",
            "File: HFTS2_20190412_044842_040<br>Magnitude: -2.24",
            "File: HFTS2_20190412_044903_040<br>Magnitude: -2.53",
            "File: HFTS2_20190412_044914_040<br>Magnitude: -2.58",
            "File: HFTS2_20190412_044945_040<br>Magnitude: -2.34",
            "File: HFTS2_20190412_044957_040<br>Magnitude: -2.58",
            "File: HFTS2_20190412_045027_040<br>Magnitude: -2.54",
            "File: HFTS2_20190412_045029_040<br>Magnitude: -2.63",
            "File: HFTS2_20190412_045035_040<br>Magnitude: -2.49",
            "File: HFTS2_20190412_045126_040<br>Magnitude: -2.40",
            "File: HFTS2_20190412_045127_040<br>Magnitude: -2.66",
            "File: HFTS2_20190412_045157_040<br>Magnitude: -2.08",
            "File: HFTS2_20190412_045254_040<br>Magnitude: -2.98",
            "File: HFTS2_20190412_045333_040<br>Magnitude: -2.15",
            "File: HFTS2_20190412_045344_040<br>Magnitude: -2.72",
            "File: HFTS2_20190412_045434_040<br>Magnitude: -2.50",
            "File: HFTS2_20190412_045451_040<br>Magnitude: -2.17",
            "File: HFTS2_20190412_045457_040<br>Magnitude: -2.51",
            "File: HFTS2_20190412_045523_040<br>Magnitude: -2.33",
            "File: HFTS2_20190412_045526_040<br>Magnitude: -2.80",
            "File: HFTS2_20190412_045528_040<br>Magnitude: -2.65",
            "File: HFTS2_20190412_045530_040<br>Magnitude: -2.49",
            "File: HFTS2_20190412_045535_040<br>Magnitude: -2.52",
            "File: HFTS2_20190412_045537_040<br>Magnitude: -2.76",
            "File: HFTS2_20190412_045550_040<br>Magnitude: -2.54",
            "File: HFTS2_20190412_045558_040<br>Magnitude: -2.77",
            "File: HFTS2_20190412_045602_040<br>Magnitude: -2.00",
            "File: HFTS2_20190412_045604_040<br>Magnitude: -2.78",
            "File: HFTS2_20190412_045608_040<br>Magnitude: -2.12",
            "File: HFTS2_20190412_045611_040<br>Magnitude: -2.60",
            "File: HFTS2_20190412_045620_040<br>Magnitude: -2.31",
            "File: HFTS2_20190412_045630_040<br>Magnitude: -2.65",
            "File: HFTS2_20190412_045644_040<br>Magnitude: -2.50",
            "File: HFTS2_20190412_045716_040<br>Magnitude: -2.37",
            "File: HFTS2_20190412_045727_040<br>Magnitude: -2.57",
            "File: HFTS2_20190412_045809_040<br>Magnitude: -2.58",
            "File: HFTS2_20190412_045818_040<br>Magnitude: -2.67",
            "File: HFTS2_20190412_045840_040<br>Magnitude: -2.77",
            "File: HFTS2_20190412_045938_040<br>Magnitude: -2.77",
            "File: HFTS2_20190412_045943_040<br>Magnitude: -2.39",
            "File: HFTS2_20190412_045952_040<br>Magnitude: -2.52",
            "File: HFTS2_20190412_050004_040<br>Magnitude: -2.35",
            "File: HFTS2_20190412_050011_040<br>Magnitude: -2.47",
            "File: HFTS2_20190412_050036_040<br>Magnitude: -2.61",
            "File: HFTS2_20190412_050053_040<br>Magnitude: -2.92",
            "File: HFTS2_20190412_050100_040<br>Magnitude: -2.58",
            "File: HFTS2_20190412_050127_040<br>Magnitude: -2.58",
            "File: HFTS2_20190412_050128_040<br>Magnitude: -2.57",
            "File: HFTS2_20190412_050133_040<br>Magnitude: -2.77",
            "File: HFTS2_20190412_050147_040<br>Magnitude: -2.71",
            "File: HFTS2_20190412_050202_040<br>Magnitude: -2.88",
            "File: HFTS2_20190412_050221_040<br>Magnitude: -2.82",
            "File: HFTS2_20190412_050315_040<br>Magnitude: -2.47",
            "File: HFTS2_20190412_050325_040<br>Magnitude: -2.62",
            "File: HFTS2_20190412_050358_040<br>Magnitude: -2.78",
            "File: HFTS2_20190412_050425_040<br>Magnitude: -2.75",
            "File: HFTS2_20190412_050456_040<br>Magnitude: -2.44",
            "File: HFTS2_20190412_050534_040<br>Magnitude: -2.59",
            "File: HFTS2_20190412_050607_040<br>Magnitude: -2.54"
           ],
           "type": "scatter3d",
           "x": [
            955367.832
           ],
           "y": [
            849143.0657
           ],
           "z": [
            8676.7961
           ]
          }
         ],
         "name": "2019-04-12 04:48:33.396000"
        },
        {
         "data": [
          {
           "marker": {
            "cmax": -1.6189,
            "cmin": -2.9802,
            "color": [
             -2.8024
            ],
            "colorscale": [
             [
              0,
              "#440154"
             ],
             [
              0.1111111111111111,
              "#482878"
             ],
             [
              0.2222222222222222,
              "#3e4989"
             ],
             [
              0.3333333333333333,
              "#31688e"
             ],
             [
              0.4444444444444444,
              "#26828e"
             ],
             [
              0.5555555555555556,
              "#1f9e89"
             ],
             [
              0.6666666666666666,
              "#35b779"
             ],
             [
              0.7777777777777778,
              "#6ece58"
             ],
             [
              0.8888888888888888,
              "#b5de2b"
             ],
             [
              1,
              "#fde725"
             ]
            ],
            "size": [
             280.24
            ],
            "sizemode": "diameter",
            "sizeref": 25
           },
           "mode": "markers",
           "text": [
            "File: HFTS2_20190412_042831_040<br>Magnitude: -2.77",
            "File: HFTS2_20190412_042832_040<br>Magnitude: -2.73",
            "File: HFTS2_20190412_042833_040<br>Magnitude: -2.65",
            "File: HFTS2_20190412_042835_040<br>Magnitude: -2.65",
            "File: HFTS2_20190412_043437_040<br>Magnitude: -2.56",
            "File: HFTS2_20190412_043802_040<br>Magnitude: -2.35",
            "File: HFTS2_20190412_043803_040<br>Magnitude: -2.22",
            "File: HFTS2_20190412_044156_040<br>Magnitude: -2.03",
            "File: HFTS2_20190412_044403_040<br>Magnitude: -2.39",
            "File: HFTS2_20190412_044404_040<br>Magnitude: -2.10",
            "File: HFTS2_20190412_044435_040_Merged<br>Magnitude: -2.47",
            "File: HFTS2_20190412_044506_040<br>Magnitude: -2.32",
            "File: HFTS2_20190412_044516_040<br>Magnitude: -1.97",
            "File: HFTS2_20190412_044521_040<br>Magnitude: -2.07",
            "File: HFTS2_20190412_044522_040<br>Magnitude: -2.47",
            "File: HFTS2_20190412_044526_040<br>Magnitude: -2.74",
            "File: HFTS2_20190412_044540_040<br>Magnitude: -2.21",
            "File: HFTS2_20190412_044542_040<br>Magnitude: -2.56",
            "File: HFTS2_20190412_044543_040<br>Magnitude: -2.36",
            "File: HFTS2_20190412_044544_040<br>Magnitude: -2.59",
            "File: HFTS2_20190412_044545_040<br>Magnitude: -2.60",
            "File: HFTS2_20190412_044605_040<br>Magnitude: -2.71",
            "File: HFTS2_20190412_044619_040<br>Magnitude: -2.54",
            "File: HFTS2_20190412_044620_040<br>Magnitude: -1.81",
            "File: HFTS2_20190412_044623_040<br>Magnitude: -2.21",
            "File: HFTS2_20190412_044643_040<br>Magnitude: -2.30",
            "File: HFTS2_20190412_044647_040<br>Magnitude: -2.42",
            "File: HFTS2_20190412_044651_040<br>Magnitude: -2.46",
            "File: HFTS2_20190412_044659_040_Merged<br>Magnitude: -1.62",
            "File: HFTS2_20190412_044707_040<br>Magnitude: -2.09",
            "File: HFTS2_20190412_044731_040<br>Magnitude: -2.70",
            "File: HFTS2_20190412_044737_040<br>Magnitude: -2.41",
            "File: HFTS2_20190412_044741_040<br>Magnitude: -2.63",
            "File: HFTS2_20190412_044757_040<br>Magnitude: -2.12",
            "File: HFTS2_20190412_044759_040<br>Magnitude: -2.07",
            "File: HFTS2_20190412_044800_040<br>Magnitude: -2.53",
            "File: HFTS2_20190412_044803_040<br>Magnitude: -2.61",
            "File: HFTS2_20190412_044816_040<br>Magnitude: -2.12",
            "File: HFTS2_20190412_044822_040<br>Magnitude: -2.06",
            "File: HFTS2_20190412_044824_040<br>Magnitude: -2.02",
            "File: HFTS2_20190412_044829_040<br>Magnitude: -1.79",
            "File: HFTS2_20190412_044833_040<br>Magnitude: -2.29",
            "File: HFTS2_20190412_044841_040<br>Magnitude: -2.80",
            "File: HFTS2_20190412_044842_040<br>Magnitude: -2.24",
            "File: HFTS2_20190412_044903_040<br>Magnitude: -2.53",
            "File: HFTS2_20190412_044914_040<br>Magnitude: -2.58",
            "File: HFTS2_20190412_044945_040<br>Magnitude: -2.34",
            "File: HFTS2_20190412_044957_040<br>Magnitude: -2.58",
            "File: HFTS2_20190412_045027_040<br>Magnitude: -2.54",
            "File: HFTS2_20190412_045029_040<br>Magnitude: -2.63",
            "File: HFTS2_20190412_045035_040<br>Magnitude: -2.49",
            "File: HFTS2_20190412_045126_040<br>Magnitude: -2.40",
            "File: HFTS2_20190412_045127_040<br>Magnitude: -2.66",
            "File: HFTS2_20190412_045157_040<br>Magnitude: -2.08",
            "File: HFTS2_20190412_045254_040<br>Magnitude: -2.98",
            "File: HFTS2_20190412_045333_040<br>Magnitude: -2.15",
            "File: HFTS2_20190412_045344_040<br>Magnitude: -2.72",
            "File: HFTS2_20190412_045434_040<br>Magnitude: -2.50",
            "File: HFTS2_20190412_045451_040<br>Magnitude: -2.17",
            "File: HFTS2_20190412_045457_040<br>Magnitude: -2.51",
            "File: HFTS2_20190412_045523_040<br>Magnitude: -2.33",
            "File: HFTS2_20190412_045526_040<br>Magnitude: -2.80",
            "File: HFTS2_20190412_045528_040<br>Magnitude: -2.65",
            "File: HFTS2_20190412_045530_040<br>Magnitude: -2.49",
            "File: HFTS2_20190412_045535_040<br>Magnitude: -2.52",
            "File: HFTS2_20190412_045537_040<br>Magnitude: -2.76",
            "File: HFTS2_20190412_045550_040<br>Magnitude: -2.54",
            "File: HFTS2_20190412_045558_040<br>Magnitude: -2.77",
            "File: HFTS2_20190412_045602_040<br>Magnitude: -2.00",
            "File: HFTS2_20190412_045604_040<br>Magnitude: -2.78",
            "File: HFTS2_20190412_045608_040<br>Magnitude: -2.12",
            "File: HFTS2_20190412_045611_040<br>Magnitude: -2.60",
            "File: HFTS2_20190412_045620_040<br>Magnitude: -2.31",
            "File: HFTS2_20190412_045630_040<br>Magnitude: -2.65",
            "File: HFTS2_20190412_045644_040<br>Magnitude: -2.50",
            "File: HFTS2_20190412_045716_040<br>Magnitude: -2.37",
            "File: HFTS2_20190412_045727_040<br>Magnitude: -2.57",
            "File: HFTS2_20190412_045809_040<br>Magnitude: -2.58",
            "File: HFTS2_20190412_045818_040<br>Magnitude: -2.67",
            "File: HFTS2_20190412_045840_040<br>Magnitude: -2.77",
            "File: HFTS2_20190412_045938_040<br>Magnitude: -2.77",
            "File: HFTS2_20190412_045943_040<br>Magnitude: -2.39",
            "File: HFTS2_20190412_045952_040<br>Magnitude: -2.52",
            "File: HFTS2_20190412_050004_040<br>Magnitude: -2.35",
            "File: HFTS2_20190412_050011_040<br>Magnitude: -2.47",
            "File: HFTS2_20190412_050036_040<br>Magnitude: -2.61",
            "File: HFTS2_20190412_050053_040<br>Magnitude: -2.92",
            "File: HFTS2_20190412_050100_040<br>Magnitude: -2.58",
            "File: HFTS2_20190412_050127_040<br>Magnitude: -2.58",
            "File: HFTS2_20190412_050128_040<br>Magnitude: -2.57",
            "File: HFTS2_20190412_050133_040<br>Magnitude: -2.77",
            "File: HFTS2_20190412_050147_040<br>Magnitude: -2.71",
            "File: HFTS2_20190412_050202_040<br>Magnitude: -2.88",
            "File: HFTS2_20190412_050221_040<br>Magnitude: -2.82",
            "File: HFTS2_20190412_050315_040<br>Magnitude: -2.47",
            "File: HFTS2_20190412_050325_040<br>Magnitude: -2.62",
            "File: HFTS2_20190412_050358_040<br>Magnitude: -2.78",
            "File: HFTS2_20190412_050425_040<br>Magnitude: -2.75",
            "File: HFTS2_20190412_050456_040<br>Magnitude: -2.44",
            "File: HFTS2_20190412_050534_040<br>Magnitude: -2.59",
            "File: HFTS2_20190412_050607_040<br>Magnitude: -2.54"
           ],
           "type": "scatter3d",
           "x": [
            954017.9088
           ],
           "y": [
            849107.6854
           ],
           "z": [
            8456.127
           ]
          }
         ],
         "name": "2019-04-12 04:48:41.820000"
        },
        {
         "data": [
          {
           "marker": {
            "cmax": -1.6189,
            "cmin": -2.9802,
            "color": [
             -2.2432
            ],
            "colorscale": [
             [
              0,
              "#440154"
             ],
             [
              0.1111111111111111,
              "#482878"
             ],
             [
              0.2222222222222222,
              "#3e4989"
             ],
             [
              0.3333333333333333,
              "#31688e"
             ],
             [
              0.4444444444444444,
              "#26828e"
             ],
             [
              0.5555555555555556,
              "#1f9e89"
             ],
             [
              0.6666666666666666,
              "#35b779"
             ],
             [
              0.7777777777777778,
              "#6ece58"
             ],
             [
              0.8888888888888888,
              "#b5de2b"
             ],
             [
              1,
              "#fde725"
             ]
            ],
            "size": [
             224.32
            ],
            "sizemode": "diameter",
            "sizeref": 25
           },
           "mode": "markers",
           "text": [
            "File: HFTS2_20190412_042831_040<br>Magnitude: -2.77",
            "File: HFTS2_20190412_042832_040<br>Magnitude: -2.73",
            "File: HFTS2_20190412_042833_040<br>Magnitude: -2.65",
            "File: HFTS2_20190412_042835_040<br>Magnitude: -2.65",
            "File: HFTS2_20190412_043437_040<br>Magnitude: -2.56",
            "File: HFTS2_20190412_043802_040<br>Magnitude: -2.35",
            "File: HFTS2_20190412_043803_040<br>Magnitude: -2.22",
            "File: HFTS2_20190412_044156_040<br>Magnitude: -2.03",
            "File: HFTS2_20190412_044403_040<br>Magnitude: -2.39",
            "File: HFTS2_20190412_044404_040<br>Magnitude: -2.10",
            "File: HFTS2_20190412_044435_040_Merged<br>Magnitude: -2.47",
            "File: HFTS2_20190412_044506_040<br>Magnitude: -2.32",
            "File: HFTS2_20190412_044516_040<br>Magnitude: -1.97",
            "File: HFTS2_20190412_044521_040<br>Magnitude: -2.07",
            "File: HFTS2_20190412_044522_040<br>Magnitude: -2.47",
            "File: HFTS2_20190412_044526_040<br>Magnitude: -2.74",
            "File: HFTS2_20190412_044540_040<br>Magnitude: -2.21",
            "File: HFTS2_20190412_044542_040<br>Magnitude: -2.56",
            "File: HFTS2_20190412_044543_040<br>Magnitude: -2.36",
            "File: HFTS2_20190412_044544_040<br>Magnitude: -2.59",
            "File: HFTS2_20190412_044545_040<br>Magnitude: -2.60",
            "File: HFTS2_20190412_044605_040<br>Magnitude: -2.71",
            "File: HFTS2_20190412_044619_040<br>Magnitude: -2.54",
            "File: HFTS2_20190412_044620_040<br>Magnitude: -1.81",
            "File: HFTS2_20190412_044623_040<br>Magnitude: -2.21",
            "File: HFTS2_20190412_044643_040<br>Magnitude: -2.30",
            "File: HFTS2_20190412_044647_040<br>Magnitude: -2.42",
            "File: HFTS2_20190412_044651_040<br>Magnitude: -2.46",
            "File: HFTS2_20190412_044659_040_Merged<br>Magnitude: -1.62",
            "File: HFTS2_20190412_044707_040<br>Magnitude: -2.09",
            "File: HFTS2_20190412_044731_040<br>Magnitude: -2.70",
            "File: HFTS2_20190412_044737_040<br>Magnitude: -2.41",
            "File: HFTS2_20190412_044741_040<br>Magnitude: -2.63",
            "File: HFTS2_20190412_044757_040<br>Magnitude: -2.12",
            "File: HFTS2_20190412_044759_040<br>Magnitude: -2.07",
            "File: HFTS2_20190412_044800_040<br>Magnitude: -2.53",
            "File: HFTS2_20190412_044803_040<br>Magnitude: -2.61",
            "File: HFTS2_20190412_044816_040<br>Magnitude: -2.12",
            "File: HFTS2_20190412_044822_040<br>Magnitude: -2.06",
            "File: HFTS2_20190412_044824_040<br>Magnitude: -2.02",
            "File: HFTS2_20190412_044829_040<br>Magnitude: -1.79",
            "File: HFTS2_20190412_044833_040<br>Magnitude: -2.29",
            "File: HFTS2_20190412_044841_040<br>Magnitude: -2.80",
            "File: HFTS2_20190412_044842_040<br>Magnitude: -2.24",
            "File: HFTS2_20190412_044903_040<br>Magnitude: -2.53",
            "File: HFTS2_20190412_044914_040<br>Magnitude: -2.58",
            "File: HFTS2_20190412_044945_040<br>Magnitude: -2.34",
            "File: HFTS2_20190412_044957_040<br>Magnitude: -2.58",
            "File: HFTS2_20190412_045027_040<br>Magnitude: -2.54",
            "File: HFTS2_20190412_045029_040<br>Magnitude: -2.63",
            "File: HFTS2_20190412_045035_040<br>Magnitude: -2.49",
            "File: HFTS2_20190412_045126_040<br>Magnitude: -2.40",
            "File: HFTS2_20190412_045127_040<br>Magnitude: -2.66",
            "File: HFTS2_20190412_045157_040<br>Magnitude: -2.08",
            "File: HFTS2_20190412_045254_040<br>Magnitude: -2.98",
            "File: HFTS2_20190412_045333_040<br>Magnitude: -2.15",
            "File: HFTS2_20190412_045344_040<br>Magnitude: -2.72",
            "File: HFTS2_20190412_045434_040<br>Magnitude: -2.50",
            "File: HFTS2_20190412_045451_040<br>Magnitude: -2.17",
            "File: HFTS2_20190412_045457_040<br>Magnitude: -2.51",
            "File: HFTS2_20190412_045523_040<br>Magnitude: -2.33",
            "File: HFTS2_20190412_045526_040<br>Magnitude: -2.80",
            "File: HFTS2_20190412_045528_040<br>Magnitude: -2.65",
            "File: HFTS2_20190412_045530_040<br>Magnitude: -2.49",
            "File: HFTS2_20190412_045535_040<br>Magnitude: -2.52",
            "File: HFTS2_20190412_045537_040<br>Magnitude: -2.76",
            "File: HFTS2_20190412_045550_040<br>Magnitude: -2.54",
            "File: HFTS2_20190412_045558_040<br>Magnitude: -2.77",
            "File: HFTS2_20190412_045602_040<br>Magnitude: -2.00",
            "File: HFTS2_20190412_045604_040<br>Magnitude: -2.78",
            "File: HFTS2_20190412_045608_040<br>Magnitude: -2.12",
            "File: HFTS2_20190412_045611_040<br>Magnitude: -2.60",
            "File: HFTS2_20190412_045620_040<br>Magnitude: -2.31",
            "File: HFTS2_20190412_045630_040<br>Magnitude: -2.65",
            "File: HFTS2_20190412_045644_040<br>Magnitude: -2.50",
            "File: HFTS2_20190412_045716_040<br>Magnitude: -2.37",
            "File: HFTS2_20190412_045727_040<br>Magnitude: -2.57",
            "File: HFTS2_20190412_045809_040<br>Magnitude: -2.58",
            "File: HFTS2_20190412_045818_040<br>Magnitude: -2.67",
            "File: HFTS2_20190412_045840_040<br>Magnitude: -2.77",
            "File: HFTS2_20190412_045938_040<br>Magnitude: -2.77",
            "File: HFTS2_20190412_045943_040<br>Magnitude: -2.39",
            "File: HFTS2_20190412_045952_040<br>Magnitude: -2.52",
            "File: HFTS2_20190412_050004_040<br>Magnitude: -2.35",
            "File: HFTS2_20190412_050011_040<br>Magnitude: -2.47",
            "File: HFTS2_20190412_050036_040<br>Magnitude: -2.61",
            "File: HFTS2_20190412_050053_040<br>Magnitude: -2.92",
            "File: HFTS2_20190412_050100_040<br>Magnitude: -2.58",
            "File: HFTS2_20190412_050127_040<br>Magnitude: -2.58",
            "File: HFTS2_20190412_050128_040<br>Magnitude: -2.57",
            "File: HFTS2_20190412_050133_040<br>Magnitude: -2.77",
            "File: HFTS2_20190412_050147_040<br>Magnitude: -2.71",
            "File: HFTS2_20190412_050202_040<br>Magnitude: -2.88",
            "File: HFTS2_20190412_050221_040<br>Magnitude: -2.82",
            "File: HFTS2_20190412_050315_040<br>Magnitude: -2.47",
            "File: HFTS2_20190412_050325_040<br>Magnitude: -2.62",
            "File: HFTS2_20190412_050358_040<br>Magnitude: -2.78",
            "File: HFTS2_20190412_050425_040<br>Magnitude: -2.75",
            "File: HFTS2_20190412_050456_040<br>Magnitude: -2.44",
            "File: HFTS2_20190412_050534_040<br>Magnitude: -2.59",
            "File: HFTS2_20190412_050607_040<br>Magnitude: -2.54"
           ],
           "type": "scatter3d",
           "x": [
            954177.3138
           ],
           "y": [
            849192.7852
           ],
           "z": [
            8444.6037
           ]
          }
         ],
         "name": "2019-04-12 04:48:42.470000"
        },
        {
         "data": [
          {
           "marker": {
            "cmax": -1.6189,
            "cmin": -2.9802,
            "color": [
             -2.5326
            ],
            "colorscale": [
             [
              0,
              "#440154"
             ],
             [
              0.1111111111111111,
              "#482878"
             ],
             [
              0.2222222222222222,
              "#3e4989"
             ],
             [
              0.3333333333333333,
              "#31688e"
             ],
             [
              0.4444444444444444,
              "#26828e"
             ],
             [
              0.5555555555555556,
              "#1f9e89"
             ],
             [
              0.6666666666666666,
              "#35b779"
             ],
             [
              0.7777777777777778,
              "#6ece58"
             ],
             [
              0.8888888888888888,
              "#b5de2b"
             ],
             [
              1,
              "#fde725"
             ]
            ],
            "size": [
             253.26
            ],
            "sizemode": "diameter",
            "sizeref": 25
           },
           "mode": "markers",
           "text": [
            "File: HFTS2_20190412_042831_040<br>Magnitude: -2.77",
            "File: HFTS2_20190412_042832_040<br>Magnitude: -2.73",
            "File: HFTS2_20190412_042833_040<br>Magnitude: -2.65",
            "File: HFTS2_20190412_042835_040<br>Magnitude: -2.65",
            "File: HFTS2_20190412_043437_040<br>Magnitude: -2.56",
            "File: HFTS2_20190412_043802_040<br>Magnitude: -2.35",
            "File: HFTS2_20190412_043803_040<br>Magnitude: -2.22",
            "File: HFTS2_20190412_044156_040<br>Magnitude: -2.03",
            "File: HFTS2_20190412_044403_040<br>Magnitude: -2.39",
            "File: HFTS2_20190412_044404_040<br>Magnitude: -2.10",
            "File: HFTS2_20190412_044435_040_Merged<br>Magnitude: -2.47",
            "File: HFTS2_20190412_044506_040<br>Magnitude: -2.32",
            "File: HFTS2_20190412_044516_040<br>Magnitude: -1.97",
            "File: HFTS2_20190412_044521_040<br>Magnitude: -2.07",
            "File: HFTS2_20190412_044522_040<br>Magnitude: -2.47",
            "File: HFTS2_20190412_044526_040<br>Magnitude: -2.74",
            "File: HFTS2_20190412_044540_040<br>Magnitude: -2.21",
            "File: HFTS2_20190412_044542_040<br>Magnitude: -2.56",
            "File: HFTS2_20190412_044543_040<br>Magnitude: -2.36",
            "File: HFTS2_20190412_044544_040<br>Magnitude: -2.59",
            "File: HFTS2_20190412_044545_040<br>Magnitude: -2.60",
            "File: HFTS2_20190412_044605_040<br>Magnitude: -2.71",
            "File: HFTS2_20190412_044619_040<br>Magnitude: -2.54",
            "File: HFTS2_20190412_044620_040<br>Magnitude: -1.81",
            "File: HFTS2_20190412_044623_040<br>Magnitude: -2.21",
            "File: HFTS2_20190412_044643_040<br>Magnitude: -2.30",
            "File: HFTS2_20190412_044647_040<br>Magnitude: -2.42",
            "File: HFTS2_20190412_044651_040<br>Magnitude: -2.46",
            "File: HFTS2_20190412_044659_040_Merged<br>Magnitude: -1.62",
            "File: HFTS2_20190412_044707_040<br>Magnitude: -2.09",
            "File: HFTS2_20190412_044731_040<br>Magnitude: -2.70",
            "File: HFTS2_20190412_044737_040<br>Magnitude: -2.41",
            "File: HFTS2_20190412_044741_040<br>Magnitude: -2.63",
            "File: HFTS2_20190412_044757_040<br>Magnitude: -2.12",
            "File: HFTS2_20190412_044759_040<br>Magnitude: -2.07",
            "File: HFTS2_20190412_044800_040<br>Magnitude: -2.53",
            "File: HFTS2_20190412_044803_040<br>Magnitude: -2.61",
            "File: HFTS2_20190412_044816_040<br>Magnitude: -2.12",
            "File: HFTS2_20190412_044822_040<br>Magnitude: -2.06",
            "File: HFTS2_20190412_044824_040<br>Magnitude: -2.02",
            "File: HFTS2_20190412_044829_040<br>Magnitude: -1.79",
            "File: HFTS2_20190412_044833_040<br>Magnitude: -2.29",
            "File: HFTS2_20190412_044841_040<br>Magnitude: -2.80",
            "File: HFTS2_20190412_044842_040<br>Magnitude: -2.24",
            "File: HFTS2_20190412_044903_040<br>Magnitude: -2.53",
            "File: HFTS2_20190412_044914_040<br>Magnitude: -2.58",
            "File: HFTS2_20190412_044945_040<br>Magnitude: -2.34",
            "File: HFTS2_20190412_044957_040<br>Magnitude: -2.58",
            "File: HFTS2_20190412_045027_040<br>Magnitude: -2.54",
            "File: HFTS2_20190412_045029_040<br>Magnitude: -2.63",
            "File: HFTS2_20190412_045035_040<br>Magnitude: -2.49",
            "File: HFTS2_20190412_045126_040<br>Magnitude: -2.40",
            "File: HFTS2_20190412_045127_040<br>Magnitude: -2.66",
            "File: HFTS2_20190412_045157_040<br>Magnitude: -2.08",
            "File: HFTS2_20190412_045254_040<br>Magnitude: -2.98",
            "File: HFTS2_20190412_045333_040<br>Magnitude: -2.15",
            "File: HFTS2_20190412_045344_040<br>Magnitude: -2.72",
            "File: HFTS2_20190412_045434_040<br>Magnitude: -2.50",
            "File: HFTS2_20190412_045451_040<br>Magnitude: -2.17",
            "File: HFTS2_20190412_045457_040<br>Magnitude: -2.51",
            "File: HFTS2_20190412_045523_040<br>Magnitude: -2.33",
            "File: HFTS2_20190412_045526_040<br>Magnitude: -2.80",
            "File: HFTS2_20190412_045528_040<br>Magnitude: -2.65",
            "File: HFTS2_20190412_045530_040<br>Magnitude: -2.49",
            "File: HFTS2_20190412_045535_040<br>Magnitude: -2.52",
            "File: HFTS2_20190412_045537_040<br>Magnitude: -2.76",
            "File: HFTS2_20190412_045550_040<br>Magnitude: -2.54",
            "File: HFTS2_20190412_045558_040<br>Magnitude: -2.77",
            "File: HFTS2_20190412_045602_040<br>Magnitude: -2.00",
            "File: HFTS2_20190412_045604_040<br>Magnitude: -2.78",
            "File: HFTS2_20190412_045608_040<br>Magnitude: -2.12",
            "File: HFTS2_20190412_045611_040<br>Magnitude: -2.60",
            "File: HFTS2_20190412_045620_040<br>Magnitude: -2.31",
            "File: HFTS2_20190412_045630_040<br>Magnitude: -2.65",
            "File: HFTS2_20190412_045644_040<br>Magnitude: -2.50",
            "File: HFTS2_20190412_045716_040<br>Magnitude: -2.37",
            "File: HFTS2_20190412_045727_040<br>Magnitude: -2.57",
            "File: HFTS2_20190412_045809_040<br>Magnitude: -2.58",
            "File: HFTS2_20190412_045818_040<br>Magnitude: -2.67",
            "File: HFTS2_20190412_045840_040<br>Magnitude: -2.77",
            "File: HFTS2_20190412_045938_040<br>Magnitude: -2.77",
            "File: HFTS2_20190412_045943_040<br>Magnitude: -2.39",
            "File: HFTS2_20190412_045952_040<br>Magnitude: -2.52",
            "File: HFTS2_20190412_050004_040<br>Magnitude: -2.35",
            "File: HFTS2_20190412_050011_040<br>Magnitude: -2.47",
            "File: HFTS2_20190412_050036_040<br>Magnitude: -2.61",
            "File: HFTS2_20190412_050053_040<br>Magnitude: -2.92",
            "File: HFTS2_20190412_050100_040<br>Magnitude: -2.58",
            "File: HFTS2_20190412_050127_040<br>Magnitude: -2.58",
            "File: HFTS2_20190412_050128_040<br>Magnitude: -2.57",
            "File: HFTS2_20190412_050133_040<br>Magnitude: -2.77",
            "File: HFTS2_20190412_050147_040<br>Magnitude: -2.71",
            "File: HFTS2_20190412_050202_040<br>Magnitude: -2.88",
            "File: HFTS2_20190412_050221_040<br>Magnitude: -2.82",
            "File: HFTS2_20190412_050315_040<br>Magnitude: -2.47",
            "File: HFTS2_20190412_050325_040<br>Magnitude: -2.62",
            "File: HFTS2_20190412_050358_040<br>Magnitude: -2.78",
            "File: HFTS2_20190412_050425_040<br>Magnitude: -2.75",
            "File: HFTS2_20190412_050456_040<br>Magnitude: -2.44",
            "File: HFTS2_20190412_050534_040<br>Magnitude: -2.59",
            "File: HFTS2_20190412_050607_040<br>Magnitude: -2.54"
           ],
           "type": "scatter3d",
           "x": [
            954052.5758
           ],
           "y": [
            849120.873
           ],
           "z": [
            8494.7536
           ]
          }
         ],
         "name": "2019-04-12 04:49:03.792000"
        },
        {
         "data": [
          {
           "marker": {
            "cmax": -1.6189,
            "cmin": -2.9802,
            "color": [
             -2.5809
            ],
            "colorscale": [
             [
              0,
              "#440154"
             ],
             [
              0.1111111111111111,
              "#482878"
             ],
             [
              0.2222222222222222,
              "#3e4989"
             ],
             [
              0.3333333333333333,
              "#31688e"
             ],
             [
              0.4444444444444444,
              "#26828e"
             ],
             [
              0.5555555555555556,
              "#1f9e89"
             ],
             [
              0.6666666666666666,
              "#35b779"
             ],
             [
              0.7777777777777778,
              "#6ece58"
             ],
             [
              0.8888888888888888,
              "#b5de2b"
             ],
             [
              1,
              "#fde725"
             ]
            ],
            "size": [
             258.09000000000003
            ],
            "sizemode": "diameter",
            "sizeref": 25
           },
           "mode": "markers",
           "text": [
            "File: HFTS2_20190412_042831_040<br>Magnitude: -2.77",
            "File: HFTS2_20190412_042832_040<br>Magnitude: -2.73",
            "File: HFTS2_20190412_042833_040<br>Magnitude: -2.65",
            "File: HFTS2_20190412_042835_040<br>Magnitude: -2.65",
            "File: HFTS2_20190412_043437_040<br>Magnitude: -2.56",
            "File: HFTS2_20190412_043802_040<br>Magnitude: -2.35",
            "File: HFTS2_20190412_043803_040<br>Magnitude: -2.22",
            "File: HFTS2_20190412_044156_040<br>Magnitude: -2.03",
            "File: HFTS2_20190412_044403_040<br>Magnitude: -2.39",
            "File: HFTS2_20190412_044404_040<br>Magnitude: -2.10",
            "File: HFTS2_20190412_044435_040_Merged<br>Magnitude: -2.47",
            "File: HFTS2_20190412_044506_040<br>Magnitude: -2.32",
            "File: HFTS2_20190412_044516_040<br>Magnitude: -1.97",
            "File: HFTS2_20190412_044521_040<br>Magnitude: -2.07",
            "File: HFTS2_20190412_044522_040<br>Magnitude: -2.47",
            "File: HFTS2_20190412_044526_040<br>Magnitude: -2.74",
            "File: HFTS2_20190412_044540_040<br>Magnitude: -2.21",
            "File: HFTS2_20190412_044542_040<br>Magnitude: -2.56",
            "File: HFTS2_20190412_044543_040<br>Magnitude: -2.36",
            "File: HFTS2_20190412_044544_040<br>Magnitude: -2.59",
            "File: HFTS2_20190412_044545_040<br>Magnitude: -2.60",
            "File: HFTS2_20190412_044605_040<br>Magnitude: -2.71",
            "File: HFTS2_20190412_044619_040<br>Magnitude: -2.54",
            "File: HFTS2_20190412_044620_040<br>Magnitude: -1.81",
            "File: HFTS2_20190412_044623_040<br>Magnitude: -2.21",
            "File: HFTS2_20190412_044643_040<br>Magnitude: -2.30",
            "File: HFTS2_20190412_044647_040<br>Magnitude: -2.42",
            "File: HFTS2_20190412_044651_040<br>Magnitude: -2.46",
            "File: HFTS2_20190412_044659_040_Merged<br>Magnitude: -1.62",
            "File: HFTS2_20190412_044707_040<br>Magnitude: -2.09",
            "File: HFTS2_20190412_044731_040<br>Magnitude: -2.70",
            "File: HFTS2_20190412_044737_040<br>Magnitude: -2.41",
            "File: HFTS2_20190412_044741_040<br>Magnitude: -2.63",
            "File: HFTS2_20190412_044757_040<br>Magnitude: -2.12",
            "File: HFTS2_20190412_044759_040<br>Magnitude: -2.07",
            "File: HFTS2_20190412_044800_040<br>Magnitude: -2.53",
            "File: HFTS2_20190412_044803_040<br>Magnitude: -2.61",
            "File: HFTS2_20190412_044816_040<br>Magnitude: -2.12",
            "File: HFTS2_20190412_044822_040<br>Magnitude: -2.06",
            "File: HFTS2_20190412_044824_040<br>Magnitude: -2.02",
            "File: HFTS2_20190412_044829_040<br>Magnitude: -1.79",
            "File: HFTS2_20190412_044833_040<br>Magnitude: -2.29",
            "File: HFTS2_20190412_044841_040<br>Magnitude: -2.80",
            "File: HFTS2_20190412_044842_040<br>Magnitude: -2.24",
            "File: HFTS2_20190412_044903_040<br>Magnitude: -2.53",
            "File: HFTS2_20190412_044914_040<br>Magnitude: -2.58",
            "File: HFTS2_20190412_044945_040<br>Magnitude: -2.34",
            "File: HFTS2_20190412_044957_040<br>Magnitude: -2.58",
            "File: HFTS2_20190412_045027_040<br>Magnitude: -2.54",
            "File: HFTS2_20190412_045029_040<br>Magnitude: -2.63",
            "File: HFTS2_20190412_045035_040<br>Magnitude: -2.49",
            "File: HFTS2_20190412_045126_040<br>Magnitude: -2.40",
            "File: HFTS2_20190412_045127_040<br>Magnitude: -2.66",
            "File: HFTS2_20190412_045157_040<br>Magnitude: -2.08",
            "File: HFTS2_20190412_045254_040<br>Magnitude: -2.98",
            "File: HFTS2_20190412_045333_040<br>Magnitude: -2.15",
            "File: HFTS2_20190412_045344_040<br>Magnitude: -2.72",
            "File: HFTS2_20190412_045434_040<br>Magnitude: -2.50",
            "File: HFTS2_20190412_045451_040<br>Magnitude: -2.17",
            "File: HFTS2_20190412_045457_040<br>Magnitude: -2.51",
            "File: HFTS2_20190412_045523_040<br>Magnitude: -2.33",
            "File: HFTS2_20190412_045526_040<br>Magnitude: -2.80",
            "File: HFTS2_20190412_045528_040<br>Magnitude: -2.65",
            "File: HFTS2_20190412_045530_040<br>Magnitude: -2.49",
            "File: HFTS2_20190412_045535_040<br>Magnitude: -2.52",
            "File: HFTS2_20190412_045537_040<br>Magnitude: -2.76",
            "File: HFTS2_20190412_045550_040<br>Magnitude: -2.54",
            "File: HFTS2_20190412_045558_040<br>Magnitude: -2.77",
            "File: HFTS2_20190412_045602_040<br>Magnitude: -2.00",
            "File: HFTS2_20190412_045604_040<br>Magnitude: -2.78",
            "File: HFTS2_20190412_045608_040<br>Magnitude: -2.12",
            "File: HFTS2_20190412_045611_040<br>Magnitude: -2.60",
            "File: HFTS2_20190412_045620_040<br>Magnitude: -2.31",
            "File: HFTS2_20190412_045630_040<br>Magnitude: -2.65",
            "File: HFTS2_20190412_045644_040<br>Magnitude: -2.50",
            "File: HFTS2_20190412_045716_040<br>Magnitude: -2.37",
            "File: HFTS2_20190412_045727_040<br>Magnitude: -2.57",
            "File: HFTS2_20190412_045809_040<br>Magnitude: -2.58",
            "File: HFTS2_20190412_045818_040<br>Magnitude: -2.67",
            "File: HFTS2_20190412_045840_040<br>Magnitude: -2.77",
            "File: HFTS2_20190412_045938_040<br>Magnitude: -2.77",
            "File: HFTS2_20190412_045943_040<br>Magnitude: -2.39",
            "File: HFTS2_20190412_045952_040<br>Magnitude: -2.52",
            "File: HFTS2_20190412_050004_040<br>Magnitude: -2.35",
            "File: HFTS2_20190412_050011_040<br>Magnitude: -2.47",
            "File: HFTS2_20190412_050036_040<br>Magnitude: -2.61",
            "File: HFTS2_20190412_050053_040<br>Magnitude: -2.92",
            "File: HFTS2_20190412_050100_040<br>Magnitude: -2.58",
            "File: HFTS2_20190412_050127_040<br>Magnitude: -2.58",
            "File: HFTS2_20190412_050128_040<br>Magnitude: -2.57",
            "File: HFTS2_20190412_050133_040<br>Magnitude: -2.77",
            "File: HFTS2_20190412_050147_040<br>Magnitude: -2.71",
            "File: HFTS2_20190412_050202_040<br>Magnitude: -2.88",
            "File: HFTS2_20190412_050221_040<br>Magnitude: -2.82",
            "File: HFTS2_20190412_050315_040<br>Magnitude: -2.47",
            "File: HFTS2_20190412_050325_040<br>Magnitude: -2.62",
            "File: HFTS2_20190412_050358_040<br>Magnitude: -2.78",
            "File: HFTS2_20190412_050425_040<br>Magnitude: -2.75",
            "File: HFTS2_20190412_050456_040<br>Magnitude: -2.44",
            "File: HFTS2_20190412_050534_040<br>Magnitude: -2.59",
            "File: HFTS2_20190412_050607_040<br>Magnitude: -2.54"
           ],
           "type": "scatter3d",
           "x": [
            954033.7554
           ],
           "y": [
            849125.1579
           ],
           "z": [
            8553.542
           ]
          }
         ],
         "name": "2019-04-12 04:49:14.699000"
        },
        {
         "data": [
          {
           "marker": {
            "cmax": -1.6189,
            "cmin": -2.9802,
            "color": [
             -2.3437
            ],
            "colorscale": [
             [
              0,
              "#440154"
             ],
             [
              0.1111111111111111,
              "#482878"
             ],
             [
              0.2222222222222222,
              "#3e4989"
             ],
             [
              0.3333333333333333,
              "#31688e"
             ],
             [
              0.4444444444444444,
              "#26828e"
             ],
             [
              0.5555555555555556,
              "#1f9e89"
             ],
             [
              0.6666666666666666,
              "#35b779"
             ],
             [
              0.7777777777777778,
              "#6ece58"
             ],
             [
              0.8888888888888888,
              "#b5de2b"
             ],
             [
              1,
              "#fde725"
             ]
            ],
            "size": [
             234.37
            ],
            "sizemode": "diameter",
            "sizeref": 25
           },
           "mode": "markers",
           "text": [
            "File: HFTS2_20190412_042831_040<br>Magnitude: -2.77",
            "File: HFTS2_20190412_042832_040<br>Magnitude: -2.73",
            "File: HFTS2_20190412_042833_040<br>Magnitude: -2.65",
            "File: HFTS2_20190412_042835_040<br>Magnitude: -2.65",
            "File: HFTS2_20190412_043437_040<br>Magnitude: -2.56",
            "File: HFTS2_20190412_043802_040<br>Magnitude: -2.35",
            "File: HFTS2_20190412_043803_040<br>Magnitude: -2.22",
            "File: HFTS2_20190412_044156_040<br>Magnitude: -2.03",
            "File: HFTS2_20190412_044403_040<br>Magnitude: -2.39",
            "File: HFTS2_20190412_044404_040<br>Magnitude: -2.10",
            "File: HFTS2_20190412_044435_040_Merged<br>Magnitude: -2.47",
            "File: HFTS2_20190412_044506_040<br>Magnitude: -2.32",
            "File: HFTS2_20190412_044516_040<br>Magnitude: -1.97",
            "File: HFTS2_20190412_044521_040<br>Magnitude: -2.07",
            "File: HFTS2_20190412_044522_040<br>Magnitude: -2.47",
            "File: HFTS2_20190412_044526_040<br>Magnitude: -2.74",
            "File: HFTS2_20190412_044540_040<br>Magnitude: -2.21",
            "File: HFTS2_20190412_044542_040<br>Magnitude: -2.56",
            "File: HFTS2_20190412_044543_040<br>Magnitude: -2.36",
            "File: HFTS2_20190412_044544_040<br>Magnitude: -2.59",
            "File: HFTS2_20190412_044545_040<br>Magnitude: -2.60",
            "File: HFTS2_20190412_044605_040<br>Magnitude: -2.71",
            "File: HFTS2_20190412_044619_040<br>Magnitude: -2.54",
            "File: HFTS2_20190412_044620_040<br>Magnitude: -1.81",
            "File: HFTS2_20190412_044623_040<br>Magnitude: -2.21",
            "File: HFTS2_20190412_044643_040<br>Magnitude: -2.30",
            "File: HFTS2_20190412_044647_040<br>Magnitude: -2.42",
            "File: HFTS2_20190412_044651_040<br>Magnitude: -2.46",
            "File: HFTS2_20190412_044659_040_Merged<br>Magnitude: -1.62",
            "File: HFTS2_20190412_044707_040<br>Magnitude: -2.09",
            "File: HFTS2_20190412_044731_040<br>Magnitude: -2.70",
            "File: HFTS2_20190412_044737_040<br>Magnitude: -2.41",
            "File: HFTS2_20190412_044741_040<br>Magnitude: -2.63",
            "File: HFTS2_20190412_044757_040<br>Magnitude: -2.12",
            "File: HFTS2_20190412_044759_040<br>Magnitude: -2.07",
            "File: HFTS2_20190412_044800_040<br>Magnitude: -2.53",
            "File: HFTS2_20190412_044803_040<br>Magnitude: -2.61",
            "File: HFTS2_20190412_044816_040<br>Magnitude: -2.12",
            "File: HFTS2_20190412_044822_040<br>Magnitude: -2.06",
            "File: HFTS2_20190412_044824_040<br>Magnitude: -2.02",
            "File: HFTS2_20190412_044829_040<br>Magnitude: -1.79",
            "File: HFTS2_20190412_044833_040<br>Magnitude: -2.29",
            "File: HFTS2_20190412_044841_040<br>Magnitude: -2.80",
            "File: HFTS2_20190412_044842_040<br>Magnitude: -2.24",
            "File: HFTS2_20190412_044903_040<br>Magnitude: -2.53",
            "File: HFTS2_20190412_044914_040<br>Magnitude: -2.58",
            "File: HFTS2_20190412_044945_040<br>Magnitude: -2.34",
            "File: HFTS2_20190412_044957_040<br>Magnitude: -2.58",
            "File: HFTS2_20190412_045027_040<br>Magnitude: -2.54",
            "File: HFTS2_20190412_045029_040<br>Magnitude: -2.63",
            "File: HFTS2_20190412_045035_040<br>Magnitude: -2.49",
            "File: HFTS2_20190412_045126_040<br>Magnitude: -2.40",
            "File: HFTS2_20190412_045127_040<br>Magnitude: -2.66",
            "File: HFTS2_20190412_045157_040<br>Magnitude: -2.08",
            "File: HFTS2_20190412_045254_040<br>Magnitude: -2.98",
            "File: HFTS2_20190412_045333_040<br>Magnitude: -2.15",
            "File: HFTS2_20190412_045344_040<br>Magnitude: -2.72",
            "File: HFTS2_20190412_045434_040<br>Magnitude: -2.50",
            "File: HFTS2_20190412_045451_040<br>Magnitude: -2.17",
            "File: HFTS2_20190412_045457_040<br>Magnitude: -2.51",
            "File: HFTS2_20190412_045523_040<br>Magnitude: -2.33",
            "File: HFTS2_20190412_045526_040<br>Magnitude: -2.80",
            "File: HFTS2_20190412_045528_040<br>Magnitude: -2.65",
            "File: HFTS2_20190412_045530_040<br>Magnitude: -2.49",
            "File: HFTS2_20190412_045535_040<br>Magnitude: -2.52",
            "File: HFTS2_20190412_045537_040<br>Magnitude: -2.76",
            "File: HFTS2_20190412_045550_040<br>Magnitude: -2.54",
            "File: HFTS2_20190412_045558_040<br>Magnitude: -2.77",
            "File: HFTS2_20190412_045602_040<br>Magnitude: -2.00",
            "File: HFTS2_20190412_045604_040<br>Magnitude: -2.78",
            "File: HFTS2_20190412_045608_040<br>Magnitude: -2.12",
            "File: HFTS2_20190412_045611_040<br>Magnitude: -2.60",
            "File: HFTS2_20190412_045620_040<br>Magnitude: -2.31",
            "File: HFTS2_20190412_045630_040<br>Magnitude: -2.65",
            "File: HFTS2_20190412_045644_040<br>Magnitude: -2.50",
            "File: HFTS2_20190412_045716_040<br>Magnitude: -2.37",
            "File: HFTS2_20190412_045727_040<br>Magnitude: -2.57",
            "File: HFTS2_20190412_045809_040<br>Magnitude: -2.58",
            "File: HFTS2_20190412_045818_040<br>Magnitude: -2.67",
            "File: HFTS2_20190412_045840_040<br>Magnitude: -2.77",
            "File: HFTS2_20190412_045938_040<br>Magnitude: -2.77",
            "File: HFTS2_20190412_045943_040<br>Magnitude: -2.39",
            "File: HFTS2_20190412_045952_040<br>Magnitude: -2.52",
            "File: HFTS2_20190412_050004_040<br>Magnitude: -2.35",
            "File: HFTS2_20190412_050011_040<br>Magnitude: -2.47",
            "File: HFTS2_20190412_050036_040<br>Magnitude: -2.61",
            "File: HFTS2_20190412_050053_040<br>Magnitude: -2.92",
            "File: HFTS2_20190412_050100_040<br>Magnitude: -2.58",
            "File: HFTS2_20190412_050127_040<br>Magnitude: -2.58",
            "File: HFTS2_20190412_050128_040<br>Magnitude: -2.57",
            "File: HFTS2_20190412_050133_040<br>Magnitude: -2.77",
            "File: HFTS2_20190412_050147_040<br>Magnitude: -2.71",
            "File: HFTS2_20190412_050202_040<br>Magnitude: -2.88",
            "File: HFTS2_20190412_050221_040<br>Magnitude: -2.82",
            "File: HFTS2_20190412_050315_040<br>Magnitude: -2.47",
            "File: HFTS2_20190412_050325_040<br>Magnitude: -2.62",
            "File: HFTS2_20190412_050358_040<br>Magnitude: -2.78",
            "File: HFTS2_20190412_050425_040<br>Magnitude: -2.75",
            "File: HFTS2_20190412_050456_040<br>Magnitude: -2.44",
            "File: HFTS2_20190412_050534_040<br>Magnitude: -2.59",
            "File: HFTS2_20190412_050607_040<br>Magnitude: -2.54"
           ],
           "type": "scatter3d",
           "x": [
            954147.2466
           ],
           "y": [
            849172.2815
           ],
           "z": [
            8715.3094
           ]
          }
         ],
         "name": "2019-04-12 04:49:45.609000"
        },
        {
         "data": [
          {
           "marker": {
            "cmax": -1.6189,
            "cmin": -2.9802,
            "color": [
             -2.5831
            ],
            "colorscale": [
             [
              0,
              "#440154"
             ],
             [
              0.1111111111111111,
              "#482878"
             ],
             [
              0.2222222222222222,
              "#3e4989"
             ],
             [
              0.3333333333333333,
              "#31688e"
             ],
             [
              0.4444444444444444,
              "#26828e"
             ],
             [
              0.5555555555555556,
              "#1f9e89"
             ],
             [
              0.6666666666666666,
              "#35b779"
             ],
             [
              0.7777777777777778,
              "#6ece58"
             ],
             [
              0.8888888888888888,
              "#b5de2b"
             ],
             [
              1,
              "#fde725"
             ]
            ],
            "size": [
             258.31
            ],
            "sizemode": "diameter",
            "sizeref": 25
           },
           "mode": "markers",
           "text": [
            "File: HFTS2_20190412_042831_040<br>Magnitude: -2.77",
            "File: HFTS2_20190412_042832_040<br>Magnitude: -2.73",
            "File: HFTS2_20190412_042833_040<br>Magnitude: -2.65",
            "File: HFTS2_20190412_042835_040<br>Magnitude: -2.65",
            "File: HFTS2_20190412_043437_040<br>Magnitude: -2.56",
            "File: HFTS2_20190412_043802_040<br>Magnitude: -2.35",
            "File: HFTS2_20190412_043803_040<br>Magnitude: -2.22",
            "File: HFTS2_20190412_044156_040<br>Magnitude: -2.03",
            "File: HFTS2_20190412_044403_040<br>Magnitude: -2.39",
            "File: HFTS2_20190412_044404_040<br>Magnitude: -2.10",
            "File: HFTS2_20190412_044435_040_Merged<br>Magnitude: -2.47",
            "File: HFTS2_20190412_044506_040<br>Magnitude: -2.32",
            "File: HFTS2_20190412_044516_040<br>Magnitude: -1.97",
            "File: HFTS2_20190412_044521_040<br>Magnitude: -2.07",
            "File: HFTS2_20190412_044522_040<br>Magnitude: -2.47",
            "File: HFTS2_20190412_044526_040<br>Magnitude: -2.74",
            "File: HFTS2_20190412_044540_040<br>Magnitude: -2.21",
            "File: HFTS2_20190412_044542_040<br>Magnitude: -2.56",
            "File: HFTS2_20190412_044543_040<br>Magnitude: -2.36",
            "File: HFTS2_20190412_044544_040<br>Magnitude: -2.59",
            "File: HFTS2_20190412_044545_040<br>Magnitude: -2.60",
            "File: HFTS2_20190412_044605_040<br>Magnitude: -2.71",
            "File: HFTS2_20190412_044619_040<br>Magnitude: -2.54",
            "File: HFTS2_20190412_044620_040<br>Magnitude: -1.81",
            "File: HFTS2_20190412_044623_040<br>Magnitude: -2.21",
            "File: HFTS2_20190412_044643_040<br>Magnitude: -2.30",
            "File: HFTS2_20190412_044647_040<br>Magnitude: -2.42",
            "File: HFTS2_20190412_044651_040<br>Magnitude: -2.46",
            "File: HFTS2_20190412_044659_040_Merged<br>Magnitude: -1.62",
            "File: HFTS2_20190412_044707_040<br>Magnitude: -2.09",
            "File: HFTS2_20190412_044731_040<br>Magnitude: -2.70",
            "File: HFTS2_20190412_044737_040<br>Magnitude: -2.41",
            "File: HFTS2_20190412_044741_040<br>Magnitude: -2.63",
            "File: HFTS2_20190412_044757_040<br>Magnitude: -2.12",
            "File: HFTS2_20190412_044759_040<br>Magnitude: -2.07",
            "File: HFTS2_20190412_044800_040<br>Magnitude: -2.53",
            "File: HFTS2_20190412_044803_040<br>Magnitude: -2.61",
            "File: HFTS2_20190412_044816_040<br>Magnitude: -2.12",
            "File: HFTS2_20190412_044822_040<br>Magnitude: -2.06",
            "File: HFTS2_20190412_044824_040<br>Magnitude: -2.02",
            "File: HFTS2_20190412_044829_040<br>Magnitude: -1.79",
            "File: HFTS2_20190412_044833_040<br>Magnitude: -2.29",
            "File: HFTS2_20190412_044841_040<br>Magnitude: -2.80",
            "File: HFTS2_20190412_044842_040<br>Magnitude: -2.24",
            "File: HFTS2_20190412_044903_040<br>Magnitude: -2.53",
            "File: HFTS2_20190412_044914_040<br>Magnitude: -2.58",
            "File: HFTS2_20190412_044945_040<br>Magnitude: -2.34",
            "File: HFTS2_20190412_044957_040<br>Magnitude: -2.58",
            "File: HFTS2_20190412_045027_040<br>Magnitude: -2.54",
            "File: HFTS2_20190412_045029_040<br>Magnitude: -2.63",
            "File: HFTS2_20190412_045035_040<br>Magnitude: -2.49",
            "File: HFTS2_20190412_045126_040<br>Magnitude: -2.40",
            "File: HFTS2_20190412_045127_040<br>Magnitude: -2.66",
            "File: HFTS2_20190412_045157_040<br>Magnitude: -2.08",
            "File: HFTS2_20190412_045254_040<br>Magnitude: -2.98",
            "File: HFTS2_20190412_045333_040<br>Magnitude: -2.15",
            "File: HFTS2_20190412_045344_040<br>Magnitude: -2.72",
            "File: HFTS2_20190412_045434_040<br>Magnitude: -2.50",
            "File: HFTS2_20190412_045451_040<br>Magnitude: -2.17",
            "File: HFTS2_20190412_045457_040<br>Magnitude: -2.51",
            "File: HFTS2_20190412_045523_040<br>Magnitude: -2.33",
            "File: HFTS2_20190412_045526_040<br>Magnitude: -2.80",
            "File: HFTS2_20190412_045528_040<br>Magnitude: -2.65",
            "File: HFTS2_20190412_045530_040<br>Magnitude: -2.49",
            "File: HFTS2_20190412_045535_040<br>Magnitude: -2.52",
            "File: HFTS2_20190412_045537_040<br>Magnitude: -2.76",
            "File: HFTS2_20190412_045550_040<br>Magnitude: -2.54",
            "File: HFTS2_20190412_045558_040<br>Magnitude: -2.77",
            "File: HFTS2_20190412_045602_040<br>Magnitude: -2.00",
            "File: HFTS2_20190412_045604_040<br>Magnitude: -2.78",
            "File: HFTS2_20190412_045608_040<br>Magnitude: -2.12",
            "File: HFTS2_20190412_045611_040<br>Magnitude: -2.60",
            "File: HFTS2_20190412_045620_040<br>Magnitude: -2.31",
            "File: HFTS2_20190412_045630_040<br>Magnitude: -2.65",
            "File: HFTS2_20190412_045644_040<br>Magnitude: -2.50",
            "File: HFTS2_20190412_045716_040<br>Magnitude: -2.37",
            "File: HFTS2_20190412_045727_040<br>Magnitude: -2.57",
            "File: HFTS2_20190412_045809_040<br>Magnitude: -2.58",
            "File: HFTS2_20190412_045818_040<br>Magnitude: -2.67",
            "File: HFTS2_20190412_045840_040<br>Magnitude: -2.77",
            "File: HFTS2_20190412_045938_040<br>Magnitude: -2.77",
            "File: HFTS2_20190412_045943_040<br>Magnitude: -2.39",
            "File: HFTS2_20190412_045952_040<br>Magnitude: -2.52",
            "File: HFTS2_20190412_050004_040<br>Magnitude: -2.35",
            "File: HFTS2_20190412_050011_040<br>Magnitude: -2.47",
            "File: HFTS2_20190412_050036_040<br>Magnitude: -2.61",
            "File: HFTS2_20190412_050053_040<br>Magnitude: -2.92",
            "File: HFTS2_20190412_050100_040<br>Magnitude: -2.58",
            "File: HFTS2_20190412_050127_040<br>Magnitude: -2.58",
            "File: HFTS2_20190412_050128_040<br>Magnitude: -2.57",
            "File: HFTS2_20190412_050133_040<br>Magnitude: -2.77",
            "File: HFTS2_20190412_050147_040<br>Magnitude: -2.71",
            "File: HFTS2_20190412_050202_040<br>Magnitude: -2.88",
            "File: HFTS2_20190412_050221_040<br>Magnitude: -2.82",
            "File: HFTS2_20190412_050315_040<br>Magnitude: -2.47",
            "File: HFTS2_20190412_050325_040<br>Magnitude: -2.62",
            "File: HFTS2_20190412_050358_040<br>Magnitude: -2.78",
            "File: HFTS2_20190412_050425_040<br>Magnitude: -2.75",
            "File: HFTS2_20190412_050456_040<br>Magnitude: -2.44",
            "File: HFTS2_20190412_050534_040<br>Magnitude: -2.59",
            "File: HFTS2_20190412_050607_040<br>Magnitude: -2.54"
           ],
           "type": "scatter3d",
           "x": [
            954132.7709
           ],
           "y": [
            849099.3178
           ],
           "z": [
            8505.7154
           ]
          }
         ],
         "name": "2019-04-12 04:49:57.635000"
        },
        {
         "data": [
          {
           "marker": {
            "cmax": -1.6189,
            "cmin": -2.9802,
            "color": [
             -2.5445
            ],
            "colorscale": [
             [
              0,
              "#440154"
             ],
             [
              0.1111111111111111,
              "#482878"
             ],
             [
              0.2222222222222222,
              "#3e4989"
             ],
             [
              0.3333333333333333,
              "#31688e"
             ],
             [
              0.4444444444444444,
              "#26828e"
             ],
             [
              0.5555555555555556,
              "#1f9e89"
             ],
             [
              0.6666666666666666,
              "#35b779"
             ],
             [
              0.7777777777777778,
              "#6ece58"
             ],
             [
              0.8888888888888888,
              "#b5de2b"
             ],
             [
              1,
              "#fde725"
             ]
            ],
            "size": [
             254.45000000000002
            ],
            "sizemode": "diameter",
            "sizeref": 25
           },
           "mode": "markers",
           "text": [
            "File: HFTS2_20190412_042831_040<br>Magnitude: -2.77",
            "File: HFTS2_20190412_042832_040<br>Magnitude: -2.73",
            "File: HFTS2_20190412_042833_040<br>Magnitude: -2.65",
            "File: HFTS2_20190412_042835_040<br>Magnitude: -2.65",
            "File: HFTS2_20190412_043437_040<br>Magnitude: -2.56",
            "File: HFTS2_20190412_043802_040<br>Magnitude: -2.35",
            "File: HFTS2_20190412_043803_040<br>Magnitude: -2.22",
            "File: HFTS2_20190412_044156_040<br>Magnitude: -2.03",
            "File: HFTS2_20190412_044403_040<br>Magnitude: -2.39",
            "File: HFTS2_20190412_044404_040<br>Magnitude: -2.10",
            "File: HFTS2_20190412_044435_040_Merged<br>Magnitude: -2.47",
            "File: HFTS2_20190412_044506_040<br>Magnitude: -2.32",
            "File: HFTS2_20190412_044516_040<br>Magnitude: -1.97",
            "File: HFTS2_20190412_044521_040<br>Magnitude: -2.07",
            "File: HFTS2_20190412_044522_040<br>Magnitude: -2.47",
            "File: HFTS2_20190412_044526_040<br>Magnitude: -2.74",
            "File: HFTS2_20190412_044540_040<br>Magnitude: -2.21",
            "File: HFTS2_20190412_044542_040<br>Magnitude: -2.56",
            "File: HFTS2_20190412_044543_040<br>Magnitude: -2.36",
            "File: HFTS2_20190412_044544_040<br>Magnitude: -2.59",
            "File: HFTS2_20190412_044545_040<br>Magnitude: -2.60",
            "File: HFTS2_20190412_044605_040<br>Magnitude: -2.71",
            "File: HFTS2_20190412_044619_040<br>Magnitude: -2.54",
            "File: HFTS2_20190412_044620_040<br>Magnitude: -1.81",
            "File: HFTS2_20190412_044623_040<br>Magnitude: -2.21",
            "File: HFTS2_20190412_044643_040<br>Magnitude: -2.30",
            "File: HFTS2_20190412_044647_040<br>Magnitude: -2.42",
            "File: HFTS2_20190412_044651_040<br>Magnitude: -2.46",
            "File: HFTS2_20190412_044659_040_Merged<br>Magnitude: -1.62",
            "File: HFTS2_20190412_044707_040<br>Magnitude: -2.09",
            "File: HFTS2_20190412_044731_040<br>Magnitude: -2.70",
            "File: HFTS2_20190412_044737_040<br>Magnitude: -2.41",
            "File: HFTS2_20190412_044741_040<br>Magnitude: -2.63",
            "File: HFTS2_20190412_044757_040<br>Magnitude: -2.12",
            "File: HFTS2_20190412_044759_040<br>Magnitude: -2.07",
            "File: HFTS2_20190412_044800_040<br>Magnitude: -2.53",
            "File: HFTS2_20190412_044803_040<br>Magnitude: -2.61",
            "File: HFTS2_20190412_044816_040<br>Magnitude: -2.12",
            "File: HFTS2_20190412_044822_040<br>Magnitude: -2.06",
            "File: HFTS2_20190412_044824_040<br>Magnitude: -2.02",
            "File: HFTS2_20190412_044829_040<br>Magnitude: -1.79",
            "File: HFTS2_20190412_044833_040<br>Magnitude: -2.29",
            "File: HFTS2_20190412_044841_040<br>Magnitude: -2.80",
            "File: HFTS2_20190412_044842_040<br>Magnitude: -2.24",
            "File: HFTS2_20190412_044903_040<br>Magnitude: -2.53",
            "File: HFTS2_20190412_044914_040<br>Magnitude: -2.58",
            "File: HFTS2_20190412_044945_040<br>Magnitude: -2.34",
            "File: HFTS2_20190412_044957_040<br>Magnitude: -2.58",
            "File: HFTS2_20190412_045027_040<br>Magnitude: -2.54",
            "File: HFTS2_20190412_045029_040<br>Magnitude: -2.63",
            "File: HFTS2_20190412_045035_040<br>Magnitude: -2.49",
            "File: HFTS2_20190412_045126_040<br>Magnitude: -2.40",
            "File: HFTS2_20190412_045127_040<br>Magnitude: -2.66",
            "File: HFTS2_20190412_045157_040<br>Magnitude: -2.08",
            "File: HFTS2_20190412_045254_040<br>Magnitude: -2.98",
            "File: HFTS2_20190412_045333_040<br>Magnitude: -2.15",
            "File: HFTS2_20190412_045344_040<br>Magnitude: -2.72",
            "File: HFTS2_20190412_045434_040<br>Magnitude: -2.50",
            "File: HFTS2_20190412_045451_040<br>Magnitude: -2.17",
            "File: HFTS2_20190412_045457_040<br>Magnitude: -2.51",
            "File: HFTS2_20190412_045523_040<br>Magnitude: -2.33",
            "File: HFTS2_20190412_045526_040<br>Magnitude: -2.80",
            "File: HFTS2_20190412_045528_040<br>Magnitude: -2.65",
            "File: HFTS2_20190412_045530_040<br>Magnitude: -2.49",
            "File: HFTS2_20190412_045535_040<br>Magnitude: -2.52",
            "File: HFTS2_20190412_045537_040<br>Magnitude: -2.76",
            "File: HFTS2_20190412_045550_040<br>Magnitude: -2.54",
            "File: HFTS2_20190412_045558_040<br>Magnitude: -2.77",
            "File: HFTS2_20190412_045602_040<br>Magnitude: -2.00",
            "File: HFTS2_20190412_045604_040<br>Magnitude: -2.78",
            "File: HFTS2_20190412_045608_040<br>Magnitude: -2.12",
            "File: HFTS2_20190412_045611_040<br>Magnitude: -2.60",
            "File: HFTS2_20190412_045620_040<br>Magnitude: -2.31",
            "File: HFTS2_20190412_045630_040<br>Magnitude: -2.65",
            "File: HFTS2_20190412_045644_040<br>Magnitude: -2.50",
            "File: HFTS2_20190412_045716_040<br>Magnitude: -2.37",
            "File: HFTS2_20190412_045727_040<br>Magnitude: -2.57",
            "File: HFTS2_20190412_045809_040<br>Magnitude: -2.58",
            "File: HFTS2_20190412_045818_040<br>Magnitude: -2.67",
            "File: HFTS2_20190412_045840_040<br>Magnitude: -2.77",
            "File: HFTS2_20190412_045938_040<br>Magnitude: -2.77",
            "File: HFTS2_20190412_045943_040<br>Magnitude: -2.39",
            "File: HFTS2_20190412_045952_040<br>Magnitude: -2.52",
            "File: HFTS2_20190412_050004_040<br>Magnitude: -2.35",
            "File: HFTS2_20190412_050011_040<br>Magnitude: -2.47",
            "File: HFTS2_20190412_050036_040<br>Magnitude: -2.61",
            "File: HFTS2_20190412_050053_040<br>Magnitude: -2.92",
            "File: HFTS2_20190412_050100_040<br>Magnitude: -2.58",
            "File: HFTS2_20190412_050127_040<br>Magnitude: -2.58",
            "File: HFTS2_20190412_050128_040<br>Magnitude: -2.57",
            "File: HFTS2_20190412_050133_040<br>Magnitude: -2.77",
            "File: HFTS2_20190412_050147_040<br>Magnitude: -2.71",
            "File: HFTS2_20190412_050202_040<br>Magnitude: -2.88",
            "File: HFTS2_20190412_050221_040<br>Magnitude: -2.82",
            "File: HFTS2_20190412_050315_040<br>Magnitude: -2.47",
            "File: HFTS2_20190412_050325_040<br>Magnitude: -2.62",
            "File: HFTS2_20190412_050358_040<br>Magnitude: -2.78",
            "File: HFTS2_20190412_050425_040<br>Magnitude: -2.75",
            "File: HFTS2_20190412_050456_040<br>Magnitude: -2.44",
            "File: HFTS2_20190412_050534_040<br>Magnitude: -2.59",
            "File: HFTS2_20190412_050607_040<br>Magnitude: -2.54"
           ],
           "type": "scatter3d",
           "x": [
            954135.3389
           ],
           "y": [
            849194.0432
           ],
           "z": [
            8749.0811
           ]
          }
         ],
         "name": "2019-04-12 04:50:27.205000"
        },
        {
         "data": [
          {
           "marker": {
            "cmax": -1.6189,
            "cmin": -2.9802,
            "color": [
             -2.6313
            ],
            "colorscale": [
             [
              0,
              "#440154"
             ],
             [
              0.1111111111111111,
              "#482878"
             ],
             [
              0.2222222222222222,
              "#3e4989"
             ],
             [
              0.3333333333333333,
              "#31688e"
             ],
             [
              0.4444444444444444,
              "#26828e"
             ],
             [
              0.5555555555555556,
              "#1f9e89"
             ],
             [
              0.6666666666666666,
              "#35b779"
             ],
             [
              0.7777777777777778,
              "#6ece58"
             ],
             [
              0.8888888888888888,
              "#b5de2b"
             ],
             [
              1,
              "#fde725"
             ]
            ],
            "size": [
             263.13
            ],
            "sizemode": "diameter",
            "sizeref": 25
           },
           "mode": "markers",
           "text": [
            "File: HFTS2_20190412_042831_040<br>Magnitude: -2.77",
            "File: HFTS2_20190412_042832_040<br>Magnitude: -2.73",
            "File: HFTS2_20190412_042833_040<br>Magnitude: -2.65",
            "File: HFTS2_20190412_042835_040<br>Magnitude: -2.65",
            "File: HFTS2_20190412_043437_040<br>Magnitude: -2.56",
            "File: HFTS2_20190412_043802_040<br>Magnitude: -2.35",
            "File: HFTS2_20190412_043803_040<br>Magnitude: -2.22",
            "File: HFTS2_20190412_044156_040<br>Magnitude: -2.03",
            "File: HFTS2_20190412_044403_040<br>Magnitude: -2.39",
            "File: HFTS2_20190412_044404_040<br>Magnitude: -2.10",
            "File: HFTS2_20190412_044435_040_Merged<br>Magnitude: -2.47",
            "File: HFTS2_20190412_044506_040<br>Magnitude: -2.32",
            "File: HFTS2_20190412_044516_040<br>Magnitude: -1.97",
            "File: HFTS2_20190412_044521_040<br>Magnitude: -2.07",
            "File: HFTS2_20190412_044522_040<br>Magnitude: -2.47",
            "File: HFTS2_20190412_044526_040<br>Magnitude: -2.74",
            "File: HFTS2_20190412_044540_040<br>Magnitude: -2.21",
            "File: HFTS2_20190412_044542_040<br>Magnitude: -2.56",
            "File: HFTS2_20190412_044543_040<br>Magnitude: -2.36",
            "File: HFTS2_20190412_044544_040<br>Magnitude: -2.59",
            "File: HFTS2_20190412_044545_040<br>Magnitude: -2.60",
            "File: HFTS2_20190412_044605_040<br>Magnitude: -2.71",
            "File: HFTS2_20190412_044619_040<br>Magnitude: -2.54",
            "File: HFTS2_20190412_044620_040<br>Magnitude: -1.81",
            "File: HFTS2_20190412_044623_040<br>Magnitude: -2.21",
            "File: HFTS2_20190412_044643_040<br>Magnitude: -2.30",
            "File: HFTS2_20190412_044647_040<br>Magnitude: -2.42",
            "File: HFTS2_20190412_044651_040<br>Magnitude: -2.46",
            "File: HFTS2_20190412_044659_040_Merged<br>Magnitude: -1.62",
            "File: HFTS2_20190412_044707_040<br>Magnitude: -2.09",
            "File: HFTS2_20190412_044731_040<br>Magnitude: -2.70",
            "File: HFTS2_20190412_044737_040<br>Magnitude: -2.41",
            "File: HFTS2_20190412_044741_040<br>Magnitude: -2.63",
            "File: HFTS2_20190412_044757_040<br>Magnitude: -2.12",
            "File: HFTS2_20190412_044759_040<br>Magnitude: -2.07",
            "File: HFTS2_20190412_044800_040<br>Magnitude: -2.53",
            "File: HFTS2_20190412_044803_040<br>Magnitude: -2.61",
            "File: HFTS2_20190412_044816_040<br>Magnitude: -2.12",
            "File: HFTS2_20190412_044822_040<br>Magnitude: -2.06",
            "File: HFTS2_20190412_044824_040<br>Magnitude: -2.02",
            "File: HFTS2_20190412_044829_040<br>Magnitude: -1.79",
            "File: HFTS2_20190412_044833_040<br>Magnitude: -2.29",
            "File: HFTS2_20190412_044841_040<br>Magnitude: -2.80",
            "File: HFTS2_20190412_044842_040<br>Magnitude: -2.24",
            "File: HFTS2_20190412_044903_040<br>Magnitude: -2.53",
            "File: HFTS2_20190412_044914_040<br>Magnitude: -2.58",
            "File: HFTS2_20190412_044945_040<br>Magnitude: -2.34",
            "File: HFTS2_20190412_044957_040<br>Magnitude: -2.58",
            "File: HFTS2_20190412_045027_040<br>Magnitude: -2.54",
            "File: HFTS2_20190412_045029_040<br>Magnitude: -2.63",
            "File: HFTS2_20190412_045035_040<br>Magnitude: -2.49",
            "File: HFTS2_20190412_045126_040<br>Magnitude: -2.40",
            "File: HFTS2_20190412_045127_040<br>Magnitude: -2.66",
            "File: HFTS2_20190412_045157_040<br>Magnitude: -2.08",
            "File: HFTS2_20190412_045254_040<br>Magnitude: -2.98",
            "File: HFTS2_20190412_045333_040<br>Magnitude: -2.15",
            "File: HFTS2_20190412_045344_040<br>Magnitude: -2.72",
            "File: HFTS2_20190412_045434_040<br>Magnitude: -2.50",
            "File: HFTS2_20190412_045451_040<br>Magnitude: -2.17",
            "File: HFTS2_20190412_045457_040<br>Magnitude: -2.51",
            "File: HFTS2_20190412_045523_040<br>Magnitude: -2.33",
            "File: HFTS2_20190412_045526_040<br>Magnitude: -2.80",
            "File: HFTS2_20190412_045528_040<br>Magnitude: -2.65",
            "File: HFTS2_20190412_045530_040<br>Magnitude: -2.49",
            "File: HFTS2_20190412_045535_040<br>Magnitude: -2.52",
            "File: HFTS2_20190412_045537_040<br>Magnitude: -2.76",
            "File: HFTS2_20190412_045550_040<br>Magnitude: -2.54",
            "File: HFTS2_20190412_045558_040<br>Magnitude: -2.77",
            "File: HFTS2_20190412_045602_040<br>Magnitude: -2.00",
            "File: HFTS2_20190412_045604_040<br>Magnitude: -2.78",
            "File: HFTS2_20190412_045608_040<br>Magnitude: -2.12",
            "File: HFTS2_20190412_045611_040<br>Magnitude: -2.60",
            "File: HFTS2_20190412_045620_040<br>Magnitude: -2.31",
            "File: HFTS2_20190412_045630_040<br>Magnitude: -2.65",
            "File: HFTS2_20190412_045644_040<br>Magnitude: -2.50",
            "File: HFTS2_20190412_045716_040<br>Magnitude: -2.37",
            "File: HFTS2_20190412_045727_040<br>Magnitude: -2.57",
            "File: HFTS2_20190412_045809_040<br>Magnitude: -2.58",
            "File: HFTS2_20190412_045818_040<br>Magnitude: -2.67",
            "File: HFTS2_20190412_045840_040<br>Magnitude: -2.77",
            "File: HFTS2_20190412_045938_040<br>Magnitude: -2.77",
            "File: HFTS2_20190412_045943_040<br>Magnitude: -2.39",
            "File: HFTS2_20190412_045952_040<br>Magnitude: -2.52",
            "File: HFTS2_20190412_050004_040<br>Magnitude: -2.35",
            "File: HFTS2_20190412_050011_040<br>Magnitude: -2.47",
            "File: HFTS2_20190412_050036_040<br>Magnitude: -2.61",
            "File: HFTS2_20190412_050053_040<br>Magnitude: -2.92",
            "File: HFTS2_20190412_050100_040<br>Magnitude: -2.58",
            "File: HFTS2_20190412_050127_040<br>Magnitude: -2.58",
            "File: HFTS2_20190412_050128_040<br>Magnitude: -2.57",
            "File: HFTS2_20190412_050133_040<br>Magnitude: -2.77",
            "File: HFTS2_20190412_050147_040<br>Magnitude: -2.71",
            "File: HFTS2_20190412_050202_040<br>Magnitude: -2.88",
            "File: HFTS2_20190412_050221_040<br>Magnitude: -2.82",
            "File: HFTS2_20190412_050315_040<br>Magnitude: -2.47",
            "File: HFTS2_20190412_050325_040<br>Magnitude: -2.62",
            "File: HFTS2_20190412_050358_040<br>Magnitude: -2.78",
            "File: HFTS2_20190412_050425_040<br>Magnitude: -2.75",
            "File: HFTS2_20190412_050456_040<br>Magnitude: -2.44",
            "File: HFTS2_20190412_050534_040<br>Magnitude: -2.59",
            "File: HFTS2_20190412_050607_040<br>Magnitude: -2.54"
           ],
           "type": "scatter3d",
           "x": [
            954049.5549
           ],
           "y": [
            849111.3395
           ],
           "z": [
            8363.8605
           ]
          }
         ],
         "name": "2019-04-12 04:50:29.182000"
        },
        {
         "data": [
          {
           "marker": {
            "cmax": -1.6189,
            "cmin": -2.9802,
            "color": [
             -2.4916
            ],
            "colorscale": [
             [
              0,
              "#440154"
             ],
             [
              0.1111111111111111,
              "#482878"
             ],
             [
              0.2222222222222222,
              "#3e4989"
             ],
             [
              0.3333333333333333,
              "#31688e"
             ],
             [
              0.4444444444444444,
              "#26828e"
             ],
             [
              0.5555555555555556,
              "#1f9e89"
             ],
             [
              0.6666666666666666,
              "#35b779"
             ],
             [
              0.7777777777777778,
              "#6ece58"
             ],
             [
              0.8888888888888888,
              "#b5de2b"
             ],
             [
              1,
              "#fde725"
             ]
            ],
            "size": [
             249.16
            ],
            "sizemode": "diameter",
            "sizeref": 25
           },
           "mode": "markers",
           "text": [
            "File: HFTS2_20190412_042831_040<br>Magnitude: -2.77",
            "File: HFTS2_20190412_042832_040<br>Magnitude: -2.73",
            "File: HFTS2_20190412_042833_040<br>Magnitude: -2.65",
            "File: HFTS2_20190412_042835_040<br>Magnitude: -2.65",
            "File: HFTS2_20190412_043437_040<br>Magnitude: -2.56",
            "File: HFTS2_20190412_043802_040<br>Magnitude: -2.35",
            "File: HFTS2_20190412_043803_040<br>Magnitude: -2.22",
            "File: HFTS2_20190412_044156_040<br>Magnitude: -2.03",
            "File: HFTS2_20190412_044403_040<br>Magnitude: -2.39",
            "File: HFTS2_20190412_044404_040<br>Magnitude: -2.10",
            "File: HFTS2_20190412_044435_040_Merged<br>Magnitude: -2.47",
            "File: HFTS2_20190412_044506_040<br>Magnitude: -2.32",
            "File: HFTS2_20190412_044516_040<br>Magnitude: -1.97",
            "File: HFTS2_20190412_044521_040<br>Magnitude: -2.07",
            "File: HFTS2_20190412_044522_040<br>Magnitude: -2.47",
            "File: HFTS2_20190412_044526_040<br>Magnitude: -2.74",
            "File: HFTS2_20190412_044540_040<br>Magnitude: -2.21",
            "File: HFTS2_20190412_044542_040<br>Magnitude: -2.56",
            "File: HFTS2_20190412_044543_040<br>Magnitude: -2.36",
            "File: HFTS2_20190412_044544_040<br>Magnitude: -2.59",
            "File: HFTS2_20190412_044545_040<br>Magnitude: -2.60",
            "File: HFTS2_20190412_044605_040<br>Magnitude: -2.71",
            "File: HFTS2_20190412_044619_040<br>Magnitude: -2.54",
            "File: HFTS2_20190412_044620_040<br>Magnitude: -1.81",
            "File: HFTS2_20190412_044623_040<br>Magnitude: -2.21",
            "File: HFTS2_20190412_044643_040<br>Magnitude: -2.30",
            "File: HFTS2_20190412_044647_040<br>Magnitude: -2.42",
            "File: HFTS2_20190412_044651_040<br>Magnitude: -2.46",
            "File: HFTS2_20190412_044659_040_Merged<br>Magnitude: -1.62",
            "File: HFTS2_20190412_044707_040<br>Magnitude: -2.09",
            "File: HFTS2_20190412_044731_040<br>Magnitude: -2.70",
            "File: HFTS2_20190412_044737_040<br>Magnitude: -2.41",
            "File: HFTS2_20190412_044741_040<br>Magnitude: -2.63",
            "File: HFTS2_20190412_044757_040<br>Magnitude: -2.12",
            "File: HFTS2_20190412_044759_040<br>Magnitude: -2.07",
            "File: HFTS2_20190412_044800_040<br>Magnitude: -2.53",
            "File: HFTS2_20190412_044803_040<br>Magnitude: -2.61",
            "File: HFTS2_20190412_044816_040<br>Magnitude: -2.12",
            "File: HFTS2_20190412_044822_040<br>Magnitude: -2.06",
            "File: HFTS2_20190412_044824_040<br>Magnitude: -2.02",
            "File: HFTS2_20190412_044829_040<br>Magnitude: -1.79",
            "File: HFTS2_20190412_044833_040<br>Magnitude: -2.29",
            "File: HFTS2_20190412_044841_040<br>Magnitude: -2.80",
            "File: HFTS2_20190412_044842_040<br>Magnitude: -2.24",
            "File: HFTS2_20190412_044903_040<br>Magnitude: -2.53",
            "File: HFTS2_20190412_044914_040<br>Magnitude: -2.58",
            "File: HFTS2_20190412_044945_040<br>Magnitude: -2.34",
            "File: HFTS2_20190412_044957_040<br>Magnitude: -2.58",
            "File: HFTS2_20190412_045027_040<br>Magnitude: -2.54",
            "File: HFTS2_20190412_045029_040<br>Magnitude: -2.63",
            "File: HFTS2_20190412_045035_040<br>Magnitude: -2.49",
            "File: HFTS2_20190412_045126_040<br>Magnitude: -2.40",
            "File: HFTS2_20190412_045127_040<br>Magnitude: -2.66",
            "File: HFTS2_20190412_045157_040<br>Magnitude: -2.08",
            "File: HFTS2_20190412_045254_040<br>Magnitude: -2.98",
            "File: HFTS2_20190412_045333_040<br>Magnitude: -2.15",
            "File: HFTS2_20190412_045344_040<br>Magnitude: -2.72",
            "File: HFTS2_20190412_045434_040<br>Magnitude: -2.50",
            "File: HFTS2_20190412_045451_040<br>Magnitude: -2.17",
            "File: HFTS2_20190412_045457_040<br>Magnitude: -2.51",
            "File: HFTS2_20190412_045523_040<br>Magnitude: -2.33",
            "File: HFTS2_20190412_045526_040<br>Magnitude: -2.80",
            "File: HFTS2_20190412_045528_040<br>Magnitude: -2.65",
            "File: HFTS2_20190412_045530_040<br>Magnitude: -2.49",
            "File: HFTS2_20190412_045535_040<br>Magnitude: -2.52",
            "File: HFTS2_20190412_045537_040<br>Magnitude: -2.76",
            "File: HFTS2_20190412_045550_040<br>Magnitude: -2.54",
            "File: HFTS2_20190412_045558_040<br>Magnitude: -2.77",
            "File: HFTS2_20190412_045602_040<br>Magnitude: -2.00",
            "File: HFTS2_20190412_045604_040<br>Magnitude: -2.78",
            "File: HFTS2_20190412_045608_040<br>Magnitude: -2.12",
            "File: HFTS2_20190412_045611_040<br>Magnitude: -2.60",
            "File: HFTS2_20190412_045620_040<br>Magnitude: -2.31",
            "File: HFTS2_20190412_045630_040<br>Magnitude: -2.65",
            "File: HFTS2_20190412_045644_040<br>Magnitude: -2.50",
            "File: HFTS2_20190412_045716_040<br>Magnitude: -2.37",
            "File: HFTS2_20190412_045727_040<br>Magnitude: -2.57",
            "File: HFTS2_20190412_045809_040<br>Magnitude: -2.58",
            "File: HFTS2_20190412_045818_040<br>Magnitude: -2.67",
            "File: HFTS2_20190412_045840_040<br>Magnitude: -2.77",
            "File: HFTS2_20190412_045938_040<br>Magnitude: -2.77",
            "File: HFTS2_20190412_045943_040<br>Magnitude: -2.39",
            "File: HFTS2_20190412_045952_040<br>Magnitude: -2.52",
            "File: HFTS2_20190412_050004_040<br>Magnitude: -2.35",
            "File: HFTS2_20190412_050011_040<br>Magnitude: -2.47",
            "File: HFTS2_20190412_050036_040<br>Magnitude: -2.61",
            "File: HFTS2_20190412_050053_040<br>Magnitude: -2.92",
            "File: HFTS2_20190412_050100_040<br>Magnitude: -2.58",
            "File: HFTS2_20190412_050127_040<br>Magnitude: -2.58",
            "File: HFTS2_20190412_050128_040<br>Magnitude: -2.57",
            "File: HFTS2_20190412_050133_040<br>Magnitude: -2.77",
            "File: HFTS2_20190412_050147_040<br>Magnitude: -2.71",
            "File: HFTS2_20190412_050202_040<br>Magnitude: -2.88",
            "File: HFTS2_20190412_050221_040<br>Magnitude: -2.82",
            "File: HFTS2_20190412_050315_040<br>Magnitude: -2.47",
            "File: HFTS2_20190412_050325_040<br>Magnitude: -2.62",
            "File: HFTS2_20190412_050358_040<br>Magnitude: -2.78",
            "File: HFTS2_20190412_050425_040<br>Magnitude: -2.75",
            "File: HFTS2_20190412_050456_040<br>Magnitude: -2.44",
            "File: HFTS2_20190412_050534_040<br>Magnitude: -2.59",
            "File: HFTS2_20190412_050607_040<br>Magnitude: -2.54"
           ],
           "type": "scatter3d",
           "x": [
            954146.5942
           ],
           "y": [
            849134.5758
           ],
           "z": [
            8638.1773
           ]
          }
         ],
         "name": "2019-04-12 04:50:35.599000"
        },
        {
         "data": [
          {
           "marker": {
            "cmax": -1.6189,
            "cmin": -2.9802,
            "color": [
             -2.4035
            ],
            "colorscale": [
             [
              0,
              "#440154"
             ],
             [
              0.1111111111111111,
              "#482878"
             ],
             [
              0.2222222222222222,
              "#3e4989"
             ],
             [
              0.3333333333333333,
              "#31688e"
             ],
             [
              0.4444444444444444,
              "#26828e"
             ],
             [
              0.5555555555555556,
              "#1f9e89"
             ],
             [
              0.6666666666666666,
              "#35b779"
             ],
             [
              0.7777777777777778,
              "#6ece58"
             ],
             [
              0.8888888888888888,
              "#b5de2b"
             ],
             [
              1,
              "#fde725"
             ]
            ],
            "size": [
             240.35000000000002
            ],
            "sizemode": "diameter",
            "sizeref": 25
           },
           "mode": "markers",
           "text": [
            "File: HFTS2_20190412_042831_040<br>Magnitude: -2.77",
            "File: HFTS2_20190412_042832_040<br>Magnitude: -2.73",
            "File: HFTS2_20190412_042833_040<br>Magnitude: -2.65",
            "File: HFTS2_20190412_042835_040<br>Magnitude: -2.65",
            "File: HFTS2_20190412_043437_040<br>Magnitude: -2.56",
            "File: HFTS2_20190412_043802_040<br>Magnitude: -2.35",
            "File: HFTS2_20190412_043803_040<br>Magnitude: -2.22",
            "File: HFTS2_20190412_044156_040<br>Magnitude: -2.03",
            "File: HFTS2_20190412_044403_040<br>Magnitude: -2.39",
            "File: HFTS2_20190412_044404_040<br>Magnitude: -2.10",
            "File: HFTS2_20190412_044435_040_Merged<br>Magnitude: -2.47",
            "File: HFTS2_20190412_044506_040<br>Magnitude: -2.32",
            "File: HFTS2_20190412_044516_040<br>Magnitude: -1.97",
            "File: HFTS2_20190412_044521_040<br>Magnitude: -2.07",
            "File: HFTS2_20190412_044522_040<br>Magnitude: -2.47",
            "File: HFTS2_20190412_044526_040<br>Magnitude: -2.74",
            "File: HFTS2_20190412_044540_040<br>Magnitude: -2.21",
            "File: HFTS2_20190412_044542_040<br>Magnitude: -2.56",
            "File: HFTS2_20190412_044543_040<br>Magnitude: -2.36",
            "File: HFTS2_20190412_044544_040<br>Magnitude: -2.59",
            "File: HFTS2_20190412_044545_040<br>Magnitude: -2.60",
            "File: HFTS2_20190412_044605_040<br>Magnitude: -2.71",
            "File: HFTS2_20190412_044619_040<br>Magnitude: -2.54",
            "File: HFTS2_20190412_044620_040<br>Magnitude: -1.81",
            "File: HFTS2_20190412_044623_040<br>Magnitude: -2.21",
            "File: HFTS2_20190412_044643_040<br>Magnitude: -2.30",
            "File: HFTS2_20190412_044647_040<br>Magnitude: -2.42",
            "File: HFTS2_20190412_044651_040<br>Magnitude: -2.46",
            "File: HFTS2_20190412_044659_040_Merged<br>Magnitude: -1.62",
            "File: HFTS2_20190412_044707_040<br>Magnitude: -2.09",
            "File: HFTS2_20190412_044731_040<br>Magnitude: -2.70",
            "File: HFTS2_20190412_044737_040<br>Magnitude: -2.41",
            "File: HFTS2_20190412_044741_040<br>Magnitude: -2.63",
            "File: HFTS2_20190412_044757_040<br>Magnitude: -2.12",
            "File: HFTS2_20190412_044759_040<br>Magnitude: -2.07",
            "File: HFTS2_20190412_044800_040<br>Magnitude: -2.53",
            "File: HFTS2_20190412_044803_040<br>Magnitude: -2.61",
            "File: HFTS2_20190412_044816_040<br>Magnitude: -2.12",
            "File: HFTS2_20190412_044822_040<br>Magnitude: -2.06",
            "File: HFTS2_20190412_044824_040<br>Magnitude: -2.02",
            "File: HFTS2_20190412_044829_040<br>Magnitude: -1.79",
            "File: HFTS2_20190412_044833_040<br>Magnitude: -2.29",
            "File: HFTS2_20190412_044841_040<br>Magnitude: -2.80",
            "File: HFTS2_20190412_044842_040<br>Magnitude: -2.24",
            "File: HFTS2_20190412_044903_040<br>Magnitude: -2.53",
            "File: HFTS2_20190412_044914_040<br>Magnitude: -2.58",
            "File: HFTS2_20190412_044945_040<br>Magnitude: -2.34",
            "File: HFTS2_20190412_044957_040<br>Magnitude: -2.58",
            "File: HFTS2_20190412_045027_040<br>Magnitude: -2.54",
            "File: HFTS2_20190412_045029_040<br>Magnitude: -2.63",
            "File: HFTS2_20190412_045035_040<br>Magnitude: -2.49",
            "File: HFTS2_20190412_045126_040<br>Magnitude: -2.40",
            "File: HFTS2_20190412_045127_040<br>Magnitude: -2.66",
            "File: HFTS2_20190412_045157_040<br>Magnitude: -2.08",
            "File: HFTS2_20190412_045254_040<br>Magnitude: -2.98",
            "File: HFTS2_20190412_045333_040<br>Magnitude: -2.15",
            "File: HFTS2_20190412_045344_040<br>Magnitude: -2.72",
            "File: HFTS2_20190412_045434_040<br>Magnitude: -2.50",
            "File: HFTS2_20190412_045451_040<br>Magnitude: -2.17",
            "File: HFTS2_20190412_045457_040<br>Magnitude: -2.51",
            "File: HFTS2_20190412_045523_040<br>Magnitude: -2.33",
            "File: HFTS2_20190412_045526_040<br>Magnitude: -2.80",
            "File: HFTS2_20190412_045528_040<br>Magnitude: -2.65",
            "File: HFTS2_20190412_045530_040<br>Magnitude: -2.49",
            "File: HFTS2_20190412_045535_040<br>Magnitude: -2.52",
            "File: HFTS2_20190412_045537_040<br>Magnitude: -2.76",
            "File: HFTS2_20190412_045550_040<br>Magnitude: -2.54",
            "File: HFTS2_20190412_045558_040<br>Magnitude: -2.77",
            "File: HFTS2_20190412_045602_040<br>Magnitude: -2.00",
            "File: HFTS2_20190412_045604_040<br>Magnitude: -2.78",
            "File: HFTS2_20190412_045608_040<br>Magnitude: -2.12",
            "File: HFTS2_20190412_045611_040<br>Magnitude: -2.60",
            "File: HFTS2_20190412_045620_040<br>Magnitude: -2.31",
            "File: HFTS2_20190412_045630_040<br>Magnitude: -2.65",
            "File: HFTS2_20190412_045644_040<br>Magnitude: -2.50",
            "File: HFTS2_20190412_045716_040<br>Magnitude: -2.37",
            "File: HFTS2_20190412_045727_040<br>Magnitude: -2.57",
            "File: HFTS2_20190412_045809_040<br>Magnitude: -2.58",
            "File: HFTS2_20190412_045818_040<br>Magnitude: -2.67",
            "File: HFTS2_20190412_045840_040<br>Magnitude: -2.77",
            "File: HFTS2_20190412_045938_040<br>Magnitude: -2.77",
            "File: HFTS2_20190412_045943_040<br>Magnitude: -2.39",
            "File: HFTS2_20190412_045952_040<br>Magnitude: -2.52",
            "File: HFTS2_20190412_050004_040<br>Magnitude: -2.35",
            "File: HFTS2_20190412_050011_040<br>Magnitude: -2.47",
            "File: HFTS2_20190412_050036_040<br>Magnitude: -2.61",
            "File: HFTS2_20190412_050053_040<br>Magnitude: -2.92",
            "File: HFTS2_20190412_050100_040<br>Magnitude: -2.58",
            "File: HFTS2_20190412_050127_040<br>Magnitude: -2.58",
            "File: HFTS2_20190412_050128_040<br>Magnitude: -2.57",
            "File: HFTS2_20190412_050133_040<br>Magnitude: -2.77",
            "File: HFTS2_20190412_050147_040<br>Magnitude: -2.71",
            "File: HFTS2_20190412_050202_040<br>Magnitude: -2.88",
            "File: HFTS2_20190412_050221_040<br>Magnitude: -2.82",
            "File: HFTS2_20190412_050315_040<br>Magnitude: -2.47",
            "File: HFTS2_20190412_050325_040<br>Magnitude: -2.62",
            "File: HFTS2_20190412_050358_040<br>Magnitude: -2.78",
            "File: HFTS2_20190412_050425_040<br>Magnitude: -2.75",
            "File: HFTS2_20190412_050456_040<br>Magnitude: -2.44",
            "File: HFTS2_20190412_050534_040<br>Magnitude: -2.59",
            "File: HFTS2_20190412_050607_040<br>Magnitude: -2.54"
           ],
           "type": "scatter3d",
           "x": [
            954180.4498
           ],
           "y": [
            849128.7871
           ],
           "z": [
            8360.0673
           ]
          }
         ],
         "name": "2019-04-12 04:51:26.036000"
        },
        {
         "data": [
          {
           "marker": {
            "cmax": -1.6189,
            "cmin": -2.9802,
            "color": [
             -2.6585
            ],
            "colorscale": [
             [
              0,
              "#440154"
             ],
             [
              0.1111111111111111,
              "#482878"
             ],
             [
              0.2222222222222222,
              "#3e4989"
             ],
             [
              0.3333333333333333,
              "#31688e"
             ],
             [
              0.4444444444444444,
              "#26828e"
             ],
             [
              0.5555555555555556,
              "#1f9e89"
             ],
             [
              0.6666666666666666,
              "#35b779"
             ],
             [
              0.7777777777777778,
              "#6ece58"
             ],
             [
              0.8888888888888888,
              "#b5de2b"
             ],
             [
              1,
              "#fde725"
             ]
            ],
            "size": [
             265.85
            ],
            "sizemode": "diameter",
            "sizeref": 25
           },
           "mode": "markers",
           "text": [
            "File: HFTS2_20190412_042831_040<br>Magnitude: -2.77",
            "File: HFTS2_20190412_042832_040<br>Magnitude: -2.73",
            "File: HFTS2_20190412_042833_040<br>Magnitude: -2.65",
            "File: HFTS2_20190412_042835_040<br>Magnitude: -2.65",
            "File: HFTS2_20190412_043437_040<br>Magnitude: -2.56",
            "File: HFTS2_20190412_043802_040<br>Magnitude: -2.35",
            "File: HFTS2_20190412_043803_040<br>Magnitude: -2.22",
            "File: HFTS2_20190412_044156_040<br>Magnitude: -2.03",
            "File: HFTS2_20190412_044403_040<br>Magnitude: -2.39",
            "File: HFTS2_20190412_044404_040<br>Magnitude: -2.10",
            "File: HFTS2_20190412_044435_040_Merged<br>Magnitude: -2.47",
            "File: HFTS2_20190412_044506_040<br>Magnitude: -2.32",
            "File: HFTS2_20190412_044516_040<br>Magnitude: -1.97",
            "File: HFTS2_20190412_044521_040<br>Magnitude: -2.07",
            "File: HFTS2_20190412_044522_040<br>Magnitude: -2.47",
            "File: HFTS2_20190412_044526_040<br>Magnitude: -2.74",
            "File: HFTS2_20190412_044540_040<br>Magnitude: -2.21",
            "File: HFTS2_20190412_044542_040<br>Magnitude: -2.56",
            "File: HFTS2_20190412_044543_040<br>Magnitude: -2.36",
            "File: HFTS2_20190412_044544_040<br>Magnitude: -2.59",
            "File: HFTS2_20190412_044545_040<br>Magnitude: -2.60",
            "File: HFTS2_20190412_044605_040<br>Magnitude: -2.71",
            "File: HFTS2_20190412_044619_040<br>Magnitude: -2.54",
            "File: HFTS2_20190412_044620_040<br>Magnitude: -1.81",
            "File: HFTS2_20190412_044623_040<br>Magnitude: -2.21",
            "File: HFTS2_20190412_044643_040<br>Magnitude: -2.30",
            "File: HFTS2_20190412_044647_040<br>Magnitude: -2.42",
            "File: HFTS2_20190412_044651_040<br>Magnitude: -2.46",
            "File: HFTS2_20190412_044659_040_Merged<br>Magnitude: -1.62",
            "File: HFTS2_20190412_044707_040<br>Magnitude: -2.09",
            "File: HFTS2_20190412_044731_040<br>Magnitude: -2.70",
            "File: HFTS2_20190412_044737_040<br>Magnitude: -2.41",
            "File: HFTS2_20190412_044741_040<br>Magnitude: -2.63",
            "File: HFTS2_20190412_044757_040<br>Magnitude: -2.12",
            "File: HFTS2_20190412_044759_040<br>Magnitude: -2.07",
            "File: HFTS2_20190412_044800_040<br>Magnitude: -2.53",
            "File: HFTS2_20190412_044803_040<br>Magnitude: -2.61",
            "File: HFTS2_20190412_044816_040<br>Magnitude: -2.12",
            "File: HFTS2_20190412_044822_040<br>Magnitude: -2.06",
            "File: HFTS2_20190412_044824_040<br>Magnitude: -2.02",
            "File: HFTS2_20190412_044829_040<br>Magnitude: -1.79",
            "File: HFTS2_20190412_044833_040<br>Magnitude: -2.29",
            "File: HFTS2_20190412_044841_040<br>Magnitude: -2.80",
            "File: HFTS2_20190412_044842_040<br>Magnitude: -2.24",
            "File: HFTS2_20190412_044903_040<br>Magnitude: -2.53",
            "File: HFTS2_20190412_044914_040<br>Magnitude: -2.58",
            "File: HFTS2_20190412_044945_040<br>Magnitude: -2.34",
            "File: HFTS2_20190412_044957_040<br>Magnitude: -2.58",
            "File: HFTS2_20190412_045027_040<br>Magnitude: -2.54",
            "File: HFTS2_20190412_045029_040<br>Magnitude: -2.63",
            "File: HFTS2_20190412_045035_040<br>Magnitude: -2.49",
            "File: HFTS2_20190412_045126_040<br>Magnitude: -2.40",
            "File: HFTS2_20190412_045127_040<br>Magnitude: -2.66",
            "File: HFTS2_20190412_045157_040<br>Magnitude: -2.08",
            "File: HFTS2_20190412_045254_040<br>Magnitude: -2.98",
            "File: HFTS2_20190412_045333_040<br>Magnitude: -2.15",
            "File: HFTS2_20190412_045344_040<br>Magnitude: -2.72",
            "File: HFTS2_20190412_045434_040<br>Magnitude: -2.50",
            "File: HFTS2_20190412_045451_040<br>Magnitude: -2.17",
            "File: HFTS2_20190412_045457_040<br>Magnitude: -2.51",
            "File: HFTS2_20190412_045523_040<br>Magnitude: -2.33",
            "File: HFTS2_20190412_045526_040<br>Magnitude: -2.80",
            "File: HFTS2_20190412_045528_040<br>Magnitude: -2.65",
            "File: HFTS2_20190412_045530_040<br>Magnitude: -2.49",
            "File: HFTS2_20190412_045535_040<br>Magnitude: -2.52",
            "File: HFTS2_20190412_045537_040<br>Magnitude: -2.76",
            "File: HFTS2_20190412_045550_040<br>Magnitude: -2.54",
            "File: HFTS2_20190412_045558_040<br>Magnitude: -2.77",
            "File: HFTS2_20190412_045602_040<br>Magnitude: -2.00",
            "File: HFTS2_20190412_045604_040<br>Magnitude: -2.78",
            "File: HFTS2_20190412_045608_040<br>Magnitude: -2.12",
            "File: HFTS2_20190412_045611_040<br>Magnitude: -2.60",
            "File: HFTS2_20190412_045620_040<br>Magnitude: -2.31",
            "File: HFTS2_20190412_045630_040<br>Magnitude: -2.65",
            "File: HFTS2_20190412_045644_040<br>Magnitude: -2.50",
            "File: HFTS2_20190412_045716_040<br>Magnitude: -2.37",
            "File: HFTS2_20190412_045727_040<br>Magnitude: -2.57",
            "File: HFTS2_20190412_045809_040<br>Magnitude: -2.58",
            "File: HFTS2_20190412_045818_040<br>Magnitude: -2.67",
            "File: HFTS2_20190412_045840_040<br>Magnitude: -2.77",
            "File: HFTS2_20190412_045938_040<br>Magnitude: -2.77",
            "File: HFTS2_20190412_045943_040<br>Magnitude: -2.39",
            "File: HFTS2_20190412_045952_040<br>Magnitude: -2.52",
            "File: HFTS2_20190412_050004_040<br>Magnitude: -2.35",
            "File: HFTS2_20190412_050011_040<br>Magnitude: -2.47",
            "File: HFTS2_20190412_050036_040<br>Magnitude: -2.61",
            "File: HFTS2_20190412_050053_040<br>Magnitude: -2.92",
            "File: HFTS2_20190412_050100_040<br>Magnitude: -2.58",
            "File: HFTS2_20190412_050127_040<br>Magnitude: -2.58",
            "File: HFTS2_20190412_050128_040<br>Magnitude: -2.57",
            "File: HFTS2_20190412_050133_040<br>Magnitude: -2.77",
            "File: HFTS2_20190412_050147_040<br>Magnitude: -2.71",
            "File: HFTS2_20190412_050202_040<br>Magnitude: -2.88",
            "File: HFTS2_20190412_050221_040<br>Magnitude: -2.82",
            "File: HFTS2_20190412_050315_040<br>Magnitude: -2.47",
            "File: HFTS2_20190412_050325_040<br>Magnitude: -2.62",
            "File: HFTS2_20190412_050358_040<br>Magnitude: -2.78",
            "File: HFTS2_20190412_050425_040<br>Magnitude: -2.75",
            "File: HFTS2_20190412_050456_040<br>Magnitude: -2.44",
            "File: HFTS2_20190412_050534_040<br>Magnitude: -2.59",
            "File: HFTS2_20190412_050607_040<br>Magnitude: -2.54"
           ],
           "type": "scatter3d",
           "x": [
            954126.9278
           ],
           "y": [
            849116.9123
           ],
           "z": [
            8500.8234
           ]
          }
         ],
         "name": "2019-04-12 04:51:27.326000"
        },
        {
         "data": [
          {
           "marker": {
            "cmax": -1.6189,
            "cmin": -2.9802,
            "color": [
             -2.0779
            ],
            "colorscale": [
             [
              0,
              "#440154"
             ],
             [
              0.1111111111111111,
              "#482878"
             ],
             [
              0.2222222222222222,
              "#3e4989"
             ],
             [
              0.3333333333333333,
              "#31688e"
             ],
             [
              0.4444444444444444,
              "#26828e"
             ],
             [
              0.5555555555555556,
              "#1f9e89"
             ],
             [
              0.6666666666666666,
              "#35b779"
             ],
             [
              0.7777777777777778,
              "#6ece58"
             ],
             [
              0.8888888888888888,
              "#b5de2b"
             ],
             [
              1,
              "#fde725"
             ]
            ],
            "size": [
             207.79000000000002
            ],
            "sizemode": "diameter",
            "sizeref": 25
           },
           "mode": "markers",
           "text": [
            "File: HFTS2_20190412_042831_040<br>Magnitude: -2.77",
            "File: HFTS2_20190412_042832_040<br>Magnitude: -2.73",
            "File: HFTS2_20190412_042833_040<br>Magnitude: -2.65",
            "File: HFTS2_20190412_042835_040<br>Magnitude: -2.65",
            "File: HFTS2_20190412_043437_040<br>Magnitude: -2.56",
            "File: HFTS2_20190412_043802_040<br>Magnitude: -2.35",
            "File: HFTS2_20190412_043803_040<br>Magnitude: -2.22",
            "File: HFTS2_20190412_044156_040<br>Magnitude: -2.03",
            "File: HFTS2_20190412_044403_040<br>Magnitude: -2.39",
            "File: HFTS2_20190412_044404_040<br>Magnitude: -2.10",
            "File: HFTS2_20190412_044435_040_Merged<br>Magnitude: -2.47",
            "File: HFTS2_20190412_044506_040<br>Magnitude: -2.32",
            "File: HFTS2_20190412_044516_040<br>Magnitude: -1.97",
            "File: HFTS2_20190412_044521_040<br>Magnitude: -2.07",
            "File: HFTS2_20190412_044522_040<br>Magnitude: -2.47",
            "File: HFTS2_20190412_044526_040<br>Magnitude: -2.74",
            "File: HFTS2_20190412_044540_040<br>Magnitude: -2.21",
            "File: HFTS2_20190412_044542_040<br>Magnitude: -2.56",
            "File: HFTS2_20190412_044543_040<br>Magnitude: -2.36",
            "File: HFTS2_20190412_044544_040<br>Magnitude: -2.59",
            "File: HFTS2_20190412_044545_040<br>Magnitude: -2.60",
            "File: HFTS2_20190412_044605_040<br>Magnitude: -2.71",
            "File: HFTS2_20190412_044619_040<br>Magnitude: -2.54",
            "File: HFTS2_20190412_044620_040<br>Magnitude: -1.81",
            "File: HFTS2_20190412_044623_040<br>Magnitude: -2.21",
            "File: HFTS2_20190412_044643_040<br>Magnitude: -2.30",
            "File: HFTS2_20190412_044647_040<br>Magnitude: -2.42",
            "File: HFTS2_20190412_044651_040<br>Magnitude: -2.46",
            "File: HFTS2_20190412_044659_040_Merged<br>Magnitude: -1.62",
            "File: HFTS2_20190412_044707_040<br>Magnitude: -2.09",
            "File: HFTS2_20190412_044731_040<br>Magnitude: -2.70",
            "File: HFTS2_20190412_044737_040<br>Magnitude: -2.41",
            "File: HFTS2_20190412_044741_040<br>Magnitude: -2.63",
            "File: HFTS2_20190412_044757_040<br>Magnitude: -2.12",
            "File: HFTS2_20190412_044759_040<br>Magnitude: -2.07",
            "File: HFTS2_20190412_044800_040<br>Magnitude: -2.53",
            "File: HFTS2_20190412_044803_040<br>Magnitude: -2.61",
            "File: HFTS2_20190412_044816_040<br>Magnitude: -2.12",
            "File: HFTS2_20190412_044822_040<br>Magnitude: -2.06",
            "File: HFTS2_20190412_044824_040<br>Magnitude: -2.02",
            "File: HFTS2_20190412_044829_040<br>Magnitude: -1.79",
            "File: HFTS2_20190412_044833_040<br>Magnitude: -2.29",
            "File: HFTS2_20190412_044841_040<br>Magnitude: -2.80",
            "File: HFTS2_20190412_044842_040<br>Magnitude: -2.24",
            "File: HFTS2_20190412_044903_040<br>Magnitude: -2.53",
            "File: HFTS2_20190412_044914_040<br>Magnitude: -2.58",
            "File: HFTS2_20190412_044945_040<br>Magnitude: -2.34",
            "File: HFTS2_20190412_044957_040<br>Magnitude: -2.58",
            "File: HFTS2_20190412_045027_040<br>Magnitude: -2.54",
            "File: HFTS2_20190412_045029_040<br>Magnitude: -2.63",
            "File: HFTS2_20190412_045035_040<br>Magnitude: -2.49",
            "File: HFTS2_20190412_045126_040<br>Magnitude: -2.40",
            "File: HFTS2_20190412_045127_040<br>Magnitude: -2.66",
            "File: HFTS2_20190412_045157_040<br>Magnitude: -2.08",
            "File: HFTS2_20190412_045254_040<br>Magnitude: -2.98",
            "File: HFTS2_20190412_045333_040<br>Magnitude: -2.15",
            "File: HFTS2_20190412_045344_040<br>Magnitude: -2.72",
            "File: HFTS2_20190412_045434_040<br>Magnitude: -2.50",
            "File: HFTS2_20190412_045451_040<br>Magnitude: -2.17",
            "File: HFTS2_20190412_045457_040<br>Magnitude: -2.51",
            "File: HFTS2_20190412_045523_040<br>Magnitude: -2.33",
            "File: HFTS2_20190412_045526_040<br>Magnitude: -2.80",
            "File: HFTS2_20190412_045528_040<br>Magnitude: -2.65",
            "File: HFTS2_20190412_045530_040<br>Magnitude: -2.49",
            "File: HFTS2_20190412_045535_040<br>Magnitude: -2.52",
            "File: HFTS2_20190412_045537_040<br>Magnitude: -2.76",
            "File: HFTS2_20190412_045550_040<br>Magnitude: -2.54",
            "File: HFTS2_20190412_045558_040<br>Magnitude: -2.77",
            "File: HFTS2_20190412_045602_040<br>Magnitude: -2.00",
            "File: HFTS2_20190412_045604_040<br>Magnitude: -2.78",
            "File: HFTS2_20190412_045608_040<br>Magnitude: -2.12",
            "File: HFTS2_20190412_045611_040<br>Magnitude: -2.60",
            "File: HFTS2_20190412_045620_040<br>Magnitude: -2.31",
            "File: HFTS2_20190412_045630_040<br>Magnitude: -2.65",
            "File: HFTS2_20190412_045644_040<br>Magnitude: -2.50",
            "File: HFTS2_20190412_045716_040<br>Magnitude: -2.37",
            "File: HFTS2_20190412_045727_040<br>Magnitude: -2.57",
            "File: HFTS2_20190412_045809_040<br>Magnitude: -2.58",
            "File: HFTS2_20190412_045818_040<br>Magnitude: -2.67",
            "File: HFTS2_20190412_045840_040<br>Magnitude: -2.77",
            "File: HFTS2_20190412_045938_040<br>Magnitude: -2.77",
            "File: HFTS2_20190412_045943_040<br>Magnitude: -2.39",
            "File: HFTS2_20190412_045952_040<br>Magnitude: -2.52",
            "File: HFTS2_20190412_050004_040<br>Magnitude: -2.35",
            "File: HFTS2_20190412_050011_040<br>Magnitude: -2.47",
            "File: HFTS2_20190412_050036_040<br>Magnitude: -2.61",
            "File: HFTS2_20190412_050053_040<br>Magnitude: -2.92",
            "File: HFTS2_20190412_050100_040<br>Magnitude: -2.58",
            "File: HFTS2_20190412_050127_040<br>Magnitude: -2.58",
            "File: HFTS2_20190412_050128_040<br>Magnitude: -2.57",
            "File: HFTS2_20190412_050133_040<br>Magnitude: -2.77",
            "File: HFTS2_20190412_050147_040<br>Magnitude: -2.71",
            "File: HFTS2_20190412_050202_040<br>Magnitude: -2.88",
            "File: HFTS2_20190412_050221_040<br>Magnitude: -2.82",
            "File: HFTS2_20190412_050315_040<br>Magnitude: -2.47",
            "File: HFTS2_20190412_050325_040<br>Magnitude: -2.62",
            "File: HFTS2_20190412_050358_040<br>Magnitude: -2.78",
            "File: HFTS2_20190412_050425_040<br>Magnitude: -2.75",
            "File: HFTS2_20190412_050456_040<br>Magnitude: -2.44",
            "File: HFTS2_20190412_050534_040<br>Magnitude: -2.59",
            "File: HFTS2_20190412_050607_040<br>Magnitude: -2.54"
           ],
           "type": "scatter3d",
           "x": [
            953940.9135
           ],
           "y": [
            849129.5888
           ],
           "z": [
            8158.7841
           ]
          }
         ],
         "name": "2019-04-12 04:51:57.741000"
        },
        {
         "data": [
          {
           "marker": {
            "cmax": -1.6189,
            "cmin": -2.9802,
            "color": [
             -2.9802
            ],
            "colorscale": [
             [
              0,
              "#440154"
             ],
             [
              0.1111111111111111,
              "#482878"
             ],
             [
              0.2222222222222222,
              "#3e4989"
             ],
             [
              0.3333333333333333,
              "#31688e"
             ],
             [
              0.4444444444444444,
              "#26828e"
             ],
             [
              0.5555555555555556,
              "#1f9e89"
             ],
             [
              0.6666666666666666,
              "#35b779"
             ],
             [
              0.7777777777777778,
              "#6ece58"
             ],
             [
              0.8888888888888888,
              "#b5de2b"
             ],
             [
              1,
              "#fde725"
             ]
            ],
            "size": [
             298.02
            ],
            "sizemode": "diameter",
            "sizeref": 25
           },
           "mode": "markers",
           "text": [
            "File: HFTS2_20190412_042831_040<br>Magnitude: -2.77",
            "File: HFTS2_20190412_042832_040<br>Magnitude: -2.73",
            "File: HFTS2_20190412_042833_040<br>Magnitude: -2.65",
            "File: HFTS2_20190412_042835_040<br>Magnitude: -2.65",
            "File: HFTS2_20190412_043437_040<br>Magnitude: -2.56",
            "File: HFTS2_20190412_043802_040<br>Magnitude: -2.35",
            "File: HFTS2_20190412_043803_040<br>Magnitude: -2.22",
            "File: HFTS2_20190412_044156_040<br>Magnitude: -2.03",
            "File: HFTS2_20190412_044403_040<br>Magnitude: -2.39",
            "File: HFTS2_20190412_044404_040<br>Magnitude: -2.10",
            "File: HFTS2_20190412_044435_040_Merged<br>Magnitude: -2.47",
            "File: HFTS2_20190412_044506_040<br>Magnitude: -2.32",
            "File: HFTS2_20190412_044516_040<br>Magnitude: -1.97",
            "File: HFTS2_20190412_044521_040<br>Magnitude: -2.07",
            "File: HFTS2_20190412_044522_040<br>Magnitude: -2.47",
            "File: HFTS2_20190412_044526_040<br>Magnitude: -2.74",
            "File: HFTS2_20190412_044540_040<br>Magnitude: -2.21",
            "File: HFTS2_20190412_044542_040<br>Magnitude: -2.56",
            "File: HFTS2_20190412_044543_040<br>Magnitude: -2.36",
            "File: HFTS2_20190412_044544_040<br>Magnitude: -2.59",
            "File: HFTS2_20190412_044545_040<br>Magnitude: -2.60",
            "File: HFTS2_20190412_044605_040<br>Magnitude: -2.71",
            "File: HFTS2_20190412_044619_040<br>Magnitude: -2.54",
            "File: HFTS2_20190412_044620_040<br>Magnitude: -1.81",
            "File: HFTS2_20190412_044623_040<br>Magnitude: -2.21",
            "File: HFTS2_20190412_044643_040<br>Magnitude: -2.30",
            "File: HFTS2_20190412_044647_040<br>Magnitude: -2.42",
            "File: HFTS2_20190412_044651_040<br>Magnitude: -2.46",
            "File: HFTS2_20190412_044659_040_Merged<br>Magnitude: -1.62",
            "File: HFTS2_20190412_044707_040<br>Magnitude: -2.09",
            "File: HFTS2_20190412_044731_040<br>Magnitude: -2.70",
            "File: HFTS2_20190412_044737_040<br>Magnitude: -2.41",
            "File: HFTS2_20190412_044741_040<br>Magnitude: -2.63",
            "File: HFTS2_20190412_044757_040<br>Magnitude: -2.12",
            "File: HFTS2_20190412_044759_040<br>Magnitude: -2.07",
            "File: HFTS2_20190412_044800_040<br>Magnitude: -2.53",
            "File: HFTS2_20190412_044803_040<br>Magnitude: -2.61",
            "File: HFTS2_20190412_044816_040<br>Magnitude: -2.12",
            "File: HFTS2_20190412_044822_040<br>Magnitude: -2.06",
            "File: HFTS2_20190412_044824_040<br>Magnitude: -2.02",
            "File: HFTS2_20190412_044829_040<br>Magnitude: -1.79",
            "File: HFTS2_20190412_044833_040<br>Magnitude: -2.29",
            "File: HFTS2_20190412_044841_040<br>Magnitude: -2.80",
            "File: HFTS2_20190412_044842_040<br>Magnitude: -2.24",
            "File: HFTS2_20190412_044903_040<br>Magnitude: -2.53",
            "File: HFTS2_20190412_044914_040<br>Magnitude: -2.58",
            "File: HFTS2_20190412_044945_040<br>Magnitude: -2.34",
            "File: HFTS2_20190412_044957_040<br>Magnitude: -2.58",
            "File: HFTS2_20190412_045027_040<br>Magnitude: -2.54",
            "File: HFTS2_20190412_045029_040<br>Magnitude: -2.63",
            "File: HFTS2_20190412_045035_040<br>Magnitude: -2.49",
            "File: HFTS2_20190412_045126_040<br>Magnitude: -2.40",
            "File: HFTS2_20190412_045127_040<br>Magnitude: -2.66",
            "File: HFTS2_20190412_045157_040<br>Magnitude: -2.08",
            "File: HFTS2_20190412_045254_040<br>Magnitude: -2.98",
            "File: HFTS2_20190412_045333_040<br>Magnitude: -2.15",
            "File: HFTS2_20190412_045344_040<br>Magnitude: -2.72",
            "File: HFTS2_20190412_045434_040<br>Magnitude: -2.50",
            "File: HFTS2_20190412_045451_040<br>Magnitude: -2.17",
            "File: HFTS2_20190412_045457_040<br>Magnitude: -2.51",
            "File: HFTS2_20190412_045523_040<br>Magnitude: -2.33",
            "File: HFTS2_20190412_045526_040<br>Magnitude: -2.80",
            "File: HFTS2_20190412_045528_040<br>Magnitude: -2.65",
            "File: HFTS2_20190412_045530_040<br>Magnitude: -2.49",
            "File: HFTS2_20190412_045535_040<br>Magnitude: -2.52",
            "File: HFTS2_20190412_045537_040<br>Magnitude: -2.76",
            "File: HFTS2_20190412_045550_040<br>Magnitude: -2.54",
            "File: HFTS2_20190412_045558_040<br>Magnitude: -2.77",
            "File: HFTS2_20190412_045602_040<br>Magnitude: -2.00",
            "File: HFTS2_20190412_045604_040<br>Magnitude: -2.78",
            "File: HFTS2_20190412_045608_040<br>Magnitude: -2.12",
            "File: HFTS2_20190412_045611_040<br>Magnitude: -2.60",
            "File: HFTS2_20190412_045620_040<br>Magnitude: -2.31",
            "File: HFTS2_20190412_045630_040<br>Magnitude: -2.65",
            "File: HFTS2_20190412_045644_040<br>Magnitude: -2.50",
            "File: HFTS2_20190412_045716_040<br>Magnitude: -2.37",
            "File: HFTS2_20190412_045727_040<br>Magnitude: -2.57",
            "File: HFTS2_20190412_045809_040<br>Magnitude: -2.58",
            "File: HFTS2_20190412_045818_040<br>Magnitude: -2.67",
            "File: HFTS2_20190412_045840_040<br>Magnitude: -2.77",
            "File: HFTS2_20190412_045938_040<br>Magnitude: -2.77",
            "File: HFTS2_20190412_045943_040<br>Magnitude: -2.39",
            "File: HFTS2_20190412_045952_040<br>Magnitude: -2.52",
            "File: HFTS2_20190412_050004_040<br>Magnitude: -2.35",
            "File: HFTS2_20190412_050011_040<br>Magnitude: -2.47",
            "File: HFTS2_20190412_050036_040<br>Magnitude: -2.61",
            "File: HFTS2_20190412_050053_040<br>Magnitude: -2.92",
            "File: HFTS2_20190412_050100_040<br>Magnitude: -2.58",
            "File: HFTS2_20190412_050127_040<br>Magnitude: -2.58",
            "File: HFTS2_20190412_050128_040<br>Magnitude: -2.57",
            "File: HFTS2_20190412_050133_040<br>Magnitude: -2.77",
            "File: HFTS2_20190412_050147_040<br>Magnitude: -2.71",
            "File: HFTS2_20190412_050202_040<br>Magnitude: -2.88",
            "File: HFTS2_20190412_050221_040<br>Magnitude: -2.82",
            "File: HFTS2_20190412_050315_040<br>Magnitude: -2.47",
            "File: HFTS2_20190412_050325_040<br>Magnitude: -2.62",
            "File: HFTS2_20190412_050358_040<br>Magnitude: -2.78",
            "File: HFTS2_20190412_050425_040<br>Magnitude: -2.75",
            "File: HFTS2_20190412_050456_040<br>Magnitude: -2.44",
            "File: HFTS2_20190412_050534_040<br>Magnitude: -2.59",
            "File: HFTS2_20190412_050607_040<br>Magnitude: -2.54"
           ],
           "type": "scatter3d",
           "x": [
            954383.9403
           ],
           "y": [
            849348.9254
           ],
           "z": [
            8666.9257
           ]
          }
         ],
         "name": "2019-04-12 04:52:54.713000"
        },
        {
         "data": [
          {
           "marker": {
            "cmax": -1.6189,
            "cmin": -2.9802,
            "color": [
             -2.1464
            ],
            "colorscale": [
             [
              0,
              "#440154"
             ],
             [
              0.1111111111111111,
              "#482878"
             ],
             [
              0.2222222222222222,
              "#3e4989"
             ],
             [
              0.3333333333333333,
              "#31688e"
             ],
             [
              0.4444444444444444,
              "#26828e"
             ],
             [
              0.5555555555555556,
              "#1f9e89"
             ],
             [
              0.6666666666666666,
              "#35b779"
             ],
             [
              0.7777777777777778,
              "#6ece58"
             ],
             [
              0.8888888888888888,
              "#b5de2b"
             ],
             [
              1,
              "#fde725"
             ]
            ],
            "size": [
             214.64
            ],
            "sizemode": "diameter",
            "sizeref": 25
           },
           "mode": "markers",
           "text": [
            "File: HFTS2_20190412_042831_040<br>Magnitude: -2.77",
            "File: HFTS2_20190412_042832_040<br>Magnitude: -2.73",
            "File: HFTS2_20190412_042833_040<br>Magnitude: -2.65",
            "File: HFTS2_20190412_042835_040<br>Magnitude: -2.65",
            "File: HFTS2_20190412_043437_040<br>Magnitude: -2.56",
            "File: HFTS2_20190412_043802_040<br>Magnitude: -2.35",
            "File: HFTS2_20190412_043803_040<br>Magnitude: -2.22",
            "File: HFTS2_20190412_044156_040<br>Magnitude: -2.03",
            "File: HFTS2_20190412_044403_040<br>Magnitude: -2.39",
            "File: HFTS2_20190412_044404_040<br>Magnitude: -2.10",
            "File: HFTS2_20190412_044435_040_Merged<br>Magnitude: -2.47",
            "File: HFTS2_20190412_044506_040<br>Magnitude: -2.32",
            "File: HFTS2_20190412_044516_040<br>Magnitude: -1.97",
            "File: HFTS2_20190412_044521_040<br>Magnitude: -2.07",
            "File: HFTS2_20190412_044522_040<br>Magnitude: -2.47",
            "File: HFTS2_20190412_044526_040<br>Magnitude: -2.74",
            "File: HFTS2_20190412_044540_040<br>Magnitude: -2.21",
            "File: HFTS2_20190412_044542_040<br>Magnitude: -2.56",
            "File: HFTS2_20190412_044543_040<br>Magnitude: -2.36",
            "File: HFTS2_20190412_044544_040<br>Magnitude: -2.59",
            "File: HFTS2_20190412_044545_040<br>Magnitude: -2.60",
            "File: HFTS2_20190412_044605_040<br>Magnitude: -2.71",
            "File: HFTS2_20190412_044619_040<br>Magnitude: -2.54",
            "File: HFTS2_20190412_044620_040<br>Magnitude: -1.81",
            "File: HFTS2_20190412_044623_040<br>Magnitude: -2.21",
            "File: HFTS2_20190412_044643_040<br>Magnitude: -2.30",
            "File: HFTS2_20190412_044647_040<br>Magnitude: -2.42",
            "File: HFTS2_20190412_044651_040<br>Magnitude: -2.46",
            "File: HFTS2_20190412_044659_040_Merged<br>Magnitude: -1.62",
            "File: HFTS2_20190412_044707_040<br>Magnitude: -2.09",
            "File: HFTS2_20190412_044731_040<br>Magnitude: -2.70",
            "File: HFTS2_20190412_044737_040<br>Magnitude: -2.41",
            "File: HFTS2_20190412_044741_040<br>Magnitude: -2.63",
            "File: HFTS2_20190412_044757_040<br>Magnitude: -2.12",
            "File: HFTS2_20190412_044759_040<br>Magnitude: -2.07",
            "File: HFTS2_20190412_044800_040<br>Magnitude: -2.53",
            "File: HFTS2_20190412_044803_040<br>Magnitude: -2.61",
            "File: HFTS2_20190412_044816_040<br>Magnitude: -2.12",
            "File: HFTS2_20190412_044822_040<br>Magnitude: -2.06",
            "File: HFTS2_20190412_044824_040<br>Magnitude: -2.02",
            "File: HFTS2_20190412_044829_040<br>Magnitude: -1.79",
            "File: HFTS2_20190412_044833_040<br>Magnitude: -2.29",
            "File: HFTS2_20190412_044841_040<br>Magnitude: -2.80",
            "File: HFTS2_20190412_044842_040<br>Magnitude: -2.24",
            "File: HFTS2_20190412_044903_040<br>Magnitude: -2.53",
            "File: HFTS2_20190412_044914_040<br>Magnitude: -2.58",
            "File: HFTS2_20190412_044945_040<br>Magnitude: -2.34",
            "File: HFTS2_20190412_044957_040<br>Magnitude: -2.58",
            "File: HFTS2_20190412_045027_040<br>Magnitude: -2.54",
            "File: HFTS2_20190412_045029_040<br>Magnitude: -2.63",
            "File: HFTS2_20190412_045035_040<br>Magnitude: -2.49",
            "File: HFTS2_20190412_045126_040<br>Magnitude: -2.40",
            "File: HFTS2_20190412_045127_040<br>Magnitude: -2.66",
            "File: HFTS2_20190412_045157_040<br>Magnitude: -2.08",
            "File: HFTS2_20190412_045254_040<br>Magnitude: -2.98",
            "File: HFTS2_20190412_045333_040<br>Magnitude: -2.15",
            "File: HFTS2_20190412_045344_040<br>Magnitude: -2.72",
            "File: HFTS2_20190412_045434_040<br>Magnitude: -2.50",
            "File: HFTS2_20190412_045451_040<br>Magnitude: -2.17",
            "File: HFTS2_20190412_045457_040<br>Magnitude: -2.51",
            "File: HFTS2_20190412_045523_040<br>Magnitude: -2.33",
            "File: HFTS2_20190412_045526_040<br>Magnitude: -2.80",
            "File: HFTS2_20190412_045528_040<br>Magnitude: -2.65",
            "File: HFTS2_20190412_045530_040<br>Magnitude: -2.49",
            "File: HFTS2_20190412_045535_040<br>Magnitude: -2.52",
            "File: HFTS2_20190412_045537_040<br>Magnitude: -2.76",
            "File: HFTS2_20190412_045550_040<br>Magnitude: -2.54",
            "File: HFTS2_20190412_045558_040<br>Magnitude: -2.77",
            "File: HFTS2_20190412_045602_040<br>Magnitude: -2.00",
            "File: HFTS2_20190412_045604_040<br>Magnitude: -2.78",
            "File: HFTS2_20190412_045608_040<br>Magnitude: -2.12",
            "File: HFTS2_20190412_045611_040<br>Magnitude: -2.60",
            "File: HFTS2_20190412_045620_040<br>Magnitude: -2.31",
            "File: HFTS2_20190412_045630_040<br>Magnitude: -2.65",
            "File: HFTS2_20190412_045644_040<br>Magnitude: -2.50",
            "File: HFTS2_20190412_045716_040<br>Magnitude: -2.37",
            "File: HFTS2_20190412_045727_040<br>Magnitude: -2.57",
            "File: HFTS2_20190412_045809_040<br>Magnitude: -2.58",
            "File: HFTS2_20190412_045818_040<br>Magnitude: -2.67",
            "File: HFTS2_20190412_045840_040<br>Magnitude: -2.77",
            "File: HFTS2_20190412_045938_040<br>Magnitude: -2.77",
            "File: HFTS2_20190412_045943_040<br>Magnitude: -2.39",
            "File: HFTS2_20190412_045952_040<br>Magnitude: -2.52",
            "File: HFTS2_20190412_050004_040<br>Magnitude: -2.35",
            "File: HFTS2_20190412_050011_040<br>Magnitude: -2.47",
            "File: HFTS2_20190412_050036_040<br>Magnitude: -2.61",
            "File: HFTS2_20190412_050053_040<br>Magnitude: -2.92",
            "File: HFTS2_20190412_050100_040<br>Magnitude: -2.58",
            "File: HFTS2_20190412_050127_040<br>Magnitude: -2.58",
            "File: HFTS2_20190412_050128_040<br>Magnitude: -2.57",
            "File: HFTS2_20190412_050133_040<br>Magnitude: -2.77",
            "File: HFTS2_20190412_050147_040<br>Magnitude: -2.71",
            "File: HFTS2_20190412_050202_040<br>Magnitude: -2.88",
            "File: HFTS2_20190412_050221_040<br>Magnitude: -2.82",
            "File: HFTS2_20190412_050315_040<br>Magnitude: -2.47",
            "File: HFTS2_20190412_050325_040<br>Magnitude: -2.62",
            "File: HFTS2_20190412_050358_040<br>Magnitude: -2.78",
            "File: HFTS2_20190412_050425_040<br>Magnitude: -2.75",
            "File: HFTS2_20190412_050456_040<br>Magnitude: -2.44",
            "File: HFTS2_20190412_050534_040<br>Magnitude: -2.59",
            "File: HFTS2_20190412_050607_040<br>Magnitude: -2.54"
           ],
           "type": "scatter3d",
           "x": [
            954183.396
           ],
           "y": [
            849124.2631
           ],
           "z": [
            8351.6327
           ]
          }
         ],
         "name": "2019-04-12 04:53:33.178000"
        },
        {
         "data": [
          {
           "marker": {
            "cmax": -1.6189,
            "cmin": -2.9802,
            "color": [
             -2.7189
            ],
            "colorscale": [
             [
              0,
              "#440154"
             ],
             [
              0.1111111111111111,
              "#482878"
             ],
             [
              0.2222222222222222,
              "#3e4989"
             ],
             [
              0.3333333333333333,
              "#31688e"
             ],
             [
              0.4444444444444444,
              "#26828e"
             ],
             [
              0.5555555555555556,
              "#1f9e89"
             ],
             [
              0.6666666666666666,
              "#35b779"
             ],
             [
              0.7777777777777778,
              "#6ece58"
             ],
             [
              0.8888888888888888,
              "#b5de2b"
             ],
             [
              1,
              "#fde725"
             ]
            ],
            "size": [
             271.89
            ],
            "sizemode": "diameter",
            "sizeref": 25
           },
           "mode": "markers",
           "text": [
            "File: HFTS2_20190412_042831_040<br>Magnitude: -2.77",
            "File: HFTS2_20190412_042832_040<br>Magnitude: -2.73",
            "File: HFTS2_20190412_042833_040<br>Magnitude: -2.65",
            "File: HFTS2_20190412_042835_040<br>Magnitude: -2.65",
            "File: HFTS2_20190412_043437_040<br>Magnitude: -2.56",
            "File: HFTS2_20190412_043802_040<br>Magnitude: -2.35",
            "File: HFTS2_20190412_043803_040<br>Magnitude: -2.22",
            "File: HFTS2_20190412_044156_040<br>Magnitude: -2.03",
            "File: HFTS2_20190412_044403_040<br>Magnitude: -2.39",
            "File: HFTS2_20190412_044404_040<br>Magnitude: -2.10",
            "File: HFTS2_20190412_044435_040_Merged<br>Magnitude: -2.47",
            "File: HFTS2_20190412_044506_040<br>Magnitude: -2.32",
            "File: HFTS2_20190412_044516_040<br>Magnitude: -1.97",
            "File: HFTS2_20190412_044521_040<br>Magnitude: -2.07",
            "File: HFTS2_20190412_044522_040<br>Magnitude: -2.47",
            "File: HFTS2_20190412_044526_040<br>Magnitude: -2.74",
            "File: HFTS2_20190412_044540_040<br>Magnitude: -2.21",
            "File: HFTS2_20190412_044542_040<br>Magnitude: -2.56",
            "File: HFTS2_20190412_044543_040<br>Magnitude: -2.36",
            "File: HFTS2_20190412_044544_040<br>Magnitude: -2.59",
            "File: HFTS2_20190412_044545_040<br>Magnitude: -2.60",
            "File: HFTS2_20190412_044605_040<br>Magnitude: -2.71",
            "File: HFTS2_20190412_044619_040<br>Magnitude: -2.54",
            "File: HFTS2_20190412_044620_040<br>Magnitude: -1.81",
            "File: HFTS2_20190412_044623_040<br>Magnitude: -2.21",
            "File: HFTS2_20190412_044643_040<br>Magnitude: -2.30",
            "File: HFTS2_20190412_044647_040<br>Magnitude: -2.42",
            "File: HFTS2_20190412_044651_040<br>Magnitude: -2.46",
            "File: HFTS2_20190412_044659_040_Merged<br>Magnitude: -1.62",
            "File: HFTS2_20190412_044707_040<br>Magnitude: -2.09",
            "File: HFTS2_20190412_044731_040<br>Magnitude: -2.70",
            "File: HFTS2_20190412_044737_040<br>Magnitude: -2.41",
            "File: HFTS2_20190412_044741_040<br>Magnitude: -2.63",
            "File: HFTS2_20190412_044757_040<br>Magnitude: -2.12",
            "File: HFTS2_20190412_044759_040<br>Magnitude: -2.07",
            "File: HFTS2_20190412_044800_040<br>Magnitude: -2.53",
            "File: HFTS2_20190412_044803_040<br>Magnitude: -2.61",
            "File: HFTS2_20190412_044816_040<br>Magnitude: -2.12",
            "File: HFTS2_20190412_044822_040<br>Magnitude: -2.06",
            "File: HFTS2_20190412_044824_040<br>Magnitude: -2.02",
            "File: HFTS2_20190412_044829_040<br>Magnitude: -1.79",
            "File: HFTS2_20190412_044833_040<br>Magnitude: -2.29",
            "File: HFTS2_20190412_044841_040<br>Magnitude: -2.80",
            "File: HFTS2_20190412_044842_040<br>Magnitude: -2.24",
            "File: HFTS2_20190412_044903_040<br>Magnitude: -2.53",
            "File: HFTS2_20190412_044914_040<br>Magnitude: -2.58",
            "File: HFTS2_20190412_044945_040<br>Magnitude: -2.34",
            "File: HFTS2_20190412_044957_040<br>Magnitude: -2.58",
            "File: HFTS2_20190412_045027_040<br>Magnitude: -2.54",
            "File: HFTS2_20190412_045029_040<br>Magnitude: -2.63",
            "File: HFTS2_20190412_045035_040<br>Magnitude: -2.49",
            "File: HFTS2_20190412_045126_040<br>Magnitude: -2.40",
            "File: HFTS2_20190412_045127_040<br>Magnitude: -2.66",
            "File: HFTS2_20190412_045157_040<br>Magnitude: -2.08",
            "File: HFTS2_20190412_045254_040<br>Magnitude: -2.98",
            "File: HFTS2_20190412_045333_040<br>Magnitude: -2.15",
            "File: HFTS2_20190412_045344_040<br>Magnitude: -2.72",
            "File: HFTS2_20190412_045434_040<br>Magnitude: -2.50",
            "File: HFTS2_20190412_045451_040<br>Magnitude: -2.17",
            "File: HFTS2_20190412_045457_040<br>Magnitude: -2.51",
            "File: HFTS2_20190412_045523_040<br>Magnitude: -2.33",
            "File: HFTS2_20190412_045526_040<br>Magnitude: -2.80",
            "File: HFTS2_20190412_045528_040<br>Magnitude: -2.65",
            "File: HFTS2_20190412_045530_040<br>Magnitude: -2.49",
            "File: HFTS2_20190412_045535_040<br>Magnitude: -2.52",
            "File: HFTS2_20190412_045537_040<br>Magnitude: -2.76",
            "File: HFTS2_20190412_045550_040<br>Magnitude: -2.54",
            "File: HFTS2_20190412_045558_040<br>Magnitude: -2.77",
            "File: HFTS2_20190412_045602_040<br>Magnitude: -2.00",
            "File: HFTS2_20190412_045604_040<br>Magnitude: -2.78",
            "File: HFTS2_20190412_045608_040<br>Magnitude: -2.12",
            "File: HFTS2_20190412_045611_040<br>Magnitude: -2.60",
            "File: HFTS2_20190412_045620_040<br>Magnitude: -2.31",
            "File: HFTS2_20190412_045630_040<br>Magnitude: -2.65",
            "File: HFTS2_20190412_045644_040<br>Magnitude: -2.50",
            "File: HFTS2_20190412_045716_040<br>Magnitude: -2.37",
            "File: HFTS2_20190412_045727_040<br>Magnitude: -2.57",
            "File: HFTS2_20190412_045809_040<br>Magnitude: -2.58",
            "File: HFTS2_20190412_045818_040<br>Magnitude: -2.67",
            "File: HFTS2_20190412_045840_040<br>Magnitude: -2.77",
            "File: HFTS2_20190412_045938_040<br>Magnitude: -2.77",
            "File: HFTS2_20190412_045943_040<br>Magnitude: -2.39",
            "File: HFTS2_20190412_045952_040<br>Magnitude: -2.52",
            "File: HFTS2_20190412_050004_040<br>Magnitude: -2.35",
            "File: HFTS2_20190412_050011_040<br>Magnitude: -2.47",
            "File: HFTS2_20190412_050036_040<br>Magnitude: -2.61",
            "File: HFTS2_20190412_050053_040<br>Magnitude: -2.92",
            "File: HFTS2_20190412_050100_040<br>Magnitude: -2.58",
            "File: HFTS2_20190412_050127_040<br>Magnitude: -2.58",
            "File: HFTS2_20190412_050128_040<br>Magnitude: -2.57",
            "File: HFTS2_20190412_050133_040<br>Magnitude: -2.77",
            "File: HFTS2_20190412_050147_040<br>Magnitude: -2.71",
            "File: HFTS2_20190412_050202_040<br>Magnitude: -2.88",
            "File: HFTS2_20190412_050221_040<br>Magnitude: -2.82",
            "File: HFTS2_20190412_050315_040<br>Magnitude: -2.47",
            "File: HFTS2_20190412_050325_040<br>Magnitude: -2.62",
            "File: HFTS2_20190412_050358_040<br>Magnitude: -2.78",
            "File: HFTS2_20190412_050425_040<br>Magnitude: -2.75",
            "File: HFTS2_20190412_050456_040<br>Magnitude: -2.44",
            "File: HFTS2_20190412_050534_040<br>Magnitude: -2.59",
            "File: HFTS2_20190412_050607_040<br>Magnitude: -2.54"
           ],
           "type": "scatter3d",
           "x": [
            954152.7593
           ],
           "y": [
            849168.8862
           ],
           "z": [
            8746.6353
           ]
          }
         ],
         "name": "2019-04-12 04:53:44.493000"
        },
        {
         "data": [
          {
           "marker": {
            "cmax": -1.6189,
            "cmin": -2.9802,
            "color": [
             -2.4955
            ],
            "colorscale": [
             [
              0,
              "#440154"
             ],
             [
              0.1111111111111111,
              "#482878"
             ],
             [
              0.2222222222222222,
              "#3e4989"
             ],
             [
              0.3333333333333333,
              "#31688e"
             ],
             [
              0.4444444444444444,
              "#26828e"
             ],
             [
              0.5555555555555556,
              "#1f9e89"
             ],
             [
              0.6666666666666666,
              "#35b779"
             ],
             [
              0.7777777777777778,
              "#6ece58"
             ],
             [
              0.8888888888888888,
              "#b5de2b"
             ],
             [
              1,
              "#fde725"
             ]
            ],
            "size": [
             249.54999999999998
            ],
            "sizemode": "diameter",
            "sizeref": 25
           },
           "mode": "markers",
           "text": [
            "File: HFTS2_20190412_042831_040<br>Magnitude: -2.77",
            "File: HFTS2_20190412_042832_040<br>Magnitude: -2.73",
            "File: HFTS2_20190412_042833_040<br>Magnitude: -2.65",
            "File: HFTS2_20190412_042835_040<br>Magnitude: -2.65",
            "File: HFTS2_20190412_043437_040<br>Magnitude: -2.56",
            "File: HFTS2_20190412_043802_040<br>Magnitude: -2.35",
            "File: HFTS2_20190412_043803_040<br>Magnitude: -2.22",
            "File: HFTS2_20190412_044156_040<br>Magnitude: -2.03",
            "File: HFTS2_20190412_044403_040<br>Magnitude: -2.39",
            "File: HFTS2_20190412_044404_040<br>Magnitude: -2.10",
            "File: HFTS2_20190412_044435_040_Merged<br>Magnitude: -2.47",
            "File: HFTS2_20190412_044506_040<br>Magnitude: -2.32",
            "File: HFTS2_20190412_044516_040<br>Magnitude: -1.97",
            "File: HFTS2_20190412_044521_040<br>Magnitude: -2.07",
            "File: HFTS2_20190412_044522_040<br>Magnitude: -2.47",
            "File: HFTS2_20190412_044526_040<br>Magnitude: -2.74",
            "File: HFTS2_20190412_044540_040<br>Magnitude: -2.21",
            "File: HFTS2_20190412_044542_040<br>Magnitude: -2.56",
            "File: HFTS2_20190412_044543_040<br>Magnitude: -2.36",
            "File: HFTS2_20190412_044544_040<br>Magnitude: -2.59",
            "File: HFTS2_20190412_044545_040<br>Magnitude: -2.60",
            "File: HFTS2_20190412_044605_040<br>Magnitude: -2.71",
            "File: HFTS2_20190412_044619_040<br>Magnitude: -2.54",
            "File: HFTS2_20190412_044620_040<br>Magnitude: -1.81",
            "File: HFTS2_20190412_044623_040<br>Magnitude: -2.21",
            "File: HFTS2_20190412_044643_040<br>Magnitude: -2.30",
            "File: HFTS2_20190412_044647_040<br>Magnitude: -2.42",
            "File: HFTS2_20190412_044651_040<br>Magnitude: -2.46",
            "File: HFTS2_20190412_044659_040_Merged<br>Magnitude: -1.62",
            "File: HFTS2_20190412_044707_040<br>Magnitude: -2.09",
            "File: HFTS2_20190412_044731_040<br>Magnitude: -2.70",
            "File: HFTS2_20190412_044737_040<br>Magnitude: -2.41",
            "File: HFTS2_20190412_044741_040<br>Magnitude: -2.63",
            "File: HFTS2_20190412_044757_040<br>Magnitude: -2.12",
            "File: HFTS2_20190412_044759_040<br>Magnitude: -2.07",
            "File: HFTS2_20190412_044800_040<br>Magnitude: -2.53",
            "File: HFTS2_20190412_044803_040<br>Magnitude: -2.61",
            "File: HFTS2_20190412_044816_040<br>Magnitude: -2.12",
            "File: HFTS2_20190412_044822_040<br>Magnitude: -2.06",
            "File: HFTS2_20190412_044824_040<br>Magnitude: -2.02",
            "File: HFTS2_20190412_044829_040<br>Magnitude: -1.79",
            "File: HFTS2_20190412_044833_040<br>Magnitude: -2.29",
            "File: HFTS2_20190412_044841_040<br>Magnitude: -2.80",
            "File: HFTS2_20190412_044842_040<br>Magnitude: -2.24",
            "File: HFTS2_20190412_044903_040<br>Magnitude: -2.53",
            "File: HFTS2_20190412_044914_040<br>Magnitude: -2.58",
            "File: HFTS2_20190412_044945_040<br>Magnitude: -2.34",
            "File: HFTS2_20190412_044957_040<br>Magnitude: -2.58",
            "File: HFTS2_20190412_045027_040<br>Magnitude: -2.54",
            "File: HFTS2_20190412_045029_040<br>Magnitude: -2.63",
            "File: HFTS2_20190412_045035_040<br>Magnitude: -2.49",
            "File: HFTS2_20190412_045126_040<br>Magnitude: -2.40",
            "File: HFTS2_20190412_045127_040<br>Magnitude: -2.66",
            "File: HFTS2_20190412_045157_040<br>Magnitude: -2.08",
            "File: HFTS2_20190412_045254_040<br>Magnitude: -2.98",
            "File: HFTS2_20190412_045333_040<br>Magnitude: -2.15",
            "File: HFTS2_20190412_045344_040<br>Magnitude: -2.72",
            "File: HFTS2_20190412_045434_040<br>Magnitude: -2.50",
            "File: HFTS2_20190412_045451_040<br>Magnitude: -2.17",
            "File: HFTS2_20190412_045457_040<br>Magnitude: -2.51",
            "File: HFTS2_20190412_045523_040<br>Magnitude: -2.33",
            "File: HFTS2_20190412_045526_040<br>Magnitude: -2.80",
            "File: HFTS2_20190412_045528_040<br>Magnitude: -2.65",
            "File: HFTS2_20190412_045530_040<br>Magnitude: -2.49",
            "File: HFTS2_20190412_045535_040<br>Magnitude: -2.52",
            "File: HFTS2_20190412_045537_040<br>Magnitude: -2.76",
            "File: HFTS2_20190412_045550_040<br>Magnitude: -2.54",
            "File: HFTS2_20190412_045558_040<br>Magnitude: -2.77",
            "File: HFTS2_20190412_045602_040<br>Magnitude: -2.00",
            "File: HFTS2_20190412_045604_040<br>Magnitude: -2.78",
            "File: HFTS2_20190412_045608_040<br>Magnitude: -2.12",
            "File: HFTS2_20190412_045611_040<br>Magnitude: -2.60",
            "File: HFTS2_20190412_045620_040<br>Magnitude: -2.31",
            "File: HFTS2_20190412_045630_040<br>Magnitude: -2.65",
            "File: HFTS2_20190412_045644_040<br>Magnitude: -2.50",
            "File: HFTS2_20190412_045716_040<br>Magnitude: -2.37",
            "File: HFTS2_20190412_045727_040<br>Magnitude: -2.57",
            "File: HFTS2_20190412_045809_040<br>Magnitude: -2.58",
            "File: HFTS2_20190412_045818_040<br>Magnitude: -2.67",
            "File: HFTS2_20190412_045840_040<br>Magnitude: -2.77",
            "File: HFTS2_20190412_045938_040<br>Magnitude: -2.77",
            "File: HFTS2_20190412_045943_040<br>Magnitude: -2.39",
            "File: HFTS2_20190412_045952_040<br>Magnitude: -2.52",
            "File: HFTS2_20190412_050004_040<br>Magnitude: -2.35",
            "File: HFTS2_20190412_050011_040<br>Magnitude: -2.47",
            "File: HFTS2_20190412_050036_040<br>Magnitude: -2.61",
            "File: HFTS2_20190412_050053_040<br>Magnitude: -2.92",
            "File: HFTS2_20190412_050100_040<br>Magnitude: -2.58",
            "File: HFTS2_20190412_050127_040<br>Magnitude: -2.58",
            "File: HFTS2_20190412_050128_040<br>Magnitude: -2.57",
            "File: HFTS2_20190412_050133_040<br>Magnitude: -2.77",
            "File: HFTS2_20190412_050147_040<br>Magnitude: -2.71",
            "File: HFTS2_20190412_050202_040<br>Magnitude: -2.88",
            "File: HFTS2_20190412_050221_040<br>Magnitude: -2.82",
            "File: HFTS2_20190412_050315_040<br>Magnitude: -2.47",
            "File: HFTS2_20190412_050325_040<br>Magnitude: -2.62",
            "File: HFTS2_20190412_050358_040<br>Magnitude: -2.78",
            "File: HFTS2_20190412_050425_040<br>Magnitude: -2.75",
            "File: HFTS2_20190412_050456_040<br>Magnitude: -2.44",
            "File: HFTS2_20190412_050534_040<br>Magnitude: -2.59",
            "File: HFTS2_20190412_050607_040<br>Magnitude: -2.54"
           ],
           "type": "scatter3d",
           "x": [
            954200.9
           ],
           "y": [
            849191.7102
           ],
           "z": [
            8486.0733
           ]
          }
         ],
         "name": "2019-04-12 04:54:34.312000"
        },
        {
         "data": [
          {
           "marker": {
            "cmax": -1.6189,
            "cmin": -2.9802,
            "color": [
             -2.1677
            ],
            "colorscale": [
             [
              0,
              "#440154"
             ],
             [
              0.1111111111111111,
              "#482878"
             ],
             [
              0.2222222222222222,
              "#3e4989"
             ],
             [
              0.3333333333333333,
              "#31688e"
             ],
             [
              0.4444444444444444,
              "#26828e"
             ],
             [
              0.5555555555555556,
              "#1f9e89"
             ],
             [
              0.6666666666666666,
              "#35b779"
             ],
             [
              0.7777777777777778,
              "#6ece58"
             ],
             [
              0.8888888888888888,
              "#b5de2b"
             ],
             [
              1,
              "#fde725"
             ]
            ],
            "size": [
             216.76999999999998
            ],
            "sizemode": "diameter",
            "sizeref": 25
           },
           "mode": "markers",
           "text": [
            "File: HFTS2_20190412_042831_040<br>Magnitude: -2.77",
            "File: HFTS2_20190412_042832_040<br>Magnitude: -2.73",
            "File: HFTS2_20190412_042833_040<br>Magnitude: -2.65",
            "File: HFTS2_20190412_042835_040<br>Magnitude: -2.65",
            "File: HFTS2_20190412_043437_040<br>Magnitude: -2.56",
            "File: HFTS2_20190412_043802_040<br>Magnitude: -2.35",
            "File: HFTS2_20190412_043803_040<br>Magnitude: -2.22",
            "File: HFTS2_20190412_044156_040<br>Magnitude: -2.03",
            "File: HFTS2_20190412_044403_040<br>Magnitude: -2.39",
            "File: HFTS2_20190412_044404_040<br>Magnitude: -2.10",
            "File: HFTS2_20190412_044435_040_Merged<br>Magnitude: -2.47",
            "File: HFTS2_20190412_044506_040<br>Magnitude: -2.32",
            "File: HFTS2_20190412_044516_040<br>Magnitude: -1.97",
            "File: HFTS2_20190412_044521_040<br>Magnitude: -2.07",
            "File: HFTS2_20190412_044522_040<br>Magnitude: -2.47",
            "File: HFTS2_20190412_044526_040<br>Magnitude: -2.74",
            "File: HFTS2_20190412_044540_040<br>Magnitude: -2.21",
            "File: HFTS2_20190412_044542_040<br>Magnitude: -2.56",
            "File: HFTS2_20190412_044543_040<br>Magnitude: -2.36",
            "File: HFTS2_20190412_044544_040<br>Magnitude: -2.59",
            "File: HFTS2_20190412_044545_040<br>Magnitude: -2.60",
            "File: HFTS2_20190412_044605_040<br>Magnitude: -2.71",
            "File: HFTS2_20190412_044619_040<br>Magnitude: -2.54",
            "File: HFTS2_20190412_044620_040<br>Magnitude: -1.81",
            "File: HFTS2_20190412_044623_040<br>Magnitude: -2.21",
            "File: HFTS2_20190412_044643_040<br>Magnitude: -2.30",
            "File: HFTS2_20190412_044647_040<br>Magnitude: -2.42",
            "File: HFTS2_20190412_044651_040<br>Magnitude: -2.46",
            "File: HFTS2_20190412_044659_040_Merged<br>Magnitude: -1.62",
            "File: HFTS2_20190412_044707_040<br>Magnitude: -2.09",
            "File: HFTS2_20190412_044731_040<br>Magnitude: -2.70",
            "File: HFTS2_20190412_044737_040<br>Magnitude: -2.41",
            "File: HFTS2_20190412_044741_040<br>Magnitude: -2.63",
            "File: HFTS2_20190412_044757_040<br>Magnitude: -2.12",
            "File: HFTS2_20190412_044759_040<br>Magnitude: -2.07",
            "File: HFTS2_20190412_044800_040<br>Magnitude: -2.53",
            "File: HFTS2_20190412_044803_040<br>Magnitude: -2.61",
            "File: HFTS2_20190412_044816_040<br>Magnitude: -2.12",
            "File: HFTS2_20190412_044822_040<br>Magnitude: -2.06",
            "File: HFTS2_20190412_044824_040<br>Magnitude: -2.02",
            "File: HFTS2_20190412_044829_040<br>Magnitude: -1.79",
            "File: HFTS2_20190412_044833_040<br>Magnitude: -2.29",
            "File: HFTS2_20190412_044841_040<br>Magnitude: -2.80",
            "File: HFTS2_20190412_044842_040<br>Magnitude: -2.24",
            "File: HFTS2_20190412_044903_040<br>Magnitude: -2.53",
            "File: HFTS2_20190412_044914_040<br>Magnitude: -2.58",
            "File: HFTS2_20190412_044945_040<br>Magnitude: -2.34",
            "File: HFTS2_20190412_044957_040<br>Magnitude: -2.58",
            "File: HFTS2_20190412_045027_040<br>Magnitude: -2.54",
            "File: HFTS2_20190412_045029_040<br>Magnitude: -2.63",
            "File: HFTS2_20190412_045035_040<br>Magnitude: -2.49",
            "File: HFTS2_20190412_045126_040<br>Magnitude: -2.40",
            "File: HFTS2_20190412_045127_040<br>Magnitude: -2.66",
            "File: HFTS2_20190412_045157_040<br>Magnitude: -2.08",
            "File: HFTS2_20190412_045254_040<br>Magnitude: -2.98",
            "File: HFTS2_20190412_045333_040<br>Magnitude: -2.15",
            "File: HFTS2_20190412_045344_040<br>Magnitude: -2.72",
            "File: HFTS2_20190412_045434_040<br>Magnitude: -2.50",
            "File: HFTS2_20190412_045451_040<br>Magnitude: -2.17",
            "File: HFTS2_20190412_045457_040<br>Magnitude: -2.51",
            "File: HFTS2_20190412_045523_040<br>Magnitude: -2.33",
            "File: HFTS2_20190412_045526_040<br>Magnitude: -2.80",
            "File: HFTS2_20190412_045528_040<br>Magnitude: -2.65",
            "File: HFTS2_20190412_045530_040<br>Magnitude: -2.49",
            "File: HFTS2_20190412_045535_040<br>Magnitude: -2.52",
            "File: HFTS2_20190412_045537_040<br>Magnitude: -2.76",
            "File: HFTS2_20190412_045550_040<br>Magnitude: -2.54",
            "File: HFTS2_20190412_045558_040<br>Magnitude: -2.77",
            "File: HFTS2_20190412_045602_040<br>Magnitude: -2.00",
            "File: HFTS2_20190412_045604_040<br>Magnitude: -2.78",
            "File: HFTS2_20190412_045608_040<br>Magnitude: -2.12",
            "File: HFTS2_20190412_045611_040<br>Magnitude: -2.60",
            "File: HFTS2_20190412_045620_040<br>Magnitude: -2.31",
            "File: HFTS2_20190412_045630_040<br>Magnitude: -2.65",
            "File: HFTS2_20190412_045644_040<br>Magnitude: -2.50",
            "File: HFTS2_20190412_045716_040<br>Magnitude: -2.37",
            "File: HFTS2_20190412_045727_040<br>Magnitude: -2.57",
            "File: HFTS2_20190412_045809_040<br>Magnitude: -2.58",
            "File: HFTS2_20190412_045818_040<br>Magnitude: -2.67",
            "File: HFTS2_20190412_045840_040<br>Magnitude: -2.77",
            "File: HFTS2_20190412_045938_040<br>Magnitude: -2.77",
            "File: HFTS2_20190412_045943_040<br>Magnitude: -2.39",
            "File: HFTS2_20190412_045952_040<br>Magnitude: -2.52",
            "File: HFTS2_20190412_050004_040<br>Magnitude: -2.35",
            "File: HFTS2_20190412_050011_040<br>Magnitude: -2.47",
            "File: HFTS2_20190412_050036_040<br>Magnitude: -2.61",
            "File: HFTS2_20190412_050053_040<br>Magnitude: -2.92",
            "File: HFTS2_20190412_050100_040<br>Magnitude: -2.58",
            "File: HFTS2_20190412_050127_040<br>Magnitude: -2.58",
            "File: HFTS2_20190412_050128_040<br>Magnitude: -2.57",
            "File: HFTS2_20190412_050133_040<br>Magnitude: -2.77",
            "File: HFTS2_20190412_050147_040<br>Magnitude: -2.71",
            "File: HFTS2_20190412_050202_040<br>Magnitude: -2.88",
            "File: HFTS2_20190412_050221_040<br>Magnitude: -2.82",
            "File: HFTS2_20190412_050315_040<br>Magnitude: -2.47",
            "File: HFTS2_20190412_050325_040<br>Magnitude: -2.62",
            "File: HFTS2_20190412_050358_040<br>Magnitude: -2.78",
            "File: HFTS2_20190412_050425_040<br>Magnitude: -2.75",
            "File: HFTS2_20190412_050456_040<br>Magnitude: -2.44",
            "File: HFTS2_20190412_050534_040<br>Magnitude: -2.59",
            "File: HFTS2_20190412_050607_040<br>Magnitude: -2.54"
           ],
           "type": "scatter3d",
           "x": [
            954224.7538
           ],
           "y": [
            849195.9433
           ],
           "z": [
            8614.3051
           ]
          }
         ],
         "name": "2019-04-12 04:54:51.236000"
        },
        {
         "data": [
          {
           "marker": {
            "cmax": -1.6189,
            "cmin": -2.9802,
            "color": [
             -2.5079
            ],
            "colorscale": [
             [
              0,
              "#440154"
             ],
             [
              0.1111111111111111,
              "#482878"
             ],
             [
              0.2222222222222222,
              "#3e4989"
             ],
             [
              0.3333333333333333,
              "#31688e"
             ],
             [
              0.4444444444444444,
              "#26828e"
             ],
             [
              0.5555555555555556,
              "#1f9e89"
             ],
             [
              0.6666666666666666,
              "#35b779"
             ],
             [
              0.7777777777777778,
              "#6ece58"
             ],
             [
              0.8888888888888888,
              "#b5de2b"
             ],
             [
              1,
              "#fde725"
             ]
            ],
            "size": [
             250.79
            ],
            "sizemode": "diameter",
            "sizeref": 25
           },
           "mode": "markers",
           "text": [
            "File: HFTS2_20190412_042831_040<br>Magnitude: -2.77",
            "File: HFTS2_20190412_042832_040<br>Magnitude: -2.73",
            "File: HFTS2_20190412_042833_040<br>Magnitude: -2.65",
            "File: HFTS2_20190412_042835_040<br>Magnitude: -2.65",
            "File: HFTS2_20190412_043437_040<br>Magnitude: -2.56",
            "File: HFTS2_20190412_043802_040<br>Magnitude: -2.35",
            "File: HFTS2_20190412_043803_040<br>Magnitude: -2.22",
            "File: HFTS2_20190412_044156_040<br>Magnitude: -2.03",
            "File: HFTS2_20190412_044403_040<br>Magnitude: -2.39",
            "File: HFTS2_20190412_044404_040<br>Magnitude: -2.10",
            "File: HFTS2_20190412_044435_040_Merged<br>Magnitude: -2.47",
            "File: HFTS2_20190412_044506_040<br>Magnitude: -2.32",
            "File: HFTS2_20190412_044516_040<br>Magnitude: -1.97",
            "File: HFTS2_20190412_044521_040<br>Magnitude: -2.07",
            "File: HFTS2_20190412_044522_040<br>Magnitude: -2.47",
            "File: HFTS2_20190412_044526_040<br>Magnitude: -2.74",
            "File: HFTS2_20190412_044540_040<br>Magnitude: -2.21",
            "File: HFTS2_20190412_044542_040<br>Magnitude: -2.56",
            "File: HFTS2_20190412_044543_040<br>Magnitude: -2.36",
            "File: HFTS2_20190412_044544_040<br>Magnitude: -2.59",
            "File: HFTS2_20190412_044545_040<br>Magnitude: -2.60",
            "File: HFTS2_20190412_044605_040<br>Magnitude: -2.71",
            "File: HFTS2_20190412_044619_040<br>Magnitude: -2.54",
            "File: HFTS2_20190412_044620_040<br>Magnitude: -1.81",
            "File: HFTS2_20190412_044623_040<br>Magnitude: -2.21",
            "File: HFTS2_20190412_044643_040<br>Magnitude: -2.30",
            "File: HFTS2_20190412_044647_040<br>Magnitude: -2.42",
            "File: HFTS2_20190412_044651_040<br>Magnitude: -2.46",
            "File: HFTS2_20190412_044659_040_Merged<br>Magnitude: -1.62",
            "File: HFTS2_20190412_044707_040<br>Magnitude: -2.09",
            "File: HFTS2_20190412_044731_040<br>Magnitude: -2.70",
            "File: HFTS2_20190412_044737_040<br>Magnitude: -2.41",
            "File: HFTS2_20190412_044741_040<br>Magnitude: -2.63",
            "File: HFTS2_20190412_044757_040<br>Magnitude: -2.12",
            "File: HFTS2_20190412_044759_040<br>Magnitude: -2.07",
            "File: HFTS2_20190412_044800_040<br>Magnitude: -2.53",
            "File: HFTS2_20190412_044803_040<br>Magnitude: -2.61",
            "File: HFTS2_20190412_044816_040<br>Magnitude: -2.12",
            "File: HFTS2_20190412_044822_040<br>Magnitude: -2.06",
            "File: HFTS2_20190412_044824_040<br>Magnitude: -2.02",
            "File: HFTS2_20190412_044829_040<br>Magnitude: -1.79",
            "File: HFTS2_20190412_044833_040<br>Magnitude: -2.29",
            "File: HFTS2_20190412_044841_040<br>Magnitude: -2.80",
            "File: HFTS2_20190412_044842_040<br>Magnitude: -2.24",
            "File: HFTS2_20190412_044903_040<br>Magnitude: -2.53",
            "File: HFTS2_20190412_044914_040<br>Magnitude: -2.58",
            "File: HFTS2_20190412_044945_040<br>Magnitude: -2.34",
            "File: HFTS2_20190412_044957_040<br>Magnitude: -2.58",
            "File: HFTS2_20190412_045027_040<br>Magnitude: -2.54",
            "File: HFTS2_20190412_045029_040<br>Magnitude: -2.63",
            "File: HFTS2_20190412_045035_040<br>Magnitude: -2.49",
            "File: HFTS2_20190412_045126_040<br>Magnitude: -2.40",
            "File: HFTS2_20190412_045127_040<br>Magnitude: -2.66",
            "File: HFTS2_20190412_045157_040<br>Magnitude: -2.08",
            "File: HFTS2_20190412_045254_040<br>Magnitude: -2.98",
            "File: HFTS2_20190412_045333_040<br>Magnitude: -2.15",
            "File: HFTS2_20190412_045344_040<br>Magnitude: -2.72",
            "File: HFTS2_20190412_045434_040<br>Magnitude: -2.50",
            "File: HFTS2_20190412_045451_040<br>Magnitude: -2.17",
            "File: HFTS2_20190412_045457_040<br>Magnitude: -2.51",
            "File: HFTS2_20190412_045523_040<br>Magnitude: -2.33",
            "File: HFTS2_20190412_045526_040<br>Magnitude: -2.80",
            "File: HFTS2_20190412_045528_040<br>Magnitude: -2.65",
            "File: HFTS2_20190412_045530_040<br>Magnitude: -2.49",
            "File: HFTS2_20190412_045535_040<br>Magnitude: -2.52",
            "File: HFTS2_20190412_045537_040<br>Magnitude: -2.76",
            "File: HFTS2_20190412_045550_040<br>Magnitude: -2.54",
            "File: HFTS2_20190412_045558_040<br>Magnitude: -2.77",
            "File: HFTS2_20190412_045602_040<br>Magnitude: -2.00",
            "File: HFTS2_20190412_045604_040<br>Magnitude: -2.78",
            "File: HFTS2_20190412_045608_040<br>Magnitude: -2.12",
            "File: HFTS2_20190412_045611_040<br>Magnitude: -2.60",
            "File: HFTS2_20190412_045620_040<br>Magnitude: -2.31",
            "File: HFTS2_20190412_045630_040<br>Magnitude: -2.65",
            "File: HFTS2_20190412_045644_040<br>Magnitude: -2.50",
            "File: HFTS2_20190412_045716_040<br>Magnitude: -2.37",
            "File: HFTS2_20190412_045727_040<br>Magnitude: -2.57",
            "File: HFTS2_20190412_045809_040<br>Magnitude: -2.58",
            "File: HFTS2_20190412_045818_040<br>Magnitude: -2.67",
            "File: HFTS2_20190412_045840_040<br>Magnitude: -2.77",
            "File: HFTS2_20190412_045938_040<br>Magnitude: -2.77",
            "File: HFTS2_20190412_045943_040<br>Magnitude: -2.39",
            "File: HFTS2_20190412_045952_040<br>Magnitude: -2.52",
            "File: HFTS2_20190412_050004_040<br>Magnitude: -2.35",
            "File: HFTS2_20190412_050011_040<br>Magnitude: -2.47",
            "File: HFTS2_20190412_050036_040<br>Magnitude: -2.61",
            "File: HFTS2_20190412_050053_040<br>Magnitude: -2.92",
            "File: HFTS2_20190412_050100_040<br>Magnitude: -2.58",
            "File: HFTS2_20190412_050127_040<br>Magnitude: -2.58",
            "File: HFTS2_20190412_050128_040<br>Magnitude: -2.57",
            "File: HFTS2_20190412_050133_040<br>Magnitude: -2.77",
            "File: HFTS2_20190412_050147_040<br>Magnitude: -2.71",
            "File: HFTS2_20190412_050202_040<br>Magnitude: -2.88",
            "File: HFTS2_20190412_050221_040<br>Magnitude: -2.82",
            "File: HFTS2_20190412_050315_040<br>Magnitude: -2.47",
            "File: HFTS2_20190412_050325_040<br>Magnitude: -2.62",
            "File: HFTS2_20190412_050358_040<br>Magnitude: -2.78",
            "File: HFTS2_20190412_050425_040<br>Magnitude: -2.75",
            "File: HFTS2_20190412_050456_040<br>Magnitude: -2.44",
            "File: HFTS2_20190412_050534_040<br>Magnitude: -2.59",
            "File: HFTS2_20190412_050607_040<br>Magnitude: -2.54"
           ],
           "type": "scatter3d",
           "x": [
            954201.1147
           ],
           "y": [
            849248.3858
           ],
           "z": [
            8441.8143
           ]
          }
         ],
         "name": "2019-04-12 04:54:57.544000"
        },
        {
         "data": [
          {
           "marker": {
            "cmax": -1.6189,
            "cmin": -2.9802,
            "color": [
             -2.3273
            ],
            "colorscale": [
             [
              0,
              "#440154"
             ],
             [
              0.1111111111111111,
              "#482878"
             ],
             [
              0.2222222222222222,
              "#3e4989"
             ],
             [
              0.3333333333333333,
              "#31688e"
             ],
             [
              0.4444444444444444,
              "#26828e"
             ],
             [
              0.5555555555555556,
              "#1f9e89"
             ],
             [
              0.6666666666666666,
              "#35b779"
             ],
             [
              0.7777777777777778,
              "#6ece58"
             ],
             [
              0.8888888888888888,
              "#b5de2b"
             ],
             [
              1,
              "#fde725"
             ]
            ],
            "size": [
             232.73000000000002
            ],
            "sizemode": "diameter",
            "sizeref": 25
           },
           "mode": "markers",
           "text": [
            "File: HFTS2_20190412_042831_040<br>Magnitude: -2.77",
            "File: HFTS2_20190412_042832_040<br>Magnitude: -2.73",
            "File: HFTS2_20190412_042833_040<br>Magnitude: -2.65",
            "File: HFTS2_20190412_042835_040<br>Magnitude: -2.65",
            "File: HFTS2_20190412_043437_040<br>Magnitude: -2.56",
            "File: HFTS2_20190412_043802_040<br>Magnitude: -2.35",
            "File: HFTS2_20190412_043803_040<br>Magnitude: -2.22",
            "File: HFTS2_20190412_044156_040<br>Magnitude: -2.03",
            "File: HFTS2_20190412_044403_040<br>Magnitude: -2.39",
            "File: HFTS2_20190412_044404_040<br>Magnitude: -2.10",
            "File: HFTS2_20190412_044435_040_Merged<br>Magnitude: -2.47",
            "File: HFTS2_20190412_044506_040<br>Magnitude: -2.32",
            "File: HFTS2_20190412_044516_040<br>Magnitude: -1.97",
            "File: HFTS2_20190412_044521_040<br>Magnitude: -2.07",
            "File: HFTS2_20190412_044522_040<br>Magnitude: -2.47",
            "File: HFTS2_20190412_044526_040<br>Magnitude: -2.74",
            "File: HFTS2_20190412_044540_040<br>Magnitude: -2.21",
            "File: HFTS2_20190412_044542_040<br>Magnitude: -2.56",
            "File: HFTS2_20190412_044543_040<br>Magnitude: -2.36",
            "File: HFTS2_20190412_044544_040<br>Magnitude: -2.59",
            "File: HFTS2_20190412_044545_040<br>Magnitude: -2.60",
            "File: HFTS2_20190412_044605_040<br>Magnitude: -2.71",
            "File: HFTS2_20190412_044619_040<br>Magnitude: -2.54",
            "File: HFTS2_20190412_044620_040<br>Magnitude: -1.81",
            "File: HFTS2_20190412_044623_040<br>Magnitude: -2.21",
            "File: HFTS2_20190412_044643_040<br>Magnitude: -2.30",
            "File: HFTS2_20190412_044647_040<br>Magnitude: -2.42",
            "File: HFTS2_20190412_044651_040<br>Magnitude: -2.46",
            "File: HFTS2_20190412_044659_040_Merged<br>Magnitude: -1.62",
            "File: HFTS2_20190412_044707_040<br>Magnitude: -2.09",
            "File: HFTS2_20190412_044731_040<br>Magnitude: -2.70",
            "File: HFTS2_20190412_044737_040<br>Magnitude: -2.41",
            "File: HFTS2_20190412_044741_040<br>Magnitude: -2.63",
            "File: HFTS2_20190412_044757_040<br>Magnitude: -2.12",
            "File: HFTS2_20190412_044759_040<br>Magnitude: -2.07",
            "File: HFTS2_20190412_044800_040<br>Magnitude: -2.53",
            "File: HFTS2_20190412_044803_040<br>Magnitude: -2.61",
            "File: HFTS2_20190412_044816_040<br>Magnitude: -2.12",
            "File: HFTS2_20190412_044822_040<br>Magnitude: -2.06",
            "File: HFTS2_20190412_044824_040<br>Magnitude: -2.02",
            "File: HFTS2_20190412_044829_040<br>Magnitude: -1.79",
            "File: HFTS2_20190412_044833_040<br>Magnitude: -2.29",
            "File: HFTS2_20190412_044841_040<br>Magnitude: -2.80",
            "File: HFTS2_20190412_044842_040<br>Magnitude: -2.24",
            "File: HFTS2_20190412_044903_040<br>Magnitude: -2.53",
            "File: HFTS2_20190412_044914_040<br>Magnitude: -2.58",
            "File: HFTS2_20190412_044945_040<br>Magnitude: -2.34",
            "File: HFTS2_20190412_044957_040<br>Magnitude: -2.58",
            "File: HFTS2_20190412_045027_040<br>Magnitude: -2.54",
            "File: HFTS2_20190412_045029_040<br>Magnitude: -2.63",
            "File: HFTS2_20190412_045035_040<br>Magnitude: -2.49",
            "File: HFTS2_20190412_045126_040<br>Magnitude: -2.40",
            "File: HFTS2_20190412_045127_040<br>Magnitude: -2.66",
            "File: HFTS2_20190412_045157_040<br>Magnitude: -2.08",
            "File: HFTS2_20190412_045254_040<br>Magnitude: -2.98",
            "File: HFTS2_20190412_045333_040<br>Magnitude: -2.15",
            "File: HFTS2_20190412_045344_040<br>Magnitude: -2.72",
            "File: HFTS2_20190412_045434_040<br>Magnitude: -2.50",
            "File: HFTS2_20190412_045451_040<br>Magnitude: -2.17",
            "File: HFTS2_20190412_045457_040<br>Magnitude: -2.51",
            "File: HFTS2_20190412_045523_040<br>Magnitude: -2.33",
            "File: HFTS2_20190412_045526_040<br>Magnitude: -2.80",
            "File: HFTS2_20190412_045528_040<br>Magnitude: -2.65",
            "File: HFTS2_20190412_045530_040<br>Magnitude: -2.49",
            "File: HFTS2_20190412_045535_040<br>Magnitude: -2.52",
            "File: HFTS2_20190412_045537_040<br>Magnitude: -2.76",
            "File: HFTS2_20190412_045550_040<br>Magnitude: -2.54",
            "File: HFTS2_20190412_045558_040<br>Magnitude: -2.77",
            "File: HFTS2_20190412_045602_040<br>Magnitude: -2.00",
            "File: HFTS2_20190412_045604_040<br>Magnitude: -2.78",
            "File: HFTS2_20190412_045608_040<br>Magnitude: -2.12",
            "File: HFTS2_20190412_045611_040<br>Magnitude: -2.60",
            "File: HFTS2_20190412_045620_040<br>Magnitude: -2.31",
            "File: HFTS2_20190412_045630_040<br>Magnitude: -2.65",
            "File: HFTS2_20190412_045644_040<br>Magnitude: -2.50",
            "File: HFTS2_20190412_045716_040<br>Magnitude: -2.37",
            "File: HFTS2_20190412_045727_040<br>Magnitude: -2.57",
            "File: HFTS2_20190412_045809_040<br>Magnitude: -2.58",
            "File: HFTS2_20190412_045818_040<br>Magnitude: -2.67",
            "File: HFTS2_20190412_045840_040<br>Magnitude: -2.77",
            "File: HFTS2_20190412_045938_040<br>Magnitude: -2.77",
            "File: HFTS2_20190412_045943_040<br>Magnitude: -2.39",
            "File: HFTS2_20190412_045952_040<br>Magnitude: -2.52",
            "File: HFTS2_20190412_050004_040<br>Magnitude: -2.35",
            "File: HFTS2_20190412_050011_040<br>Magnitude: -2.47",
            "File: HFTS2_20190412_050036_040<br>Magnitude: -2.61",
            "File: HFTS2_20190412_050053_040<br>Magnitude: -2.92",
            "File: HFTS2_20190412_050100_040<br>Magnitude: -2.58",
            "File: HFTS2_20190412_050127_040<br>Magnitude: -2.58",
            "File: HFTS2_20190412_050128_040<br>Magnitude: -2.57",
            "File: HFTS2_20190412_050133_040<br>Magnitude: -2.77",
            "File: HFTS2_20190412_050147_040<br>Magnitude: -2.71",
            "File: HFTS2_20190412_050202_040<br>Magnitude: -2.88",
            "File: HFTS2_20190412_050221_040<br>Magnitude: -2.82",
            "File: HFTS2_20190412_050315_040<br>Magnitude: -2.47",
            "File: HFTS2_20190412_050325_040<br>Magnitude: -2.62",
            "File: HFTS2_20190412_050358_040<br>Magnitude: -2.78",
            "File: HFTS2_20190412_050425_040<br>Magnitude: -2.75",
            "File: HFTS2_20190412_050456_040<br>Magnitude: -2.44",
            "File: HFTS2_20190412_050534_040<br>Magnitude: -2.59",
            "File: HFTS2_20190412_050607_040<br>Magnitude: -2.54"
           ],
           "type": "scatter3d",
           "x": [
            954377.4042
           ],
           "y": [
            849095.8679
           ],
           "z": [
            8348.9937
           ]
          }
         ],
         "name": "2019-04-12 04:55:23.324000"
        },
        {
         "data": [
          {
           "marker": {
            "cmax": -1.6189,
            "cmin": -2.9802,
            "color": [
             -2.7968
            ],
            "colorscale": [
             [
              0,
              "#440154"
             ],
             [
              0.1111111111111111,
              "#482878"
             ],
             [
              0.2222222222222222,
              "#3e4989"
             ],
             [
              0.3333333333333333,
              "#31688e"
             ],
             [
              0.4444444444444444,
              "#26828e"
             ],
             [
              0.5555555555555556,
              "#1f9e89"
             ],
             [
              0.6666666666666666,
              "#35b779"
             ],
             [
              0.7777777777777778,
              "#6ece58"
             ],
             [
              0.8888888888888888,
              "#b5de2b"
             ],
             [
              1,
              "#fde725"
             ]
            ],
            "size": [
             279.68
            ],
            "sizemode": "diameter",
            "sizeref": 25
           },
           "mode": "markers",
           "text": [
            "File: HFTS2_20190412_042831_040<br>Magnitude: -2.77",
            "File: HFTS2_20190412_042832_040<br>Magnitude: -2.73",
            "File: HFTS2_20190412_042833_040<br>Magnitude: -2.65",
            "File: HFTS2_20190412_042835_040<br>Magnitude: -2.65",
            "File: HFTS2_20190412_043437_040<br>Magnitude: -2.56",
            "File: HFTS2_20190412_043802_040<br>Magnitude: -2.35",
            "File: HFTS2_20190412_043803_040<br>Magnitude: -2.22",
            "File: HFTS2_20190412_044156_040<br>Magnitude: -2.03",
            "File: HFTS2_20190412_044403_040<br>Magnitude: -2.39",
            "File: HFTS2_20190412_044404_040<br>Magnitude: -2.10",
            "File: HFTS2_20190412_044435_040_Merged<br>Magnitude: -2.47",
            "File: HFTS2_20190412_044506_040<br>Magnitude: -2.32",
            "File: HFTS2_20190412_044516_040<br>Magnitude: -1.97",
            "File: HFTS2_20190412_044521_040<br>Magnitude: -2.07",
            "File: HFTS2_20190412_044522_040<br>Magnitude: -2.47",
            "File: HFTS2_20190412_044526_040<br>Magnitude: -2.74",
            "File: HFTS2_20190412_044540_040<br>Magnitude: -2.21",
            "File: HFTS2_20190412_044542_040<br>Magnitude: -2.56",
            "File: HFTS2_20190412_044543_040<br>Magnitude: -2.36",
            "File: HFTS2_20190412_044544_040<br>Magnitude: -2.59",
            "File: HFTS2_20190412_044545_040<br>Magnitude: -2.60",
            "File: HFTS2_20190412_044605_040<br>Magnitude: -2.71",
            "File: HFTS2_20190412_044619_040<br>Magnitude: -2.54",
            "File: HFTS2_20190412_044620_040<br>Magnitude: -1.81",
            "File: HFTS2_20190412_044623_040<br>Magnitude: -2.21",
            "File: HFTS2_20190412_044643_040<br>Magnitude: -2.30",
            "File: HFTS2_20190412_044647_040<br>Magnitude: -2.42",
            "File: HFTS2_20190412_044651_040<br>Magnitude: -2.46",
            "File: HFTS2_20190412_044659_040_Merged<br>Magnitude: -1.62",
            "File: HFTS2_20190412_044707_040<br>Magnitude: -2.09",
            "File: HFTS2_20190412_044731_040<br>Magnitude: -2.70",
            "File: HFTS2_20190412_044737_040<br>Magnitude: -2.41",
            "File: HFTS2_20190412_044741_040<br>Magnitude: -2.63",
            "File: HFTS2_20190412_044757_040<br>Magnitude: -2.12",
            "File: HFTS2_20190412_044759_040<br>Magnitude: -2.07",
            "File: HFTS2_20190412_044800_040<br>Magnitude: -2.53",
            "File: HFTS2_20190412_044803_040<br>Magnitude: -2.61",
            "File: HFTS2_20190412_044816_040<br>Magnitude: -2.12",
            "File: HFTS2_20190412_044822_040<br>Magnitude: -2.06",
            "File: HFTS2_20190412_044824_040<br>Magnitude: -2.02",
            "File: HFTS2_20190412_044829_040<br>Magnitude: -1.79",
            "File: HFTS2_20190412_044833_040<br>Magnitude: -2.29",
            "File: HFTS2_20190412_044841_040<br>Magnitude: -2.80",
            "File: HFTS2_20190412_044842_040<br>Magnitude: -2.24",
            "File: HFTS2_20190412_044903_040<br>Magnitude: -2.53",
            "File: HFTS2_20190412_044914_040<br>Magnitude: -2.58",
            "File: HFTS2_20190412_044945_040<br>Magnitude: -2.34",
            "File: HFTS2_20190412_044957_040<br>Magnitude: -2.58",
            "File: HFTS2_20190412_045027_040<br>Magnitude: -2.54",
            "File: HFTS2_20190412_045029_040<br>Magnitude: -2.63",
            "File: HFTS2_20190412_045035_040<br>Magnitude: -2.49",
            "File: HFTS2_20190412_045126_040<br>Magnitude: -2.40",
            "File: HFTS2_20190412_045127_040<br>Magnitude: -2.66",
            "File: HFTS2_20190412_045157_040<br>Magnitude: -2.08",
            "File: HFTS2_20190412_045254_040<br>Magnitude: -2.98",
            "File: HFTS2_20190412_045333_040<br>Magnitude: -2.15",
            "File: HFTS2_20190412_045344_040<br>Magnitude: -2.72",
            "File: HFTS2_20190412_045434_040<br>Magnitude: -2.50",
            "File: HFTS2_20190412_045451_040<br>Magnitude: -2.17",
            "File: HFTS2_20190412_045457_040<br>Magnitude: -2.51",
            "File: HFTS2_20190412_045523_040<br>Magnitude: -2.33",
            "File: HFTS2_20190412_045526_040<br>Magnitude: -2.80",
            "File: HFTS2_20190412_045528_040<br>Magnitude: -2.65",
            "File: HFTS2_20190412_045530_040<br>Magnitude: -2.49",
            "File: HFTS2_20190412_045535_040<br>Magnitude: -2.52",
            "File: HFTS2_20190412_045537_040<br>Magnitude: -2.76",
            "File: HFTS2_20190412_045550_040<br>Magnitude: -2.54",
            "File: HFTS2_20190412_045558_040<br>Magnitude: -2.77",
            "File: HFTS2_20190412_045602_040<br>Magnitude: -2.00",
            "File: HFTS2_20190412_045604_040<br>Magnitude: -2.78",
            "File: HFTS2_20190412_045608_040<br>Magnitude: -2.12",
            "File: HFTS2_20190412_045611_040<br>Magnitude: -2.60",
            "File: HFTS2_20190412_045620_040<br>Magnitude: -2.31",
            "File: HFTS2_20190412_045630_040<br>Magnitude: -2.65",
            "File: HFTS2_20190412_045644_040<br>Magnitude: -2.50",
            "File: HFTS2_20190412_045716_040<br>Magnitude: -2.37",
            "File: HFTS2_20190412_045727_040<br>Magnitude: -2.57",
            "File: HFTS2_20190412_045809_040<br>Magnitude: -2.58",
            "File: HFTS2_20190412_045818_040<br>Magnitude: -2.67",
            "File: HFTS2_20190412_045840_040<br>Magnitude: -2.77",
            "File: HFTS2_20190412_045938_040<br>Magnitude: -2.77",
            "File: HFTS2_20190412_045943_040<br>Magnitude: -2.39",
            "File: HFTS2_20190412_045952_040<br>Magnitude: -2.52",
            "File: HFTS2_20190412_050004_040<br>Magnitude: -2.35",
            "File: HFTS2_20190412_050011_040<br>Magnitude: -2.47",
            "File: HFTS2_20190412_050036_040<br>Magnitude: -2.61",
            "File: HFTS2_20190412_050053_040<br>Magnitude: -2.92",
            "File: HFTS2_20190412_050100_040<br>Magnitude: -2.58",
            "File: HFTS2_20190412_050127_040<br>Magnitude: -2.58",
            "File: HFTS2_20190412_050128_040<br>Magnitude: -2.57",
            "File: HFTS2_20190412_050133_040<br>Magnitude: -2.77",
            "File: HFTS2_20190412_050147_040<br>Magnitude: -2.71",
            "File: HFTS2_20190412_050202_040<br>Magnitude: -2.88",
            "File: HFTS2_20190412_050221_040<br>Magnitude: -2.82",
            "File: HFTS2_20190412_050315_040<br>Magnitude: -2.47",
            "File: HFTS2_20190412_050325_040<br>Magnitude: -2.62",
            "File: HFTS2_20190412_050358_040<br>Magnitude: -2.78",
            "File: HFTS2_20190412_050425_040<br>Magnitude: -2.75",
            "File: HFTS2_20190412_050456_040<br>Magnitude: -2.44",
            "File: HFTS2_20190412_050534_040<br>Magnitude: -2.59",
            "File: HFTS2_20190412_050607_040<br>Magnitude: -2.54"
           ],
           "type": "scatter3d",
           "x": [
            954067.9804
           ],
           "y": [
            849165.3256
           ],
           "z": [
            8100.8839
           ]
          }
         ],
         "name": "2019-04-12 04:55:26.761000"
        },
        {
         "data": [
          {
           "marker": {
            "cmax": -1.6189,
            "cmin": -2.9802,
            "color": [
             -2.6497
            ],
            "colorscale": [
             [
              0,
              "#440154"
             ],
             [
              0.1111111111111111,
              "#482878"
             ],
             [
              0.2222222222222222,
              "#3e4989"
             ],
             [
              0.3333333333333333,
              "#31688e"
             ],
             [
              0.4444444444444444,
              "#26828e"
             ],
             [
              0.5555555555555556,
              "#1f9e89"
             ],
             [
              0.6666666666666666,
              "#35b779"
             ],
             [
              0.7777777777777778,
              "#6ece58"
             ],
             [
              0.8888888888888888,
              "#b5de2b"
             ],
             [
              1,
              "#fde725"
             ]
            ],
            "size": [
             264.97
            ],
            "sizemode": "diameter",
            "sizeref": 25
           },
           "mode": "markers",
           "text": [
            "File: HFTS2_20190412_042831_040<br>Magnitude: -2.77",
            "File: HFTS2_20190412_042832_040<br>Magnitude: -2.73",
            "File: HFTS2_20190412_042833_040<br>Magnitude: -2.65",
            "File: HFTS2_20190412_042835_040<br>Magnitude: -2.65",
            "File: HFTS2_20190412_043437_040<br>Magnitude: -2.56",
            "File: HFTS2_20190412_043802_040<br>Magnitude: -2.35",
            "File: HFTS2_20190412_043803_040<br>Magnitude: -2.22",
            "File: HFTS2_20190412_044156_040<br>Magnitude: -2.03",
            "File: HFTS2_20190412_044403_040<br>Magnitude: -2.39",
            "File: HFTS2_20190412_044404_040<br>Magnitude: -2.10",
            "File: HFTS2_20190412_044435_040_Merged<br>Magnitude: -2.47",
            "File: HFTS2_20190412_044506_040<br>Magnitude: -2.32",
            "File: HFTS2_20190412_044516_040<br>Magnitude: -1.97",
            "File: HFTS2_20190412_044521_040<br>Magnitude: -2.07",
            "File: HFTS2_20190412_044522_040<br>Magnitude: -2.47",
            "File: HFTS2_20190412_044526_040<br>Magnitude: -2.74",
            "File: HFTS2_20190412_044540_040<br>Magnitude: -2.21",
            "File: HFTS2_20190412_044542_040<br>Magnitude: -2.56",
            "File: HFTS2_20190412_044543_040<br>Magnitude: -2.36",
            "File: HFTS2_20190412_044544_040<br>Magnitude: -2.59",
            "File: HFTS2_20190412_044545_040<br>Magnitude: -2.60",
            "File: HFTS2_20190412_044605_040<br>Magnitude: -2.71",
            "File: HFTS2_20190412_044619_040<br>Magnitude: -2.54",
            "File: HFTS2_20190412_044620_040<br>Magnitude: -1.81",
            "File: HFTS2_20190412_044623_040<br>Magnitude: -2.21",
            "File: HFTS2_20190412_044643_040<br>Magnitude: -2.30",
            "File: HFTS2_20190412_044647_040<br>Magnitude: -2.42",
            "File: HFTS2_20190412_044651_040<br>Magnitude: -2.46",
            "File: HFTS2_20190412_044659_040_Merged<br>Magnitude: -1.62",
            "File: HFTS2_20190412_044707_040<br>Magnitude: -2.09",
            "File: HFTS2_20190412_044731_040<br>Magnitude: -2.70",
            "File: HFTS2_20190412_044737_040<br>Magnitude: -2.41",
            "File: HFTS2_20190412_044741_040<br>Magnitude: -2.63",
            "File: HFTS2_20190412_044757_040<br>Magnitude: -2.12",
            "File: HFTS2_20190412_044759_040<br>Magnitude: -2.07",
            "File: HFTS2_20190412_044800_040<br>Magnitude: -2.53",
            "File: HFTS2_20190412_044803_040<br>Magnitude: -2.61",
            "File: HFTS2_20190412_044816_040<br>Magnitude: -2.12",
            "File: HFTS2_20190412_044822_040<br>Magnitude: -2.06",
            "File: HFTS2_20190412_044824_040<br>Magnitude: -2.02",
            "File: HFTS2_20190412_044829_040<br>Magnitude: -1.79",
            "File: HFTS2_20190412_044833_040<br>Magnitude: -2.29",
            "File: HFTS2_20190412_044841_040<br>Magnitude: -2.80",
            "File: HFTS2_20190412_044842_040<br>Magnitude: -2.24",
            "File: HFTS2_20190412_044903_040<br>Magnitude: -2.53",
            "File: HFTS2_20190412_044914_040<br>Magnitude: -2.58",
            "File: HFTS2_20190412_044945_040<br>Magnitude: -2.34",
            "File: HFTS2_20190412_044957_040<br>Magnitude: -2.58",
            "File: HFTS2_20190412_045027_040<br>Magnitude: -2.54",
            "File: HFTS2_20190412_045029_040<br>Magnitude: -2.63",
            "File: HFTS2_20190412_045035_040<br>Magnitude: -2.49",
            "File: HFTS2_20190412_045126_040<br>Magnitude: -2.40",
            "File: HFTS2_20190412_045127_040<br>Magnitude: -2.66",
            "File: HFTS2_20190412_045157_040<br>Magnitude: -2.08",
            "File: HFTS2_20190412_045254_040<br>Magnitude: -2.98",
            "File: HFTS2_20190412_045333_040<br>Magnitude: -2.15",
            "File: HFTS2_20190412_045344_040<br>Magnitude: -2.72",
            "File: HFTS2_20190412_045434_040<br>Magnitude: -2.50",
            "File: HFTS2_20190412_045451_040<br>Magnitude: -2.17",
            "File: HFTS2_20190412_045457_040<br>Magnitude: -2.51",
            "File: HFTS2_20190412_045523_040<br>Magnitude: -2.33",
            "File: HFTS2_20190412_045526_040<br>Magnitude: -2.80",
            "File: HFTS2_20190412_045528_040<br>Magnitude: -2.65",
            "File: HFTS2_20190412_045530_040<br>Magnitude: -2.49",
            "File: HFTS2_20190412_045535_040<br>Magnitude: -2.52",
            "File: HFTS2_20190412_045537_040<br>Magnitude: -2.76",
            "File: HFTS2_20190412_045550_040<br>Magnitude: -2.54",
            "File: HFTS2_20190412_045558_040<br>Magnitude: -2.77",
            "File: HFTS2_20190412_045602_040<br>Magnitude: -2.00",
            "File: HFTS2_20190412_045604_040<br>Magnitude: -2.78",
            "File: HFTS2_20190412_045608_040<br>Magnitude: -2.12",
            "File: HFTS2_20190412_045611_040<br>Magnitude: -2.60",
            "File: HFTS2_20190412_045620_040<br>Magnitude: -2.31",
            "File: HFTS2_20190412_045630_040<br>Magnitude: -2.65",
            "File: HFTS2_20190412_045644_040<br>Magnitude: -2.50",
            "File: HFTS2_20190412_045716_040<br>Magnitude: -2.37",
            "File: HFTS2_20190412_045727_040<br>Magnitude: -2.57",
            "File: HFTS2_20190412_045809_040<br>Magnitude: -2.58",
            "File: HFTS2_20190412_045818_040<br>Magnitude: -2.67",
            "File: HFTS2_20190412_045840_040<br>Magnitude: -2.77",
            "File: HFTS2_20190412_045938_040<br>Magnitude: -2.77",
            "File: HFTS2_20190412_045943_040<br>Magnitude: -2.39",
            "File: HFTS2_20190412_045952_040<br>Magnitude: -2.52",
            "File: HFTS2_20190412_050004_040<br>Magnitude: -2.35",
            "File: HFTS2_20190412_050011_040<br>Magnitude: -2.47",
            "File: HFTS2_20190412_050036_040<br>Magnitude: -2.61",
            "File: HFTS2_20190412_050053_040<br>Magnitude: -2.92",
            "File: HFTS2_20190412_050100_040<br>Magnitude: -2.58",
            "File: HFTS2_20190412_050127_040<br>Magnitude: -2.58",
            "File: HFTS2_20190412_050128_040<br>Magnitude: -2.57",
            "File: HFTS2_20190412_050133_040<br>Magnitude: -2.77",
            "File: HFTS2_20190412_050147_040<br>Magnitude: -2.71",
            "File: HFTS2_20190412_050202_040<br>Magnitude: -2.88",
            "File: HFTS2_20190412_050221_040<br>Magnitude: -2.82",
            "File: HFTS2_20190412_050315_040<br>Magnitude: -2.47",
            "File: HFTS2_20190412_050325_040<br>Magnitude: -2.62",
            "File: HFTS2_20190412_050358_040<br>Magnitude: -2.78",
            "File: HFTS2_20190412_050425_040<br>Magnitude: -2.75",
            "File: HFTS2_20190412_050456_040<br>Magnitude: -2.44",
            "File: HFTS2_20190412_050534_040<br>Magnitude: -2.59",
            "File: HFTS2_20190412_050607_040<br>Magnitude: -2.54"
           ],
           "type": "scatter3d",
           "x": [
            954345.5954
           ],
           "y": [
            849243.0738
           ],
           "z": [
            8746.6279
           ]
          }
         ],
         "name": "2019-04-12 04:55:28.040000"
        },
        {
         "data": [
          {
           "marker": {
            "cmax": -1.6189,
            "cmin": -2.9802,
            "color": [
             -2.4884
            ],
            "colorscale": [
             [
              0,
              "#440154"
             ],
             [
              0.1111111111111111,
              "#482878"
             ],
             [
              0.2222222222222222,
              "#3e4989"
             ],
             [
              0.3333333333333333,
              "#31688e"
             ],
             [
              0.4444444444444444,
              "#26828e"
             ],
             [
              0.5555555555555556,
              "#1f9e89"
             ],
             [
              0.6666666666666666,
              "#35b779"
             ],
             [
              0.7777777777777778,
              "#6ece58"
             ],
             [
              0.8888888888888888,
              "#b5de2b"
             ],
             [
              1,
              "#fde725"
             ]
            ],
            "size": [
             248.84
            ],
            "sizemode": "diameter",
            "sizeref": 25
           },
           "mode": "markers",
           "text": [
            "File: HFTS2_20190412_042831_040<br>Magnitude: -2.77",
            "File: HFTS2_20190412_042832_040<br>Magnitude: -2.73",
            "File: HFTS2_20190412_042833_040<br>Magnitude: -2.65",
            "File: HFTS2_20190412_042835_040<br>Magnitude: -2.65",
            "File: HFTS2_20190412_043437_040<br>Magnitude: -2.56",
            "File: HFTS2_20190412_043802_040<br>Magnitude: -2.35",
            "File: HFTS2_20190412_043803_040<br>Magnitude: -2.22",
            "File: HFTS2_20190412_044156_040<br>Magnitude: -2.03",
            "File: HFTS2_20190412_044403_040<br>Magnitude: -2.39",
            "File: HFTS2_20190412_044404_040<br>Magnitude: -2.10",
            "File: HFTS2_20190412_044435_040_Merged<br>Magnitude: -2.47",
            "File: HFTS2_20190412_044506_040<br>Magnitude: -2.32",
            "File: HFTS2_20190412_044516_040<br>Magnitude: -1.97",
            "File: HFTS2_20190412_044521_040<br>Magnitude: -2.07",
            "File: HFTS2_20190412_044522_040<br>Magnitude: -2.47",
            "File: HFTS2_20190412_044526_040<br>Magnitude: -2.74",
            "File: HFTS2_20190412_044540_040<br>Magnitude: -2.21",
            "File: HFTS2_20190412_044542_040<br>Magnitude: -2.56",
            "File: HFTS2_20190412_044543_040<br>Magnitude: -2.36",
            "File: HFTS2_20190412_044544_040<br>Magnitude: -2.59",
            "File: HFTS2_20190412_044545_040<br>Magnitude: -2.60",
            "File: HFTS2_20190412_044605_040<br>Magnitude: -2.71",
            "File: HFTS2_20190412_044619_040<br>Magnitude: -2.54",
            "File: HFTS2_20190412_044620_040<br>Magnitude: -1.81",
            "File: HFTS2_20190412_044623_040<br>Magnitude: -2.21",
            "File: HFTS2_20190412_044643_040<br>Magnitude: -2.30",
            "File: HFTS2_20190412_044647_040<br>Magnitude: -2.42",
            "File: HFTS2_20190412_044651_040<br>Magnitude: -2.46",
            "File: HFTS2_20190412_044659_040_Merged<br>Magnitude: -1.62",
            "File: HFTS2_20190412_044707_040<br>Magnitude: -2.09",
            "File: HFTS2_20190412_044731_040<br>Magnitude: -2.70",
            "File: HFTS2_20190412_044737_040<br>Magnitude: -2.41",
            "File: HFTS2_20190412_044741_040<br>Magnitude: -2.63",
            "File: HFTS2_20190412_044757_040<br>Magnitude: -2.12",
            "File: HFTS2_20190412_044759_040<br>Magnitude: -2.07",
            "File: HFTS2_20190412_044800_040<br>Magnitude: -2.53",
            "File: HFTS2_20190412_044803_040<br>Magnitude: -2.61",
            "File: HFTS2_20190412_044816_040<br>Magnitude: -2.12",
            "File: HFTS2_20190412_044822_040<br>Magnitude: -2.06",
            "File: HFTS2_20190412_044824_040<br>Magnitude: -2.02",
            "File: HFTS2_20190412_044829_040<br>Magnitude: -1.79",
            "File: HFTS2_20190412_044833_040<br>Magnitude: -2.29",
            "File: HFTS2_20190412_044841_040<br>Magnitude: -2.80",
            "File: HFTS2_20190412_044842_040<br>Magnitude: -2.24",
            "File: HFTS2_20190412_044903_040<br>Magnitude: -2.53",
            "File: HFTS2_20190412_044914_040<br>Magnitude: -2.58",
            "File: HFTS2_20190412_044945_040<br>Magnitude: -2.34",
            "File: HFTS2_20190412_044957_040<br>Magnitude: -2.58",
            "File: HFTS2_20190412_045027_040<br>Magnitude: -2.54",
            "File: HFTS2_20190412_045029_040<br>Magnitude: -2.63",
            "File: HFTS2_20190412_045035_040<br>Magnitude: -2.49",
            "File: HFTS2_20190412_045126_040<br>Magnitude: -2.40",
            "File: HFTS2_20190412_045127_040<br>Magnitude: -2.66",
            "File: HFTS2_20190412_045157_040<br>Magnitude: -2.08",
            "File: HFTS2_20190412_045254_040<br>Magnitude: -2.98",
            "File: HFTS2_20190412_045333_040<br>Magnitude: -2.15",
            "File: HFTS2_20190412_045344_040<br>Magnitude: -2.72",
            "File: HFTS2_20190412_045434_040<br>Magnitude: -2.50",
            "File: HFTS2_20190412_045451_040<br>Magnitude: -2.17",
            "File: HFTS2_20190412_045457_040<br>Magnitude: -2.51",
            "File: HFTS2_20190412_045523_040<br>Magnitude: -2.33",
            "File: HFTS2_20190412_045526_040<br>Magnitude: -2.80",
            "File: HFTS2_20190412_045528_040<br>Magnitude: -2.65",
            "File: HFTS2_20190412_045530_040<br>Magnitude: -2.49",
            "File: HFTS2_20190412_045535_040<br>Magnitude: -2.52",
            "File: HFTS2_20190412_045537_040<br>Magnitude: -2.76",
            "File: HFTS2_20190412_045550_040<br>Magnitude: -2.54",
            "File: HFTS2_20190412_045558_040<br>Magnitude: -2.77",
            "File: HFTS2_20190412_045602_040<br>Magnitude: -2.00",
            "File: HFTS2_20190412_045604_040<br>Magnitude: -2.78",
            "File: HFTS2_20190412_045608_040<br>Magnitude: -2.12",
            "File: HFTS2_20190412_045611_040<br>Magnitude: -2.60",
            "File: HFTS2_20190412_045620_040<br>Magnitude: -2.31",
            "File: HFTS2_20190412_045630_040<br>Magnitude: -2.65",
            "File: HFTS2_20190412_045644_040<br>Magnitude: -2.50",
            "File: HFTS2_20190412_045716_040<br>Magnitude: -2.37",
            "File: HFTS2_20190412_045727_040<br>Magnitude: -2.57",
            "File: HFTS2_20190412_045809_040<br>Magnitude: -2.58",
            "File: HFTS2_20190412_045818_040<br>Magnitude: -2.67",
            "File: HFTS2_20190412_045840_040<br>Magnitude: -2.77",
            "File: HFTS2_20190412_045938_040<br>Magnitude: -2.77",
            "File: HFTS2_20190412_045943_040<br>Magnitude: -2.39",
            "File: HFTS2_20190412_045952_040<br>Magnitude: -2.52",
            "File: HFTS2_20190412_050004_040<br>Magnitude: -2.35",
            "File: HFTS2_20190412_050011_040<br>Magnitude: -2.47",
            "File: HFTS2_20190412_050036_040<br>Magnitude: -2.61",
            "File: HFTS2_20190412_050053_040<br>Magnitude: -2.92",
            "File: HFTS2_20190412_050100_040<br>Magnitude: -2.58",
            "File: HFTS2_20190412_050127_040<br>Magnitude: -2.58",
            "File: HFTS2_20190412_050128_040<br>Magnitude: -2.57",
            "File: HFTS2_20190412_050133_040<br>Magnitude: -2.77",
            "File: HFTS2_20190412_050147_040<br>Magnitude: -2.71",
            "File: HFTS2_20190412_050202_040<br>Magnitude: -2.88",
            "File: HFTS2_20190412_050221_040<br>Magnitude: -2.82",
            "File: HFTS2_20190412_050315_040<br>Magnitude: -2.47",
            "File: HFTS2_20190412_050325_040<br>Magnitude: -2.62",
            "File: HFTS2_20190412_050358_040<br>Magnitude: -2.78",
            "File: HFTS2_20190412_050425_040<br>Magnitude: -2.75",
            "File: HFTS2_20190412_050456_040<br>Magnitude: -2.44",
            "File: HFTS2_20190412_050534_040<br>Magnitude: -2.59",
            "File: HFTS2_20190412_050607_040<br>Magnitude: -2.54"
           ],
           "type": "scatter3d",
           "x": [
            954144.703
           ],
           "y": [
            849142.7325
           ],
           "z": [
            8670.7552
           ]
          }
         ],
         "name": "2019-04-12 04:55:30.012000"
        },
        {
         "data": [
          {
           "marker": {
            "cmax": -1.6189,
            "cmin": -2.9802,
            "color": [
             -2.5161
            ],
            "colorscale": [
             [
              0,
              "#440154"
             ],
             [
              0.1111111111111111,
              "#482878"
             ],
             [
              0.2222222222222222,
              "#3e4989"
             ],
             [
              0.3333333333333333,
              "#31688e"
             ],
             [
              0.4444444444444444,
              "#26828e"
             ],
             [
              0.5555555555555556,
              "#1f9e89"
             ],
             [
              0.6666666666666666,
              "#35b779"
             ],
             [
              0.7777777777777778,
              "#6ece58"
             ],
             [
              0.8888888888888888,
              "#b5de2b"
             ],
             [
              1,
              "#fde725"
             ]
            ],
            "size": [
             251.60999999999999
            ],
            "sizemode": "diameter",
            "sizeref": 25
           },
           "mode": "markers",
           "text": [
            "File: HFTS2_20190412_042831_040<br>Magnitude: -2.77",
            "File: HFTS2_20190412_042832_040<br>Magnitude: -2.73",
            "File: HFTS2_20190412_042833_040<br>Magnitude: -2.65",
            "File: HFTS2_20190412_042835_040<br>Magnitude: -2.65",
            "File: HFTS2_20190412_043437_040<br>Magnitude: -2.56",
            "File: HFTS2_20190412_043802_040<br>Magnitude: -2.35",
            "File: HFTS2_20190412_043803_040<br>Magnitude: -2.22",
            "File: HFTS2_20190412_044156_040<br>Magnitude: -2.03",
            "File: HFTS2_20190412_044403_040<br>Magnitude: -2.39",
            "File: HFTS2_20190412_044404_040<br>Magnitude: -2.10",
            "File: HFTS2_20190412_044435_040_Merged<br>Magnitude: -2.47",
            "File: HFTS2_20190412_044506_040<br>Magnitude: -2.32",
            "File: HFTS2_20190412_044516_040<br>Magnitude: -1.97",
            "File: HFTS2_20190412_044521_040<br>Magnitude: -2.07",
            "File: HFTS2_20190412_044522_040<br>Magnitude: -2.47",
            "File: HFTS2_20190412_044526_040<br>Magnitude: -2.74",
            "File: HFTS2_20190412_044540_040<br>Magnitude: -2.21",
            "File: HFTS2_20190412_044542_040<br>Magnitude: -2.56",
            "File: HFTS2_20190412_044543_040<br>Magnitude: -2.36",
            "File: HFTS2_20190412_044544_040<br>Magnitude: -2.59",
            "File: HFTS2_20190412_044545_040<br>Magnitude: -2.60",
            "File: HFTS2_20190412_044605_040<br>Magnitude: -2.71",
            "File: HFTS2_20190412_044619_040<br>Magnitude: -2.54",
            "File: HFTS2_20190412_044620_040<br>Magnitude: -1.81",
            "File: HFTS2_20190412_044623_040<br>Magnitude: -2.21",
            "File: HFTS2_20190412_044643_040<br>Magnitude: -2.30",
            "File: HFTS2_20190412_044647_040<br>Magnitude: -2.42",
            "File: HFTS2_20190412_044651_040<br>Magnitude: -2.46",
            "File: HFTS2_20190412_044659_040_Merged<br>Magnitude: -1.62",
            "File: HFTS2_20190412_044707_040<br>Magnitude: -2.09",
            "File: HFTS2_20190412_044731_040<br>Magnitude: -2.70",
            "File: HFTS2_20190412_044737_040<br>Magnitude: -2.41",
            "File: HFTS2_20190412_044741_040<br>Magnitude: -2.63",
            "File: HFTS2_20190412_044757_040<br>Magnitude: -2.12",
            "File: HFTS2_20190412_044759_040<br>Magnitude: -2.07",
            "File: HFTS2_20190412_044800_040<br>Magnitude: -2.53",
            "File: HFTS2_20190412_044803_040<br>Magnitude: -2.61",
            "File: HFTS2_20190412_044816_040<br>Magnitude: -2.12",
            "File: HFTS2_20190412_044822_040<br>Magnitude: -2.06",
            "File: HFTS2_20190412_044824_040<br>Magnitude: -2.02",
            "File: HFTS2_20190412_044829_040<br>Magnitude: -1.79",
            "File: HFTS2_20190412_044833_040<br>Magnitude: -2.29",
            "File: HFTS2_20190412_044841_040<br>Magnitude: -2.80",
            "File: HFTS2_20190412_044842_040<br>Magnitude: -2.24",
            "File: HFTS2_20190412_044903_040<br>Magnitude: -2.53",
            "File: HFTS2_20190412_044914_040<br>Magnitude: -2.58",
            "File: HFTS2_20190412_044945_040<br>Magnitude: -2.34",
            "File: HFTS2_20190412_044957_040<br>Magnitude: -2.58",
            "File: HFTS2_20190412_045027_040<br>Magnitude: -2.54",
            "File: HFTS2_20190412_045029_040<br>Magnitude: -2.63",
            "File: HFTS2_20190412_045035_040<br>Magnitude: -2.49",
            "File: HFTS2_20190412_045126_040<br>Magnitude: -2.40",
            "File: HFTS2_20190412_045127_040<br>Magnitude: -2.66",
            "File: HFTS2_20190412_045157_040<br>Magnitude: -2.08",
            "File: HFTS2_20190412_045254_040<br>Magnitude: -2.98",
            "File: HFTS2_20190412_045333_040<br>Magnitude: -2.15",
            "File: HFTS2_20190412_045344_040<br>Magnitude: -2.72",
            "File: HFTS2_20190412_045434_040<br>Magnitude: -2.50",
            "File: HFTS2_20190412_045451_040<br>Magnitude: -2.17",
            "File: HFTS2_20190412_045457_040<br>Magnitude: -2.51",
            "File: HFTS2_20190412_045523_040<br>Magnitude: -2.33",
            "File: HFTS2_20190412_045526_040<br>Magnitude: -2.80",
            "File: HFTS2_20190412_045528_040<br>Magnitude: -2.65",
            "File: HFTS2_20190412_045530_040<br>Magnitude: -2.49",
            "File: HFTS2_20190412_045535_040<br>Magnitude: -2.52",
            "File: HFTS2_20190412_045537_040<br>Magnitude: -2.76",
            "File: HFTS2_20190412_045550_040<br>Magnitude: -2.54",
            "File: HFTS2_20190412_045558_040<br>Magnitude: -2.77",
            "File: HFTS2_20190412_045602_040<br>Magnitude: -2.00",
            "File: HFTS2_20190412_045604_040<br>Magnitude: -2.78",
            "File: HFTS2_20190412_045608_040<br>Magnitude: -2.12",
            "File: HFTS2_20190412_045611_040<br>Magnitude: -2.60",
            "File: HFTS2_20190412_045620_040<br>Magnitude: -2.31",
            "File: HFTS2_20190412_045630_040<br>Magnitude: -2.65",
            "File: HFTS2_20190412_045644_040<br>Magnitude: -2.50",
            "File: HFTS2_20190412_045716_040<br>Magnitude: -2.37",
            "File: HFTS2_20190412_045727_040<br>Magnitude: -2.57",
            "File: HFTS2_20190412_045809_040<br>Magnitude: -2.58",
            "File: HFTS2_20190412_045818_040<br>Magnitude: -2.67",
            "File: HFTS2_20190412_045840_040<br>Magnitude: -2.77",
            "File: HFTS2_20190412_045938_040<br>Magnitude: -2.77",
            "File: HFTS2_20190412_045943_040<br>Magnitude: -2.39",
            "File: HFTS2_20190412_045952_040<br>Magnitude: -2.52",
            "File: HFTS2_20190412_050004_040<br>Magnitude: -2.35",
            "File: HFTS2_20190412_050011_040<br>Magnitude: -2.47",
            "File: HFTS2_20190412_050036_040<br>Magnitude: -2.61",
            "File: HFTS2_20190412_050053_040<br>Magnitude: -2.92",
            "File: HFTS2_20190412_050100_040<br>Magnitude: -2.58",
            "File: HFTS2_20190412_050127_040<br>Magnitude: -2.58",
            "File: HFTS2_20190412_050128_040<br>Magnitude: -2.57",
            "File: HFTS2_20190412_050133_040<br>Magnitude: -2.77",
            "File: HFTS2_20190412_050147_040<br>Magnitude: -2.71",
            "File: HFTS2_20190412_050202_040<br>Magnitude: -2.88",
            "File: HFTS2_20190412_050221_040<br>Magnitude: -2.82",
            "File: HFTS2_20190412_050315_040<br>Magnitude: -2.47",
            "File: HFTS2_20190412_050325_040<br>Magnitude: -2.62",
            "File: HFTS2_20190412_050358_040<br>Magnitude: -2.78",
            "File: HFTS2_20190412_050425_040<br>Magnitude: -2.75",
            "File: HFTS2_20190412_050456_040<br>Magnitude: -2.44",
            "File: HFTS2_20190412_050534_040<br>Magnitude: -2.59",
            "File: HFTS2_20190412_050607_040<br>Magnitude: -2.54"
           ],
           "type": "scatter3d",
           "x": [
            955224.1867
           ],
           "y": [
            849168.1913
           ],
           "z": [
            8582.0352
           ]
          }
         ],
         "name": "2019-04-12 04:55:35.798000"
        },
        {
         "data": [
          {
           "marker": {
            "cmax": -1.6189,
            "cmin": -2.9802,
            "color": [
             -2.7598
            ],
            "colorscale": [
             [
              0,
              "#440154"
             ],
             [
              0.1111111111111111,
              "#482878"
             ],
             [
              0.2222222222222222,
              "#3e4989"
             ],
             [
              0.3333333333333333,
              "#31688e"
             ],
             [
              0.4444444444444444,
              "#26828e"
             ],
             [
              0.5555555555555556,
              "#1f9e89"
             ],
             [
              0.6666666666666666,
              "#35b779"
             ],
             [
              0.7777777777777778,
              "#6ece58"
             ],
             [
              0.8888888888888888,
              "#b5de2b"
             ],
             [
              1,
              "#fde725"
             ]
            ],
            "size": [
             275.97999999999996
            ],
            "sizemode": "diameter",
            "sizeref": 25
           },
           "mode": "markers",
           "text": [
            "File: HFTS2_20190412_042831_040<br>Magnitude: -2.77",
            "File: HFTS2_20190412_042832_040<br>Magnitude: -2.73",
            "File: HFTS2_20190412_042833_040<br>Magnitude: -2.65",
            "File: HFTS2_20190412_042835_040<br>Magnitude: -2.65",
            "File: HFTS2_20190412_043437_040<br>Magnitude: -2.56",
            "File: HFTS2_20190412_043802_040<br>Magnitude: -2.35",
            "File: HFTS2_20190412_043803_040<br>Magnitude: -2.22",
            "File: HFTS2_20190412_044156_040<br>Magnitude: -2.03",
            "File: HFTS2_20190412_044403_040<br>Magnitude: -2.39",
            "File: HFTS2_20190412_044404_040<br>Magnitude: -2.10",
            "File: HFTS2_20190412_044435_040_Merged<br>Magnitude: -2.47",
            "File: HFTS2_20190412_044506_040<br>Magnitude: -2.32",
            "File: HFTS2_20190412_044516_040<br>Magnitude: -1.97",
            "File: HFTS2_20190412_044521_040<br>Magnitude: -2.07",
            "File: HFTS2_20190412_044522_040<br>Magnitude: -2.47",
            "File: HFTS2_20190412_044526_040<br>Magnitude: -2.74",
            "File: HFTS2_20190412_044540_040<br>Magnitude: -2.21",
            "File: HFTS2_20190412_044542_040<br>Magnitude: -2.56",
            "File: HFTS2_20190412_044543_040<br>Magnitude: -2.36",
            "File: HFTS2_20190412_044544_040<br>Magnitude: -2.59",
            "File: HFTS2_20190412_044545_040<br>Magnitude: -2.60",
            "File: HFTS2_20190412_044605_040<br>Magnitude: -2.71",
            "File: HFTS2_20190412_044619_040<br>Magnitude: -2.54",
            "File: HFTS2_20190412_044620_040<br>Magnitude: -1.81",
            "File: HFTS2_20190412_044623_040<br>Magnitude: -2.21",
            "File: HFTS2_20190412_044643_040<br>Magnitude: -2.30",
            "File: HFTS2_20190412_044647_040<br>Magnitude: -2.42",
            "File: HFTS2_20190412_044651_040<br>Magnitude: -2.46",
            "File: HFTS2_20190412_044659_040_Merged<br>Magnitude: -1.62",
            "File: HFTS2_20190412_044707_040<br>Magnitude: -2.09",
            "File: HFTS2_20190412_044731_040<br>Magnitude: -2.70",
            "File: HFTS2_20190412_044737_040<br>Magnitude: -2.41",
            "File: HFTS2_20190412_044741_040<br>Magnitude: -2.63",
            "File: HFTS2_20190412_044757_040<br>Magnitude: -2.12",
            "File: HFTS2_20190412_044759_040<br>Magnitude: -2.07",
            "File: HFTS2_20190412_044800_040<br>Magnitude: -2.53",
            "File: HFTS2_20190412_044803_040<br>Magnitude: -2.61",
            "File: HFTS2_20190412_044816_040<br>Magnitude: -2.12",
            "File: HFTS2_20190412_044822_040<br>Magnitude: -2.06",
            "File: HFTS2_20190412_044824_040<br>Magnitude: -2.02",
            "File: HFTS2_20190412_044829_040<br>Magnitude: -1.79",
            "File: HFTS2_20190412_044833_040<br>Magnitude: -2.29",
            "File: HFTS2_20190412_044841_040<br>Magnitude: -2.80",
            "File: HFTS2_20190412_044842_040<br>Magnitude: -2.24",
            "File: HFTS2_20190412_044903_040<br>Magnitude: -2.53",
            "File: HFTS2_20190412_044914_040<br>Magnitude: -2.58",
            "File: HFTS2_20190412_044945_040<br>Magnitude: -2.34",
            "File: HFTS2_20190412_044957_040<br>Magnitude: -2.58",
            "File: HFTS2_20190412_045027_040<br>Magnitude: -2.54",
            "File: HFTS2_20190412_045029_040<br>Magnitude: -2.63",
            "File: HFTS2_20190412_045035_040<br>Magnitude: -2.49",
            "File: HFTS2_20190412_045126_040<br>Magnitude: -2.40",
            "File: HFTS2_20190412_045127_040<br>Magnitude: -2.66",
            "File: HFTS2_20190412_045157_040<br>Magnitude: -2.08",
            "File: HFTS2_20190412_045254_040<br>Magnitude: -2.98",
            "File: HFTS2_20190412_045333_040<br>Magnitude: -2.15",
            "File: HFTS2_20190412_045344_040<br>Magnitude: -2.72",
            "File: HFTS2_20190412_045434_040<br>Magnitude: -2.50",
            "File: HFTS2_20190412_045451_040<br>Magnitude: -2.17",
            "File: HFTS2_20190412_045457_040<br>Magnitude: -2.51",
            "File: HFTS2_20190412_045523_040<br>Magnitude: -2.33",
            "File: HFTS2_20190412_045526_040<br>Magnitude: -2.80",
            "File: HFTS2_20190412_045528_040<br>Magnitude: -2.65",
            "File: HFTS2_20190412_045530_040<br>Magnitude: -2.49",
            "File: HFTS2_20190412_045535_040<br>Magnitude: -2.52",
            "File: HFTS2_20190412_045537_040<br>Magnitude: -2.76",
            "File: HFTS2_20190412_045550_040<br>Magnitude: -2.54",
            "File: HFTS2_20190412_045558_040<br>Magnitude: -2.77",
            "File: HFTS2_20190412_045602_040<br>Magnitude: -2.00",
            "File: HFTS2_20190412_045604_040<br>Magnitude: -2.78",
            "File: HFTS2_20190412_045608_040<br>Magnitude: -2.12",
            "File: HFTS2_20190412_045611_040<br>Magnitude: -2.60",
            "File: HFTS2_20190412_045620_040<br>Magnitude: -2.31",
            "File: HFTS2_20190412_045630_040<br>Magnitude: -2.65",
            "File: HFTS2_20190412_045644_040<br>Magnitude: -2.50",
            "File: HFTS2_20190412_045716_040<br>Magnitude: -2.37",
            "File: HFTS2_20190412_045727_040<br>Magnitude: -2.57",
            "File: HFTS2_20190412_045809_040<br>Magnitude: -2.58",
            "File: HFTS2_20190412_045818_040<br>Magnitude: -2.67",
            "File: HFTS2_20190412_045840_040<br>Magnitude: -2.77",
            "File: HFTS2_20190412_045938_040<br>Magnitude: -2.77",
            "File: HFTS2_20190412_045943_040<br>Magnitude: -2.39",
            "File: HFTS2_20190412_045952_040<br>Magnitude: -2.52",
            "File: HFTS2_20190412_050004_040<br>Magnitude: -2.35",
            "File: HFTS2_20190412_050011_040<br>Magnitude: -2.47",
            "File: HFTS2_20190412_050036_040<br>Magnitude: -2.61",
            "File: HFTS2_20190412_050053_040<br>Magnitude: -2.92",
            "File: HFTS2_20190412_050100_040<br>Magnitude: -2.58",
            "File: HFTS2_20190412_050127_040<br>Magnitude: -2.58",
            "File: HFTS2_20190412_050128_040<br>Magnitude: -2.57",
            "File: HFTS2_20190412_050133_040<br>Magnitude: -2.77",
            "File: HFTS2_20190412_050147_040<br>Magnitude: -2.71",
            "File: HFTS2_20190412_050202_040<br>Magnitude: -2.88",
            "File: HFTS2_20190412_050221_040<br>Magnitude: -2.82",
            "File: HFTS2_20190412_050315_040<br>Magnitude: -2.47",
            "File: HFTS2_20190412_050325_040<br>Magnitude: -2.62",
            "File: HFTS2_20190412_050358_040<br>Magnitude: -2.78",
            "File: HFTS2_20190412_050425_040<br>Magnitude: -2.75",
            "File: HFTS2_20190412_050456_040<br>Magnitude: -2.44",
            "File: HFTS2_20190412_050534_040<br>Magnitude: -2.59",
            "File: HFTS2_20190412_050607_040<br>Magnitude: -2.54"
           ],
           "type": "scatter3d",
           "x": [
            954081.6401
           ],
           "y": [
            849262.0033
           ],
           "z": [
            8325.4664
           ]
          }
         ],
         "name": "2019-04-12 04:55:37.028000"
        },
        {
         "data": [
          {
           "marker": {
            "cmax": -1.6189,
            "cmin": -2.9802,
            "color": [
             -2.5439
            ],
            "colorscale": [
             [
              0,
              "#440154"
             ],
             [
              0.1111111111111111,
              "#482878"
             ],
             [
              0.2222222222222222,
              "#3e4989"
             ],
             [
              0.3333333333333333,
              "#31688e"
             ],
             [
              0.4444444444444444,
              "#26828e"
             ],
             [
              0.5555555555555556,
              "#1f9e89"
             ],
             [
              0.6666666666666666,
              "#35b779"
             ],
             [
              0.7777777777777778,
              "#6ece58"
             ],
             [
              0.8888888888888888,
              "#b5de2b"
             ],
             [
              1,
              "#fde725"
             ]
            ],
            "size": [
             254.39
            ],
            "sizemode": "diameter",
            "sizeref": 25
           },
           "mode": "markers",
           "text": [
            "File: HFTS2_20190412_042831_040<br>Magnitude: -2.77",
            "File: HFTS2_20190412_042832_040<br>Magnitude: -2.73",
            "File: HFTS2_20190412_042833_040<br>Magnitude: -2.65",
            "File: HFTS2_20190412_042835_040<br>Magnitude: -2.65",
            "File: HFTS2_20190412_043437_040<br>Magnitude: -2.56",
            "File: HFTS2_20190412_043802_040<br>Magnitude: -2.35",
            "File: HFTS2_20190412_043803_040<br>Magnitude: -2.22",
            "File: HFTS2_20190412_044156_040<br>Magnitude: -2.03",
            "File: HFTS2_20190412_044403_040<br>Magnitude: -2.39",
            "File: HFTS2_20190412_044404_040<br>Magnitude: -2.10",
            "File: HFTS2_20190412_044435_040_Merged<br>Magnitude: -2.47",
            "File: HFTS2_20190412_044506_040<br>Magnitude: -2.32",
            "File: HFTS2_20190412_044516_040<br>Magnitude: -1.97",
            "File: HFTS2_20190412_044521_040<br>Magnitude: -2.07",
            "File: HFTS2_20190412_044522_040<br>Magnitude: -2.47",
            "File: HFTS2_20190412_044526_040<br>Magnitude: -2.74",
            "File: HFTS2_20190412_044540_040<br>Magnitude: -2.21",
            "File: HFTS2_20190412_044542_040<br>Magnitude: -2.56",
            "File: HFTS2_20190412_044543_040<br>Magnitude: -2.36",
            "File: HFTS2_20190412_044544_040<br>Magnitude: -2.59",
            "File: HFTS2_20190412_044545_040<br>Magnitude: -2.60",
            "File: HFTS2_20190412_044605_040<br>Magnitude: -2.71",
            "File: HFTS2_20190412_044619_040<br>Magnitude: -2.54",
            "File: HFTS2_20190412_044620_040<br>Magnitude: -1.81",
            "File: HFTS2_20190412_044623_040<br>Magnitude: -2.21",
            "File: HFTS2_20190412_044643_040<br>Magnitude: -2.30",
            "File: HFTS2_20190412_044647_040<br>Magnitude: -2.42",
            "File: HFTS2_20190412_044651_040<br>Magnitude: -2.46",
            "File: HFTS2_20190412_044659_040_Merged<br>Magnitude: -1.62",
            "File: HFTS2_20190412_044707_040<br>Magnitude: -2.09",
            "File: HFTS2_20190412_044731_040<br>Magnitude: -2.70",
            "File: HFTS2_20190412_044737_040<br>Magnitude: -2.41",
            "File: HFTS2_20190412_044741_040<br>Magnitude: -2.63",
            "File: HFTS2_20190412_044757_040<br>Magnitude: -2.12",
            "File: HFTS2_20190412_044759_040<br>Magnitude: -2.07",
            "File: HFTS2_20190412_044800_040<br>Magnitude: -2.53",
            "File: HFTS2_20190412_044803_040<br>Magnitude: -2.61",
            "File: HFTS2_20190412_044816_040<br>Magnitude: -2.12",
            "File: HFTS2_20190412_044822_040<br>Magnitude: -2.06",
            "File: HFTS2_20190412_044824_040<br>Magnitude: -2.02",
            "File: HFTS2_20190412_044829_040<br>Magnitude: -1.79",
            "File: HFTS2_20190412_044833_040<br>Magnitude: -2.29",
            "File: HFTS2_20190412_044841_040<br>Magnitude: -2.80",
            "File: HFTS2_20190412_044842_040<br>Magnitude: -2.24",
            "File: HFTS2_20190412_044903_040<br>Magnitude: -2.53",
            "File: HFTS2_20190412_044914_040<br>Magnitude: -2.58",
            "File: HFTS2_20190412_044945_040<br>Magnitude: -2.34",
            "File: HFTS2_20190412_044957_040<br>Magnitude: -2.58",
            "File: HFTS2_20190412_045027_040<br>Magnitude: -2.54",
            "File: HFTS2_20190412_045029_040<br>Magnitude: -2.63",
            "File: HFTS2_20190412_045035_040<br>Magnitude: -2.49",
            "File: HFTS2_20190412_045126_040<br>Magnitude: -2.40",
            "File: HFTS2_20190412_045127_040<br>Magnitude: -2.66",
            "File: HFTS2_20190412_045157_040<br>Magnitude: -2.08",
            "File: HFTS2_20190412_045254_040<br>Magnitude: -2.98",
            "File: HFTS2_20190412_045333_040<br>Magnitude: -2.15",
            "File: HFTS2_20190412_045344_040<br>Magnitude: -2.72",
            "File: HFTS2_20190412_045434_040<br>Magnitude: -2.50",
            "File: HFTS2_20190412_045451_040<br>Magnitude: -2.17",
            "File: HFTS2_20190412_045457_040<br>Magnitude: -2.51",
            "File: HFTS2_20190412_045523_040<br>Magnitude: -2.33",
            "File: HFTS2_20190412_045526_040<br>Magnitude: -2.80",
            "File: HFTS2_20190412_045528_040<br>Magnitude: -2.65",
            "File: HFTS2_20190412_045530_040<br>Magnitude: -2.49",
            "File: HFTS2_20190412_045535_040<br>Magnitude: -2.52",
            "File: HFTS2_20190412_045537_040<br>Magnitude: -2.76",
            "File: HFTS2_20190412_045550_040<br>Magnitude: -2.54",
            "File: HFTS2_20190412_045558_040<br>Magnitude: -2.77",
            "File: HFTS2_20190412_045602_040<br>Magnitude: -2.00",
            "File: HFTS2_20190412_045604_040<br>Magnitude: -2.78",
            "File: HFTS2_20190412_045608_040<br>Magnitude: -2.12",
            "File: HFTS2_20190412_045611_040<br>Magnitude: -2.60",
            "File: HFTS2_20190412_045620_040<br>Magnitude: -2.31",
            "File: HFTS2_20190412_045630_040<br>Magnitude: -2.65",
            "File: HFTS2_20190412_045644_040<br>Magnitude: -2.50",
            "File: HFTS2_20190412_045716_040<br>Magnitude: -2.37",
            "File: HFTS2_20190412_045727_040<br>Magnitude: -2.57",
            "File: HFTS2_20190412_045809_040<br>Magnitude: -2.58",
            "File: HFTS2_20190412_045818_040<br>Magnitude: -2.67",
            "File: HFTS2_20190412_045840_040<br>Magnitude: -2.77",
            "File: HFTS2_20190412_045938_040<br>Magnitude: -2.77",
            "File: HFTS2_20190412_045943_040<br>Magnitude: -2.39",
            "File: HFTS2_20190412_045952_040<br>Magnitude: -2.52",
            "File: HFTS2_20190412_050004_040<br>Magnitude: -2.35",
            "File: HFTS2_20190412_050011_040<br>Magnitude: -2.47",
            "File: HFTS2_20190412_050036_040<br>Magnitude: -2.61",
            "File: HFTS2_20190412_050053_040<br>Magnitude: -2.92",
            "File: HFTS2_20190412_050100_040<br>Magnitude: -2.58",
            "File: HFTS2_20190412_050127_040<br>Magnitude: -2.58",
            "File: HFTS2_20190412_050128_040<br>Magnitude: -2.57",
            "File: HFTS2_20190412_050133_040<br>Magnitude: -2.77",
            "File: HFTS2_20190412_050147_040<br>Magnitude: -2.71",
            "File: HFTS2_20190412_050202_040<br>Magnitude: -2.88",
            "File: HFTS2_20190412_050221_040<br>Magnitude: -2.82",
            "File: HFTS2_20190412_050315_040<br>Magnitude: -2.47",
            "File: HFTS2_20190412_050325_040<br>Magnitude: -2.62",
            "File: HFTS2_20190412_050358_040<br>Magnitude: -2.78",
            "File: HFTS2_20190412_050425_040<br>Magnitude: -2.75",
            "File: HFTS2_20190412_050456_040<br>Magnitude: -2.44",
            "File: HFTS2_20190412_050534_040<br>Magnitude: -2.59",
            "File: HFTS2_20190412_050607_040<br>Magnitude: -2.54"
           ],
           "type": "scatter3d",
           "x": [
            953915.2609
           ],
           "y": [
            849100.3623
           ],
           "z": [
            8587.8686
           ]
          }
         ],
         "name": "2019-04-12 04:55:50.266000"
        },
        {
         "data": [
          {
           "marker": {
            "cmax": -1.6189,
            "cmin": -2.9802,
            "color": [
             -2.7712
            ],
            "colorscale": [
             [
              0,
              "#440154"
             ],
             [
              0.1111111111111111,
              "#482878"
             ],
             [
              0.2222222222222222,
              "#3e4989"
             ],
             [
              0.3333333333333333,
              "#31688e"
             ],
             [
              0.4444444444444444,
              "#26828e"
             ],
             [
              0.5555555555555556,
              "#1f9e89"
             ],
             [
              0.6666666666666666,
              "#35b779"
             ],
             [
              0.7777777777777778,
              "#6ece58"
             ],
             [
              0.8888888888888888,
              "#b5de2b"
             ],
             [
              1,
              "#fde725"
             ]
            ],
            "size": [
             277.12
            ],
            "sizemode": "diameter",
            "sizeref": 25
           },
           "mode": "markers",
           "text": [
            "File: HFTS2_20190412_042831_040<br>Magnitude: -2.77",
            "File: HFTS2_20190412_042832_040<br>Magnitude: -2.73",
            "File: HFTS2_20190412_042833_040<br>Magnitude: -2.65",
            "File: HFTS2_20190412_042835_040<br>Magnitude: -2.65",
            "File: HFTS2_20190412_043437_040<br>Magnitude: -2.56",
            "File: HFTS2_20190412_043802_040<br>Magnitude: -2.35",
            "File: HFTS2_20190412_043803_040<br>Magnitude: -2.22",
            "File: HFTS2_20190412_044156_040<br>Magnitude: -2.03",
            "File: HFTS2_20190412_044403_040<br>Magnitude: -2.39",
            "File: HFTS2_20190412_044404_040<br>Magnitude: -2.10",
            "File: HFTS2_20190412_044435_040_Merged<br>Magnitude: -2.47",
            "File: HFTS2_20190412_044506_040<br>Magnitude: -2.32",
            "File: HFTS2_20190412_044516_040<br>Magnitude: -1.97",
            "File: HFTS2_20190412_044521_040<br>Magnitude: -2.07",
            "File: HFTS2_20190412_044522_040<br>Magnitude: -2.47",
            "File: HFTS2_20190412_044526_040<br>Magnitude: -2.74",
            "File: HFTS2_20190412_044540_040<br>Magnitude: -2.21",
            "File: HFTS2_20190412_044542_040<br>Magnitude: -2.56",
            "File: HFTS2_20190412_044543_040<br>Magnitude: -2.36",
            "File: HFTS2_20190412_044544_040<br>Magnitude: -2.59",
            "File: HFTS2_20190412_044545_040<br>Magnitude: -2.60",
            "File: HFTS2_20190412_044605_040<br>Magnitude: -2.71",
            "File: HFTS2_20190412_044619_040<br>Magnitude: -2.54",
            "File: HFTS2_20190412_044620_040<br>Magnitude: -1.81",
            "File: HFTS2_20190412_044623_040<br>Magnitude: -2.21",
            "File: HFTS2_20190412_044643_040<br>Magnitude: -2.30",
            "File: HFTS2_20190412_044647_040<br>Magnitude: -2.42",
            "File: HFTS2_20190412_044651_040<br>Magnitude: -2.46",
            "File: HFTS2_20190412_044659_040_Merged<br>Magnitude: -1.62",
            "File: HFTS2_20190412_044707_040<br>Magnitude: -2.09",
            "File: HFTS2_20190412_044731_040<br>Magnitude: -2.70",
            "File: HFTS2_20190412_044737_040<br>Magnitude: -2.41",
            "File: HFTS2_20190412_044741_040<br>Magnitude: -2.63",
            "File: HFTS2_20190412_044757_040<br>Magnitude: -2.12",
            "File: HFTS2_20190412_044759_040<br>Magnitude: -2.07",
            "File: HFTS2_20190412_044800_040<br>Magnitude: -2.53",
            "File: HFTS2_20190412_044803_040<br>Magnitude: -2.61",
            "File: HFTS2_20190412_044816_040<br>Magnitude: -2.12",
            "File: HFTS2_20190412_044822_040<br>Magnitude: -2.06",
            "File: HFTS2_20190412_044824_040<br>Magnitude: -2.02",
            "File: HFTS2_20190412_044829_040<br>Magnitude: -1.79",
            "File: HFTS2_20190412_044833_040<br>Magnitude: -2.29",
            "File: HFTS2_20190412_044841_040<br>Magnitude: -2.80",
            "File: HFTS2_20190412_044842_040<br>Magnitude: -2.24",
            "File: HFTS2_20190412_044903_040<br>Magnitude: -2.53",
            "File: HFTS2_20190412_044914_040<br>Magnitude: -2.58",
            "File: HFTS2_20190412_044945_040<br>Magnitude: -2.34",
            "File: HFTS2_20190412_044957_040<br>Magnitude: -2.58",
            "File: HFTS2_20190412_045027_040<br>Magnitude: -2.54",
            "File: HFTS2_20190412_045029_040<br>Magnitude: -2.63",
            "File: HFTS2_20190412_045035_040<br>Magnitude: -2.49",
            "File: HFTS2_20190412_045126_040<br>Magnitude: -2.40",
            "File: HFTS2_20190412_045127_040<br>Magnitude: -2.66",
            "File: HFTS2_20190412_045157_040<br>Magnitude: -2.08",
            "File: HFTS2_20190412_045254_040<br>Magnitude: -2.98",
            "File: HFTS2_20190412_045333_040<br>Magnitude: -2.15",
            "File: HFTS2_20190412_045344_040<br>Magnitude: -2.72",
            "File: HFTS2_20190412_045434_040<br>Magnitude: -2.50",
            "File: HFTS2_20190412_045451_040<br>Magnitude: -2.17",
            "File: HFTS2_20190412_045457_040<br>Magnitude: -2.51",
            "File: HFTS2_20190412_045523_040<br>Magnitude: -2.33",
            "File: HFTS2_20190412_045526_040<br>Magnitude: -2.80",
            "File: HFTS2_20190412_045528_040<br>Magnitude: -2.65",
            "File: HFTS2_20190412_045530_040<br>Magnitude: -2.49",
            "File: HFTS2_20190412_045535_040<br>Magnitude: -2.52",
            "File: HFTS2_20190412_045537_040<br>Magnitude: -2.76",
            "File: HFTS2_20190412_045550_040<br>Magnitude: -2.54",
            "File: HFTS2_20190412_045558_040<br>Magnitude: -2.77",
            "File: HFTS2_20190412_045602_040<br>Magnitude: -2.00",
            "File: HFTS2_20190412_045604_040<br>Magnitude: -2.78",
            "File: HFTS2_20190412_045608_040<br>Magnitude: -2.12",
            "File: HFTS2_20190412_045611_040<br>Magnitude: -2.60",
            "File: HFTS2_20190412_045620_040<br>Magnitude: -2.31",
            "File: HFTS2_20190412_045630_040<br>Magnitude: -2.65",
            "File: HFTS2_20190412_045644_040<br>Magnitude: -2.50",
            "File: HFTS2_20190412_045716_040<br>Magnitude: -2.37",
            "File: HFTS2_20190412_045727_040<br>Magnitude: -2.57",
            "File: HFTS2_20190412_045809_040<br>Magnitude: -2.58",
            "File: HFTS2_20190412_045818_040<br>Magnitude: -2.67",
            "File: HFTS2_20190412_045840_040<br>Magnitude: -2.77",
            "File: HFTS2_20190412_045938_040<br>Magnitude: -2.77",
            "File: HFTS2_20190412_045943_040<br>Magnitude: -2.39",
            "File: HFTS2_20190412_045952_040<br>Magnitude: -2.52",
            "File: HFTS2_20190412_050004_040<br>Magnitude: -2.35",
            "File: HFTS2_20190412_050011_040<br>Magnitude: -2.47",
            "File: HFTS2_20190412_050036_040<br>Magnitude: -2.61",
            "File: HFTS2_20190412_050053_040<br>Magnitude: -2.92",
            "File: HFTS2_20190412_050100_040<br>Magnitude: -2.58",
            "File: HFTS2_20190412_050127_040<br>Magnitude: -2.58",
            "File: HFTS2_20190412_050128_040<br>Magnitude: -2.57",
            "File: HFTS2_20190412_050133_040<br>Magnitude: -2.77",
            "File: HFTS2_20190412_050147_040<br>Magnitude: -2.71",
            "File: HFTS2_20190412_050202_040<br>Magnitude: -2.88",
            "File: HFTS2_20190412_050221_040<br>Magnitude: -2.82",
            "File: HFTS2_20190412_050315_040<br>Magnitude: -2.47",
            "File: HFTS2_20190412_050325_040<br>Magnitude: -2.62",
            "File: HFTS2_20190412_050358_040<br>Magnitude: -2.78",
            "File: HFTS2_20190412_050425_040<br>Magnitude: -2.75",
            "File: HFTS2_20190412_050456_040<br>Magnitude: -2.44",
            "File: HFTS2_20190412_050534_040<br>Magnitude: -2.59",
            "File: HFTS2_20190412_050607_040<br>Magnitude: -2.54"
           ],
           "type": "scatter3d",
           "x": [
            954040.8225
           ],
           "y": [
            849090.6561
           ],
           "z": [
            8368.3515
           ]
          }
         ],
         "name": "2019-04-12 04:55:58.142000"
        },
        {
         "data": [
          {
           "marker": {
            "cmax": -1.6189,
            "cmin": -2.9802,
            "color": [
             -1.9996
            ],
            "colorscale": [
             [
              0,
              "#440154"
             ],
             [
              0.1111111111111111,
              "#482878"
             ],
             [
              0.2222222222222222,
              "#3e4989"
             ],
             [
              0.3333333333333333,
              "#31688e"
             ],
             [
              0.4444444444444444,
              "#26828e"
             ],
             [
              0.5555555555555556,
              "#1f9e89"
             ],
             [
              0.6666666666666666,
              "#35b779"
             ],
             [
              0.7777777777777778,
              "#6ece58"
             ],
             [
              0.8888888888888888,
              "#b5de2b"
             ],
             [
              1,
              "#fde725"
             ]
            ],
            "size": [
             199.96
            ],
            "sizemode": "diameter",
            "sizeref": 25
           },
           "mode": "markers",
           "text": [
            "File: HFTS2_20190412_042831_040<br>Magnitude: -2.77",
            "File: HFTS2_20190412_042832_040<br>Magnitude: -2.73",
            "File: HFTS2_20190412_042833_040<br>Magnitude: -2.65",
            "File: HFTS2_20190412_042835_040<br>Magnitude: -2.65",
            "File: HFTS2_20190412_043437_040<br>Magnitude: -2.56",
            "File: HFTS2_20190412_043802_040<br>Magnitude: -2.35",
            "File: HFTS2_20190412_043803_040<br>Magnitude: -2.22",
            "File: HFTS2_20190412_044156_040<br>Magnitude: -2.03",
            "File: HFTS2_20190412_044403_040<br>Magnitude: -2.39",
            "File: HFTS2_20190412_044404_040<br>Magnitude: -2.10",
            "File: HFTS2_20190412_044435_040_Merged<br>Magnitude: -2.47",
            "File: HFTS2_20190412_044506_040<br>Magnitude: -2.32",
            "File: HFTS2_20190412_044516_040<br>Magnitude: -1.97",
            "File: HFTS2_20190412_044521_040<br>Magnitude: -2.07",
            "File: HFTS2_20190412_044522_040<br>Magnitude: -2.47",
            "File: HFTS2_20190412_044526_040<br>Magnitude: -2.74",
            "File: HFTS2_20190412_044540_040<br>Magnitude: -2.21",
            "File: HFTS2_20190412_044542_040<br>Magnitude: -2.56",
            "File: HFTS2_20190412_044543_040<br>Magnitude: -2.36",
            "File: HFTS2_20190412_044544_040<br>Magnitude: -2.59",
            "File: HFTS2_20190412_044545_040<br>Magnitude: -2.60",
            "File: HFTS2_20190412_044605_040<br>Magnitude: -2.71",
            "File: HFTS2_20190412_044619_040<br>Magnitude: -2.54",
            "File: HFTS2_20190412_044620_040<br>Magnitude: -1.81",
            "File: HFTS2_20190412_044623_040<br>Magnitude: -2.21",
            "File: HFTS2_20190412_044643_040<br>Magnitude: -2.30",
            "File: HFTS2_20190412_044647_040<br>Magnitude: -2.42",
            "File: HFTS2_20190412_044651_040<br>Magnitude: -2.46",
            "File: HFTS2_20190412_044659_040_Merged<br>Magnitude: -1.62",
            "File: HFTS2_20190412_044707_040<br>Magnitude: -2.09",
            "File: HFTS2_20190412_044731_040<br>Magnitude: -2.70",
            "File: HFTS2_20190412_044737_040<br>Magnitude: -2.41",
            "File: HFTS2_20190412_044741_040<br>Magnitude: -2.63",
            "File: HFTS2_20190412_044757_040<br>Magnitude: -2.12",
            "File: HFTS2_20190412_044759_040<br>Magnitude: -2.07",
            "File: HFTS2_20190412_044800_040<br>Magnitude: -2.53",
            "File: HFTS2_20190412_044803_040<br>Magnitude: -2.61",
            "File: HFTS2_20190412_044816_040<br>Magnitude: -2.12",
            "File: HFTS2_20190412_044822_040<br>Magnitude: -2.06",
            "File: HFTS2_20190412_044824_040<br>Magnitude: -2.02",
            "File: HFTS2_20190412_044829_040<br>Magnitude: -1.79",
            "File: HFTS2_20190412_044833_040<br>Magnitude: -2.29",
            "File: HFTS2_20190412_044841_040<br>Magnitude: -2.80",
            "File: HFTS2_20190412_044842_040<br>Magnitude: -2.24",
            "File: HFTS2_20190412_044903_040<br>Magnitude: -2.53",
            "File: HFTS2_20190412_044914_040<br>Magnitude: -2.58",
            "File: HFTS2_20190412_044945_040<br>Magnitude: -2.34",
            "File: HFTS2_20190412_044957_040<br>Magnitude: -2.58",
            "File: HFTS2_20190412_045027_040<br>Magnitude: -2.54",
            "File: HFTS2_20190412_045029_040<br>Magnitude: -2.63",
            "File: HFTS2_20190412_045035_040<br>Magnitude: -2.49",
            "File: HFTS2_20190412_045126_040<br>Magnitude: -2.40",
            "File: HFTS2_20190412_045127_040<br>Magnitude: -2.66",
            "File: HFTS2_20190412_045157_040<br>Magnitude: -2.08",
            "File: HFTS2_20190412_045254_040<br>Magnitude: -2.98",
            "File: HFTS2_20190412_045333_040<br>Magnitude: -2.15",
            "File: HFTS2_20190412_045344_040<br>Magnitude: -2.72",
            "File: HFTS2_20190412_045434_040<br>Magnitude: -2.50",
            "File: HFTS2_20190412_045451_040<br>Magnitude: -2.17",
            "File: HFTS2_20190412_045457_040<br>Magnitude: -2.51",
            "File: HFTS2_20190412_045523_040<br>Magnitude: -2.33",
            "File: HFTS2_20190412_045526_040<br>Magnitude: -2.80",
            "File: HFTS2_20190412_045528_040<br>Magnitude: -2.65",
            "File: HFTS2_20190412_045530_040<br>Magnitude: -2.49",
            "File: HFTS2_20190412_045535_040<br>Magnitude: -2.52",
            "File: HFTS2_20190412_045537_040<br>Magnitude: -2.76",
            "File: HFTS2_20190412_045550_040<br>Magnitude: -2.54",
            "File: HFTS2_20190412_045558_040<br>Magnitude: -2.77",
            "File: HFTS2_20190412_045602_040<br>Magnitude: -2.00",
            "File: HFTS2_20190412_045604_040<br>Magnitude: -2.78",
            "File: HFTS2_20190412_045608_040<br>Magnitude: -2.12",
            "File: HFTS2_20190412_045611_040<br>Magnitude: -2.60",
            "File: HFTS2_20190412_045620_040<br>Magnitude: -2.31",
            "File: HFTS2_20190412_045630_040<br>Magnitude: -2.65",
            "File: HFTS2_20190412_045644_040<br>Magnitude: -2.50",
            "File: HFTS2_20190412_045716_040<br>Magnitude: -2.37",
            "File: HFTS2_20190412_045727_040<br>Magnitude: -2.57",
            "File: HFTS2_20190412_045809_040<br>Magnitude: -2.58",
            "File: HFTS2_20190412_045818_040<br>Magnitude: -2.67",
            "File: HFTS2_20190412_045840_040<br>Magnitude: -2.77",
            "File: HFTS2_20190412_045938_040<br>Magnitude: -2.77",
            "File: HFTS2_20190412_045943_040<br>Magnitude: -2.39",
            "File: HFTS2_20190412_045952_040<br>Magnitude: -2.52",
            "File: HFTS2_20190412_050004_040<br>Magnitude: -2.35",
            "File: HFTS2_20190412_050011_040<br>Magnitude: -2.47",
            "File: HFTS2_20190412_050036_040<br>Magnitude: -2.61",
            "File: HFTS2_20190412_050053_040<br>Magnitude: -2.92",
            "File: HFTS2_20190412_050100_040<br>Magnitude: -2.58",
            "File: HFTS2_20190412_050127_040<br>Magnitude: -2.58",
            "File: HFTS2_20190412_050128_040<br>Magnitude: -2.57",
            "File: HFTS2_20190412_050133_040<br>Magnitude: -2.77",
            "File: HFTS2_20190412_050147_040<br>Magnitude: -2.71",
            "File: HFTS2_20190412_050202_040<br>Magnitude: -2.88",
            "File: HFTS2_20190412_050221_040<br>Magnitude: -2.82",
            "File: HFTS2_20190412_050315_040<br>Magnitude: -2.47",
            "File: HFTS2_20190412_050325_040<br>Magnitude: -2.62",
            "File: HFTS2_20190412_050358_040<br>Magnitude: -2.78",
            "File: HFTS2_20190412_050425_040<br>Magnitude: -2.75",
            "File: HFTS2_20190412_050456_040<br>Magnitude: -2.44",
            "File: HFTS2_20190412_050534_040<br>Magnitude: -2.59",
            "File: HFTS2_20190412_050607_040<br>Magnitude: -2.54"
           ],
           "type": "scatter3d",
           "x": [
            954359.2726
           ],
           "y": [
            849265.5323
           ],
           "z": [
            8550.1006
           ]
          }
         ],
         "name": "2019-04-12 04:56:02.824000"
        },
        {
         "data": [
          {
           "marker": {
            "cmax": -1.6189,
            "cmin": -2.9802,
            "color": [
             -2.7811
            ],
            "colorscale": [
             [
              0,
              "#440154"
             ],
             [
              0.1111111111111111,
              "#482878"
             ],
             [
              0.2222222222222222,
              "#3e4989"
             ],
             [
              0.3333333333333333,
              "#31688e"
             ],
             [
              0.4444444444444444,
              "#26828e"
             ],
             [
              0.5555555555555556,
              "#1f9e89"
             ],
             [
              0.6666666666666666,
              "#35b779"
             ],
             [
              0.7777777777777778,
              "#6ece58"
             ],
             [
              0.8888888888888888,
              "#b5de2b"
             ],
             [
              1,
              "#fde725"
             ]
            ],
            "size": [
             278.11
            ],
            "sizemode": "diameter",
            "sizeref": 25
           },
           "mode": "markers",
           "text": [
            "File: HFTS2_20190412_042831_040<br>Magnitude: -2.77",
            "File: HFTS2_20190412_042832_040<br>Magnitude: -2.73",
            "File: HFTS2_20190412_042833_040<br>Magnitude: -2.65",
            "File: HFTS2_20190412_042835_040<br>Magnitude: -2.65",
            "File: HFTS2_20190412_043437_040<br>Magnitude: -2.56",
            "File: HFTS2_20190412_043802_040<br>Magnitude: -2.35",
            "File: HFTS2_20190412_043803_040<br>Magnitude: -2.22",
            "File: HFTS2_20190412_044156_040<br>Magnitude: -2.03",
            "File: HFTS2_20190412_044403_040<br>Magnitude: -2.39",
            "File: HFTS2_20190412_044404_040<br>Magnitude: -2.10",
            "File: HFTS2_20190412_044435_040_Merged<br>Magnitude: -2.47",
            "File: HFTS2_20190412_044506_040<br>Magnitude: -2.32",
            "File: HFTS2_20190412_044516_040<br>Magnitude: -1.97",
            "File: HFTS2_20190412_044521_040<br>Magnitude: -2.07",
            "File: HFTS2_20190412_044522_040<br>Magnitude: -2.47",
            "File: HFTS2_20190412_044526_040<br>Magnitude: -2.74",
            "File: HFTS2_20190412_044540_040<br>Magnitude: -2.21",
            "File: HFTS2_20190412_044542_040<br>Magnitude: -2.56",
            "File: HFTS2_20190412_044543_040<br>Magnitude: -2.36",
            "File: HFTS2_20190412_044544_040<br>Magnitude: -2.59",
            "File: HFTS2_20190412_044545_040<br>Magnitude: -2.60",
            "File: HFTS2_20190412_044605_040<br>Magnitude: -2.71",
            "File: HFTS2_20190412_044619_040<br>Magnitude: -2.54",
            "File: HFTS2_20190412_044620_040<br>Magnitude: -1.81",
            "File: HFTS2_20190412_044623_040<br>Magnitude: -2.21",
            "File: HFTS2_20190412_044643_040<br>Magnitude: -2.30",
            "File: HFTS2_20190412_044647_040<br>Magnitude: -2.42",
            "File: HFTS2_20190412_044651_040<br>Magnitude: -2.46",
            "File: HFTS2_20190412_044659_040_Merged<br>Magnitude: -1.62",
            "File: HFTS2_20190412_044707_040<br>Magnitude: -2.09",
            "File: HFTS2_20190412_044731_040<br>Magnitude: -2.70",
            "File: HFTS2_20190412_044737_040<br>Magnitude: -2.41",
            "File: HFTS2_20190412_044741_040<br>Magnitude: -2.63",
            "File: HFTS2_20190412_044757_040<br>Magnitude: -2.12",
            "File: HFTS2_20190412_044759_040<br>Magnitude: -2.07",
            "File: HFTS2_20190412_044800_040<br>Magnitude: -2.53",
            "File: HFTS2_20190412_044803_040<br>Magnitude: -2.61",
            "File: HFTS2_20190412_044816_040<br>Magnitude: -2.12",
            "File: HFTS2_20190412_044822_040<br>Magnitude: -2.06",
            "File: HFTS2_20190412_044824_040<br>Magnitude: -2.02",
            "File: HFTS2_20190412_044829_040<br>Magnitude: -1.79",
            "File: HFTS2_20190412_044833_040<br>Magnitude: -2.29",
            "File: HFTS2_20190412_044841_040<br>Magnitude: -2.80",
            "File: HFTS2_20190412_044842_040<br>Magnitude: -2.24",
            "File: HFTS2_20190412_044903_040<br>Magnitude: -2.53",
            "File: HFTS2_20190412_044914_040<br>Magnitude: -2.58",
            "File: HFTS2_20190412_044945_040<br>Magnitude: -2.34",
            "File: HFTS2_20190412_044957_040<br>Magnitude: -2.58",
            "File: HFTS2_20190412_045027_040<br>Magnitude: -2.54",
            "File: HFTS2_20190412_045029_040<br>Magnitude: -2.63",
            "File: HFTS2_20190412_045035_040<br>Magnitude: -2.49",
            "File: HFTS2_20190412_045126_040<br>Magnitude: -2.40",
            "File: HFTS2_20190412_045127_040<br>Magnitude: -2.66",
            "File: HFTS2_20190412_045157_040<br>Magnitude: -2.08",
            "File: HFTS2_20190412_045254_040<br>Magnitude: -2.98",
            "File: HFTS2_20190412_045333_040<br>Magnitude: -2.15",
            "File: HFTS2_20190412_045344_040<br>Magnitude: -2.72",
            "File: HFTS2_20190412_045434_040<br>Magnitude: -2.50",
            "File: HFTS2_20190412_045451_040<br>Magnitude: -2.17",
            "File: HFTS2_20190412_045457_040<br>Magnitude: -2.51",
            "File: HFTS2_20190412_045523_040<br>Magnitude: -2.33",
            "File: HFTS2_20190412_045526_040<br>Magnitude: -2.80",
            "File: HFTS2_20190412_045528_040<br>Magnitude: -2.65",
            "File: HFTS2_20190412_045530_040<br>Magnitude: -2.49",
            "File: HFTS2_20190412_045535_040<br>Magnitude: -2.52",
            "File: HFTS2_20190412_045537_040<br>Magnitude: -2.76",
            "File: HFTS2_20190412_045550_040<br>Magnitude: -2.54",
            "File: HFTS2_20190412_045558_040<br>Magnitude: -2.77",
            "File: HFTS2_20190412_045602_040<br>Magnitude: -2.00",
            "File: HFTS2_20190412_045604_040<br>Magnitude: -2.78",
            "File: HFTS2_20190412_045608_040<br>Magnitude: -2.12",
            "File: HFTS2_20190412_045611_040<br>Magnitude: -2.60",
            "File: HFTS2_20190412_045620_040<br>Magnitude: -2.31",
            "File: HFTS2_20190412_045630_040<br>Magnitude: -2.65",
            "File: HFTS2_20190412_045644_040<br>Magnitude: -2.50",
            "File: HFTS2_20190412_045716_040<br>Magnitude: -2.37",
            "File: HFTS2_20190412_045727_040<br>Magnitude: -2.57",
            "File: HFTS2_20190412_045809_040<br>Magnitude: -2.58",
            "File: HFTS2_20190412_045818_040<br>Magnitude: -2.67",
            "File: HFTS2_20190412_045840_040<br>Magnitude: -2.77",
            "File: HFTS2_20190412_045938_040<br>Magnitude: -2.77",
            "File: HFTS2_20190412_045943_040<br>Magnitude: -2.39",
            "File: HFTS2_20190412_045952_040<br>Magnitude: -2.52",
            "File: HFTS2_20190412_050004_040<br>Magnitude: -2.35",
            "File: HFTS2_20190412_050011_040<br>Magnitude: -2.47",
            "File: HFTS2_20190412_050036_040<br>Magnitude: -2.61",
            "File: HFTS2_20190412_050053_040<br>Magnitude: -2.92",
            "File: HFTS2_20190412_050100_040<br>Magnitude: -2.58",
            "File: HFTS2_20190412_050127_040<br>Magnitude: -2.58",
            "File: HFTS2_20190412_050128_040<br>Magnitude: -2.57",
            "File: HFTS2_20190412_050133_040<br>Magnitude: -2.77",
            "File: HFTS2_20190412_050147_040<br>Magnitude: -2.71",
            "File: HFTS2_20190412_050202_040<br>Magnitude: -2.88",
            "File: HFTS2_20190412_050221_040<br>Magnitude: -2.82",
            "File: HFTS2_20190412_050315_040<br>Magnitude: -2.47",
            "File: HFTS2_20190412_050325_040<br>Magnitude: -2.62",
            "File: HFTS2_20190412_050358_040<br>Magnitude: -2.78",
            "File: HFTS2_20190412_050425_040<br>Magnitude: -2.75",
            "File: HFTS2_20190412_050456_040<br>Magnitude: -2.44",
            "File: HFTS2_20190412_050534_040<br>Magnitude: -2.59",
            "File: HFTS2_20190412_050607_040<br>Magnitude: -2.54"
           ],
           "type": "scatter3d",
           "x": [
            954016.8471
           ],
           "y": [
            849091.1356
           ],
           "z": [
            8104.4198
           ]
          }
         ],
         "name": "2019-04-12 04:56:04.787000"
        },
        {
         "data": [
          {
           "marker": {
            "cmax": -1.6189,
            "cmin": -2.9802,
            "color": [
             -2.1164
            ],
            "colorscale": [
             [
              0,
              "#440154"
             ],
             [
              0.1111111111111111,
              "#482878"
             ],
             [
              0.2222222222222222,
              "#3e4989"
             ],
             [
              0.3333333333333333,
              "#31688e"
             ],
             [
              0.4444444444444444,
              "#26828e"
             ],
             [
              0.5555555555555556,
              "#1f9e89"
             ],
             [
              0.6666666666666666,
              "#35b779"
             ],
             [
              0.7777777777777778,
              "#6ece58"
             ],
             [
              0.8888888888888888,
              "#b5de2b"
             ],
             [
              1,
              "#fde725"
             ]
            ],
            "size": [
             211.64000000000001
            ],
            "sizemode": "diameter",
            "sizeref": 25
           },
           "mode": "markers",
           "text": [
            "File: HFTS2_20190412_042831_040<br>Magnitude: -2.77",
            "File: HFTS2_20190412_042832_040<br>Magnitude: -2.73",
            "File: HFTS2_20190412_042833_040<br>Magnitude: -2.65",
            "File: HFTS2_20190412_042835_040<br>Magnitude: -2.65",
            "File: HFTS2_20190412_043437_040<br>Magnitude: -2.56",
            "File: HFTS2_20190412_043802_040<br>Magnitude: -2.35",
            "File: HFTS2_20190412_043803_040<br>Magnitude: -2.22",
            "File: HFTS2_20190412_044156_040<br>Magnitude: -2.03",
            "File: HFTS2_20190412_044403_040<br>Magnitude: -2.39",
            "File: HFTS2_20190412_044404_040<br>Magnitude: -2.10",
            "File: HFTS2_20190412_044435_040_Merged<br>Magnitude: -2.47",
            "File: HFTS2_20190412_044506_040<br>Magnitude: -2.32",
            "File: HFTS2_20190412_044516_040<br>Magnitude: -1.97",
            "File: HFTS2_20190412_044521_040<br>Magnitude: -2.07",
            "File: HFTS2_20190412_044522_040<br>Magnitude: -2.47",
            "File: HFTS2_20190412_044526_040<br>Magnitude: -2.74",
            "File: HFTS2_20190412_044540_040<br>Magnitude: -2.21",
            "File: HFTS2_20190412_044542_040<br>Magnitude: -2.56",
            "File: HFTS2_20190412_044543_040<br>Magnitude: -2.36",
            "File: HFTS2_20190412_044544_040<br>Magnitude: -2.59",
            "File: HFTS2_20190412_044545_040<br>Magnitude: -2.60",
            "File: HFTS2_20190412_044605_040<br>Magnitude: -2.71",
            "File: HFTS2_20190412_044619_040<br>Magnitude: -2.54",
            "File: HFTS2_20190412_044620_040<br>Magnitude: -1.81",
            "File: HFTS2_20190412_044623_040<br>Magnitude: -2.21",
            "File: HFTS2_20190412_044643_040<br>Magnitude: -2.30",
            "File: HFTS2_20190412_044647_040<br>Magnitude: -2.42",
            "File: HFTS2_20190412_044651_040<br>Magnitude: -2.46",
            "File: HFTS2_20190412_044659_040_Merged<br>Magnitude: -1.62",
            "File: HFTS2_20190412_044707_040<br>Magnitude: -2.09",
            "File: HFTS2_20190412_044731_040<br>Magnitude: -2.70",
            "File: HFTS2_20190412_044737_040<br>Magnitude: -2.41",
            "File: HFTS2_20190412_044741_040<br>Magnitude: -2.63",
            "File: HFTS2_20190412_044757_040<br>Magnitude: -2.12",
            "File: HFTS2_20190412_044759_040<br>Magnitude: -2.07",
            "File: HFTS2_20190412_044800_040<br>Magnitude: -2.53",
            "File: HFTS2_20190412_044803_040<br>Magnitude: -2.61",
            "File: HFTS2_20190412_044816_040<br>Magnitude: -2.12",
            "File: HFTS2_20190412_044822_040<br>Magnitude: -2.06",
            "File: HFTS2_20190412_044824_040<br>Magnitude: -2.02",
            "File: HFTS2_20190412_044829_040<br>Magnitude: -1.79",
            "File: HFTS2_20190412_044833_040<br>Magnitude: -2.29",
            "File: HFTS2_20190412_044841_040<br>Magnitude: -2.80",
            "File: HFTS2_20190412_044842_040<br>Magnitude: -2.24",
            "File: HFTS2_20190412_044903_040<br>Magnitude: -2.53",
            "File: HFTS2_20190412_044914_040<br>Magnitude: -2.58",
            "File: HFTS2_20190412_044945_040<br>Magnitude: -2.34",
            "File: HFTS2_20190412_044957_040<br>Magnitude: -2.58",
            "File: HFTS2_20190412_045027_040<br>Magnitude: -2.54",
            "File: HFTS2_20190412_045029_040<br>Magnitude: -2.63",
            "File: HFTS2_20190412_045035_040<br>Magnitude: -2.49",
            "File: HFTS2_20190412_045126_040<br>Magnitude: -2.40",
            "File: HFTS2_20190412_045127_040<br>Magnitude: -2.66",
            "File: HFTS2_20190412_045157_040<br>Magnitude: -2.08",
            "File: HFTS2_20190412_045254_040<br>Magnitude: -2.98",
            "File: HFTS2_20190412_045333_040<br>Magnitude: -2.15",
            "File: HFTS2_20190412_045344_040<br>Magnitude: -2.72",
            "File: HFTS2_20190412_045434_040<br>Magnitude: -2.50",
            "File: HFTS2_20190412_045451_040<br>Magnitude: -2.17",
            "File: HFTS2_20190412_045457_040<br>Magnitude: -2.51",
            "File: HFTS2_20190412_045523_040<br>Magnitude: -2.33",
            "File: HFTS2_20190412_045526_040<br>Magnitude: -2.80",
            "File: HFTS2_20190412_045528_040<br>Magnitude: -2.65",
            "File: HFTS2_20190412_045530_040<br>Magnitude: -2.49",
            "File: HFTS2_20190412_045535_040<br>Magnitude: -2.52",
            "File: HFTS2_20190412_045537_040<br>Magnitude: -2.76",
            "File: HFTS2_20190412_045550_040<br>Magnitude: -2.54",
            "File: HFTS2_20190412_045558_040<br>Magnitude: -2.77",
            "File: HFTS2_20190412_045602_040<br>Magnitude: -2.00",
            "File: HFTS2_20190412_045604_040<br>Magnitude: -2.78",
            "File: HFTS2_20190412_045608_040<br>Magnitude: -2.12",
            "File: HFTS2_20190412_045611_040<br>Magnitude: -2.60",
            "File: HFTS2_20190412_045620_040<br>Magnitude: -2.31",
            "File: HFTS2_20190412_045630_040<br>Magnitude: -2.65",
            "File: HFTS2_20190412_045644_040<br>Magnitude: -2.50",
            "File: HFTS2_20190412_045716_040<br>Magnitude: -2.37",
            "File: HFTS2_20190412_045727_040<br>Magnitude: -2.57",
            "File: HFTS2_20190412_045809_040<br>Magnitude: -2.58",
            "File: HFTS2_20190412_045818_040<br>Magnitude: -2.67",
            "File: HFTS2_20190412_045840_040<br>Magnitude: -2.77",
            "File: HFTS2_20190412_045938_040<br>Magnitude: -2.77",
            "File: HFTS2_20190412_045943_040<br>Magnitude: -2.39",
            "File: HFTS2_20190412_045952_040<br>Magnitude: -2.52",
            "File: HFTS2_20190412_050004_040<br>Magnitude: -2.35",
            "File: HFTS2_20190412_050011_040<br>Magnitude: -2.47",
            "File: HFTS2_20190412_050036_040<br>Magnitude: -2.61",
            "File: HFTS2_20190412_050053_040<br>Magnitude: -2.92",
            "File: HFTS2_20190412_050100_040<br>Magnitude: -2.58",
            "File: HFTS2_20190412_050127_040<br>Magnitude: -2.58",
            "File: HFTS2_20190412_050128_040<br>Magnitude: -2.57",
            "File: HFTS2_20190412_050133_040<br>Magnitude: -2.77",
            "File: HFTS2_20190412_050147_040<br>Magnitude: -2.71",
            "File: HFTS2_20190412_050202_040<br>Magnitude: -2.88",
            "File: HFTS2_20190412_050221_040<br>Magnitude: -2.82",
            "File: HFTS2_20190412_050315_040<br>Magnitude: -2.47",
            "File: HFTS2_20190412_050325_040<br>Magnitude: -2.62",
            "File: HFTS2_20190412_050358_040<br>Magnitude: -2.78",
            "File: HFTS2_20190412_050425_040<br>Magnitude: -2.75",
            "File: HFTS2_20190412_050456_040<br>Magnitude: -2.44",
            "File: HFTS2_20190412_050534_040<br>Magnitude: -2.59",
            "File: HFTS2_20190412_050607_040<br>Magnitude: -2.54"
           ],
           "type": "scatter3d",
           "x": [
            954161.6297
           ],
           "y": [
            849167.6663
           ],
           "z": [
            8725.0205
           ]
          }
         ],
         "name": "2019-04-12 04:56:08.704000"
        },
        {
         "data": [
          {
           "marker": {
            "cmax": -1.6189,
            "cmin": -2.9802,
            "color": [
             -2.6019
            ],
            "colorscale": [
             [
              0,
              "#440154"
             ],
             [
              0.1111111111111111,
              "#482878"
             ],
             [
              0.2222222222222222,
              "#3e4989"
             ],
             [
              0.3333333333333333,
              "#31688e"
             ],
             [
              0.4444444444444444,
              "#26828e"
             ],
             [
              0.5555555555555556,
              "#1f9e89"
             ],
             [
              0.6666666666666666,
              "#35b779"
             ],
             [
              0.7777777777777778,
              "#6ece58"
             ],
             [
              0.8888888888888888,
              "#b5de2b"
             ],
             [
              1,
              "#fde725"
             ]
            ],
            "size": [
             260.19
            ],
            "sizemode": "diameter",
            "sizeref": 25
           },
           "mode": "markers",
           "text": [
            "File: HFTS2_20190412_042831_040<br>Magnitude: -2.77",
            "File: HFTS2_20190412_042832_040<br>Magnitude: -2.73",
            "File: HFTS2_20190412_042833_040<br>Magnitude: -2.65",
            "File: HFTS2_20190412_042835_040<br>Magnitude: -2.65",
            "File: HFTS2_20190412_043437_040<br>Magnitude: -2.56",
            "File: HFTS2_20190412_043802_040<br>Magnitude: -2.35",
            "File: HFTS2_20190412_043803_040<br>Magnitude: -2.22",
            "File: HFTS2_20190412_044156_040<br>Magnitude: -2.03",
            "File: HFTS2_20190412_044403_040<br>Magnitude: -2.39",
            "File: HFTS2_20190412_044404_040<br>Magnitude: -2.10",
            "File: HFTS2_20190412_044435_040_Merged<br>Magnitude: -2.47",
            "File: HFTS2_20190412_044506_040<br>Magnitude: -2.32",
            "File: HFTS2_20190412_044516_040<br>Magnitude: -1.97",
            "File: HFTS2_20190412_044521_040<br>Magnitude: -2.07",
            "File: HFTS2_20190412_044522_040<br>Magnitude: -2.47",
            "File: HFTS2_20190412_044526_040<br>Magnitude: -2.74",
            "File: HFTS2_20190412_044540_040<br>Magnitude: -2.21",
            "File: HFTS2_20190412_044542_040<br>Magnitude: -2.56",
            "File: HFTS2_20190412_044543_040<br>Magnitude: -2.36",
            "File: HFTS2_20190412_044544_040<br>Magnitude: -2.59",
            "File: HFTS2_20190412_044545_040<br>Magnitude: -2.60",
            "File: HFTS2_20190412_044605_040<br>Magnitude: -2.71",
            "File: HFTS2_20190412_044619_040<br>Magnitude: -2.54",
            "File: HFTS2_20190412_044620_040<br>Magnitude: -1.81",
            "File: HFTS2_20190412_044623_040<br>Magnitude: -2.21",
            "File: HFTS2_20190412_044643_040<br>Magnitude: -2.30",
            "File: HFTS2_20190412_044647_040<br>Magnitude: -2.42",
            "File: HFTS2_20190412_044651_040<br>Magnitude: -2.46",
            "File: HFTS2_20190412_044659_040_Merged<br>Magnitude: -1.62",
            "File: HFTS2_20190412_044707_040<br>Magnitude: -2.09",
            "File: HFTS2_20190412_044731_040<br>Magnitude: -2.70",
            "File: HFTS2_20190412_044737_040<br>Magnitude: -2.41",
            "File: HFTS2_20190412_044741_040<br>Magnitude: -2.63",
            "File: HFTS2_20190412_044757_040<br>Magnitude: -2.12",
            "File: HFTS2_20190412_044759_040<br>Magnitude: -2.07",
            "File: HFTS2_20190412_044800_040<br>Magnitude: -2.53",
            "File: HFTS2_20190412_044803_040<br>Magnitude: -2.61",
            "File: HFTS2_20190412_044816_040<br>Magnitude: -2.12",
            "File: HFTS2_20190412_044822_040<br>Magnitude: -2.06",
            "File: HFTS2_20190412_044824_040<br>Magnitude: -2.02",
            "File: HFTS2_20190412_044829_040<br>Magnitude: -1.79",
            "File: HFTS2_20190412_044833_040<br>Magnitude: -2.29",
            "File: HFTS2_20190412_044841_040<br>Magnitude: -2.80",
            "File: HFTS2_20190412_044842_040<br>Magnitude: -2.24",
            "File: HFTS2_20190412_044903_040<br>Magnitude: -2.53",
            "File: HFTS2_20190412_044914_040<br>Magnitude: -2.58",
            "File: HFTS2_20190412_044945_040<br>Magnitude: -2.34",
            "File: HFTS2_20190412_044957_040<br>Magnitude: -2.58",
            "File: HFTS2_20190412_045027_040<br>Magnitude: -2.54",
            "File: HFTS2_20190412_045029_040<br>Magnitude: -2.63",
            "File: HFTS2_20190412_045035_040<br>Magnitude: -2.49",
            "File: HFTS2_20190412_045126_040<br>Magnitude: -2.40",
            "File: HFTS2_20190412_045127_040<br>Magnitude: -2.66",
            "File: HFTS2_20190412_045157_040<br>Magnitude: -2.08",
            "File: HFTS2_20190412_045254_040<br>Magnitude: -2.98",
            "File: HFTS2_20190412_045333_040<br>Magnitude: -2.15",
            "File: HFTS2_20190412_045344_040<br>Magnitude: -2.72",
            "File: HFTS2_20190412_045434_040<br>Magnitude: -2.50",
            "File: HFTS2_20190412_045451_040<br>Magnitude: -2.17",
            "File: HFTS2_20190412_045457_040<br>Magnitude: -2.51",
            "File: HFTS2_20190412_045523_040<br>Magnitude: -2.33",
            "File: HFTS2_20190412_045526_040<br>Magnitude: -2.80",
            "File: HFTS2_20190412_045528_040<br>Magnitude: -2.65",
            "File: HFTS2_20190412_045530_040<br>Magnitude: -2.49",
            "File: HFTS2_20190412_045535_040<br>Magnitude: -2.52",
            "File: HFTS2_20190412_045537_040<br>Magnitude: -2.76",
            "File: HFTS2_20190412_045550_040<br>Magnitude: -2.54",
            "File: HFTS2_20190412_045558_040<br>Magnitude: -2.77",
            "File: HFTS2_20190412_045602_040<br>Magnitude: -2.00",
            "File: HFTS2_20190412_045604_040<br>Magnitude: -2.78",
            "File: HFTS2_20190412_045608_040<br>Magnitude: -2.12",
            "File: HFTS2_20190412_045611_040<br>Magnitude: -2.60",
            "File: HFTS2_20190412_045620_040<br>Magnitude: -2.31",
            "File: HFTS2_20190412_045630_040<br>Magnitude: -2.65",
            "File: HFTS2_20190412_045644_040<br>Magnitude: -2.50",
            "File: HFTS2_20190412_045716_040<br>Magnitude: -2.37",
            "File: HFTS2_20190412_045727_040<br>Magnitude: -2.57",
            "File: HFTS2_20190412_045809_040<br>Magnitude: -2.58",
            "File: HFTS2_20190412_045818_040<br>Magnitude: -2.67",
            "File: HFTS2_20190412_045840_040<br>Magnitude: -2.77",
            "File: HFTS2_20190412_045938_040<br>Magnitude: -2.77",
            "File: HFTS2_20190412_045943_040<br>Magnitude: -2.39",
            "File: HFTS2_20190412_045952_040<br>Magnitude: -2.52",
            "File: HFTS2_20190412_050004_040<br>Magnitude: -2.35",
            "File: HFTS2_20190412_050011_040<br>Magnitude: -2.47",
            "File: HFTS2_20190412_050036_040<br>Magnitude: -2.61",
            "File: HFTS2_20190412_050053_040<br>Magnitude: -2.92",
            "File: HFTS2_20190412_050100_040<br>Magnitude: -2.58",
            "File: HFTS2_20190412_050127_040<br>Magnitude: -2.58",
            "File: HFTS2_20190412_050128_040<br>Magnitude: -2.57",
            "File: HFTS2_20190412_050133_040<br>Magnitude: -2.77",
            "File: HFTS2_20190412_050147_040<br>Magnitude: -2.71",
            "File: HFTS2_20190412_050202_040<br>Magnitude: -2.88",
            "File: HFTS2_20190412_050221_040<br>Magnitude: -2.82",
            "File: HFTS2_20190412_050315_040<br>Magnitude: -2.47",
            "File: HFTS2_20190412_050325_040<br>Magnitude: -2.62",
            "File: HFTS2_20190412_050358_040<br>Magnitude: -2.78",
            "File: HFTS2_20190412_050425_040<br>Magnitude: -2.75",
            "File: HFTS2_20190412_050456_040<br>Magnitude: -2.44",
            "File: HFTS2_20190412_050534_040<br>Magnitude: -2.59",
            "File: HFTS2_20190412_050607_040<br>Magnitude: -2.54"
           ],
           "type": "scatter3d",
           "x": [
            954426.0815
           ],
           "y": [
            849332.0602
           ],
           "z": [
            8683.741
           ]
          }
         ],
         "name": "2019-04-12 04:56:11.408000"
        },
        {
         "data": [
          {
           "marker": {
            "cmax": -1.6189,
            "cmin": -2.9802,
            "color": [
             -2.3101
            ],
            "colorscale": [
             [
              0,
              "#440154"
             ],
             [
              0.1111111111111111,
              "#482878"
             ],
             [
              0.2222222222222222,
              "#3e4989"
             ],
             [
              0.3333333333333333,
              "#31688e"
             ],
             [
              0.4444444444444444,
              "#26828e"
             ],
             [
              0.5555555555555556,
              "#1f9e89"
             ],
             [
              0.6666666666666666,
              "#35b779"
             ],
             [
              0.7777777777777778,
              "#6ece58"
             ],
             [
              0.8888888888888888,
              "#b5de2b"
             ],
             [
              1,
              "#fde725"
             ]
            ],
            "size": [
             231.01
            ],
            "sizemode": "diameter",
            "sizeref": 25
           },
           "mode": "markers",
           "text": [
            "File: HFTS2_20190412_042831_040<br>Magnitude: -2.77",
            "File: HFTS2_20190412_042832_040<br>Magnitude: -2.73",
            "File: HFTS2_20190412_042833_040<br>Magnitude: -2.65",
            "File: HFTS2_20190412_042835_040<br>Magnitude: -2.65",
            "File: HFTS2_20190412_043437_040<br>Magnitude: -2.56",
            "File: HFTS2_20190412_043802_040<br>Magnitude: -2.35",
            "File: HFTS2_20190412_043803_040<br>Magnitude: -2.22",
            "File: HFTS2_20190412_044156_040<br>Magnitude: -2.03",
            "File: HFTS2_20190412_044403_040<br>Magnitude: -2.39",
            "File: HFTS2_20190412_044404_040<br>Magnitude: -2.10",
            "File: HFTS2_20190412_044435_040_Merged<br>Magnitude: -2.47",
            "File: HFTS2_20190412_044506_040<br>Magnitude: -2.32",
            "File: HFTS2_20190412_044516_040<br>Magnitude: -1.97",
            "File: HFTS2_20190412_044521_040<br>Magnitude: -2.07",
            "File: HFTS2_20190412_044522_040<br>Magnitude: -2.47",
            "File: HFTS2_20190412_044526_040<br>Magnitude: -2.74",
            "File: HFTS2_20190412_044540_040<br>Magnitude: -2.21",
            "File: HFTS2_20190412_044542_040<br>Magnitude: -2.56",
            "File: HFTS2_20190412_044543_040<br>Magnitude: -2.36",
            "File: HFTS2_20190412_044544_040<br>Magnitude: -2.59",
            "File: HFTS2_20190412_044545_040<br>Magnitude: -2.60",
            "File: HFTS2_20190412_044605_040<br>Magnitude: -2.71",
            "File: HFTS2_20190412_044619_040<br>Magnitude: -2.54",
            "File: HFTS2_20190412_044620_040<br>Magnitude: -1.81",
            "File: HFTS2_20190412_044623_040<br>Magnitude: -2.21",
            "File: HFTS2_20190412_044643_040<br>Magnitude: -2.30",
            "File: HFTS2_20190412_044647_040<br>Magnitude: -2.42",
            "File: HFTS2_20190412_044651_040<br>Magnitude: -2.46",
            "File: HFTS2_20190412_044659_040_Merged<br>Magnitude: -1.62",
            "File: HFTS2_20190412_044707_040<br>Magnitude: -2.09",
            "File: HFTS2_20190412_044731_040<br>Magnitude: -2.70",
            "File: HFTS2_20190412_044737_040<br>Magnitude: -2.41",
            "File: HFTS2_20190412_044741_040<br>Magnitude: -2.63",
            "File: HFTS2_20190412_044757_040<br>Magnitude: -2.12",
            "File: HFTS2_20190412_044759_040<br>Magnitude: -2.07",
            "File: HFTS2_20190412_044800_040<br>Magnitude: -2.53",
            "File: HFTS2_20190412_044803_040<br>Magnitude: -2.61",
            "File: HFTS2_20190412_044816_040<br>Magnitude: -2.12",
            "File: HFTS2_20190412_044822_040<br>Magnitude: -2.06",
            "File: HFTS2_20190412_044824_040<br>Magnitude: -2.02",
            "File: HFTS2_20190412_044829_040<br>Magnitude: -1.79",
            "File: HFTS2_20190412_044833_040<br>Magnitude: -2.29",
            "File: HFTS2_20190412_044841_040<br>Magnitude: -2.80",
            "File: HFTS2_20190412_044842_040<br>Magnitude: -2.24",
            "File: HFTS2_20190412_044903_040<br>Magnitude: -2.53",
            "File: HFTS2_20190412_044914_040<br>Magnitude: -2.58",
            "File: HFTS2_20190412_044945_040<br>Magnitude: -2.34",
            "File: HFTS2_20190412_044957_040<br>Magnitude: -2.58",
            "File: HFTS2_20190412_045027_040<br>Magnitude: -2.54",
            "File: HFTS2_20190412_045029_040<br>Magnitude: -2.63",
            "File: HFTS2_20190412_045035_040<br>Magnitude: -2.49",
            "File: HFTS2_20190412_045126_040<br>Magnitude: -2.40",
            "File: HFTS2_20190412_045127_040<br>Magnitude: -2.66",
            "File: HFTS2_20190412_045157_040<br>Magnitude: -2.08",
            "File: HFTS2_20190412_045254_040<br>Magnitude: -2.98",
            "File: HFTS2_20190412_045333_040<br>Magnitude: -2.15",
            "File: HFTS2_20190412_045344_040<br>Magnitude: -2.72",
            "File: HFTS2_20190412_045434_040<br>Magnitude: -2.50",
            "File: HFTS2_20190412_045451_040<br>Magnitude: -2.17",
            "File: HFTS2_20190412_045457_040<br>Magnitude: -2.51",
            "File: HFTS2_20190412_045523_040<br>Magnitude: -2.33",
            "File: HFTS2_20190412_045526_040<br>Magnitude: -2.80",
            "File: HFTS2_20190412_045528_040<br>Magnitude: -2.65",
            "File: HFTS2_20190412_045530_040<br>Magnitude: -2.49",
            "File: HFTS2_20190412_045535_040<br>Magnitude: -2.52",
            "File: HFTS2_20190412_045537_040<br>Magnitude: -2.76",
            "File: HFTS2_20190412_045550_040<br>Magnitude: -2.54",
            "File: HFTS2_20190412_045558_040<br>Magnitude: -2.77",
            "File: HFTS2_20190412_045602_040<br>Magnitude: -2.00",
            "File: HFTS2_20190412_045604_040<br>Magnitude: -2.78",
            "File: HFTS2_20190412_045608_040<br>Magnitude: -2.12",
            "File: HFTS2_20190412_045611_040<br>Magnitude: -2.60",
            "File: HFTS2_20190412_045620_040<br>Magnitude: -2.31",
            "File: HFTS2_20190412_045630_040<br>Magnitude: -2.65",
            "File: HFTS2_20190412_045644_040<br>Magnitude: -2.50",
            "File: HFTS2_20190412_045716_040<br>Magnitude: -2.37",
            "File: HFTS2_20190412_045727_040<br>Magnitude: -2.57",
            "File: HFTS2_20190412_045809_040<br>Magnitude: -2.58",
            "File: HFTS2_20190412_045818_040<br>Magnitude: -2.67",
            "File: HFTS2_20190412_045840_040<br>Magnitude: -2.77",
            "File: HFTS2_20190412_045938_040<br>Magnitude: -2.77",
            "File: HFTS2_20190412_045943_040<br>Magnitude: -2.39",
            "File: HFTS2_20190412_045952_040<br>Magnitude: -2.52",
            "File: HFTS2_20190412_050004_040<br>Magnitude: -2.35",
            "File: HFTS2_20190412_050011_040<br>Magnitude: -2.47",
            "File: HFTS2_20190412_050036_040<br>Magnitude: -2.61",
            "File: HFTS2_20190412_050053_040<br>Magnitude: -2.92",
            "File: HFTS2_20190412_050100_040<br>Magnitude: -2.58",
            "File: HFTS2_20190412_050127_040<br>Magnitude: -2.58",
            "File: HFTS2_20190412_050128_040<br>Magnitude: -2.57",
            "File: HFTS2_20190412_050133_040<br>Magnitude: -2.77",
            "File: HFTS2_20190412_050147_040<br>Magnitude: -2.71",
            "File: HFTS2_20190412_050202_040<br>Magnitude: -2.88",
            "File: HFTS2_20190412_050221_040<br>Magnitude: -2.82",
            "File: HFTS2_20190412_050315_040<br>Magnitude: -2.47",
            "File: HFTS2_20190412_050325_040<br>Magnitude: -2.62",
            "File: HFTS2_20190412_050358_040<br>Magnitude: -2.78",
            "File: HFTS2_20190412_050425_040<br>Magnitude: -2.75",
            "File: HFTS2_20190412_050456_040<br>Magnitude: -2.44",
            "File: HFTS2_20190412_050534_040<br>Magnitude: -2.59",
            "File: HFTS2_20190412_050607_040<br>Magnitude: -2.54"
           ],
           "type": "scatter3d",
           "x": [
            954268.8247
           ],
           "y": [
            849258.617
           ],
           "z": [
            8707.4497
           ]
          }
         ],
         "name": "2019-04-12 04:56:20.842000"
        },
        {
         "data": [
          {
           "marker": {
            "cmax": -1.6189,
            "cmin": -2.9802,
            "color": [
             -2.6462
            ],
            "colorscale": [
             [
              0,
              "#440154"
             ],
             [
              0.1111111111111111,
              "#482878"
             ],
             [
              0.2222222222222222,
              "#3e4989"
             ],
             [
              0.3333333333333333,
              "#31688e"
             ],
             [
              0.4444444444444444,
              "#26828e"
             ],
             [
              0.5555555555555556,
              "#1f9e89"
             ],
             [
              0.6666666666666666,
              "#35b779"
             ],
             [
              0.7777777777777778,
              "#6ece58"
             ],
             [
              0.8888888888888888,
              "#b5de2b"
             ],
             [
              1,
              "#fde725"
             ]
            ],
            "size": [
             264.62
            ],
            "sizemode": "diameter",
            "sizeref": 25
           },
           "mode": "markers",
           "text": [
            "File: HFTS2_20190412_042831_040<br>Magnitude: -2.77",
            "File: HFTS2_20190412_042832_040<br>Magnitude: -2.73",
            "File: HFTS2_20190412_042833_040<br>Magnitude: -2.65",
            "File: HFTS2_20190412_042835_040<br>Magnitude: -2.65",
            "File: HFTS2_20190412_043437_040<br>Magnitude: -2.56",
            "File: HFTS2_20190412_043802_040<br>Magnitude: -2.35",
            "File: HFTS2_20190412_043803_040<br>Magnitude: -2.22",
            "File: HFTS2_20190412_044156_040<br>Magnitude: -2.03",
            "File: HFTS2_20190412_044403_040<br>Magnitude: -2.39",
            "File: HFTS2_20190412_044404_040<br>Magnitude: -2.10",
            "File: HFTS2_20190412_044435_040_Merged<br>Magnitude: -2.47",
            "File: HFTS2_20190412_044506_040<br>Magnitude: -2.32",
            "File: HFTS2_20190412_044516_040<br>Magnitude: -1.97",
            "File: HFTS2_20190412_044521_040<br>Magnitude: -2.07",
            "File: HFTS2_20190412_044522_040<br>Magnitude: -2.47",
            "File: HFTS2_20190412_044526_040<br>Magnitude: -2.74",
            "File: HFTS2_20190412_044540_040<br>Magnitude: -2.21",
            "File: HFTS2_20190412_044542_040<br>Magnitude: -2.56",
            "File: HFTS2_20190412_044543_040<br>Magnitude: -2.36",
            "File: HFTS2_20190412_044544_040<br>Magnitude: -2.59",
            "File: HFTS2_20190412_044545_040<br>Magnitude: -2.60",
            "File: HFTS2_20190412_044605_040<br>Magnitude: -2.71",
            "File: HFTS2_20190412_044619_040<br>Magnitude: -2.54",
            "File: HFTS2_20190412_044620_040<br>Magnitude: -1.81",
            "File: HFTS2_20190412_044623_040<br>Magnitude: -2.21",
            "File: HFTS2_20190412_044643_040<br>Magnitude: -2.30",
            "File: HFTS2_20190412_044647_040<br>Magnitude: -2.42",
            "File: HFTS2_20190412_044651_040<br>Magnitude: -2.46",
            "File: HFTS2_20190412_044659_040_Merged<br>Magnitude: -1.62",
            "File: HFTS2_20190412_044707_040<br>Magnitude: -2.09",
            "File: HFTS2_20190412_044731_040<br>Magnitude: -2.70",
            "File: HFTS2_20190412_044737_040<br>Magnitude: -2.41",
            "File: HFTS2_20190412_044741_040<br>Magnitude: -2.63",
            "File: HFTS2_20190412_044757_040<br>Magnitude: -2.12",
            "File: HFTS2_20190412_044759_040<br>Magnitude: -2.07",
            "File: HFTS2_20190412_044800_040<br>Magnitude: -2.53",
            "File: HFTS2_20190412_044803_040<br>Magnitude: -2.61",
            "File: HFTS2_20190412_044816_040<br>Magnitude: -2.12",
            "File: HFTS2_20190412_044822_040<br>Magnitude: -2.06",
            "File: HFTS2_20190412_044824_040<br>Magnitude: -2.02",
            "File: HFTS2_20190412_044829_040<br>Magnitude: -1.79",
            "File: HFTS2_20190412_044833_040<br>Magnitude: -2.29",
            "File: HFTS2_20190412_044841_040<br>Magnitude: -2.80",
            "File: HFTS2_20190412_044842_040<br>Magnitude: -2.24",
            "File: HFTS2_20190412_044903_040<br>Magnitude: -2.53",
            "File: HFTS2_20190412_044914_040<br>Magnitude: -2.58",
            "File: HFTS2_20190412_044945_040<br>Magnitude: -2.34",
            "File: HFTS2_20190412_044957_040<br>Magnitude: -2.58",
            "File: HFTS2_20190412_045027_040<br>Magnitude: -2.54",
            "File: HFTS2_20190412_045029_040<br>Magnitude: -2.63",
            "File: HFTS2_20190412_045035_040<br>Magnitude: -2.49",
            "File: HFTS2_20190412_045126_040<br>Magnitude: -2.40",
            "File: HFTS2_20190412_045127_040<br>Magnitude: -2.66",
            "File: HFTS2_20190412_045157_040<br>Magnitude: -2.08",
            "File: HFTS2_20190412_045254_040<br>Magnitude: -2.98",
            "File: HFTS2_20190412_045333_040<br>Magnitude: -2.15",
            "File: HFTS2_20190412_045344_040<br>Magnitude: -2.72",
            "File: HFTS2_20190412_045434_040<br>Magnitude: -2.50",
            "File: HFTS2_20190412_045451_040<br>Magnitude: -2.17",
            "File: HFTS2_20190412_045457_040<br>Magnitude: -2.51",
            "File: HFTS2_20190412_045523_040<br>Magnitude: -2.33",
            "File: HFTS2_20190412_045526_040<br>Magnitude: -2.80",
            "File: HFTS2_20190412_045528_040<br>Magnitude: -2.65",
            "File: HFTS2_20190412_045530_040<br>Magnitude: -2.49",
            "File: HFTS2_20190412_045535_040<br>Magnitude: -2.52",
            "File: HFTS2_20190412_045537_040<br>Magnitude: -2.76",
            "File: HFTS2_20190412_045550_040<br>Magnitude: -2.54",
            "File: HFTS2_20190412_045558_040<br>Magnitude: -2.77",
            "File: HFTS2_20190412_045602_040<br>Magnitude: -2.00",
            "File: HFTS2_20190412_045604_040<br>Magnitude: -2.78",
            "File: HFTS2_20190412_045608_040<br>Magnitude: -2.12",
            "File: HFTS2_20190412_045611_040<br>Magnitude: -2.60",
            "File: HFTS2_20190412_045620_040<br>Magnitude: -2.31",
            "File: HFTS2_20190412_045630_040<br>Magnitude: -2.65",
            "File: HFTS2_20190412_045644_040<br>Magnitude: -2.50",
            "File: HFTS2_20190412_045716_040<br>Magnitude: -2.37",
            "File: HFTS2_20190412_045727_040<br>Magnitude: -2.57",
            "File: HFTS2_20190412_045809_040<br>Magnitude: -2.58",
            "File: HFTS2_20190412_045818_040<br>Magnitude: -2.67",
            "File: HFTS2_20190412_045840_040<br>Magnitude: -2.77",
            "File: HFTS2_20190412_045938_040<br>Magnitude: -2.77",
            "File: HFTS2_20190412_045943_040<br>Magnitude: -2.39",
            "File: HFTS2_20190412_045952_040<br>Magnitude: -2.52",
            "File: HFTS2_20190412_050004_040<br>Magnitude: -2.35",
            "File: HFTS2_20190412_050011_040<br>Magnitude: -2.47",
            "File: HFTS2_20190412_050036_040<br>Magnitude: -2.61",
            "File: HFTS2_20190412_050053_040<br>Magnitude: -2.92",
            "File: HFTS2_20190412_050100_040<br>Magnitude: -2.58",
            "File: HFTS2_20190412_050127_040<br>Magnitude: -2.58",
            "File: HFTS2_20190412_050128_040<br>Magnitude: -2.57",
            "File: HFTS2_20190412_050133_040<br>Magnitude: -2.77",
            "File: HFTS2_20190412_050147_040<br>Magnitude: -2.71",
            "File: HFTS2_20190412_050202_040<br>Magnitude: -2.88",
            "File: HFTS2_20190412_050221_040<br>Magnitude: -2.82",
            "File: HFTS2_20190412_050315_040<br>Magnitude: -2.47",
            "File: HFTS2_20190412_050325_040<br>Magnitude: -2.62",
            "File: HFTS2_20190412_050358_040<br>Magnitude: -2.78",
            "File: HFTS2_20190412_050425_040<br>Magnitude: -2.75",
            "File: HFTS2_20190412_050456_040<br>Magnitude: -2.44",
            "File: HFTS2_20190412_050534_040<br>Magnitude: -2.59",
            "File: HFTS2_20190412_050607_040<br>Magnitude: -2.54"
           ],
           "type": "scatter3d",
           "x": [
            954139.1213
           ],
           "y": [
            849203.977
           ],
           "z": [
            8679.5909
           ]
          }
         ],
         "name": "2019-04-12 04:56:30.585000"
        },
        {
         "data": [
          {
           "marker": {
            "cmax": -1.6189,
            "cmin": -2.9802,
            "color": [
             -2.4965
            ],
            "colorscale": [
             [
              0,
              "#440154"
             ],
             [
              0.1111111111111111,
              "#482878"
             ],
             [
              0.2222222222222222,
              "#3e4989"
             ],
             [
              0.3333333333333333,
              "#31688e"
             ],
             [
              0.4444444444444444,
              "#26828e"
             ],
             [
              0.5555555555555556,
              "#1f9e89"
             ],
             [
              0.6666666666666666,
              "#35b779"
             ],
             [
              0.7777777777777778,
              "#6ece58"
             ],
             [
              0.8888888888888888,
              "#b5de2b"
             ],
             [
              1,
              "#fde725"
             ]
            ],
            "size": [
             249.65
            ],
            "sizemode": "diameter",
            "sizeref": 25
           },
           "mode": "markers",
           "text": [
            "File: HFTS2_20190412_042831_040<br>Magnitude: -2.77",
            "File: HFTS2_20190412_042832_040<br>Magnitude: -2.73",
            "File: HFTS2_20190412_042833_040<br>Magnitude: -2.65",
            "File: HFTS2_20190412_042835_040<br>Magnitude: -2.65",
            "File: HFTS2_20190412_043437_040<br>Magnitude: -2.56",
            "File: HFTS2_20190412_043802_040<br>Magnitude: -2.35",
            "File: HFTS2_20190412_043803_040<br>Magnitude: -2.22",
            "File: HFTS2_20190412_044156_040<br>Magnitude: -2.03",
            "File: HFTS2_20190412_044403_040<br>Magnitude: -2.39",
            "File: HFTS2_20190412_044404_040<br>Magnitude: -2.10",
            "File: HFTS2_20190412_044435_040_Merged<br>Magnitude: -2.47",
            "File: HFTS2_20190412_044506_040<br>Magnitude: -2.32",
            "File: HFTS2_20190412_044516_040<br>Magnitude: -1.97",
            "File: HFTS2_20190412_044521_040<br>Magnitude: -2.07",
            "File: HFTS2_20190412_044522_040<br>Magnitude: -2.47",
            "File: HFTS2_20190412_044526_040<br>Magnitude: -2.74",
            "File: HFTS2_20190412_044540_040<br>Magnitude: -2.21",
            "File: HFTS2_20190412_044542_040<br>Magnitude: -2.56",
            "File: HFTS2_20190412_044543_040<br>Magnitude: -2.36",
            "File: HFTS2_20190412_044544_040<br>Magnitude: -2.59",
            "File: HFTS2_20190412_044545_040<br>Magnitude: -2.60",
            "File: HFTS2_20190412_044605_040<br>Magnitude: -2.71",
            "File: HFTS2_20190412_044619_040<br>Magnitude: -2.54",
            "File: HFTS2_20190412_044620_040<br>Magnitude: -1.81",
            "File: HFTS2_20190412_044623_040<br>Magnitude: -2.21",
            "File: HFTS2_20190412_044643_040<br>Magnitude: -2.30",
            "File: HFTS2_20190412_044647_040<br>Magnitude: -2.42",
            "File: HFTS2_20190412_044651_040<br>Magnitude: -2.46",
            "File: HFTS2_20190412_044659_040_Merged<br>Magnitude: -1.62",
            "File: HFTS2_20190412_044707_040<br>Magnitude: -2.09",
            "File: HFTS2_20190412_044731_040<br>Magnitude: -2.70",
            "File: HFTS2_20190412_044737_040<br>Magnitude: -2.41",
            "File: HFTS2_20190412_044741_040<br>Magnitude: -2.63",
            "File: HFTS2_20190412_044757_040<br>Magnitude: -2.12",
            "File: HFTS2_20190412_044759_040<br>Magnitude: -2.07",
            "File: HFTS2_20190412_044800_040<br>Magnitude: -2.53",
            "File: HFTS2_20190412_044803_040<br>Magnitude: -2.61",
            "File: HFTS2_20190412_044816_040<br>Magnitude: -2.12",
            "File: HFTS2_20190412_044822_040<br>Magnitude: -2.06",
            "File: HFTS2_20190412_044824_040<br>Magnitude: -2.02",
            "File: HFTS2_20190412_044829_040<br>Magnitude: -1.79",
            "File: HFTS2_20190412_044833_040<br>Magnitude: -2.29",
            "File: HFTS2_20190412_044841_040<br>Magnitude: -2.80",
            "File: HFTS2_20190412_044842_040<br>Magnitude: -2.24",
            "File: HFTS2_20190412_044903_040<br>Magnitude: -2.53",
            "File: HFTS2_20190412_044914_040<br>Magnitude: -2.58",
            "File: HFTS2_20190412_044945_040<br>Magnitude: -2.34",
            "File: HFTS2_20190412_044957_040<br>Magnitude: -2.58",
            "File: HFTS2_20190412_045027_040<br>Magnitude: -2.54",
            "File: HFTS2_20190412_045029_040<br>Magnitude: -2.63",
            "File: HFTS2_20190412_045035_040<br>Magnitude: -2.49",
            "File: HFTS2_20190412_045126_040<br>Magnitude: -2.40",
            "File: HFTS2_20190412_045127_040<br>Magnitude: -2.66",
            "File: HFTS2_20190412_045157_040<br>Magnitude: -2.08",
            "File: HFTS2_20190412_045254_040<br>Magnitude: -2.98",
            "File: HFTS2_20190412_045333_040<br>Magnitude: -2.15",
            "File: HFTS2_20190412_045344_040<br>Magnitude: -2.72",
            "File: HFTS2_20190412_045434_040<br>Magnitude: -2.50",
            "File: HFTS2_20190412_045451_040<br>Magnitude: -2.17",
            "File: HFTS2_20190412_045457_040<br>Magnitude: -2.51",
            "File: HFTS2_20190412_045523_040<br>Magnitude: -2.33",
            "File: HFTS2_20190412_045526_040<br>Magnitude: -2.80",
            "File: HFTS2_20190412_045528_040<br>Magnitude: -2.65",
            "File: HFTS2_20190412_045530_040<br>Magnitude: -2.49",
            "File: HFTS2_20190412_045535_040<br>Magnitude: -2.52",
            "File: HFTS2_20190412_045537_040<br>Magnitude: -2.76",
            "File: HFTS2_20190412_045550_040<br>Magnitude: -2.54",
            "File: HFTS2_20190412_045558_040<br>Magnitude: -2.77",
            "File: HFTS2_20190412_045602_040<br>Magnitude: -2.00",
            "File: HFTS2_20190412_045604_040<br>Magnitude: -2.78",
            "File: HFTS2_20190412_045608_040<br>Magnitude: -2.12",
            "File: HFTS2_20190412_045611_040<br>Magnitude: -2.60",
            "File: HFTS2_20190412_045620_040<br>Magnitude: -2.31",
            "File: HFTS2_20190412_045630_040<br>Magnitude: -2.65",
            "File: HFTS2_20190412_045644_040<br>Magnitude: -2.50",
            "File: HFTS2_20190412_045716_040<br>Magnitude: -2.37",
            "File: HFTS2_20190412_045727_040<br>Magnitude: -2.57",
            "File: HFTS2_20190412_045809_040<br>Magnitude: -2.58",
            "File: HFTS2_20190412_045818_040<br>Magnitude: -2.67",
            "File: HFTS2_20190412_045840_040<br>Magnitude: -2.77",
            "File: HFTS2_20190412_045938_040<br>Magnitude: -2.77",
            "File: HFTS2_20190412_045943_040<br>Magnitude: -2.39",
            "File: HFTS2_20190412_045952_040<br>Magnitude: -2.52",
            "File: HFTS2_20190412_050004_040<br>Magnitude: -2.35",
            "File: HFTS2_20190412_050011_040<br>Magnitude: -2.47",
            "File: HFTS2_20190412_050036_040<br>Magnitude: -2.61",
            "File: HFTS2_20190412_050053_040<br>Magnitude: -2.92",
            "File: HFTS2_20190412_050100_040<br>Magnitude: -2.58",
            "File: HFTS2_20190412_050127_040<br>Magnitude: -2.58",
            "File: HFTS2_20190412_050128_040<br>Magnitude: -2.57",
            "File: HFTS2_20190412_050133_040<br>Magnitude: -2.77",
            "File: HFTS2_20190412_050147_040<br>Magnitude: -2.71",
            "File: HFTS2_20190412_050202_040<br>Magnitude: -2.88",
            "File: HFTS2_20190412_050221_040<br>Magnitude: -2.82",
            "File: HFTS2_20190412_050315_040<br>Magnitude: -2.47",
            "File: HFTS2_20190412_050325_040<br>Magnitude: -2.62",
            "File: HFTS2_20190412_050358_040<br>Magnitude: -2.78",
            "File: HFTS2_20190412_050425_040<br>Magnitude: -2.75",
            "File: HFTS2_20190412_050456_040<br>Magnitude: -2.44",
            "File: HFTS2_20190412_050534_040<br>Magnitude: -2.59",
            "File: HFTS2_20190412_050607_040<br>Magnitude: -2.54"
           ],
           "type": "scatter3d",
           "x": [
            954132.5695
           ],
           "y": [
            849175.4278
           ],
           "z": [
            8623.4109
           ]
          }
         ],
         "name": "2019-04-12 04:56:44.669000"
        },
        {
         "data": [
          {
           "marker": {
            "cmax": -1.6189,
            "cmin": -2.9802,
            "color": [
             -2.3673
            ],
            "colorscale": [
             [
              0,
              "#440154"
             ],
             [
              0.1111111111111111,
              "#482878"
             ],
             [
              0.2222222222222222,
              "#3e4989"
             ],
             [
              0.3333333333333333,
              "#31688e"
             ],
             [
              0.4444444444444444,
              "#26828e"
             ],
             [
              0.5555555555555556,
              "#1f9e89"
             ],
             [
              0.6666666666666666,
              "#35b779"
             ],
             [
              0.7777777777777778,
              "#6ece58"
             ],
             [
              0.8888888888888888,
              "#b5de2b"
             ],
             [
              1,
              "#fde725"
             ]
            ],
            "size": [
             236.73000000000002
            ],
            "sizemode": "diameter",
            "sizeref": 25
           },
           "mode": "markers",
           "text": [
            "File: HFTS2_20190412_042831_040<br>Magnitude: -2.77",
            "File: HFTS2_20190412_042832_040<br>Magnitude: -2.73",
            "File: HFTS2_20190412_042833_040<br>Magnitude: -2.65",
            "File: HFTS2_20190412_042835_040<br>Magnitude: -2.65",
            "File: HFTS2_20190412_043437_040<br>Magnitude: -2.56",
            "File: HFTS2_20190412_043802_040<br>Magnitude: -2.35",
            "File: HFTS2_20190412_043803_040<br>Magnitude: -2.22",
            "File: HFTS2_20190412_044156_040<br>Magnitude: -2.03",
            "File: HFTS2_20190412_044403_040<br>Magnitude: -2.39",
            "File: HFTS2_20190412_044404_040<br>Magnitude: -2.10",
            "File: HFTS2_20190412_044435_040_Merged<br>Magnitude: -2.47",
            "File: HFTS2_20190412_044506_040<br>Magnitude: -2.32",
            "File: HFTS2_20190412_044516_040<br>Magnitude: -1.97",
            "File: HFTS2_20190412_044521_040<br>Magnitude: -2.07",
            "File: HFTS2_20190412_044522_040<br>Magnitude: -2.47",
            "File: HFTS2_20190412_044526_040<br>Magnitude: -2.74",
            "File: HFTS2_20190412_044540_040<br>Magnitude: -2.21",
            "File: HFTS2_20190412_044542_040<br>Magnitude: -2.56",
            "File: HFTS2_20190412_044543_040<br>Magnitude: -2.36",
            "File: HFTS2_20190412_044544_040<br>Magnitude: -2.59",
            "File: HFTS2_20190412_044545_040<br>Magnitude: -2.60",
            "File: HFTS2_20190412_044605_040<br>Magnitude: -2.71",
            "File: HFTS2_20190412_044619_040<br>Magnitude: -2.54",
            "File: HFTS2_20190412_044620_040<br>Magnitude: -1.81",
            "File: HFTS2_20190412_044623_040<br>Magnitude: -2.21",
            "File: HFTS2_20190412_044643_040<br>Magnitude: -2.30",
            "File: HFTS2_20190412_044647_040<br>Magnitude: -2.42",
            "File: HFTS2_20190412_044651_040<br>Magnitude: -2.46",
            "File: HFTS2_20190412_044659_040_Merged<br>Magnitude: -1.62",
            "File: HFTS2_20190412_044707_040<br>Magnitude: -2.09",
            "File: HFTS2_20190412_044731_040<br>Magnitude: -2.70",
            "File: HFTS2_20190412_044737_040<br>Magnitude: -2.41",
            "File: HFTS2_20190412_044741_040<br>Magnitude: -2.63",
            "File: HFTS2_20190412_044757_040<br>Magnitude: -2.12",
            "File: HFTS2_20190412_044759_040<br>Magnitude: -2.07",
            "File: HFTS2_20190412_044800_040<br>Magnitude: -2.53",
            "File: HFTS2_20190412_044803_040<br>Magnitude: -2.61",
            "File: HFTS2_20190412_044816_040<br>Magnitude: -2.12",
            "File: HFTS2_20190412_044822_040<br>Magnitude: -2.06",
            "File: HFTS2_20190412_044824_040<br>Magnitude: -2.02",
            "File: HFTS2_20190412_044829_040<br>Magnitude: -1.79",
            "File: HFTS2_20190412_044833_040<br>Magnitude: -2.29",
            "File: HFTS2_20190412_044841_040<br>Magnitude: -2.80",
            "File: HFTS2_20190412_044842_040<br>Magnitude: -2.24",
            "File: HFTS2_20190412_044903_040<br>Magnitude: -2.53",
            "File: HFTS2_20190412_044914_040<br>Magnitude: -2.58",
            "File: HFTS2_20190412_044945_040<br>Magnitude: -2.34",
            "File: HFTS2_20190412_044957_040<br>Magnitude: -2.58",
            "File: HFTS2_20190412_045027_040<br>Magnitude: -2.54",
            "File: HFTS2_20190412_045029_040<br>Magnitude: -2.63",
            "File: HFTS2_20190412_045035_040<br>Magnitude: -2.49",
            "File: HFTS2_20190412_045126_040<br>Magnitude: -2.40",
            "File: HFTS2_20190412_045127_040<br>Magnitude: -2.66",
            "File: HFTS2_20190412_045157_040<br>Magnitude: -2.08",
            "File: HFTS2_20190412_045254_040<br>Magnitude: -2.98",
            "File: HFTS2_20190412_045333_040<br>Magnitude: -2.15",
            "File: HFTS2_20190412_045344_040<br>Magnitude: -2.72",
            "File: HFTS2_20190412_045434_040<br>Magnitude: -2.50",
            "File: HFTS2_20190412_045451_040<br>Magnitude: -2.17",
            "File: HFTS2_20190412_045457_040<br>Magnitude: -2.51",
            "File: HFTS2_20190412_045523_040<br>Magnitude: -2.33",
            "File: HFTS2_20190412_045526_040<br>Magnitude: -2.80",
            "File: HFTS2_20190412_045528_040<br>Magnitude: -2.65",
            "File: HFTS2_20190412_045530_040<br>Magnitude: -2.49",
            "File: HFTS2_20190412_045535_040<br>Magnitude: -2.52",
            "File: HFTS2_20190412_045537_040<br>Magnitude: -2.76",
            "File: HFTS2_20190412_045550_040<br>Magnitude: -2.54",
            "File: HFTS2_20190412_045558_040<br>Magnitude: -2.77",
            "File: HFTS2_20190412_045602_040<br>Magnitude: -2.00",
            "File: HFTS2_20190412_045604_040<br>Magnitude: -2.78",
            "File: HFTS2_20190412_045608_040<br>Magnitude: -2.12",
            "File: HFTS2_20190412_045611_040<br>Magnitude: -2.60",
            "File: HFTS2_20190412_045620_040<br>Magnitude: -2.31",
            "File: HFTS2_20190412_045630_040<br>Magnitude: -2.65",
            "File: HFTS2_20190412_045644_040<br>Magnitude: -2.50",
            "File: HFTS2_20190412_045716_040<br>Magnitude: -2.37",
            "File: HFTS2_20190412_045727_040<br>Magnitude: -2.57",
            "File: HFTS2_20190412_045809_040<br>Magnitude: -2.58",
            "File: HFTS2_20190412_045818_040<br>Magnitude: -2.67",
            "File: HFTS2_20190412_045840_040<br>Magnitude: -2.77",
            "File: HFTS2_20190412_045938_040<br>Magnitude: -2.77",
            "File: HFTS2_20190412_045943_040<br>Magnitude: -2.39",
            "File: HFTS2_20190412_045952_040<br>Magnitude: -2.52",
            "File: HFTS2_20190412_050004_040<br>Magnitude: -2.35",
            "File: HFTS2_20190412_050011_040<br>Magnitude: -2.47",
            "File: HFTS2_20190412_050036_040<br>Magnitude: -2.61",
            "File: HFTS2_20190412_050053_040<br>Magnitude: -2.92",
            "File: HFTS2_20190412_050100_040<br>Magnitude: -2.58",
            "File: HFTS2_20190412_050127_040<br>Magnitude: -2.58",
            "File: HFTS2_20190412_050128_040<br>Magnitude: -2.57",
            "File: HFTS2_20190412_050133_040<br>Magnitude: -2.77",
            "File: HFTS2_20190412_050147_040<br>Magnitude: -2.71",
            "File: HFTS2_20190412_050202_040<br>Magnitude: -2.88",
            "File: HFTS2_20190412_050221_040<br>Magnitude: -2.82",
            "File: HFTS2_20190412_050315_040<br>Magnitude: -2.47",
            "File: HFTS2_20190412_050325_040<br>Magnitude: -2.62",
            "File: HFTS2_20190412_050358_040<br>Magnitude: -2.78",
            "File: HFTS2_20190412_050425_040<br>Magnitude: -2.75",
            "File: HFTS2_20190412_050456_040<br>Magnitude: -2.44",
            "File: HFTS2_20190412_050534_040<br>Magnitude: -2.59",
            "File: HFTS2_20190412_050607_040<br>Magnitude: -2.54"
           ],
           "type": "scatter3d",
           "x": [
            954311.4396
           ],
           "y": [
            849168.6424
           ],
           "z": [
            8352.1219
           ]
          }
         ],
         "name": "2019-04-12 04:57:16.313000"
        },
        {
         "data": [
          {
           "marker": {
            "cmax": -1.6189,
            "cmin": -2.9802,
            "color": [
             -2.5692
            ],
            "colorscale": [
             [
              0,
              "#440154"
             ],
             [
              0.1111111111111111,
              "#482878"
             ],
             [
              0.2222222222222222,
              "#3e4989"
             ],
             [
              0.3333333333333333,
              "#31688e"
             ],
             [
              0.4444444444444444,
              "#26828e"
             ],
             [
              0.5555555555555556,
              "#1f9e89"
             ],
             [
              0.6666666666666666,
              "#35b779"
             ],
             [
              0.7777777777777778,
              "#6ece58"
             ],
             [
              0.8888888888888888,
              "#b5de2b"
             ],
             [
              1,
              "#fde725"
             ]
            ],
            "size": [
             256.92
            ],
            "sizemode": "diameter",
            "sizeref": 25
           },
           "mode": "markers",
           "text": [
            "File: HFTS2_20190412_042831_040<br>Magnitude: -2.77",
            "File: HFTS2_20190412_042832_040<br>Magnitude: -2.73",
            "File: HFTS2_20190412_042833_040<br>Magnitude: -2.65",
            "File: HFTS2_20190412_042835_040<br>Magnitude: -2.65",
            "File: HFTS2_20190412_043437_040<br>Magnitude: -2.56",
            "File: HFTS2_20190412_043802_040<br>Magnitude: -2.35",
            "File: HFTS2_20190412_043803_040<br>Magnitude: -2.22",
            "File: HFTS2_20190412_044156_040<br>Magnitude: -2.03",
            "File: HFTS2_20190412_044403_040<br>Magnitude: -2.39",
            "File: HFTS2_20190412_044404_040<br>Magnitude: -2.10",
            "File: HFTS2_20190412_044435_040_Merged<br>Magnitude: -2.47",
            "File: HFTS2_20190412_044506_040<br>Magnitude: -2.32",
            "File: HFTS2_20190412_044516_040<br>Magnitude: -1.97",
            "File: HFTS2_20190412_044521_040<br>Magnitude: -2.07",
            "File: HFTS2_20190412_044522_040<br>Magnitude: -2.47",
            "File: HFTS2_20190412_044526_040<br>Magnitude: -2.74",
            "File: HFTS2_20190412_044540_040<br>Magnitude: -2.21",
            "File: HFTS2_20190412_044542_040<br>Magnitude: -2.56",
            "File: HFTS2_20190412_044543_040<br>Magnitude: -2.36",
            "File: HFTS2_20190412_044544_040<br>Magnitude: -2.59",
            "File: HFTS2_20190412_044545_040<br>Magnitude: -2.60",
            "File: HFTS2_20190412_044605_040<br>Magnitude: -2.71",
            "File: HFTS2_20190412_044619_040<br>Magnitude: -2.54",
            "File: HFTS2_20190412_044620_040<br>Magnitude: -1.81",
            "File: HFTS2_20190412_044623_040<br>Magnitude: -2.21",
            "File: HFTS2_20190412_044643_040<br>Magnitude: -2.30",
            "File: HFTS2_20190412_044647_040<br>Magnitude: -2.42",
            "File: HFTS2_20190412_044651_040<br>Magnitude: -2.46",
            "File: HFTS2_20190412_044659_040_Merged<br>Magnitude: -1.62",
            "File: HFTS2_20190412_044707_040<br>Magnitude: -2.09",
            "File: HFTS2_20190412_044731_040<br>Magnitude: -2.70",
            "File: HFTS2_20190412_044737_040<br>Magnitude: -2.41",
            "File: HFTS2_20190412_044741_040<br>Magnitude: -2.63",
            "File: HFTS2_20190412_044757_040<br>Magnitude: -2.12",
            "File: HFTS2_20190412_044759_040<br>Magnitude: -2.07",
            "File: HFTS2_20190412_044800_040<br>Magnitude: -2.53",
            "File: HFTS2_20190412_044803_040<br>Magnitude: -2.61",
            "File: HFTS2_20190412_044816_040<br>Magnitude: -2.12",
            "File: HFTS2_20190412_044822_040<br>Magnitude: -2.06",
            "File: HFTS2_20190412_044824_040<br>Magnitude: -2.02",
            "File: HFTS2_20190412_044829_040<br>Magnitude: -1.79",
            "File: HFTS2_20190412_044833_040<br>Magnitude: -2.29",
            "File: HFTS2_20190412_044841_040<br>Magnitude: -2.80",
            "File: HFTS2_20190412_044842_040<br>Magnitude: -2.24",
            "File: HFTS2_20190412_044903_040<br>Magnitude: -2.53",
            "File: HFTS2_20190412_044914_040<br>Magnitude: -2.58",
            "File: HFTS2_20190412_044945_040<br>Magnitude: -2.34",
            "File: HFTS2_20190412_044957_040<br>Magnitude: -2.58",
            "File: HFTS2_20190412_045027_040<br>Magnitude: -2.54",
            "File: HFTS2_20190412_045029_040<br>Magnitude: -2.63",
            "File: HFTS2_20190412_045035_040<br>Magnitude: -2.49",
            "File: HFTS2_20190412_045126_040<br>Magnitude: -2.40",
            "File: HFTS2_20190412_045127_040<br>Magnitude: -2.66",
            "File: HFTS2_20190412_045157_040<br>Magnitude: -2.08",
            "File: HFTS2_20190412_045254_040<br>Magnitude: -2.98",
            "File: HFTS2_20190412_045333_040<br>Magnitude: -2.15",
            "File: HFTS2_20190412_045344_040<br>Magnitude: -2.72",
            "File: HFTS2_20190412_045434_040<br>Magnitude: -2.50",
            "File: HFTS2_20190412_045451_040<br>Magnitude: -2.17",
            "File: HFTS2_20190412_045457_040<br>Magnitude: -2.51",
            "File: HFTS2_20190412_045523_040<br>Magnitude: -2.33",
            "File: HFTS2_20190412_045526_040<br>Magnitude: -2.80",
            "File: HFTS2_20190412_045528_040<br>Magnitude: -2.65",
            "File: HFTS2_20190412_045530_040<br>Magnitude: -2.49",
            "File: HFTS2_20190412_045535_040<br>Magnitude: -2.52",
            "File: HFTS2_20190412_045537_040<br>Magnitude: -2.76",
            "File: HFTS2_20190412_045550_040<br>Magnitude: -2.54",
            "File: HFTS2_20190412_045558_040<br>Magnitude: -2.77",
            "File: HFTS2_20190412_045602_040<br>Magnitude: -2.00",
            "File: HFTS2_20190412_045604_040<br>Magnitude: -2.78",
            "File: HFTS2_20190412_045608_040<br>Magnitude: -2.12",
            "File: HFTS2_20190412_045611_040<br>Magnitude: -2.60",
            "File: HFTS2_20190412_045620_040<br>Magnitude: -2.31",
            "File: HFTS2_20190412_045630_040<br>Magnitude: -2.65",
            "File: HFTS2_20190412_045644_040<br>Magnitude: -2.50",
            "File: HFTS2_20190412_045716_040<br>Magnitude: -2.37",
            "File: HFTS2_20190412_045727_040<br>Magnitude: -2.57",
            "File: HFTS2_20190412_045809_040<br>Magnitude: -2.58",
            "File: HFTS2_20190412_045818_040<br>Magnitude: -2.67",
            "File: HFTS2_20190412_045840_040<br>Magnitude: -2.77",
            "File: HFTS2_20190412_045938_040<br>Magnitude: -2.77",
            "File: HFTS2_20190412_045943_040<br>Magnitude: -2.39",
            "File: HFTS2_20190412_045952_040<br>Magnitude: -2.52",
            "File: HFTS2_20190412_050004_040<br>Magnitude: -2.35",
            "File: HFTS2_20190412_050011_040<br>Magnitude: -2.47",
            "File: HFTS2_20190412_050036_040<br>Magnitude: -2.61",
            "File: HFTS2_20190412_050053_040<br>Magnitude: -2.92",
            "File: HFTS2_20190412_050100_040<br>Magnitude: -2.58",
            "File: HFTS2_20190412_050127_040<br>Magnitude: -2.58",
            "File: HFTS2_20190412_050128_040<br>Magnitude: -2.57",
            "File: HFTS2_20190412_050133_040<br>Magnitude: -2.77",
            "File: HFTS2_20190412_050147_040<br>Magnitude: -2.71",
            "File: HFTS2_20190412_050202_040<br>Magnitude: -2.88",
            "File: HFTS2_20190412_050221_040<br>Magnitude: -2.82",
            "File: HFTS2_20190412_050315_040<br>Magnitude: -2.47",
            "File: HFTS2_20190412_050325_040<br>Magnitude: -2.62",
            "File: HFTS2_20190412_050358_040<br>Magnitude: -2.78",
            "File: HFTS2_20190412_050425_040<br>Magnitude: -2.75",
            "File: HFTS2_20190412_050456_040<br>Magnitude: -2.44",
            "File: HFTS2_20190412_050534_040<br>Magnitude: -2.59",
            "File: HFTS2_20190412_050607_040<br>Magnitude: -2.54"
           ],
           "type": "scatter3d",
           "x": [
            954248.5109
           ],
           "y": [
            849259.0084
           ],
           "z": [
            8403.9545
           ]
          }
         ],
         "name": "2019-04-12 04:57:27.664000"
        },
        {
         "data": [
          {
           "marker": {
            "cmax": -1.6189,
            "cmin": -2.9802,
            "color": [
             -2.577
            ],
            "colorscale": [
             [
              0,
              "#440154"
             ],
             [
              0.1111111111111111,
              "#482878"
             ],
             [
              0.2222222222222222,
              "#3e4989"
             ],
             [
              0.3333333333333333,
              "#31688e"
             ],
             [
              0.4444444444444444,
              "#26828e"
             ],
             [
              0.5555555555555556,
              "#1f9e89"
             ],
             [
              0.6666666666666666,
              "#35b779"
             ],
             [
              0.7777777777777778,
              "#6ece58"
             ],
             [
              0.8888888888888888,
              "#b5de2b"
             ],
             [
              1,
              "#fde725"
             ]
            ],
            "size": [
             257.7
            ],
            "sizemode": "diameter",
            "sizeref": 25
           },
           "mode": "markers",
           "text": [
            "File: HFTS2_20190412_042831_040<br>Magnitude: -2.77",
            "File: HFTS2_20190412_042832_040<br>Magnitude: -2.73",
            "File: HFTS2_20190412_042833_040<br>Magnitude: -2.65",
            "File: HFTS2_20190412_042835_040<br>Magnitude: -2.65",
            "File: HFTS2_20190412_043437_040<br>Magnitude: -2.56",
            "File: HFTS2_20190412_043802_040<br>Magnitude: -2.35",
            "File: HFTS2_20190412_043803_040<br>Magnitude: -2.22",
            "File: HFTS2_20190412_044156_040<br>Magnitude: -2.03",
            "File: HFTS2_20190412_044403_040<br>Magnitude: -2.39",
            "File: HFTS2_20190412_044404_040<br>Magnitude: -2.10",
            "File: HFTS2_20190412_044435_040_Merged<br>Magnitude: -2.47",
            "File: HFTS2_20190412_044506_040<br>Magnitude: -2.32",
            "File: HFTS2_20190412_044516_040<br>Magnitude: -1.97",
            "File: HFTS2_20190412_044521_040<br>Magnitude: -2.07",
            "File: HFTS2_20190412_044522_040<br>Magnitude: -2.47",
            "File: HFTS2_20190412_044526_040<br>Magnitude: -2.74",
            "File: HFTS2_20190412_044540_040<br>Magnitude: -2.21",
            "File: HFTS2_20190412_044542_040<br>Magnitude: -2.56",
            "File: HFTS2_20190412_044543_040<br>Magnitude: -2.36",
            "File: HFTS2_20190412_044544_040<br>Magnitude: -2.59",
            "File: HFTS2_20190412_044545_040<br>Magnitude: -2.60",
            "File: HFTS2_20190412_044605_040<br>Magnitude: -2.71",
            "File: HFTS2_20190412_044619_040<br>Magnitude: -2.54",
            "File: HFTS2_20190412_044620_040<br>Magnitude: -1.81",
            "File: HFTS2_20190412_044623_040<br>Magnitude: -2.21",
            "File: HFTS2_20190412_044643_040<br>Magnitude: -2.30",
            "File: HFTS2_20190412_044647_040<br>Magnitude: -2.42",
            "File: HFTS2_20190412_044651_040<br>Magnitude: -2.46",
            "File: HFTS2_20190412_044659_040_Merged<br>Magnitude: -1.62",
            "File: HFTS2_20190412_044707_040<br>Magnitude: -2.09",
            "File: HFTS2_20190412_044731_040<br>Magnitude: -2.70",
            "File: HFTS2_20190412_044737_040<br>Magnitude: -2.41",
            "File: HFTS2_20190412_044741_040<br>Magnitude: -2.63",
            "File: HFTS2_20190412_044757_040<br>Magnitude: -2.12",
            "File: HFTS2_20190412_044759_040<br>Magnitude: -2.07",
            "File: HFTS2_20190412_044800_040<br>Magnitude: -2.53",
            "File: HFTS2_20190412_044803_040<br>Magnitude: -2.61",
            "File: HFTS2_20190412_044816_040<br>Magnitude: -2.12",
            "File: HFTS2_20190412_044822_040<br>Magnitude: -2.06",
            "File: HFTS2_20190412_044824_040<br>Magnitude: -2.02",
            "File: HFTS2_20190412_044829_040<br>Magnitude: -1.79",
            "File: HFTS2_20190412_044833_040<br>Magnitude: -2.29",
            "File: HFTS2_20190412_044841_040<br>Magnitude: -2.80",
            "File: HFTS2_20190412_044842_040<br>Magnitude: -2.24",
            "File: HFTS2_20190412_044903_040<br>Magnitude: -2.53",
            "File: HFTS2_20190412_044914_040<br>Magnitude: -2.58",
            "File: HFTS2_20190412_044945_040<br>Magnitude: -2.34",
            "File: HFTS2_20190412_044957_040<br>Magnitude: -2.58",
            "File: HFTS2_20190412_045027_040<br>Magnitude: -2.54",
            "File: HFTS2_20190412_045029_040<br>Magnitude: -2.63",
            "File: HFTS2_20190412_045035_040<br>Magnitude: -2.49",
            "File: HFTS2_20190412_045126_040<br>Magnitude: -2.40",
            "File: HFTS2_20190412_045127_040<br>Magnitude: -2.66",
            "File: HFTS2_20190412_045157_040<br>Magnitude: -2.08",
            "File: HFTS2_20190412_045254_040<br>Magnitude: -2.98",
            "File: HFTS2_20190412_045333_040<br>Magnitude: -2.15",
            "File: HFTS2_20190412_045344_040<br>Magnitude: -2.72",
            "File: HFTS2_20190412_045434_040<br>Magnitude: -2.50",
            "File: HFTS2_20190412_045451_040<br>Magnitude: -2.17",
            "File: HFTS2_20190412_045457_040<br>Magnitude: -2.51",
            "File: HFTS2_20190412_045523_040<br>Magnitude: -2.33",
            "File: HFTS2_20190412_045526_040<br>Magnitude: -2.80",
            "File: HFTS2_20190412_045528_040<br>Magnitude: -2.65",
            "File: HFTS2_20190412_045530_040<br>Magnitude: -2.49",
            "File: HFTS2_20190412_045535_040<br>Magnitude: -2.52",
            "File: HFTS2_20190412_045537_040<br>Magnitude: -2.76",
            "File: HFTS2_20190412_045550_040<br>Magnitude: -2.54",
            "File: HFTS2_20190412_045558_040<br>Magnitude: -2.77",
            "File: HFTS2_20190412_045602_040<br>Magnitude: -2.00",
            "File: HFTS2_20190412_045604_040<br>Magnitude: -2.78",
            "File: HFTS2_20190412_045608_040<br>Magnitude: -2.12",
            "File: HFTS2_20190412_045611_040<br>Magnitude: -2.60",
            "File: HFTS2_20190412_045620_040<br>Magnitude: -2.31",
            "File: HFTS2_20190412_045630_040<br>Magnitude: -2.65",
            "File: HFTS2_20190412_045644_040<br>Magnitude: -2.50",
            "File: HFTS2_20190412_045716_040<br>Magnitude: -2.37",
            "File: HFTS2_20190412_045727_040<br>Magnitude: -2.57",
            "File: HFTS2_20190412_045809_040<br>Magnitude: -2.58",
            "File: HFTS2_20190412_045818_040<br>Magnitude: -2.67",
            "File: HFTS2_20190412_045840_040<br>Magnitude: -2.77",
            "File: HFTS2_20190412_045938_040<br>Magnitude: -2.77",
            "File: HFTS2_20190412_045943_040<br>Magnitude: -2.39",
            "File: HFTS2_20190412_045952_040<br>Magnitude: -2.52",
            "File: HFTS2_20190412_050004_040<br>Magnitude: -2.35",
            "File: HFTS2_20190412_050011_040<br>Magnitude: -2.47",
            "File: HFTS2_20190412_050036_040<br>Magnitude: -2.61",
            "File: HFTS2_20190412_050053_040<br>Magnitude: -2.92",
            "File: HFTS2_20190412_050100_040<br>Magnitude: -2.58",
            "File: HFTS2_20190412_050127_040<br>Magnitude: -2.58",
            "File: HFTS2_20190412_050128_040<br>Magnitude: -2.57",
            "File: HFTS2_20190412_050133_040<br>Magnitude: -2.77",
            "File: HFTS2_20190412_050147_040<br>Magnitude: -2.71",
            "File: HFTS2_20190412_050202_040<br>Magnitude: -2.88",
            "File: HFTS2_20190412_050221_040<br>Magnitude: -2.82",
            "File: HFTS2_20190412_050315_040<br>Magnitude: -2.47",
            "File: HFTS2_20190412_050325_040<br>Magnitude: -2.62",
            "File: HFTS2_20190412_050358_040<br>Magnitude: -2.78",
            "File: HFTS2_20190412_050425_040<br>Magnitude: -2.75",
            "File: HFTS2_20190412_050456_040<br>Magnitude: -2.44",
            "File: HFTS2_20190412_050534_040<br>Magnitude: -2.59",
            "File: HFTS2_20190412_050607_040<br>Magnitude: -2.54"
           ],
           "type": "scatter3d",
           "x": [
            954167.4026
           ],
           "y": [
            849196.5615
           ],
           "z": [
            8557.5776
           ]
          }
         ],
         "name": "2019-04-12 04:58:09.828000"
        },
        {
         "data": [
          {
           "marker": {
            "cmax": -1.6189,
            "cmin": -2.9802,
            "color": [
             -2.6671
            ],
            "colorscale": [
             [
              0,
              "#440154"
             ],
             [
              0.1111111111111111,
              "#482878"
             ],
             [
              0.2222222222222222,
              "#3e4989"
             ],
             [
              0.3333333333333333,
              "#31688e"
             ],
             [
              0.4444444444444444,
              "#26828e"
             ],
             [
              0.5555555555555556,
              "#1f9e89"
             ],
             [
              0.6666666666666666,
              "#35b779"
             ],
             [
              0.7777777777777778,
              "#6ece58"
             ],
             [
              0.8888888888888888,
              "#b5de2b"
             ],
             [
              1,
              "#fde725"
             ]
            ],
            "size": [
             266.71
            ],
            "sizemode": "diameter",
            "sizeref": 25
           },
           "mode": "markers",
           "text": [
            "File: HFTS2_20190412_042831_040<br>Magnitude: -2.77",
            "File: HFTS2_20190412_042832_040<br>Magnitude: -2.73",
            "File: HFTS2_20190412_042833_040<br>Magnitude: -2.65",
            "File: HFTS2_20190412_042835_040<br>Magnitude: -2.65",
            "File: HFTS2_20190412_043437_040<br>Magnitude: -2.56",
            "File: HFTS2_20190412_043802_040<br>Magnitude: -2.35",
            "File: HFTS2_20190412_043803_040<br>Magnitude: -2.22",
            "File: HFTS2_20190412_044156_040<br>Magnitude: -2.03",
            "File: HFTS2_20190412_044403_040<br>Magnitude: -2.39",
            "File: HFTS2_20190412_044404_040<br>Magnitude: -2.10",
            "File: HFTS2_20190412_044435_040_Merged<br>Magnitude: -2.47",
            "File: HFTS2_20190412_044506_040<br>Magnitude: -2.32",
            "File: HFTS2_20190412_044516_040<br>Magnitude: -1.97",
            "File: HFTS2_20190412_044521_040<br>Magnitude: -2.07",
            "File: HFTS2_20190412_044522_040<br>Magnitude: -2.47",
            "File: HFTS2_20190412_044526_040<br>Magnitude: -2.74",
            "File: HFTS2_20190412_044540_040<br>Magnitude: -2.21",
            "File: HFTS2_20190412_044542_040<br>Magnitude: -2.56",
            "File: HFTS2_20190412_044543_040<br>Magnitude: -2.36",
            "File: HFTS2_20190412_044544_040<br>Magnitude: -2.59",
            "File: HFTS2_20190412_044545_040<br>Magnitude: -2.60",
            "File: HFTS2_20190412_044605_040<br>Magnitude: -2.71",
            "File: HFTS2_20190412_044619_040<br>Magnitude: -2.54",
            "File: HFTS2_20190412_044620_040<br>Magnitude: -1.81",
            "File: HFTS2_20190412_044623_040<br>Magnitude: -2.21",
            "File: HFTS2_20190412_044643_040<br>Magnitude: -2.30",
            "File: HFTS2_20190412_044647_040<br>Magnitude: -2.42",
            "File: HFTS2_20190412_044651_040<br>Magnitude: -2.46",
            "File: HFTS2_20190412_044659_040_Merged<br>Magnitude: -1.62",
            "File: HFTS2_20190412_044707_040<br>Magnitude: -2.09",
            "File: HFTS2_20190412_044731_040<br>Magnitude: -2.70",
            "File: HFTS2_20190412_044737_040<br>Magnitude: -2.41",
            "File: HFTS2_20190412_044741_040<br>Magnitude: -2.63",
            "File: HFTS2_20190412_044757_040<br>Magnitude: -2.12",
            "File: HFTS2_20190412_044759_040<br>Magnitude: -2.07",
            "File: HFTS2_20190412_044800_040<br>Magnitude: -2.53",
            "File: HFTS2_20190412_044803_040<br>Magnitude: -2.61",
            "File: HFTS2_20190412_044816_040<br>Magnitude: -2.12",
            "File: HFTS2_20190412_044822_040<br>Magnitude: -2.06",
            "File: HFTS2_20190412_044824_040<br>Magnitude: -2.02",
            "File: HFTS2_20190412_044829_040<br>Magnitude: -1.79",
            "File: HFTS2_20190412_044833_040<br>Magnitude: -2.29",
            "File: HFTS2_20190412_044841_040<br>Magnitude: -2.80",
            "File: HFTS2_20190412_044842_040<br>Magnitude: -2.24",
            "File: HFTS2_20190412_044903_040<br>Magnitude: -2.53",
            "File: HFTS2_20190412_044914_040<br>Magnitude: -2.58",
            "File: HFTS2_20190412_044945_040<br>Magnitude: -2.34",
            "File: HFTS2_20190412_044957_040<br>Magnitude: -2.58",
            "File: HFTS2_20190412_045027_040<br>Magnitude: -2.54",
            "File: HFTS2_20190412_045029_040<br>Magnitude: -2.63",
            "File: HFTS2_20190412_045035_040<br>Magnitude: -2.49",
            "File: HFTS2_20190412_045126_040<br>Magnitude: -2.40",
            "File: HFTS2_20190412_045127_040<br>Magnitude: -2.66",
            "File: HFTS2_20190412_045157_040<br>Magnitude: -2.08",
            "File: HFTS2_20190412_045254_040<br>Magnitude: -2.98",
            "File: HFTS2_20190412_045333_040<br>Magnitude: -2.15",
            "File: HFTS2_20190412_045344_040<br>Magnitude: -2.72",
            "File: HFTS2_20190412_045434_040<br>Magnitude: -2.50",
            "File: HFTS2_20190412_045451_040<br>Magnitude: -2.17",
            "File: HFTS2_20190412_045457_040<br>Magnitude: -2.51",
            "File: HFTS2_20190412_045523_040<br>Magnitude: -2.33",
            "File: HFTS2_20190412_045526_040<br>Magnitude: -2.80",
            "File: HFTS2_20190412_045528_040<br>Magnitude: -2.65",
            "File: HFTS2_20190412_045530_040<br>Magnitude: -2.49",
            "File: HFTS2_20190412_045535_040<br>Magnitude: -2.52",
            "File: HFTS2_20190412_045537_040<br>Magnitude: -2.76",
            "File: HFTS2_20190412_045550_040<br>Magnitude: -2.54",
            "File: HFTS2_20190412_045558_040<br>Magnitude: -2.77",
            "File: HFTS2_20190412_045602_040<br>Magnitude: -2.00",
            "File: HFTS2_20190412_045604_040<br>Magnitude: -2.78",
            "File: HFTS2_20190412_045608_040<br>Magnitude: -2.12",
            "File: HFTS2_20190412_045611_040<br>Magnitude: -2.60",
            "File: HFTS2_20190412_045620_040<br>Magnitude: -2.31",
            "File: HFTS2_20190412_045630_040<br>Magnitude: -2.65",
            "File: HFTS2_20190412_045644_040<br>Magnitude: -2.50",
            "File: HFTS2_20190412_045716_040<br>Magnitude: -2.37",
            "File: HFTS2_20190412_045727_040<br>Magnitude: -2.57",
            "File: HFTS2_20190412_045809_040<br>Magnitude: -2.58",
            "File: HFTS2_20190412_045818_040<br>Magnitude: -2.67",
            "File: HFTS2_20190412_045840_040<br>Magnitude: -2.77",
            "File: HFTS2_20190412_045938_040<br>Magnitude: -2.77",
            "File: HFTS2_20190412_045943_040<br>Magnitude: -2.39",
            "File: HFTS2_20190412_045952_040<br>Magnitude: -2.52",
            "File: HFTS2_20190412_050004_040<br>Magnitude: -2.35",
            "File: HFTS2_20190412_050011_040<br>Magnitude: -2.47",
            "File: HFTS2_20190412_050036_040<br>Magnitude: -2.61",
            "File: HFTS2_20190412_050053_040<br>Magnitude: -2.92",
            "File: HFTS2_20190412_050100_040<br>Magnitude: -2.58",
            "File: HFTS2_20190412_050127_040<br>Magnitude: -2.58",
            "File: HFTS2_20190412_050128_040<br>Magnitude: -2.57",
            "File: HFTS2_20190412_050133_040<br>Magnitude: -2.77",
            "File: HFTS2_20190412_050147_040<br>Magnitude: -2.71",
            "File: HFTS2_20190412_050202_040<br>Magnitude: -2.88",
            "File: HFTS2_20190412_050221_040<br>Magnitude: -2.82",
            "File: HFTS2_20190412_050315_040<br>Magnitude: -2.47",
            "File: HFTS2_20190412_050325_040<br>Magnitude: -2.62",
            "File: HFTS2_20190412_050358_040<br>Magnitude: -2.78",
            "File: HFTS2_20190412_050425_040<br>Magnitude: -2.75",
            "File: HFTS2_20190412_050456_040<br>Magnitude: -2.44",
            "File: HFTS2_20190412_050534_040<br>Magnitude: -2.59",
            "File: HFTS2_20190412_050607_040<br>Magnitude: -2.54"
           ],
           "type": "scatter3d",
           "x": [
            954052.4468
           ],
           "y": [
            849161.3672
           ],
           "z": [
            8316.4558
           ]
          }
         ],
         "name": "2019-04-12 04:58:18.515000"
        },
        {
         "data": [
          {
           "marker": {
            "cmax": -1.6189,
            "cmin": -2.9802,
            "color": [
             -2.765
            ],
            "colorscale": [
             [
              0,
              "#440154"
             ],
             [
              0.1111111111111111,
              "#482878"
             ],
             [
              0.2222222222222222,
              "#3e4989"
             ],
             [
              0.3333333333333333,
              "#31688e"
             ],
             [
              0.4444444444444444,
              "#26828e"
             ],
             [
              0.5555555555555556,
              "#1f9e89"
             ],
             [
              0.6666666666666666,
              "#35b779"
             ],
             [
              0.7777777777777778,
              "#6ece58"
             ],
             [
              0.8888888888888888,
              "#b5de2b"
             ],
             [
              1,
              "#fde725"
             ]
            ],
            "size": [
             276.5
            ],
            "sizemode": "diameter",
            "sizeref": 25
           },
           "mode": "markers",
           "text": [
            "File: HFTS2_20190412_042831_040<br>Magnitude: -2.77",
            "File: HFTS2_20190412_042832_040<br>Magnitude: -2.73",
            "File: HFTS2_20190412_042833_040<br>Magnitude: -2.65",
            "File: HFTS2_20190412_042835_040<br>Magnitude: -2.65",
            "File: HFTS2_20190412_043437_040<br>Magnitude: -2.56",
            "File: HFTS2_20190412_043802_040<br>Magnitude: -2.35",
            "File: HFTS2_20190412_043803_040<br>Magnitude: -2.22",
            "File: HFTS2_20190412_044156_040<br>Magnitude: -2.03",
            "File: HFTS2_20190412_044403_040<br>Magnitude: -2.39",
            "File: HFTS2_20190412_044404_040<br>Magnitude: -2.10",
            "File: HFTS2_20190412_044435_040_Merged<br>Magnitude: -2.47",
            "File: HFTS2_20190412_044506_040<br>Magnitude: -2.32",
            "File: HFTS2_20190412_044516_040<br>Magnitude: -1.97",
            "File: HFTS2_20190412_044521_040<br>Magnitude: -2.07",
            "File: HFTS2_20190412_044522_040<br>Magnitude: -2.47",
            "File: HFTS2_20190412_044526_040<br>Magnitude: -2.74",
            "File: HFTS2_20190412_044540_040<br>Magnitude: -2.21",
            "File: HFTS2_20190412_044542_040<br>Magnitude: -2.56",
            "File: HFTS2_20190412_044543_040<br>Magnitude: -2.36",
            "File: HFTS2_20190412_044544_040<br>Magnitude: -2.59",
            "File: HFTS2_20190412_044545_040<br>Magnitude: -2.60",
            "File: HFTS2_20190412_044605_040<br>Magnitude: -2.71",
            "File: HFTS2_20190412_044619_040<br>Magnitude: -2.54",
            "File: HFTS2_20190412_044620_040<br>Magnitude: -1.81",
            "File: HFTS2_20190412_044623_040<br>Magnitude: -2.21",
            "File: HFTS2_20190412_044643_040<br>Magnitude: -2.30",
            "File: HFTS2_20190412_044647_040<br>Magnitude: -2.42",
            "File: HFTS2_20190412_044651_040<br>Magnitude: -2.46",
            "File: HFTS2_20190412_044659_040_Merged<br>Magnitude: -1.62",
            "File: HFTS2_20190412_044707_040<br>Magnitude: -2.09",
            "File: HFTS2_20190412_044731_040<br>Magnitude: -2.70",
            "File: HFTS2_20190412_044737_040<br>Magnitude: -2.41",
            "File: HFTS2_20190412_044741_040<br>Magnitude: -2.63",
            "File: HFTS2_20190412_044757_040<br>Magnitude: -2.12",
            "File: HFTS2_20190412_044759_040<br>Magnitude: -2.07",
            "File: HFTS2_20190412_044800_040<br>Magnitude: -2.53",
            "File: HFTS2_20190412_044803_040<br>Magnitude: -2.61",
            "File: HFTS2_20190412_044816_040<br>Magnitude: -2.12",
            "File: HFTS2_20190412_044822_040<br>Magnitude: -2.06",
            "File: HFTS2_20190412_044824_040<br>Magnitude: -2.02",
            "File: HFTS2_20190412_044829_040<br>Magnitude: -1.79",
            "File: HFTS2_20190412_044833_040<br>Magnitude: -2.29",
            "File: HFTS2_20190412_044841_040<br>Magnitude: -2.80",
            "File: HFTS2_20190412_044842_040<br>Magnitude: -2.24",
            "File: HFTS2_20190412_044903_040<br>Magnitude: -2.53",
            "File: HFTS2_20190412_044914_040<br>Magnitude: -2.58",
            "File: HFTS2_20190412_044945_040<br>Magnitude: -2.34",
            "File: HFTS2_20190412_044957_040<br>Magnitude: -2.58",
            "File: HFTS2_20190412_045027_040<br>Magnitude: -2.54",
            "File: HFTS2_20190412_045029_040<br>Magnitude: -2.63",
            "File: HFTS2_20190412_045035_040<br>Magnitude: -2.49",
            "File: HFTS2_20190412_045126_040<br>Magnitude: -2.40",
            "File: HFTS2_20190412_045127_040<br>Magnitude: -2.66",
            "File: HFTS2_20190412_045157_040<br>Magnitude: -2.08",
            "File: HFTS2_20190412_045254_040<br>Magnitude: -2.98",
            "File: HFTS2_20190412_045333_040<br>Magnitude: -2.15",
            "File: HFTS2_20190412_045344_040<br>Magnitude: -2.72",
            "File: HFTS2_20190412_045434_040<br>Magnitude: -2.50",
            "File: HFTS2_20190412_045451_040<br>Magnitude: -2.17",
            "File: HFTS2_20190412_045457_040<br>Magnitude: -2.51",
            "File: HFTS2_20190412_045523_040<br>Magnitude: -2.33",
            "File: HFTS2_20190412_045526_040<br>Magnitude: -2.80",
            "File: HFTS2_20190412_045528_040<br>Magnitude: -2.65",
            "File: HFTS2_20190412_045530_040<br>Magnitude: -2.49",
            "File: HFTS2_20190412_045535_040<br>Magnitude: -2.52",
            "File: HFTS2_20190412_045537_040<br>Magnitude: -2.76",
            "File: HFTS2_20190412_045550_040<br>Magnitude: -2.54",
            "File: HFTS2_20190412_045558_040<br>Magnitude: -2.77",
            "File: HFTS2_20190412_045602_040<br>Magnitude: -2.00",
            "File: HFTS2_20190412_045604_040<br>Magnitude: -2.78",
            "File: HFTS2_20190412_045608_040<br>Magnitude: -2.12",
            "File: HFTS2_20190412_045611_040<br>Magnitude: -2.60",
            "File: HFTS2_20190412_045620_040<br>Magnitude: -2.31",
            "File: HFTS2_20190412_045630_040<br>Magnitude: -2.65",
            "File: HFTS2_20190412_045644_040<br>Magnitude: -2.50",
            "File: HFTS2_20190412_045716_040<br>Magnitude: -2.37",
            "File: HFTS2_20190412_045727_040<br>Magnitude: -2.57",
            "File: HFTS2_20190412_045809_040<br>Magnitude: -2.58",
            "File: HFTS2_20190412_045818_040<br>Magnitude: -2.67",
            "File: HFTS2_20190412_045840_040<br>Magnitude: -2.77",
            "File: HFTS2_20190412_045938_040<br>Magnitude: -2.77",
            "File: HFTS2_20190412_045943_040<br>Magnitude: -2.39",
            "File: HFTS2_20190412_045952_040<br>Magnitude: -2.52",
            "File: HFTS2_20190412_050004_040<br>Magnitude: -2.35",
            "File: HFTS2_20190412_050011_040<br>Magnitude: -2.47",
            "File: HFTS2_20190412_050036_040<br>Magnitude: -2.61",
            "File: HFTS2_20190412_050053_040<br>Magnitude: -2.92",
            "File: HFTS2_20190412_050100_040<br>Magnitude: -2.58",
            "File: HFTS2_20190412_050127_040<br>Magnitude: -2.58",
            "File: HFTS2_20190412_050128_040<br>Magnitude: -2.57",
            "File: HFTS2_20190412_050133_040<br>Magnitude: -2.77",
            "File: HFTS2_20190412_050147_040<br>Magnitude: -2.71",
            "File: HFTS2_20190412_050202_040<br>Magnitude: -2.88",
            "File: HFTS2_20190412_050221_040<br>Magnitude: -2.82",
            "File: HFTS2_20190412_050315_040<br>Magnitude: -2.47",
            "File: HFTS2_20190412_050325_040<br>Magnitude: -2.62",
            "File: HFTS2_20190412_050358_040<br>Magnitude: -2.78",
            "File: HFTS2_20190412_050425_040<br>Magnitude: -2.75",
            "File: HFTS2_20190412_050456_040<br>Magnitude: -2.44",
            "File: HFTS2_20190412_050534_040<br>Magnitude: -2.59",
            "File: HFTS2_20190412_050607_040<br>Magnitude: -2.54"
           ],
           "type": "scatter3d",
           "x": [
            953996.9934
           ],
           "y": [
            849210.5677
           ],
           "z": [
            8814.4902
           ]
          }
         ],
         "name": "2019-04-12 04:58:40.442000"
        },
        {
         "data": [
          {
           "marker": {
            "cmax": -1.6189,
            "cmin": -2.9802,
            "color": [
             -2.7661
            ],
            "colorscale": [
             [
              0,
              "#440154"
             ],
             [
              0.1111111111111111,
              "#482878"
             ],
             [
              0.2222222222222222,
              "#3e4989"
             ],
             [
              0.3333333333333333,
              "#31688e"
             ],
             [
              0.4444444444444444,
              "#26828e"
             ],
             [
              0.5555555555555556,
              "#1f9e89"
             ],
             [
              0.6666666666666666,
              "#35b779"
             ],
             [
              0.7777777777777778,
              "#6ece58"
             ],
             [
              0.8888888888888888,
              "#b5de2b"
             ],
             [
              1,
              "#fde725"
             ]
            ],
            "size": [
             276.60999999999996
            ],
            "sizemode": "diameter",
            "sizeref": 25
           },
           "mode": "markers",
           "text": [
            "File: HFTS2_20190412_042831_040<br>Magnitude: -2.77",
            "File: HFTS2_20190412_042832_040<br>Magnitude: -2.73",
            "File: HFTS2_20190412_042833_040<br>Magnitude: -2.65",
            "File: HFTS2_20190412_042835_040<br>Magnitude: -2.65",
            "File: HFTS2_20190412_043437_040<br>Magnitude: -2.56",
            "File: HFTS2_20190412_043802_040<br>Magnitude: -2.35",
            "File: HFTS2_20190412_043803_040<br>Magnitude: -2.22",
            "File: HFTS2_20190412_044156_040<br>Magnitude: -2.03",
            "File: HFTS2_20190412_044403_040<br>Magnitude: -2.39",
            "File: HFTS2_20190412_044404_040<br>Magnitude: -2.10",
            "File: HFTS2_20190412_044435_040_Merged<br>Magnitude: -2.47",
            "File: HFTS2_20190412_044506_040<br>Magnitude: -2.32",
            "File: HFTS2_20190412_044516_040<br>Magnitude: -1.97",
            "File: HFTS2_20190412_044521_040<br>Magnitude: -2.07",
            "File: HFTS2_20190412_044522_040<br>Magnitude: -2.47",
            "File: HFTS2_20190412_044526_040<br>Magnitude: -2.74",
            "File: HFTS2_20190412_044540_040<br>Magnitude: -2.21",
            "File: HFTS2_20190412_044542_040<br>Magnitude: -2.56",
            "File: HFTS2_20190412_044543_040<br>Magnitude: -2.36",
            "File: HFTS2_20190412_044544_040<br>Magnitude: -2.59",
            "File: HFTS2_20190412_044545_040<br>Magnitude: -2.60",
            "File: HFTS2_20190412_044605_040<br>Magnitude: -2.71",
            "File: HFTS2_20190412_044619_040<br>Magnitude: -2.54",
            "File: HFTS2_20190412_044620_040<br>Magnitude: -1.81",
            "File: HFTS2_20190412_044623_040<br>Magnitude: -2.21",
            "File: HFTS2_20190412_044643_040<br>Magnitude: -2.30",
            "File: HFTS2_20190412_044647_040<br>Magnitude: -2.42",
            "File: HFTS2_20190412_044651_040<br>Magnitude: -2.46",
            "File: HFTS2_20190412_044659_040_Merged<br>Magnitude: -1.62",
            "File: HFTS2_20190412_044707_040<br>Magnitude: -2.09",
            "File: HFTS2_20190412_044731_040<br>Magnitude: -2.70",
            "File: HFTS2_20190412_044737_040<br>Magnitude: -2.41",
            "File: HFTS2_20190412_044741_040<br>Magnitude: -2.63",
            "File: HFTS2_20190412_044757_040<br>Magnitude: -2.12",
            "File: HFTS2_20190412_044759_040<br>Magnitude: -2.07",
            "File: HFTS2_20190412_044800_040<br>Magnitude: -2.53",
            "File: HFTS2_20190412_044803_040<br>Magnitude: -2.61",
            "File: HFTS2_20190412_044816_040<br>Magnitude: -2.12",
            "File: HFTS2_20190412_044822_040<br>Magnitude: -2.06",
            "File: HFTS2_20190412_044824_040<br>Magnitude: -2.02",
            "File: HFTS2_20190412_044829_040<br>Magnitude: -1.79",
            "File: HFTS2_20190412_044833_040<br>Magnitude: -2.29",
            "File: HFTS2_20190412_044841_040<br>Magnitude: -2.80",
            "File: HFTS2_20190412_044842_040<br>Magnitude: -2.24",
            "File: HFTS2_20190412_044903_040<br>Magnitude: -2.53",
            "File: HFTS2_20190412_044914_040<br>Magnitude: -2.58",
            "File: HFTS2_20190412_044945_040<br>Magnitude: -2.34",
            "File: HFTS2_20190412_044957_040<br>Magnitude: -2.58",
            "File: HFTS2_20190412_045027_040<br>Magnitude: -2.54",
            "File: HFTS2_20190412_045029_040<br>Magnitude: -2.63",
            "File: HFTS2_20190412_045035_040<br>Magnitude: -2.49",
            "File: HFTS2_20190412_045126_040<br>Magnitude: -2.40",
            "File: HFTS2_20190412_045127_040<br>Magnitude: -2.66",
            "File: HFTS2_20190412_045157_040<br>Magnitude: -2.08",
            "File: HFTS2_20190412_045254_040<br>Magnitude: -2.98",
            "File: HFTS2_20190412_045333_040<br>Magnitude: -2.15",
            "File: HFTS2_20190412_045344_040<br>Magnitude: -2.72",
            "File: HFTS2_20190412_045434_040<br>Magnitude: -2.50",
            "File: HFTS2_20190412_045451_040<br>Magnitude: -2.17",
            "File: HFTS2_20190412_045457_040<br>Magnitude: -2.51",
            "File: HFTS2_20190412_045523_040<br>Magnitude: -2.33",
            "File: HFTS2_20190412_045526_040<br>Magnitude: -2.80",
            "File: HFTS2_20190412_045528_040<br>Magnitude: -2.65",
            "File: HFTS2_20190412_045530_040<br>Magnitude: -2.49",
            "File: HFTS2_20190412_045535_040<br>Magnitude: -2.52",
            "File: HFTS2_20190412_045537_040<br>Magnitude: -2.76",
            "File: HFTS2_20190412_045550_040<br>Magnitude: -2.54",
            "File: HFTS2_20190412_045558_040<br>Magnitude: -2.77",
            "File: HFTS2_20190412_045602_040<br>Magnitude: -2.00",
            "File: HFTS2_20190412_045604_040<br>Magnitude: -2.78",
            "File: HFTS2_20190412_045608_040<br>Magnitude: -2.12",
            "File: HFTS2_20190412_045611_040<br>Magnitude: -2.60",
            "File: HFTS2_20190412_045620_040<br>Magnitude: -2.31",
            "File: HFTS2_20190412_045630_040<br>Magnitude: -2.65",
            "File: HFTS2_20190412_045644_040<br>Magnitude: -2.50",
            "File: HFTS2_20190412_045716_040<br>Magnitude: -2.37",
            "File: HFTS2_20190412_045727_040<br>Magnitude: -2.57",
            "File: HFTS2_20190412_045809_040<br>Magnitude: -2.58",
            "File: HFTS2_20190412_045818_040<br>Magnitude: -2.67",
            "File: HFTS2_20190412_045840_040<br>Magnitude: -2.77",
            "File: HFTS2_20190412_045938_040<br>Magnitude: -2.77",
            "File: HFTS2_20190412_045943_040<br>Magnitude: -2.39",
            "File: HFTS2_20190412_045952_040<br>Magnitude: -2.52",
            "File: HFTS2_20190412_050004_040<br>Magnitude: -2.35",
            "File: HFTS2_20190412_050011_040<br>Magnitude: -2.47",
            "File: HFTS2_20190412_050036_040<br>Magnitude: -2.61",
            "File: HFTS2_20190412_050053_040<br>Magnitude: -2.92",
            "File: HFTS2_20190412_050100_040<br>Magnitude: -2.58",
            "File: HFTS2_20190412_050127_040<br>Magnitude: -2.58",
            "File: HFTS2_20190412_050128_040<br>Magnitude: -2.57",
            "File: HFTS2_20190412_050133_040<br>Magnitude: -2.77",
            "File: HFTS2_20190412_050147_040<br>Magnitude: -2.71",
            "File: HFTS2_20190412_050202_040<br>Magnitude: -2.88",
            "File: HFTS2_20190412_050221_040<br>Magnitude: -2.82",
            "File: HFTS2_20190412_050315_040<br>Magnitude: -2.47",
            "File: HFTS2_20190412_050325_040<br>Magnitude: -2.62",
            "File: HFTS2_20190412_050358_040<br>Magnitude: -2.78",
            "File: HFTS2_20190412_050425_040<br>Magnitude: -2.75",
            "File: HFTS2_20190412_050456_040<br>Magnitude: -2.44",
            "File: HFTS2_20190412_050534_040<br>Magnitude: -2.59",
            "File: HFTS2_20190412_050607_040<br>Magnitude: -2.54"
           ],
           "type": "scatter3d",
           "x": [
            955347.9417
           ],
           "y": [
            849182.842
           ],
           "z": [
            8315.1742
           ]
          }
         ],
         "name": "2019-04-12 04:59:38.206000"
        },
        {
         "data": [
          {
           "marker": {
            "cmax": -1.6189,
            "cmin": -2.9802,
            "color": [
             -2.3933
            ],
            "colorscale": [
             [
              0,
              "#440154"
             ],
             [
              0.1111111111111111,
              "#482878"
             ],
             [
              0.2222222222222222,
              "#3e4989"
             ],
             [
              0.3333333333333333,
              "#31688e"
             ],
             [
              0.4444444444444444,
              "#26828e"
             ],
             [
              0.5555555555555556,
              "#1f9e89"
             ],
             [
              0.6666666666666666,
              "#35b779"
             ],
             [
              0.7777777777777778,
              "#6ece58"
             ],
             [
              0.8888888888888888,
              "#b5de2b"
             ],
             [
              1,
              "#fde725"
             ]
            ],
            "size": [
             239.32999999999998
            ],
            "sizemode": "diameter",
            "sizeref": 25
           },
           "mode": "markers",
           "text": [
            "File: HFTS2_20190412_042831_040<br>Magnitude: -2.77",
            "File: HFTS2_20190412_042832_040<br>Magnitude: -2.73",
            "File: HFTS2_20190412_042833_040<br>Magnitude: -2.65",
            "File: HFTS2_20190412_042835_040<br>Magnitude: -2.65",
            "File: HFTS2_20190412_043437_040<br>Magnitude: -2.56",
            "File: HFTS2_20190412_043802_040<br>Magnitude: -2.35",
            "File: HFTS2_20190412_043803_040<br>Magnitude: -2.22",
            "File: HFTS2_20190412_044156_040<br>Magnitude: -2.03",
            "File: HFTS2_20190412_044403_040<br>Magnitude: -2.39",
            "File: HFTS2_20190412_044404_040<br>Magnitude: -2.10",
            "File: HFTS2_20190412_044435_040_Merged<br>Magnitude: -2.47",
            "File: HFTS2_20190412_044506_040<br>Magnitude: -2.32",
            "File: HFTS2_20190412_044516_040<br>Magnitude: -1.97",
            "File: HFTS2_20190412_044521_040<br>Magnitude: -2.07",
            "File: HFTS2_20190412_044522_040<br>Magnitude: -2.47",
            "File: HFTS2_20190412_044526_040<br>Magnitude: -2.74",
            "File: HFTS2_20190412_044540_040<br>Magnitude: -2.21",
            "File: HFTS2_20190412_044542_040<br>Magnitude: -2.56",
            "File: HFTS2_20190412_044543_040<br>Magnitude: -2.36",
            "File: HFTS2_20190412_044544_040<br>Magnitude: -2.59",
            "File: HFTS2_20190412_044545_040<br>Magnitude: -2.60",
            "File: HFTS2_20190412_044605_040<br>Magnitude: -2.71",
            "File: HFTS2_20190412_044619_040<br>Magnitude: -2.54",
            "File: HFTS2_20190412_044620_040<br>Magnitude: -1.81",
            "File: HFTS2_20190412_044623_040<br>Magnitude: -2.21",
            "File: HFTS2_20190412_044643_040<br>Magnitude: -2.30",
            "File: HFTS2_20190412_044647_040<br>Magnitude: -2.42",
            "File: HFTS2_20190412_044651_040<br>Magnitude: -2.46",
            "File: HFTS2_20190412_044659_040_Merged<br>Magnitude: -1.62",
            "File: HFTS2_20190412_044707_040<br>Magnitude: -2.09",
            "File: HFTS2_20190412_044731_040<br>Magnitude: -2.70",
            "File: HFTS2_20190412_044737_040<br>Magnitude: -2.41",
            "File: HFTS2_20190412_044741_040<br>Magnitude: -2.63",
            "File: HFTS2_20190412_044757_040<br>Magnitude: -2.12",
            "File: HFTS2_20190412_044759_040<br>Magnitude: -2.07",
            "File: HFTS2_20190412_044800_040<br>Magnitude: -2.53",
            "File: HFTS2_20190412_044803_040<br>Magnitude: -2.61",
            "File: HFTS2_20190412_044816_040<br>Magnitude: -2.12",
            "File: HFTS2_20190412_044822_040<br>Magnitude: -2.06",
            "File: HFTS2_20190412_044824_040<br>Magnitude: -2.02",
            "File: HFTS2_20190412_044829_040<br>Magnitude: -1.79",
            "File: HFTS2_20190412_044833_040<br>Magnitude: -2.29",
            "File: HFTS2_20190412_044841_040<br>Magnitude: -2.80",
            "File: HFTS2_20190412_044842_040<br>Magnitude: -2.24",
            "File: HFTS2_20190412_044903_040<br>Magnitude: -2.53",
            "File: HFTS2_20190412_044914_040<br>Magnitude: -2.58",
            "File: HFTS2_20190412_044945_040<br>Magnitude: -2.34",
            "File: HFTS2_20190412_044957_040<br>Magnitude: -2.58",
            "File: HFTS2_20190412_045027_040<br>Magnitude: -2.54",
            "File: HFTS2_20190412_045029_040<br>Magnitude: -2.63",
            "File: HFTS2_20190412_045035_040<br>Magnitude: -2.49",
            "File: HFTS2_20190412_045126_040<br>Magnitude: -2.40",
            "File: HFTS2_20190412_045127_040<br>Magnitude: -2.66",
            "File: HFTS2_20190412_045157_040<br>Magnitude: -2.08",
            "File: HFTS2_20190412_045254_040<br>Magnitude: -2.98",
            "File: HFTS2_20190412_045333_040<br>Magnitude: -2.15",
            "File: HFTS2_20190412_045344_040<br>Magnitude: -2.72",
            "File: HFTS2_20190412_045434_040<br>Magnitude: -2.50",
            "File: HFTS2_20190412_045451_040<br>Magnitude: -2.17",
            "File: HFTS2_20190412_045457_040<br>Magnitude: -2.51",
            "File: HFTS2_20190412_045523_040<br>Magnitude: -2.33",
            "File: HFTS2_20190412_045526_040<br>Magnitude: -2.80",
            "File: HFTS2_20190412_045528_040<br>Magnitude: -2.65",
            "File: HFTS2_20190412_045530_040<br>Magnitude: -2.49",
            "File: HFTS2_20190412_045535_040<br>Magnitude: -2.52",
            "File: HFTS2_20190412_045537_040<br>Magnitude: -2.76",
            "File: HFTS2_20190412_045550_040<br>Magnitude: -2.54",
            "File: HFTS2_20190412_045558_040<br>Magnitude: -2.77",
            "File: HFTS2_20190412_045602_040<br>Magnitude: -2.00",
            "File: HFTS2_20190412_045604_040<br>Magnitude: -2.78",
            "File: HFTS2_20190412_045608_040<br>Magnitude: -2.12",
            "File: HFTS2_20190412_045611_040<br>Magnitude: -2.60",
            "File: HFTS2_20190412_045620_040<br>Magnitude: -2.31",
            "File: HFTS2_20190412_045630_040<br>Magnitude: -2.65",
            "File: HFTS2_20190412_045644_040<br>Magnitude: -2.50",
            "File: HFTS2_20190412_045716_040<br>Magnitude: -2.37",
            "File: HFTS2_20190412_045727_040<br>Magnitude: -2.57",
            "File: HFTS2_20190412_045809_040<br>Magnitude: -2.58",
            "File: HFTS2_20190412_045818_040<br>Magnitude: -2.67",
            "File: HFTS2_20190412_045840_040<br>Magnitude: -2.77",
            "File: HFTS2_20190412_045938_040<br>Magnitude: -2.77",
            "File: HFTS2_20190412_045943_040<br>Magnitude: -2.39",
            "File: HFTS2_20190412_045952_040<br>Magnitude: -2.52",
            "File: HFTS2_20190412_050004_040<br>Magnitude: -2.35",
            "File: HFTS2_20190412_050011_040<br>Magnitude: -2.47",
            "File: HFTS2_20190412_050036_040<br>Magnitude: -2.61",
            "File: HFTS2_20190412_050053_040<br>Magnitude: -2.92",
            "File: HFTS2_20190412_050100_040<br>Magnitude: -2.58",
            "File: HFTS2_20190412_050127_040<br>Magnitude: -2.58",
            "File: HFTS2_20190412_050128_040<br>Magnitude: -2.57",
            "File: HFTS2_20190412_050133_040<br>Magnitude: -2.77",
            "File: HFTS2_20190412_050147_040<br>Magnitude: -2.71",
            "File: HFTS2_20190412_050202_040<br>Magnitude: -2.88",
            "File: HFTS2_20190412_050221_040<br>Magnitude: -2.82",
            "File: HFTS2_20190412_050315_040<br>Magnitude: -2.47",
            "File: HFTS2_20190412_050325_040<br>Magnitude: -2.62",
            "File: HFTS2_20190412_050358_040<br>Magnitude: -2.78",
            "File: HFTS2_20190412_050425_040<br>Magnitude: -2.75",
            "File: HFTS2_20190412_050456_040<br>Magnitude: -2.44",
            "File: HFTS2_20190412_050534_040<br>Magnitude: -2.59",
            "File: HFTS2_20190412_050607_040<br>Magnitude: -2.54"
           ],
           "type": "scatter3d",
           "x": [
            954457.5986
           ],
           "y": [
            849251.1984
           ],
           "z": [
            8749.0558
           ]
          }
         ],
         "name": "2019-04-12 04:59:43.131000"
        },
        {
         "data": [
          {
           "marker": {
            "cmax": -1.6189,
            "cmin": -2.9802,
            "color": [
             -2.524
            ],
            "colorscale": [
             [
              0,
              "#440154"
             ],
             [
              0.1111111111111111,
              "#482878"
             ],
             [
              0.2222222222222222,
              "#3e4989"
             ],
             [
              0.3333333333333333,
              "#31688e"
             ],
             [
              0.4444444444444444,
              "#26828e"
             ],
             [
              0.5555555555555556,
              "#1f9e89"
             ],
             [
              0.6666666666666666,
              "#35b779"
             ],
             [
              0.7777777777777778,
              "#6ece58"
             ],
             [
              0.8888888888888888,
              "#b5de2b"
             ],
             [
              1,
              "#fde725"
             ]
            ],
            "size": [
             252.4
            ],
            "sizemode": "diameter",
            "sizeref": 25
           },
           "mode": "markers",
           "text": [
            "File: HFTS2_20190412_042831_040<br>Magnitude: -2.77",
            "File: HFTS2_20190412_042832_040<br>Magnitude: -2.73",
            "File: HFTS2_20190412_042833_040<br>Magnitude: -2.65",
            "File: HFTS2_20190412_042835_040<br>Magnitude: -2.65",
            "File: HFTS2_20190412_043437_040<br>Magnitude: -2.56",
            "File: HFTS2_20190412_043802_040<br>Magnitude: -2.35",
            "File: HFTS2_20190412_043803_040<br>Magnitude: -2.22",
            "File: HFTS2_20190412_044156_040<br>Magnitude: -2.03",
            "File: HFTS2_20190412_044403_040<br>Magnitude: -2.39",
            "File: HFTS2_20190412_044404_040<br>Magnitude: -2.10",
            "File: HFTS2_20190412_044435_040_Merged<br>Magnitude: -2.47",
            "File: HFTS2_20190412_044506_040<br>Magnitude: -2.32",
            "File: HFTS2_20190412_044516_040<br>Magnitude: -1.97",
            "File: HFTS2_20190412_044521_040<br>Magnitude: -2.07",
            "File: HFTS2_20190412_044522_040<br>Magnitude: -2.47",
            "File: HFTS2_20190412_044526_040<br>Magnitude: -2.74",
            "File: HFTS2_20190412_044540_040<br>Magnitude: -2.21",
            "File: HFTS2_20190412_044542_040<br>Magnitude: -2.56",
            "File: HFTS2_20190412_044543_040<br>Magnitude: -2.36",
            "File: HFTS2_20190412_044544_040<br>Magnitude: -2.59",
            "File: HFTS2_20190412_044545_040<br>Magnitude: -2.60",
            "File: HFTS2_20190412_044605_040<br>Magnitude: -2.71",
            "File: HFTS2_20190412_044619_040<br>Magnitude: -2.54",
            "File: HFTS2_20190412_044620_040<br>Magnitude: -1.81",
            "File: HFTS2_20190412_044623_040<br>Magnitude: -2.21",
            "File: HFTS2_20190412_044643_040<br>Magnitude: -2.30",
            "File: HFTS2_20190412_044647_040<br>Magnitude: -2.42",
            "File: HFTS2_20190412_044651_040<br>Magnitude: -2.46",
            "File: HFTS2_20190412_044659_040_Merged<br>Magnitude: -1.62",
            "File: HFTS2_20190412_044707_040<br>Magnitude: -2.09",
            "File: HFTS2_20190412_044731_040<br>Magnitude: -2.70",
            "File: HFTS2_20190412_044737_040<br>Magnitude: -2.41",
            "File: HFTS2_20190412_044741_040<br>Magnitude: -2.63",
            "File: HFTS2_20190412_044757_040<br>Magnitude: -2.12",
            "File: HFTS2_20190412_044759_040<br>Magnitude: -2.07",
            "File: HFTS2_20190412_044800_040<br>Magnitude: -2.53",
            "File: HFTS2_20190412_044803_040<br>Magnitude: -2.61",
            "File: HFTS2_20190412_044816_040<br>Magnitude: -2.12",
            "File: HFTS2_20190412_044822_040<br>Magnitude: -2.06",
            "File: HFTS2_20190412_044824_040<br>Magnitude: -2.02",
            "File: HFTS2_20190412_044829_040<br>Magnitude: -1.79",
            "File: HFTS2_20190412_044833_040<br>Magnitude: -2.29",
            "File: HFTS2_20190412_044841_040<br>Magnitude: -2.80",
            "File: HFTS2_20190412_044842_040<br>Magnitude: -2.24",
            "File: HFTS2_20190412_044903_040<br>Magnitude: -2.53",
            "File: HFTS2_20190412_044914_040<br>Magnitude: -2.58",
            "File: HFTS2_20190412_044945_040<br>Magnitude: -2.34",
            "File: HFTS2_20190412_044957_040<br>Magnitude: -2.58",
            "File: HFTS2_20190412_045027_040<br>Magnitude: -2.54",
            "File: HFTS2_20190412_045029_040<br>Magnitude: -2.63",
            "File: HFTS2_20190412_045035_040<br>Magnitude: -2.49",
            "File: HFTS2_20190412_045126_040<br>Magnitude: -2.40",
            "File: HFTS2_20190412_045127_040<br>Magnitude: -2.66",
            "File: HFTS2_20190412_045157_040<br>Magnitude: -2.08",
            "File: HFTS2_20190412_045254_040<br>Magnitude: -2.98",
            "File: HFTS2_20190412_045333_040<br>Magnitude: -2.15",
            "File: HFTS2_20190412_045344_040<br>Magnitude: -2.72",
            "File: HFTS2_20190412_045434_040<br>Magnitude: -2.50",
            "File: HFTS2_20190412_045451_040<br>Magnitude: -2.17",
            "File: HFTS2_20190412_045457_040<br>Magnitude: -2.51",
            "File: HFTS2_20190412_045523_040<br>Magnitude: -2.33",
            "File: HFTS2_20190412_045526_040<br>Magnitude: -2.80",
            "File: HFTS2_20190412_045528_040<br>Magnitude: -2.65",
            "File: HFTS2_20190412_045530_040<br>Magnitude: -2.49",
            "File: HFTS2_20190412_045535_040<br>Magnitude: -2.52",
            "File: HFTS2_20190412_045537_040<br>Magnitude: -2.76",
            "File: HFTS2_20190412_045550_040<br>Magnitude: -2.54",
            "File: HFTS2_20190412_045558_040<br>Magnitude: -2.77",
            "File: HFTS2_20190412_045602_040<br>Magnitude: -2.00",
            "File: HFTS2_20190412_045604_040<br>Magnitude: -2.78",
            "File: HFTS2_20190412_045608_040<br>Magnitude: -2.12",
            "File: HFTS2_20190412_045611_040<br>Magnitude: -2.60",
            "File: HFTS2_20190412_045620_040<br>Magnitude: -2.31",
            "File: HFTS2_20190412_045630_040<br>Magnitude: -2.65",
            "File: HFTS2_20190412_045644_040<br>Magnitude: -2.50",
            "File: HFTS2_20190412_045716_040<br>Magnitude: -2.37",
            "File: HFTS2_20190412_045727_040<br>Magnitude: -2.57",
            "File: HFTS2_20190412_045809_040<br>Magnitude: -2.58",
            "File: HFTS2_20190412_045818_040<br>Magnitude: -2.67",
            "File: HFTS2_20190412_045840_040<br>Magnitude: -2.77",
            "File: HFTS2_20190412_045938_040<br>Magnitude: -2.77",
            "File: HFTS2_20190412_045943_040<br>Magnitude: -2.39",
            "File: HFTS2_20190412_045952_040<br>Magnitude: -2.52",
            "File: HFTS2_20190412_050004_040<br>Magnitude: -2.35",
            "File: HFTS2_20190412_050011_040<br>Magnitude: -2.47",
            "File: HFTS2_20190412_050036_040<br>Magnitude: -2.61",
            "File: HFTS2_20190412_050053_040<br>Magnitude: -2.92",
            "File: HFTS2_20190412_050100_040<br>Magnitude: -2.58",
            "File: HFTS2_20190412_050127_040<br>Magnitude: -2.58",
            "File: HFTS2_20190412_050128_040<br>Magnitude: -2.57",
            "File: HFTS2_20190412_050133_040<br>Magnitude: -2.77",
            "File: HFTS2_20190412_050147_040<br>Magnitude: -2.71",
            "File: HFTS2_20190412_050202_040<br>Magnitude: -2.88",
            "File: HFTS2_20190412_050221_040<br>Magnitude: -2.82",
            "File: HFTS2_20190412_050315_040<br>Magnitude: -2.47",
            "File: HFTS2_20190412_050325_040<br>Magnitude: -2.62",
            "File: HFTS2_20190412_050358_040<br>Magnitude: -2.78",
            "File: HFTS2_20190412_050425_040<br>Magnitude: -2.75",
            "File: HFTS2_20190412_050456_040<br>Magnitude: -2.44",
            "File: HFTS2_20190412_050534_040<br>Magnitude: -2.59",
            "File: HFTS2_20190412_050607_040<br>Magnitude: -2.54"
           ],
           "type": "scatter3d",
           "x": [
            955333.4831
           ],
           "y": [
            849335.6312
           ],
           "z": [
            8448.4732
           ]
          }
         ],
         "name": "2019-04-12 04:59:52.228000"
        },
        {
         "data": [
          {
           "marker": {
            "cmax": -1.6189,
            "cmin": -2.9802,
            "color": [
             -2.3499
            ],
            "colorscale": [
             [
              0,
              "#440154"
             ],
             [
              0.1111111111111111,
              "#482878"
             ],
             [
              0.2222222222222222,
              "#3e4989"
             ],
             [
              0.3333333333333333,
              "#31688e"
             ],
             [
              0.4444444444444444,
              "#26828e"
             ],
             [
              0.5555555555555556,
              "#1f9e89"
             ],
             [
              0.6666666666666666,
              "#35b779"
             ],
             [
              0.7777777777777778,
              "#6ece58"
             ],
             [
              0.8888888888888888,
              "#b5de2b"
             ],
             [
              1,
              "#fde725"
             ]
            ],
            "size": [
             234.98999999999998
            ],
            "sizemode": "diameter",
            "sizeref": 25
           },
           "mode": "markers",
           "text": [
            "File: HFTS2_20190412_042831_040<br>Magnitude: -2.77",
            "File: HFTS2_20190412_042832_040<br>Magnitude: -2.73",
            "File: HFTS2_20190412_042833_040<br>Magnitude: -2.65",
            "File: HFTS2_20190412_042835_040<br>Magnitude: -2.65",
            "File: HFTS2_20190412_043437_040<br>Magnitude: -2.56",
            "File: HFTS2_20190412_043802_040<br>Magnitude: -2.35",
            "File: HFTS2_20190412_043803_040<br>Magnitude: -2.22",
            "File: HFTS2_20190412_044156_040<br>Magnitude: -2.03",
            "File: HFTS2_20190412_044403_040<br>Magnitude: -2.39",
            "File: HFTS2_20190412_044404_040<br>Magnitude: -2.10",
            "File: HFTS2_20190412_044435_040_Merged<br>Magnitude: -2.47",
            "File: HFTS2_20190412_044506_040<br>Magnitude: -2.32",
            "File: HFTS2_20190412_044516_040<br>Magnitude: -1.97",
            "File: HFTS2_20190412_044521_040<br>Magnitude: -2.07",
            "File: HFTS2_20190412_044522_040<br>Magnitude: -2.47",
            "File: HFTS2_20190412_044526_040<br>Magnitude: -2.74",
            "File: HFTS2_20190412_044540_040<br>Magnitude: -2.21",
            "File: HFTS2_20190412_044542_040<br>Magnitude: -2.56",
            "File: HFTS2_20190412_044543_040<br>Magnitude: -2.36",
            "File: HFTS2_20190412_044544_040<br>Magnitude: -2.59",
            "File: HFTS2_20190412_044545_040<br>Magnitude: -2.60",
            "File: HFTS2_20190412_044605_040<br>Magnitude: -2.71",
            "File: HFTS2_20190412_044619_040<br>Magnitude: -2.54",
            "File: HFTS2_20190412_044620_040<br>Magnitude: -1.81",
            "File: HFTS2_20190412_044623_040<br>Magnitude: -2.21",
            "File: HFTS2_20190412_044643_040<br>Magnitude: -2.30",
            "File: HFTS2_20190412_044647_040<br>Magnitude: -2.42",
            "File: HFTS2_20190412_044651_040<br>Magnitude: -2.46",
            "File: HFTS2_20190412_044659_040_Merged<br>Magnitude: -1.62",
            "File: HFTS2_20190412_044707_040<br>Magnitude: -2.09",
            "File: HFTS2_20190412_044731_040<br>Magnitude: -2.70",
            "File: HFTS2_20190412_044737_040<br>Magnitude: -2.41",
            "File: HFTS2_20190412_044741_040<br>Magnitude: -2.63",
            "File: HFTS2_20190412_044757_040<br>Magnitude: -2.12",
            "File: HFTS2_20190412_044759_040<br>Magnitude: -2.07",
            "File: HFTS2_20190412_044800_040<br>Magnitude: -2.53",
            "File: HFTS2_20190412_044803_040<br>Magnitude: -2.61",
            "File: HFTS2_20190412_044816_040<br>Magnitude: -2.12",
            "File: HFTS2_20190412_044822_040<br>Magnitude: -2.06",
            "File: HFTS2_20190412_044824_040<br>Magnitude: -2.02",
            "File: HFTS2_20190412_044829_040<br>Magnitude: -1.79",
            "File: HFTS2_20190412_044833_040<br>Magnitude: -2.29",
            "File: HFTS2_20190412_044841_040<br>Magnitude: -2.80",
            "File: HFTS2_20190412_044842_040<br>Magnitude: -2.24",
            "File: HFTS2_20190412_044903_040<br>Magnitude: -2.53",
            "File: HFTS2_20190412_044914_040<br>Magnitude: -2.58",
            "File: HFTS2_20190412_044945_040<br>Magnitude: -2.34",
            "File: HFTS2_20190412_044957_040<br>Magnitude: -2.58",
            "File: HFTS2_20190412_045027_040<br>Magnitude: -2.54",
            "File: HFTS2_20190412_045029_040<br>Magnitude: -2.63",
            "File: HFTS2_20190412_045035_040<br>Magnitude: -2.49",
            "File: HFTS2_20190412_045126_040<br>Magnitude: -2.40",
            "File: HFTS2_20190412_045127_040<br>Magnitude: -2.66",
            "File: HFTS2_20190412_045157_040<br>Magnitude: -2.08",
            "File: HFTS2_20190412_045254_040<br>Magnitude: -2.98",
            "File: HFTS2_20190412_045333_040<br>Magnitude: -2.15",
            "File: HFTS2_20190412_045344_040<br>Magnitude: -2.72",
            "File: HFTS2_20190412_045434_040<br>Magnitude: -2.50",
            "File: HFTS2_20190412_045451_040<br>Magnitude: -2.17",
            "File: HFTS2_20190412_045457_040<br>Magnitude: -2.51",
            "File: HFTS2_20190412_045523_040<br>Magnitude: -2.33",
            "File: HFTS2_20190412_045526_040<br>Magnitude: -2.80",
            "File: HFTS2_20190412_045528_040<br>Magnitude: -2.65",
            "File: HFTS2_20190412_045530_040<br>Magnitude: -2.49",
            "File: HFTS2_20190412_045535_040<br>Magnitude: -2.52",
            "File: HFTS2_20190412_045537_040<br>Magnitude: -2.76",
            "File: HFTS2_20190412_045550_040<br>Magnitude: -2.54",
            "File: HFTS2_20190412_045558_040<br>Magnitude: -2.77",
            "File: HFTS2_20190412_045602_040<br>Magnitude: -2.00",
            "File: HFTS2_20190412_045604_040<br>Magnitude: -2.78",
            "File: HFTS2_20190412_045608_040<br>Magnitude: -2.12",
            "File: HFTS2_20190412_045611_040<br>Magnitude: -2.60",
            "File: HFTS2_20190412_045620_040<br>Magnitude: -2.31",
            "File: HFTS2_20190412_045630_040<br>Magnitude: -2.65",
            "File: HFTS2_20190412_045644_040<br>Magnitude: -2.50",
            "File: HFTS2_20190412_045716_040<br>Magnitude: -2.37",
            "File: HFTS2_20190412_045727_040<br>Magnitude: -2.57",
            "File: HFTS2_20190412_045809_040<br>Magnitude: -2.58",
            "File: HFTS2_20190412_045818_040<br>Magnitude: -2.67",
            "File: HFTS2_20190412_045840_040<br>Magnitude: -2.77",
            "File: HFTS2_20190412_045938_040<br>Magnitude: -2.77",
            "File: HFTS2_20190412_045943_040<br>Magnitude: -2.39",
            "File: HFTS2_20190412_045952_040<br>Magnitude: -2.52",
            "File: HFTS2_20190412_050004_040<br>Magnitude: -2.35",
            "File: HFTS2_20190412_050011_040<br>Magnitude: -2.47",
            "File: HFTS2_20190412_050036_040<br>Magnitude: -2.61",
            "File: HFTS2_20190412_050053_040<br>Magnitude: -2.92",
            "File: HFTS2_20190412_050100_040<br>Magnitude: -2.58",
            "File: HFTS2_20190412_050127_040<br>Magnitude: -2.58",
            "File: HFTS2_20190412_050128_040<br>Magnitude: -2.57",
            "File: HFTS2_20190412_050133_040<br>Magnitude: -2.77",
            "File: HFTS2_20190412_050147_040<br>Magnitude: -2.71",
            "File: HFTS2_20190412_050202_040<br>Magnitude: -2.88",
            "File: HFTS2_20190412_050221_040<br>Magnitude: -2.82",
            "File: HFTS2_20190412_050315_040<br>Magnitude: -2.47",
            "File: HFTS2_20190412_050325_040<br>Magnitude: -2.62",
            "File: HFTS2_20190412_050358_040<br>Magnitude: -2.78",
            "File: HFTS2_20190412_050425_040<br>Magnitude: -2.75",
            "File: HFTS2_20190412_050456_040<br>Magnitude: -2.44",
            "File: HFTS2_20190412_050534_040<br>Magnitude: -2.59",
            "File: HFTS2_20190412_050607_040<br>Magnitude: -2.54"
           ],
           "type": "scatter3d",
           "x": [
            954572.8094
           ],
           "y": [
            849189.8236
           ],
           "z": [
            8140.3504
           ]
          }
         ],
         "name": "2019-04-12 05:00:04.865000"
        },
        {
         "data": [
          {
           "marker": {
            "cmax": -1.6189,
            "cmin": -2.9802,
            "color": [
             -2.4742
            ],
            "colorscale": [
             [
              0,
              "#440154"
             ],
             [
              0.1111111111111111,
              "#482878"
             ],
             [
              0.2222222222222222,
              "#3e4989"
             ],
             [
              0.3333333333333333,
              "#31688e"
             ],
             [
              0.4444444444444444,
              "#26828e"
             ],
             [
              0.5555555555555556,
              "#1f9e89"
             ],
             [
              0.6666666666666666,
              "#35b779"
             ],
             [
              0.7777777777777778,
              "#6ece58"
             ],
             [
              0.8888888888888888,
              "#b5de2b"
             ],
             [
              1,
              "#fde725"
             ]
            ],
            "size": [
             247.42000000000002
            ],
            "sizemode": "diameter",
            "sizeref": 25
           },
           "mode": "markers",
           "text": [
            "File: HFTS2_20190412_042831_040<br>Magnitude: -2.77",
            "File: HFTS2_20190412_042832_040<br>Magnitude: -2.73",
            "File: HFTS2_20190412_042833_040<br>Magnitude: -2.65",
            "File: HFTS2_20190412_042835_040<br>Magnitude: -2.65",
            "File: HFTS2_20190412_043437_040<br>Magnitude: -2.56",
            "File: HFTS2_20190412_043802_040<br>Magnitude: -2.35",
            "File: HFTS2_20190412_043803_040<br>Magnitude: -2.22",
            "File: HFTS2_20190412_044156_040<br>Magnitude: -2.03",
            "File: HFTS2_20190412_044403_040<br>Magnitude: -2.39",
            "File: HFTS2_20190412_044404_040<br>Magnitude: -2.10",
            "File: HFTS2_20190412_044435_040_Merged<br>Magnitude: -2.47",
            "File: HFTS2_20190412_044506_040<br>Magnitude: -2.32",
            "File: HFTS2_20190412_044516_040<br>Magnitude: -1.97",
            "File: HFTS2_20190412_044521_040<br>Magnitude: -2.07",
            "File: HFTS2_20190412_044522_040<br>Magnitude: -2.47",
            "File: HFTS2_20190412_044526_040<br>Magnitude: -2.74",
            "File: HFTS2_20190412_044540_040<br>Magnitude: -2.21",
            "File: HFTS2_20190412_044542_040<br>Magnitude: -2.56",
            "File: HFTS2_20190412_044543_040<br>Magnitude: -2.36",
            "File: HFTS2_20190412_044544_040<br>Magnitude: -2.59",
            "File: HFTS2_20190412_044545_040<br>Magnitude: -2.60",
            "File: HFTS2_20190412_044605_040<br>Magnitude: -2.71",
            "File: HFTS2_20190412_044619_040<br>Magnitude: -2.54",
            "File: HFTS2_20190412_044620_040<br>Magnitude: -1.81",
            "File: HFTS2_20190412_044623_040<br>Magnitude: -2.21",
            "File: HFTS2_20190412_044643_040<br>Magnitude: -2.30",
            "File: HFTS2_20190412_044647_040<br>Magnitude: -2.42",
            "File: HFTS2_20190412_044651_040<br>Magnitude: -2.46",
            "File: HFTS2_20190412_044659_040_Merged<br>Magnitude: -1.62",
            "File: HFTS2_20190412_044707_040<br>Magnitude: -2.09",
            "File: HFTS2_20190412_044731_040<br>Magnitude: -2.70",
            "File: HFTS2_20190412_044737_040<br>Magnitude: -2.41",
            "File: HFTS2_20190412_044741_040<br>Magnitude: -2.63",
            "File: HFTS2_20190412_044757_040<br>Magnitude: -2.12",
            "File: HFTS2_20190412_044759_040<br>Magnitude: -2.07",
            "File: HFTS2_20190412_044800_040<br>Magnitude: -2.53",
            "File: HFTS2_20190412_044803_040<br>Magnitude: -2.61",
            "File: HFTS2_20190412_044816_040<br>Magnitude: -2.12",
            "File: HFTS2_20190412_044822_040<br>Magnitude: -2.06",
            "File: HFTS2_20190412_044824_040<br>Magnitude: -2.02",
            "File: HFTS2_20190412_044829_040<br>Magnitude: -1.79",
            "File: HFTS2_20190412_044833_040<br>Magnitude: -2.29",
            "File: HFTS2_20190412_044841_040<br>Magnitude: -2.80",
            "File: HFTS2_20190412_044842_040<br>Magnitude: -2.24",
            "File: HFTS2_20190412_044903_040<br>Magnitude: -2.53",
            "File: HFTS2_20190412_044914_040<br>Magnitude: -2.58",
            "File: HFTS2_20190412_044945_040<br>Magnitude: -2.34",
            "File: HFTS2_20190412_044957_040<br>Magnitude: -2.58",
            "File: HFTS2_20190412_045027_040<br>Magnitude: -2.54",
            "File: HFTS2_20190412_045029_040<br>Magnitude: -2.63",
            "File: HFTS2_20190412_045035_040<br>Magnitude: -2.49",
            "File: HFTS2_20190412_045126_040<br>Magnitude: -2.40",
            "File: HFTS2_20190412_045127_040<br>Magnitude: -2.66",
            "File: HFTS2_20190412_045157_040<br>Magnitude: -2.08",
            "File: HFTS2_20190412_045254_040<br>Magnitude: -2.98",
            "File: HFTS2_20190412_045333_040<br>Magnitude: -2.15",
            "File: HFTS2_20190412_045344_040<br>Magnitude: -2.72",
            "File: HFTS2_20190412_045434_040<br>Magnitude: -2.50",
            "File: HFTS2_20190412_045451_040<br>Magnitude: -2.17",
            "File: HFTS2_20190412_045457_040<br>Magnitude: -2.51",
            "File: HFTS2_20190412_045523_040<br>Magnitude: -2.33",
            "File: HFTS2_20190412_045526_040<br>Magnitude: -2.80",
            "File: HFTS2_20190412_045528_040<br>Magnitude: -2.65",
            "File: HFTS2_20190412_045530_040<br>Magnitude: -2.49",
            "File: HFTS2_20190412_045535_040<br>Magnitude: -2.52",
            "File: HFTS2_20190412_045537_040<br>Magnitude: -2.76",
            "File: HFTS2_20190412_045550_040<br>Magnitude: -2.54",
            "File: HFTS2_20190412_045558_040<br>Magnitude: -2.77",
            "File: HFTS2_20190412_045602_040<br>Magnitude: -2.00",
            "File: HFTS2_20190412_045604_040<br>Magnitude: -2.78",
            "File: HFTS2_20190412_045608_040<br>Magnitude: -2.12",
            "File: HFTS2_20190412_045611_040<br>Magnitude: -2.60",
            "File: HFTS2_20190412_045620_040<br>Magnitude: -2.31",
            "File: HFTS2_20190412_045630_040<br>Magnitude: -2.65",
            "File: HFTS2_20190412_045644_040<br>Magnitude: -2.50",
            "File: HFTS2_20190412_045716_040<br>Magnitude: -2.37",
            "File: HFTS2_20190412_045727_040<br>Magnitude: -2.57",
            "File: HFTS2_20190412_045809_040<br>Magnitude: -2.58",
            "File: HFTS2_20190412_045818_040<br>Magnitude: -2.67",
            "File: HFTS2_20190412_045840_040<br>Magnitude: -2.77",
            "File: HFTS2_20190412_045938_040<br>Magnitude: -2.77",
            "File: HFTS2_20190412_045943_040<br>Magnitude: -2.39",
            "File: HFTS2_20190412_045952_040<br>Magnitude: -2.52",
            "File: HFTS2_20190412_050004_040<br>Magnitude: -2.35",
            "File: HFTS2_20190412_050011_040<br>Magnitude: -2.47",
            "File: HFTS2_20190412_050036_040<br>Magnitude: -2.61",
            "File: HFTS2_20190412_050053_040<br>Magnitude: -2.92",
            "File: HFTS2_20190412_050100_040<br>Magnitude: -2.58",
            "File: HFTS2_20190412_050127_040<br>Magnitude: -2.58",
            "File: HFTS2_20190412_050128_040<br>Magnitude: -2.57",
            "File: HFTS2_20190412_050133_040<br>Magnitude: -2.77",
            "File: HFTS2_20190412_050147_040<br>Magnitude: -2.71",
            "File: HFTS2_20190412_050202_040<br>Magnitude: -2.88",
            "File: HFTS2_20190412_050221_040<br>Magnitude: -2.82",
            "File: HFTS2_20190412_050315_040<br>Magnitude: -2.47",
            "File: HFTS2_20190412_050325_040<br>Magnitude: -2.62",
            "File: HFTS2_20190412_050358_040<br>Magnitude: -2.78",
            "File: HFTS2_20190412_050425_040<br>Magnitude: -2.75",
            "File: HFTS2_20190412_050456_040<br>Magnitude: -2.44",
            "File: HFTS2_20190412_050534_040<br>Magnitude: -2.59",
            "File: HFTS2_20190412_050607_040<br>Magnitude: -2.54"
           ],
           "type": "scatter3d",
           "x": [
            955390.3217
           ],
           "y": [
            849190.6783
           ],
           "z": [
            8785.5943
           ]
          }
         ],
         "name": "2019-04-12 05:00:11.613000"
        },
        {
         "data": [
          {
           "marker": {
            "cmax": -1.6189,
            "cmin": -2.9802,
            "color": [
             -2.6142
            ],
            "colorscale": [
             [
              0,
              "#440154"
             ],
             [
              0.1111111111111111,
              "#482878"
             ],
             [
              0.2222222222222222,
              "#3e4989"
             ],
             [
              0.3333333333333333,
              "#31688e"
             ],
             [
              0.4444444444444444,
              "#26828e"
             ],
             [
              0.5555555555555556,
              "#1f9e89"
             ],
             [
              0.6666666666666666,
              "#35b779"
             ],
             [
              0.7777777777777778,
              "#6ece58"
             ],
             [
              0.8888888888888888,
              "#b5de2b"
             ],
             [
              1,
              "#fde725"
             ]
            ],
            "size": [
             261.41999999999996
            ],
            "sizemode": "diameter",
            "sizeref": 25
           },
           "mode": "markers",
           "text": [
            "File: HFTS2_20190412_042831_040<br>Magnitude: -2.77",
            "File: HFTS2_20190412_042832_040<br>Magnitude: -2.73",
            "File: HFTS2_20190412_042833_040<br>Magnitude: -2.65",
            "File: HFTS2_20190412_042835_040<br>Magnitude: -2.65",
            "File: HFTS2_20190412_043437_040<br>Magnitude: -2.56",
            "File: HFTS2_20190412_043802_040<br>Magnitude: -2.35",
            "File: HFTS2_20190412_043803_040<br>Magnitude: -2.22",
            "File: HFTS2_20190412_044156_040<br>Magnitude: -2.03",
            "File: HFTS2_20190412_044403_040<br>Magnitude: -2.39",
            "File: HFTS2_20190412_044404_040<br>Magnitude: -2.10",
            "File: HFTS2_20190412_044435_040_Merged<br>Magnitude: -2.47",
            "File: HFTS2_20190412_044506_040<br>Magnitude: -2.32",
            "File: HFTS2_20190412_044516_040<br>Magnitude: -1.97",
            "File: HFTS2_20190412_044521_040<br>Magnitude: -2.07",
            "File: HFTS2_20190412_044522_040<br>Magnitude: -2.47",
            "File: HFTS2_20190412_044526_040<br>Magnitude: -2.74",
            "File: HFTS2_20190412_044540_040<br>Magnitude: -2.21",
            "File: HFTS2_20190412_044542_040<br>Magnitude: -2.56",
            "File: HFTS2_20190412_044543_040<br>Magnitude: -2.36",
            "File: HFTS2_20190412_044544_040<br>Magnitude: -2.59",
            "File: HFTS2_20190412_044545_040<br>Magnitude: -2.60",
            "File: HFTS2_20190412_044605_040<br>Magnitude: -2.71",
            "File: HFTS2_20190412_044619_040<br>Magnitude: -2.54",
            "File: HFTS2_20190412_044620_040<br>Magnitude: -1.81",
            "File: HFTS2_20190412_044623_040<br>Magnitude: -2.21",
            "File: HFTS2_20190412_044643_040<br>Magnitude: -2.30",
            "File: HFTS2_20190412_044647_040<br>Magnitude: -2.42",
            "File: HFTS2_20190412_044651_040<br>Magnitude: -2.46",
            "File: HFTS2_20190412_044659_040_Merged<br>Magnitude: -1.62",
            "File: HFTS2_20190412_044707_040<br>Magnitude: -2.09",
            "File: HFTS2_20190412_044731_040<br>Magnitude: -2.70",
            "File: HFTS2_20190412_044737_040<br>Magnitude: -2.41",
            "File: HFTS2_20190412_044741_040<br>Magnitude: -2.63",
            "File: HFTS2_20190412_044757_040<br>Magnitude: -2.12",
            "File: HFTS2_20190412_044759_040<br>Magnitude: -2.07",
            "File: HFTS2_20190412_044800_040<br>Magnitude: -2.53",
            "File: HFTS2_20190412_044803_040<br>Magnitude: -2.61",
            "File: HFTS2_20190412_044816_040<br>Magnitude: -2.12",
            "File: HFTS2_20190412_044822_040<br>Magnitude: -2.06",
            "File: HFTS2_20190412_044824_040<br>Magnitude: -2.02",
            "File: HFTS2_20190412_044829_040<br>Magnitude: -1.79",
            "File: HFTS2_20190412_044833_040<br>Magnitude: -2.29",
            "File: HFTS2_20190412_044841_040<br>Magnitude: -2.80",
            "File: HFTS2_20190412_044842_040<br>Magnitude: -2.24",
            "File: HFTS2_20190412_044903_040<br>Magnitude: -2.53",
            "File: HFTS2_20190412_044914_040<br>Magnitude: -2.58",
            "File: HFTS2_20190412_044945_040<br>Magnitude: -2.34",
            "File: HFTS2_20190412_044957_040<br>Magnitude: -2.58",
            "File: HFTS2_20190412_045027_040<br>Magnitude: -2.54",
            "File: HFTS2_20190412_045029_040<br>Magnitude: -2.63",
            "File: HFTS2_20190412_045035_040<br>Magnitude: -2.49",
            "File: HFTS2_20190412_045126_040<br>Magnitude: -2.40",
            "File: HFTS2_20190412_045127_040<br>Magnitude: -2.66",
            "File: HFTS2_20190412_045157_040<br>Magnitude: -2.08",
            "File: HFTS2_20190412_045254_040<br>Magnitude: -2.98",
            "File: HFTS2_20190412_045333_040<br>Magnitude: -2.15",
            "File: HFTS2_20190412_045344_040<br>Magnitude: -2.72",
            "File: HFTS2_20190412_045434_040<br>Magnitude: -2.50",
            "File: HFTS2_20190412_045451_040<br>Magnitude: -2.17",
            "File: HFTS2_20190412_045457_040<br>Magnitude: -2.51",
            "File: HFTS2_20190412_045523_040<br>Magnitude: -2.33",
            "File: HFTS2_20190412_045526_040<br>Magnitude: -2.80",
            "File: HFTS2_20190412_045528_040<br>Magnitude: -2.65",
            "File: HFTS2_20190412_045530_040<br>Magnitude: -2.49",
            "File: HFTS2_20190412_045535_040<br>Magnitude: -2.52",
            "File: HFTS2_20190412_045537_040<br>Magnitude: -2.76",
            "File: HFTS2_20190412_045550_040<br>Magnitude: -2.54",
            "File: HFTS2_20190412_045558_040<br>Magnitude: -2.77",
            "File: HFTS2_20190412_045602_040<br>Magnitude: -2.00",
            "File: HFTS2_20190412_045604_040<br>Magnitude: -2.78",
            "File: HFTS2_20190412_045608_040<br>Magnitude: -2.12",
            "File: HFTS2_20190412_045611_040<br>Magnitude: -2.60",
            "File: HFTS2_20190412_045620_040<br>Magnitude: -2.31",
            "File: HFTS2_20190412_045630_040<br>Magnitude: -2.65",
            "File: HFTS2_20190412_045644_040<br>Magnitude: -2.50",
            "File: HFTS2_20190412_045716_040<br>Magnitude: -2.37",
            "File: HFTS2_20190412_045727_040<br>Magnitude: -2.57",
            "File: HFTS2_20190412_045809_040<br>Magnitude: -2.58",
            "File: HFTS2_20190412_045818_040<br>Magnitude: -2.67",
            "File: HFTS2_20190412_045840_040<br>Magnitude: -2.77",
            "File: HFTS2_20190412_045938_040<br>Magnitude: -2.77",
            "File: HFTS2_20190412_045943_040<br>Magnitude: -2.39",
            "File: HFTS2_20190412_045952_040<br>Magnitude: -2.52",
            "File: HFTS2_20190412_050004_040<br>Magnitude: -2.35",
            "File: HFTS2_20190412_050011_040<br>Magnitude: -2.47",
            "File: HFTS2_20190412_050036_040<br>Magnitude: -2.61",
            "File: HFTS2_20190412_050053_040<br>Magnitude: -2.92",
            "File: HFTS2_20190412_050100_040<br>Magnitude: -2.58",
            "File: HFTS2_20190412_050127_040<br>Magnitude: -2.58",
            "File: HFTS2_20190412_050128_040<br>Magnitude: -2.57",
            "File: HFTS2_20190412_050133_040<br>Magnitude: -2.77",
            "File: HFTS2_20190412_050147_040<br>Magnitude: -2.71",
            "File: HFTS2_20190412_050202_040<br>Magnitude: -2.88",
            "File: HFTS2_20190412_050221_040<br>Magnitude: -2.82",
            "File: HFTS2_20190412_050315_040<br>Magnitude: -2.47",
            "File: HFTS2_20190412_050325_040<br>Magnitude: -2.62",
            "File: HFTS2_20190412_050358_040<br>Magnitude: -2.78",
            "File: HFTS2_20190412_050425_040<br>Magnitude: -2.75",
            "File: HFTS2_20190412_050456_040<br>Magnitude: -2.44",
            "File: HFTS2_20190412_050534_040<br>Magnitude: -2.59",
            "File: HFTS2_20190412_050607_040<br>Magnitude: -2.54"
           ],
           "type": "scatter3d",
           "x": [
            954227.5472
           ],
           "y": [
            849219.9099
           ],
           "z": [
            8153.3193
           ]
          }
         ],
         "name": "2019-04-12 05:00:36.666000"
        },
        {
         "data": [
          {
           "marker": {
            "cmax": -1.6189,
            "cmin": -2.9802,
            "color": [
             -2.9217
            ],
            "colorscale": [
             [
              0,
              "#440154"
             ],
             [
              0.1111111111111111,
              "#482878"
             ],
             [
              0.2222222222222222,
              "#3e4989"
             ],
             [
              0.3333333333333333,
              "#31688e"
             ],
             [
              0.4444444444444444,
              "#26828e"
             ],
             [
              0.5555555555555556,
              "#1f9e89"
             ],
             [
              0.6666666666666666,
              "#35b779"
             ],
             [
              0.7777777777777778,
              "#6ece58"
             ],
             [
              0.8888888888888888,
              "#b5de2b"
             ],
             [
              1,
              "#fde725"
             ]
            ],
            "size": [
             292.17
            ],
            "sizemode": "diameter",
            "sizeref": 25
           },
           "mode": "markers",
           "text": [
            "File: HFTS2_20190412_042831_040<br>Magnitude: -2.77",
            "File: HFTS2_20190412_042832_040<br>Magnitude: -2.73",
            "File: HFTS2_20190412_042833_040<br>Magnitude: -2.65",
            "File: HFTS2_20190412_042835_040<br>Magnitude: -2.65",
            "File: HFTS2_20190412_043437_040<br>Magnitude: -2.56",
            "File: HFTS2_20190412_043802_040<br>Magnitude: -2.35",
            "File: HFTS2_20190412_043803_040<br>Magnitude: -2.22",
            "File: HFTS2_20190412_044156_040<br>Magnitude: -2.03",
            "File: HFTS2_20190412_044403_040<br>Magnitude: -2.39",
            "File: HFTS2_20190412_044404_040<br>Magnitude: -2.10",
            "File: HFTS2_20190412_044435_040_Merged<br>Magnitude: -2.47",
            "File: HFTS2_20190412_044506_040<br>Magnitude: -2.32",
            "File: HFTS2_20190412_044516_040<br>Magnitude: -1.97",
            "File: HFTS2_20190412_044521_040<br>Magnitude: -2.07",
            "File: HFTS2_20190412_044522_040<br>Magnitude: -2.47",
            "File: HFTS2_20190412_044526_040<br>Magnitude: -2.74",
            "File: HFTS2_20190412_044540_040<br>Magnitude: -2.21",
            "File: HFTS2_20190412_044542_040<br>Magnitude: -2.56",
            "File: HFTS2_20190412_044543_040<br>Magnitude: -2.36",
            "File: HFTS2_20190412_044544_040<br>Magnitude: -2.59",
            "File: HFTS2_20190412_044545_040<br>Magnitude: -2.60",
            "File: HFTS2_20190412_044605_040<br>Magnitude: -2.71",
            "File: HFTS2_20190412_044619_040<br>Magnitude: -2.54",
            "File: HFTS2_20190412_044620_040<br>Magnitude: -1.81",
            "File: HFTS2_20190412_044623_040<br>Magnitude: -2.21",
            "File: HFTS2_20190412_044643_040<br>Magnitude: -2.30",
            "File: HFTS2_20190412_044647_040<br>Magnitude: -2.42",
            "File: HFTS2_20190412_044651_040<br>Magnitude: -2.46",
            "File: HFTS2_20190412_044659_040_Merged<br>Magnitude: -1.62",
            "File: HFTS2_20190412_044707_040<br>Magnitude: -2.09",
            "File: HFTS2_20190412_044731_040<br>Magnitude: -2.70",
            "File: HFTS2_20190412_044737_040<br>Magnitude: -2.41",
            "File: HFTS2_20190412_044741_040<br>Magnitude: -2.63",
            "File: HFTS2_20190412_044757_040<br>Magnitude: -2.12",
            "File: HFTS2_20190412_044759_040<br>Magnitude: -2.07",
            "File: HFTS2_20190412_044800_040<br>Magnitude: -2.53",
            "File: HFTS2_20190412_044803_040<br>Magnitude: -2.61",
            "File: HFTS2_20190412_044816_040<br>Magnitude: -2.12",
            "File: HFTS2_20190412_044822_040<br>Magnitude: -2.06",
            "File: HFTS2_20190412_044824_040<br>Magnitude: -2.02",
            "File: HFTS2_20190412_044829_040<br>Magnitude: -1.79",
            "File: HFTS2_20190412_044833_040<br>Magnitude: -2.29",
            "File: HFTS2_20190412_044841_040<br>Magnitude: -2.80",
            "File: HFTS2_20190412_044842_040<br>Magnitude: -2.24",
            "File: HFTS2_20190412_044903_040<br>Magnitude: -2.53",
            "File: HFTS2_20190412_044914_040<br>Magnitude: -2.58",
            "File: HFTS2_20190412_044945_040<br>Magnitude: -2.34",
            "File: HFTS2_20190412_044957_040<br>Magnitude: -2.58",
            "File: HFTS2_20190412_045027_040<br>Magnitude: -2.54",
            "File: HFTS2_20190412_045029_040<br>Magnitude: -2.63",
            "File: HFTS2_20190412_045035_040<br>Magnitude: -2.49",
            "File: HFTS2_20190412_045126_040<br>Magnitude: -2.40",
            "File: HFTS2_20190412_045127_040<br>Magnitude: -2.66",
            "File: HFTS2_20190412_045157_040<br>Magnitude: -2.08",
            "File: HFTS2_20190412_045254_040<br>Magnitude: -2.98",
            "File: HFTS2_20190412_045333_040<br>Magnitude: -2.15",
            "File: HFTS2_20190412_045344_040<br>Magnitude: -2.72",
            "File: HFTS2_20190412_045434_040<br>Magnitude: -2.50",
            "File: HFTS2_20190412_045451_040<br>Magnitude: -2.17",
            "File: HFTS2_20190412_045457_040<br>Magnitude: -2.51",
            "File: HFTS2_20190412_045523_040<br>Magnitude: -2.33",
            "File: HFTS2_20190412_045526_040<br>Magnitude: -2.80",
            "File: HFTS2_20190412_045528_040<br>Magnitude: -2.65",
            "File: HFTS2_20190412_045530_040<br>Magnitude: -2.49",
            "File: HFTS2_20190412_045535_040<br>Magnitude: -2.52",
            "File: HFTS2_20190412_045537_040<br>Magnitude: -2.76",
            "File: HFTS2_20190412_045550_040<br>Magnitude: -2.54",
            "File: HFTS2_20190412_045558_040<br>Magnitude: -2.77",
            "File: HFTS2_20190412_045602_040<br>Magnitude: -2.00",
            "File: HFTS2_20190412_045604_040<br>Magnitude: -2.78",
            "File: HFTS2_20190412_045608_040<br>Magnitude: -2.12",
            "File: HFTS2_20190412_045611_040<br>Magnitude: -2.60",
            "File: HFTS2_20190412_045620_040<br>Magnitude: -2.31",
            "File: HFTS2_20190412_045630_040<br>Magnitude: -2.65",
            "File: HFTS2_20190412_045644_040<br>Magnitude: -2.50",
            "File: HFTS2_20190412_045716_040<br>Magnitude: -2.37",
            "File: HFTS2_20190412_045727_040<br>Magnitude: -2.57",
            "File: HFTS2_20190412_045809_040<br>Magnitude: -2.58",
            "File: HFTS2_20190412_045818_040<br>Magnitude: -2.67",
            "File: HFTS2_20190412_045840_040<br>Magnitude: -2.77",
            "File: HFTS2_20190412_045938_040<br>Magnitude: -2.77",
            "File: HFTS2_20190412_045943_040<br>Magnitude: -2.39",
            "File: HFTS2_20190412_045952_040<br>Magnitude: -2.52",
            "File: HFTS2_20190412_050004_040<br>Magnitude: -2.35",
            "File: HFTS2_20190412_050011_040<br>Magnitude: -2.47",
            "File: HFTS2_20190412_050036_040<br>Magnitude: -2.61",
            "File: HFTS2_20190412_050053_040<br>Magnitude: -2.92",
            "File: HFTS2_20190412_050100_040<br>Magnitude: -2.58",
            "File: HFTS2_20190412_050127_040<br>Magnitude: -2.58",
            "File: HFTS2_20190412_050128_040<br>Magnitude: -2.57",
            "File: HFTS2_20190412_050133_040<br>Magnitude: -2.77",
            "File: HFTS2_20190412_050147_040<br>Magnitude: -2.71",
            "File: HFTS2_20190412_050202_040<br>Magnitude: -2.88",
            "File: HFTS2_20190412_050221_040<br>Magnitude: -2.82",
            "File: HFTS2_20190412_050315_040<br>Magnitude: -2.47",
            "File: HFTS2_20190412_050325_040<br>Magnitude: -2.62",
            "File: HFTS2_20190412_050358_040<br>Magnitude: -2.78",
            "File: HFTS2_20190412_050425_040<br>Magnitude: -2.75",
            "File: HFTS2_20190412_050456_040<br>Magnitude: -2.44",
            "File: HFTS2_20190412_050534_040<br>Magnitude: -2.59",
            "File: HFTS2_20190412_050607_040<br>Magnitude: -2.54"
           ],
           "type": "scatter3d",
           "x": [
            953945.1323
           ],
           "y": [
            849166.262
           ],
           "z": [
            8521.3409
           ]
          }
         ],
         "name": "2019-04-12 05:00:53.388000"
        },
        {
         "data": [
          {
           "marker": {
            "cmax": -1.6189,
            "cmin": -2.9802,
            "color": [
             -2.5754
            ],
            "colorscale": [
             [
              0,
              "#440154"
             ],
             [
              0.1111111111111111,
              "#482878"
             ],
             [
              0.2222222222222222,
              "#3e4989"
             ],
             [
              0.3333333333333333,
              "#31688e"
             ],
             [
              0.4444444444444444,
              "#26828e"
             ],
             [
              0.5555555555555556,
              "#1f9e89"
             ],
             [
              0.6666666666666666,
              "#35b779"
             ],
             [
              0.7777777777777778,
              "#6ece58"
             ],
             [
              0.8888888888888888,
              "#b5de2b"
             ],
             [
              1,
              "#fde725"
             ]
            ],
            "size": [
             257.54
            ],
            "sizemode": "diameter",
            "sizeref": 25
           },
           "mode": "markers",
           "text": [
            "File: HFTS2_20190412_042831_040<br>Magnitude: -2.77",
            "File: HFTS2_20190412_042832_040<br>Magnitude: -2.73",
            "File: HFTS2_20190412_042833_040<br>Magnitude: -2.65",
            "File: HFTS2_20190412_042835_040<br>Magnitude: -2.65",
            "File: HFTS2_20190412_043437_040<br>Magnitude: -2.56",
            "File: HFTS2_20190412_043802_040<br>Magnitude: -2.35",
            "File: HFTS2_20190412_043803_040<br>Magnitude: -2.22",
            "File: HFTS2_20190412_044156_040<br>Magnitude: -2.03",
            "File: HFTS2_20190412_044403_040<br>Magnitude: -2.39",
            "File: HFTS2_20190412_044404_040<br>Magnitude: -2.10",
            "File: HFTS2_20190412_044435_040_Merged<br>Magnitude: -2.47",
            "File: HFTS2_20190412_044506_040<br>Magnitude: -2.32",
            "File: HFTS2_20190412_044516_040<br>Magnitude: -1.97",
            "File: HFTS2_20190412_044521_040<br>Magnitude: -2.07",
            "File: HFTS2_20190412_044522_040<br>Magnitude: -2.47",
            "File: HFTS2_20190412_044526_040<br>Magnitude: -2.74",
            "File: HFTS2_20190412_044540_040<br>Magnitude: -2.21",
            "File: HFTS2_20190412_044542_040<br>Magnitude: -2.56",
            "File: HFTS2_20190412_044543_040<br>Magnitude: -2.36",
            "File: HFTS2_20190412_044544_040<br>Magnitude: -2.59",
            "File: HFTS2_20190412_044545_040<br>Magnitude: -2.60",
            "File: HFTS2_20190412_044605_040<br>Magnitude: -2.71",
            "File: HFTS2_20190412_044619_040<br>Magnitude: -2.54",
            "File: HFTS2_20190412_044620_040<br>Magnitude: -1.81",
            "File: HFTS2_20190412_044623_040<br>Magnitude: -2.21",
            "File: HFTS2_20190412_044643_040<br>Magnitude: -2.30",
            "File: HFTS2_20190412_044647_040<br>Magnitude: -2.42",
            "File: HFTS2_20190412_044651_040<br>Magnitude: -2.46",
            "File: HFTS2_20190412_044659_040_Merged<br>Magnitude: -1.62",
            "File: HFTS2_20190412_044707_040<br>Magnitude: -2.09",
            "File: HFTS2_20190412_044731_040<br>Magnitude: -2.70",
            "File: HFTS2_20190412_044737_040<br>Magnitude: -2.41",
            "File: HFTS2_20190412_044741_040<br>Magnitude: -2.63",
            "File: HFTS2_20190412_044757_040<br>Magnitude: -2.12",
            "File: HFTS2_20190412_044759_040<br>Magnitude: -2.07",
            "File: HFTS2_20190412_044800_040<br>Magnitude: -2.53",
            "File: HFTS2_20190412_044803_040<br>Magnitude: -2.61",
            "File: HFTS2_20190412_044816_040<br>Magnitude: -2.12",
            "File: HFTS2_20190412_044822_040<br>Magnitude: -2.06",
            "File: HFTS2_20190412_044824_040<br>Magnitude: -2.02",
            "File: HFTS2_20190412_044829_040<br>Magnitude: -1.79",
            "File: HFTS2_20190412_044833_040<br>Magnitude: -2.29",
            "File: HFTS2_20190412_044841_040<br>Magnitude: -2.80",
            "File: HFTS2_20190412_044842_040<br>Magnitude: -2.24",
            "File: HFTS2_20190412_044903_040<br>Magnitude: -2.53",
            "File: HFTS2_20190412_044914_040<br>Magnitude: -2.58",
            "File: HFTS2_20190412_044945_040<br>Magnitude: -2.34",
            "File: HFTS2_20190412_044957_040<br>Magnitude: -2.58",
            "File: HFTS2_20190412_045027_040<br>Magnitude: -2.54",
            "File: HFTS2_20190412_045029_040<br>Magnitude: -2.63",
            "File: HFTS2_20190412_045035_040<br>Magnitude: -2.49",
            "File: HFTS2_20190412_045126_040<br>Magnitude: -2.40",
            "File: HFTS2_20190412_045127_040<br>Magnitude: -2.66",
            "File: HFTS2_20190412_045157_040<br>Magnitude: -2.08",
            "File: HFTS2_20190412_045254_040<br>Magnitude: -2.98",
            "File: HFTS2_20190412_045333_040<br>Magnitude: -2.15",
            "File: HFTS2_20190412_045344_040<br>Magnitude: -2.72",
            "File: HFTS2_20190412_045434_040<br>Magnitude: -2.50",
            "File: HFTS2_20190412_045451_040<br>Magnitude: -2.17",
            "File: HFTS2_20190412_045457_040<br>Magnitude: -2.51",
            "File: HFTS2_20190412_045523_040<br>Magnitude: -2.33",
            "File: HFTS2_20190412_045526_040<br>Magnitude: -2.80",
            "File: HFTS2_20190412_045528_040<br>Magnitude: -2.65",
            "File: HFTS2_20190412_045530_040<br>Magnitude: -2.49",
            "File: HFTS2_20190412_045535_040<br>Magnitude: -2.52",
            "File: HFTS2_20190412_045537_040<br>Magnitude: -2.76",
            "File: HFTS2_20190412_045550_040<br>Magnitude: -2.54",
            "File: HFTS2_20190412_045558_040<br>Magnitude: -2.77",
            "File: HFTS2_20190412_045602_040<br>Magnitude: -2.00",
            "File: HFTS2_20190412_045604_040<br>Magnitude: -2.78",
            "File: HFTS2_20190412_045608_040<br>Magnitude: -2.12",
            "File: HFTS2_20190412_045611_040<br>Magnitude: -2.60",
            "File: HFTS2_20190412_045620_040<br>Magnitude: -2.31",
            "File: HFTS2_20190412_045630_040<br>Magnitude: -2.65",
            "File: HFTS2_20190412_045644_040<br>Magnitude: -2.50",
            "File: HFTS2_20190412_045716_040<br>Magnitude: -2.37",
            "File: HFTS2_20190412_045727_040<br>Magnitude: -2.57",
            "File: HFTS2_20190412_045809_040<br>Magnitude: -2.58",
            "File: HFTS2_20190412_045818_040<br>Magnitude: -2.67",
            "File: HFTS2_20190412_045840_040<br>Magnitude: -2.77",
            "File: HFTS2_20190412_045938_040<br>Magnitude: -2.77",
            "File: HFTS2_20190412_045943_040<br>Magnitude: -2.39",
            "File: HFTS2_20190412_045952_040<br>Magnitude: -2.52",
            "File: HFTS2_20190412_050004_040<br>Magnitude: -2.35",
            "File: HFTS2_20190412_050011_040<br>Magnitude: -2.47",
            "File: HFTS2_20190412_050036_040<br>Magnitude: -2.61",
            "File: HFTS2_20190412_050053_040<br>Magnitude: -2.92",
            "File: HFTS2_20190412_050100_040<br>Magnitude: -2.58",
            "File: HFTS2_20190412_050127_040<br>Magnitude: -2.58",
            "File: HFTS2_20190412_050128_040<br>Magnitude: -2.57",
            "File: HFTS2_20190412_050133_040<br>Magnitude: -2.77",
            "File: HFTS2_20190412_050147_040<br>Magnitude: -2.71",
            "File: HFTS2_20190412_050202_040<br>Magnitude: -2.88",
            "File: HFTS2_20190412_050221_040<br>Magnitude: -2.82",
            "File: HFTS2_20190412_050315_040<br>Magnitude: -2.47",
            "File: HFTS2_20190412_050325_040<br>Magnitude: -2.62",
            "File: HFTS2_20190412_050358_040<br>Magnitude: -2.78",
            "File: HFTS2_20190412_050425_040<br>Magnitude: -2.75",
            "File: HFTS2_20190412_050456_040<br>Magnitude: -2.44",
            "File: HFTS2_20190412_050534_040<br>Magnitude: -2.59",
            "File: HFTS2_20190412_050607_040<br>Magnitude: -2.54"
           ],
           "type": "scatter3d",
           "x": [
            954202.8525
           ],
           "y": [
            849161.7017
           ],
           "z": [
            8596.9147
           ]
          }
         ],
         "name": "2019-04-12 05:01:00.599000"
        },
        {
         "data": [
          {
           "marker": {
            "cmax": -1.6189,
            "cmin": -2.9802,
            "color": [
             -2.5828
            ],
            "colorscale": [
             [
              0,
              "#440154"
             ],
             [
              0.1111111111111111,
              "#482878"
             ],
             [
              0.2222222222222222,
              "#3e4989"
             ],
             [
              0.3333333333333333,
              "#31688e"
             ],
             [
              0.4444444444444444,
              "#26828e"
             ],
             [
              0.5555555555555556,
              "#1f9e89"
             ],
             [
              0.6666666666666666,
              "#35b779"
             ],
             [
              0.7777777777777778,
              "#6ece58"
             ],
             [
              0.8888888888888888,
              "#b5de2b"
             ],
             [
              1,
              "#fde725"
             ]
            ],
            "size": [
             258.28000000000003
            ],
            "sizemode": "diameter",
            "sizeref": 25
           },
           "mode": "markers",
           "text": [
            "File: HFTS2_20190412_042831_040<br>Magnitude: -2.77",
            "File: HFTS2_20190412_042832_040<br>Magnitude: -2.73",
            "File: HFTS2_20190412_042833_040<br>Magnitude: -2.65",
            "File: HFTS2_20190412_042835_040<br>Magnitude: -2.65",
            "File: HFTS2_20190412_043437_040<br>Magnitude: -2.56",
            "File: HFTS2_20190412_043802_040<br>Magnitude: -2.35",
            "File: HFTS2_20190412_043803_040<br>Magnitude: -2.22",
            "File: HFTS2_20190412_044156_040<br>Magnitude: -2.03",
            "File: HFTS2_20190412_044403_040<br>Magnitude: -2.39",
            "File: HFTS2_20190412_044404_040<br>Magnitude: -2.10",
            "File: HFTS2_20190412_044435_040_Merged<br>Magnitude: -2.47",
            "File: HFTS2_20190412_044506_040<br>Magnitude: -2.32",
            "File: HFTS2_20190412_044516_040<br>Magnitude: -1.97",
            "File: HFTS2_20190412_044521_040<br>Magnitude: -2.07",
            "File: HFTS2_20190412_044522_040<br>Magnitude: -2.47",
            "File: HFTS2_20190412_044526_040<br>Magnitude: -2.74",
            "File: HFTS2_20190412_044540_040<br>Magnitude: -2.21",
            "File: HFTS2_20190412_044542_040<br>Magnitude: -2.56",
            "File: HFTS2_20190412_044543_040<br>Magnitude: -2.36",
            "File: HFTS2_20190412_044544_040<br>Magnitude: -2.59",
            "File: HFTS2_20190412_044545_040<br>Magnitude: -2.60",
            "File: HFTS2_20190412_044605_040<br>Magnitude: -2.71",
            "File: HFTS2_20190412_044619_040<br>Magnitude: -2.54",
            "File: HFTS2_20190412_044620_040<br>Magnitude: -1.81",
            "File: HFTS2_20190412_044623_040<br>Magnitude: -2.21",
            "File: HFTS2_20190412_044643_040<br>Magnitude: -2.30",
            "File: HFTS2_20190412_044647_040<br>Magnitude: -2.42",
            "File: HFTS2_20190412_044651_040<br>Magnitude: -2.46",
            "File: HFTS2_20190412_044659_040_Merged<br>Magnitude: -1.62",
            "File: HFTS2_20190412_044707_040<br>Magnitude: -2.09",
            "File: HFTS2_20190412_044731_040<br>Magnitude: -2.70",
            "File: HFTS2_20190412_044737_040<br>Magnitude: -2.41",
            "File: HFTS2_20190412_044741_040<br>Magnitude: -2.63",
            "File: HFTS2_20190412_044757_040<br>Magnitude: -2.12",
            "File: HFTS2_20190412_044759_040<br>Magnitude: -2.07",
            "File: HFTS2_20190412_044800_040<br>Magnitude: -2.53",
            "File: HFTS2_20190412_044803_040<br>Magnitude: -2.61",
            "File: HFTS2_20190412_044816_040<br>Magnitude: -2.12",
            "File: HFTS2_20190412_044822_040<br>Magnitude: -2.06",
            "File: HFTS2_20190412_044824_040<br>Magnitude: -2.02",
            "File: HFTS2_20190412_044829_040<br>Magnitude: -1.79",
            "File: HFTS2_20190412_044833_040<br>Magnitude: -2.29",
            "File: HFTS2_20190412_044841_040<br>Magnitude: -2.80",
            "File: HFTS2_20190412_044842_040<br>Magnitude: -2.24",
            "File: HFTS2_20190412_044903_040<br>Magnitude: -2.53",
            "File: HFTS2_20190412_044914_040<br>Magnitude: -2.58",
            "File: HFTS2_20190412_044945_040<br>Magnitude: -2.34",
            "File: HFTS2_20190412_044957_040<br>Magnitude: -2.58",
            "File: HFTS2_20190412_045027_040<br>Magnitude: -2.54",
            "File: HFTS2_20190412_045029_040<br>Magnitude: -2.63",
            "File: HFTS2_20190412_045035_040<br>Magnitude: -2.49",
            "File: HFTS2_20190412_045126_040<br>Magnitude: -2.40",
            "File: HFTS2_20190412_045127_040<br>Magnitude: -2.66",
            "File: HFTS2_20190412_045157_040<br>Magnitude: -2.08",
            "File: HFTS2_20190412_045254_040<br>Magnitude: -2.98",
            "File: HFTS2_20190412_045333_040<br>Magnitude: -2.15",
            "File: HFTS2_20190412_045344_040<br>Magnitude: -2.72",
            "File: HFTS2_20190412_045434_040<br>Magnitude: -2.50",
            "File: HFTS2_20190412_045451_040<br>Magnitude: -2.17",
            "File: HFTS2_20190412_045457_040<br>Magnitude: -2.51",
            "File: HFTS2_20190412_045523_040<br>Magnitude: -2.33",
            "File: HFTS2_20190412_045526_040<br>Magnitude: -2.80",
            "File: HFTS2_20190412_045528_040<br>Magnitude: -2.65",
            "File: HFTS2_20190412_045530_040<br>Magnitude: -2.49",
            "File: HFTS2_20190412_045535_040<br>Magnitude: -2.52",
            "File: HFTS2_20190412_045537_040<br>Magnitude: -2.76",
            "File: HFTS2_20190412_045550_040<br>Magnitude: -2.54",
            "File: HFTS2_20190412_045558_040<br>Magnitude: -2.77",
            "File: HFTS2_20190412_045602_040<br>Magnitude: -2.00",
            "File: HFTS2_20190412_045604_040<br>Magnitude: -2.78",
            "File: HFTS2_20190412_045608_040<br>Magnitude: -2.12",
            "File: HFTS2_20190412_045611_040<br>Magnitude: -2.60",
            "File: HFTS2_20190412_045620_040<br>Magnitude: -2.31",
            "File: HFTS2_20190412_045630_040<br>Magnitude: -2.65",
            "File: HFTS2_20190412_045644_040<br>Magnitude: -2.50",
            "File: HFTS2_20190412_045716_040<br>Magnitude: -2.37",
            "File: HFTS2_20190412_045727_040<br>Magnitude: -2.57",
            "File: HFTS2_20190412_045809_040<br>Magnitude: -2.58",
            "File: HFTS2_20190412_045818_040<br>Magnitude: -2.67",
            "File: HFTS2_20190412_045840_040<br>Magnitude: -2.77",
            "File: HFTS2_20190412_045938_040<br>Magnitude: -2.77",
            "File: HFTS2_20190412_045943_040<br>Magnitude: -2.39",
            "File: HFTS2_20190412_045952_040<br>Magnitude: -2.52",
            "File: HFTS2_20190412_050004_040<br>Magnitude: -2.35",
            "File: HFTS2_20190412_050011_040<br>Magnitude: -2.47",
            "File: HFTS2_20190412_050036_040<br>Magnitude: -2.61",
            "File: HFTS2_20190412_050053_040<br>Magnitude: -2.92",
            "File: HFTS2_20190412_050100_040<br>Magnitude: -2.58",
            "File: HFTS2_20190412_050127_040<br>Magnitude: -2.58",
            "File: HFTS2_20190412_050128_040<br>Magnitude: -2.57",
            "File: HFTS2_20190412_050133_040<br>Magnitude: -2.77",
            "File: HFTS2_20190412_050147_040<br>Magnitude: -2.71",
            "File: HFTS2_20190412_050202_040<br>Magnitude: -2.88",
            "File: HFTS2_20190412_050221_040<br>Magnitude: -2.82",
            "File: HFTS2_20190412_050315_040<br>Magnitude: -2.47",
            "File: HFTS2_20190412_050325_040<br>Magnitude: -2.62",
            "File: HFTS2_20190412_050358_040<br>Magnitude: -2.78",
            "File: HFTS2_20190412_050425_040<br>Magnitude: -2.75",
            "File: HFTS2_20190412_050456_040<br>Magnitude: -2.44",
            "File: HFTS2_20190412_050534_040<br>Magnitude: -2.59",
            "File: HFTS2_20190412_050607_040<br>Magnitude: -2.54"
           ],
           "type": "scatter3d",
           "x": [
            954403.6093
           ],
           "y": [
            849266.2121
           ],
           "z": [
            8658.8246
           ]
          }
         ],
         "name": "2019-04-12 05:01:27.854000"
        },
        {
         "data": [
          {
           "marker": {
            "cmax": -1.6189,
            "cmin": -2.9802,
            "color": [
             -2.5695
            ],
            "colorscale": [
             [
              0,
              "#440154"
             ],
             [
              0.1111111111111111,
              "#482878"
             ],
             [
              0.2222222222222222,
              "#3e4989"
             ],
             [
              0.3333333333333333,
              "#31688e"
             ],
             [
              0.4444444444444444,
              "#26828e"
             ],
             [
              0.5555555555555556,
              "#1f9e89"
             ],
             [
              0.6666666666666666,
              "#35b779"
             ],
             [
              0.7777777777777778,
              "#6ece58"
             ],
             [
              0.8888888888888888,
              "#b5de2b"
             ],
             [
              1,
              "#fde725"
             ]
            ],
            "size": [
             256.95
            ],
            "sizemode": "diameter",
            "sizeref": 25
           },
           "mode": "markers",
           "text": [
            "File: HFTS2_20190412_042831_040<br>Magnitude: -2.77",
            "File: HFTS2_20190412_042832_040<br>Magnitude: -2.73",
            "File: HFTS2_20190412_042833_040<br>Magnitude: -2.65",
            "File: HFTS2_20190412_042835_040<br>Magnitude: -2.65",
            "File: HFTS2_20190412_043437_040<br>Magnitude: -2.56",
            "File: HFTS2_20190412_043802_040<br>Magnitude: -2.35",
            "File: HFTS2_20190412_043803_040<br>Magnitude: -2.22",
            "File: HFTS2_20190412_044156_040<br>Magnitude: -2.03",
            "File: HFTS2_20190412_044403_040<br>Magnitude: -2.39",
            "File: HFTS2_20190412_044404_040<br>Magnitude: -2.10",
            "File: HFTS2_20190412_044435_040_Merged<br>Magnitude: -2.47",
            "File: HFTS2_20190412_044506_040<br>Magnitude: -2.32",
            "File: HFTS2_20190412_044516_040<br>Magnitude: -1.97",
            "File: HFTS2_20190412_044521_040<br>Magnitude: -2.07",
            "File: HFTS2_20190412_044522_040<br>Magnitude: -2.47",
            "File: HFTS2_20190412_044526_040<br>Magnitude: -2.74",
            "File: HFTS2_20190412_044540_040<br>Magnitude: -2.21",
            "File: HFTS2_20190412_044542_040<br>Magnitude: -2.56",
            "File: HFTS2_20190412_044543_040<br>Magnitude: -2.36",
            "File: HFTS2_20190412_044544_040<br>Magnitude: -2.59",
            "File: HFTS2_20190412_044545_040<br>Magnitude: -2.60",
            "File: HFTS2_20190412_044605_040<br>Magnitude: -2.71",
            "File: HFTS2_20190412_044619_040<br>Magnitude: -2.54",
            "File: HFTS2_20190412_044620_040<br>Magnitude: -1.81",
            "File: HFTS2_20190412_044623_040<br>Magnitude: -2.21",
            "File: HFTS2_20190412_044643_040<br>Magnitude: -2.30",
            "File: HFTS2_20190412_044647_040<br>Magnitude: -2.42",
            "File: HFTS2_20190412_044651_040<br>Magnitude: -2.46",
            "File: HFTS2_20190412_044659_040_Merged<br>Magnitude: -1.62",
            "File: HFTS2_20190412_044707_040<br>Magnitude: -2.09",
            "File: HFTS2_20190412_044731_040<br>Magnitude: -2.70",
            "File: HFTS2_20190412_044737_040<br>Magnitude: -2.41",
            "File: HFTS2_20190412_044741_040<br>Magnitude: -2.63",
            "File: HFTS2_20190412_044757_040<br>Magnitude: -2.12",
            "File: HFTS2_20190412_044759_040<br>Magnitude: -2.07",
            "File: HFTS2_20190412_044800_040<br>Magnitude: -2.53",
            "File: HFTS2_20190412_044803_040<br>Magnitude: -2.61",
            "File: HFTS2_20190412_044816_040<br>Magnitude: -2.12",
            "File: HFTS2_20190412_044822_040<br>Magnitude: -2.06",
            "File: HFTS2_20190412_044824_040<br>Magnitude: -2.02",
            "File: HFTS2_20190412_044829_040<br>Magnitude: -1.79",
            "File: HFTS2_20190412_044833_040<br>Magnitude: -2.29",
            "File: HFTS2_20190412_044841_040<br>Magnitude: -2.80",
            "File: HFTS2_20190412_044842_040<br>Magnitude: -2.24",
            "File: HFTS2_20190412_044903_040<br>Magnitude: -2.53",
            "File: HFTS2_20190412_044914_040<br>Magnitude: -2.58",
            "File: HFTS2_20190412_044945_040<br>Magnitude: -2.34",
            "File: HFTS2_20190412_044957_040<br>Magnitude: -2.58",
            "File: HFTS2_20190412_045027_040<br>Magnitude: -2.54",
            "File: HFTS2_20190412_045029_040<br>Magnitude: -2.63",
            "File: HFTS2_20190412_045035_040<br>Magnitude: -2.49",
            "File: HFTS2_20190412_045126_040<br>Magnitude: -2.40",
            "File: HFTS2_20190412_045127_040<br>Magnitude: -2.66",
            "File: HFTS2_20190412_045157_040<br>Magnitude: -2.08",
            "File: HFTS2_20190412_045254_040<br>Magnitude: -2.98",
            "File: HFTS2_20190412_045333_040<br>Magnitude: -2.15",
            "File: HFTS2_20190412_045344_040<br>Magnitude: -2.72",
            "File: HFTS2_20190412_045434_040<br>Magnitude: -2.50",
            "File: HFTS2_20190412_045451_040<br>Magnitude: -2.17",
            "File: HFTS2_20190412_045457_040<br>Magnitude: -2.51",
            "File: HFTS2_20190412_045523_040<br>Magnitude: -2.33",
            "File: HFTS2_20190412_045526_040<br>Magnitude: -2.80",
            "File: HFTS2_20190412_045528_040<br>Magnitude: -2.65",
            "File: HFTS2_20190412_045530_040<br>Magnitude: -2.49",
            "File: HFTS2_20190412_045535_040<br>Magnitude: -2.52",
            "File: HFTS2_20190412_045537_040<br>Magnitude: -2.76",
            "File: HFTS2_20190412_045550_040<br>Magnitude: -2.54",
            "File: HFTS2_20190412_045558_040<br>Magnitude: -2.77",
            "File: HFTS2_20190412_045602_040<br>Magnitude: -2.00",
            "File: HFTS2_20190412_045604_040<br>Magnitude: -2.78",
            "File: HFTS2_20190412_045608_040<br>Magnitude: -2.12",
            "File: HFTS2_20190412_045611_040<br>Magnitude: -2.60",
            "File: HFTS2_20190412_045620_040<br>Magnitude: -2.31",
            "File: HFTS2_20190412_045630_040<br>Magnitude: -2.65",
            "File: HFTS2_20190412_045644_040<br>Magnitude: -2.50",
            "File: HFTS2_20190412_045716_040<br>Magnitude: -2.37",
            "File: HFTS2_20190412_045727_040<br>Magnitude: -2.57",
            "File: HFTS2_20190412_045809_040<br>Magnitude: -2.58",
            "File: HFTS2_20190412_045818_040<br>Magnitude: -2.67",
            "File: HFTS2_20190412_045840_040<br>Magnitude: -2.77",
            "File: HFTS2_20190412_045938_040<br>Magnitude: -2.77",
            "File: HFTS2_20190412_045943_040<br>Magnitude: -2.39",
            "File: HFTS2_20190412_045952_040<br>Magnitude: -2.52",
            "File: HFTS2_20190412_050004_040<br>Magnitude: -2.35",
            "File: HFTS2_20190412_050011_040<br>Magnitude: -2.47",
            "File: HFTS2_20190412_050036_040<br>Magnitude: -2.61",
            "File: HFTS2_20190412_050053_040<br>Magnitude: -2.92",
            "File: HFTS2_20190412_050100_040<br>Magnitude: -2.58",
            "File: HFTS2_20190412_050127_040<br>Magnitude: -2.58",
            "File: HFTS2_20190412_050128_040<br>Magnitude: -2.57",
            "File: HFTS2_20190412_050133_040<br>Magnitude: -2.77",
            "File: HFTS2_20190412_050147_040<br>Magnitude: -2.71",
            "File: HFTS2_20190412_050202_040<br>Magnitude: -2.88",
            "File: HFTS2_20190412_050221_040<br>Magnitude: -2.82",
            "File: HFTS2_20190412_050315_040<br>Magnitude: -2.47",
            "File: HFTS2_20190412_050325_040<br>Magnitude: -2.62",
            "File: HFTS2_20190412_050358_040<br>Magnitude: -2.78",
            "File: HFTS2_20190412_050425_040<br>Magnitude: -2.75",
            "File: HFTS2_20190412_050456_040<br>Magnitude: -2.44",
            "File: HFTS2_20190412_050534_040<br>Magnitude: -2.59",
            "File: HFTS2_20190412_050607_040<br>Magnitude: -2.54"
           ],
           "type": "scatter3d",
           "x": [
            954026.8871
           ],
           "y": [
            849151.9055
           ],
           "z": [
            8387.1215
           ]
          }
         ],
         "name": "2019-04-12 05:01:28.488000"
        },
        {
         "data": [
          {
           "marker": {
            "cmax": -1.6189,
            "cmin": -2.9802,
            "color": [
             -2.7654
            ],
            "colorscale": [
             [
              0,
              "#440154"
             ],
             [
              0.1111111111111111,
              "#482878"
             ],
             [
              0.2222222222222222,
              "#3e4989"
             ],
             [
              0.3333333333333333,
              "#31688e"
             ],
             [
              0.4444444444444444,
              "#26828e"
             ],
             [
              0.5555555555555556,
              "#1f9e89"
             ],
             [
              0.6666666666666666,
              "#35b779"
             ],
             [
              0.7777777777777778,
              "#6ece58"
             ],
             [
              0.8888888888888888,
              "#b5de2b"
             ],
             [
              1,
              "#fde725"
             ]
            ],
            "size": [
             276.54
            ],
            "sizemode": "diameter",
            "sizeref": 25
           },
           "mode": "markers",
           "text": [
            "File: HFTS2_20190412_042831_040<br>Magnitude: -2.77",
            "File: HFTS2_20190412_042832_040<br>Magnitude: -2.73",
            "File: HFTS2_20190412_042833_040<br>Magnitude: -2.65",
            "File: HFTS2_20190412_042835_040<br>Magnitude: -2.65",
            "File: HFTS2_20190412_043437_040<br>Magnitude: -2.56",
            "File: HFTS2_20190412_043802_040<br>Magnitude: -2.35",
            "File: HFTS2_20190412_043803_040<br>Magnitude: -2.22",
            "File: HFTS2_20190412_044156_040<br>Magnitude: -2.03",
            "File: HFTS2_20190412_044403_040<br>Magnitude: -2.39",
            "File: HFTS2_20190412_044404_040<br>Magnitude: -2.10",
            "File: HFTS2_20190412_044435_040_Merged<br>Magnitude: -2.47",
            "File: HFTS2_20190412_044506_040<br>Magnitude: -2.32",
            "File: HFTS2_20190412_044516_040<br>Magnitude: -1.97",
            "File: HFTS2_20190412_044521_040<br>Magnitude: -2.07",
            "File: HFTS2_20190412_044522_040<br>Magnitude: -2.47",
            "File: HFTS2_20190412_044526_040<br>Magnitude: -2.74",
            "File: HFTS2_20190412_044540_040<br>Magnitude: -2.21",
            "File: HFTS2_20190412_044542_040<br>Magnitude: -2.56",
            "File: HFTS2_20190412_044543_040<br>Magnitude: -2.36",
            "File: HFTS2_20190412_044544_040<br>Magnitude: -2.59",
            "File: HFTS2_20190412_044545_040<br>Magnitude: -2.60",
            "File: HFTS2_20190412_044605_040<br>Magnitude: -2.71",
            "File: HFTS2_20190412_044619_040<br>Magnitude: -2.54",
            "File: HFTS2_20190412_044620_040<br>Magnitude: -1.81",
            "File: HFTS2_20190412_044623_040<br>Magnitude: -2.21",
            "File: HFTS2_20190412_044643_040<br>Magnitude: -2.30",
            "File: HFTS2_20190412_044647_040<br>Magnitude: -2.42",
            "File: HFTS2_20190412_044651_040<br>Magnitude: -2.46",
            "File: HFTS2_20190412_044659_040_Merged<br>Magnitude: -1.62",
            "File: HFTS2_20190412_044707_040<br>Magnitude: -2.09",
            "File: HFTS2_20190412_044731_040<br>Magnitude: -2.70",
            "File: HFTS2_20190412_044737_040<br>Magnitude: -2.41",
            "File: HFTS2_20190412_044741_040<br>Magnitude: -2.63",
            "File: HFTS2_20190412_044757_040<br>Magnitude: -2.12",
            "File: HFTS2_20190412_044759_040<br>Magnitude: -2.07",
            "File: HFTS2_20190412_044800_040<br>Magnitude: -2.53",
            "File: HFTS2_20190412_044803_040<br>Magnitude: -2.61",
            "File: HFTS2_20190412_044816_040<br>Magnitude: -2.12",
            "File: HFTS2_20190412_044822_040<br>Magnitude: -2.06",
            "File: HFTS2_20190412_044824_040<br>Magnitude: -2.02",
            "File: HFTS2_20190412_044829_040<br>Magnitude: -1.79",
            "File: HFTS2_20190412_044833_040<br>Magnitude: -2.29",
            "File: HFTS2_20190412_044841_040<br>Magnitude: -2.80",
            "File: HFTS2_20190412_044842_040<br>Magnitude: -2.24",
            "File: HFTS2_20190412_044903_040<br>Magnitude: -2.53",
            "File: HFTS2_20190412_044914_040<br>Magnitude: -2.58",
            "File: HFTS2_20190412_044945_040<br>Magnitude: -2.34",
            "File: HFTS2_20190412_044957_040<br>Magnitude: -2.58",
            "File: HFTS2_20190412_045027_040<br>Magnitude: -2.54",
            "File: HFTS2_20190412_045029_040<br>Magnitude: -2.63",
            "File: HFTS2_20190412_045035_040<br>Magnitude: -2.49",
            "File: HFTS2_20190412_045126_040<br>Magnitude: -2.40",
            "File: HFTS2_20190412_045127_040<br>Magnitude: -2.66",
            "File: HFTS2_20190412_045157_040<br>Magnitude: -2.08",
            "File: HFTS2_20190412_045254_040<br>Magnitude: -2.98",
            "File: HFTS2_20190412_045333_040<br>Magnitude: -2.15",
            "File: HFTS2_20190412_045344_040<br>Magnitude: -2.72",
            "File: HFTS2_20190412_045434_040<br>Magnitude: -2.50",
            "File: HFTS2_20190412_045451_040<br>Magnitude: -2.17",
            "File: HFTS2_20190412_045457_040<br>Magnitude: -2.51",
            "File: HFTS2_20190412_045523_040<br>Magnitude: -2.33",
            "File: HFTS2_20190412_045526_040<br>Magnitude: -2.80",
            "File: HFTS2_20190412_045528_040<br>Magnitude: -2.65",
            "File: HFTS2_20190412_045530_040<br>Magnitude: -2.49",
            "File: HFTS2_20190412_045535_040<br>Magnitude: -2.52",
            "File: HFTS2_20190412_045537_040<br>Magnitude: -2.76",
            "File: HFTS2_20190412_045550_040<br>Magnitude: -2.54",
            "File: HFTS2_20190412_045558_040<br>Magnitude: -2.77",
            "File: HFTS2_20190412_045602_040<br>Magnitude: -2.00",
            "File: HFTS2_20190412_045604_040<br>Magnitude: -2.78",
            "File: HFTS2_20190412_045608_040<br>Magnitude: -2.12",
            "File: HFTS2_20190412_045611_040<br>Magnitude: -2.60",
            "File: HFTS2_20190412_045620_040<br>Magnitude: -2.31",
            "File: HFTS2_20190412_045630_040<br>Magnitude: -2.65",
            "File: HFTS2_20190412_045644_040<br>Magnitude: -2.50",
            "File: HFTS2_20190412_045716_040<br>Magnitude: -2.37",
            "File: HFTS2_20190412_045727_040<br>Magnitude: -2.57",
            "File: HFTS2_20190412_045809_040<br>Magnitude: -2.58",
            "File: HFTS2_20190412_045818_040<br>Magnitude: -2.67",
            "File: HFTS2_20190412_045840_040<br>Magnitude: -2.77",
            "File: HFTS2_20190412_045938_040<br>Magnitude: -2.77",
            "File: HFTS2_20190412_045943_040<br>Magnitude: -2.39",
            "File: HFTS2_20190412_045952_040<br>Magnitude: -2.52",
            "File: HFTS2_20190412_050004_040<br>Magnitude: -2.35",
            "File: HFTS2_20190412_050011_040<br>Magnitude: -2.47",
            "File: HFTS2_20190412_050036_040<br>Magnitude: -2.61",
            "File: HFTS2_20190412_050053_040<br>Magnitude: -2.92",
            "File: HFTS2_20190412_050100_040<br>Magnitude: -2.58",
            "File: HFTS2_20190412_050127_040<br>Magnitude: -2.58",
            "File: HFTS2_20190412_050128_040<br>Magnitude: -2.57",
            "File: HFTS2_20190412_050133_040<br>Magnitude: -2.77",
            "File: HFTS2_20190412_050147_040<br>Magnitude: -2.71",
            "File: HFTS2_20190412_050202_040<br>Magnitude: -2.88",
            "File: HFTS2_20190412_050221_040<br>Magnitude: -2.82",
            "File: HFTS2_20190412_050315_040<br>Magnitude: -2.47",
            "File: HFTS2_20190412_050325_040<br>Magnitude: -2.62",
            "File: HFTS2_20190412_050358_040<br>Magnitude: -2.78",
            "File: HFTS2_20190412_050425_040<br>Magnitude: -2.75",
            "File: HFTS2_20190412_050456_040<br>Magnitude: -2.44",
            "File: HFTS2_20190412_050534_040<br>Magnitude: -2.59",
            "File: HFTS2_20190412_050607_040<br>Magnitude: -2.54"
           ],
           "type": "scatter3d",
           "x": [
            955411.1915
           ],
           "y": [
            849100.0909
           ],
           "z": [
            8813.4162
           ]
          }
         ],
         "name": "2019-04-12 05:01:33.294000"
        },
        {
         "data": [
          {
           "marker": {
            "cmax": -1.6189,
            "cmin": -2.9802,
            "color": [
             -2.7085
            ],
            "colorscale": [
             [
              0,
              "#440154"
             ],
             [
              0.1111111111111111,
              "#482878"
             ],
             [
              0.2222222222222222,
              "#3e4989"
             ],
             [
              0.3333333333333333,
              "#31688e"
             ],
             [
              0.4444444444444444,
              "#26828e"
             ],
             [
              0.5555555555555556,
              "#1f9e89"
             ],
             [
              0.6666666666666666,
              "#35b779"
             ],
             [
              0.7777777777777778,
              "#6ece58"
             ],
             [
              0.8888888888888888,
              "#b5de2b"
             ],
             [
              1,
              "#fde725"
             ]
            ],
            "size": [
             270.84999999999997
            ],
            "sizemode": "diameter",
            "sizeref": 25
           },
           "mode": "markers",
           "text": [
            "File: HFTS2_20190412_042831_040<br>Magnitude: -2.77",
            "File: HFTS2_20190412_042832_040<br>Magnitude: -2.73",
            "File: HFTS2_20190412_042833_040<br>Magnitude: -2.65",
            "File: HFTS2_20190412_042835_040<br>Magnitude: -2.65",
            "File: HFTS2_20190412_043437_040<br>Magnitude: -2.56",
            "File: HFTS2_20190412_043802_040<br>Magnitude: -2.35",
            "File: HFTS2_20190412_043803_040<br>Magnitude: -2.22",
            "File: HFTS2_20190412_044156_040<br>Magnitude: -2.03",
            "File: HFTS2_20190412_044403_040<br>Magnitude: -2.39",
            "File: HFTS2_20190412_044404_040<br>Magnitude: -2.10",
            "File: HFTS2_20190412_044435_040_Merged<br>Magnitude: -2.47",
            "File: HFTS2_20190412_044506_040<br>Magnitude: -2.32",
            "File: HFTS2_20190412_044516_040<br>Magnitude: -1.97",
            "File: HFTS2_20190412_044521_040<br>Magnitude: -2.07",
            "File: HFTS2_20190412_044522_040<br>Magnitude: -2.47",
            "File: HFTS2_20190412_044526_040<br>Magnitude: -2.74",
            "File: HFTS2_20190412_044540_040<br>Magnitude: -2.21",
            "File: HFTS2_20190412_044542_040<br>Magnitude: -2.56",
            "File: HFTS2_20190412_044543_040<br>Magnitude: -2.36",
            "File: HFTS2_20190412_044544_040<br>Magnitude: -2.59",
            "File: HFTS2_20190412_044545_040<br>Magnitude: -2.60",
            "File: HFTS2_20190412_044605_040<br>Magnitude: -2.71",
            "File: HFTS2_20190412_044619_040<br>Magnitude: -2.54",
            "File: HFTS2_20190412_044620_040<br>Magnitude: -1.81",
            "File: HFTS2_20190412_044623_040<br>Magnitude: -2.21",
            "File: HFTS2_20190412_044643_040<br>Magnitude: -2.30",
            "File: HFTS2_20190412_044647_040<br>Magnitude: -2.42",
            "File: HFTS2_20190412_044651_040<br>Magnitude: -2.46",
            "File: HFTS2_20190412_044659_040_Merged<br>Magnitude: -1.62",
            "File: HFTS2_20190412_044707_040<br>Magnitude: -2.09",
            "File: HFTS2_20190412_044731_040<br>Magnitude: -2.70",
            "File: HFTS2_20190412_044737_040<br>Magnitude: -2.41",
            "File: HFTS2_20190412_044741_040<br>Magnitude: -2.63",
            "File: HFTS2_20190412_044757_040<br>Magnitude: -2.12",
            "File: HFTS2_20190412_044759_040<br>Magnitude: -2.07",
            "File: HFTS2_20190412_044800_040<br>Magnitude: -2.53",
            "File: HFTS2_20190412_044803_040<br>Magnitude: -2.61",
            "File: HFTS2_20190412_044816_040<br>Magnitude: -2.12",
            "File: HFTS2_20190412_044822_040<br>Magnitude: -2.06",
            "File: HFTS2_20190412_044824_040<br>Magnitude: -2.02",
            "File: HFTS2_20190412_044829_040<br>Magnitude: -1.79",
            "File: HFTS2_20190412_044833_040<br>Magnitude: -2.29",
            "File: HFTS2_20190412_044841_040<br>Magnitude: -2.80",
            "File: HFTS2_20190412_044842_040<br>Magnitude: -2.24",
            "File: HFTS2_20190412_044903_040<br>Magnitude: -2.53",
            "File: HFTS2_20190412_044914_040<br>Magnitude: -2.58",
            "File: HFTS2_20190412_044945_040<br>Magnitude: -2.34",
            "File: HFTS2_20190412_044957_040<br>Magnitude: -2.58",
            "File: HFTS2_20190412_045027_040<br>Magnitude: -2.54",
            "File: HFTS2_20190412_045029_040<br>Magnitude: -2.63",
            "File: HFTS2_20190412_045035_040<br>Magnitude: -2.49",
            "File: HFTS2_20190412_045126_040<br>Magnitude: -2.40",
            "File: HFTS2_20190412_045127_040<br>Magnitude: -2.66",
            "File: HFTS2_20190412_045157_040<br>Magnitude: -2.08",
            "File: HFTS2_20190412_045254_040<br>Magnitude: -2.98",
            "File: HFTS2_20190412_045333_040<br>Magnitude: -2.15",
            "File: HFTS2_20190412_045344_040<br>Magnitude: -2.72",
            "File: HFTS2_20190412_045434_040<br>Magnitude: -2.50",
            "File: HFTS2_20190412_045451_040<br>Magnitude: -2.17",
            "File: HFTS2_20190412_045457_040<br>Magnitude: -2.51",
            "File: HFTS2_20190412_045523_040<br>Magnitude: -2.33",
            "File: HFTS2_20190412_045526_040<br>Magnitude: -2.80",
            "File: HFTS2_20190412_045528_040<br>Magnitude: -2.65",
            "File: HFTS2_20190412_045530_040<br>Magnitude: -2.49",
            "File: HFTS2_20190412_045535_040<br>Magnitude: -2.52",
            "File: HFTS2_20190412_045537_040<br>Magnitude: -2.76",
            "File: HFTS2_20190412_045550_040<br>Magnitude: -2.54",
            "File: HFTS2_20190412_045558_040<br>Magnitude: -2.77",
            "File: HFTS2_20190412_045602_040<br>Magnitude: -2.00",
            "File: HFTS2_20190412_045604_040<br>Magnitude: -2.78",
            "File: HFTS2_20190412_045608_040<br>Magnitude: -2.12",
            "File: HFTS2_20190412_045611_040<br>Magnitude: -2.60",
            "File: HFTS2_20190412_045620_040<br>Magnitude: -2.31",
            "File: HFTS2_20190412_045630_040<br>Magnitude: -2.65",
            "File: HFTS2_20190412_045644_040<br>Magnitude: -2.50",
            "File: HFTS2_20190412_045716_040<br>Magnitude: -2.37",
            "File: HFTS2_20190412_045727_040<br>Magnitude: -2.57",
            "File: HFTS2_20190412_045809_040<br>Magnitude: -2.58",
            "File: HFTS2_20190412_045818_040<br>Magnitude: -2.67",
            "File: HFTS2_20190412_045840_040<br>Magnitude: -2.77",
            "File: HFTS2_20190412_045938_040<br>Magnitude: -2.77",
            "File: HFTS2_20190412_045943_040<br>Magnitude: -2.39",
            "File: HFTS2_20190412_045952_040<br>Magnitude: -2.52",
            "File: HFTS2_20190412_050004_040<br>Magnitude: -2.35",
            "File: HFTS2_20190412_050011_040<br>Magnitude: -2.47",
            "File: HFTS2_20190412_050036_040<br>Magnitude: -2.61",
            "File: HFTS2_20190412_050053_040<br>Magnitude: -2.92",
            "File: HFTS2_20190412_050100_040<br>Magnitude: -2.58",
            "File: HFTS2_20190412_050127_040<br>Magnitude: -2.58",
            "File: HFTS2_20190412_050128_040<br>Magnitude: -2.57",
            "File: HFTS2_20190412_050133_040<br>Magnitude: -2.77",
            "File: HFTS2_20190412_050147_040<br>Magnitude: -2.71",
            "File: HFTS2_20190412_050202_040<br>Magnitude: -2.88",
            "File: HFTS2_20190412_050221_040<br>Magnitude: -2.82",
            "File: HFTS2_20190412_050315_040<br>Magnitude: -2.47",
            "File: HFTS2_20190412_050325_040<br>Magnitude: -2.62",
            "File: HFTS2_20190412_050358_040<br>Magnitude: -2.78",
            "File: HFTS2_20190412_050425_040<br>Magnitude: -2.75",
            "File: HFTS2_20190412_050456_040<br>Magnitude: -2.44",
            "File: HFTS2_20190412_050534_040<br>Magnitude: -2.59",
            "File: HFTS2_20190412_050607_040<br>Magnitude: -2.54"
           ],
           "type": "scatter3d",
           "x": [
            954315.0614
           ],
           "y": [
            849342.4975
           ],
           "z": [
            8747.6875
           ]
          }
         ],
         "name": "2019-04-12 05:01:47.392000"
        },
        {
         "data": [
          {
           "marker": {
            "cmax": -1.6189,
            "cmin": -2.9802,
            "color": [
             -2.8764
            ],
            "colorscale": [
             [
              0,
              "#440154"
             ],
             [
              0.1111111111111111,
              "#482878"
             ],
             [
              0.2222222222222222,
              "#3e4989"
             ],
             [
              0.3333333333333333,
              "#31688e"
             ],
             [
              0.4444444444444444,
              "#26828e"
             ],
             [
              0.5555555555555556,
              "#1f9e89"
             ],
             [
              0.6666666666666666,
              "#35b779"
             ],
             [
              0.7777777777777778,
              "#6ece58"
             ],
             [
              0.8888888888888888,
              "#b5de2b"
             ],
             [
              1,
              "#fde725"
             ]
            ],
            "size": [
             287.64
            ],
            "sizemode": "diameter",
            "sizeref": 25
           },
           "mode": "markers",
           "text": [
            "File: HFTS2_20190412_042831_040<br>Magnitude: -2.77",
            "File: HFTS2_20190412_042832_040<br>Magnitude: -2.73",
            "File: HFTS2_20190412_042833_040<br>Magnitude: -2.65",
            "File: HFTS2_20190412_042835_040<br>Magnitude: -2.65",
            "File: HFTS2_20190412_043437_040<br>Magnitude: -2.56",
            "File: HFTS2_20190412_043802_040<br>Magnitude: -2.35",
            "File: HFTS2_20190412_043803_040<br>Magnitude: -2.22",
            "File: HFTS2_20190412_044156_040<br>Magnitude: -2.03",
            "File: HFTS2_20190412_044403_040<br>Magnitude: -2.39",
            "File: HFTS2_20190412_044404_040<br>Magnitude: -2.10",
            "File: HFTS2_20190412_044435_040_Merged<br>Magnitude: -2.47",
            "File: HFTS2_20190412_044506_040<br>Magnitude: -2.32",
            "File: HFTS2_20190412_044516_040<br>Magnitude: -1.97",
            "File: HFTS2_20190412_044521_040<br>Magnitude: -2.07",
            "File: HFTS2_20190412_044522_040<br>Magnitude: -2.47",
            "File: HFTS2_20190412_044526_040<br>Magnitude: -2.74",
            "File: HFTS2_20190412_044540_040<br>Magnitude: -2.21",
            "File: HFTS2_20190412_044542_040<br>Magnitude: -2.56",
            "File: HFTS2_20190412_044543_040<br>Magnitude: -2.36",
            "File: HFTS2_20190412_044544_040<br>Magnitude: -2.59",
            "File: HFTS2_20190412_044545_040<br>Magnitude: -2.60",
            "File: HFTS2_20190412_044605_040<br>Magnitude: -2.71",
            "File: HFTS2_20190412_044619_040<br>Magnitude: -2.54",
            "File: HFTS2_20190412_044620_040<br>Magnitude: -1.81",
            "File: HFTS2_20190412_044623_040<br>Magnitude: -2.21",
            "File: HFTS2_20190412_044643_040<br>Magnitude: -2.30",
            "File: HFTS2_20190412_044647_040<br>Magnitude: -2.42",
            "File: HFTS2_20190412_044651_040<br>Magnitude: -2.46",
            "File: HFTS2_20190412_044659_040_Merged<br>Magnitude: -1.62",
            "File: HFTS2_20190412_044707_040<br>Magnitude: -2.09",
            "File: HFTS2_20190412_044731_040<br>Magnitude: -2.70",
            "File: HFTS2_20190412_044737_040<br>Magnitude: -2.41",
            "File: HFTS2_20190412_044741_040<br>Magnitude: -2.63",
            "File: HFTS2_20190412_044757_040<br>Magnitude: -2.12",
            "File: HFTS2_20190412_044759_040<br>Magnitude: -2.07",
            "File: HFTS2_20190412_044800_040<br>Magnitude: -2.53",
            "File: HFTS2_20190412_044803_040<br>Magnitude: -2.61",
            "File: HFTS2_20190412_044816_040<br>Magnitude: -2.12",
            "File: HFTS2_20190412_044822_040<br>Magnitude: -2.06",
            "File: HFTS2_20190412_044824_040<br>Magnitude: -2.02",
            "File: HFTS2_20190412_044829_040<br>Magnitude: -1.79",
            "File: HFTS2_20190412_044833_040<br>Magnitude: -2.29",
            "File: HFTS2_20190412_044841_040<br>Magnitude: -2.80",
            "File: HFTS2_20190412_044842_040<br>Magnitude: -2.24",
            "File: HFTS2_20190412_044903_040<br>Magnitude: -2.53",
            "File: HFTS2_20190412_044914_040<br>Magnitude: -2.58",
            "File: HFTS2_20190412_044945_040<br>Magnitude: -2.34",
            "File: HFTS2_20190412_044957_040<br>Magnitude: -2.58",
            "File: HFTS2_20190412_045027_040<br>Magnitude: -2.54",
            "File: HFTS2_20190412_045029_040<br>Magnitude: -2.63",
            "File: HFTS2_20190412_045035_040<br>Magnitude: -2.49",
            "File: HFTS2_20190412_045126_040<br>Magnitude: -2.40",
            "File: HFTS2_20190412_045127_040<br>Magnitude: -2.66",
            "File: HFTS2_20190412_045157_040<br>Magnitude: -2.08",
            "File: HFTS2_20190412_045254_040<br>Magnitude: -2.98",
            "File: HFTS2_20190412_045333_040<br>Magnitude: -2.15",
            "File: HFTS2_20190412_045344_040<br>Magnitude: -2.72",
            "File: HFTS2_20190412_045434_040<br>Magnitude: -2.50",
            "File: HFTS2_20190412_045451_040<br>Magnitude: -2.17",
            "File: HFTS2_20190412_045457_040<br>Magnitude: -2.51",
            "File: HFTS2_20190412_045523_040<br>Magnitude: -2.33",
            "File: HFTS2_20190412_045526_040<br>Magnitude: -2.80",
            "File: HFTS2_20190412_045528_040<br>Magnitude: -2.65",
            "File: HFTS2_20190412_045530_040<br>Magnitude: -2.49",
            "File: HFTS2_20190412_045535_040<br>Magnitude: -2.52",
            "File: HFTS2_20190412_045537_040<br>Magnitude: -2.76",
            "File: HFTS2_20190412_045550_040<br>Magnitude: -2.54",
            "File: HFTS2_20190412_045558_040<br>Magnitude: -2.77",
            "File: HFTS2_20190412_045602_040<br>Magnitude: -2.00",
            "File: HFTS2_20190412_045604_040<br>Magnitude: -2.78",
            "File: HFTS2_20190412_045608_040<br>Magnitude: -2.12",
            "File: HFTS2_20190412_045611_040<br>Magnitude: -2.60",
            "File: HFTS2_20190412_045620_040<br>Magnitude: -2.31",
            "File: HFTS2_20190412_045630_040<br>Magnitude: -2.65",
            "File: HFTS2_20190412_045644_040<br>Magnitude: -2.50",
            "File: HFTS2_20190412_045716_040<br>Magnitude: -2.37",
            "File: HFTS2_20190412_045727_040<br>Magnitude: -2.57",
            "File: HFTS2_20190412_045809_040<br>Magnitude: -2.58",
            "File: HFTS2_20190412_045818_040<br>Magnitude: -2.67",
            "File: HFTS2_20190412_045840_040<br>Magnitude: -2.77",
            "File: HFTS2_20190412_045938_040<br>Magnitude: -2.77",
            "File: HFTS2_20190412_045943_040<br>Magnitude: -2.39",
            "File: HFTS2_20190412_045952_040<br>Magnitude: -2.52",
            "File: HFTS2_20190412_050004_040<br>Magnitude: -2.35",
            "File: HFTS2_20190412_050011_040<br>Magnitude: -2.47",
            "File: HFTS2_20190412_050036_040<br>Magnitude: -2.61",
            "File: HFTS2_20190412_050053_040<br>Magnitude: -2.92",
            "File: HFTS2_20190412_050100_040<br>Magnitude: -2.58",
            "File: HFTS2_20190412_050127_040<br>Magnitude: -2.58",
            "File: HFTS2_20190412_050128_040<br>Magnitude: -2.57",
            "File: HFTS2_20190412_050133_040<br>Magnitude: -2.77",
            "File: HFTS2_20190412_050147_040<br>Magnitude: -2.71",
            "File: HFTS2_20190412_050202_040<br>Magnitude: -2.88",
            "File: HFTS2_20190412_050221_040<br>Magnitude: -2.82",
            "File: HFTS2_20190412_050315_040<br>Magnitude: -2.47",
            "File: HFTS2_20190412_050325_040<br>Magnitude: -2.62",
            "File: HFTS2_20190412_050358_040<br>Magnitude: -2.78",
            "File: HFTS2_20190412_050425_040<br>Magnitude: -2.75",
            "File: HFTS2_20190412_050456_040<br>Magnitude: -2.44",
            "File: HFTS2_20190412_050534_040<br>Magnitude: -2.59",
            "File: HFTS2_20190412_050607_040<br>Magnitude: -2.54"
           ],
           "type": "scatter3d",
           "x": [
            954080.6485
           ],
           "y": [
            849249.2048
           ],
           "z": [
            8579.9587
           ]
          }
         ],
         "name": "2019-04-12 05:02:02.293000"
        },
        {
         "data": [
          {
           "marker": {
            "cmax": -1.6189,
            "cmin": -2.9802,
            "color": [
             -2.8152
            ],
            "colorscale": [
             [
              0,
              "#440154"
             ],
             [
              0.1111111111111111,
              "#482878"
             ],
             [
              0.2222222222222222,
              "#3e4989"
             ],
             [
              0.3333333333333333,
              "#31688e"
             ],
             [
              0.4444444444444444,
              "#26828e"
             ],
             [
              0.5555555555555556,
              "#1f9e89"
             ],
             [
              0.6666666666666666,
              "#35b779"
             ],
             [
              0.7777777777777778,
              "#6ece58"
             ],
             [
              0.8888888888888888,
              "#b5de2b"
             ],
             [
              1,
              "#fde725"
             ]
            ],
            "size": [
             281.52
            ],
            "sizemode": "diameter",
            "sizeref": 25
           },
           "mode": "markers",
           "text": [
            "File: HFTS2_20190412_042831_040<br>Magnitude: -2.77",
            "File: HFTS2_20190412_042832_040<br>Magnitude: -2.73",
            "File: HFTS2_20190412_042833_040<br>Magnitude: -2.65",
            "File: HFTS2_20190412_042835_040<br>Magnitude: -2.65",
            "File: HFTS2_20190412_043437_040<br>Magnitude: -2.56",
            "File: HFTS2_20190412_043802_040<br>Magnitude: -2.35",
            "File: HFTS2_20190412_043803_040<br>Magnitude: -2.22",
            "File: HFTS2_20190412_044156_040<br>Magnitude: -2.03",
            "File: HFTS2_20190412_044403_040<br>Magnitude: -2.39",
            "File: HFTS2_20190412_044404_040<br>Magnitude: -2.10",
            "File: HFTS2_20190412_044435_040_Merged<br>Magnitude: -2.47",
            "File: HFTS2_20190412_044506_040<br>Magnitude: -2.32",
            "File: HFTS2_20190412_044516_040<br>Magnitude: -1.97",
            "File: HFTS2_20190412_044521_040<br>Magnitude: -2.07",
            "File: HFTS2_20190412_044522_040<br>Magnitude: -2.47",
            "File: HFTS2_20190412_044526_040<br>Magnitude: -2.74",
            "File: HFTS2_20190412_044540_040<br>Magnitude: -2.21",
            "File: HFTS2_20190412_044542_040<br>Magnitude: -2.56",
            "File: HFTS2_20190412_044543_040<br>Magnitude: -2.36",
            "File: HFTS2_20190412_044544_040<br>Magnitude: -2.59",
            "File: HFTS2_20190412_044545_040<br>Magnitude: -2.60",
            "File: HFTS2_20190412_044605_040<br>Magnitude: -2.71",
            "File: HFTS2_20190412_044619_040<br>Magnitude: -2.54",
            "File: HFTS2_20190412_044620_040<br>Magnitude: -1.81",
            "File: HFTS2_20190412_044623_040<br>Magnitude: -2.21",
            "File: HFTS2_20190412_044643_040<br>Magnitude: -2.30",
            "File: HFTS2_20190412_044647_040<br>Magnitude: -2.42",
            "File: HFTS2_20190412_044651_040<br>Magnitude: -2.46",
            "File: HFTS2_20190412_044659_040_Merged<br>Magnitude: -1.62",
            "File: HFTS2_20190412_044707_040<br>Magnitude: -2.09",
            "File: HFTS2_20190412_044731_040<br>Magnitude: -2.70",
            "File: HFTS2_20190412_044737_040<br>Magnitude: -2.41",
            "File: HFTS2_20190412_044741_040<br>Magnitude: -2.63",
            "File: HFTS2_20190412_044757_040<br>Magnitude: -2.12",
            "File: HFTS2_20190412_044759_040<br>Magnitude: -2.07",
            "File: HFTS2_20190412_044800_040<br>Magnitude: -2.53",
            "File: HFTS2_20190412_044803_040<br>Magnitude: -2.61",
            "File: HFTS2_20190412_044816_040<br>Magnitude: -2.12",
            "File: HFTS2_20190412_044822_040<br>Magnitude: -2.06",
            "File: HFTS2_20190412_044824_040<br>Magnitude: -2.02",
            "File: HFTS2_20190412_044829_040<br>Magnitude: -1.79",
            "File: HFTS2_20190412_044833_040<br>Magnitude: -2.29",
            "File: HFTS2_20190412_044841_040<br>Magnitude: -2.80",
            "File: HFTS2_20190412_044842_040<br>Magnitude: -2.24",
            "File: HFTS2_20190412_044903_040<br>Magnitude: -2.53",
            "File: HFTS2_20190412_044914_040<br>Magnitude: -2.58",
            "File: HFTS2_20190412_044945_040<br>Magnitude: -2.34",
            "File: HFTS2_20190412_044957_040<br>Magnitude: -2.58",
            "File: HFTS2_20190412_045027_040<br>Magnitude: -2.54",
            "File: HFTS2_20190412_045029_040<br>Magnitude: -2.63",
            "File: HFTS2_20190412_045035_040<br>Magnitude: -2.49",
            "File: HFTS2_20190412_045126_040<br>Magnitude: -2.40",
            "File: HFTS2_20190412_045127_040<br>Magnitude: -2.66",
            "File: HFTS2_20190412_045157_040<br>Magnitude: -2.08",
            "File: HFTS2_20190412_045254_040<br>Magnitude: -2.98",
            "File: HFTS2_20190412_045333_040<br>Magnitude: -2.15",
            "File: HFTS2_20190412_045344_040<br>Magnitude: -2.72",
            "File: HFTS2_20190412_045434_040<br>Magnitude: -2.50",
            "File: HFTS2_20190412_045451_040<br>Magnitude: -2.17",
            "File: HFTS2_20190412_045457_040<br>Magnitude: -2.51",
            "File: HFTS2_20190412_045523_040<br>Magnitude: -2.33",
            "File: HFTS2_20190412_045526_040<br>Magnitude: -2.80",
            "File: HFTS2_20190412_045528_040<br>Magnitude: -2.65",
            "File: HFTS2_20190412_045530_040<br>Magnitude: -2.49",
            "File: HFTS2_20190412_045535_040<br>Magnitude: -2.52",
            "File: HFTS2_20190412_045537_040<br>Magnitude: -2.76",
            "File: HFTS2_20190412_045550_040<br>Magnitude: -2.54",
            "File: HFTS2_20190412_045558_040<br>Magnitude: -2.77",
            "File: HFTS2_20190412_045602_040<br>Magnitude: -2.00",
            "File: HFTS2_20190412_045604_040<br>Magnitude: -2.78",
            "File: HFTS2_20190412_045608_040<br>Magnitude: -2.12",
            "File: HFTS2_20190412_045611_040<br>Magnitude: -2.60",
            "File: HFTS2_20190412_045620_040<br>Magnitude: -2.31",
            "File: HFTS2_20190412_045630_040<br>Magnitude: -2.65",
            "File: HFTS2_20190412_045644_040<br>Magnitude: -2.50",
            "File: HFTS2_20190412_045716_040<br>Magnitude: -2.37",
            "File: HFTS2_20190412_045727_040<br>Magnitude: -2.57",
            "File: HFTS2_20190412_045809_040<br>Magnitude: -2.58",
            "File: HFTS2_20190412_045818_040<br>Magnitude: -2.67",
            "File: HFTS2_20190412_045840_040<br>Magnitude: -2.77",
            "File: HFTS2_20190412_045938_040<br>Magnitude: -2.77",
            "File: HFTS2_20190412_045943_040<br>Magnitude: -2.39",
            "File: HFTS2_20190412_045952_040<br>Magnitude: -2.52",
            "File: HFTS2_20190412_050004_040<br>Magnitude: -2.35",
            "File: HFTS2_20190412_050011_040<br>Magnitude: -2.47",
            "File: HFTS2_20190412_050036_040<br>Magnitude: -2.61",
            "File: HFTS2_20190412_050053_040<br>Magnitude: -2.92",
            "File: HFTS2_20190412_050100_040<br>Magnitude: -2.58",
            "File: HFTS2_20190412_050127_040<br>Magnitude: -2.58",
            "File: HFTS2_20190412_050128_040<br>Magnitude: -2.57",
            "File: HFTS2_20190412_050133_040<br>Magnitude: -2.77",
            "File: HFTS2_20190412_050147_040<br>Magnitude: -2.71",
            "File: HFTS2_20190412_050202_040<br>Magnitude: -2.88",
            "File: HFTS2_20190412_050221_040<br>Magnitude: -2.82",
            "File: HFTS2_20190412_050315_040<br>Magnitude: -2.47",
            "File: HFTS2_20190412_050325_040<br>Magnitude: -2.62",
            "File: HFTS2_20190412_050358_040<br>Magnitude: -2.78",
            "File: HFTS2_20190412_050425_040<br>Magnitude: -2.75",
            "File: HFTS2_20190412_050456_040<br>Magnitude: -2.44",
            "File: HFTS2_20190412_050534_040<br>Magnitude: -2.59",
            "File: HFTS2_20190412_050607_040<br>Magnitude: -2.54"
           ],
           "type": "scatter3d",
           "x": [
            954247.0267
           ],
           "y": [
            849299.7673
           ],
           "z": [
            8443.2596
           ]
          }
         ],
         "name": "2019-04-12 05:02:21.288000"
        },
        {
         "data": [
          {
           "marker": {
            "cmax": -1.6189,
            "cmin": -2.9802,
            "color": [
             -2.4675
            ],
            "colorscale": [
             [
              0,
              "#440154"
             ],
             [
              0.1111111111111111,
              "#482878"
             ],
             [
              0.2222222222222222,
              "#3e4989"
             ],
             [
              0.3333333333333333,
              "#31688e"
             ],
             [
              0.4444444444444444,
              "#26828e"
             ],
             [
              0.5555555555555556,
              "#1f9e89"
             ],
             [
              0.6666666666666666,
              "#35b779"
             ],
             [
              0.7777777777777778,
              "#6ece58"
             ],
             [
              0.8888888888888888,
              "#b5de2b"
             ],
             [
              1,
              "#fde725"
             ]
            ],
            "size": [
             246.74999999999997
            ],
            "sizemode": "diameter",
            "sizeref": 25
           },
           "mode": "markers",
           "text": [
            "File: HFTS2_20190412_042831_040<br>Magnitude: -2.77",
            "File: HFTS2_20190412_042832_040<br>Magnitude: -2.73",
            "File: HFTS2_20190412_042833_040<br>Magnitude: -2.65",
            "File: HFTS2_20190412_042835_040<br>Magnitude: -2.65",
            "File: HFTS2_20190412_043437_040<br>Magnitude: -2.56",
            "File: HFTS2_20190412_043802_040<br>Magnitude: -2.35",
            "File: HFTS2_20190412_043803_040<br>Magnitude: -2.22",
            "File: HFTS2_20190412_044156_040<br>Magnitude: -2.03",
            "File: HFTS2_20190412_044403_040<br>Magnitude: -2.39",
            "File: HFTS2_20190412_044404_040<br>Magnitude: -2.10",
            "File: HFTS2_20190412_044435_040_Merged<br>Magnitude: -2.47",
            "File: HFTS2_20190412_044506_040<br>Magnitude: -2.32",
            "File: HFTS2_20190412_044516_040<br>Magnitude: -1.97",
            "File: HFTS2_20190412_044521_040<br>Magnitude: -2.07",
            "File: HFTS2_20190412_044522_040<br>Magnitude: -2.47",
            "File: HFTS2_20190412_044526_040<br>Magnitude: -2.74",
            "File: HFTS2_20190412_044540_040<br>Magnitude: -2.21",
            "File: HFTS2_20190412_044542_040<br>Magnitude: -2.56",
            "File: HFTS2_20190412_044543_040<br>Magnitude: -2.36",
            "File: HFTS2_20190412_044544_040<br>Magnitude: -2.59",
            "File: HFTS2_20190412_044545_040<br>Magnitude: -2.60",
            "File: HFTS2_20190412_044605_040<br>Magnitude: -2.71",
            "File: HFTS2_20190412_044619_040<br>Magnitude: -2.54",
            "File: HFTS2_20190412_044620_040<br>Magnitude: -1.81",
            "File: HFTS2_20190412_044623_040<br>Magnitude: -2.21",
            "File: HFTS2_20190412_044643_040<br>Magnitude: -2.30",
            "File: HFTS2_20190412_044647_040<br>Magnitude: -2.42",
            "File: HFTS2_20190412_044651_040<br>Magnitude: -2.46",
            "File: HFTS2_20190412_044659_040_Merged<br>Magnitude: -1.62",
            "File: HFTS2_20190412_044707_040<br>Magnitude: -2.09",
            "File: HFTS2_20190412_044731_040<br>Magnitude: -2.70",
            "File: HFTS2_20190412_044737_040<br>Magnitude: -2.41",
            "File: HFTS2_20190412_044741_040<br>Magnitude: -2.63",
            "File: HFTS2_20190412_044757_040<br>Magnitude: -2.12",
            "File: HFTS2_20190412_044759_040<br>Magnitude: -2.07",
            "File: HFTS2_20190412_044800_040<br>Magnitude: -2.53",
            "File: HFTS2_20190412_044803_040<br>Magnitude: -2.61",
            "File: HFTS2_20190412_044816_040<br>Magnitude: -2.12",
            "File: HFTS2_20190412_044822_040<br>Magnitude: -2.06",
            "File: HFTS2_20190412_044824_040<br>Magnitude: -2.02",
            "File: HFTS2_20190412_044829_040<br>Magnitude: -1.79",
            "File: HFTS2_20190412_044833_040<br>Magnitude: -2.29",
            "File: HFTS2_20190412_044841_040<br>Magnitude: -2.80",
            "File: HFTS2_20190412_044842_040<br>Magnitude: -2.24",
            "File: HFTS2_20190412_044903_040<br>Magnitude: -2.53",
            "File: HFTS2_20190412_044914_040<br>Magnitude: -2.58",
            "File: HFTS2_20190412_044945_040<br>Magnitude: -2.34",
            "File: HFTS2_20190412_044957_040<br>Magnitude: -2.58",
            "File: HFTS2_20190412_045027_040<br>Magnitude: -2.54",
            "File: HFTS2_20190412_045029_040<br>Magnitude: -2.63",
            "File: HFTS2_20190412_045035_040<br>Magnitude: -2.49",
            "File: HFTS2_20190412_045126_040<br>Magnitude: -2.40",
            "File: HFTS2_20190412_045127_040<br>Magnitude: -2.66",
            "File: HFTS2_20190412_045157_040<br>Magnitude: -2.08",
            "File: HFTS2_20190412_045254_040<br>Magnitude: -2.98",
            "File: HFTS2_20190412_045333_040<br>Magnitude: -2.15",
            "File: HFTS2_20190412_045344_040<br>Magnitude: -2.72",
            "File: HFTS2_20190412_045434_040<br>Magnitude: -2.50",
            "File: HFTS2_20190412_045451_040<br>Magnitude: -2.17",
            "File: HFTS2_20190412_045457_040<br>Magnitude: -2.51",
            "File: HFTS2_20190412_045523_040<br>Magnitude: -2.33",
            "File: HFTS2_20190412_045526_040<br>Magnitude: -2.80",
            "File: HFTS2_20190412_045528_040<br>Magnitude: -2.65",
            "File: HFTS2_20190412_045530_040<br>Magnitude: -2.49",
            "File: HFTS2_20190412_045535_040<br>Magnitude: -2.52",
            "File: HFTS2_20190412_045537_040<br>Magnitude: -2.76",
            "File: HFTS2_20190412_045550_040<br>Magnitude: -2.54",
            "File: HFTS2_20190412_045558_040<br>Magnitude: -2.77",
            "File: HFTS2_20190412_045602_040<br>Magnitude: -2.00",
            "File: HFTS2_20190412_045604_040<br>Magnitude: -2.78",
            "File: HFTS2_20190412_045608_040<br>Magnitude: -2.12",
            "File: HFTS2_20190412_045611_040<br>Magnitude: -2.60",
            "File: HFTS2_20190412_045620_040<br>Magnitude: -2.31",
            "File: HFTS2_20190412_045630_040<br>Magnitude: -2.65",
            "File: HFTS2_20190412_045644_040<br>Magnitude: -2.50",
            "File: HFTS2_20190412_045716_040<br>Magnitude: -2.37",
            "File: HFTS2_20190412_045727_040<br>Magnitude: -2.57",
            "File: HFTS2_20190412_045809_040<br>Magnitude: -2.58",
            "File: HFTS2_20190412_045818_040<br>Magnitude: -2.67",
            "File: HFTS2_20190412_045840_040<br>Magnitude: -2.77",
            "File: HFTS2_20190412_045938_040<br>Magnitude: -2.77",
            "File: HFTS2_20190412_045943_040<br>Magnitude: -2.39",
            "File: HFTS2_20190412_045952_040<br>Magnitude: -2.52",
            "File: HFTS2_20190412_050004_040<br>Magnitude: -2.35",
            "File: HFTS2_20190412_050011_040<br>Magnitude: -2.47",
            "File: HFTS2_20190412_050036_040<br>Magnitude: -2.61",
            "File: HFTS2_20190412_050053_040<br>Magnitude: -2.92",
            "File: HFTS2_20190412_050100_040<br>Magnitude: -2.58",
            "File: HFTS2_20190412_050127_040<br>Magnitude: -2.58",
            "File: HFTS2_20190412_050128_040<br>Magnitude: -2.57",
            "File: HFTS2_20190412_050133_040<br>Magnitude: -2.77",
            "File: HFTS2_20190412_050147_040<br>Magnitude: -2.71",
            "File: HFTS2_20190412_050202_040<br>Magnitude: -2.88",
            "File: HFTS2_20190412_050221_040<br>Magnitude: -2.82",
            "File: HFTS2_20190412_050315_040<br>Magnitude: -2.47",
            "File: HFTS2_20190412_050325_040<br>Magnitude: -2.62",
            "File: HFTS2_20190412_050358_040<br>Magnitude: -2.78",
            "File: HFTS2_20190412_050425_040<br>Magnitude: -2.75",
            "File: HFTS2_20190412_050456_040<br>Magnitude: -2.44",
            "File: HFTS2_20190412_050534_040<br>Magnitude: -2.59",
            "File: HFTS2_20190412_050607_040<br>Magnitude: -2.54"
           ],
           "type": "scatter3d",
           "x": [
            955074.8124
           ],
           "y": [
            849225.5164
           ],
           "z": [
            8645.0591
           ]
          }
         ],
         "name": "2019-04-12 05:03:15.720000"
        },
        {
         "data": [
          {
           "marker": {
            "cmax": -1.6189,
            "cmin": -2.9802,
            "color": [
             -2.6218
            ],
            "colorscale": [
             [
              0,
              "#440154"
             ],
             [
              0.1111111111111111,
              "#482878"
             ],
             [
              0.2222222222222222,
              "#3e4989"
             ],
             [
              0.3333333333333333,
              "#31688e"
             ],
             [
              0.4444444444444444,
              "#26828e"
             ],
             [
              0.5555555555555556,
              "#1f9e89"
             ],
             [
              0.6666666666666666,
              "#35b779"
             ],
             [
              0.7777777777777778,
              "#6ece58"
             ],
             [
              0.8888888888888888,
              "#b5de2b"
             ],
             [
              1,
              "#fde725"
             ]
            ],
            "size": [
             262.18
            ],
            "sizemode": "diameter",
            "sizeref": 25
           },
           "mode": "markers",
           "text": [
            "File: HFTS2_20190412_042831_040<br>Magnitude: -2.77",
            "File: HFTS2_20190412_042832_040<br>Magnitude: -2.73",
            "File: HFTS2_20190412_042833_040<br>Magnitude: -2.65",
            "File: HFTS2_20190412_042835_040<br>Magnitude: -2.65",
            "File: HFTS2_20190412_043437_040<br>Magnitude: -2.56",
            "File: HFTS2_20190412_043802_040<br>Magnitude: -2.35",
            "File: HFTS2_20190412_043803_040<br>Magnitude: -2.22",
            "File: HFTS2_20190412_044156_040<br>Magnitude: -2.03",
            "File: HFTS2_20190412_044403_040<br>Magnitude: -2.39",
            "File: HFTS2_20190412_044404_040<br>Magnitude: -2.10",
            "File: HFTS2_20190412_044435_040_Merged<br>Magnitude: -2.47",
            "File: HFTS2_20190412_044506_040<br>Magnitude: -2.32",
            "File: HFTS2_20190412_044516_040<br>Magnitude: -1.97",
            "File: HFTS2_20190412_044521_040<br>Magnitude: -2.07",
            "File: HFTS2_20190412_044522_040<br>Magnitude: -2.47",
            "File: HFTS2_20190412_044526_040<br>Magnitude: -2.74",
            "File: HFTS2_20190412_044540_040<br>Magnitude: -2.21",
            "File: HFTS2_20190412_044542_040<br>Magnitude: -2.56",
            "File: HFTS2_20190412_044543_040<br>Magnitude: -2.36",
            "File: HFTS2_20190412_044544_040<br>Magnitude: -2.59",
            "File: HFTS2_20190412_044545_040<br>Magnitude: -2.60",
            "File: HFTS2_20190412_044605_040<br>Magnitude: -2.71",
            "File: HFTS2_20190412_044619_040<br>Magnitude: -2.54",
            "File: HFTS2_20190412_044620_040<br>Magnitude: -1.81",
            "File: HFTS2_20190412_044623_040<br>Magnitude: -2.21",
            "File: HFTS2_20190412_044643_040<br>Magnitude: -2.30",
            "File: HFTS2_20190412_044647_040<br>Magnitude: -2.42",
            "File: HFTS2_20190412_044651_040<br>Magnitude: -2.46",
            "File: HFTS2_20190412_044659_040_Merged<br>Magnitude: -1.62",
            "File: HFTS2_20190412_044707_040<br>Magnitude: -2.09",
            "File: HFTS2_20190412_044731_040<br>Magnitude: -2.70",
            "File: HFTS2_20190412_044737_040<br>Magnitude: -2.41",
            "File: HFTS2_20190412_044741_040<br>Magnitude: -2.63",
            "File: HFTS2_20190412_044757_040<br>Magnitude: -2.12",
            "File: HFTS2_20190412_044759_040<br>Magnitude: -2.07",
            "File: HFTS2_20190412_044800_040<br>Magnitude: -2.53",
            "File: HFTS2_20190412_044803_040<br>Magnitude: -2.61",
            "File: HFTS2_20190412_044816_040<br>Magnitude: -2.12",
            "File: HFTS2_20190412_044822_040<br>Magnitude: -2.06",
            "File: HFTS2_20190412_044824_040<br>Magnitude: -2.02",
            "File: HFTS2_20190412_044829_040<br>Magnitude: -1.79",
            "File: HFTS2_20190412_044833_040<br>Magnitude: -2.29",
            "File: HFTS2_20190412_044841_040<br>Magnitude: -2.80",
            "File: HFTS2_20190412_044842_040<br>Magnitude: -2.24",
            "File: HFTS2_20190412_044903_040<br>Magnitude: -2.53",
            "File: HFTS2_20190412_044914_040<br>Magnitude: -2.58",
            "File: HFTS2_20190412_044945_040<br>Magnitude: -2.34",
            "File: HFTS2_20190412_044957_040<br>Magnitude: -2.58",
            "File: HFTS2_20190412_045027_040<br>Magnitude: -2.54",
            "File: HFTS2_20190412_045029_040<br>Magnitude: -2.63",
            "File: HFTS2_20190412_045035_040<br>Magnitude: -2.49",
            "File: HFTS2_20190412_045126_040<br>Magnitude: -2.40",
            "File: HFTS2_20190412_045127_040<br>Magnitude: -2.66",
            "File: HFTS2_20190412_045157_040<br>Magnitude: -2.08",
            "File: HFTS2_20190412_045254_040<br>Magnitude: -2.98",
            "File: HFTS2_20190412_045333_040<br>Magnitude: -2.15",
            "File: HFTS2_20190412_045344_040<br>Magnitude: -2.72",
            "File: HFTS2_20190412_045434_040<br>Magnitude: -2.50",
            "File: HFTS2_20190412_045451_040<br>Magnitude: -2.17",
            "File: HFTS2_20190412_045457_040<br>Magnitude: -2.51",
            "File: HFTS2_20190412_045523_040<br>Magnitude: -2.33",
            "File: HFTS2_20190412_045526_040<br>Magnitude: -2.80",
            "File: HFTS2_20190412_045528_040<br>Magnitude: -2.65",
            "File: HFTS2_20190412_045530_040<br>Magnitude: -2.49",
            "File: HFTS2_20190412_045535_040<br>Magnitude: -2.52",
            "File: HFTS2_20190412_045537_040<br>Magnitude: -2.76",
            "File: HFTS2_20190412_045550_040<br>Magnitude: -2.54",
            "File: HFTS2_20190412_045558_040<br>Magnitude: -2.77",
            "File: HFTS2_20190412_045602_040<br>Magnitude: -2.00",
            "File: HFTS2_20190412_045604_040<br>Magnitude: -2.78",
            "File: HFTS2_20190412_045608_040<br>Magnitude: -2.12",
            "File: HFTS2_20190412_045611_040<br>Magnitude: -2.60",
            "File: HFTS2_20190412_045620_040<br>Magnitude: -2.31",
            "File: HFTS2_20190412_045630_040<br>Magnitude: -2.65",
            "File: HFTS2_20190412_045644_040<br>Magnitude: -2.50",
            "File: HFTS2_20190412_045716_040<br>Magnitude: -2.37",
            "File: HFTS2_20190412_045727_040<br>Magnitude: -2.57",
            "File: HFTS2_20190412_045809_040<br>Magnitude: -2.58",
            "File: HFTS2_20190412_045818_040<br>Magnitude: -2.67",
            "File: HFTS2_20190412_045840_040<br>Magnitude: -2.77",
            "File: HFTS2_20190412_045938_040<br>Magnitude: -2.77",
            "File: HFTS2_20190412_045943_040<br>Magnitude: -2.39",
            "File: HFTS2_20190412_045952_040<br>Magnitude: -2.52",
            "File: HFTS2_20190412_050004_040<br>Magnitude: -2.35",
            "File: HFTS2_20190412_050011_040<br>Magnitude: -2.47",
            "File: HFTS2_20190412_050036_040<br>Magnitude: -2.61",
            "File: HFTS2_20190412_050053_040<br>Magnitude: -2.92",
            "File: HFTS2_20190412_050100_040<br>Magnitude: -2.58",
            "File: HFTS2_20190412_050127_040<br>Magnitude: -2.58",
            "File: HFTS2_20190412_050128_040<br>Magnitude: -2.57",
            "File: HFTS2_20190412_050133_040<br>Magnitude: -2.77",
            "File: HFTS2_20190412_050147_040<br>Magnitude: -2.71",
            "File: HFTS2_20190412_050202_040<br>Magnitude: -2.88",
            "File: HFTS2_20190412_050221_040<br>Magnitude: -2.82",
            "File: HFTS2_20190412_050315_040<br>Magnitude: -2.47",
            "File: HFTS2_20190412_050325_040<br>Magnitude: -2.62",
            "File: HFTS2_20190412_050358_040<br>Magnitude: -2.78",
            "File: HFTS2_20190412_050425_040<br>Magnitude: -2.75",
            "File: HFTS2_20190412_050456_040<br>Magnitude: -2.44",
            "File: HFTS2_20190412_050534_040<br>Magnitude: -2.59",
            "File: HFTS2_20190412_050607_040<br>Magnitude: -2.54"
           ],
           "type": "scatter3d",
           "x": [
            954006.2354
           ],
           "y": [
            849198.0134
           ],
           "z": [
            8424.1454
           ]
          }
         ],
         "name": "2019-04-12 05:03:25.219000"
        },
        {
         "data": [
          {
           "marker": {
            "cmax": -1.6189,
            "cmin": -2.9802,
            "color": [
             -2.7827
            ],
            "colorscale": [
             [
              0,
              "#440154"
             ],
             [
              0.1111111111111111,
              "#482878"
             ],
             [
              0.2222222222222222,
              "#3e4989"
             ],
             [
              0.3333333333333333,
              "#31688e"
             ],
             [
              0.4444444444444444,
              "#26828e"
             ],
             [
              0.5555555555555556,
              "#1f9e89"
             ],
             [
              0.6666666666666666,
              "#35b779"
             ],
             [
              0.7777777777777778,
              "#6ece58"
             ],
             [
              0.8888888888888888,
              "#b5de2b"
             ],
             [
              1,
              "#fde725"
             ]
            ],
            "size": [
             278.27000000000004
            ],
            "sizemode": "diameter",
            "sizeref": 25
           },
           "mode": "markers",
           "text": [
            "File: HFTS2_20190412_042831_040<br>Magnitude: -2.77",
            "File: HFTS2_20190412_042832_040<br>Magnitude: -2.73",
            "File: HFTS2_20190412_042833_040<br>Magnitude: -2.65",
            "File: HFTS2_20190412_042835_040<br>Magnitude: -2.65",
            "File: HFTS2_20190412_043437_040<br>Magnitude: -2.56",
            "File: HFTS2_20190412_043802_040<br>Magnitude: -2.35",
            "File: HFTS2_20190412_043803_040<br>Magnitude: -2.22",
            "File: HFTS2_20190412_044156_040<br>Magnitude: -2.03",
            "File: HFTS2_20190412_044403_040<br>Magnitude: -2.39",
            "File: HFTS2_20190412_044404_040<br>Magnitude: -2.10",
            "File: HFTS2_20190412_044435_040_Merged<br>Magnitude: -2.47",
            "File: HFTS2_20190412_044506_040<br>Magnitude: -2.32",
            "File: HFTS2_20190412_044516_040<br>Magnitude: -1.97",
            "File: HFTS2_20190412_044521_040<br>Magnitude: -2.07",
            "File: HFTS2_20190412_044522_040<br>Magnitude: -2.47",
            "File: HFTS2_20190412_044526_040<br>Magnitude: -2.74",
            "File: HFTS2_20190412_044540_040<br>Magnitude: -2.21",
            "File: HFTS2_20190412_044542_040<br>Magnitude: -2.56",
            "File: HFTS2_20190412_044543_040<br>Magnitude: -2.36",
            "File: HFTS2_20190412_044544_040<br>Magnitude: -2.59",
            "File: HFTS2_20190412_044545_040<br>Magnitude: -2.60",
            "File: HFTS2_20190412_044605_040<br>Magnitude: -2.71",
            "File: HFTS2_20190412_044619_040<br>Magnitude: -2.54",
            "File: HFTS2_20190412_044620_040<br>Magnitude: -1.81",
            "File: HFTS2_20190412_044623_040<br>Magnitude: -2.21",
            "File: HFTS2_20190412_044643_040<br>Magnitude: -2.30",
            "File: HFTS2_20190412_044647_040<br>Magnitude: -2.42",
            "File: HFTS2_20190412_044651_040<br>Magnitude: -2.46",
            "File: HFTS2_20190412_044659_040_Merged<br>Magnitude: -1.62",
            "File: HFTS2_20190412_044707_040<br>Magnitude: -2.09",
            "File: HFTS2_20190412_044731_040<br>Magnitude: -2.70",
            "File: HFTS2_20190412_044737_040<br>Magnitude: -2.41",
            "File: HFTS2_20190412_044741_040<br>Magnitude: -2.63",
            "File: HFTS2_20190412_044757_040<br>Magnitude: -2.12",
            "File: HFTS2_20190412_044759_040<br>Magnitude: -2.07",
            "File: HFTS2_20190412_044800_040<br>Magnitude: -2.53",
            "File: HFTS2_20190412_044803_040<br>Magnitude: -2.61",
            "File: HFTS2_20190412_044816_040<br>Magnitude: -2.12",
            "File: HFTS2_20190412_044822_040<br>Magnitude: -2.06",
            "File: HFTS2_20190412_044824_040<br>Magnitude: -2.02",
            "File: HFTS2_20190412_044829_040<br>Magnitude: -1.79",
            "File: HFTS2_20190412_044833_040<br>Magnitude: -2.29",
            "File: HFTS2_20190412_044841_040<br>Magnitude: -2.80",
            "File: HFTS2_20190412_044842_040<br>Magnitude: -2.24",
            "File: HFTS2_20190412_044903_040<br>Magnitude: -2.53",
            "File: HFTS2_20190412_044914_040<br>Magnitude: -2.58",
            "File: HFTS2_20190412_044945_040<br>Magnitude: -2.34",
            "File: HFTS2_20190412_044957_040<br>Magnitude: -2.58",
            "File: HFTS2_20190412_045027_040<br>Magnitude: -2.54",
            "File: HFTS2_20190412_045029_040<br>Magnitude: -2.63",
            "File: HFTS2_20190412_045035_040<br>Magnitude: -2.49",
            "File: HFTS2_20190412_045126_040<br>Magnitude: -2.40",
            "File: HFTS2_20190412_045127_040<br>Magnitude: -2.66",
            "File: HFTS2_20190412_045157_040<br>Magnitude: -2.08",
            "File: HFTS2_20190412_045254_040<br>Magnitude: -2.98",
            "File: HFTS2_20190412_045333_040<br>Magnitude: -2.15",
            "File: HFTS2_20190412_045344_040<br>Magnitude: -2.72",
            "File: HFTS2_20190412_045434_040<br>Magnitude: -2.50",
            "File: HFTS2_20190412_045451_040<br>Magnitude: -2.17",
            "File: HFTS2_20190412_045457_040<br>Magnitude: -2.51",
            "File: HFTS2_20190412_045523_040<br>Magnitude: -2.33",
            "File: HFTS2_20190412_045526_040<br>Magnitude: -2.80",
            "File: HFTS2_20190412_045528_040<br>Magnitude: -2.65",
            "File: HFTS2_20190412_045530_040<br>Magnitude: -2.49",
            "File: HFTS2_20190412_045535_040<br>Magnitude: -2.52",
            "File: HFTS2_20190412_045537_040<br>Magnitude: -2.76",
            "File: HFTS2_20190412_045550_040<br>Magnitude: -2.54",
            "File: HFTS2_20190412_045558_040<br>Magnitude: -2.77",
            "File: HFTS2_20190412_045602_040<br>Magnitude: -2.00",
            "File: HFTS2_20190412_045604_040<br>Magnitude: -2.78",
            "File: HFTS2_20190412_045608_040<br>Magnitude: -2.12",
            "File: HFTS2_20190412_045611_040<br>Magnitude: -2.60",
            "File: HFTS2_20190412_045620_040<br>Magnitude: -2.31",
            "File: HFTS2_20190412_045630_040<br>Magnitude: -2.65",
            "File: HFTS2_20190412_045644_040<br>Magnitude: -2.50",
            "File: HFTS2_20190412_045716_040<br>Magnitude: -2.37",
            "File: HFTS2_20190412_045727_040<br>Magnitude: -2.57",
            "File: HFTS2_20190412_045809_040<br>Magnitude: -2.58",
            "File: HFTS2_20190412_045818_040<br>Magnitude: -2.67",
            "File: HFTS2_20190412_045840_040<br>Magnitude: -2.77",
            "File: HFTS2_20190412_045938_040<br>Magnitude: -2.77",
            "File: HFTS2_20190412_045943_040<br>Magnitude: -2.39",
            "File: HFTS2_20190412_045952_040<br>Magnitude: -2.52",
            "File: HFTS2_20190412_050004_040<br>Magnitude: -2.35",
            "File: HFTS2_20190412_050011_040<br>Magnitude: -2.47",
            "File: HFTS2_20190412_050036_040<br>Magnitude: -2.61",
            "File: HFTS2_20190412_050053_040<br>Magnitude: -2.92",
            "File: HFTS2_20190412_050100_040<br>Magnitude: -2.58",
            "File: HFTS2_20190412_050127_040<br>Magnitude: -2.58",
            "File: HFTS2_20190412_050128_040<br>Magnitude: -2.57",
            "File: HFTS2_20190412_050133_040<br>Magnitude: -2.77",
            "File: HFTS2_20190412_050147_040<br>Magnitude: -2.71",
            "File: HFTS2_20190412_050202_040<br>Magnitude: -2.88",
            "File: HFTS2_20190412_050221_040<br>Magnitude: -2.82",
            "File: HFTS2_20190412_050315_040<br>Magnitude: -2.47",
            "File: HFTS2_20190412_050325_040<br>Magnitude: -2.62",
            "File: HFTS2_20190412_050358_040<br>Magnitude: -2.78",
            "File: HFTS2_20190412_050425_040<br>Magnitude: -2.75",
            "File: HFTS2_20190412_050456_040<br>Magnitude: -2.44",
            "File: HFTS2_20190412_050534_040<br>Magnitude: -2.59",
            "File: HFTS2_20190412_050607_040<br>Magnitude: -2.54"
           ],
           "type": "scatter3d",
           "x": [
            954589.3258
           ],
           "y": [
            849218.5462
           ],
           "z": [
            8395.0987
           ]
          }
         ],
         "name": "2019-04-12 05:03:58.264000"
        },
        {
         "data": [
          {
           "marker": {
            "cmax": -1.6189,
            "cmin": -2.9802,
            "color": [
             -2.7549
            ],
            "colorscale": [
             [
              0,
              "#440154"
             ],
             [
              0.1111111111111111,
              "#482878"
             ],
             [
              0.2222222222222222,
              "#3e4989"
             ],
             [
              0.3333333333333333,
              "#31688e"
             ],
             [
              0.4444444444444444,
              "#26828e"
             ],
             [
              0.5555555555555556,
              "#1f9e89"
             ],
             [
              0.6666666666666666,
              "#35b779"
             ],
             [
              0.7777777777777778,
              "#6ece58"
             ],
             [
              0.8888888888888888,
              "#b5de2b"
             ],
             [
              1,
              "#fde725"
             ]
            ],
            "size": [
             275.49
            ],
            "sizemode": "diameter",
            "sizeref": 25
           },
           "mode": "markers",
           "text": [
            "File: HFTS2_20190412_042831_040<br>Magnitude: -2.77",
            "File: HFTS2_20190412_042832_040<br>Magnitude: -2.73",
            "File: HFTS2_20190412_042833_040<br>Magnitude: -2.65",
            "File: HFTS2_20190412_042835_040<br>Magnitude: -2.65",
            "File: HFTS2_20190412_043437_040<br>Magnitude: -2.56",
            "File: HFTS2_20190412_043802_040<br>Magnitude: -2.35",
            "File: HFTS2_20190412_043803_040<br>Magnitude: -2.22",
            "File: HFTS2_20190412_044156_040<br>Magnitude: -2.03",
            "File: HFTS2_20190412_044403_040<br>Magnitude: -2.39",
            "File: HFTS2_20190412_044404_040<br>Magnitude: -2.10",
            "File: HFTS2_20190412_044435_040_Merged<br>Magnitude: -2.47",
            "File: HFTS2_20190412_044506_040<br>Magnitude: -2.32",
            "File: HFTS2_20190412_044516_040<br>Magnitude: -1.97",
            "File: HFTS2_20190412_044521_040<br>Magnitude: -2.07",
            "File: HFTS2_20190412_044522_040<br>Magnitude: -2.47",
            "File: HFTS2_20190412_044526_040<br>Magnitude: -2.74",
            "File: HFTS2_20190412_044540_040<br>Magnitude: -2.21",
            "File: HFTS2_20190412_044542_040<br>Magnitude: -2.56",
            "File: HFTS2_20190412_044543_040<br>Magnitude: -2.36",
            "File: HFTS2_20190412_044544_040<br>Magnitude: -2.59",
            "File: HFTS2_20190412_044545_040<br>Magnitude: -2.60",
            "File: HFTS2_20190412_044605_040<br>Magnitude: -2.71",
            "File: HFTS2_20190412_044619_040<br>Magnitude: -2.54",
            "File: HFTS2_20190412_044620_040<br>Magnitude: -1.81",
            "File: HFTS2_20190412_044623_040<br>Magnitude: -2.21",
            "File: HFTS2_20190412_044643_040<br>Magnitude: -2.30",
            "File: HFTS2_20190412_044647_040<br>Magnitude: -2.42",
            "File: HFTS2_20190412_044651_040<br>Magnitude: -2.46",
            "File: HFTS2_20190412_044659_040_Merged<br>Magnitude: -1.62",
            "File: HFTS2_20190412_044707_040<br>Magnitude: -2.09",
            "File: HFTS2_20190412_044731_040<br>Magnitude: -2.70",
            "File: HFTS2_20190412_044737_040<br>Magnitude: -2.41",
            "File: HFTS2_20190412_044741_040<br>Magnitude: -2.63",
            "File: HFTS2_20190412_044757_040<br>Magnitude: -2.12",
            "File: HFTS2_20190412_044759_040<br>Magnitude: -2.07",
            "File: HFTS2_20190412_044800_040<br>Magnitude: -2.53",
            "File: HFTS2_20190412_044803_040<br>Magnitude: -2.61",
            "File: HFTS2_20190412_044816_040<br>Magnitude: -2.12",
            "File: HFTS2_20190412_044822_040<br>Magnitude: -2.06",
            "File: HFTS2_20190412_044824_040<br>Magnitude: -2.02",
            "File: HFTS2_20190412_044829_040<br>Magnitude: -1.79",
            "File: HFTS2_20190412_044833_040<br>Magnitude: -2.29",
            "File: HFTS2_20190412_044841_040<br>Magnitude: -2.80",
            "File: HFTS2_20190412_044842_040<br>Magnitude: -2.24",
            "File: HFTS2_20190412_044903_040<br>Magnitude: -2.53",
            "File: HFTS2_20190412_044914_040<br>Magnitude: -2.58",
            "File: HFTS2_20190412_044945_040<br>Magnitude: -2.34",
            "File: HFTS2_20190412_044957_040<br>Magnitude: -2.58",
            "File: HFTS2_20190412_045027_040<br>Magnitude: -2.54",
            "File: HFTS2_20190412_045029_040<br>Magnitude: -2.63",
            "File: HFTS2_20190412_045035_040<br>Magnitude: -2.49",
            "File: HFTS2_20190412_045126_040<br>Magnitude: -2.40",
            "File: HFTS2_20190412_045127_040<br>Magnitude: -2.66",
            "File: HFTS2_20190412_045157_040<br>Magnitude: -2.08",
            "File: HFTS2_20190412_045254_040<br>Magnitude: -2.98",
            "File: HFTS2_20190412_045333_040<br>Magnitude: -2.15",
            "File: HFTS2_20190412_045344_040<br>Magnitude: -2.72",
            "File: HFTS2_20190412_045434_040<br>Magnitude: -2.50",
            "File: HFTS2_20190412_045451_040<br>Magnitude: -2.17",
            "File: HFTS2_20190412_045457_040<br>Magnitude: -2.51",
            "File: HFTS2_20190412_045523_040<br>Magnitude: -2.33",
            "File: HFTS2_20190412_045526_040<br>Magnitude: -2.80",
            "File: HFTS2_20190412_045528_040<br>Magnitude: -2.65",
            "File: HFTS2_20190412_045530_040<br>Magnitude: -2.49",
            "File: HFTS2_20190412_045535_040<br>Magnitude: -2.52",
            "File: HFTS2_20190412_045537_040<br>Magnitude: -2.76",
            "File: HFTS2_20190412_045550_040<br>Magnitude: -2.54",
            "File: HFTS2_20190412_045558_040<br>Magnitude: -2.77",
            "File: HFTS2_20190412_045602_040<br>Magnitude: -2.00",
            "File: HFTS2_20190412_045604_040<br>Magnitude: -2.78",
            "File: HFTS2_20190412_045608_040<br>Magnitude: -2.12",
            "File: HFTS2_20190412_045611_040<br>Magnitude: -2.60",
            "File: HFTS2_20190412_045620_040<br>Magnitude: -2.31",
            "File: HFTS2_20190412_045630_040<br>Magnitude: -2.65",
            "File: HFTS2_20190412_045644_040<br>Magnitude: -2.50",
            "File: HFTS2_20190412_045716_040<br>Magnitude: -2.37",
            "File: HFTS2_20190412_045727_040<br>Magnitude: -2.57",
            "File: HFTS2_20190412_045809_040<br>Magnitude: -2.58",
            "File: HFTS2_20190412_045818_040<br>Magnitude: -2.67",
            "File: HFTS2_20190412_045840_040<br>Magnitude: -2.77",
            "File: HFTS2_20190412_045938_040<br>Magnitude: -2.77",
            "File: HFTS2_20190412_045943_040<br>Magnitude: -2.39",
            "File: HFTS2_20190412_045952_040<br>Magnitude: -2.52",
            "File: HFTS2_20190412_050004_040<br>Magnitude: -2.35",
            "File: HFTS2_20190412_050011_040<br>Magnitude: -2.47",
            "File: HFTS2_20190412_050036_040<br>Magnitude: -2.61",
            "File: HFTS2_20190412_050053_040<br>Magnitude: -2.92",
            "File: HFTS2_20190412_050100_040<br>Magnitude: -2.58",
            "File: HFTS2_20190412_050127_040<br>Magnitude: -2.58",
            "File: HFTS2_20190412_050128_040<br>Magnitude: -2.57",
            "File: HFTS2_20190412_050133_040<br>Magnitude: -2.77",
            "File: HFTS2_20190412_050147_040<br>Magnitude: -2.71",
            "File: HFTS2_20190412_050202_040<br>Magnitude: -2.88",
            "File: HFTS2_20190412_050221_040<br>Magnitude: -2.82",
            "File: HFTS2_20190412_050315_040<br>Magnitude: -2.47",
            "File: HFTS2_20190412_050325_040<br>Magnitude: -2.62",
            "File: HFTS2_20190412_050358_040<br>Magnitude: -2.78",
            "File: HFTS2_20190412_050425_040<br>Magnitude: -2.75",
            "File: HFTS2_20190412_050456_040<br>Magnitude: -2.44",
            "File: HFTS2_20190412_050534_040<br>Magnitude: -2.59",
            "File: HFTS2_20190412_050607_040<br>Magnitude: -2.54"
           ],
           "type": "scatter3d",
           "x": [
            953976.7584
           ],
           "y": [
            849218.1286
           ],
           "z": [
            8775.6284
           ]
          }
         ],
         "name": "2019-04-12 05:04:25.771000"
        },
        {
         "data": [
          {
           "marker": {
            "cmax": -1.6189,
            "cmin": -2.9802,
            "color": [
             -2.4369
            ],
            "colorscale": [
             [
              0,
              "#440154"
             ],
             [
              0.1111111111111111,
              "#482878"
             ],
             [
              0.2222222222222222,
              "#3e4989"
             ],
             [
              0.3333333333333333,
              "#31688e"
             ],
             [
              0.4444444444444444,
              "#26828e"
             ],
             [
              0.5555555555555556,
              "#1f9e89"
             ],
             [
              0.6666666666666666,
              "#35b779"
             ],
             [
              0.7777777777777778,
              "#6ece58"
             ],
             [
              0.8888888888888888,
              "#b5de2b"
             ],
             [
              1,
              "#fde725"
             ]
            ],
            "size": [
             243.69
            ],
            "sizemode": "diameter",
            "sizeref": 25
           },
           "mode": "markers",
           "text": [
            "File: HFTS2_20190412_042831_040<br>Magnitude: -2.77",
            "File: HFTS2_20190412_042832_040<br>Magnitude: -2.73",
            "File: HFTS2_20190412_042833_040<br>Magnitude: -2.65",
            "File: HFTS2_20190412_042835_040<br>Magnitude: -2.65",
            "File: HFTS2_20190412_043437_040<br>Magnitude: -2.56",
            "File: HFTS2_20190412_043802_040<br>Magnitude: -2.35",
            "File: HFTS2_20190412_043803_040<br>Magnitude: -2.22",
            "File: HFTS2_20190412_044156_040<br>Magnitude: -2.03",
            "File: HFTS2_20190412_044403_040<br>Magnitude: -2.39",
            "File: HFTS2_20190412_044404_040<br>Magnitude: -2.10",
            "File: HFTS2_20190412_044435_040_Merged<br>Magnitude: -2.47",
            "File: HFTS2_20190412_044506_040<br>Magnitude: -2.32",
            "File: HFTS2_20190412_044516_040<br>Magnitude: -1.97",
            "File: HFTS2_20190412_044521_040<br>Magnitude: -2.07",
            "File: HFTS2_20190412_044522_040<br>Magnitude: -2.47",
            "File: HFTS2_20190412_044526_040<br>Magnitude: -2.74",
            "File: HFTS2_20190412_044540_040<br>Magnitude: -2.21",
            "File: HFTS2_20190412_044542_040<br>Magnitude: -2.56",
            "File: HFTS2_20190412_044543_040<br>Magnitude: -2.36",
            "File: HFTS2_20190412_044544_040<br>Magnitude: -2.59",
            "File: HFTS2_20190412_044545_040<br>Magnitude: -2.60",
            "File: HFTS2_20190412_044605_040<br>Magnitude: -2.71",
            "File: HFTS2_20190412_044619_040<br>Magnitude: -2.54",
            "File: HFTS2_20190412_044620_040<br>Magnitude: -1.81",
            "File: HFTS2_20190412_044623_040<br>Magnitude: -2.21",
            "File: HFTS2_20190412_044643_040<br>Magnitude: -2.30",
            "File: HFTS2_20190412_044647_040<br>Magnitude: -2.42",
            "File: HFTS2_20190412_044651_040<br>Magnitude: -2.46",
            "File: HFTS2_20190412_044659_040_Merged<br>Magnitude: -1.62",
            "File: HFTS2_20190412_044707_040<br>Magnitude: -2.09",
            "File: HFTS2_20190412_044731_040<br>Magnitude: -2.70",
            "File: HFTS2_20190412_044737_040<br>Magnitude: -2.41",
            "File: HFTS2_20190412_044741_040<br>Magnitude: -2.63",
            "File: HFTS2_20190412_044757_040<br>Magnitude: -2.12",
            "File: HFTS2_20190412_044759_040<br>Magnitude: -2.07",
            "File: HFTS2_20190412_044800_040<br>Magnitude: -2.53",
            "File: HFTS2_20190412_044803_040<br>Magnitude: -2.61",
            "File: HFTS2_20190412_044816_040<br>Magnitude: -2.12",
            "File: HFTS2_20190412_044822_040<br>Magnitude: -2.06",
            "File: HFTS2_20190412_044824_040<br>Magnitude: -2.02",
            "File: HFTS2_20190412_044829_040<br>Magnitude: -1.79",
            "File: HFTS2_20190412_044833_040<br>Magnitude: -2.29",
            "File: HFTS2_20190412_044841_040<br>Magnitude: -2.80",
            "File: HFTS2_20190412_044842_040<br>Magnitude: -2.24",
            "File: HFTS2_20190412_044903_040<br>Magnitude: -2.53",
            "File: HFTS2_20190412_044914_040<br>Magnitude: -2.58",
            "File: HFTS2_20190412_044945_040<br>Magnitude: -2.34",
            "File: HFTS2_20190412_044957_040<br>Magnitude: -2.58",
            "File: HFTS2_20190412_045027_040<br>Magnitude: -2.54",
            "File: HFTS2_20190412_045029_040<br>Magnitude: -2.63",
            "File: HFTS2_20190412_045035_040<br>Magnitude: -2.49",
            "File: HFTS2_20190412_045126_040<br>Magnitude: -2.40",
            "File: HFTS2_20190412_045127_040<br>Magnitude: -2.66",
            "File: HFTS2_20190412_045157_040<br>Magnitude: -2.08",
            "File: HFTS2_20190412_045254_040<br>Magnitude: -2.98",
            "File: HFTS2_20190412_045333_040<br>Magnitude: -2.15",
            "File: HFTS2_20190412_045344_040<br>Magnitude: -2.72",
            "File: HFTS2_20190412_045434_040<br>Magnitude: -2.50",
            "File: HFTS2_20190412_045451_040<br>Magnitude: -2.17",
            "File: HFTS2_20190412_045457_040<br>Magnitude: -2.51",
            "File: HFTS2_20190412_045523_040<br>Magnitude: -2.33",
            "File: HFTS2_20190412_045526_040<br>Magnitude: -2.80",
            "File: HFTS2_20190412_045528_040<br>Magnitude: -2.65",
            "File: HFTS2_20190412_045530_040<br>Magnitude: -2.49",
            "File: HFTS2_20190412_045535_040<br>Magnitude: -2.52",
            "File: HFTS2_20190412_045537_040<br>Magnitude: -2.76",
            "File: HFTS2_20190412_045550_040<br>Magnitude: -2.54",
            "File: HFTS2_20190412_045558_040<br>Magnitude: -2.77",
            "File: HFTS2_20190412_045602_040<br>Magnitude: -2.00",
            "File: HFTS2_20190412_045604_040<br>Magnitude: -2.78",
            "File: HFTS2_20190412_045608_040<br>Magnitude: -2.12",
            "File: HFTS2_20190412_045611_040<br>Magnitude: -2.60",
            "File: HFTS2_20190412_045620_040<br>Magnitude: -2.31",
            "File: HFTS2_20190412_045630_040<br>Magnitude: -2.65",
            "File: HFTS2_20190412_045644_040<br>Magnitude: -2.50",
            "File: HFTS2_20190412_045716_040<br>Magnitude: -2.37",
            "File: HFTS2_20190412_045727_040<br>Magnitude: -2.57",
            "File: HFTS2_20190412_045809_040<br>Magnitude: -2.58",
            "File: HFTS2_20190412_045818_040<br>Magnitude: -2.67",
            "File: HFTS2_20190412_045840_040<br>Magnitude: -2.77",
            "File: HFTS2_20190412_045938_040<br>Magnitude: -2.77",
            "File: HFTS2_20190412_045943_040<br>Magnitude: -2.39",
            "File: HFTS2_20190412_045952_040<br>Magnitude: -2.52",
            "File: HFTS2_20190412_050004_040<br>Magnitude: -2.35",
            "File: HFTS2_20190412_050011_040<br>Magnitude: -2.47",
            "File: HFTS2_20190412_050036_040<br>Magnitude: -2.61",
            "File: HFTS2_20190412_050053_040<br>Magnitude: -2.92",
            "File: HFTS2_20190412_050100_040<br>Magnitude: -2.58",
            "File: HFTS2_20190412_050127_040<br>Magnitude: -2.58",
            "File: HFTS2_20190412_050128_040<br>Magnitude: -2.57",
            "File: HFTS2_20190412_050133_040<br>Magnitude: -2.77",
            "File: HFTS2_20190412_050147_040<br>Magnitude: -2.71",
            "File: HFTS2_20190412_050202_040<br>Magnitude: -2.88",
            "File: HFTS2_20190412_050221_040<br>Magnitude: -2.82",
            "File: HFTS2_20190412_050315_040<br>Magnitude: -2.47",
            "File: HFTS2_20190412_050325_040<br>Magnitude: -2.62",
            "File: HFTS2_20190412_050358_040<br>Magnitude: -2.78",
            "File: HFTS2_20190412_050425_040<br>Magnitude: -2.75",
            "File: HFTS2_20190412_050456_040<br>Magnitude: -2.44",
            "File: HFTS2_20190412_050534_040<br>Magnitude: -2.59",
            "File: HFTS2_20190412_050607_040<br>Magnitude: -2.54"
           ],
           "type": "scatter3d",
           "x": [
            955210.8602
           ],
           "y": [
            849175.782
           ],
           "z": [
            8776.1673
           ]
          }
         ],
         "name": "2019-04-12 05:04:56.466000"
        },
        {
         "data": [
          {
           "marker": {
            "cmax": -1.6189,
            "cmin": -2.9802,
            "color": [
             -2.59
            ],
            "colorscale": [
             [
              0,
              "#440154"
             ],
             [
              0.1111111111111111,
              "#482878"
             ],
             [
              0.2222222222222222,
              "#3e4989"
             ],
             [
              0.3333333333333333,
              "#31688e"
             ],
             [
              0.4444444444444444,
              "#26828e"
             ],
             [
              0.5555555555555556,
              "#1f9e89"
             ],
             [
              0.6666666666666666,
              "#35b779"
             ],
             [
              0.7777777777777778,
              "#6ece58"
             ],
             [
              0.8888888888888888,
              "#b5de2b"
             ],
             [
              1,
              "#fde725"
             ]
            ],
            "size": [
             259
            ],
            "sizemode": "diameter",
            "sizeref": 25
           },
           "mode": "markers",
           "text": [
            "File: HFTS2_20190412_042831_040<br>Magnitude: -2.77",
            "File: HFTS2_20190412_042832_040<br>Magnitude: -2.73",
            "File: HFTS2_20190412_042833_040<br>Magnitude: -2.65",
            "File: HFTS2_20190412_042835_040<br>Magnitude: -2.65",
            "File: HFTS2_20190412_043437_040<br>Magnitude: -2.56",
            "File: HFTS2_20190412_043802_040<br>Magnitude: -2.35",
            "File: HFTS2_20190412_043803_040<br>Magnitude: -2.22",
            "File: HFTS2_20190412_044156_040<br>Magnitude: -2.03",
            "File: HFTS2_20190412_044403_040<br>Magnitude: -2.39",
            "File: HFTS2_20190412_044404_040<br>Magnitude: -2.10",
            "File: HFTS2_20190412_044435_040_Merged<br>Magnitude: -2.47",
            "File: HFTS2_20190412_044506_040<br>Magnitude: -2.32",
            "File: HFTS2_20190412_044516_040<br>Magnitude: -1.97",
            "File: HFTS2_20190412_044521_040<br>Magnitude: -2.07",
            "File: HFTS2_20190412_044522_040<br>Magnitude: -2.47",
            "File: HFTS2_20190412_044526_040<br>Magnitude: -2.74",
            "File: HFTS2_20190412_044540_040<br>Magnitude: -2.21",
            "File: HFTS2_20190412_044542_040<br>Magnitude: -2.56",
            "File: HFTS2_20190412_044543_040<br>Magnitude: -2.36",
            "File: HFTS2_20190412_044544_040<br>Magnitude: -2.59",
            "File: HFTS2_20190412_044545_040<br>Magnitude: -2.60",
            "File: HFTS2_20190412_044605_040<br>Magnitude: -2.71",
            "File: HFTS2_20190412_044619_040<br>Magnitude: -2.54",
            "File: HFTS2_20190412_044620_040<br>Magnitude: -1.81",
            "File: HFTS2_20190412_044623_040<br>Magnitude: -2.21",
            "File: HFTS2_20190412_044643_040<br>Magnitude: -2.30",
            "File: HFTS2_20190412_044647_040<br>Magnitude: -2.42",
            "File: HFTS2_20190412_044651_040<br>Magnitude: -2.46",
            "File: HFTS2_20190412_044659_040_Merged<br>Magnitude: -1.62",
            "File: HFTS2_20190412_044707_040<br>Magnitude: -2.09",
            "File: HFTS2_20190412_044731_040<br>Magnitude: -2.70",
            "File: HFTS2_20190412_044737_040<br>Magnitude: -2.41",
            "File: HFTS2_20190412_044741_040<br>Magnitude: -2.63",
            "File: HFTS2_20190412_044757_040<br>Magnitude: -2.12",
            "File: HFTS2_20190412_044759_040<br>Magnitude: -2.07",
            "File: HFTS2_20190412_044800_040<br>Magnitude: -2.53",
            "File: HFTS2_20190412_044803_040<br>Magnitude: -2.61",
            "File: HFTS2_20190412_044816_040<br>Magnitude: -2.12",
            "File: HFTS2_20190412_044822_040<br>Magnitude: -2.06",
            "File: HFTS2_20190412_044824_040<br>Magnitude: -2.02",
            "File: HFTS2_20190412_044829_040<br>Magnitude: -1.79",
            "File: HFTS2_20190412_044833_040<br>Magnitude: -2.29",
            "File: HFTS2_20190412_044841_040<br>Magnitude: -2.80",
            "File: HFTS2_20190412_044842_040<br>Magnitude: -2.24",
            "File: HFTS2_20190412_044903_040<br>Magnitude: -2.53",
            "File: HFTS2_20190412_044914_040<br>Magnitude: -2.58",
            "File: HFTS2_20190412_044945_040<br>Magnitude: -2.34",
            "File: HFTS2_20190412_044957_040<br>Magnitude: -2.58",
            "File: HFTS2_20190412_045027_040<br>Magnitude: -2.54",
            "File: HFTS2_20190412_045029_040<br>Magnitude: -2.63",
            "File: HFTS2_20190412_045035_040<br>Magnitude: -2.49",
            "File: HFTS2_20190412_045126_040<br>Magnitude: -2.40",
            "File: HFTS2_20190412_045127_040<br>Magnitude: -2.66",
            "File: HFTS2_20190412_045157_040<br>Magnitude: -2.08",
            "File: HFTS2_20190412_045254_040<br>Magnitude: -2.98",
            "File: HFTS2_20190412_045333_040<br>Magnitude: -2.15",
            "File: HFTS2_20190412_045344_040<br>Magnitude: -2.72",
            "File: HFTS2_20190412_045434_040<br>Magnitude: -2.50",
            "File: HFTS2_20190412_045451_040<br>Magnitude: -2.17",
            "File: HFTS2_20190412_045457_040<br>Magnitude: -2.51",
            "File: HFTS2_20190412_045523_040<br>Magnitude: -2.33",
            "File: HFTS2_20190412_045526_040<br>Magnitude: -2.80",
            "File: HFTS2_20190412_045528_040<br>Magnitude: -2.65",
            "File: HFTS2_20190412_045530_040<br>Magnitude: -2.49",
            "File: HFTS2_20190412_045535_040<br>Magnitude: -2.52",
            "File: HFTS2_20190412_045537_040<br>Magnitude: -2.76",
            "File: HFTS2_20190412_045550_040<br>Magnitude: -2.54",
            "File: HFTS2_20190412_045558_040<br>Magnitude: -2.77",
            "File: HFTS2_20190412_045602_040<br>Magnitude: -2.00",
            "File: HFTS2_20190412_045604_040<br>Magnitude: -2.78",
            "File: HFTS2_20190412_045608_040<br>Magnitude: -2.12",
            "File: HFTS2_20190412_045611_040<br>Magnitude: -2.60",
            "File: HFTS2_20190412_045620_040<br>Magnitude: -2.31",
            "File: HFTS2_20190412_045630_040<br>Magnitude: -2.65",
            "File: HFTS2_20190412_045644_040<br>Magnitude: -2.50",
            "File: HFTS2_20190412_045716_040<br>Magnitude: -2.37",
            "File: HFTS2_20190412_045727_040<br>Magnitude: -2.57",
            "File: HFTS2_20190412_045809_040<br>Magnitude: -2.58",
            "File: HFTS2_20190412_045818_040<br>Magnitude: -2.67",
            "File: HFTS2_20190412_045840_040<br>Magnitude: -2.77",
            "File: HFTS2_20190412_045938_040<br>Magnitude: -2.77",
            "File: HFTS2_20190412_045943_040<br>Magnitude: -2.39",
            "File: HFTS2_20190412_045952_040<br>Magnitude: -2.52",
            "File: HFTS2_20190412_050004_040<br>Magnitude: -2.35",
            "File: HFTS2_20190412_050011_040<br>Magnitude: -2.47",
            "File: HFTS2_20190412_050036_040<br>Magnitude: -2.61",
            "File: HFTS2_20190412_050053_040<br>Magnitude: -2.92",
            "File: HFTS2_20190412_050100_040<br>Magnitude: -2.58",
            "File: HFTS2_20190412_050127_040<br>Magnitude: -2.58",
            "File: HFTS2_20190412_050128_040<br>Magnitude: -2.57",
            "File: HFTS2_20190412_050133_040<br>Magnitude: -2.77",
            "File: HFTS2_20190412_050147_040<br>Magnitude: -2.71",
            "File: HFTS2_20190412_050202_040<br>Magnitude: -2.88",
            "File: HFTS2_20190412_050221_040<br>Magnitude: -2.82",
            "File: HFTS2_20190412_050315_040<br>Magnitude: -2.47",
            "File: HFTS2_20190412_050325_040<br>Magnitude: -2.62",
            "File: HFTS2_20190412_050358_040<br>Magnitude: -2.78",
            "File: HFTS2_20190412_050425_040<br>Magnitude: -2.75",
            "File: HFTS2_20190412_050456_040<br>Magnitude: -2.44",
            "File: HFTS2_20190412_050534_040<br>Magnitude: -2.59",
            "File: HFTS2_20190412_050607_040<br>Magnitude: -2.54"
           ],
           "type": "scatter3d",
           "x": [
            954374.3026
           ],
           "y": [
            849255.9767
           ],
           "z": [
            8638.3989
           ]
          }
         ],
         "name": "2019-04-12 05:05:34.540000"
        },
        {
         "data": [
          {
           "marker": {
            "cmax": -1.6189,
            "cmin": -2.9802,
            "color": [
             -2.5434
            ],
            "colorscale": [
             [
              0,
              "#440154"
             ],
             [
              0.1111111111111111,
              "#482878"
             ],
             [
              0.2222222222222222,
              "#3e4989"
             ],
             [
              0.3333333333333333,
              "#31688e"
             ],
             [
              0.4444444444444444,
              "#26828e"
             ],
             [
              0.5555555555555556,
              "#1f9e89"
             ],
             [
              0.6666666666666666,
              "#35b779"
             ],
             [
              0.7777777777777778,
              "#6ece58"
             ],
             [
              0.8888888888888888,
              "#b5de2b"
             ],
             [
              1,
              "#fde725"
             ]
            ],
            "size": [
             254.34
            ],
            "sizemode": "diameter",
            "sizeref": 25
           },
           "mode": "markers",
           "text": [
            "File: HFTS2_20190412_042831_040<br>Magnitude: -2.77",
            "File: HFTS2_20190412_042832_040<br>Magnitude: -2.73",
            "File: HFTS2_20190412_042833_040<br>Magnitude: -2.65",
            "File: HFTS2_20190412_042835_040<br>Magnitude: -2.65",
            "File: HFTS2_20190412_043437_040<br>Magnitude: -2.56",
            "File: HFTS2_20190412_043802_040<br>Magnitude: -2.35",
            "File: HFTS2_20190412_043803_040<br>Magnitude: -2.22",
            "File: HFTS2_20190412_044156_040<br>Magnitude: -2.03",
            "File: HFTS2_20190412_044403_040<br>Magnitude: -2.39",
            "File: HFTS2_20190412_044404_040<br>Magnitude: -2.10",
            "File: HFTS2_20190412_044435_040_Merged<br>Magnitude: -2.47",
            "File: HFTS2_20190412_044506_040<br>Magnitude: -2.32",
            "File: HFTS2_20190412_044516_040<br>Magnitude: -1.97",
            "File: HFTS2_20190412_044521_040<br>Magnitude: -2.07",
            "File: HFTS2_20190412_044522_040<br>Magnitude: -2.47",
            "File: HFTS2_20190412_044526_040<br>Magnitude: -2.74",
            "File: HFTS2_20190412_044540_040<br>Magnitude: -2.21",
            "File: HFTS2_20190412_044542_040<br>Magnitude: -2.56",
            "File: HFTS2_20190412_044543_040<br>Magnitude: -2.36",
            "File: HFTS2_20190412_044544_040<br>Magnitude: -2.59",
            "File: HFTS2_20190412_044545_040<br>Magnitude: -2.60",
            "File: HFTS2_20190412_044605_040<br>Magnitude: -2.71",
            "File: HFTS2_20190412_044619_040<br>Magnitude: -2.54",
            "File: HFTS2_20190412_044620_040<br>Magnitude: -1.81",
            "File: HFTS2_20190412_044623_040<br>Magnitude: -2.21",
            "File: HFTS2_20190412_044643_040<br>Magnitude: -2.30",
            "File: HFTS2_20190412_044647_040<br>Magnitude: -2.42",
            "File: HFTS2_20190412_044651_040<br>Magnitude: -2.46",
            "File: HFTS2_20190412_044659_040_Merged<br>Magnitude: -1.62",
            "File: HFTS2_20190412_044707_040<br>Magnitude: -2.09",
            "File: HFTS2_20190412_044731_040<br>Magnitude: -2.70",
            "File: HFTS2_20190412_044737_040<br>Magnitude: -2.41",
            "File: HFTS2_20190412_044741_040<br>Magnitude: -2.63",
            "File: HFTS2_20190412_044757_040<br>Magnitude: -2.12",
            "File: HFTS2_20190412_044759_040<br>Magnitude: -2.07",
            "File: HFTS2_20190412_044800_040<br>Magnitude: -2.53",
            "File: HFTS2_20190412_044803_040<br>Magnitude: -2.61",
            "File: HFTS2_20190412_044816_040<br>Magnitude: -2.12",
            "File: HFTS2_20190412_044822_040<br>Magnitude: -2.06",
            "File: HFTS2_20190412_044824_040<br>Magnitude: -2.02",
            "File: HFTS2_20190412_044829_040<br>Magnitude: -1.79",
            "File: HFTS2_20190412_044833_040<br>Magnitude: -2.29",
            "File: HFTS2_20190412_044841_040<br>Magnitude: -2.80",
            "File: HFTS2_20190412_044842_040<br>Magnitude: -2.24",
            "File: HFTS2_20190412_044903_040<br>Magnitude: -2.53",
            "File: HFTS2_20190412_044914_040<br>Magnitude: -2.58",
            "File: HFTS2_20190412_044945_040<br>Magnitude: -2.34",
            "File: HFTS2_20190412_044957_040<br>Magnitude: -2.58",
            "File: HFTS2_20190412_045027_040<br>Magnitude: -2.54",
            "File: HFTS2_20190412_045029_040<br>Magnitude: -2.63",
            "File: HFTS2_20190412_045035_040<br>Magnitude: -2.49",
            "File: HFTS2_20190412_045126_040<br>Magnitude: -2.40",
            "File: HFTS2_20190412_045127_040<br>Magnitude: -2.66",
            "File: HFTS2_20190412_045157_040<br>Magnitude: -2.08",
            "File: HFTS2_20190412_045254_040<br>Magnitude: -2.98",
            "File: HFTS2_20190412_045333_040<br>Magnitude: -2.15",
            "File: HFTS2_20190412_045344_040<br>Magnitude: -2.72",
            "File: HFTS2_20190412_045434_040<br>Magnitude: -2.50",
            "File: HFTS2_20190412_045451_040<br>Magnitude: -2.17",
            "File: HFTS2_20190412_045457_040<br>Magnitude: -2.51",
            "File: HFTS2_20190412_045523_040<br>Magnitude: -2.33",
            "File: HFTS2_20190412_045526_040<br>Magnitude: -2.80",
            "File: HFTS2_20190412_045528_040<br>Magnitude: -2.65",
            "File: HFTS2_20190412_045530_040<br>Magnitude: -2.49",
            "File: HFTS2_20190412_045535_040<br>Magnitude: -2.52",
            "File: HFTS2_20190412_045537_040<br>Magnitude: -2.76",
            "File: HFTS2_20190412_045550_040<br>Magnitude: -2.54",
            "File: HFTS2_20190412_045558_040<br>Magnitude: -2.77",
            "File: HFTS2_20190412_045602_040<br>Magnitude: -2.00",
            "File: HFTS2_20190412_045604_040<br>Magnitude: -2.78",
            "File: HFTS2_20190412_045608_040<br>Magnitude: -2.12",
            "File: HFTS2_20190412_045611_040<br>Magnitude: -2.60",
            "File: HFTS2_20190412_045620_040<br>Magnitude: -2.31",
            "File: HFTS2_20190412_045630_040<br>Magnitude: -2.65",
            "File: HFTS2_20190412_045644_040<br>Magnitude: -2.50",
            "File: HFTS2_20190412_045716_040<br>Magnitude: -2.37",
            "File: HFTS2_20190412_045727_040<br>Magnitude: -2.57",
            "File: HFTS2_20190412_045809_040<br>Magnitude: -2.58",
            "File: HFTS2_20190412_045818_040<br>Magnitude: -2.67",
            "File: HFTS2_20190412_045840_040<br>Magnitude: -2.77",
            "File: HFTS2_20190412_045938_040<br>Magnitude: -2.77",
            "File: HFTS2_20190412_045943_040<br>Magnitude: -2.39",
            "File: HFTS2_20190412_045952_040<br>Magnitude: -2.52",
            "File: HFTS2_20190412_050004_040<br>Magnitude: -2.35",
            "File: HFTS2_20190412_050011_040<br>Magnitude: -2.47",
            "File: HFTS2_20190412_050036_040<br>Magnitude: -2.61",
            "File: HFTS2_20190412_050053_040<br>Magnitude: -2.92",
            "File: HFTS2_20190412_050100_040<br>Magnitude: -2.58",
            "File: HFTS2_20190412_050127_040<br>Magnitude: -2.58",
            "File: HFTS2_20190412_050128_040<br>Magnitude: -2.57",
            "File: HFTS2_20190412_050133_040<br>Magnitude: -2.77",
            "File: HFTS2_20190412_050147_040<br>Magnitude: -2.71",
            "File: HFTS2_20190412_050202_040<br>Magnitude: -2.88",
            "File: HFTS2_20190412_050221_040<br>Magnitude: -2.82",
            "File: HFTS2_20190412_050315_040<br>Magnitude: -2.47",
            "File: HFTS2_20190412_050325_040<br>Magnitude: -2.62",
            "File: HFTS2_20190412_050358_040<br>Magnitude: -2.78",
            "File: HFTS2_20190412_050425_040<br>Magnitude: -2.75",
            "File: HFTS2_20190412_050456_040<br>Magnitude: -2.44",
            "File: HFTS2_20190412_050534_040<br>Magnitude: -2.59",
            "File: HFTS2_20190412_050607_040<br>Magnitude: -2.54"
           ],
           "type": "scatter3d",
           "x": [
            954418.9454
           ],
           "y": [
            849182.8134
           ],
           "z": [
            8777.6914
           ]
          }
         ],
         "name": "2019-04-12 05:06:07.634000"
        }
       ],
       "layout": {
        "height": 800,
        "scene": {
         "aspectratio": {
          "x": 1,
          "y": 0.3674032984433366,
          "z": 0.5634973808523117
         },
         "xaxis": {
          "range": [
           953868.4759,
           955411.1915
          ],
          "title": {
           "text": "Easting (ft)"
          }
         },
         "yaxis": {
          "range": [
           848816.7912,
           849383.59
          ],
          "title": {
           "text": "Northing (ft)"
          }
         },
         "zaxis": {
          "range": [
           8034.4346,
           8903.7508
          ],
          "title": {
           "text": "Depth TVDSS (ft)"
          }
         }
        },
        "sliders": [
         {
          "active": 0,
          "currentvalue": {
           "font": {
            "size": 20
           },
           "prefix": "Time: ",
           "visible": true,
           "xanchor": "center"
          },
          "pad": {
           "b": 10
          },
          "steps": [
           {
            "args": [
             [
              "2019-04-12 04:28:31.161000"
             ],
             {
              "frame": {
               "duration": 300,
               "redraw": true
              },
              "mode": "immediate",
              "transition": {
               "duration": 300
              }
             }
            ],
            "label": "2019-04-12 04:28:31.161000",
            "method": "animate"
           },
           {
            "args": [
             [
              "2019-04-12 04:28:32.615000"
             ],
             {
              "frame": {
               "duration": 300,
               "redraw": true
              },
              "mode": "immediate",
              "transition": {
               "duration": 300
              }
             }
            ],
            "label": "2019-04-12 04:28:32.615000",
            "method": "animate"
           },
           {
            "args": [
             [
              "2019-04-12 04:28:33.696000"
             ],
             {
              "frame": {
               "duration": 300,
               "redraw": true
              },
              "mode": "immediate",
              "transition": {
               "duration": 300
              }
             }
            ],
            "label": "2019-04-12 04:28:33.696000",
            "method": "animate"
           },
           {
            "args": [
             [
              "2019-04-12 04:28:35.409000"
             ],
             {
              "frame": {
               "duration": 300,
               "redraw": true
              },
              "mode": "immediate",
              "transition": {
               "duration": 300
              }
             }
            ],
            "label": "2019-04-12 04:28:35.409000",
            "method": "animate"
           },
           {
            "args": [
             [
              "2019-04-12 04:34:37.717000"
             ],
             {
              "frame": {
               "duration": 300,
               "redraw": true
              },
              "mode": "immediate",
              "transition": {
               "duration": 300
              }
             }
            ],
            "label": "2019-04-12 04:34:37.717000",
            "method": "animate"
           },
           {
            "args": [
             [
              "2019-04-12 04:38:02.313000"
             ],
             {
              "frame": {
               "duration": 300,
               "redraw": true
              },
              "mode": "immediate",
              "transition": {
               "duration": 300
              }
             }
            ],
            "label": "2019-04-12 04:38:02.313000",
            "method": "animate"
           },
           {
            "args": [
             [
              "2019-04-12 04:38:03.200000"
             ],
             {
              "frame": {
               "duration": 300,
               "redraw": true
              },
              "mode": "immediate",
              "transition": {
               "duration": 300
              }
             }
            ],
            "label": "2019-04-12 04:38:03.200000",
            "method": "animate"
           },
           {
            "args": [
             [
              "2019-04-12 04:41:56.351000"
             ],
             {
              "frame": {
               "duration": 300,
               "redraw": true
              },
              "mode": "immediate",
              "transition": {
               "duration": 300
              }
             }
            ],
            "label": "2019-04-12 04:41:56.351000",
            "method": "animate"
           },
           {
            "args": [
             [
              "2019-04-12 04:44:03.797000"
             ],
             {
              "frame": {
               "duration": 300,
               "redraw": true
              },
              "mode": "immediate",
              "transition": {
               "duration": 300
              }
             }
            ],
            "label": "2019-04-12 04:44:03.797000",
            "method": "animate"
           },
           {
            "args": [
             [
              "2019-04-12 04:44:04.199000"
             ],
             {
              "frame": {
               "duration": 300,
               "redraw": true
              },
              "mode": "immediate",
              "transition": {
               "duration": 300
              }
             }
            ],
            "label": "2019-04-12 04:44:04.199000",
            "method": "animate"
           },
           {
            "args": [
             [
              "2019-04-12 04:44:35.917000"
             ],
             {
              "frame": {
               "duration": 300,
               "redraw": true
              },
              "mode": "immediate",
              "transition": {
               "duration": 300
              }
             }
            ],
            "label": "2019-04-12 04:44:35.917000",
            "method": "animate"
           },
           {
            "args": [
             [
              "2019-04-12 04:45:06.255000"
             ],
             {
              "frame": {
               "duration": 300,
               "redraw": true
              },
              "mode": "immediate",
              "transition": {
               "duration": 300
              }
             }
            ],
            "label": "2019-04-12 04:45:06.255000",
            "method": "animate"
           },
           {
            "args": [
             [
              "2019-04-12 04:45:16.003000"
             ],
             {
              "frame": {
               "duration": 300,
               "redraw": true
              },
              "mode": "immediate",
              "transition": {
               "duration": 300
              }
             }
            ],
            "label": "2019-04-12 04:45:16.003000",
            "method": "animate"
           },
           {
            "args": [
             [
              "2019-04-12 04:45:21.466000"
             ],
             {
              "frame": {
               "duration": 300,
               "redraw": true
              },
              "mode": "immediate",
              "transition": {
               "duration": 300
              }
             }
            ],
            "label": "2019-04-12 04:45:21.466000",
            "method": "animate"
           },
           {
            "args": [
             [
              "2019-04-12 04:45:22.695000"
             ],
             {
              "frame": {
               "duration": 300,
               "redraw": true
              },
              "mode": "immediate",
              "transition": {
               "duration": 300
              }
             }
            ],
            "label": "2019-04-12 04:45:22.695000",
            "method": "animate"
           },
           {
            "args": [
             [
              "2019-04-12 04:45:26.233000"
             ],
             {
              "frame": {
               "duration": 300,
               "redraw": true
              },
              "mode": "immediate",
              "transition": {
               "duration": 300
              }
             }
            ],
            "label": "2019-04-12 04:45:26.233000",
            "method": "animate"
           },
           {
            "args": [
             [
              "2019-04-12 04:45:40.018000"
             ],
             {
              "frame": {
               "duration": 300,
               "redraw": true
              },
              "mode": "immediate",
              "transition": {
               "duration": 300
              }
             }
            ],
            "label": "2019-04-12 04:45:40.018000",
            "method": "animate"
           },
           {
            "args": [
             [
              "2019-04-12 04:45:41.994000"
             ],
             {
              "frame": {
               "duration": 300,
               "redraw": true
              },
              "mode": "immediate",
              "transition": {
               "duration": 300
              }
             }
            ],
            "label": "2019-04-12 04:45:41.994000",
            "method": "animate"
           },
           {
            "args": [
             [
              "2019-04-12 04:45:43.657000"
             ],
             {
              "frame": {
               "duration": 300,
               "redraw": true
              },
              "mode": "immediate",
              "transition": {
               "duration": 300
              }
             }
            ],
            "label": "2019-04-12 04:45:43.657000",
            "method": "animate"
           },
           {
            "args": [
             [
              "2019-04-12 04:45:44.561000"
             ],
             {
              "frame": {
               "duration": 300,
               "redraw": true
              },
              "mode": "immediate",
              "transition": {
               "duration": 300
              }
             }
            ],
            "label": "2019-04-12 04:45:44.561000",
            "method": "animate"
           },
           {
            "args": [
             [
              "2019-04-12 04:45:45.239000"
             ],
             {
              "frame": {
               "duration": 300,
               "redraw": true
              },
              "mode": "immediate",
              "transition": {
               "duration": 300
              }
             }
            ],
            "label": "2019-04-12 04:45:45.239000",
            "method": "animate"
           },
           {
            "args": [
             [
              "2019-04-12 04:46:05.590000"
             ],
             {
              "frame": {
               "duration": 300,
               "redraw": true
              },
              "mode": "immediate",
              "transition": {
               "duration": 300
              }
             }
            ],
            "label": "2019-04-12 04:46:05.590000",
            "method": "animate"
           },
           {
            "args": [
             [
              "2019-04-12 04:46:19.644000"
             ],
             {
              "frame": {
               "duration": 300,
               "redraw": true
              },
              "mode": "immediate",
              "transition": {
               "duration": 300
              }
             }
            ],
            "label": "2019-04-12 04:46:19.644000",
            "method": "animate"
           },
           {
            "args": [
             [
              "2019-04-12 04:46:20.914000"
             ],
             {
              "frame": {
               "duration": 300,
               "redraw": true
              },
              "mode": "immediate",
              "transition": {
               "duration": 300
              }
             }
            ],
            "label": "2019-04-12 04:46:20.914000",
            "method": "animate"
           },
           {
            "args": [
             [
              "2019-04-12 04:46:23.030000"
             ],
             {
              "frame": {
               "duration": 300,
               "redraw": true
              },
              "mode": "immediate",
              "transition": {
               "duration": 300
              }
             }
            ],
            "label": "2019-04-12 04:46:23.030000",
            "method": "animate"
           },
           {
            "args": [
             [
              "2019-04-12 04:46:43.808000"
             ],
             {
              "frame": {
               "duration": 300,
               "redraw": true
              },
              "mode": "immediate",
              "transition": {
               "duration": 300
              }
             }
            ],
            "label": "2019-04-12 04:46:43.808000",
            "method": "animate"
           },
           {
            "args": [
             [
              "2019-04-12 04:46:47.432000"
             ],
             {
              "frame": {
               "duration": 300,
               "redraw": true
              },
              "mode": "immediate",
              "transition": {
               "duration": 300
              }
             }
            ],
            "label": "2019-04-12 04:46:47.432000",
            "method": "animate"
           },
           {
            "args": [
             [
              "2019-04-12 04:46:51.445000"
             ],
             {
              "frame": {
               "duration": 300,
               "redraw": true
              },
              "mode": "immediate",
              "transition": {
               "duration": 300
              }
             }
            ],
            "label": "2019-04-12 04:46:51.445000",
            "method": "animate"
           },
           {
            "args": [
             [
              "2019-04-12 04:46:59.933000"
             ],
             {
              "frame": {
               "duration": 300,
               "redraw": true
              },
              "mode": "immediate",
              "transition": {
               "duration": 300
              }
             }
            ],
            "label": "2019-04-12 04:46:59.933000",
            "method": "animate"
           },
           {
            "args": [
             [
              "2019-04-12 04:47:07.108000"
             ],
             {
              "frame": {
               "duration": 300,
               "redraw": true
              },
              "mode": "immediate",
              "transition": {
               "duration": 300
              }
             }
            ],
            "label": "2019-04-12 04:47:07.108000",
            "method": "animate"
           },
           {
            "args": [
             [
              "2019-04-12 04:47:31.004000"
             ],
             {
              "frame": {
               "duration": 300,
               "redraw": true
              },
              "mode": "immediate",
              "transition": {
               "duration": 300
              }
             }
            ],
            "label": "2019-04-12 04:47:31.004000",
            "method": "animate"
           },
           {
            "args": [
             [
              "2019-04-12 04:47:37.422000"
             ],
             {
              "frame": {
               "duration": 300,
               "redraw": true
              },
              "mode": "immediate",
              "transition": {
               "duration": 300
              }
             }
            ],
            "label": "2019-04-12 04:47:37.422000",
            "method": "animate"
           },
           {
            "args": [
             [
              "2019-04-12 04:47:41.743000"
             ],
             {
              "frame": {
               "duration": 300,
               "redraw": true
              },
              "mode": "immediate",
              "transition": {
               "duration": 300
              }
             }
            ],
            "label": "2019-04-12 04:47:41.743000",
            "method": "animate"
           },
           {
            "args": [
             [
              "2019-04-12 04:47:57.424000"
             ],
             {
              "frame": {
               "duration": 300,
               "redraw": true
              },
              "mode": "immediate",
              "transition": {
               "duration": 300
              }
             }
            ],
            "label": "2019-04-12 04:47:57.424000",
            "method": "animate"
           },
           {
            "args": [
             [
              "2019-04-12 04:47:59.428000"
             ],
             {
              "frame": {
               "duration": 300,
               "redraw": true
              },
              "mode": "immediate",
              "transition": {
               "duration": 300
              }
             }
            ],
            "label": "2019-04-12 04:47:59.428000",
            "method": "animate"
           },
           {
            "args": [
             [
              "2019-04-12 04:48:00.266000"
             ],
             {
              "frame": {
               "duration": 300,
               "redraw": true
              },
              "mode": "immediate",
              "transition": {
               "duration": 300
              }
             }
            ],
            "label": "2019-04-12 04:48:00.266000",
            "method": "animate"
           },
           {
            "args": [
             [
              "2019-04-12 04:48:03.460000"
             ],
             {
              "frame": {
               "duration": 300,
               "redraw": true
              },
              "mode": "immediate",
              "transition": {
               "duration": 300
              }
             }
            ],
            "label": "2019-04-12 04:48:03.460000",
            "method": "animate"
           },
           {
            "args": [
             [
              "2019-04-12 04:48:16.529000"
             ],
             {
              "frame": {
               "duration": 300,
               "redraw": true
              },
              "mode": "immediate",
              "transition": {
               "duration": 300
              }
             }
            ],
            "label": "2019-04-12 04:48:16.529000",
            "method": "animate"
           },
           {
            "args": [
             [
              "2019-04-12 04:48:22.711000"
             ],
             {
              "frame": {
               "duration": 300,
               "redraw": true
              },
              "mode": "immediate",
              "transition": {
               "duration": 300
              }
             }
            ],
            "label": "2019-04-12 04:48:22.711000",
            "method": "animate"
           },
           {
            "args": [
             [
              "2019-04-12 04:48:24.579000"
             ],
             {
              "frame": {
               "duration": 300,
               "redraw": true
              },
              "mode": "immediate",
              "transition": {
               "duration": 300
              }
             }
            ],
            "label": "2019-04-12 04:48:24.579000",
            "method": "animate"
           },
           {
            "args": [
             [
              "2019-04-12 04:48:29.504000"
             ],
             {
              "frame": {
               "duration": 300,
               "redraw": true
              },
              "mode": "immediate",
              "transition": {
               "duration": 300
              }
             }
            ],
            "label": "2019-04-12 04:48:29.504000",
            "method": "animate"
           },
           {
            "args": [
             [
              "2019-04-12 04:48:33.396000"
             ],
             {
              "frame": {
               "duration": 300,
               "redraw": true
              },
              "mode": "immediate",
              "transition": {
               "duration": 300
              }
             }
            ],
            "label": "2019-04-12 04:48:33.396000",
            "method": "animate"
           },
           {
            "args": [
             [
              "2019-04-12 04:48:41.820000"
             ],
             {
              "frame": {
               "duration": 300,
               "redraw": true
              },
              "mode": "immediate",
              "transition": {
               "duration": 300
              }
             }
            ],
            "label": "2019-04-12 04:48:41.820000",
            "method": "animate"
           },
           {
            "args": [
             [
              "2019-04-12 04:48:42.470000"
             ],
             {
              "frame": {
               "duration": 300,
               "redraw": true
              },
              "mode": "immediate",
              "transition": {
               "duration": 300
              }
             }
            ],
            "label": "2019-04-12 04:48:42.470000",
            "method": "animate"
           },
           {
            "args": [
             [
              "2019-04-12 04:49:03.792000"
             ],
             {
              "frame": {
               "duration": 300,
               "redraw": true
              },
              "mode": "immediate",
              "transition": {
               "duration": 300
              }
             }
            ],
            "label": "2019-04-12 04:49:03.792000",
            "method": "animate"
           },
           {
            "args": [
             [
              "2019-04-12 04:49:14.699000"
             ],
             {
              "frame": {
               "duration": 300,
               "redraw": true
              },
              "mode": "immediate",
              "transition": {
               "duration": 300
              }
             }
            ],
            "label": "2019-04-12 04:49:14.699000",
            "method": "animate"
           },
           {
            "args": [
             [
              "2019-04-12 04:49:45.609000"
             ],
             {
              "frame": {
               "duration": 300,
               "redraw": true
              },
              "mode": "immediate",
              "transition": {
               "duration": 300
              }
             }
            ],
            "label": "2019-04-12 04:49:45.609000",
            "method": "animate"
           },
           {
            "args": [
             [
              "2019-04-12 04:49:57.635000"
             ],
             {
              "frame": {
               "duration": 300,
               "redraw": true
              },
              "mode": "immediate",
              "transition": {
               "duration": 300
              }
             }
            ],
            "label": "2019-04-12 04:49:57.635000",
            "method": "animate"
           },
           {
            "args": [
             [
              "2019-04-12 04:50:27.205000"
             ],
             {
              "frame": {
               "duration": 300,
               "redraw": true
              },
              "mode": "immediate",
              "transition": {
               "duration": 300
              }
             }
            ],
            "label": "2019-04-12 04:50:27.205000",
            "method": "animate"
           },
           {
            "args": [
             [
              "2019-04-12 04:50:29.182000"
             ],
             {
              "frame": {
               "duration": 300,
               "redraw": true
              },
              "mode": "immediate",
              "transition": {
               "duration": 300
              }
             }
            ],
            "label": "2019-04-12 04:50:29.182000",
            "method": "animate"
           },
           {
            "args": [
             [
              "2019-04-12 04:50:35.599000"
             ],
             {
              "frame": {
               "duration": 300,
               "redraw": true
              },
              "mode": "immediate",
              "transition": {
               "duration": 300
              }
             }
            ],
            "label": "2019-04-12 04:50:35.599000",
            "method": "animate"
           },
           {
            "args": [
             [
              "2019-04-12 04:51:26.036000"
             ],
             {
              "frame": {
               "duration": 300,
               "redraw": true
              },
              "mode": "immediate",
              "transition": {
               "duration": 300
              }
             }
            ],
            "label": "2019-04-12 04:51:26.036000",
            "method": "animate"
           },
           {
            "args": [
             [
              "2019-04-12 04:51:27.326000"
             ],
             {
              "frame": {
               "duration": 300,
               "redraw": true
              },
              "mode": "immediate",
              "transition": {
               "duration": 300
              }
             }
            ],
            "label": "2019-04-12 04:51:27.326000",
            "method": "animate"
           },
           {
            "args": [
             [
              "2019-04-12 04:51:57.741000"
             ],
             {
              "frame": {
               "duration": 300,
               "redraw": true
              },
              "mode": "immediate",
              "transition": {
               "duration": 300
              }
             }
            ],
            "label": "2019-04-12 04:51:57.741000",
            "method": "animate"
           },
           {
            "args": [
             [
              "2019-04-12 04:52:54.713000"
             ],
             {
              "frame": {
               "duration": 300,
               "redraw": true
              },
              "mode": "immediate",
              "transition": {
               "duration": 300
              }
             }
            ],
            "label": "2019-04-12 04:52:54.713000",
            "method": "animate"
           },
           {
            "args": [
             [
              "2019-04-12 04:53:33.178000"
             ],
             {
              "frame": {
               "duration": 300,
               "redraw": true
              },
              "mode": "immediate",
              "transition": {
               "duration": 300
              }
             }
            ],
            "label": "2019-04-12 04:53:33.178000",
            "method": "animate"
           },
           {
            "args": [
             [
              "2019-04-12 04:53:44.493000"
             ],
             {
              "frame": {
               "duration": 300,
               "redraw": true
              },
              "mode": "immediate",
              "transition": {
               "duration": 300
              }
             }
            ],
            "label": "2019-04-12 04:53:44.493000",
            "method": "animate"
           },
           {
            "args": [
             [
              "2019-04-12 04:54:34.312000"
             ],
             {
              "frame": {
               "duration": 300,
               "redraw": true
              },
              "mode": "immediate",
              "transition": {
               "duration": 300
              }
             }
            ],
            "label": "2019-04-12 04:54:34.312000",
            "method": "animate"
           },
           {
            "args": [
             [
              "2019-04-12 04:54:51.236000"
             ],
             {
              "frame": {
               "duration": 300,
               "redraw": true
              },
              "mode": "immediate",
              "transition": {
               "duration": 300
              }
             }
            ],
            "label": "2019-04-12 04:54:51.236000",
            "method": "animate"
           },
           {
            "args": [
             [
              "2019-04-12 04:54:57.544000"
             ],
             {
              "frame": {
               "duration": 300,
               "redraw": true
              },
              "mode": "immediate",
              "transition": {
               "duration": 300
              }
             }
            ],
            "label": "2019-04-12 04:54:57.544000",
            "method": "animate"
           },
           {
            "args": [
             [
              "2019-04-12 04:55:23.324000"
             ],
             {
              "frame": {
               "duration": 300,
               "redraw": true
              },
              "mode": "immediate",
              "transition": {
               "duration": 300
              }
             }
            ],
            "label": "2019-04-12 04:55:23.324000",
            "method": "animate"
           },
           {
            "args": [
             [
              "2019-04-12 04:55:26.761000"
             ],
             {
              "frame": {
               "duration": 300,
               "redraw": true
              },
              "mode": "immediate",
              "transition": {
               "duration": 300
              }
             }
            ],
            "label": "2019-04-12 04:55:26.761000",
            "method": "animate"
           },
           {
            "args": [
             [
              "2019-04-12 04:55:28.040000"
             ],
             {
              "frame": {
               "duration": 300,
               "redraw": true
              },
              "mode": "immediate",
              "transition": {
               "duration": 300
              }
             }
            ],
            "label": "2019-04-12 04:55:28.040000",
            "method": "animate"
           },
           {
            "args": [
             [
              "2019-04-12 04:55:30.012000"
             ],
             {
              "frame": {
               "duration": 300,
               "redraw": true
              },
              "mode": "immediate",
              "transition": {
               "duration": 300
              }
             }
            ],
            "label": "2019-04-12 04:55:30.012000",
            "method": "animate"
           },
           {
            "args": [
             [
              "2019-04-12 04:55:35.798000"
             ],
             {
              "frame": {
               "duration": 300,
               "redraw": true
              },
              "mode": "immediate",
              "transition": {
               "duration": 300
              }
             }
            ],
            "label": "2019-04-12 04:55:35.798000",
            "method": "animate"
           },
           {
            "args": [
             [
              "2019-04-12 04:55:37.028000"
             ],
             {
              "frame": {
               "duration": 300,
               "redraw": true
              },
              "mode": "immediate",
              "transition": {
               "duration": 300
              }
             }
            ],
            "label": "2019-04-12 04:55:37.028000",
            "method": "animate"
           },
           {
            "args": [
             [
              "2019-04-12 04:55:50.266000"
             ],
             {
              "frame": {
               "duration": 300,
               "redraw": true
              },
              "mode": "immediate",
              "transition": {
               "duration": 300
              }
             }
            ],
            "label": "2019-04-12 04:55:50.266000",
            "method": "animate"
           },
           {
            "args": [
             [
              "2019-04-12 04:55:58.142000"
             ],
             {
              "frame": {
               "duration": 300,
               "redraw": true
              },
              "mode": "immediate",
              "transition": {
               "duration": 300
              }
             }
            ],
            "label": "2019-04-12 04:55:58.142000",
            "method": "animate"
           },
           {
            "args": [
             [
              "2019-04-12 04:56:02.824000"
             ],
             {
              "frame": {
               "duration": 300,
               "redraw": true
              },
              "mode": "immediate",
              "transition": {
               "duration": 300
              }
             }
            ],
            "label": "2019-04-12 04:56:02.824000",
            "method": "animate"
           },
           {
            "args": [
             [
              "2019-04-12 04:56:04.787000"
             ],
             {
              "frame": {
               "duration": 300,
               "redraw": true
              },
              "mode": "immediate",
              "transition": {
               "duration": 300
              }
             }
            ],
            "label": "2019-04-12 04:56:04.787000",
            "method": "animate"
           },
           {
            "args": [
             [
              "2019-04-12 04:56:08.704000"
             ],
             {
              "frame": {
               "duration": 300,
               "redraw": true
              },
              "mode": "immediate",
              "transition": {
               "duration": 300
              }
             }
            ],
            "label": "2019-04-12 04:56:08.704000",
            "method": "animate"
           },
           {
            "args": [
             [
              "2019-04-12 04:56:11.408000"
             ],
             {
              "frame": {
               "duration": 300,
               "redraw": true
              },
              "mode": "immediate",
              "transition": {
               "duration": 300
              }
             }
            ],
            "label": "2019-04-12 04:56:11.408000",
            "method": "animate"
           },
           {
            "args": [
             [
              "2019-04-12 04:56:20.842000"
             ],
             {
              "frame": {
               "duration": 300,
               "redraw": true
              },
              "mode": "immediate",
              "transition": {
               "duration": 300
              }
             }
            ],
            "label": "2019-04-12 04:56:20.842000",
            "method": "animate"
           },
           {
            "args": [
             [
              "2019-04-12 04:56:30.585000"
             ],
             {
              "frame": {
               "duration": 300,
               "redraw": true
              },
              "mode": "immediate",
              "transition": {
               "duration": 300
              }
             }
            ],
            "label": "2019-04-12 04:56:30.585000",
            "method": "animate"
           },
           {
            "args": [
             [
              "2019-04-12 04:56:44.669000"
             ],
             {
              "frame": {
               "duration": 300,
               "redraw": true
              },
              "mode": "immediate",
              "transition": {
               "duration": 300
              }
             }
            ],
            "label": "2019-04-12 04:56:44.669000",
            "method": "animate"
           },
           {
            "args": [
             [
              "2019-04-12 04:57:16.313000"
             ],
             {
              "frame": {
               "duration": 300,
               "redraw": true
              },
              "mode": "immediate",
              "transition": {
               "duration": 300
              }
             }
            ],
            "label": "2019-04-12 04:57:16.313000",
            "method": "animate"
           },
           {
            "args": [
             [
              "2019-04-12 04:57:27.664000"
             ],
             {
              "frame": {
               "duration": 300,
               "redraw": true
              },
              "mode": "immediate",
              "transition": {
               "duration": 300
              }
             }
            ],
            "label": "2019-04-12 04:57:27.664000",
            "method": "animate"
           },
           {
            "args": [
             [
              "2019-04-12 04:58:09.828000"
             ],
             {
              "frame": {
               "duration": 300,
               "redraw": true
              },
              "mode": "immediate",
              "transition": {
               "duration": 300
              }
             }
            ],
            "label": "2019-04-12 04:58:09.828000",
            "method": "animate"
           },
           {
            "args": [
             [
              "2019-04-12 04:58:18.515000"
             ],
             {
              "frame": {
               "duration": 300,
               "redraw": true
              },
              "mode": "immediate",
              "transition": {
               "duration": 300
              }
             }
            ],
            "label": "2019-04-12 04:58:18.515000",
            "method": "animate"
           },
           {
            "args": [
             [
              "2019-04-12 04:58:40.442000"
             ],
             {
              "frame": {
               "duration": 300,
               "redraw": true
              },
              "mode": "immediate",
              "transition": {
               "duration": 300
              }
             }
            ],
            "label": "2019-04-12 04:58:40.442000",
            "method": "animate"
           },
           {
            "args": [
             [
              "2019-04-12 04:59:38.206000"
             ],
             {
              "frame": {
               "duration": 300,
               "redraw": true
              },
              "mode": "immediate",
              "transition": {
               "duration": 300
              }
             }
            ],
            "label": "2019-04-12 04:59:38.206000",
            "method": "animate"
           },
           {
            "args": [
             [
              "2019-04-12 04:59:43.131000"
             ],
             {
              "frame": {
               "duration": 300,
               "redraw": true
              },
              "mode": "immediate",
              "transition": {
               "duration": 300
              }
             }
            ],
            "label": "2019-04-12 04:59:43.131000",
            "method": "animate"
           },
           {
            "args": [
             [
              "2019-04-12 04:59:52.228000"
             ],
             {
              "frame": {
               "duration": 300,
               "redraw": true
              },
              "mode": "immediate",
              "transition": {
               "duration": 300
              }
             }
            ],
            "label": "2019-04-12 04:59:52.228000",
            "method": "animate"
           },
           {
            "args": [
             [
              "2019-04-12 05:00:04.865000"
             ],
             {
              "frame": {
               "duration": 300,
               "redraw": true
              },
              "mode": "immediate",
              "transition": {
               "duration": 300
              }
             }
            ],
            "label": "2019-04-12 05:00:04.865000",
            "method": "animate"
           },
           {
            "args": [
             [
              "2019-04-12 05:00:11.613000"
             ],
             {
              "frame": {
               "duration": 300,
               "redraw": true
              },
              "mode": "immediate",
              "transition": {
               "duration": 300
              }
             }
            ],
            "label": "2019-04-12 05:00:11.613000",
            "method": "animate"
           },
           {
            "args": [
             [
              "2019-04-12 05:00:36.666000"
             ],
             {
              "frame": {
               "duration": 300,
               "redraw": true
              },
              "mode": "immediate",
              "transition": {
               "duration": 300
              }
             }
            ],
            "label": "2019-04-12 05:00:36.666000",
            "method": "animate"
           },
           {
            "args": [
             [
              "2019-04-12 05:00:53.388000"
             ],
             {
              "frame": {
               "duration": 300,
               "redraw": true
              },
              "mode": "immediate",
              "transition": {
               "duration": 300
              }
             }
            ],
            "label": "2019-04-12 05:00:53.388000",
            "method": "animate"
           },
           {
            "args": [
             [
              "2019-04-12 05:01:00.599000"
             ],
             {
              "frame": {
               "duration": 300,
               "redraw": true
              },
              "mode": "immediate",
              "transition": {
               "duration": 300
              }
             }
            ],
            "label": "2019-04-12 05:01:00.599000",
            "method": "animate"
           },
           {
            "args": [
             [
              "2019-04-12 05:01:27.854000"
             ],
             {
              "frame": {
               "duration": 300,
               "redraw": true
              },
              "mode": "immediate",
              "transition": {
               "duration": 300
              }
             }
            ],
            "label": "2019-04-12 05:01:27.854000",
            "method": "animate"
           },
           {
            "args": [
             [
              "2019-04-12 05:01:28.488000"
             ],
             {
              "frame": {
               "duration": 300,
               "redraw": true
              },
              "mode": "immediate",
              "transition": {
               "duration": 300
              }
             }
            ],
            "label": "2019-04-12 05:01:28.488000",
            "method": "animate"
           },
           {
            "args": [
             [
              "2019-04-12 05:01:33.294000"
             ],
             {
              "frame": {
               "duration": 300,
               "redraw": true
              },
              "mode": "immediate",
              "transition": {
               "duration": 300
              }
             }
            ],
            "label": "2019-04-12 05:01:33.294000",
            "method": "animate"
           },
           {
            "args": [
             [
              "2019-04-12 05:01:47.392000"
             ],
             {
              "frame": {
               "duration": 300,
               "redraw": true
              },
              "mode": "immediate",
              "transition": {
               "duration": 300
              }
             }
            ],
            "label": "2019-04-12 05:01:47.392000",
            "method": "animate"
           },
           {
            "args": [
             [
              "2019-04-12 05:02:02.293000"
             ],
             {
              "frame": {
               "duration": 300,
               "redraw": true
              },
              "mode": "immediate",
              "transition": {
               "duration": 300
              }
             }
            ],
            "label": "2019-04-12 05:02:02.293000",
            "method": "animate"
           },
           {
            "args": [
             [
              "2019-04-12 05:02:21.288000"
             ],
             {
              "frame": {
               "duration": 300,
               "redraw": true
              },
              "mode": "immediate",
              "transition": {
               "duration": 300
              }
             }
            ],
            "label": "2019-04-12 05:02:21.288000",
            "method": "animate"
           },
           {
            "args": [
             [
              "2019-04-12 05:03:15.720000"
             ],
             {
              "frame": {
               "duration": 300,
               "redraw": true
              },
              "mode": "immediate",
              "transition": {
               "duration": 300
              }
             }
            ],
            "label": "2019-04-12 05:03:15.720000",
            "method": "animate"
           },
           {
            "args": [
             [
              "2019-04-12 05:03:25.219000"
             ],
             {
              "frame": {
               "duration": 300,
               "redraw": true
              },
              "mode": "immediate",
              "transition": {
               "duration": 300
              }
             }
            ],
            "label": "2019-04-12 05:03:25.219000",
            "method": "animate"
           },
           {
            "args": [
             [
              "2019-04-12 05:03:58.264000"
             ],
             {
              "frame": {
               "duration": 300,
               "redraw": true
              },
              "mode": "immediate",
              "transition": {
               "duration": 300
              }
             }
            ],
            "label": "2019-04-12 05:03:58.264000",
            "method": "animate"
           },
           {
            "args": [
             [
              "2019-04-12 05:04:25.771000"
             ],
             {
              "frame": {
               "duration": 300,
               "redraw": true
              },
              "mode": "immediate",
              "transition": {
               "duration": 300
              }
             }
            ],
            "label": "2019-04-12 05:04:25.771000",
            "method": "animate"
           },
           {
            "args": [
             [
              "2019-04-12 05:04:56.466000"
             ],
             {
              "frame": {
               "duration": 300,
               "redraw": true
              },
              "mode": "immediate",
              "transition": {
               "duration": 300
              }
             }
            ],
            "label": "2019-04-12 05:04:56.466000",
            "method": "animate"
           },
           {
            "args": [
             [
              "2019-04-12 05:05:34.540000"
             ],
             {
              "frame": {
               "duration": 300,
               "redraw": true
              },
              "mode": "immediate",
              "transition": {
               "duration": 300
              }
             }
            ],
            "label": "2019-04-12 05:05:34.540000",
            "method": "animate"
           },
           {
            "args": [
             [
              "2019-04-12 05:06:07.634000"
             ],
             {
              "frame": {
               "duration": 300,
               "redraw": true
              },
              "mode": "immediate",
              "transition": {
               "duration": 300
              }
             }
            ],
            "label": "2019-04-12 05:06:07.634000",
            "method": "animate"
           }
          ]
         }
        ],
        "template": {
         "data": {
          "bar": [
           {
            "error_x": {
             "color": "#2a3f5f"
            },
            "error_y": {
             "color": "#2a3f5f"
            },
            "marker": {
             "line": {
              "color": "#E5ECF6",
              "width": 0.5
             },
             "pattern": {
              "fillmode": "overlay",
              "size": 10,
              "solidity": 0.2
             }
            },
            "type": "bar"
           }
          ],
          "barpolar": [
           {
            "marker": {
             "line": {
              "color": "#E5ECF6",
              "width": 0.5
             },
             "pattern": {
              "fillmode": "overlay",
              "size": 10,
              "solidity": 0.2
             }
            },
            "type": "barpolar"
           }
          ],
          "carpet": [
           {
            "aaxis": {
             "endlinecolor": "#2a3f5f",
             "gridcolor": "white",
             "linecolor": "white",
             "minorgridcolor": "white",
             "startlinecolor": "#2a3f5f"
            },
            "baxis": {
             "endlinecolor": "#2a3f5f",
             "gridcolor": "white",
             "linecolor": "white",
             "minorgridcolor": "white",
             "startlinecolor": "#2a3f5f"
            },
            "type": "carpet"
           }
          ],
          "choropleth": [
           {
            "colorbar": {
             "outlinewidth": 0,
             "ticks": ""
            },
            "type": "choropleth"
           }
          ],
          "contour": [
           {
            "colorbar": {
             "outlinewidth": 0,
             "ticks": ""
            },
            "colorscale": [
             [
              0,
              "#0d0887"
             ],
             [
              0.1111111111111111,
              "#46039f"
             ],
             [
              0.2222222222222222,
              "#7201a8"
             ],
             [
              0.3333333333333333,
              "#9c179e"
             ],
             [
              0.4444444444444444,
              "#bd3786"
             ],
             [
              0.5555555555555556,
              "#d8576b"
             ],
             [
              0.6666666666666666,
              "#ed7953"
             ],
             [
              0.7777777777777778,
              "#fb9f3a"
             ],
             [
              0.8888888888888888,
              "#fdca26"
             ],
             [
              1,
              "#f0f921"
             ]
            ],
            "type": "contour"
           }
          ],
          "contourcarpet": [
           {
            "colorbar": {
             "outlinewidth": 0,
             "ticks": ""
            },
            "type": "contourcarpet"
           }
          ],
          "heatmap": [
           {
            "colorbar": {
             "outlinewidth": 0,
             "ticks": ""
            },
            "colorscale": [
             [
              0,
              "#0d0887"
             ],
             [
              0.1111111111111111,
              "#46039f"
             ],
             [
              0.2222222222222222,
              "#7201a8"
             ],
             [
              0.3333333333333333,
              "#9c179e"
             ],
             [
              0.4444444444444444,
              "#bd3786"
             ],
             [
              0.5555555555555556,
              "#d8576b"
             ],
             [
              0.6666666666666666,
              "#ed7953"
             ],
             [
              0.7777777777777778,
              "#fb9f3a"
             ],
             [
              0.8888888888888888,
              "#fdca26"
             ],
             [
              1,
              "#f0f921"
             ]
            ],
            "type": "heatmap"
           }
          ],
          "heatmapgl": [
           {
            "colorbar": {
             "outlinewidth": 0,
             "ticks": ""
            },
            "colorscale": [
             [
              0,
              "#0d0887"
             ],
             [
              0.1111111111111111,
              "#46039f"
             ],
             [
              0.2222222222222222,
              "#7201a8"
             ],
             [
              0.3333333333333333,
              "#9c179e"
             ],
             [
              0.4444444444444444,
              "#bd3786"
             ],
             [
              0.5555555555555556,
              "#d8576b"
             ],
             [
              0.6666666666666666,
              "#ed7953"
             ],
             [
              0.7777777777777778,
              "#fb9f3a"
             ],
             [
              0.8888888888888888,
              "#fdca26"
             ],
             [
              1,
              "#f0f921"
             ]
            ],
            "type": "heatmapgl"
           }
          ],
          "histogram": [
           {
            "marker": {
             "pattern": {
              "fillmode": "overlay",
              "size": 10,
              "solidity": 0.2
             }
            },
            "type": "histogram"
           }
          ],
          "histogram2d": [
           {
            "colorbar": {
             "outlinewidth": 0,
             "ticks": ""
            },
            "colorscale": [
             [
              0,
              "#0d0887"
             ],
             [
              0.1111111111111111,
              "#46039f"
             ],
             [
              0.2222222222222222,
              "#7201a8"
             ],
             [
              0.3333333333333333,
              "#9c179e"
             ],
             [
              0.4444444444444444,
              "#bd3786"
             ],
             [
              0.5555555555555556,
              "#d8576b"
             ],
             [
              0.6666666666666666,
              "#ed7953"
             ],
             [
              0.7777777777777778,
              "#fb9f3a"
             ],
             [
              0.8888888888888888,
              "#fdca26"
             ],
             [
              1,
              "#f0f921"
             ]
            ],
            "type": "histogram2d"
           }
          ],
          "histogram2dcontour": [
           {
            "colorbar": {
             "outlinewidth": 0,
             "ticks": ""
            },
            "colorscale": [
             [
              0,
              "#0d0887"
             ],
             [
              0.1111111111111111,
              "#46039f"
             ],
             [
              0.2222222222222222,
              "#7201a8"
             ],
             [
              0.3333333333333333,
              "#9c179e"
             ],
             [
              0.4444444444444444,
              "#bd3786"
             ],
             [
              0.5555555555555556,
              "#d8576b"
             ],
             [
              0.6666666666666666,
              "#ed7953"
             ],
             [
              0.7777777777777778,
              "#fb9f3a"
             ],
             [
              0.8888888888888888,
              "#fdca26"
             ],
             [
              1,
              "#f0f921"
             ]
            ],
            "type": "histogram2dcontour"
           }
          ],
          "mesh3d": [
           {
            "colorbar": {
             "outlinewidth": 0,
             "ticks": ""
            },
            "type": "mesh3d"
           }
          ],
          "parcoords": [
           {
            "line": {
             "colorbar": {
              "outlinewidth": 0,
              "ticks": ""
             }
            },
            "type": "parcoords"
           }
          ],
          "pie": [
           {
            "automargin": true,
            "type": "pie"
           }
          ],
          "scatter": [
           {
            "fillpattern": {
             "fillmode": "overlay",
             "size": 10,
             "solidity": 0.2
            },
            "type": "scatter"
           }
          ],
          "scatter3d": [
           {
            "line": {
             "colorbar": {
              "outlinewidth": 0,
              "ticks": ""
             }
            },
            "marker": {
             "colorbar": {
              "outlinewidth": 0,
              "ticks": ""
             }
            },
            "type": "scatter3d"
           }
          ],
          "scattercarpet": [
           {
            "marker": {
             "colorbar": {
              "outlinewidth": 0,
              "ticks": ""
             }
            },
            "type": "scattercarpet"
           }
          ],
          "scattergeo": [
           {
            "marker": {
             "colorbar": {
              "outlinewidth": 0,
              "ticks": ""
             }
            },
            "type": "scattergeo"
           }
          ],
          "scattergl": [
           {
            "marker": {
             "colorbar": {
              "outlinewidth": 0,
              "ticks": ""
             }
            },
            "type": "scattergl"
           }
          ],
          "scattermapbox": [
           {
            "marker": {
             "colorbar": {
              "outlinewidth": 0,
              "ticks": ""
             }
            },
            "type": "scattermapbox"
           }
          ],
          "scatterpolar": [
           {
            "marker": {
             "colorbar": {
              "outlinewidth": 0,
              "ticks": ""
             }
            },
            "type": "scatterpolar"
           }
          ],
          "scatterpolargl": [
           {
            "marker": {
             "colorbar": {
              "outlinewidth": 0,
              "ticks": ""
             }
            },
            "type": "scatterpolargl"
           }
          ],
          "scatterternary": [
           {
            "marker": {
             "colorbar": {
              "outlinewidth": 0,
              "ticks": ""
             }
            },
            "type": "scatterternary"
           }
          ],
          "surface": [
           {
            "colorbar": {
             "outlinewidth": 0,
             "ticks": ""
            },
            "colorscale": [
             [
              0,
              "#0d0887"
             ],
             [
              0.1111111111111111,
              "#46039f"
             ],
             [
              0.2222222222222222,
              "#7201a8"
             ],
             [
              0.3333333333333333,
              "#9c179e"
             ],
             [
              0.4444444444444444,
              "#bd3786"
             ],
             [
              0.5555555555555556,
              "#d8576b"
             ],
             [
              0.6666666666666666,
              "#ed7953"
             ],
             [
              0.7777777777777778,
              "#fb9f3a"
             ],
             [
              0.8888888888888888,
              "#fdca26"
             ],
             [
              1,
              "#f0f921"
             ]
            ],
            "type": "surface"
           }
          ],
          "table": [
           {
            "cells": {
             "fill": {
              "color": "#EBF0F8"
             },
             "line": {
              "color": "white"
             }
            },
            "header": {
             "fill": {
              "color": "#C8D4E3"
             },
             "line": {
              "color": "white"
             }
            },
            "type": "table"
           }
          ]
         },
         "layout": {
          "annotationdefaults": {
           "arrowcolor": "#2a3f5f",
           "arrowhead": 0,
           "arrowwidth": 1
          },
          "autotypenumbers": "strict",
          "coloraxis": {
           "colorbar": {
            "outlinewidth": 0,
            "ticks": ""
           }
          },
          "colorscale": {
           "diverging": [
            [
             0,
             "#8e0152"
            ],
            [
             0.1,
             "#c51b7d"
            ],
            [
             0.2,
             "#de77ae"
            ],
            [
             0.3,
             "#f1b6da"
            ],
            [
             0.4,
             "#fde0ef"
            ],
            [
             0.5,
             "#f7f7f7"
            ],
            [
             0.6,
             "#e6f5d0"
            ],
            [
             0.7,
             "#b8e186"
            ],
            [
             0.8,
             "#7fbc41"
            ],
            [
             0.9,
             "#4d9221"
            ],
            [
             1,
             "#276419"
            ]
           ],
           "sequential": [
            [
             0,
             "#0d0887"
            ],
            [
             0.1111111111111111,
             "#46039f"
            ],
            [
             0.2222222222222222,
             "#7201a8"
            ],
            [
             0.3333333333333333,
             "#9c179e"
            ],
            [
             0.4444444444444444,
             "#bd3786"
            ],
            [
             0.5555555555555556,
             "#d8576b"
            ],
            [
             0.6666666666666666,
             "#ed7953"
            ],
            [
             0.7777777777777778,
             "#fb9f3a"
            ],
            [
             0.8888888888888888,
             "#fdca26"
            ],
            [
             1,
             "#f0f921"
            ]
           ],
           "sequentialminus": [
            [
             0,
             "#0d0887"
            ],
            [
             0.1111111111111111,
             "#46039f"
            ],
            [
             0.2222222222222222,
             "#7201a8"
            ],
            [
             0.3333333333333333,
             "#9c179e"
            ],
            [
             0.4444444444444444,
             "#bd3786"
            ],
            [
             0.5555555555555556,
             "#d8576b"
            ],
            [
             0.6666666666666666,
             "#ed7953"
            ],
            [
             0.7777777777777778,
             "#fb9f3a"
            ],
            [
             0.8888888888888888,
             "#fdca26"
            ],
            [
             1,
             "#f0f921"
            ]
           ]
          },
          "colorway": [
           "#636efa",
           "#EF553B",
           "#00cc96",
           "#ab63fa",
           "#FFA15A",
           "#19d3f3",
           "#FF6692",
           "#B6E880",
           "#FF97FF",
           "#FECB52"
          ],
          "font": {
           "color": "#2a3f5f"
          },
          "geo": {
           "bgcolor": "white",
           "lakecolor": "white",
           "landcolor": "#E5ECF6",
           "showlakes": true,
           "showland": true,
           "subunitcolor": "white"
          },
          "hoverlabel": {
           "align": "left"
          },
          "hovermode": "closest",
          "mapbox": {
           "style": "light"
          },
          "paper_bgcolor": "white",
          "plot_bgcolor": "#E5ECF6",
          "polar": {
           "angularaxis": {
            "gridcolor": "white",
            "linecolor": "white",
            "ticks": ""
           },
           "bgcolor": "#E5ECF6",
           "radialaxis": {
            "gridcolor": "white",
            "linecolor": "white",
            "ticks": ""
           }
          },
          "scene": {
           "xaxis": {
            "backgroundcolor": "#E5ECF6",
            "gridcolor": "white",
            "gridwidth": 2,
            "linecolor": "white",
            "showbackground": true,
            "ticks": "",
            "zerolinecolor": "white"
           },
           "yaxis": {
            "backgroundcolor": "#E5ECF6",
            "gridcolor": "white",
            "gridwidth": 2,
            "linecolor": "white",
            "showbackground": true,
            "ticks": "",
            "zerolinecolor": "white"
           },
           "zaxis": {
            "backgroundcolor": "#E5ECF6",
            "gridcolor": "white",
            "gridwidth": 2,
            "linecolor": "white",
            "showbackground": true,
            "ticks": "",
            "zerolinecolor": "white"
           }
          },
          "shapedefaults": {
           "line": {
            "color": "#2a3f5f"
           }
          },
          "ternary": {
           "aaxis": {
            "gridcolor": "white",
            "linecolor": "white",
            "ticks": ""
           },
           "baxis": {
            "gridcolor": "white",
            "linecolor": "white",
            "ticks": ""
           },
           "bgcolor": "#E5ECF6",
           "caxis": {
            "gridcolor": "white",
            "linecolor": "white",
            "ticks": ""
           }
          },
          "title": {
           "x": 0.05
          },
          "xaxis": {
           "automargin": true,
           "gridcolor": "white",
           "linecolor": "white",
           "ticks": "",
           "title": {
            "standoff": 15
           },
           "zerolinecolor": "white",
           "zerolinewidth": 2
          },
          "yaxis": {
           "automargin": true,
           "gridcolor": "white",
           "linecolor": "white",
           "ticks": "",
           "title": {
            "standoff": 15
           },
           "zerolinecolor": "white",
           "zerolinewidth": 2
          }
         }
        },
        "title": {
         "text": "3D Bubble Chart of Individual Seismic Entries"
        },
        "updatemenus": [
         {
          "buttons": [
           {
            "args": [
             null,
             {
              "frame": {
               "duration": 300,
               "redraw": true
              },
              "fromcurrent": true,
              "mode": "immediate",
              "transition": {
               "duration": 300
              }
             }
            ],
            "label": "Play",
            "method": "animate"
           }
          ],
          "direction": "left",
          "pad": {
           "r": 10,
           "t": 87
          },
          "showactive": false,
          "type": "buttons",
          "x": 0.1,
          "xanchor": "right",
          "y": 0,
          "yanchor": "top"
         }
        ],
        "width": 800
       }
      }
     },
     "metadata": {},
     "output_type": "display_data"
    }
   ],
   "source": [
    "# Allow the user to input the relative file path for their dataset.\n",
    "#file_path = input(\"Please enter the file path to parse: \")\n",
    "file_path = 'data\\Borehole_Seismic_Aniso_Events_4H_AllStages_AllEvents_06112019.csv'\n",
    "\n",
    "# Create a viewer object to run the package.\n",
    "viewer = MSViewer()\n",
    "\n",
    "# Call the method to parse the file.\n",
    "viewer.load_and_parse(file_path)\n",
    "\n",
    "# Create the visualization.\n",
    "plot = viewer.create_plot()\n"
   ]
  },
  {
   "cell_type": "markdown",
   "metadata": {},
   "source": [
    "Run the visualization based on the given file."
   ]
  },
  {
   "cell_type": "code",
   "execution_count": null,
   "metadata": {},
   "outputs": [],
   "source": []
  },
  {
   "cell_type": "code",
   "execution_count": null,
   "metadata": {},
   "outputs": [],
   "source": []
  }
 ],
 "metadata": {
  "kernelspec": {
   "display_name": "env",
   "language": "python",
   "name": "python3"
  },
  "language_info": {
   "codemirror_mode": {
    "name": "ipython",
    "version": 3
   },
   "file_extension": ".py",
   "mimetype": "text/x-python",
   "name": "python",
   "nbconvert_exporter": "python",
   "pygments_lexer": "ipython3",
   "version": "3.13.1"
  }
 },
 "nbformat": 4,
 "nbformat_minor": 2
}
